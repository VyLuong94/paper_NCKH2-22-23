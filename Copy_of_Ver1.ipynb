{
  "cells": [
    {
      "cell_type": "code",
      "execution_count": null,
      "metadata": {
        "colab": {
          "base_uri": "https://localhost:8080/"
        },
        "id": "r1_eSlFAugL0",
        "outputId": "5db27fbb-2e48-47c6-cefc-e3df8976feb3"
      },
      "outputs": [
        {
          "output_type": "stream",
          "name": "stdout",
          "text": [
            "Mounted at /content/drive\n"
          ]
        }
      ],
      "source": [
        "from google.colab import drive\n",
        "drive.mount('/content/drive')"
      ]
    },
    {
      "cell_type": "code",
      "execution_count": null,
      "metadata": {
        "id": "s6pSJjVYIMAi"
      },
      "outputs": [],
      "source": [
        "from sklearn import model_selection\n",
        "from sklearn.linear_model import LogisticRegression\n",
        "from sklearn.model_selection import train_test_split\n",
        "from sklearn.linear_model import LinearRegression\n",
        "from sklearn.ensemble import RandomForestRegressor\n",
        "from sklearn.tree import DecisionTreeRegressor\n",
        "from sklearn.metrics import r2_score, mean_squared_error, mean_absolute_percentage_error, mean_absolute_error, mean_squared_log_error\n",
        "from tqdm import tqdm\n",
        "import pandas as pd\n",
        "import os\n",
        "import numpy as np"
      ]
    },
    {
      "cell_type": "markdown",
      "metadata": {
        "id": "TNjITOnToLbo"
      },
      "source": [
        "# Preprocess Data"
      ]
    },
    {
      "cell_type": "code",
      "execution_count": null,
      "metadata": {
        "colab": {
          "base_uri": "https://localhost:8080/"
        },
        "id": "xu8HKY8d70ta",
        "outputId": "763e3eb3-e4c9-4b48-83f4-fabc4a5b764f"
      },
      "outputs": [
        {
          "output_type": "stream",
          "name": "stdout",
          "text": [
            "/content/drive/.shortcut-targets-by-id/1sM7W-DhxB_yswKXliUhMIHFGpGzCSTex/ARIMA_LSTM\n"
          ]
        }
      ],
      "source": [
        "%cd /content/drive/MyDrive/Projects/Outsource/ARIMA_LSTM/"
      ]
    },
    {
      "cell_type": "code",
      "source": [
        "%cd /content/drive/MyDrive/ARIMA_LSTM/"
      ],
      "metadata": {
        "colab": {
          "base_uri": "https://localhost:8080/"
        },
        "id": "ZNx1RKjzVvuh",
        "outputId": "7b4f9d06-a413-4039-ee83-9aa22c73fdce"
      },
      "execution_count": null,
      "outputs": [
        {
          "output_type": "stream",
          "name": "stdout",
          "text": [
            "/content/drive/MyDrive/ARIMA_LSTM\n"
          ]
        }
      ]
    },
    {
      "cell_type": "code",
      "execution_count": null,
      "metadata": {
        "colab": {
          "base_uri": "https://localhost:8080/"
        },
        "id": "ewzUGJno-Pai",
        "outputId": "0a1b73ad-0deb-4a47-f6ce-1ca518414797"
      },
      "outputs": [
        {
          "output_type": "stream",
          "name": "stdout",
          "text": [
            " 300items_1-5.csv          Docs.gdoc\n",
            " 300items_30-4.csv         E_commerce_Analytics__Update_1.ipynb\n",
            " 300items.csv              \u001b[0m\u001b[01;34mmodel\u001b[0m/\n",
            " \u001b[01;34mckpt\u001b[0m/                     \u001b[01;34moutput\u001b[0m/\n",
            " \u001b[01;34mdata\u001b[0m/                    'Product 2023-04-13 17.18.45.csv'\n",
            " data_modified_1-5.csv    'Product 2023-04-13 17.18.48.zip'\n",
            " data_modified_19-04.csv  'Product Comments 2023-04-13 17.18.45.csv'\n",
            " data_modified_26-04.csv  'Product comments.csv'\n",
            " data_modified_30-04.csv   Ver1.ipynb\n"
          ]
        }
      ],
      "source": [
        "%ls"
      ]
    },
    {
      "cell_type": "code",
      "execution_count": null,
      "metadata": {
        "colab": {
          "base_uri": "https://localhost:8080/"
        },
        "id": "AZQAimpLvF1h",
        "outputId": "3f38fc64-407f-47a3-b9b7-043beeb6e304"
      },
      "outputs": [
        {
          "output_type": "stream",
          "name": "stderr",
          "text": [
            "<ipython-input-5-3fabbe9a6774>:3: DtypeWarning: Columns (6,7) have mixed types. Specify dtype option on import or set low_memory=False.\n",
            "  raw_comment = pd.read_csv('./data/Product Comments 2023-03-19 22.23.34.csv', on_bad_lines='skip', parse_dates=True)\n"
          ]
        }
      ],
      "source": [
        "raw_sold = pd.read_csv('./data/Product 2023-03-19 22.23.33.csv')\n",
        "\n",
        "raw_comment = pd.read_csv('./data/Product Comments 2023-03-19 22.23.34.csv', on_bad_lines='skip', parse_dates=True)"
      ]
    },
    {
      "cell_type": "code",
      "execution_count": null,
      "metadata": {
        "colab": {
          "base_uri": "https://localhost:8080/"
        },
        "id": "R6Su0609_e1L",
        "outputId": "8efaa381-353f-41b5-b620-028824947511"
      },
      "outputs": [
        {
          "output_type": "stream",
          "name": "stderr",
          "text": [
            "<ipython-input-21-e010cb57c335>:3: DtypeWarning: Columns (7) have mixed types. Specify dtype option on import or set low_memory=False.\n",
            "  raw_comment = pd.read_csv('Product Comments 2023-04-13 17.18.45.csv', on_bad_lines='skip', parse_dates=True)\n"
          ]
        }
      ],
      "source": [
        "raw_sold = pd.read_csv('Product 2023-04-13 17.18.45.csv')\n",
        "\n",
        "raw_comment = pd.read_csv('Product Comments 2023-04-13 17.18.45.csv', on_bad_lines='skip', parse_dates=True)"
      ]
    },
    {
      "cell_type": "code",
      "source": [
        "raw_sold = pd.read_csv('./data/Product 2023-03-19 22.23.33.csv')\n",
        "\n",
        "raw_comment_sentiment = pd.read_csv('Product comments.csv')"
      ],
      "metadata": {
        "id": "2oJOwF_7KSZh"
      },
      "execution_count": null,
      "outputs": []
    },
    {
      "cell_type": "code",
      "source": [
        "raw_comment_sentiment"
      ],
      "metadata": {
        "colab": {
          "base_uri": "https://localhost:8080/",
          "height": 658
        },
        "id": "Ht2a-AecKiIo",
        "outputId": "5e9977b9-01cd-4cc4-93be-b3c85d98adc0"
      },
      "execution_count": null,
      "outputs": [
        {
          "output_type": "execute_result",
          "data": {
            "text/plain": [
              "       Unnamed: 0  Item  ID Name Link  Number of Fetched Comments  \\\n",
              "0               2   NaN NaN  NaN  NaN                         NaN   \n",
              "1              13   NaN NaN  NaN  NaN                         NaN   \n",
              "2              20   NaN NaN  NaN  NaN                         NaN   \n",
              "3              21   NaN NaN  NaN  NaN                         NaN   \n",
              "4              45   NaN NaN  NaN  NaN                         NaN   \n",
              "...           ...   ...  ..  ...  ...                         ...   \n",
              "16350      302858   NaN NaN  NaN  NaN                         NaN   \n",
              "16351      302898   NaN NaN  NaN  NaN                         NaN   \n",
              "16352      302904   NaN NaN  NaN  NaN                         NaN   \n",
              "16353      303172   NaN NaN  NaN  NaN                         NaN   \n",
              "16354      303184   NaN NaN  NaN  NaN                         NaN   \n",
              "\n",
              "               Username  Comment time  Rating  \\\n",
              "0            7rfac745he  1.677037e+09     5.0   \n",
              "1      cattuong12_safia  1.676620e+09     5.0   \n",
              "2            zcuvpzlgb3  1.676218e+09     4.0   \n",
              "3            qh444g6ugl  1.675585e+09     5.0   \n",
              "4            ngalinh228  1.675693e+09     5.0   \n",
              "...                 ...           ...     ...   \n",
              "16350           2*****y  1.672494e+09     5.0   \n",
              "16351        23ki48se6r  1.676126e+09     5.0   \n",
              "16352          annath66  1.651838e+09     5.0   \n",
              "16353      khanhngan624  1.678445e+09     5.0   \n",
              "16354        hxj812p8j6  1.678797e+09     5.0   \n",
              "\n",
              "                                                Comments  \\\n",
              "0      Chất liệu:nỉ\\nMàu sắc:Hồng\\nĐúng với mô tả:đún...   \n",
              "1      Chất liệu:đc\\nMàu sắc:đc\\nĐúng với mô tả:khá\\n...   \n",
              "2      Đúng với mô tả:chiuu\\nChất liệu:k bt\\nMàu sắc:...   \n",
              "3      Chất liệu:nir\\nMàu sắc:hồng\\nĐúng với mô tả:ye...   \n",
              "4      Màu sắc:thoi đen\\nĐúng với mô tả:đúng\\nChất li...   \n",
              "...                                                  ...   \n",
              "16350  Màu sắc:be\\nĐúng với mô tả:oke\\nChất liệu:nhun...   \n",
              "16351  Chất liệu:vải thô\\nMàu sắc:be\\nĐúng với mô tả:...   \n",
              "16352  Áo xịn lắm\\nDầy mịn đẹp \\nForm rộng rãi to bự ...   \n",
              "16353  Chất liệu:dù hai lớp có túi trong\\nMàu sắc:xan...   \n",
              "16354  Đúng với mô tả:khá đúngg\\n\\nHàng od nên giao h...   \n",
              "\n",
              "                                                 comment  sentiment  \n",
              "0                                              mô tảđúng          2  \n",
              "1                                               mô tảkhá          2  \n",
              "2                                     màu sắc:hồng , đen          2  \n",
              "3                                          mô tảyes sure          2  \n",
              "4                                         chất liệu:vair          2  \n",
              "...                                                  ...        ...  \n",
              "16350  chất liệu:nhung , giao hàng nhanh , đúng với m...          2  \n",
              "16351                                    mô tảtuyệt dơig          2  \n",
              "16352  form rộng rãi to bự , săn sale 5/5 mua giá rất...          2  \n",
              "16353                                  mô tảđúng ảnh mẫu          2  \n",
              "16354         hàng od nên giao hơi lâu,đóng gói cẩn thận          1  \n",
              "\n",
              "[16355 rows x 12 columns]"
            ],
            "text/html": [
              "\n",
              "  <div id=\"df-c40caf9b-085f-4116-94bf-5964f7d07a7e\">\n",
              "    <div class=\"colab-df-container\">\n",
              "      <div>\n",
              "<style scoped>\n",
              "    .dataframe tbody tr th:only-of-type {\n",
              "        vertical-align: middle;\n",
              "    }\n",
              "\n",
              "    .dataframe tbody tr th {\n",
              "        vertical-align: top;\n",
              "    }\n",
              "\n",
              "    .dataframe thead th {\n",
              "        text-align: right;\n",
              "    }\n",
              "</style>\n",
              "<table border=\"1\" class=\"dataframe\">\n",
              "  <thead>\n",
              "    <tr style=\"text-align: right;\">\n",
              "      <th></th>\n",
              "      <th>Unnamed: 0</th>\n",
              "      <th>Item</th>\n",
              "      <th>ID</th>\n",
              "      <th>Name</th>\n",
              "      <th>Link</th>\n",
              "      <th>Number of Fetched Comments</th>\n",
              "      <th>Username</th>\n",
              "      <th>Comment time</th>\n",
              "      <th>Rating</th>\n",
              "      <th>Comments</th>\n",
              "      <th>comment</th>\n",
              "      <th>sentiment</th>\n",
              "    </tr>\n",
              "  </thead>\n",
              "  <tbody>\n",
              "    <tr>\n",
              "      <th>0</th>\n",
              "      <td>2</td>\n",
              "      <td>NaN</td>\n",
              "      <td>NaN</td>\n",
              "      <td>NaN</td>\n",
              "      <td>NaN</td>\n",
              "      <td>NaN</td>\n",
              "      <td>7rfac745he</td>\n",
              "      <td>1.677037e+09</td>\n",
              "      <td>5.0</td>\n",
              "      <td>Chất liệu:nỉ\\nMàu sắc:Hồng\\nĐúng với mô tả:đún...</td>\n",
              "      <td>mô tảđúng</td>\n",
              "      <td>2</td>\n",
              "    </tr>\n",
              "    <tr>\n",
              "      <th>1</th>\n",
              "      <td>13</td>\n",
              "      <td>NaN</td>\n",
              "      <td>NaN</td>\n",
              "      <td>NaN</td>\n",
              "      <td>NaN</td>\n",
              "      <td>NaN</td>\n",
              "      <td>cattuong12_safia</td>\n",
              "      <td>1.676620e+09</td>\n",
              "      <td>5.0</td>\n",
              "      <td>Chất liệu:đc\\nMàu sắc:đc\\nĐúng với mô tả:khá\\n...</td>\n",
              "      <td>mô tảkhá</td>\n",
              "      <td>2</td>\n",
              "    </tr>\n",
              "    <tr>\n",
              "      <th>2</th>\n",
              "      <td>20</td>\n",
              "      <td>NaN</td>\n",
              "      <td>NaN</td>\n",
              "      <td>NaN</td>\n",
              "      <td>NaN</td>\n",
              "      <td>NaN</td>\n",
              "      <td>zcuvpzlgb3</td>\n",
              "      <td>1.676218e+09</td>\n",
              "      <td>4.0</td>\n",
              "      <td>Đúng với mô tả:chiuu\\nChất liệu:k bt\\nMàu sắc:...</td>\n",
              "      <td>màu sắc:hồng , đen</td>\n",
              "      <td>2</td>\n",
              "    </tr>\n",
              "    <tr>\n",
              "      <th>3</th>\n",
              "      <td>21</td>\n",
              "      <td>NaN</td>\n",
              "      <td>NaN</td>\n",
              "      <td>NaN</td>\n",
              "      <td>NaN</td>\n",
              "      <td>NaN</td>\n",
              "      <td>qh444g6ugl</td>\n",
              "      <td>1.675585e+09</td>\n",
              "      <td>5.0</td>\n",
              "      <td>Chất liệu:nir\\nMàu sắc:hồng\\nĐúng với mô tả:ye...</td>\n",
              "      <td>mô tảyes sure</td>\n",
              "      <td>2</td>\n",
              "    </tr>\n",
              "    <tr>\n",
              "      <th>4</th>\n",
              "      <td>45</td>\n",
              "      <td>NaN</td>\n",
              "      <td>NaN</td>\n",
              "      <td>NaN</td>\n",
              "      <td>NaN</td>\n",
              "      <td>NaN</td>\n",
              "      <td>ngalinh228</td>\n",
              "      <td>1.675693e+09</td>\n",
              "      <td>5.0</td>\n",
              "      <td>Màu sắc:thoi đen\\nĐúng với mô tả:đúng\\nChất li...</td>\n",
              "      <td>chất liệu:vair</td>\n",
              "      <td>2</td>\n",
              "    </tr>\n",
              "    <tr>\n",
              "      <th>...</th>\n",
              "      <td>...</td>\n",
              "      <td>...</td>\n",
              "      <td>...</td>\n",
              "      <td>...</td>\n",
              "      <td>...</td>\n",
              "      <td>...</td>\n",
              "      <td>...</td>\n",
              "      <td>...</td>\n",
              "      <td>...</td>\n",
              "      <td>...</td>\n",
              "      <td>...</td>\n",
              "      <td>...</td>\n",
              "    </tr>\n",
              "    <tr>\n",
              "      <th>16350</th>\n",
              "      <td>302858</td>\n",
              "      <td>NaN</td>\n",
              "      <td>NaN</td>\n",
              "      <td>NaN</td>\n",
              "      <td>NaN</td>\n",
              "      <td>NaN</td>\n",
              "      <td>2*****y</td>\n",
              "      <td>1.672494e+09</td>\n",
              "      <td>5.0</td>\n",
              "      <td>Màu sắc:be\\nĐúng với mô tả:oke\\nChất liệu:nhun...</td>\n",
              "      <td>chất liệu:nhung , giao hàng nhanh , đúng với m...</td>\n",
              "      <td>2</td>\n",
              "    </tr>\n",
              "    <tr>\n",
              "      <th>16351</th>\n",
              "      <td>302898</td>\n",
              "      <td>NaN</td>\n",
              "      <td>NaN</td>\n",
              "      <td>NaN</td>\n",
              "      <td>NaN</td>\n",
              "      <td>NaN</td>\n",
              "      <td>23ki48se6r</td>\n",
              "      <td>1.676126e+09</td>\n",
              "      <td>5.0</td>\n",
              "      <td>Chất liệu:vải thô\\nMàu sắc:be\\nĐúng với mô tả:...</td>\n",
              "      <td>mô tảtuyệt dơig</td>\n",
              "      <td>2</td>\n",
              "    </tr>\n",
              "    <tr>\n",
              "      <th>16352</th>\n",
              "      <td>302904</td>\n",
              "      <td>NaN</td>\n",
              "      <td>NaN</td>\n",
              "      <td>NaN</td>\n",
              "      <td>NaN</td>\n",
              "      <td>NaN</td>\n",
              "      <td>annath66</td>\n",
              "      <td>1.651838e+09</td>\n",
              "      <td>5.0</td>\n",
              "      <td>Áo xịn lắm\\nDầy mịn đẹp \\nForm rộng rãi to bự ...</td>\n",
              "      <td>form rộng rãi to bự , săn sale 5/5 mua giá rất...</td>\n",
              "      <td>2</td>\n",
              "    </tr>\n",
              "    <tr>\n",
              "      <th>16353</th>\n",
              "      <td>303172</td>\n",
              "      <td>NaN</td>\n",
              "      <td>NaN</td>\n",
              "      <td>NaN</td>\n",
              "      <td>NaN</td>\n",
              "      <td>NaN</td>\n",
              "      <td>khanhngan624</td>\n",
              "      <td>1.678445e+09</td>\n",
              "      <td>5.0</td>\n",
              "      <td>Chất liệu:dù hai lớp có túi trong\\nMàu sắc:xan...</td>\n",
              "      <td>mô tảđúng ảnh mẫu</td>\n",
              "      <td>2</td>\n",
              "    </tr>\n",
              "    <tr>\n",
              "      <th>16354</th>\n",
              "      <td>303184</td>\n",
              "      <td>NaN</td>\n",
              "      <td>NaN</td>\n",
              "      <td>NaN</td>\n",
              "      <td>NaN</td>\n",
              "      <td>NaN</td>\n",
              "      <td>hxj812p8j6</td>\n",
              "      <td>1.678797e+09</td>\n",
              "      <td>5.0</td>\n",
              "      <td>Đúng với mô tả:khá đúngg\\n\\nHàng od nên giao h...</td>\n",
              "      <td>hàng od nên giao hơi lâu,đóng gói cẩn thận</td>\n",
              "      <td>1</td>\n",
              "    </tr>\n",
              "  </tbody>\n",
              "</table>\n",
              "<p>16355 rows × 12 columns</p>\n",
              "</div>\n",
              "      <button class=\"colab-df-convert\" onclick=\"convertToInteractive('df-c40caf9b-085f-4116-94bf-5964f7d07a7e')\"\n",
              "              title=\"Convert this dataframe to an interactive table.\"\n",
              "              style=\"display:none;\">\n",
              "        \n",
              "  <svg xmlns=\"http://www.w3.org/2000/svg\" height=\"24px\"viewBox=\"0 0 24 24\"\n",
              "       width=\"24px\">\n",
              "    <path d=\"M0 0h24v24H0V0z\" fill=\"none\"/>\n",
              "    <path d=\"M18.56 5.44l.94 2.06.94-2.06 2.06-.94-2.06-.94-.94-2.06-.94 2.06-2.06.94zm-11 1L8.5 8.5l.94-2.06 2.06-.94-2.06-.94L8.5 2.5l-.94 2.06-2.06.94zm10 10l.94 2.06.94-2.06 2.06-.94-2.06-.94-.94-2.06-.94 2.06-2.06.94z\"/><path d=\"M17.41 7.96l-1.37-1.37c-.4-.4-.92-.59-1.43-.59-.52 0-1.04.2-1.43.59L10.3 9.45l-7.72 7.72c-.78.78-.78 2.05 0 2.83L4 21.41c.39.39.9.59 1.41.59.51 0 1.02-.2 1.41-.59l7.78-7.78 2.81-2.81c.8-.78.8-2.07 0-2.86zM5.41 20L4 18.59l7.72-7.72 1.47 1.35L5.41 20z\"/>\n",
              "  </svg>\n",
              "      </button>\n",
              "      \n",
              "  <style>\n",
              "    .colab-df-container {\n",
              "      display:flex;\n",
              "      flex-wrap:wrap;\n",
              "      gap: 12px;\n",
              "    }\n",
              "\n",
              "    .colab-df-convert {\n",
              "      background-color: #E8F0FE;\n",
              "      border: none;\n",
              "      border-radius: 50%;\n",
              "      cursor: pointer;\n",
              "      display: none;\n",
              "      fill: #1967D2;\n",
              "      height: 32px;\n",
              "      padding: 0 0 0 0;\n",
              "      width: 32px;\n",
              "    }\n",
              "\n",
              "    .colab-df-convert:hover {\n",
              "      background-color: #E2EBFA;\n",
              "      box-shadow: 0px 1px 2px rgba(60, 64, 67, 0.3), 0px 1px 3px 1px rgba(60, 64, 67, 0.15);\n",
              "      fill: #174EA6;\n",
              "    }\n",
              "\n",
              "    [theme=dark] .colab-df-convert {\n",
              "      background-color: #3B4455;\n",
              "      fill: #D2E3FC;\n",
              "    }\n",
              "\n",
              "    [theme=dark] .colab-df-convert:hover {\n",
              "      background-color: #434B5C;\n",
              "      box-shadow: 0px 1px 3px 1px rgba(0, 0, 0, 0.15);\n",
              "      filter: drop-shadow(0px 1px 2px rgba(0, 0, 0, 0.3));\n",
              "      fill: #FFFFFF;\n",
              "    }\n",
              "  </style>\n",
              "\n",
              "      <script>\n",
              "        const buttonEl =\n",
              "          document.querySelector('#df-c40caf9b-085f-4116-94bf-5964f7d07a7e button.colab-df-convert');\n",
              "        buttonEl.style.display =\n",
              "          google.colab.kernel.accessAllowed ? 'block' : 'none';\n",
              "\n",
              "        async function convertToInteractive(key) {\n",
              "          const element = document.querySelector('#df-c40caf9b-085f-4116-94bf-5964f7d07a7e');\n",
              "          const dataTable =\n",
              "            await google.colab.kernel.invokeFunction('convertToInteractive',\n",
              "                                                     [key], {});\n",
              "          if (!dataTable) return;\n",
              "\n",
              "          const docLinkHtml = 'Like what you see? Visit the ' +\n",
              "            '<a target=\"_blank\" href=https://colab.research.google.com/notebooks/data_table.ipynb>data table notebook</a>'\n",
              "            + ' to learn more about interactive tables.';\n",
              "          element.innerHTML = '';\n",
              "          dataTable['output_type'] = 'display_data';\n",
              "          await google.colab.output.renderOutput(dataTable, element);\n",
              "          const docLink = document.createElement('div');\n",
              "          docLink.innerHTML = docLinkHtml;\n",
              "          element.appendChild(docLink);\n",
              "        }\n",
              "      </script>\n",
              "    </div>\n",
              "  </div>\n",
              "  "
            ]
          },
          "metadata": {},
          "execution_count": 6
        }
      ]
    },
    {
      "cell_type": "code",
      "execution_count": null,
      "metadata": {
        "colab": {
          "base_uri": "https://localhost:8080/",
          "height": 571
        },
        "id": "pUzFuopY-uF3",
        "outputId": "a0c8202d-7da5-4d45-ca5d-8b34dbbe6f77"
      },
      "outputs": [
        {
          "output_type": "execute_result",
          "data": {
            "text/plain": [
              "       Item           ID                                               Name  \\\n",
              "0         1  20247263063  Áo Khoác Cardigan Kẻ Thoi Form Rộng Đen/ Hồng ...   \n",
              "1       NaN          NaN                                                NaN   \n",
              "2       NaN          NaN                                                NaN   \n",
              "3       NaN          NaN                                                NaN   \n",
              "4       NaN          NaN                                                NaN   \n",
              "...     ...          ...                                                ...   \n",
              "316571  NaN          NaN                                                NaN   \n",
              "316572  NaN          NaN                                                NaN   \n",
              "316573  NaN          NaN                                                NaN   \n",
              "316574  NaN          NaN                                                NaN   \n",
              "316575  NaN          NaN                                                NaN   \n",
              "\n",
              "                                                     Link  \\\n",
              "0       https://shopee.vn/hadesker-i.711707322.2024726...   \n",
              "1                                                     NaN   \n",
              "2                                                     NaN   \n",
              "3                                                     NaN   \n",
              "4                                                     NaN   \n",
              "...                                                   ...   \n",
              "316571                                                NaN   \n",
              "316572                                                NaN   \n",
              "316573                                                NaN   \n",
              "316574                                                NaN   \n",
              "316575                                                NaN   \n",
              "\n",
              "       Number of Fetched Comments          Username Comment time Rating  \\\n",
              "0                            1754        micutii774   1678971728      5   \n",
              "1                             NaN        micutii774   1678971728      5   \n",
              "2                             NaN        micutii774   1678971728      5   \n",
              "3                             NaN        micutii774   1678971728      5   \n",
              "4                             NaN        micutii774   1678971728      5   \n",
              "...                           ...               ...          ...    ...   \n",
              "316571                        NaN         khnhvn814   1668311574      5   \n",
              "316572                        NaN  vxorngahadung817   1668355294      5   \n",
              "316573                        NaN       giaphutu825   1668328951      5   \n",
              "316574                        NaN        0nvdmq3ups   1666852203      5   \n",
              "316575                        NaN      evrythanhlan   1666542017      5   \n",
              "\n",
              "                                                  Content  \n",
              "0       Chất liệu:nỉ\\nMàu sắc:đen\\nĐúng với mô tả:ui l...  \n",
              "1       Chất liệu:nỉ\\nMàu sắc:đen\\nĐúng với mô tả:ui l...  \n",
              "2       Chất liệu:nỉ\\nMàu sắc:đen\\nĐúng với mô tả:ui l...  \n",
              "3       Chất liệu:nỉ\\nMàu sắc:đen\\nĐúng với mô tả:ui l...  \n",
              "4       Chất liệu:nỉ\\nMàu sắc:đen\\nĐúng với mô tả:ui l...  \n",
              "...                                                   ...  \n",
              "316571                                                NaN  \n",
              "316572                                                NaN  \n",
              "316573                                                NaN  \n",
              "316574                                                NaN  \n",
              "316575                                                NaN  \n",
              "\n",
              "[316576 rows x 9 columns]"
            ],
            "text/html": [
              "\n",
              "  <div id=\"df-15d5e398-e955-484e-b327-1e0453e5468d\">\n",
              "    <div class=\"colab-df-container\">\n",
              "      <div>\n",
              "<style scoped>\n",
              "    .dataframe tbody tr th:only-of-type {\n",
              "        vertical-align: middle;\n",
              "    }\n",
              "\n",
              "    .dataframe tbody tr th {\n",
              "        vertical-align: top;\n",
              "    }\n",
              "\n",
              "    .dataframe thead th {\n",
              "        text-align: right;\n",
              "    }\n",
              "</style>\n",
              "<table border=\"1\" class=\"dataframe\">\n",
              "  <thead>\n",
              "    <tr style=\"text-align: right;\">\n",
              "      <th></th>\n",
              "      <th>Item</th>\n",
              "      <th>ID</th>\n",
              "      <th>Name</th>\n",
              "      <th>Link</th>\n",
              "      <th>Number of Fetched Comments</th>\n",
              "      <th>Username</th>\n",
              "      <th>Comment time</th>\n",
              "      <th>Rating</th>\n",
              "      <th>Content</th>\n",
              "    </tr>\n",
              "  </thead>\n",
              "  <tbody>\n",
              "    <tr>\n",
              "      <th>0</th>\n",
              "      <td>1</td>\n",
              "      <td>20247263063</td>\n",
              "      <td>Áo Khoác Cardigan Kẻ Thoi Form Rộng Đen/ Hồng ...</td>\n",
              "      <td>https://shopee.vn/hadesker-i.711707322.2024726...</td>\n",
              "      <td>1754</td>\n",
              "      <td>micutii774</td>\n",
              "      <td>1678971728</td>\n",
              "      <td>5</td>\n",
              "      <td>Chất liệu:nỉ\\nMàu sắc:đen\\nĐúng với mô tả:ui l...</td>\n",
              "    </tr>\n",
              "    <tr>\n",
              "      <th>1</th>\n",
              "      <td>NaN</td>\n",
              "      <td>NaN</td>\n",
              "      <td>NaN</td>\n",
              "      <td>NaN</td>\n",
              "      <td>NaN</td>\n",
              "      <td>micutii774</td>\n",
              "      <td>1678971728</td>\n",
              "      <td>5</td>\n",
              "      <td>Chất liệu:nỉ\\nMàu sắc:đen\\nĐúng với mô tả:ui l...</td>\n",
              "    </tr>\n",
              "    <tr>\n",
              "      <th>2</th>\n",
              "      <td>NaN</td>\n",
              "      <td>NaN</td>\n",
              "      <td>NaN</td>\n",
              "      <td>NaN</td>\n",
              "      <td>NaN</td>\n",
              "      <td>micutii774</td>\n",
              "      <td>1678971728</td>\n",
              "      <td>5</td>\n",
              "      <td>Chất liệu:nỉ\\nMàu sắc:đen\\nĐúng với mô tả:ui l...</td>\n",
              "    </tr>\n",
              "    <tr>\n",
              "      <th>3</th>\n",
              "      <td>NaN</td>\n",
              "      <td>NaN</td>\n",
              "      <td>NaN</td>\n",
              "      <td>NaN</td>\n",
              "      <td>NaN</td>\n",
              "      <td>micutii774</td>\n",
              "      <td>1678971728</td>\n",
              "      <td>5</td>\n",
              "      <td>Chất liệu:nỉ\\nMàu sắc:đen\\nĐúng với mô tả:ui l...</td>\n",
              "    </tr>\n",
              "    <tr>\n",
              "      <th>4</th>\n",
              "      <td>NaN</td>\n",
              "      <td>NaN</td>\n",
              "      <td>NaN</td>\n",
              "      <td>NaN</td>\n",
              "      <td>NaN</td>\n",
              "      <td>micutii774</td>\n",
              "      <td>1678971728</td>\n",
              "      <td>5</td>\n",
              "      <td>Chất liệu:nỉ\\nMàu sắc:đen\\nĐúng với mô tả:ui l...</td>\n",
              "    </tr>\n",
              "    <tr>\n",
              "      <th>...</th>\n",
              "      <td>...</td>\n",
              "      <td>...</td>\n",
              "      <td>...</td>\n",
              "      <td>...</td>\n",
              "      <td>...</td>\n",
              "      <td>...</td>\n",
              "      <td>...</td>\n",
              "      <td>...</td>\n",
              "      <td>...</td>\n",
              "    </tr>\n",
              "    <tr>\n",
              "      <th>316571</th>\n",
              "      <td>NaN</td>\n",
              "      <td>NaN</td>\n",
              "      <td>NaN</td>\n",
              "      <td>NaN</td>\n",
              "      <td>NaN</td>\n",
              "      <td>khnhvn814</td>\n",
              "      <td>1668311574</td>\n",
              "      <td>5</td>\n",
              "      <td>NaN</td>\n",
              "    </tr>\n",
              "    <tr>\n",
              "      <th>316572</th>\n",
              "      <td>NaN</td>\n",
              "      <td>NaN</td>\n",
              "      <td>NaN</td>\n",
              "      <td>NaN</td>\n",
              "      <td>NaN</td>\n",
              "      <td>vxorngahadung817</td>\n",
              "      <td>1668355294</td>\n",
              "      <td>5</td>\n",
              "      <td>NaN</td>\n",
              "    </tr>\n",
              "    <tr>\n",
              "      <th>316573</th>\n",
              "      <td>NaN</td>\n",
              "      <td>NaN</td>\n",
              "      <td>NaN</td>\n",
              "      <td>NaN</td>\n",
              "      <td>NaN</td>\n",
              "      <td>giaphutu825</td>\n",
              "      <td>1668328951</td>\n",
              "      <td>5</td>\n",
              "      <td>NaN</td>\n",
              "    </tr>\n",
              "    <tr>\n",
              "      <th>316574</th>\n",
              "      <td>NaN</td>\n",
              "      <td>NaN</td>\n",
              "      <td>NaN</td>\n",
              "      <td>NaN</td>\n",
              "      <td>NaN</td>\n",
              "      <td>0nvdmq3ups</td>\n",
              "      <td>1666852203</td>\n",
              "      <td>5</td>\n",
              "      <td>NaN</td>\n",
              "    </tr>\n",
              "    <tr>\n",
              "      <th>316575</th>\n",
              "      <td>NaN</td>\n",
              "      <td>NaN</td>\n",
              "      <td>NaN</td>\n",
              "      <td>NaN</td>\n",
              "      <td>NaN</td>\n",
              "      <td>evrythanhlan</td>\n",
              "      <td>1666542017</td>\n",
              "      <td>5</td>\n",
              "      <td>NaN</td>\n",
              "    </tr>\n",
              "  </tbody>\n",
              "</table>\n",
              "<p>316576 rows × 9 columns</p>\n",
              "</div>\n",
              "      <button class=\"colab-df-convert\" onclick=\"convertToInteractive('df-15d5e398-e955-484e-b327-1e0453e5468d')\"\n",
              "              title=\"Convert this dataframe to an interactive table.\"\n",
              "              style=\"display:none;\">\n",
              "        \n",
              "  <svg xmlns=\"http://www.w3.org/2000/svg\" height=\"24px\"viewBox=\"0 0 24 24\"\n",
              "       width=\"24px\">\n",
              "    <path d=\"M0 0h24v24H0V0z\" fill=\"none\"/>\n",
              "    <path d=\"M18.56 5.44l.94 2.06.94-2.06 2.06-.94-2.06-.94-.94-2.06-.94 2.06-2.06.94zm-11 1L8.5 8.5l.94-2.06 2.06-.94-2.06-.94L8.5 2.5l-.94 2.06-2.06.94zm10 10l.94 2.06.94-2.06 2.06-.94-2.06-.94-.94-2.06-.94 2.06-2.06.94z\"/><path d=\"M17.41 7.96l-1.37-1.37c-.4-.4-.92-.59-1.43-.59-.52 0-1.04.2-1.43.59L10.3 9.45l-7.72 7.72c-.78.78-.78 2.05 0 2.83L4 21.41c.39.39.9.59 1.41.59.51 0 1.02-.2 1.41-.59l7.78-7.78 2.81-2.81c.8-.78.8-2.07 0-2.86zM5.41 20L4 18.59l7.72-7.72 1.47 1.35L5.41 20z\"/>\n",
              "  </svg>\n",
              "      </button>\n",
              "      \n",
              "  <style>\n",
              "    .colab-df-container {\n",
              "      display:flex;\n",
              "      flex-wrap:wrap;\n",
              "      gap: 12px;\n",
              "    }\n",
              "\n",
              "    .colab-df-convert {\n",
              "      background-color: #E8F0FE;\n",
              "      border: none;\n",
              "      border-radius: 50%;\n",
              "      cursor: pointer;\n",
              "      display: none;\n",
              "      fill: #1967D2;\n",
              "      height: 32px;\n",
              "      padding: 0 0 0 0;\n",
              "      width: 32px;\n",
              "    }\n",
              "\n",
              "    .colab-df-convert:hover {\n",
              "      background-color: #E2EBFA;\n",
              "      box-shadow: 0px 1px 2px rgba(60, 64, 67, 0.3), 0px 1px 3px 1px rgba(60, 64, 67, 0.15);\n",
              "      fill: #174EA6;\n",
              "    }\n",
              "\n",
              "    [theme=dark] .colab-df-convert {\n",
              "      background-color: #3B4455;\n",
              "      fill: #D2E3FC;\n",
              "    }\n",
              "\n",
              "    [theme=dark] .colab-df-convert:hover {\n",
              "      background-color: #434B5C;\n",
              "      box-shadow: 0px 1px 3px 1px rgba(0, 0, 0, 0.15);\n",
              "      filter: drop-shadow(0px 1px 2px rgba(0, 0, 0, 0.3));\n",
              "      fill: #FFFFFF;\n",
              "    }\n",
              "  </style>\n",
              "\n",
              "      <script>\n",
              "        const buttonEl =\n",
              "          document.querySelector('#df-15d5e398-e955-484e-b327-1e0453e5468d button.colab-df-convert');\n",
              "        buttonEl.style.display =\n",
              "          google.colab.kernel.accessAllowed ? 'block' : 'none';\n",
              "\n",
              "        async function convertToInteractive(key) {\n",
              "          const element = document.querySelector('#df-15d5e398-e955-484e-b327-1e0453e5468d');\n",
              "          const dataTable =\n",
              "            await google.colab.kernel.invokeFunction('convertToInteractive',\n",
              "                                                     [key], {});\n",
              "          if (!dataTable) return;\n",
              "\n",
              "          const docLinkHtml = 'Like what you see? Visit the ' +\n",
              "            '<a target=\"_blank\" href=https://colab.research.google.com/notebooks/data_table.ipynb>data table notebook</a>'\n",
              "            + ' to learn more about interactive tables.';\n",
              "          element.innerHTML = '';\n",
              "          dataTable['output_type'] = 'display_data';\n",
              "          await google.colab.output.renderOutput(dataTable, element);\n",
              "          const docLink = document.createElement('div');\n",
              "          docLink.innerHTML = docLinkHtml;\n",
              "          element.appendChild(docLink);\n",
              "        }\n",
              "      </script>\n",
              "    </div>\n",
              "  </div>\n",
              "  "
            ]
          },
          "metadata": {},
          "execution_count": 22
        }
      ],
      "source": [
        "raw_comment"
      ]
    },
    {
      "cell_type": "code",
      "execution_count": null,
      "metadata": {
        "id": "GH89uEEZCWej"
      },
      "outputs": [],
      "source": [
        "raw_comment = raw_comment.fillna(method='ffill')"
      ]
    },
    {
      "cell_type": "code",
      "source": [
        "raw_comment_sentiment = raw_comment_sentiment.fillna(method='ffill')"
      ],
      "metadata": {
        "id": "QhCfQac1Rgon"
      },
      "execution_count": null,
      "outputs": []
    },
    {
      "cell_type": "code",
      "source": [
        "raw_comment_sentiment"
      ],
      "metadata": {
        "colab": {
          "base_uri": "https://localhost:8080/",
          "height": 832
        },
        "id": "iSqvY025ZsiQ",
        "outputId": "d12182f5-cee2-442c-fe71-6bbfc7a02abd"
      },
      "execution_count": null,
      "outputs": [
        {
          "output_type": "execute_result",
          "data": {
            "text/plain": [
              "       Unnamed: 0   Item            ID  \\\n",
              "0               2    NaN           NaN   \n",
              "1              13    NaN           NaN   \n",
              "2              20    NaN           NaN   \n",
              "3              21    NaN           NaN   \n",
              "4              45    NaN           NaN   \n",
              "...           ...    ...           ...   \n",
              "16350      302858  295.0  1.259734e+10   \n",
              "16351      302898  295.0  1.259734e+10   \n",
              "16352      302904  295.0  1.259734e+10   \n",
              "16353      303172  295.0  1.259734e+10   \n",
              "16354      303184  295.0  1.259734e+10   \n",
              "\n",
              "                                                    Name  \\\n",
              "0                                                    NaN   \n",
              "1                                                    NaN   \n",
              "2                                                    NaN   \n",
              "3                                                    NaN   \n",
              "4                                                    NaN   \n",
              "...                                                  ...   \n",
              "16350  Áo Khoác Jean Nữ Form Rộng UNISEX Nam Nữ Màu X...   \n",
              "16351  Áo Khoác Jean Nữ Form Rộng UNISEX Nam Nữ Màu X...   \n",
              "16352  Áo Khoác Jean Nữ Form Rộng UNISEX Nam Nữ Màu X...   \n",
              "16353  Áo Khoác Jean Nữ Form Rộng UNISEX Nam Nữ Màu X...   \n",
              "16354  Áo Khoác Jean Nữ Form Rộng UNISEX Nam Nữ Màu X...   \n",
              "\n",
              "                                                   Link  \\\n",
              "0                                                   NaN   \n",
              "1                                                   NaN   \n",
              "2                                                   NaN   \n",
              "3                                                   NaN   \n",
              "4                                                   NaN   \n",
              "...                                                 ...   \n",
              "16350  https://shopee.vn/hadesker-i.6262159.12597339188   \n",
              "16351  https://shopee.vn/hadesker-i.6262159.12597339188   \n",
              "16352  https://shopee.vn/hadesker-i.6262159.12597339188   \n",
              "16353  https://shopee.vn/hadesker-i.6262159.12597339188   \n",
              "16354  https://shopee.vn/hadesker-i.6262159.12597339188   \n",
              "\n",
              "       Number of Fetched Comments          Username  Comment time  Rating  \\\n",
              "0                             NaN        7rfac745he  1.677037e+09     5.0   \n",
              "1                             NaN  cattuong12_safia  1.676620e+09     5.0   \n",
              "2                             NaN        zcuvpzlgb3  1.676218e+09     4.0   \n",
              "3                             NaN        qh444g6ugl  1.675585e+09     5.0   \n",
              "4                             NaN        ngalinh228  1.675693e+09     5.0   \n",
              "...                           ...               ...           ...     ...   \n",
              "16350                       107.0           2*****y  1.672494e+09     5.0   \n",
              "16351                       107.0        23ki48se6r  1.676126e+09     5.0   \n",
              "16352                       107.0          annath66  1.651838e+09     5.0   \n",
              "16353                       107.0      khanhngan624  1.678445e+09     5.0   \n",
              "16354                       107.0        hxj812p8j6  1.678797e+09     5.0   \n",
              "\n",
              "                                                Comments  \\\n",
              "0      Chất liệu:nỉ\\nMàu sắc:Hồng\\nĐúng với mô tả:đún...   \n",
              "1      Chất liệu:đc\\nMàu sắc:đc\\nĐúng với mô tả:khá\\n...   \n",
              "2      Đúng với mô tả:chiuu\\nChất liệu:k bt\\nMàu sắc:...   \n",
              "3      Chất liệu:nir\\nMàu sắc:hồng\\nĐúng với mô tả:ye...   \n",
              "4      Màu sắc:thoi đen\\nĐúng với mô tả:đúng\\nChất li...   \n",
              "...                                                  ...   \n",
              "16350  Màu sắc:be\\nĐúng với mô tả:oke\\nChất liệu:nhun...   \n",
              "16351  Chất liệu:vải thô\\nMàu sắc:be\\nĐúng với mô tả:...   \n",
              "16352  Áo xịn lắm\\nDầy mịn đẹp \\nForm rộng rãi to bự ...   \n",
              "16353  Chất liệu:dù hai lớp có túi trong\\nMàu sắc:xan...   \n",
              "16354  Đúng với mô tả:khá đúngg\\n\\nHàng od nên giao h...   \n",
              "\n",
              "                                                 comment  sentiment  \n",
              "0                                              mô tảđúng          2  \n",
              "1                                               mô tảkhá          2  \n",
              "2                                     màu sắc:hồng , đen          2  \n",
              "3                                          mô tảyes sure          2  \n",
              "4                                         chất liệu:vair          2  \n",
              "...                                                  ...        ...  \n",
              "16350  chất liệu:nhung , giao hàng nhanh , đúng với m...          2  \n",
              "16351                                    mô tảtuyệt dơig          2  \n",
              "16352  form rộng rãi to bự , săn sale 5/5 mua giá rất...          2  \n",
              "16353                                  mô tảđúng ảnh mẫu          2  \n",
              "16354         hàng od nên giao hơi lâu,đóng gói cẩn thận          1  \n",
              "\n",
              "[16355 rows x 12 columns]"
            ],
            "text/html": [
              "\n",
              "  <div id=\"df-8e93e699-77e4-43a6-8787-061597b7ac8e\">\n",
              "    <div class=\"colab-df-container\">\n",
              "      <div>\n",
              "<style scoped>\n",
              "    .dataframe tbody tr th:only-of-type {\n",
              "        vertical-align: middle;\n",
              "    }\n",
              "\n",
              "    .dataframe tbody tr th {\n",
              "        vertical-align: top;\n",
              "    }\n",
              "\n",
              "    .dataframe thead th {\n",
              "        text-align: right;\n",
              "    }\n",
              "</style>\n",
              "<table border=\"1\" class=\"dataframe\">\n",
              "  <thead>\n",
              "    <tr style=\"text-align: right;\">\n",
              "      <th></th>\n",
              "      <th>Unnamed: 0</th>\n",
              "      <th>Item</th>\n",
              "      <th>ID</th>\n",
              "      <th>Name</th>\n",
              "      <th>Link</th>\n",
              "      <th>Number of Fetched Comments</th>\n",
              "      <th>Username</th>\n",
              "      <th>Comment time</th>\n",
              "      <th>Rating</th>\n",
              "      <th>Comments</th>\n",
              "      <th>comment</th>\n",
              "      <th>sentiment</th>\n",
              "    </tr>\n",
              "  </thead>\n",
              "  <tbody>\n",
              "    <tr>\n",
              "      <th>0</th>\n",
              "      <td>2</td>\n",
              "      <td>NaN</td>\n",
              "      <td>NaN</td>\n",
              "      <td>NaN</td>\n",
              "      <td>NaN</td>\n",
              "      <td>NaN</td>\n",
              "      <td>7rfac745he</td>\n",
              "      <td>1.677037e+09</td>\n",
              "      <td>5.0</td>\n",
              "      <td>Chất liệu:nỉ\\nMàu sắc:Hồng\\nĐúng với mô tả:đún...</td>\n",
              "      <td>mô tảđúng</td>\n",
              "      <td>2</td>\n",
              "    </tr>\n",
              "    <tr>\n",
              "      <th>1</th>\n",
              "      <td>13</td>\n",
              "      <td>NaN</td>\n",
              "      <td>NaN</td>\n",
              "      <td>NaN</td>\n",
              "      <td>NaN</td>\n",
              "      <td>NaN</td>\n",
              "      <td>cattuong12_safia</td>\n",
              "      <td>1.676620e+09</td>\n",
              "      <td>5.0</td>\n",
              "      <td>Chất liệu:đc\\nMàu sắc:đc\\nĐúng với mô tả:khá\\n...</td>\n",
              "      <td>mô tảkhá</td>\n",
              "      <td>2</td>\n",
              "    </tr>\n",
              "    <tr>\n",
              "      <th>2</th>\n",
              "      <td>20</td>\n",
              "      <td>NaN</td>\n",
              "      <td>NaN</td>\n",
              "      <td>NaN</td>\n",
              "      <td>NaN</td>\n",
              "      <td>NaN</td>\n",
              "      <td>zcuvpzlgb3</td>\n",
              "      <td>1.676218e+09</td>\n",
              "      <td>4.0</td>\n",
              "      <td>Đúng với mô tả:chiuu\\nChất liệu:k bt\\nMàu sắc:...</td>\n",
              "      <td>màu sắc:hồng , đen</td>\n",
              "      <td>2</td>\n",
              "    </tr>\n",
              "    <tr>\n",
              "      <th>3</th>\n",
              "      <td>21</td>\n",
              "      <td>NaN</td>\n",
              "      <td>NaN</td>\n",
              "      <td>NaN</td>\n",
              "      <td>NaN</td>\n",
              "      <td>NaN</td>\n",
              "      <td>qh444g6ugl</td>\n",
              "      <td>1.675585e+09</td>\n",
              "      <td>5.0</td>\n",
              "      <td>Chất liệu:nir\\nMàu sắc:hồng\\nĐúng với mô tả:ye...</td>\n",
              "      <td>mô tảyes sure</td>\n",
              "      <td>2</td>\n",
              "    </tr>\n",
              "    <tr>\n",
              "      <th>4</th>\n",
              "      <td>45</td>\n",
              "      <td>NaN</td>\n",
              "      <td>NaN</td>\n",
              "      <td>NaN</td>\n",
              "      <td>NaN</td>\n",
              "      <td>NaN</td>\n",
              "      <td>ngalinh228</td>\n",
              "      <td>1.675693e+09</td>\n",
              "      <td>5.0</td>\n",
              "      <td>Màu sắc:thoi đen\\nĐúng với mô tả:đúng\\nChất li...</td>\n",
              "      <td>chất liệu:vair</td>\n",
              "      <td>2</td>\n",
              "    </tr>\n",
              "    <tr>\n",
              "      <th>...</th>\n",
              "      <td>...</td>\n",
              "      <td>...</td>\n",
              "      <td>...</td>\n",
              "      <td>...</td>\n",
              "      <td>...</td>\n",
              "      <td>...</td>\n",
              "      <td>...</td>\n",
              "      <td>...</td>\n",
              "      <td>...</td>\n",
              "      <td>...</td>\n",
              "      <td>...</td>\n",
              "      <td>...</td>\n",
              "    </tr>\n",
              "    <tr>\n",
              "      <th>16350</th>\n",
              "      <td>302858</td>\n",
              "      <td>295.0</td>\n",
              "      <td>1.259734e+10</td>\n",
              "      <td>Áo Khoác Jean Nữ Form Rộng UNISEX Nam Nữ Màu X...</td>\n",
              "      <td>https://shopee.vn/hadesker-i.6262159.12597339188</td>\n",
              "      <td>107.0</td>\n",
              "      <td>2*****y</td>\n",
              "      <td>1.672494e+09</td>\n",
              "      <td>5.0</td>\n",
              "      <td>Màu sắc:be\\nĐúng với mô tả:oke\\nChất liệu:nhun...</td>\n",
              "      <td>chất liệu:nhung , giao hàng nhanh , đúng với m...</td>\n",
              "      <td>2</td>\n",
              "    </tr>\n",
              "    <tr>\n",
              "      <th>16351</th>\n",
              "      <td>302898</td>\n",
              "      <td>295.0</td>\n",
              "      <td>1.259734e+10</td>\n",
              "      <td>Áo Khoác Jean Nữ Form Rộng UNISEX Nam Nữ Màu X...</td>\n",
              "      <td>https://shopee.vn/hadesker-i.6262159.12597339188</td>\n",
              "      <td>107.0</td>\n",
              "      <td>23ki48se6r</td>\n",
              "      <td>1.676126e+09</td>\n",
              "      <td>5.0</td>\n",
              "      <td>Chất liệu:vải thô\\nMàu sắc:be\\nĐúng với mô tả:...</td>\n",
              "      <td>mô tảtuyệt dơig</td>\n",
              "      <td>2</td>\n",
              "    </tr>\n",
              "    <tr>\n",
              "      <th>16352</th>\n",
              "      <td>302904</td>\n",
              "      <td>295.0</td>\n",
              "      <td>1.259734e+10</td>\n",
              "      <td>Áo Khoác Jean Nữ Form Rộng UNISEX Nam Nữ Màu X...</td>\n",
              "      <td>https://shopee.vn/hadesker-i.6262159.12597339188</td>\n",
              "      <td>107.0</td>\n",
              "      <td>annath66</td>\n",
              "      <td>1.651838e+09</td>\n",
              "      <td>5.0</td>\n",
              "      <td>Áo xịn lắm\\nDầy mịn đẹp \\nForm rộng rãi to bự ...</td>\n",
              "      <td>form rộng rãi to bự , săn sale 5/5 mua giá rất...</td>\n",
              "      <td>2</td>\n",
              "    </tr>\n",
              "    <tr>\n",
              "      <th>16353</th>\n",
              "      <td>303172</td>\n",
              "      <td>295.0</td>\n",
              "      <td>1.259734e+10</td>\n",
              "      <td>Áo Khoác Jean Nữ Form Rộng UNISEX Nam Nữ Màu X...</td>\n",
              "      <td>https://shopee.vn/hadesker-i.6262159.12597339188</td>\n",
              "      <td>107.0</td>\n",
              "      <td>khanhngan624</td>\n",
              "      <td>1.678445e+09</td>\n",
              "      <td>5.0</td>\n",
              "      <td>Chất liệu:dù hai lớp có túi trong\\nMàu sắc:xan...</td>\n",
              "      <td>mô tảđúng ảnh mẫu</td>\n",
              "      <td>2</td>\n",
              "    </tr>\n",
              "    <tr>\n",
              "      <th>16354</th>\n",
              "      <td>303184</td>\n",
              "      <td>295.0</td>\n",
              "      <td>1.259734e+10</td>\n",
              "      <td>Áo Khoác Jean Nữ Form Rộng UNISEX Nam Nữ Màu X...</td>\n",
              "      <td>https://shopee.vn/hadesker-i.6262159.12597339188</td>\n",
              "      <td>107.0</td>\n",
              "      <td>hxj812p8j6</td>\n",
              "      <td>1.678797e+09</td>\n",
              "      <td>5.0</td>\n",
              "      <td>Đúng với mô tả:khá đúngg\\n\\nHàng od nên giao h...</td>\n",
              "      <td>hàng od nên giao hơi lâu,đóng gói cẩn thận</td>\n",
              "      <td>1</td>\n",
              "    </tr>\n",
              "  </tbody>\n",
              "</table>\n",
              "<p>16355 rows × 12 columns</p>\n",
              "</div>\n",
              "      <button class=\"colab-df-convert\" onclick=\"convertToInteractive('df-8e93e699-77e4-43a6-8787-061597b7ac8e')\"\n",
              "              title=\"Convert this dataframe to an interactive table.\"\n",
              "              style=\"display:none;\">\n",
              "        \n",
              "  <svg xmlns=\"http://www.w3.org/2000/svg\" height=\"24px\"viewBox=\"0 0 24 24\"\n",
              "       width=\"24px\">\n",
              "    <path d=\"M0 0h24v24H0V0z\" fill=\"none\"/>\n",
              "    <path d=\"M18.56 5.44l.94 2.06.94-2.06 2.06-.94-2.06-.94-.94-2.06-.94 2.06-2.06.94zm-11 1L8.5 8.5l.94-2.06 2.06-.94-2.06-.94L8.5 2.5l-.94 2.06-2.06.94zm10 10l.94 2.06.94-2.06 2.06-.94-2.06-.94-.94-2.06-.94 2.06-2.06.94z\"/><path d=\"M17.41 7.96l-1.37-1.37c-.4-.4-.92-.59-1.43-.59-.52 0-1.04.2-1.43.59L10.3 9.45l-7.72 7.72c-.78.78-.78 2.05 0 2.83L4 21.41c.39.39.9.59 1.41.59.51 0 1.02-.2 1.41-.59l7.78-7.78 2.81-2.81c.8-.78.8-2.07 0-2.86zM5.41 20L4 18.59l7.72-7.72 1.47 1.35L5.41 20z\"/>\n",
              "  </svg>\n",
              "      </button>\n",
              "      \n",
              "  <style>\n",
              "    .colab-df-container {\n",
              "      display:flex;\n",
              "      flex-wrap:wrap;\n",
              "      gap: 12px;\n",
              "    }\n",
              "\n",
              "    .colab-df-convert {\n",
              "      background-color: #E8F0FE;\n",
              "      border: none;\n",
              "      border-radius: 50%;\n",
              "      cursor: pointer;\n",
              "      display: none;\n",
              "      fill: #1967D2;\n",
              "      height: 32px;\n",
              "      padding: 0 0 0 0;\n",
              "      width: 32px;\n",
              "    }\n",
              "\n",
              "    .colab-df-convert:hover {\n",
              "      background-color: #E2EBFA;\n",
              "      box-shadow: 0px 1px 2px rgba(60, 64, 67, 0.3), 0px 1px 3px 1px rgba(60, 64, 67, 0.15);\n",
              "      fill: #174EA6;\n",
              "    }\n",
              "\n",
              "    [theme=dark] .colab-df-convert {\n",
              "      background-color: #3B4455;\n",
              "      fill: #D2E3FC;\n",
              "    }\n",
              "\n",
              "    [theme=dark] .colab-df-convert:hover {\n",
              "      background-color: #434B5C;\n",
              "      box-shadow: 0px 1px 3px 1px rgba(0, 0, 0, 0.15);\n",
              "      filter: drop-shadow(0px 1px 2px rgba(0, 0, 0, 0.3));\n",
              "      fill: #FFFFFF;\n",
              "    }\n",
              "  </style>\n",
              "\n",
              "      <script>\n",
              "        const buttonEl =\n",
              "          document.querySelector('#df-8e93e699-77e4-43a6-8787-061597b7ac8e button.colab-df-convert');\n",
              "        buttonEl.style.display =\n",
              "          google.colab.kernel.accessAllowed ? 'block' : 'none';\n",
              "\n",
              "        async function convertToInteractive(key) {\n",
              "          const element = document.querySelector('#df-8e93e699-77e4-43a6-8787-061597b7ac8e');\n",
              "          const dataTable =\n",
              "            await google.colab.kernel.invokeFunction('convertToInteractive',\n",
              "                                                     [key], {});\n",
              "          if (!dataTable) return;\n",
              "\n",
              "          const docLinkHtml = 'Like what you see? Visit the ' +\n",
              "            '<a target=\"_blank\" href=https://colab.research.google.com/notebooks/data_table.ipynb>data table notebook</a>'\n",
              "            + ' to learn more about interactive tables.';\n",
              "          element.innerHTML = '';\n",
              "          dataTable['output_type'] = 'display_data';\n",
              "          await google.colab.output.renderOutput(dataTable, element);\n",
              "          const docLink = document.createElement('div');\n",
              "          docLink.innerHTML = docLinkHtml;\n",
              "          element.appendChild(docLink);\n",
              "        }\n",
              "      </script>\n",
              "    </div>\n",
              "  </div>\n",
              "  "
            ]
          },
          "metadata": {},
          "execution_count": 18
        }
      ]
    },
    {
      "cell_type": "code",
      "execution_count": null,
      "metadata": {
        "colab": {
          "base_uri": "https://localhost:8080/"
        },
        "id": "Rpq-ZI8ZIJnG",
        "outputId": "aeb69725-f9eb-4337-cc50-0756e406c954"
      },
      "outputs": [
        {
          "output_type": "stream",
          "name": "stderr",
          "text": [
            "100%|██████████| 316576/316576 [00:16<00:00, 18781.61it/s]\n"
          ]
        }
      ],
      "source": [
        "filtered_records = []\n",
        "\n",
        "for index, row in tqdm(raw_comment.iterrows(), total=raw_comment.shape[0]):\n",
        "    try:\n",
        "        id = int(row['Item'])\n",
        "        comment_time = float(row['Comment time'])\n",
        "        if id <= 300:\n",
        "            filtered_records.append(row)\n",
        "    except ValueError:\n",
        "        pass\n",
        "\n",
        "comment = pd.DataFrame(filtered_records)"
      ]
    },
    {
      "cell_type": "code",
      "source": [
        "filtered_records = []\n",
        "\n",
        "for index, row in tqdm(raw_comment_sentiment.iterrows(), total=raw_comment_sentiment.shape[0]):\n",
        "    try:\n",
        "        id = int(row['Item'])\n",
        "        comment_time = float(row['Comment time'])\n",
        "        if id <= 300:\n",
        "            filtered_records.append(row)\n",
        "    except ValueError:\n",
        "        pass\n",
        "\n",
        "comment = pd.DataFrame(filtered_records)"
      ],
      "metadata": {
        "colab": {
          "base_uri": "https://localhost:8080/"
        },
        "id": "0Zhg1TyeWNkS",
        "outputId": "45bc1240-2fc8-40b4-ed40-7b13fef012cc"
      },
      "execution_count": null,
      "outputs": [
        {
          "output_type": "stream",
          "name": "stderr",
          "text": [
            "100%|██████████| 16355/16355 [00:01<00:00, 11530.93it/s]\n"
          ]
        }
      ]
    },
    {
      "cell_type": "code",
      "execution_count": null,
      "metadata": {
        "id": "nZdyTd1hql95"
      },
      "outputs": [],
      "source": [
        "comment[\"Datetime\"] = pd.to_datetime(comment[\"Comment time\"], unit=\"s\")"
      ]
    },
    {
      "cell_type": "code",
      "execution_count": null,
      "metadata": {
        "id": "ECc6H_BRJ2rQ"
      },
      "outputs": [],
      "source": [
        "comment.reset_index(inplace=True)"
      ]
    },
    {
      "cell_type": "code",
      "execution_count": null,
      "metadata": {
        "id": "GdsNlOiJbMZ1"
      },
      "outputs": [],
      "source": [
        "comment.drop_duplicates(subset=\"Datetime\", inplace=True)\n",
        "comment = comment[['Item', 'Datetime', 'Rating', 'comment','sentiment']]"
      ]
    },
    {
      "cell_type": "code",
      "execution_count": null,
      "metadata": {
        "id": "jf5n4YJfgZJ6"
      },
      "outputs": [],
      "source": [
        "import re\n",
        "def extract_comment(text):\n",
        "    text = re.sub(r\"\\n\", \", \", text)\n",
        "    text = re.sub(r\":\", \": \", text)\n",
        "    return text\n",
        "\n",
        "comment[\"Content_re\"] = comment[\"Content\"].apply(extract_comment)\n",
        "\n",
        "comment = comment[comment[\"Content_re\"].apply(lambda x: len(x.split())) >= 3]"
      ]
    },
    {
      "cell_type": "code",
      "execution_count": null,
      "metadata": {
        "colab": {
          "base_uri": "https://localhost:8080/",
          "height": 423
        },
        "id": "qMjbFPabqO3s",
        "outputId": "fb71bd9f-623a-4b2d-9bd7-ff84d813a5c3"
      },
      "outputs": [
        {
          "output_type": "execute_result",
          "data": {
            "text/plain": [
              "       Item            Datetime Rating  \\\n",
              "0         1 2023-03-16 13:02:08      5   \n",
              "10        1 2023-02-12 16:13:37      4   \n",
              "22        1 2023-02-22 03:42:31      5   \n",
              "54        1 2023-02-17 07:42:06      5   \n",
              "55        1 2023-01-24 07:47:08      5   \n",
              "...     ...                 ...    ...   \n",
              "190548  300 2022-11-02 00:48:55      5   \n",
              "190549  300 2022-11-13 03:52:54      5   \n",
              "190550  300 2022-11-13 16:01:34      5   \n",
              "190551  300 2022-11-13 08:42:31      5   \n",
              "190553  300 2022-10-23 16:20:17      5   \n",
              "\n",
              "                                                  Content  \\\n",
              "0       Chất liệu:nỉ\\nMàu sắc:đen\\nĐúng với mô tả:ui l...   \n",
              "10      Đúng với mô tả:chiuu\\nChất liệu:k bt\\nMàu sắc:...   \n",
              "22      Chất liệu:nỉ\\nMàu sắc:Hồng\\nĐúng với mô tả:đún...   \n",
              "54      Chất liệu:đc\\nMàu sắc:đc\\nĐúng với mô tả:khá\\n...   \n",
              "55      Chất liệu:vải\\nMàu sắc:đen\\nĐúng với mô tả:cx ...   \n",
              "...                                                   ...   \n",
              "190548     Màu sắc:den\\nChất liệu:ok\\n\\n79kg mặc hơi chật   \n",
              "190549     Màu sắc:den\\nChất liệu:ok\\n\\n79kg mặc hơi chật   \n",
              "190550     Màu sắc:den\\nChất liệu:ok\\n\\n79kg mặc hơi chật   \n",
              "190551     Màu sắc:den\\nChất liệu:ok\\n\\n79kg mặc hơi chật   \n",
              "190553     Màu sắc:den\\nChất liệu:ok\\n\\n79kg mặc hơi chật   \n",
              "\n",
              "                                               Content_re  \n",
              "0       Chất liệu: nỉ, Màu sắc: đen, Đúng với mô tả: u...  \n",
              "10      Đúng với mô tả: chiuu, Chất liệu: k bt, Màu sắ...  \n",
              "22      Chất liệu: nỉ, Màu sắc: Hồng, Đúng với mô tả: ...  \n",
              "54      Chất liệu: đc, Màu sắc: đc, Đúng với mô tả: kh...  \n",
              "55      Chất liệu: vải, Màu sắc: đen, Đúng với mô tả: ...  \n",
              "...                                                   ...  \n",
              "190548   Màu sắc: den, Chất liệu: ok, , 79kg mặc hơi chật  \n",
              "190549   Màu sắc: den, Chất liệu: ok, , 79kg mặc hơi chật  \n",
              "190550   Màu sắc: den, Chất liệu: ok, , 79kg mặc hơi chật  \n",
              "190551   Màu sắc: den, Chất liệu: ok, , 79kg mặc hơi chật  \n",
              "190553   Màu sắc: den, Chất liệu: ok, , 79kg mặc hơi chật  \n",
              "\n",
              "[163206 rows x 5 columns]"
            ],
            "text/html": [
              "\n",
              "  <div id=\"df-d6cbf26d-b96b-4f85-9d14-a5a96203b2b9\">\n",
              "    <div class=\"colab-df-container\">\n",
              "      <div>\n",
              "<style scoped>\n",
              "    .dataframe tbody tr th:only-of-type {\n",
              "        vertical-align: middle;\n",
              "    }\n",
              "\n",
              "    .dataframe tbody tr th {\n",
              "        vertical-align: top;\n",
              "    }\n",
              "\n",
              "    .dataframe thead th {\n",
              "        text-align: right;\n",
              "    }\n",
              "</style>\n",
              "<table border=\"1\" class=\"dataframe\">\n",
              "  <thead>\n",
              "    <tr style=\"text-align: right;\">\n",
              "      <th></th>\n",
              "      <th>Item</th>\n",
              "      <th>Datetime</th>\n",
              "      <th>Rating</th>\n",
              "      <th>Content</th>\n",
              "      <th>Content_re</th>\n",
              "    </tr>\n",
              "  </thead>\n",
              "  <tbody>\n",
              "    <tr>\n",
              "      <th>0</th>\n",
              "      <td>1</td>\n",
              "      <td>2023-03-16 13:02:08</td>\n",
              "      <td>5</td>\n",
              "      <td>Chất liệu:nỉ\\nMàu sắc:đen\\nĐúng với mô tả:ui l...</td>\n",
              "      <td>Chất liệu: nỉ, Màu sắc: đen, Đúng với mô tả: u...</td>\n",
              "    </tr>\n",
              "    <tr>\n",
              "      <th>10</th>\n",
              "      <td>1</td>\n",
              "      <td>2023-02-12 16:13:37</td>\n",
              "      <td>4</td>\n",
              "      <td>Đúng với mô tả:chiuu\\nChất liệu:k bt\\nMàu sắc:...</td>\n",
              "      <td>Đúng với mô tả: chiuu, Chất liệu: k bt, Màu sắ...</td>\n",
              "    </tr>\n",
              "    <tr>\n",
              "      <th>22</th>\n",
              "      <td>1</td>\n",
              "      <td>2023-02-22 03:42:31</td>\n",
              "      <td>5</td>\n",
              "      <td>Chất liệu:nỉ\\nMàu sắc:Hồng\\nĐúng với mô tả:đún...</td>\n",
              "      <td>Chất liệu: nỉ, Màu sắc: Hồng, Đúng với mô tả: ...</td>\n",
              "    </tr>\n",
              "    <tr>\n",
              "      <th>54</th>\n",
              "      <td>1</td>\n",
              "      <td>2023-02-17 07:42:06</td>\n",
              "      <td>5</td>\n",
              "      <td>Chất liệu:đc\\nMàu sắc:đc\\nĐúng với mô tả:khá\\n...</td>\n",
              "      <td>Chất liệu: đc, Màu sắc: đc, Đúng với mô tả: kh...</td>\n",
              "    </tr>\n",
              "    <tr>\n",
              "      <th>55</th>\n",
              "      <td>1</td>\n",
              "      <td>2023-01-24 07:47:08</td>\n",
              "      <td>5</td>\n",
              "      <td>Chất liệu:vải\\nMàu sắc:đen\\nĐúng với mô tả:cx ...</td>\n",
              "      <td>Chất liệu: vải, Màu sắc: đen, Đúng với mô tả: ...</td>\n",
              "    </tr>\n",
              "    <tr>\n",
              "      <th>...</th>\n",
              "      <td>...</td>\n",
              "      <td>...</td>\n",
              "      <td>...</td>\n",
              "      <td>...</td>\n",
              "      <td>...</td>\n",
              "    </tr>\n",
              "    <tr>\n",
              "      <th>190548</th>\n",
              "      <td>300</td>\n",
              "      <td>2022-11-02 00:48:55</td>\n",
              "      <td>5</td>\n",
              "      <td>Màu sắc:den\\nChất liệu:ok\\n\\n79kg mặc hơi chật</td>\n",
              "      <td>Màu sắc: den, Chất liệu: ok, , 79kg mặc hơi chật</td>\n",
              "    </tr>\n",
              "    <tr>\n",
              "      <th>190549</th>\n",
              "      <td>300</td>\n",
              "      <td>2022-11-13 03:52:54</td>\n",
              "      <td>5</td>\n",
              "      <td>Màu sắc:den\\nChất liệu:ok\\n\\n79kg mặc hơi chật</td>\n",
              "      <td>Màu sắc: den, Chất liệu: ok, , 79kg mặc hơi chật</td>\n",
              "    </tr>\n",
              "    <tr>\n",
              "      <th>190550</th>\n",
              "      <td>300</td>\n",
              "      <td>2022-11-13 16:01:34</td>\n",
              "      <td>5</td>\n",
              "      <td>Màu sắc:den\\nChất liệu:ok\\n\\n79kg mặc hơi chật</td>\n",
              "      <td>Màu sắc: den, Chất liệu: ok, , 79kg mặc hơi chật</td>\n",
              "    </tr>\n",
              "    <tr>\n",
              "      <th>190551</th>\n",
              "      <td>300</td>\n",
              "      <td>2022-11-13 08:42:31</td>\n",
              "      <td>5</td>\n",
              "      <td>Màu sắc:den\\nChất liệu:ok\\n\\n79kg mặc hơi chật</td>\n",
              "      <td>Màu sắc: den, Chất liệu: ok, , 79kg mặc hơi chật</td>\n",
              "    </tr>\n",
              "    <tr>\n",
              "      <th>190553</th>\n",
              "      <td>300</td>\n",
              "      <td>2022-10-23 16:20:17</td>\n",
              "      <td>5</td>\n",
              "      <td>Màu sắc:den\\nChất liệu:ok\\n\\n79kg mặc hơi chật</td>\n",
              "      <td>Màu sắc: den, Chất liệu: ok, , 79kg mặc hơi chật</td>\n",
              "    </tr>\n",
              "  </tbody>\n",
              "</table>\n",
              "<p>163206 rows × 5 columns</p>\n",
              "</div>\n",
              "      <button class=\"colab-df-convert\" onclick=\"convertToInteractive('df-d6cbf26d-b96b-4f85-9d14-a5a96203b2b9')\"\n",
              "              title=\"Convert this dataframe to an interactive table.\"\n",
              "              style=\"display:none;\">\n",
              "        \n",
              "  <svg xmlns=\"http://www.w3.org/2000/svg\" height=\"24px\"viewBox=\"0 0 24 24\"\n",
              "       width=\"24px\">\n",
              "    <path d=\"M0 0h24v24H0V0z\" fill=\"none\"/>\n",
              "    <path d=\"M18.56 5.44l.94 2.06.94-2.06 2.06-.94-2.06-.94-.94-2.06-.94 2.06-2.06.94zm-11 1L8.5 8.5l.94-2.06 2.06-.94-2.06-.94L8.5 2.5l-.94 2.06-2.06.94zm10 10l.94 2.06.94-2.06 2.06-.94-2.06-.94-.94-2.06-.94 2.06-2.06.94z\"/><path d=\"M17.41 7.96l-1.37-1.37c-.4-.4-.92-.59-1.43-.59-.52 0-1.04.2-1.43.59L10.3 9.45l-7.72 7.72c-.78.78-.78 2.05 0 2.83L4 21.41c.39.39.9.59 1.41.59.51 0 1.02-.2 1.41-.59l7.78-7.78 2.81-2.81c.8-.78.8-2.07 0-2.86zM5.41 20L4 18.59l7.72-7.72 1.47 1.35L5.41 20z\"/>\n",
              "  </svg>\n",
              "      </button>\n",
              "      \n",
              "  <style>\n",
              "    .colab-df-container {\n",
              "      display:flex;\n",
              "      flex-wrap:wrap;\n",
              "      gap: 12px;\n",
              "    }\n",
              "\n",
              "    .colab-df-convert {\n",
              "      background-color: #E8F0FE;\n",
              "      border: none;\n",
              "      border-radius: 50%;\n",
              "      cursor: pointer;\n",
              "      display: none;\n",
              "      fill: #1967D2;\n",
              "      height: 32px;\n",
              "      padding: 0 0 0 0;\n",
              "      width: 32px;\n",
              "    }\n",
              "\n",
              "    .colab-df-convert:hover {\n",
              "      background-color: #E2EBFA;\n",
              "      box-shadow: 0px 1px 2px rgba(60, 64, 67, 0.3), 0px 1px 3px 1px rgba(60, 64, 67, 0.15);\n",
              "      fill: #174EA6;\n",
              "    }\n",
              "\n",
              "    [theme=dark] .colab-df-convert {\n",
              "      background-color: #3B4455;\n",
              "      fill: #D2E3FC;\n",
              "    }\n",
              "\n",
              "    [theme=dark] .colab-df-convert:hover {\n",
              "      background-color: #434B5C;\n",
              "      box-shadow: 0px 1px 3px 1px rgba(0, 0, 0, 0.15);\n",
              "      filter: drop-shadow(0px 1px 2px rgba(0, 0, 0, 0.3));\n",
              "      fill: #FFFFFF;\n",
              "    }\n",
              "  </style>\n",
              "\n",
              "      <script>\n",
              "        const buttonEl =\n",
              "          document.querySelector('#df-d6cbf26d-b96b-4f85-9d14-a5a96203b2b9 button.colab-df-convert');\n",
              "        buttonEl.style.display =\n",
              "          google.colab.kernel.accessAllowed ? 'block' : 'none';\n",
              "\n",
              "        async function convertToInteractive(key) {\n",
              "          const element = document.querySelector('#df-d6cbf26d-b96b-4f85-9d14-a5a96203b2b9');\n",
              "          const dataTable =\n",
              "            await google.colab.kernel.invokeFunction('convertToInteractive',\n",
              "                                                     [key], {});\n",
              "          if (!dataTable) return;\n",
              "\n",
              "          const docLinkHtml = 'Like what you see? Visit the ' +\n",
              "            '<a target=\"_blank\" href=https://colab.research.google.com/notebooks/data_table.ipynb>data table notebook</a>'\n",
              "            + ' to learn more about interactive tables.';\n",
              "          element.innerHTML = '';\n",
              "          dataTable['output_type'] = 'display_data';\n",
              "          await google.colab.output.renderOutput(dataTable, element);\n",
              "          const docLink = document.createElement('div');\n",
              "          docLink.innerHTML = docLinkHtml;\n",
              "          element.appendChild(docLink);\n",
              "        }\n",
              "      </script>\n",
              "    </div>\n",
              "  </div>\n",
              "  "
            ]
          },
          "metadata": {},
          "execution_count": 29
        }
      ],
      "source": [
        "comment"
      ]
    },
    {
      "cell_type": "code",
      "source": [
        "comment = comment.drop_duplicates(subset = \"Content_re\")"
      ],
      "metadata": {
        "id": "1ZnchUs8EwCn"
      },
      "execution_count": null,
      "outputs": []
    },
    {
      "cell_type": "code",
      "execution_count": null,
      "metadata": {
        "id": "SvQDXptQsocd"
      },
      "outputs": [],
      "source": [
        "comment[\"Item\"] = comment[\"Item\"].astype(int)\n",
        "comment[\"Rating\"] = comment[\"Rating\"].astype(float)"
      ]
    },
    {
      "cell_type": "code",
      "execution_count": null,
      "metadata": {
        "colab": {
          "base_uri": "https://localhost:8080/",
          "height": 423
        },
        "id": "wWqQ9kJOcVa7",
        "outputId": "23d91a59-cb60-4f44-8bfc-6faa273acdae"
      },
      "outputs": [
        {
          "output_type": "execute_result",
          "data": {
            "text/plain": [
              "       Item            Datetime  Rating  \\\n",
              "52        2 2022-11-14 05:48:25     5.0   \n",
              "107       2 2022-11-15 10:03:35     5.0   \n",
              "240       2 2022-11-15 10:45:16     4.0   \n",
              "161       2 2022-11-15 11:53:22     5.0   \n",
              "29        2 2022-11-16 09:44:00     5.0   \n",
              "...     ...                 ...     ...   \n",
              "16083   295 2023-03-06 14:22:57     5.0   \n",
              "16049   295 2023-03-06 15:00:32     5.0   \n",
              "16053   295 2023-03-08 13:05:18     5.0   \n",
              "16168   295 2023-03-10 10:42:15     5.0   \n",
              "16169   295 2023-03-14 12:37:47     5.0   \n",
              "\n",
              "                                                 comment  sentiment  \n",
              "52     mô tảđẹp , áo nhẹ, vải ko dày cx ko mỏng , m5-...          2  \n",
              "107                                        chất liệu:dày          2  \n",
              "240                                             mô tả...          1  \n",
              "161                                        chất liệu:đẹp          2  \n",
              "29     mô tảchính xác , chất liệu áo đẹp , hàng về rấ...          2  \n",
              "...                                                  ...        ...  \n",
              "16083  mô tảđúng , giao hàng nhanh , áo thì oki dc nó...          2  \n",
              "16049                                  mô tảcũng okela ạ          2  \n",
              "16053  màu sắc:đen , bề ngang của áo hơi to í, mà áo ...          2  \n",
              "16168                                  mô tảđúng ảnh mẫu          2  \n",
              "16169         hàng od nên giao hơi lâu,đóng gói cẩn thận          1  \n",
              "\n",
              "[16152 rows x 5 columns]"
            ],
            "text/html": [
              "\n",
              "  <div id=\"df-337006ea-f56f-405e-aaa0-9134ff979cca\">\n",
              "    <div class=\"colab-df-container\">\n",
              "      <div>\n",
              "<style scoped>\n",
              "    .dataframe tbody tr th:only-of-type {\n",
              "        vertical-align: middle;\n",
              "    }\n",
              "\n",
              "    .dataframe tbody tr th {\n",
              "        vertical-align: top;\n",
              "    }\n",
              "\n",
              "    .dataframe thead th {\n",
              "        text-align: right;\n",
              "    }\n",
              "</style>\n",
              "<table border=\"1\" class=\"dataframe\">\n",
              "  <thead>\n",
              "    <tr style=\"text-align: right;\">\n",
              "      <th></th>\n",
              "      <th>Item</th>\n",
              "      <th>Datetime</th>\n",
              "      <th>Rating</th>\n",
              "      <th>comment</th>\n",
              "      <th>sentiment</th>\n",
              "    </tr>\n",
              "  </thead>\n",
              "  <tbody>\n",
              "    <tr>\n",
              "      <th>52</th>\n",
              "      <td>2</td>\n",
              "      <td>2022-11-14 05:48:25</td>\n",
              "      <td>5.0</td>\n",
              "      <td>mô tảđẹp , áo nhẹ, vải ko dày cx ko mỏng , m5-...</td>\n",
              "      <td>2</td>\n",
              "    </tr>\n",
              "    <tr>\n",
              "      <th>107</th>\n",
              "      <td>2</td>\n",
              "      <td>2022-11-15 10:03:35</td>\n",
              "      <td>5.0</td>\n",
              "      <td>chất liệu:dày</td>\n",
              "      <td>2</td>\n",
              "    </tr>\n",
              "    <tr>\n",
              "      <th>240</th>\n",
              "      <td>2</td>\n",
              "      <td>2022-11-15 10:45:16</td>\n",
              "      <td>4.0</td>\n",
              "      <td>mô tả...</td>\n",
              "      <td>1</td>\n",
              "    </tr>\n",
              "    <tr>\n",
              "      <th>161</th>\n",
              "      <td>2</td>\n",
              "      <td>2022-11-15 11:53:22</td>\n",
              "      <td>5.0</td>\n",
              "      <td>chất liệu:đẹp</td>\n",
              "      <td>2</td>\n",
              "    </tr>\n",
              "    <tr>\n",
              "      <th>29</th>\n",
              "      <td>2</td>\n",
              "      <td>2022-11-16 09:44:00</td>\n",
              "      <td>5.0</td>\n",
              "      <td>mô tảchính xác , chất liệu áo đẹp , hàng về rấ...</td>\n",
              "      <td>2</td>\n",
              "    </tr>\n",
              "    <tr>\n",
              "      <th>...</th>\n",
              "      <td>...</td>\n",
              "      <td>...</td>\n",
              "      <td>...</td>\n",
              "      <td>...</td>\n",
              "      <td>...</td>\n",
              "    </tr>\n",
              "    <tr>\n",
              "      <th>16083</th>\n",
              "      <td>295</td>\n",
              "      <td>2023-03-06 14:22:57</td>\n",
              "      <td>5.0</td>\n",
              "      <td>mô tảđúng , giao hàng nhanh , áo thì oki dc nó...</td>\n",
              "      <td>2</td>\n",
              "    </tr>\n",
              "    <tr>\n",
              "      <th>16049</th>\n",
              "      <td>295</td>\n",
              "      <td>2023-03-06 15:00:32</td>\n",
              "      <td>5.0</td>\n",
              "      <td>mô tảcũng okela ạ</td>\n",
              "      <td>2</td>\n",
              "    </tr>\n",
              "    <tr>\n",
              "      <th>16053</th>\n",
              "      <td>295</td>\n",
              "      <td>2023-03-08 13:05:18</td>\n",
              "      <td>5.0</td>\n",
              "      <td>màu sắc:đen , bề ngang của áo hơi to í, mà áo ...</td>\n",
              "      <td>2</td>\n",
              "    </tr>\n",
              "    <tr>\n",
              "      <th>16168</th>\n",
              "      <td>295</td>\n",
              "      <td>2023-03-10 10:42:15</td>\n",
              "      <td>5.0</td>\n",
              "      <td>mô tảđúng ảnh mẫu</td>\n",
              "      <td>2</td>\n",
              "    </tr>\n",
              "    <tr>\n",
              "      <th>16169</th>\n",
              "      <td>295</td>\n",
              "      <td>2023-03-14 12:37:47</td>\n",
              "      <td>5.0</td>\n",
              "      <td>hàng od nên giao hơi lâu,đóng gói cẩn thận</td>\n",
              "      <td>1</td>\n",
              "    </tr>\n",
              "  </tbody>\n",
              "</table>\n",
              "<p>16152 rows × 5 columns</p>\n",
              "</div>\n",
              "      <button class=\"colab-df-convert\" onclick=\"convertToInteractive('df-337006ea-f56f-405e-aaa0-9134ff979cca')\"\n",
              "              title=\"Convert this dataframe to an interactive table.\"\n",
              "              style=\"display:none;\">\n",
              "        \n",
              "  <svg xmlns=\"http://www.w3.org/2000/svg\" height=\"24px\"viewBox=\"0 0 24 24\"\n",
              "       width=\"24px\">\n",
              "    <path d=\"M0 0h24v24H0V0z\" fill=\"none\"/>\n",
              "    <path d=\"M18.56 5.44l.94 2.06.94-2.06 2.06-.94-2.06-.94-.94-2.06-.94 2.06-2.06.94zm-11 1L8.5 8.5l.94-2.06 2.06-.94-2.06-.94L8.5 2.5l-.94 2.06-2.06.94zm10 10l.94 2.06.94-2.06 2.06-.94-2.06-.94-.94-2.06-.94 2.06-2.06.94z\"/><path d=\"M17.41 7.96l-1.37-1.37c-.4-.4-.92-.59-1.43-.59-.52 0-1.04.2-1.43.59L10.3 9.45l-7.72 7.72c-.78.78-.78 2.05 0 2.83L4 21.41c.39.39.9.59 1.41.59.51 0 1.02-.2 1.41-.59l7.78-7.78 2.81-2.81c.8-.78.8-2.07 0-2.86zM5.41 20L4 18.59l7.72-7.72 1.47 1.35L5.41 20z\"/>\n",
              "  </svg>\n",
              "      </button>\n",
              "      \n",
              "  <style>\n",
              "    .colab-df-container {\n",
              "      display:flex;\n",
              "      flex-wrap:wrap;\n",
              "      gap: 12px;\n",
              "    }\n",
              "\n",
              "    .colab-df-convert {\n",
              "      background-color: #E8F0FE;\n",
              "      border: none;\n",
              "      border-radius: 50%;\n",
              "      cursor: pointer;\n",
              "      display: none;\n",
              "      fill: #1967D2;\n",
              "      height: 32px;\n",
              "      padding: 0 0 0 0;\n",
              "      width: 32px;\n",
              "    }\n",
              "\n",
              "    .colab-df-convert:hover {\n",
              "      background-color: #E2EBFA;\n",
              "      box-shadow: 0px 1px 2px rgba(60, 64, 67, 0.3), 0px 1px 3px 1px rgba(60, 64, 67, 0.15);\n",
              "      fill: #174EA6;\n",
              "    }\n",
              "\n",
              "    [theme=dark] .colab-df-convert {\n",
              "      background-color: #3B4455;\n",
              "      fill: #D2E3FC;\n",
              "    }\n",
              "\n",
              "    [theme=dark] .colab-df-convert:hover {\n",
              "      background-color: #434B5C;\n",
              "      box-shadow: 0px 1px 3px 1px rgba(0, 0, 0, 0.15);\n",
              "      filter: drop-shadow(0px 1px 2px rgba(0, 0, 0, 0.3));\n",
              "      fill: #FFFFFF;\n",
              "    }\n",
              "  </style>\n",
              "\n",
              "      <script>\n",
              "        const buttonEl =\n",
              "          document.querySelector('#df-337006ea-f56f-405e-aaa0-9134ff979cca button.colab-df-convert');\n",
              "        buttonEl.style.display =\n",
              "          google.colab.kernel.accessAllowed ? 'block' : 'none';\n",
              "\n",
              "        async function convertToInteractive(key) {\n",
              "          const element = document.querySelector('#df-337006ea-f56f-405e-aaa0-9134ff979cca');\n",
              "          const dataTable =\n",
              "            await google.colab.kernel.invokeFunction('convertToInteractive',\n",
              "                                                     [key], {});\n",
              "          if (!dataTable) return;\n",
              "\n",
              "          const docLinkHtml = 'Like what you see? Visit the ' +\n",
              "            '<a target=\"_blank\" href=https://colab.research.google.com/notebooks/data_table.ipynb>data table notebook</a>'\n",
              "            + ' to learn more about interactive tables.';\n",
              "          element.innerHTML = '';\n",
              "          dataTable['output_type'] = 'display_data';\n",
              "          await google.colab.output.renderOutput(dataTable, element);\n",
              "          const docLink = document.createElement('div');\n",
              "          docLink.innerHTML = docLinkHtml;\n",
              "          element.appendChild(docLink);\n",
              "        }\n",
              "      </script>\n",
              "    </div>\n",
              "  </div>\n",
              "  "
            ]
          },
          "metadata": {},
          "execution_count": 24
        }
      ],
      "source": [
        "comment.sort_values(by=[\"Item\", \"Datetime\"], ascending=[True, True], inplace=True)\n",
        "comment"
      ]
    },
    {
      "cell_type": "code",
      "source": [
        "comment[\"sentiment\"].value_counts()"
      ],
      "metadata": {
        "colab": {
          "base_uri": "https://localhost:8080/"
        },
        "id": "OQ0DPEwzi-sP",
        "outputId": "5ee17f3a-2e68-483b-86a1-0382e541dea6"
      },
      "execution_count": null,
      "outputs": [
        {
          "output_type": "execute_result",
          "data": {
            "text/plain": [
              "2    11381\n",
              "1     3502\n",
              "0     1269\n",
              "Name: sentiment, dtype: int64"
            ]
          },
          "metadata": {},
          "execution_count": 29
        }
      ]
    },
    {
      "cell_type": "code",
      "source": [
        "da = comment.groupby([\"Item\",\"sentiment\",\"Datetime\"])[\"comment\"].count().reset_index()\n",
        "da[da[\"Item\"] == 2]"
      ],
      "metadata": {
        "colab": {
          "base_uri": "https://localhost:8080/",
          "height": 423
        },
        "id": "4lcPhhRIg6xD",
        "outputId": "f42e940e-2a74-4f72-f27a-b1875fcb32c5"
      },
      "execution_count": null,
      "outputs": [
        {
          "output_type": "execute_result",
          "data": {
            "text/plain": [
              "     Item  sentiment            Datetime  comment\n",
              "0       2          0 2022-11-17 05:22:51        1\n",
              "1       2          0 2022-11-19 12:21:05        1\n",
              "2       2          0 2022-11-20 04:37:34        1\n",
              "3       2          0 2022-11-26 05:59:15        1\n",
              "4       2          0 2022-12-02 02:11:58        1\n",
              "..    ...        ...                 ...      ...\n",
              "289     2          2 2023-03-06 16:30:47        1\n",
              "290     2          2 2023-03-09 06:12:24        1\n",
              "291     2          2 2023-03-11 13:57:35        1\n",
              "292     2          2 2023-03-17 12:21:40        1\n",
              "293     2          2 2023-03-19 08:35:00        1\n",
              "\n",
              "[294 rows x 4 columns]"
            ],
            "text/html": [
              "\n",
              "  <div id=\"df-746e53e1-7f3e-4486-938f-5fca41ca01c9\">\n",
              "    <div class=\"colab-df-container\">\n",
              "      <div>\n",
              "<style scoped>\n",
              "    .dataframe tbody tr th:only-of-type {\n",
              "        vertical-align: middle;\n",
              "    }\n",
              "\n",
              "    .dataframe tbody tr th {\n",
              "        vertical-align: top;\n",
              "    }\n",
              "\n",
              "    .dataframe thead th {\n",
              "        text-align: right;\n",
              "    }\n",
              "</style>\n",
              "<table border=\"1\" class=\"dataframe\">\n",
              "  <thead>\n",
              "    <tr style=\"text-align: right;\">\n",
              "      <th></th>\n",
              "      <th>Item</th>\n",
              "      <th>sentiment</th>\n",
              "      <th>Datetime</th>\n",
              "      <th>comment</th>\n",
              "    </tr>\n",
              "  </thead>\n",
              "  <tbody>\n",
              "    <tr>\n",
              "      <th>0</th>\n",
              "      <td>2</td>\n",
              "      <td>0</td>\n",
              "      <td>2022-11-17 05:22:51</td>\n",
              "      <td>1</td>\n",
              "    </tr>\n",
              "    <tr>\n",
              "      <th>1</th>\n",
              "      <td>2</td>\n",
              "      <td>0</td>\n",
              "      <td>2022-11-19 12:21:05</td>\n",
              "      <td>1</td>\n",
              "    </tr>\n",
              "    <tr>\n",
              "      <th>2</th>\n",
              "      <td>2</td>\n",
              "      <td>0</td>\n",
              "      <td>2022-11-20 04:37:34</td>\n",
              "      <td>1</td>\n",
              "    </tr>\n",
              "    <tr>\n",
              "      <th>3</th>\n",
              "      <td>2</td>\n",
              "      <td>0</td>\n",
              "      <td>2022-11-26 05:59:15</td>\n",
              "      <td>1</td>\n",
              "    </tr>\n",
              "    <tr>\n",
              "      <th>4</th>\n",
              "      <td>2</td>\n",
              "      <td>0</td>\n",
              "      <td>2022-12-02 02:11:58</td>\n",
              "      <td>1</td>\n",
              "    </tr>\n",
              "    <tr>\n",
              "      <th>...</th>\n",
              "      <td>...</td>\n",
              "      <td>...</td>\n",
              "      <td>...</td>\n",
              "      <td>...</td>\n",
              "    </tr>\n",
              "    <tr>\n",
              "      <th>289</th>\n",
              "      <td>2</td>\n",
              "      <td>2</td>\n",
              "      <td>2023-03-06 16:30:47</td>\n",
              "      <td>1</td>\n",
              "    </tr>\n",
              "    <tr>\n",
              "      <th>290</th>\n",
              "      <td>2</td>\n",
              "      <td>2</td>\n",
              "      <td>2023-03-09 06:12:24</td>\n",
              "      <td>1</td>\n",
              "    </tr>\n",
              "    <tr>\n",
              "      <th>291</th>\n",
              "      <td>2</td>\n",
              "      <td>2</td>\n",
              "      <td>2023-03-11 13:57:35</td>\n",
              "      <td>1</td>\n",
              "    </tr>\n",
              "    <tr>\n",
              "      <th>292</th>\n",
              "      <td>2</td>\n",
              "      <td>2</td>\n",
              "      <td>2023-03-17 12:21:40</td>\n",
              "      <td>1</td>\n",
              "    </tr>\n",
              "    <tr>\n",
              "      <th>293</th>\n",
              "      <td>2</td>\n",
              "      <td>2</td>\n",
              "      <td>2023-03-19 08:35:00</td>\n",
              "      <td>1</td>\n",
              "    </tr>\n",
              "  </tbody>\n",
              "</table>\n",
              "<p>294 rows × 4 columns</p>\n",
              "</div>\n",
              "      <button class=\"colab-df-convert\" onclick=\"convertToInteractive('df-746e53e1-7f3e-4486-938f-5fca41ca01c9')\"\n",
              "              title=\"Convert this dataframe to an interactive table.\"\n",
              "              style=\"display:none;\">\n",
              "        \n",
              "  <svg xmlns=\"http://www.w3.org/2000/svg\" height=\"24px\"viewBox=\"0 0 24 24\"\n",
              "       width=\"24px\">\n",
              "    <path d=\"M0 0h24v24H0V0z\" fill=\"none\"/>\n",
              "    <path d=\"M18.56 5.44l.94 2.06.94-2.06 2.06-.94-2.06-.94-.94-2.06-.94 2.06-2.06.94zm-11 1L8.5 8.5l.94-2.06 2.06-.94-2.06-.94L8.5 2.5l-.94 2.06-2.06.94zm10 10l.94 2.06.94-2.06 2.06-.94-2.06-.94-.94-2.06-.94 2.06-2.06.94z\"/><path d=\"M17.41 7.96l-1.37-1.37c-.4-.4-.92-.59-1.43-.59-.52 0-1.04.2-1.43.59L10.3 9.45l-7.72 7.72c-.78.78-.78 2.05 0 2.83L4 21.41c.39.39.9.59 1.41.59.51 0 1.02-.2 1.41-.59l7.78-7.78 2.81-2.81c.8-.78.8-2.07 0-2.86zM5.41 20L4 18.59l7.72-7.72 1.47 1.35L5.41 20z\"/>\n",
              "  </svg>\n",
              "      </button>\n",
              "      \n",
              "  <style>\n",
              "    .colab-df-container {\n",
              "      display:flex;\n",
              "      flex-wrap:wrap;\n",
              "      gap: 12px;\n",
              "    }\n",
              "\n",
              "    .colab-df-convert {\n",
              "      background-color: #E8F0FE;\n",
              "      border: none;\n",
              "      border-radius: 50%;\n",
              "      cursor: pointer;\n",
              "      display: none;\n",
              "      fill: #1967D2;\n",
              "      height: 32px;\n",
              "      padding: 0 0 0 0;\n",
              "      width: 32px;\n",
              "    }\n",
              "\n",
              "    .colab-df-convert:hover {\n",
              "      background-color: #E2EBFA;\n",
              "      box-shadow: 0px 1px 2px rgba(60, 64, 67, 0.3), 0px 1px 3px 1px rgba(60, 64, 67, 0.15);\n",
              "      fill: #174EA6;\n",
              "    }\n",
              "\n",
              "    [theme=dark] .colab-df-convert {\n",
              "      background-color: #3B4455;\n",
              "      fill: #D2E3FC;\n",
              "    }\n",
              "\n",
              "    [theme=dark] .colab-df-convert:hover {\n",
              "      background-color: #434B5C;\n",
              "      box-shadow: 0px 1px 3px 1px rgba(0, 0, 0, 0.15);\n",
              "      filter: drop-shadow(0px 1px 2px rgba(0, 0, 0, 0.3));\n",
              "      fill: #FFFFFF;\n",
              "    }\n",
              "  </style>\n",
              "\n",
              "      <script>\n",
              "        const buttonEl =\n",
              "          document.querySelector('#df-746e53e1-7f3e-4486-938f-5fca41ca01c9 button.colab-df-convert');\n",
              "        buttonEl.style.display =\n",
              "          google.colab.kernel.accessAllowed ? 'block' : 'none';\n",
              "\n",
              "        async function convertToInteractive(key) {\n",
              "          const element = document.querySelector('#df-746e53e1-7f3e-4486-938f-5fca41ca01c9');\n",
              "          const dataTable =\n",
              "            await google.colab.kernel.invokeFunction('convertToInteractive',\n",
              "                                                     [key], {});\n",
              "          if (!dataTable) return;\n",
              "\n",
              "          const docLinkHtml = 'Like what you see? Visit the ' +\n",
              "            '<a target=\"_blank\" href=https://colab.research.google.com/notebooks/data_table.ipynb>data table notebook</a>'\n",
              "            + ' to learn more about interactive tables.';\n",
              "          element.innerHTML = '';\n",
              "          dataTable['output_type'] = 'display_data';\n",
              "          await google.colab.output.renderOutput(dataTable, element);\n",
              "          const docLink = document.createElement('div');\n",
              "          docLink.innerHTML = docLinkHtml;\n",
              "          element.appendChild(docLink);\n",
              "        }\n",
              "      </script>\n",
              "    </div>\n",
              "  </div>\n",
              "  "
            ]
          },
          "metadata": {},
          "execution_count": 30
        }
      ]
    },
    {
      "cell_type": "code",
      "source": [
        "cal = comment.groupby([\"Item\",\"sentiment\"])[\"comment\"].count().unstack('sentiment', fill_value=0).reset_index()"
      ],
      "metadata": {
        "id": "5VH7T9oKhpRp"
      },
      "execution_count": null,
      "outputs": []
    },
    {
      "cell_type": "code",
      "source": [
        "cal.columns = [\"No_Item\",\"Negative\",\"Neutral\",\"Positive\"]"
      ],
      "metadata": {
        "id": "YFv6TqBLh2R8"
      },
      "execution_count": null,
      "outputs": []
    },
    {
      "cell_type": "code",
      "source": [
        "cal[\"Total\"] = cal[\"Negative\"] + cal[\"Neutral\"] + cal[\"Positive\"]\n",
        "cal[\"Negative\"] = cal[\"Negative\"]/cal[\"Total\"]\n",
        "cal[\"Neutral\"] = cal[\"Neutral\"]/cal[\"Total\"]\n",
        "cal[\"Positive\"] = cal[\"Positive\"]/cal[\"Total\"]"
      ],
      "metadata": {
        "id": "Zb58mTMsh6Di"
      },
      "execution_count": null,
      "outputs": []
    },
    {
      "cell_type": "code",
      "source": [
        "cal.to_csv(\"300items_1-5.csv\",index= False)"
      ],
      "metadata": {
        "id": "0ogAiGSlh-Ek"
      },
      "execution_count": null,
      "outputs": []
    },
    {
      "cell_type": "code",
      "execution_count": null,
      "metadata": {
        "id": "id8kjCd_Bjm7"
      },
      "outputs": [],
      "source": [
        "raw_sold = raw_sold.fillna(method='ffill')\n",
        "raw_sold[\"Item\"] = raw_sold[\"Item\"].astype(int)\n",
        "raw_sold[\"Quantity sold\"] = raw_sold[\"Quantity sold\"].astype(int)\n",
        "raw_sold = raw_sold[['Item', 'Date', 'Quantity sold']]\n",
        "\n",
        "raw_sold.rename(columns={'Item': 'item', 'Date': 'datetime', 'Quantity sold': 'q_sold'}, inplace=True)"
      ]
    },
    {
      "cell_type": "code",
      "execution_count": null,
      "metadata": {
        "id": "KEp25HQcwlzk"
      },
      "outputs": [],
      "source": [
        "raw_sold['datetime'] = pd.to_datetime(raw_sold['datetime'], format=\"%d/%m/%Y\")"
      ]
    },
    {
      "cell_type": "code",
      "source": [
        "sold_1"
      ],
      "metadata": {
        "colab": {
          "base_uri": "https://localhost:8080/",
          "height": 423
        },
        "id": "p2-RSESkIBkp",
        "outputId": "2a16c00d-106b-432b-83e0-1620f9a468e2"
      },
      "execution_count": null,
      "outputs": [
        {
          "output_type": "execute_result",
          "data": {
            "text/plain": [
              "      item   datetime  q_sold\n",
              "0        1 2023-03-03       0\n",
              "1        1 2023-03-04      19\n",
              "2        1 2023-03-05      23\n",
              "3        1 2023-03-06      13\n",
              "4        1 2023-03-07      15\n",
              "...    ...        ...     ...\n",
              "4847   300 2023-03-09       7\n",
              "4848   300 2023-03-10       2\n",
              "4849   300 2023-03-11       5\n",
              "4850   300 2023-03-12       1\n",
              "4851   300 2023-03-13       0\n",
              "\n",
              "[4852 rows x 3 columns]"
            ],
            "text/html": [
              "\n",
              "  <div id=\"df-5eba4459-5440-4a26-86b6-03d26883a095\">\n",
              "    <div class=\"colab-df-container\">\n",
              "      <div>\n",
              "<style scoped>\n",
              "    .dataframe tbody tr th:only-of-type {\n",
              "        vertical-align: middle;\n",
              "    }\n",
              "\n",
              "    .dataframe tbody tr th {\n",
              "        vertical-align: top;\n",
              "    }\n",
              "\n",
              "    .dataframe thead th {\n",
              "        text-align: right;\n",
              "    }\n",
              "</style>\n",
              "<table border=\"1\" class=\"dataframe\">\n",
              "  <thead>\n",
              "    <tr style=\"text-align: right;\">\n",
              "      <th></th>\n",
              "      <th>item</th>\n",
              "      <th>datetime</th>\n",
              "      <th>q_sold</th>\n",
              "    </tr>\n",
              "  </thead>\n",
              "  <tbody>\n",
              "    <tr>\n",
              "      <th>0</th>\n",
              "      <td>1</td>\n",
              "      <td>2023-03-03</td>\n",
              "      <td>0</td>\n",
              "    </tr>\n",
              "    <tr>\n",
              "      <th>1</th>\n",
              "      <td>1</td>\n",
              "      <td>2023-03-04</td>\n",
              "      <td>19</td>\n",
              "    </tr>\n",
              "    <tr>\n",
              "      <th>2</th>\n",
              "      <td>1</td>\n",
              "      <td>2023-03-05</td>\n",
              "      <td>23</td>\n",
              "    </tr>\n",
              "    <tr>\n",
              "      <th>3</th>\n",
              "      <td>1</td>\n",
              "      <td>2023-03-06</td>\n",
              "      <td>13</td>\n",
              "    </tr>\n",
              "    <tr>\n",
              "      <th>4</th>\n",
              "      <td>1</td>\n",
              "      <td>2023-03-07</td>\n",
              "      <td>15</td>\n",
              "    </tr>\n",
              "    <tr>\n",
              "      <th>...</th>\n",
              "      <td>...</td>\n",
              "      <td>...</td>\n",
              "      <td>...</td>\n",
              "    </tr>\n",
              "    <tr>\n",
              "      <th>4847</th>\n",
              "      <td>300</td>\n",
              "      <td>2023-03-09</td>\n",
              "      <td>7</td>\n",
              "    </tr>\n",
              "    <tr>\n",
              "      <th>4848</th>\n",
              "      <td>300</td>\n",
              "      <td>2023-03-10</td>\n",
              "      <td>2</td>\n",
              "    </tr>\n",
              "    <tr>\n",
              "      <th>4849</th>\n",
              "      <td>300</td>\n",
              "      <td>2023-03-11</td>\n",
              "      <td>5</td>\n",
              "    </tr>\n",
              "    <tr>\n",
              "      <th>4850</th>\n",
              "      <td>300</td>\n",
              "      <td>2023-03-12</td>\n",
              "      <td>1</td>\n",
              "    </tr>\n",
              "    <tr>\n",
              "      <th>4851</th>\n",
              "      <td>300</td>\n",
              "      <td>2023-03-13</td>\n",
              "      <td>0</td>\n",
              "    </tr>\n",
              "  </tbody>\n",
              "</table>\n",
              "<p>4852 rows × 3 columns</p>\n",
              "</div>\n",
              "      <button class=\"colab-df-convert\" onclick=\"convertToInteractive('df-5eba4459-5440-4a26-86b6-03d26883a095')\"\n",
              "              title=\"Convert this dataframe to an interactive table.\"\n",
              "              style=\"display:none;\">\n",
              "        \n",
              "  <svg xmlns=\"http://www.w3.org/2000/svg\" height=\"24px\"viewBox=\"0 0 24 24\"\n",
              "       width=\"24px\">\n",
              "    <path d=\"M0 0h24v24H0V0z\" fill=\"none\"/>\n",
              "    <path d=\"M18.56 5.44l.94 2.06.94-2.06 2.06-.94-2.06-.94-.94-2.06-.94 2.06-2.06.94zm-11 1L8.5 8.5l.94-2.06 2.06-.94-2.06-.94L8.5 2.5l-.94 2.06-2.06.94zm10 10l.94 2.06.94-2.06 2.06-.94-2.06-.94-.94-2.06-.94 2.06-2.06.94z\"/><path d=\"M17.41 7.96l-1.37-1.37c-.4-.4-.92-.59-1.43-.59-.52 0-1.04.2-1.43.59L10.3 9.45l-7.72 7.72c-.78.78-.78 2.05 0 2.83L4 21.41c.39.39.9.59 1.41.59.51 0 1.02-.2 1.41-.59l7.78-7.78 2.81-2.81c.8-.78.8-2.07 0-2.86zM5.41 20L4 18.59l7.72-7.72 1.47 1.35L5.41 20z\"/>\n",
              "  </svg>\n",
              "      </button>\n",
              "      \n",
              "  <style>\n",
              "    .colab-df-container {\n",
              "      display:flex;\n",
              "      flex-wrap:wrap;\n",
              "      gap: 12px;\n",
              "    }\n",
              "\n",
              "    .colab-df-convert {\n",
              "      background-color: #E8F0FE;\n",
              "      border: none;\n",
              "      border-radius: 50%;\n",
              "      cursor: pointer;\n",
              "      display: none;\n",
              "      fill: #1967D2;\n",
              "      height: 32px;\n",
              "      padding: 0 0 0 0;\n",
              "      width: 32px;\n",
              "    }\n",
              "\n",
              "    .colab-df-convert:hover {\n",
              "      background-color: #E2EBFA;\n",
              "      box-shadow: 0px 1px 2px rgba(60, 64, 67, 0.3), 0px 1px 3px 1px rgba(60, 64, 67, 0.15);\n",
              "      fill: #174EA6;\n",
              "    }\n",
              "\n",
              "    [theme=dark] .colab-df-convert {\n",
              "      background-color: #3B4455;\n",
              "      fill: #D2E3FC;\n",
              "    }\n",
              "\n",
              "    [theme=dark] .colab-df-convert:hover {\n",
              "      background-color: #434B5C;\n",
              "      box-shadow: 0px 1px 3px 1px rgba(0, 0, 0, 0.15);\n",
              "      filter: drop-shadow(0px 1px 2px rgba(0, 0, 0, 0.3));\n",
              "      fill: #FFFFFF;\n",
              "    }\n",
              "  </style>\n",
              "\n",
              "      <script>\n",
              "        const buttonEl =\n",
              "          document.querySelector('#df-5eba4459-5440-4a26-86b6-03d26883a095 button.colab-df-convert');\n",
              "        buttonEl.style.display =\n",
              "          google.colab.kernel.accessAllowed ? 'block' : 'none';\n",
              "\n",
              "        async function convertToInteractive(key) {\n",
              "          const element = document.querySelector('#df-5eba4459-5440-4a26-86b6-03d26883a095');\n",
              "          const dataTable =\n",
              "            await google.colab.kernel.invokeFunction('convertToInteractive',\n",
              "                                                     [key], {});\n",
              "          if (!dataTable) return;\n",
              "\n",
              "          const docLinkHtml = 'Like what you see? Visit the ' +\n",
              "            '<a target=\"_blank\" href=https://colab.research.google.com/notebooks/data_table.ipynb>data table notebook</a>'\n",
              "            + ' to learn more about interactive tables.';\n",
              "          element.innerHTML = '';\n",
              "          dataTable['output_type'] = 'display_data';\n",
              "          await google.colab.output.renderOutput(dataTable, element);\n",
              "          const docLink = document.createElement('div');\n",
              "          docLink.innerHTML = docLinkHtml;\n",
              "          element.appendChild(docLink);\n",
              "        }\n",
              "      </script>\n",
              "    </div>\n",
              "  </div>\n",
              "  "
            ]
          },
          "metadata": {},
          "execution_count": 20
        }
      ]
    },
    {
      "cell_type": "code",
      "source": [
        "from statsmodels.tsa.arima.model import ARIMA"
      ],
      "metadata": {
        "id": "Ss-St_C8J8pw"
      },
      "execution_count": null,
      "outputs": []
    },
    {
      "cell_type": "code",
      "execution_count": null,
      "metadata": {
        "colab": {
          "base_uri": "https://localhost:8080/"
        },
        "id": "Gi6Qmg8oDiok",
        "outputId": "67fb2895-3777-4b1c-c842-530ae22f3262"
      },
      "outputs": [
        {
          "output_type": "stream",
          "name": "stderr",
          "text": [
            "100%|██████████| 300/300 [00:04<00:00, 64.98it/s]\n"
          ]
        }
      ],
      "source": [
        "from datetime import timedelta\n",
        "new_sold = pd.DataFrame(columns=['item', 'datetime', 'q_sold'])\n",
        "for i in tqdm(range(1,301)):\n",
        "  sold1_item = sold_1[sold_1['item']==i]\n",
        "  sold2_item = raw_sold[raw_sold['item']==i]\n",
        "  lastest_date = sold1_item['datetime'].max()\n",
        "  earliest_date = sold2_item['datetime'].min()\n",
        "  try:\n",
        "    diff_date = (earliest_date - lastest_date).days\n",
        "    item = [i]*(int(diff_date)+1)\n",
        "    datetime = [lastest_date + timedelta(days=j) for j in range(1, int(diff_date)+2)]\n",
        "    history = sold1_item['q_sold'].tolist()[1:]\n",
        "    q_sold = []\n",
        "    for i in range(int(diff_date)+1):\n",
        "      # model = ARIMA(history, order=(1,1,1))\n",
        "      # model_fit = model.fit()\n",
        "      # output = model_fit.forecast()\n",
        "      # q_sold.append(output[0])\n",
        "      # history.append(q_sold[-1])\n",
        "      q_sold = [round(sold1_item['q_sold'].mean())]*(int(diff_date)+1)\n",
        "      # q_sold = [test_[index]]*(int(diff_date)+1)\n",
        "      fill_out = pd.DataFrame(zip(item, datetime, q_sold), columns=['item', 'datetime', 'q_sold'])\n",
        "      item_df = pd.concat([sold1_item, fill_out, sold2_item.loc[1:]])\n",
        "      new_sold = pd.concat([new_sold, item_df])\n",
        "  except:\n",
        "    print(i)\n",
        "    # print(sold1_item)\n",
        "    # print(sold2_item)\n"
      ]
    },
    {
      "cell_type": "code",
      "execution_count": null,
      "metadata": {
        "id": "MMVhTOTfoZ7u"
      },
      "outputs": [],
      "source": [
        "sold_1 = raw_sold"
      ]
    },
    {
      "cell_type": "code",
      "execution_count": null,
      "metadata": {
        "id": "5xXX3z_qpSzx",
        "colab": {
          "base_uri": "https://localhost:8080/",
          "height": 423
        },
        "outputId": "30501512-1379-410b-a1ff-cbbabe02b7ab"
      },
      "outputs": [
        {
          "output_type": "execute_result",
          "data": {
            "text/plain": [
              "      item   datetime  q_sold\n",
              "0        1 2023-03-03       0\n",
              "1        1 2023-03-04      19\n",
              "2        1 2023-03-05      23\n",
              "3        1 2023-03-06      13\n",
              "4        1 2023-03-07      15\n",
              "...    ...        ...     ...\n",
              "4847   300 2023-03-09       7\n",
              "4848   300 2023-03-10       2\n",
              "4849   300 2023-03-11       5\n",
              "4850   300 2023-03-12       1\n",
              "4851   300 2023-03-13       0\n",
              "\n",
              "[4852 rows x 3 columns]"
            ],
            "text/html": [
              "\n",
              "  <div id=\"df-71b17ebb-d38b-4e0a-9bb1-1c90f4891d3f\">\n",
              "    <div class=\"colab-df-container\">\n",
              "      <div>\n",
              "<style scoped>\n",
              "    .dataframe tbody tr th:only-of-type {\n",
              "        vertical-align: middle;\n",
              "    }\n",
              "\n",
              "    .dataframe tbody tr th {\n",
              "        vertical-align: top;\n",
              "    }\n",
              "\n",
              "    .dataframe thead th {\n",
              "        text-align: right;\n",
              "    }\n",
              "</style>\n",
              "<table border=\"1\" class=\"dataframe\">\n",
              "  <thead>\n",
              "    <tr style=\"text-align: right;\">\n",
              "      <th></th>\n",
              "      <th>item</th>\n",
              "      <th>datetime</th>\n",
              "      <th>q_sold</th>\n",
              "    </tr>\n",
              "  </thead>\n",
              "  <tbody>\n",
              "    <tr>\n",
              "      <th>0</th>\n",
              "      <td>1</td>\n",
              "      <td>2023-03-03</td>\n",
              "      <td>0</td>\n",
              "    </tr>\n",
              "    <tr>\n",
              "      <th>1</th>\n",
              "      <td>1</td>\n",
              "      <td>2023-03-04</td>\n",
              "      <td>19</td>\n",
              "    </tr>\n",
              "    <tr>\n",
              "      <th>2</th>\n",
              "      <td>1</td>\n",
              "      <td>2023-03-05</td>\n",
              "      <td>23</td>\n",
              "    </tr>\n",
              "    <tr>\n",
              "      <th>3</th>\n",
              "      <td>1</td>\n",
              "      <td>2023-03-06</td>\n",
              "      <td>13</td>\n",
              "    </tr>\n",
              "    <tr>\n",
              "      <th>4</th>\n",
              "      <td>1</td>\n",
              "      <td>2023-03-07</td>\n",
              "      <td>15</td>\n",
              "    </tr>\n",
              "    <tr>\n",
              "      <th>...</th>\n",
              "      <td>...</td>\n",
              "      <td>...</td>\n",
              "      <td>...</td>\n",
              "    </tr>\n",
              "    <tr>\n",
              "      <th>4847</th>\n",
              "      <td>300</td>\n",
              "      <td>2023-03-09</td>\n",
              "      <td>7</td>\n",
              "    </tr>\n",
              "    <tr>\n",
              "      <th>4848</th>\n",
              "      <td>300</td>\n",
              "      <td>2023-03-10</td>\n",
              "      <td>2</td>\n",
              "    </tr>\n",
              "    <tr>\n",
              "      <th>4849</th>\n",
              "      <td>300</td>\n",
              "      <td>2023-03-11</td>\n",
              "      <td>5</td>\n",
              "    </tr>\n",
              "    <tr>\n",
              "      <th>4850</th>\n",
              "      <td>300</td>\n",
              "      <td>2023-03-12</td>\n",
              "      <td>1</td>\n",
              "    </tr>\n",
              "    <tr>\n",
              "      <th>4851</th>\n",
              "      <td>300</td>\n",
              "      <td>2023-03-13</td>\n",
              "      <td>0</td>\n",
              "    </tr>\n",
              "  </tbody>\n",
              "</table>\n",
              "<p>4852 rows × 3 columns</p>\n",
              "</div>\n",
              "      <button class=\"colab-df-convert\" onclick=\"convertToInteractive('df-71b17ebb-d38b-4e0a-9bb1-1c90f4891d3f')\"\n",
              "              title=\"Convert this dataframe to an interactive table.\"\n",
              "              style=\"display:none;\">\n",
              "        \n",
              "  <svg xmlns=\"http://www.w3.org/2000/svg\" height=\"24px\"viewBox=\"0 0 24 24\"\n",
              "       width=\"24px\">\n",
              "    <path d=\"M0 0h24v24H0V0z\" fill=\"none\"/>\n",
              "    <path d=\"M18.56 5.44l.94 2.06.94-2.06 2.06-.94-2.06-.94-.94-2.06-.94 2.06-2.06.94zm-11 1L8.5 8.5l.94-2.06 2.06-.94-2.06-.94L8.5 2.5l-.94 2.06-2.06.94zm10 10l.94 2.06.94-2.06 2.06-.94-2.06-.94-.94-2.06-.94 2.06-2.06.94z\"/><path d=\"M17.41 7.96l-1.37-1.37c-.4-.4-.92-.59-1.43-.59-.52 0-1.04.2-1.43.59L10.3 9.45l-7.72 7.72c-.78.78-.78 2.05 0 2.83L4 21.41c.39.39.9.59 1.41.59.51 0 1.02-.2 1.41-.59l7.78-7.78 2.81-2.81c.8-.78.8-2.07 0-2.86zM5.41 20L4 18.59l7.72-7.72 1.47 1.35L5.41 20z\"/>\n",
              "  </svg>\n",
              "      </button>\n",
              "      \n",
              "  <style>\n",
              "    .colab-df-container {\n",
              "      display:flex;\n",
              "      flex-wrap:wrap;\n",
              "      gap: 12px;\n",
              "    }\n",
              "\n",
              "    .colab-df-convert {\n",
              "      background-color: #E8F0FE;\n",
              "      border: none;\n",
              "      border-radius: 50%;\n",
              "      cursor: pointer;\n",
              "      display: none;\n",
              "      fill: #1967D2;\n",
              "      height: 32px;\n",
              "      padding: 0 0 0 0;\n",
              "      width: 32px;\n",
              "    }\n",
              "\n",
              "    .colab-df-convert:hover {\n",
              "      background-color: #E2EBFA;\n",
              "      box-shadow: 0px 1px 2px rgba(60, 64, 67, 0.3), 0px 1px 3px 1px rgba(60, 64, 67, 0.15);\n",
              "      fill: #174EA6;\n",
              "    }\n",
              "\n",
              "    [theme=dark] .colab-df-convert {\n",
              "      background-color: #3B4455;\n",
              "      fill: #D2E3FC;\n",
              "    }\n",
              "\n",
              "    [theme=dark] .colab-df-convert:hover {\n",
              "      background-color: #434B5C;\n",
              "      box-shadow: 0px 1px 3px 1px rgba(0, 0, 0, 0.15);\n",
              "      filter: drop-shadow(0px 1px 2px rgba(0, 0, 0, 0.3));\n",
              "      fill: #FFFFFF;\n",
              "    }\n",
              "  </style>\n",
              "\n",
              "      <script>\n",
              "        const buttonEl =\n",
              "          document.querySelector('#df-71b17ebb-d38b-4e0a-9bb1-1c90f4891d3f button.colab-df-convert');\n",
              "        buttonEl.style.display =\n",
              "          google.colab.kernel.accessAllowed ? 'block' : 'none';\n",
              "\n",
              "        async function convertToInteractive(key) {\n",
              "          const element = document.querySelector('#df-71b17ebb-d38b-4e0a-9bb1-1c90f4891d3f');\n",
              "          const dataTable =\n",
              "            await google.colab.kernel.invokeFunction('convertToInteractive',\n",
              "                                                     [key], {});\n",
              "          if (!dataTable) return;\n",
              "\n",
              "          const docLinkHtml = 'Like what you see? Visit the ' +\n",
              "            '<a target=\"_blank\" href=https://colab.research.google.com/notebooks/data_table.ipynb>data table notebook</a>'\n",
              "            + ' to learn more about interactive tables.';\n",
              "          element.innerHTML = '';\n",
              "          dataTable['output_type'] = 'display_data';\n",
              "          await google.colab.output.renderOutput(dataTable, element);\n",
              "          const docLink = document.createElement('div');\n",
              "          docLink.innerHTML = docLinkHtml;\n",
              "          element.appendChild(docLink);\n",
              "        }\n",
              "      </script>\n",
              "    </div>\n",
              "  </div>\n",
              "  "
            ]
          },
          "metadata": {},
          "execution_count": 7
        }
      ],
      "source": [
        "raw_sold"
      ]
    },
    {
      "cell_type": "code",
      "execution_count": null,
      "metadata": {
        "id": "nb416GDJPD8v"
      },
      "outputs": [],
      "source": [
        "new_sold['q_sold'] = [round(i) for i in new_sold['q_sold'].tolist()]"
      ]
    },
    {
      "cell_type": "code",
      "source": [
        "new_sold"
      ],
      "metadata": {
        "colab": {
          "base_uri": "https://localhost:8080/",
          "height": 423
        },
        "id": "V5xeEwiUuU-Y",
        "outputId": "c78a7dc5-9478-4bcd-f511-6e887608c273"
      },
      "execution_count": null,
      "outputs": [
        {
          "output_type": "execute_result",
          "data": {
            "text/plain": [
              "     item   datetime  q_sold\n",
              "0       1 2023-03-03       0\n",
              "1       1 2023-03-04      19\n",
              "2       1 2023-03-05      23\n",
              "3       1 2023-03-06      13\n",
              "4       1 2023-03-07      15\n",
              "...   ...        ...     ...\n",
              "6413  300 2023-04-01      11\n",
              "6414  300 2023-04-02       3\n",
              "6415  300 2023-04-11      70\n",
              "6416  300 2023-04-12      13\n",
              "6417  300 2023-04-13       6\n",
              "\n",
              "[69518 rows x 3 columns]"
            ],
            "text/html": [
              "\n",
              "  <div id=\"df-2a1b9cf7-c955-471b-8297-44631a2c89b3\">\n",
              "    <div class=\"colab-df-container\">\n",
              "      <div>\n",
              "<style scoped>\n",
              "    .dataframe tbody tr th:only-of-type {\n",
              "        vertical-align: middle;\n",
              "    }\n",
              "\n",
              "    .dataframe tbody tr th {\n",
              "        vertical-align: top;\n",
              "    }\n",
              "\n",
              "    .dataframe thead th {\n",
              "        text-align: right;\n",
              "    }\n",
              "</style>\n",
              "<table border=\"1\" class=\"dataframe\">\n",
              "  <thead>\n",
              "    <tr style=\"text-align: right;\">\n",
              "      <th></th>\n",
              "      <th>item</th>\n",
              "      <th>datetime</th>\n",
              "      <th>q_sold</th>\n",
              "    </tr>\n",
              "  </thead>\n",
              "  <tbody>\n",
              "    <tr>\n",
              "      <th>0</th>\n",
              "      <td>1</td>\n",
              "      <td>2023-03-03</td>\n",
              "      <td>0</td>\n",
              "    </tr>\n",
              "    <tr>\n",
              "      <th>1</th>\n",
              "      <td>1</td>\n",
              "      <td>2023-03-04</td>\n",
              "      <td>19</td>\n",
              "    </tr>\n",
              "    <tr>\n",
              "      <th>2</th>\n",
              "      <td>1</td>\n",
              "      <td>2023-03-05</td>\n",
              "      <td>23</td>\n",
              "    </tr>\n",
              "    <tr>\n",
              "      <th>3</th>\n",
              "      <td>1</td>\n",
              "      <td>2023-03-06</td>\n",
              "      <td>13</td>\n",
              "    </tr>\n",
              "    <tr>\n",
              "      <th>4</th>\n",
              "      <td>1</td>\n",
              "      <td>2023-03-07</td>\n",
              "      <td>15</td>\n",
              "    </tr>\n",
              "    <tr>\n",
              "      <th>...</th>\n",
              "      <td>...</td>\n",
              "      <td>...</td>\n",
              "      <td>...</td>\n",
              "    </tr>\n",
              "    <tr>\n",
              "      <th>6413</th>\n",
              "      <td>300</td>\n",
              "      <td>2023-04-01</td>\n",
              "      <td>11</td>\n",
              "    </tr>\n",
              "    <tr>\n",
              "      <th>6414</th>\n",
              "      <td>300</td>\n",
              "      <td>2023-04-02</td>\n",
              "      <td>3</td>\n",
              "    </tr>\n",
              "    <tr>\n",
              "      <th>6415</th>\n",
              "      <td>300</td>\n",
              "      <td>2023-04-11</td>\n",
              "      <td>70</td>\n",
              "    </tr>\n",
              "    <tr>\n",
              "      <th>6416</th>\n",
              "      <td>300</td>\n",
              "      <td>2023-04-12</td>\n",
              "      <td>13</td>\n",
              "    </tr>\n",
              "    <tr>\n",
              "      <th>6417</th>\n",
              "      <td>300</td>\n",
              "      <td>2023-04-13</td>\n",
              "      <td>6</td>\n",
              "    </tr>\n",
              "  </tbody>\n",
              "</table>\n",
              "<p>69518 rows × 3 columns</p>\n",
              "</div>\n",
              "      <button class=\"colab-df-convert\" onclick=\"convertToInteractive('df-2a1b9cf7-c955-471b-8297-44631a2c89b3')\"\n",
              "              title=\"Convert this dataframe to an interactive table.\"\n",
              "              style=\"display:none;\">\n",
              "        \n",
              "  <svg xmlns=\"http://www.w3.org/2000/svg\" height=\"24px\"viewBox=\"0 0 24 24\"\n",
              "       width=\"24px\">\n",
              "    <path d=\"M0 0h24v24H0V0z\" fill=\"none\"/>\n",
              "    <path d=\"M18.56 5.44l.94 2.06.94-2.06 2.06-.94-2.06-.94-.94-2.06-.94 2.06-2.06.94zm-11 1L8.5 8.5l.94-2.06 2.06-.94-2.06-.94L8.5 2.5l-.94 2.06-2.06.94zm10 10l.94 2.06.94-2.06 2.06-.94-2.06-.94-.94-2.06-.94 2.06-2.06.94z\"/><path d=\"M17.41 7.96l-1.37-1.37c-.4-.4-.92-.59-1.43-.59-.52 0-1.04.2-1.43.59L10.3 9.45l-7.72 7.72c-.78.78-.78 2.05 0 2.83L4 21.41c.39.39.9.59 1.41.59.51 0 1.02-.2 1.41-.59l7.78-7.78 2.81-2.81c.8-.78.8-2.07 0-2.86zM5.41 20L4 18.59l7.72-7.72 1.47 1.35L5.41 20z\"/>\n",
              "  </svg>\n",
              "      </button>\n",
              "      \n",
              "  <style>\n",
              "    .colab-df-container {\n",
              "      display:flex;\n",
              "      flex-wrap:wrap;\n",
              "      gap: 12px;\n",
              "    }\n",
              "\n",
              "    .colab-df-convert {\n",
              "      background-color: #E8F0FE;\n",
              "      border: none;\n",
              "      border-radius: 50%;\n",
              "      cursor: pointer;\n",
              "      display: none;\n",
              "      fill: #1967D2;\n",
              "      height: 32px;\n",
              "      padding: 0 0 0 0;\n",
              "      width: 32px;\n",
              "    }\n",
              "\n",
              "    .colab-df-convert:hover {\n",
              "      background-color: #E2EBFA;\n",
              "      box-shadow: 0px 1px 2px rgba(60, 64, 67, 0.3), 0px 1px 3px 1px rgba(60, 64, 67, 0.15);\n",
              "      fill: #174EA6;\n",
              "    }\n",
              "\n",
              "    [theme=dark] .colab-df-convert {\n",
              "      background-color: #3B4455;\n",
              "      fill: #D2E3FC;\n",
              "    }\n",
              "\n",
              "    [theme=dark] .colab-df-convert:hover {\n",
              "      background-color: #434B5C;\n",
              "      box-shadow: 0px 1px 3px 1px rgba(0, 0, 0, 0.15);\n",
              "      filter: drop-shadow(0px 1px 2px rgba(0, 0, 0, 0.3));\n",
              "      fill: #FFFFFF;\n",
              "    }\n",
              "  </style>\n",
              "\n",
              "      <script>\n",
              "        const buttonEl =\n",
              "          document.querySelector('#df-2a1b9cf7-c955-471b-8297-44631a2c89b3 button.colab-df-convert');\n",
              "        buttonEl.style.display =\n",
              "          google.colab.kernel.accessAllowed ? 'block' : 'none';\n",
              "\n",
              "        async function convertToInteractive(key) {\n",
              "          const element = document.querySelector('#df-2a1b9cf7-c955-471b-8297-44631a2c89b3');\n",
              "          const dataTable =\n",
              "            await google.colab.kernel.invokeFunction('convertToInteractive',\n",
              "                                                     [key], {});\n",
              "          if (!dataTable) return;\n",
              "\n",
              "          const docLinkHtml = 'Like what you see? Visit the ' +\n",
              "            '<a target=\"_blank\" href=https://colab.research.google.com/notebooks/data_table.ipynb>data table notebook</a>'\n",
              "            + ' to learn more about interactive tables.';\n",
              "          element.innerHTML = '';\n",
              "          dataTable['output_type'] = 'display_data';\n",
              "          await google.colab.output.renderOutput(dataTable, element);\n",
              "          const docLink = document.createElement('div');\n",
              "          docLink.innerHTML = docLinkHtml;\n",
              "          element.appendChild(docLink);\n",
              "        }\n",
              "      </script>\n",
              "    </div>\n",
              "  </div>\n",
              "  "
            ]
          },
          "metadata": {},
          "execution_count": 37
        }
      ]
    },
    {
      "cell_type": "code",
      "source": [
        "!pip install transformers"
      ],
      "metadata": {
        "colab": {
          "base_uri": "https://localhost:8080/"
        },
        "id": "TxH-zIDnwoTf",
        "outputId": "b56836c2-0710-4058-84e2-1f24e645a2e8"
      },
      "execution_count": null,
      "outputs": [
        {
          "output_type": "stream",
          "name": "stdout",
          "text": [
            "Looking in indexes: https://pypi.org/simple, https://us-python.pkg.dev/colab-wheels/public/simple/\n",
            "Requirement already satisfied: transformers in /usr/local/lib/python3.10/dist-packages (4.28.1)\n",
            "Requirement already satisfied: requests in /usr/local/lib/python3.10/dist-packages (from transformers) (2.27.1)\n",
            "Requirement already satisfied: numpy>=1.17 in /usr/local/lib/python3.10/dist-packages (from transformers) (1.22.4)\n",
            "Requirement already satisfied: tqdm>=4.27 in /usr/local/lib/python3.10/dist-packages (from transformers) (4.65.0)\n",
            "Requirement already satisfied: tokenizers!=0.11.3,<0.14,>=0.11.1 in /usr/local/lib/python3.10/dist-packages (from transformers) (0.13.3)\n",
            "Requirement already satisfied: packaging>=20.0 in /usr/local/lib/python3.10/dist-packages (from transformers) (21.3)\n",
            "Requirement already satisfied: huggingface-hub<1.0,>=0.11.0 in /usr/local/lib/python3.10/dist-packages (from transformers) (0.14.1)\n",
            "Requirement already satisfied: regex!=2019.12.17 in /usr/local/lib/python3.10/dist-packages (from transformers) (2022.10.31)\n",
            "Requirement already satisfied: filelock in /usr/local/lib/python3.10/dist-packages (from transformers) (3.12.0)\n",
            "Requirement already satisfied: pyyaml>=5.1 in /usr/local/lib/python3.10/dist-packages (from transformers) (6.0)\n",
            "Requirement already satisfied: typing-extensions>=3.7.4.3 in /usr/local/lib/python3.10/dist-packages (from huggingface-hub<1.0,>=0.11.0->transformers) (4.5.0)\n",
            "Requirement already satisfied: fsspec in /usr/local/lib/python3.10/dist-packages (from huggingface-hub<1.0,>=0.11.0->transformers) (2023.4.0)\n",
            "Requirement already satisfied: pyparsing!=3.0.5,>=2.0.2 in /usr/local/lib/python3.10/dist-packages (from packaging>=20.0->transformers) (3.0.9)\n",
            "Requirement already satisfied: certifi>=2017.4.17 in /usr/local/lib/python3.10/dist-packages (from requests->transformers) (2022.12.7)\n",
            "Requirement already satisfied: urllib3<1.27,>=1.21.1 in /usr/local/lib/python3.10/dist-packages (from requests->transformers) (1.26.15)\n",
            "Requirement already satisfied: charset-normalizer~=2.0.0 in /usr/local/lib/python3.10/dist-packages (from requests->transformers) (2.0.12)\n",
            "Requirement already satisfied: idna<4,>=2.5 in /usr/local/lib/python3.10/dist-packages (from requests->transformers) (3.4)\n"
          ]
        }
      ]
    },
    {
      "cell_type": "code",
      "execution_count": null,
      "metadata": {
        "colab": {
          "base_uri": "https://localhost:8080/"
        },
        "id": "MJqCOw8c08Fc",
        "outputId": "816e417c-1126-44cb-be08-c36c98a99a02"
      },
      "outputs": [
        {
          "output_type": "stream",
          "name": "stderr",
          "text": [
            "Special tokens have been added in the vocabulary, make sure the associated word embeddings are fine-tuned or trained.\n"
          ]
        }
      ],
      "source": [
        "import torch\n",
        "from transformers import AutoTokenizer\n",
        "# from vncorenlp import VnCoreNLP\n",
        "from torch.utils.data import Dataset, DataLoader, RandomSampler\n",
        "\n",
        "device = torch.device('cuda:0' if torch.cuda.is_available() else 'cpu')\n",
        "tokenizer = AutoTokenizer.from_pretrained(\"vinai/phobert-base\")\n",
        "\n",
        "def model_fn(model_dir, model_name = \"model.pt\"):\n",
        "    print(\"model_fn_sentiment\")\n",
        "    return torch.jit.load(os.path.join(model_dir, model_name), map_location=device)\n",
        "\n",
        "def infer(model, tokenizer,  input_text, model_name = \"vinai/phobert-base\"):\n",
        "    max_sequence_length = 256\n",
        "    input_dict = tokenizer(\n",
        "            input_text,\n",
        "            max_length=max_sequence_length,\n",
        "            padding=\"max_length\",\n",
        "            truncation=True,\n",
        "            return_tensors=\"pt\"\n",
        "        )\n",
        "    inputs = {\n",
        "      \"input_ids\": torch.tensor(input_dict[\"input_ids\"]).to(device),\n",
        "      \"attention_mask\": torch.tensor(input_dict[\"attention_mask\"]).to(device),\n",
        "    }\n",
        "    model.to(device)\n",
        "    model.eval()\n",
        "    with torch.no_grad():\n",
        "        predictions, *_ = model(**inputs)\n",
        "        predictions = torch.argmax(predictions, dim=1).flatten()\n",
        "        predictions = predictions.detach().cpu().numpy()\n",
        "\n",
        "    label_map = [\"Negative\",\"Neutral\",\"Positive\"]\n",
        "    print(label_map[predictions[0]])\n",
        "    return predictions"
      ]
    },
    {
      "cell_type": "code",
      "execution_count": null,
      "metadata": {
        "colab": {
          "base_uri": "https://localhost:8080/"
        },
        "id": "nxFHSOc5qTHk",
        "outputId": "7a932370-ca5e-4d47-b60b-0a85d929a842"
      },
      "outputs": [
        {
          "output_type": "stream",
          "name": "stdout",
          "text": [
            "model_fn_sentiment\n"
          ]
        }
      ],
      "source": [
        "model_dir = \"model\"\n",
        "model = model_fn(model_dir)"
      ]
    },
    {
      "cell_type": "code",
      "execution_count": null,
      "metadata": {
        "id": "f5qG5jmtqTHk"
      },
      "outputs": [],
      "source": [
        "class BertDataset(Dataset):\n",
        "    def __init__(self, data, model_name, max_sequence_length):\n",
        "        self.data = data\n",
        "        self.tokenizer = AutoTokenizer.from_pretrained(model_name)\n",
        "        self.max_sequence_length = max_sequence_length\n",
        "\n",
        "    def __getitem__(self, index):\n",
        "        text_input = self.data[\"Content_re\"].iloc[index]\n",
        "        input_dict = self.tokenizer.encode_plus(\n",
        "            text_input,\n",
        "            max_length=self.max_sequence_length,\n",
        "            padding=\"max_length\",\n",
        "            truncation=True,\n",
        "            return_tensors=\"pt\"\n",
        "        )\n",
        "        inputs = {\n",
        "            \"input_ids\": input_dict[\"input_ids\"][0],\n",
        "            \"attention_mask\": input_dict[\"attention_mask\"][0],\n",
        "        }\n",
        "        if 'label' in self.data.columns: # in case, the predicted data have no this column\n",
        "            inputs[\"labels\"] = torch.tensor(self.data[\"label\"].iloc[index], dtype=torch.long)\n",
        "        return inputs\n",
        "\n",
        "    def __len__(self):\n",
        "        return len(self.data)"
      ]
    },
    {
      "cell_type": "code",
      "execution_count": null,
      "metadata": {
        "id": "-7j-q9qFqTHk"
      },
      "outputs": [],
      "source": [
        "from transformers import AutoModelForSequenceClassification, AutoTokenizer, Trainer, TrainingArguments, AutoModel"
      ]
    },
    {
      "cell_type": "code",
      "execution_count": null,
      "metadata": {
        "id": "wCyxixQCqTHl"
      },
      "outputs": [],
      "source": [
        "def predict_bat(data, model_name = \"vinai/phobert-base\"):\n",
        "    df = data[[\"Content_re\"]]\n",
        "    print(f\"Data contains {len(df)} rows\")\n",
        "\n",
        "    test_dataset = BertDataset(df, model_name, 64)\n",
        "    model_dir = \"model\"\n",
        "    model = model_fn(model_dir)\n",
        "    args = TrainingArguments(output_dir='./output', per_device_eval_batch_size=256)\n",
        "    trainer = Trainer(\n",
        "        model=model,\n",
        "        args=args\n",
        "    )\n",
        "\n",
        "    class_names = [\"negative\", \"neutral\", \"positive\"]\n",
        "    predictions, *_ = trainer.predict(test_dataset)\n",
        "\n",
        "    # predictions = torch.softmax(torch.tensor(predictions), dim=1)\n",
        "    predictions = predictions.argmax(-1)\n",
        "    # data[\"negative\"] = predictions[:,0].tolist()\n",
        "    # data['neutral'] = predictions[:,1].tolist()\n",
        "    # data['positive'] = predictions[:,-1].tolist()\n",
        "    data[\"sentiment\"] = predictions\n",
        "\n",
        "    return data"
      ]
    },
    {
      "cell_type": "code",
      "execution_count": null,
      "metadata": {
        "colab": {
          "base_uri": "https://localhost:8080/",
          "height": 363
        },
        "id": "xXHVbntLqTHl",
        "outputId": "49ede0e8-9013-4ace-cc57-7353dd2ceea4"
      },
      "outputs": [
        {
          "output_type": "stream",
          "name": "stdout",
          "text": [
            "Data contains 117527 rows\n"
          ]
        },
        {
          "output_type": "stream",
          "name": "stderr",
          "text": [
            "Special tokens have been added in the vocabulary, make sure the associated word embeddings are fine-tuned or trained.\n"
          ]
        },
        {
          "output_type": "stream",
          "name": "stdout",
          "text": [
            "model_fn_sentiment\n"
          ]
        },
        {
          "output_type": "error",
          "ename": "AttributeError",
          "evalue": "ignored",
          "traceback": [
            "\u001b[0;31m---------------------------------------------------------------------------\u001b[0m",
            "\u001b[0;31mAttributeError\u001b[0m                            Traceback (most recent call last)",
            "\u001b[0;32m<ipython-input-44-6f442be010aa>\u001b[0m in \u001b[0;36m<cell line: 1>\u001b[0;34m()\u001b[0m\n\u001b[0;32m----> 1\u001b[0;31m \u001b[0mcomment\u001b[0m \u001b[0;34m=\u001b[0m \u001b[0mpredict_bat\u001b[0m\u001b[0;34m(\u001b[0m\u001b[0mcomment\u001b[0m\u001b[0;34m)\u001b[0m\u001b[0;34m\u001b[0m\u001b[0;34m\u001b[0m\u001b[0m\n\u001b[0m",
            "\u001b[0;32m<ipython-input-43-fc3145e28549>\u001b[0m in \u001b[0;36mpredict_bat\u001b[0;34m(data, model_name)\u001b[0m\n\u001b[1;32m      7\u001b[0m     \u001b[0mmodel\u001b[0m \u001b[0;34m=\u001b[0m \u001b[0mmodel_fn\u001b[0m\u001b[0;34m(\u001b[0m\u001b[0mmodel_dir\u001b[0m\u001b[0;34m)\u001b[0m\u001b[0;34m\u001b[0m\u001b[0;34m\u001b[0m\u001b[0m\n\u001b[1;32m      8\u001b[0m     \u001b[0margs\u001b[0m \u001b[0;34m=\u001b[0m \u001b[0mTrainingArguments\u001b[0m\u001b[0;34m(\u001b[0m\u001b[0moutput_dir\u001b[0m\u001b[0;34m=\u001b[0m\u001b[0;34m'./output'\u001b[0m\u001b[0;34m,\u001b[0m \u001b[0mper_device_eval_batch_size\u001b[0m\u001b[0;34m=\u001b[0m\u001b[0;36m256\u001b[0m\u001b[0;34m)\u001b[0m\u001b[0;34m\u001b[0m\u001b[0;34m\u001b[0m\u001b[0m\n\u001b[0;32m----> 9\u001b[0;31m     trainer = Trainer(\n\u001b[0m\u001b[1;32m     10\u001b[0m         \u001b[0mmodel\u001b[0m\u001b[0;34m=\u001b[0m\u001b[0mmodel\u001b[0m\u001b[0;34m,\u001b[0m\u001b[0;34m\u001b[0m\u001b[0;34m\u001b[0m\u001b[0m\n\u001b[1;32m     11\u001b[0m         \u001b[0margs\u001b[0m\u001b[0;34m=\u001b[0m\u001b[0margs\u001b[0m\u001b[0;34m\u001b[0m\u001b[0;34m\u001b[0m\u001b[0m\n",
            "\u001b[0;32m/usr/local/lib/python3.10/dist-packages/transformers/trainer.py\u001b[0m in \u001b[0;36m__init__\u001b[0;34m(self, model, args, data_collator, train_dataset, eval_dataset, tokenizer, model_init, compute_metrics, callbacks, optimizers, preprocess_logits_for_metrics)\u001b[0m\n\u001b[1;32m    684\u001b[0m         \u001b[0mself\u001b[0m\u001b[0;34m.\u001b[0m\u001b[0mhp_search_backend\u001b[0m \u001b[0;34m=\u001b[0m \u001b[0;32mNone\u001b[0m\u001b[0;34m\u001b[0m\u001b[0;34m\u001b[0m\u001b[0m\n\u001b[1;32m    685\u001b[0m         \u001b[0mself\u001b[0m\u001b[0;34m.\u001b[0m\u001b[0muse_tune_checkpoints\u001b[0m \u001b[0;34m=\u001b[0m \u001b[0;32mFalse\u001b[0m\u001b[0;34m\u001b[0m\u001b[0;34m\u001b[0m\u001b[0m\n\u001b[0;32m--> 686\u001b[0;31m         \u001b[0mdefault_label_names\u001b[0m \u001b[0;34m=\u001b[0m \u001b[0mfind_labels\u001b[0m\u001b[0;34m(\u001b[0m\u001b[0mself\u001b[0m\u001b[0;34m.\u001b[0m\u001b[0mmodel\u001b[0m\u001b[0;34m.\u001b[0m\u001b[0m__class__\u001b[0m\u001b[0;34m)\u001b[0m\u001b[0;34m\u001b[0m\u001b[0;34m\u001b[0m\u001b[0m\n\u001b[0m\u001b[1;32m    687\u001b[0m         \u001b[0mself\u001b[0m\u001b[0;34m.\u001b[0m\u001b[0mlabel_names\u001b[0m \u001b[0;34m=\u001b[0m \u001b[0mdefault_label_names\u001b[0m \u001b[0;32mif\u001b[0m \u001b[0mself\u001b[0m\u001b[0;34m.\u001b[0m\u001b[0margs\u001b[0m\u001b[0;34m.\u001b[0m\u001b[0mlabel_names\u001b[0m \u001b[0;32mis\u001b[0m \u001b[0;32mNone\u001b[0m \u001b[0;32melse\u001b[0m \u001b[0mself\u001b[0m\u001b[0;34m.\u001b[0m\u001b[0margs\u001b[0m\u001b[0;34m.\u001b[0m\u001b[0mlabel_names\u001b[0m\u001b[0;34m\u001b[0m\u001b[0;34m\u001b[0m\u001b[0m\n\u001b[1;32m    688\u001b[0m         \u001b[0mself\u001b[0m\u001b[0;34m.\u001b[0m\u001b[0mcan_return_loss\u001b[0m \u001b[0;34m=\u001b[0m \u001b[0mcan_return_loss\u001b[0m\u001b[0;34m(\u001b[0m\u001b[0mself\u001b[0m\u001b[0;34m.\u001b[0m\u001b[0mmodel\u001b[0m\u001b[0;34m.\u001b[0m\u001b[0m__class__\u001b[0m\u001b[0;34m)\u001b[0m\u001b[0;34m\u001b[0m\u001b[0;34m\u001b[0m\u001b[0m\n",
            "\u001b[0;32m/usr/local/lib/python3.10/dist-packages/transformers/utils/generic.py\u001b[0m in \u001b[0;36mfind_labels\u001b[0;34m(model_class)\u001b[0m\n\u001b[1;32m    411\u001b[0m         \u001b[0msignature\u001b[0m \u001b[0;34m=\u001b[0m \u001b[0minspect\u001b[0m\u001b[0;34m.\u001b[0m\u001b[0msignature\u001b[0m\u001b[0;34m(\u001b[0m\u001b[0mmodel_class\u001b[0m\u001b[0;34m.\u001b[0m\u001b[0mcall\u001b[0m\u001b[0;34m)\u001b[0m  \u001b[0;31m# TensorFlow models\u001b[0m\u001b[0;34m\u001b[0m\u001b[0;34m\u001b[0m\u001b[0m\n\u001b[1;32m    412\u001b[0m     \u001b[0;32melif\u001b[0m \u001b[0;34m\"torch.nn.modules.module.Module\"\u001b[0m \u001b[0;32min\u001b[0m \u001b[0mbase_classes\u001b[0m\u001b[0;34m:\u001b[0m\u001b[0;34m\u001b[0m\u001b[0;34m\u001b[0m\u001b[0m\n\u001b[0;32m--> 413\u001b[0;31m         \u001b[0msignature\u001b[0m \u001b[0;34m=\u001b[0m \u001b[0minspect\u001b[0m\u001b[0;34m.\u001b[0m\u001b[0msignature\u001b[0m\u001b[0;34m(\u001b[0m\u001b[0mmodel_class\u001b[0m\u001b[0;34m.\u001b[0m\u001b[0mforward\u001b[0m\u001b[0;34m)\u001b[0m  \u001b[0;31m# PyTorch models\u001b[0m\u001b[0;34m\u001b[0m\u001b[0;34m\u001b[0m\u001b[0m\n\u001b[0m\u001b[1;32m    414\u001b[0m     \u001b[0;32melse\u001b[0m\u001b[0;34m:\u001b[0m\u001b[0;34m\u001b[0m\u001b[0;34m\u001b[0m\u001b[0m\n\u001b[1;32m    415\u001b[0m         \u001b[0msignature\u001b[0m \u001b[0;34m=\u001b[0m \u001b[0minspect\u001b[0m\u001b[0;34m.\u001b[0m\u001b[0msignature\u001b[0m\u001b[0;34m(\u001b[0m\u001b[0mmodel_class\u001b[0m\u001b[0;34m.\u001b[0m\u001b[0m__call__\u001b[0m\u001b[0;34m)\u001b[0m  \u001b[0;31m# Flax models\u001b[0m\u001b[0;34m\u001b[0m\u001b[0;34m\u001b[0m\u001b[0m\n",
            "\u001b[0;32m/usr/local/lib/python3.10/dist-packages/torch/jit/_script.py\u001b[0m in \u001b[0;36m__get__\u001b[0;34m(self, obj, cls)\u001b[0m\n\u001b[1;32m    323\u001b[0m \u001b[0;32mclass\u001b[0m \u001b[0m_CachedForward\u001b[0m\u001b[0;34m:\u001b[0m\u001b[0;34m\u001b[0m\u001b[0;34m\u001b[0m\u001b[0m\n\u001b[1;32m    324\u001b[0m     \u001b[0;32mdef\u001b[0m \u001b[0m__get__\u001b[0m\u001b[0;34m(\u001b[0m\u001b[0mself\u001b[0m\u001b[0;34m,\u001b[0m \u001b[0mobj\u001b[0m\u001b[0;34m,\u001b[0m \u001b[0mcls\u001b[0m\u001b[0;34m)\u001b[0m\u001b[0;34m:\u001b[0m\u001b[0;34m\u001b[0m\u001b[0;34m\u001b[0m\u001b[0m\n\u001b[0;32m--> 325\u001b[0;31m         \u001b[0;32mreturn\u001b[0m \u001b[0mself\u001b[0m\u001b[0;34m.\u001b[0m\u001b[0m__getattr__\u001b[0m\u001b[0;34m(\u001b[0m\u001b[0;34m\"forward\"\u001b[0m\u001b[0;34m)\u001b[0m  \u001b[0;31m# type: ignore[attr-defined]\u001b[0m\u001b[0;34m\u001b[0m\u001b[0;34m\u001b[0m\u001b[0m\n\u001b[0m\u001b[1;32m    326\u001b[0m \u001b[0;34m\u001b[0m\u001b[0m\n\u001b[1;32m    327\u001b[0m \u001b[0;34m\u001b[0m\u001b[0m\n",
            "\u001b[0;31mAttributeError\u001b[0m: '_CachedForward' object has no attribute '__getattr__'"
          ]
        }
      ],
      "source": [
        "comment = predict_bat(comment)"
      ]
    },
    {
      "cell_type": "code",
      "execution_count": null,
      "metadata": {
        "id": "hsh3q--uqTHl"
      },
      "outputs": [],
      "source": [
        "comment = comment[['Item', 'Rating', 'Datetime', 'negative', 'neutral', 'positive']]"
      ]
    },
    {
      "cell_type": "code",
      "source": [
        "comment[\"sentiment\"].value_counts()"
      ],
      "metadata": {
        "id": "61CipOKN8ZKi"
      },
      "execution_count": null,
      "outputs": []
    },
    {
      "cell_type": "code",
      "source": [
        "comment"
      ],
      "metadata": {
        "id": "V7TFk4N98krK",
        "colab": {
          "base_uri": "https://localhost:8080/",
          "height": 423
        },
        "outputId": "e0c9d75a-d5b1-4cf8-e9e6-3f5847abaaeb"
      },
      "execution_count": null,
      "outputs": [
        {
          "output_type": "execute_result",
          "data": {
            "text/plain": [
              "       Item            Datetime  Rating  \\\n",
              "52        2 2022-11-14 05:48:25     5.0   \n",
              "107       2 2022-11-15 10:03:35     5.0   \n",
              "240       2 2022-11-15 10:45:16     4.0   \n",
              "161       2 2022-11-15 11:53:22     5.0   \n",
              "29        2 2022-11-16 09:44:00     5.0   \n",
              "...     ...                 ...     ...   \n",
              "16083   295 2023-03-06 14:22:57     5.0   \n",
              "16049   295 2023-03-06 15:00:32     5.0   \n",
              "16053   295 2023-03-08 13:05:18     5.0   \n",
              "16168   295 2023-03-10 10:42:15     5.0   \n",
              "16169   295 2023-03-14 12:37:47     5.0   \n",
              "\n",
              "                                                 comment  \n",
              "52     mô tảđẹp , áo nhẹ, vải ko dày cx ko mỏng , m5-...  \n",
              "107                                        chất liệu:dày  \n",
              "240                                             mô tả...  \n",
              "161                                        chất liệu:đẹp  \n",
              "29     mô tảchính xác , chất liệu áo đẹp , hàng về rấ...  \n",
              "...                                                  ...  \n",
              "16083  mô tảđúng , giao hàng nhanh , áo thì oki dc nó...  \n",
              "16049                                  mô tảcũng okela ạ  \n",
              "16053  màu sắc:đen , bề ngang của áo hơi to í, mà áo ...  \n",
              "16168                                  mô tảđúng ảnh mẫu  \n",
              "16169         hàng od nên giao hơi lâu,đóng gói cẩn thận  \n",
              "\n",
              "[16152 rows x 4 columns]"
            ],
            "text/html": [
              "\n",
              "  <div id=\"df-3fa0c11d-4a64-4126-b036-f98e0c14eb2b\">\n",
              "    <div class=\"colab-df-container\">\n",
              "      <div>\n",
              "<style scoped>\n",
              "    .dataframe tbody tr th:only-of-type {\n",
              "        vertical-align: middle;\n",
              "    }\n",
              "\n",
              "    .dataframe tbody tr th {\n",
              "        vertical-align: top;\n",
              "    }\n",
              "\n",
              "    .dataframe thead th {\n",
              "        text-align: right;\n",
              "    }\n",
              "</style>\n",
              "<table border=\"1\" class=\"dataframe\">\n",
              "  <thead>\n",
              "    <tr style=\"text-align: right;\">\n",
              "      <th></th>\n",
              "      <th>Item</th>\n",
              "      <th>Datetime</th>\n",
              "      <th>Rating</th>\n",
              "      <th>comment</th>\n",
              "    </tr>\n",
              "  </thead>\n",
              "  <tbody>\n",
              "    <tr>\n",
              "      <th>52</th>\n",
              "      <td>2</td>\n",
              "      <td>2022-11-14 05:48:25</td>\n",
              "      <td>5.0</td>\n",
              "      <td>mô tảđẹp , áo nhẹ, vải ko dày cx ko mỏng , m5-...</td>\n",
              "    </tr>\n",
              "    <tr>\n",
              "      <th>107</th>\n",
              "      <td>2</td>\n",
              "      <td>2022-11-15 10:03:35</td>\n",
              "      <td>5.0</td>\n",
              "      <td>chất liệu:dày</td>\n",
              "    </tr>\n",
              "    <tr>\n",
              "      <th>240</th>\n",
              "      <td>2</td>\n",
              "      <td>2022-11-15 10:45:16</td>\n",
              "      <td>4.0</td>\n",
              "      <td>mô tả...</td>\n",
              "    </tr>\n",
              "    <tr>\n",
              "      <th>161</th>\n",
              "      <td>2</td>\n",
              "      <td>2022-11-15 11:53:22</td>\n",
              "      <td>5.0</td>\n",
              "      <td>chất liệu:đẹp</td>\n",
              "    </tr>\n",
              "    <tr>\n",
              "      <th>29</th>\n",
              "      <td>2</td>\n",
              "      <td>2022-11-16 09:44:00</td>\n",
              "      <td>5.0</td>\n",
              "      <td>mô tảchính xác , chất liệu áo đẹp , hàng về rấ...</td>\n",
              "    </tr>\n",
              "    <tr>\n",
              "      <th>...</th>\n",
              "      <td>...</td>\n",
              "      <td>...</td>\n",
              "      <td>...</td>\n",
              "      <td>...</td>\n",
              "    </tr>\n",
              "    <tr>\n",
              "      <th>16083</th>\n",
              "      <td>295</td>\n",
              "      <td>2023-03-06 14:22:57</td>\n",
              "      <td>5.0</td>\n",
              "      <td>mô tảđúng , giao hàng nhanh , áo thì oki dc nó...</td>\n",
              "    </tr>\n",
              "    <tr>\n",
              "      <th>16049</th>\n",
              "      <td>295</td>\n",
              "      <td>2023-03-06 15:00:32</td>\n",
              "      <td>5.0</td>\n",
              "      <td>mô tảcũng okela ạ</td>\n",
              "    </tr>\n",
              "    <tr>\n",
              "      <th>16053</th>\n",
              "      <td>295</td>\n",
              "      <td>2023-03-08 13:05:18</td>\n",
              "      <td>5.0</td>\n",
              "      <td>màu sắc:đen , bề ngang của áo hơi to í, mà áo ...</td>\n",
              "    </tr>\n",
              "    <tr>\n",
              "      <th>16168</th>\n",
              "      <td>295</td>\n",
              "      <td>2023-03-10 10:42:15</td>\n",
              "      <td>5.0</td>\n",
              "      <td>mô tảđúng ảnh mẫu</td>\n",
              "    </tr>\n",
              "    <tr>\n",
              "      <th>16169</th>\n",
              "      <td>295</td>\n",
              "      <td>2023-03-14 12:37:47</td>\n",
              "      <td>5.0</td>\n",
              "      <td>hàng od nên giao hơi lâu,đóng gói cẩn thận</td>\n",
              "    </tr>\n",
              "  </tbody>\n",
              "</table>\n",
              "<p>16152 rows × 4 columns</p>\n",
              "</div>\n",
              "      <button class=\"colab-df-convert\" onclick=\"convertToInteractive('df-3fa0c11d-4a64-4126-b036-f98e0c14eb2b')\"\n",
              "              title=\"Convert this dataframe to an interactive table.\"\n",
              "              style=\"display:none;\">\n",
              "        \n",
              "  <svg xmlns=\"http://www.w3.org/2000/svg\" height=\"24px\"viewBox=\"0 0 24 24\"\n",
              "       width=\"24px\">\n",
              "    <path d=\"M0 0h24v24H0V0z\" fill=\"none\"/>\n",
              "    <path d=\"M18.56 5.44l.94 2.06.94-2.06 2.06-.94-2.06-.94-.94-2.06-.94 2.06-2.06.94zm-11 1L8.5 8.5l.94-2.06 2.06-.94-2.06-.94L8.5 2.5l-.94 2.06-2.06.94zm10 10l.94 2.06.94-2.06 2.06-.94-2.06-.94-.94-2.06-.94 2.06-2.06.94z\"/><path d=\"M17.41 7.96l-1.37-1.37c-.4-.4-.92-.59-1.43-.59-.52 0-1.04.2-1.43.59L10.3 9.45l-7.72 7.72c-.78.78-.78 2.05 0 2.83L4 21.41c.39.39.9.59 1.41.59.51 0 1.02-.2 1.41-.59l7.78-7.78 2.81-2.81c.8-.78.8-2.07 0-2.86zM5.41 20L4 18.59l7.72-7.72 1.47 1.35L5.41 20z\"/>\n",
              "  </svg>\n",
              "      </button>\n",
              "      \n",
              "  <style>\n",
              "    .colab-df-container {\n",
              "      display:flex;\n",
              "      flex-wrap:wrap;\n",
              "      gap: 12px;\n",
              "    }\n",
              "\n",
              "    .colab-df-convert {\n",
              "      background-color: #E8F0FE;\n",
              "      border: none;\n",
              "      border-radius: 50%;\n",
              "      cursor: pointer;\n",
              "      display: none;\n",
              "      fill: #1967D2;\n",
              "      height: 32px;\n",
              "      padding: 0 0 0 0;\n",
              "      width: 32px;\n",
              "    }\n",
              "\n",
              "    .colab-df-convert:hover {\n",
              "      background-color: #E2EBFA;\n",
              "      box-shadow: 0px 1px 2px rgba(60, 64, 67, 0.3), 0px 1px 3px 1px rgba(60, 64, 67, 0.15);\n",
              "      fill: #174EA6;\n",
              "    }\n",
              "\n",
              "    [theme=dark] .colab-df-convert {\n",
              "      background-color: #3B4455;\n",
              "      fill: #D2E3FC;\n",
              "    }\n",
              "\n",
              "    [theme=dark] .colab-df-convert:hover {\n",
              "      background-color: #434B5C;\n",
              "      box-shadow: 0px 1px 3px 1px rgba(0, 0, 0, 0.15);\n",
              "      filter: drop-shadow(0px 1px 2px rgba(0, 0, 0, 0.3));\n",
              "      fill: #FFFFFF;\n",
              "    }\n",
              "  </style>\n",
              "\n",
              "      <script>\n",
              "        const buttonEl =\n",
              "          document.querySelector('#df-3fa0c11d-4a64-4126-b036-f98e0c14eb2b button.colab-df-convert');\n",
              "        buttonEl.style.display =\n",
              "          google.colab.kernel.accessAllowed ? 'block' : 'none';\n",
              "\n",
              "        async function convertToInteractive(key) {\n",
              "          const element = document.querySelector('#df-3fa0c11d-4a64-4126-b036-f98e0c14eb2b');\n",
              "          const dataTable =\n",
              "            await google.colab.kernel.invokeFunction('convertToInteractive',\n",
              "                                                     [key], {});\n",
              "          if (!dataTable) return;\n",
              "\n",
              "          const docLinkHtml = 'Like what you see? Visit the ' +\n",
              "            '<a target=\"_blank\" href=https://colab.research.google.com/notebooks/data_table.ipynb>data table notebook</a>'\n",
              "            + ' to learn more about interactive tables.';\n",
              "          element.innerHTML = '';\n",
              "          dataTable['output_type'] = 'display_data';\n",
              "          await google.colab.output.renderOutput(dataTable, element);\n",
              "          const docLink = document.createElement('div');\n",
              "          docLink.innerHTML = docLinkHtml;\n",
              "          element.appendChild(docLink);\n",
              "        }\n",
              "      </script>\n",
              "    </div>\n",
              "  </div>\n",
              "  "
            ]
          },
          "metadata": {},
          "execution_count": 21
        }
      ]
    },
    {
      "cell_type": "code",
      "source": [
        "da = comment.groupby([\"Item\",\"sentiment\",\"Datetime\"])[\"Content_re\"].count().reset_index()\n",
        "da[da[\"Item\"] == 1]"
      ],
      "metadata": {
        "colab": {
          "base_uri": "https://localhost:8080/",
          "height": 423
        },
        "id": "Ep2Ha4PYAu0z",
        "outputId": "7bf33731-a315-4d3a-c2ba-f6aae713704f"
      },
      "execution_count": null,
      "outputs": [
        {
          "output_type": "execute_result",
          "data": {
            "text/plain": [
              "     Item  sentiment            Datetime  Content_re\n",
              "0       1          0 2022-10-11 12:43:35           1\n",
              "1       1          0 2022-10-13 10:38:55           1\n",
              "2       1          0 2022-10-18 10:58:35           1\n",
              "3       1          0 2022-10-18 17:21:18           1\n",
              "4       1          0 2022-10-19 14:25:04           1\n",
              "..    ...        ...                 ...         ...\n",
              "166     1          2 2023-03-13 11:25:04           1\n",
              "167     1          2 2023-03-17 04:57:43           1\n",
              "168     1          2 2023-03-18 07:36:08           1\n",
              "169     1          2 2023-03-21 11:45:29           1\n",
              "170     1          2 2023-03-21 12:01:17           1\n",
              "\n",
              "[171 rows x 4 columns]"
            ],
            "text/html": [
              "\n",
              "  <div id=\"df-73a18beb-d35c-4415-a50a-256e41d725ab\">\n",
              "    <div class=\"colab-df-container\">\n",
              "      <div>\n",
              "<style scoped>\n",
              "    .dataframe tbody tr th:only-of-type {\n",
              "        vertical-align: middle;\n",
              "    }\n",
              "\n",
              "    .dataframe tbody tr th {\n",
              "        vertical-align: top;\n",
              "    }\n",
              "\n",
              "    .dataframe thead th {\n",
              "        text-align: right;\n",
              "    }\n",
              "</style>\n",
              "<table border=\"1\" class=\"dataframe\">\n",
              "  <thead>\n",
              "    <tr style=\"text-align: right;\">\n",
              "      <th></th>\n",
              "      <th>Item</th>\n",
              "      <th>sentiment</th>\n",
              "      <th>Datetime</th>\n",
              "      <th>Content_re</th>\n",
              "    </tr>\n",
              "  </thead>\n",
              "  <tbody>\n",
              "    <tr>\n",
              "      <th>0</th>\n",
              "      <td>1</td>\n",
              "      <td>0</td>\n",
              "      <td>2022-10-11 12:43:35</td>\n",
              "      <td>1</td>\n",
              "    </tr>\n",
              "    <tr>\n",
              "      <th>1</th>\n",
              "      <td>1</td>\n",
              "      <td>0</td>\n",
              "      <td>2022-10-13 10:38:55</td>\n",
              "      <td>1</td>\n",
              "    </tr>\n",
              "    <tr>\n",
              "      <th>2</th>\n",
              "      <td>1</td>\n",
              "      <td>0</td>\n",
              "      <td>2022-10-18 10:58:35</td>\n",
              "      <td>1</td>\n",
              "    </tr>\n",
              "    <tr>\n",
              "      <th>3</th>\n",
              "      <td>1</td>\n",
              "      <td>0</td>\n",
              "      <td>2022-10-18 17:21:18</td>\n",
              "      <td>1</td>\n",
              "    </tr>\n",
              "    <tr>\n",
              "      <th>4</th>\n",
              "      <td>1</td>\n",
              "      <td>0</td>\n",
              "      <td>2022-10-19 14:25:04</td>\n",
              "      <td>1</td>\n",
              "    </tr>\n",
              "    <tr>\n",
              "      <th>...</th>\n",
              "      <td>...</td>\n",
              "      <td>...</td>\n",
              "      <td>...</td>\n",
              "      <td>...</td>\n",
              "    </tr>\n",
              "    <tr>\n",
              "      <th>166</th>\n",
              "      <td>1</td>\n",
              "      <td>2</td>\n",
              "      <td>2023-03-13 11:25:04</td>\n",
              "      <td>1</td>\n",
              "    </tr>\n",
              "    <tr>\n",
              "      <th>167</th>\n",
              "      <td>1</td>\n",
              "      <td>2</td>\n",
              "      <td>2023-03-17 04:57:43</td>\n",
              "      <td>1</td>\n",
              "    </tr>\n",
              "    <tr>\n",
              "      <th>168</th>\n",
              "      <td>1</td>\n",
              "      <td>2</td>\n",
              "      <td>2023-03-18 07:36:08</td>\n",
              "      <td>1</td>\n",
              "    </tr>\n",
              "    <tr>\n",
              "      <th>169</th>\n",
              "      <td>1</td>\n",
              "      <td>2</td>\n",
              "      <td>2023-03-21 11:45:29</td>\n",
              "      <td>1</td>\n",
              "    </tr>\n",
              "    <tr>\n",
              "      <th>170</th>\n",
              "      <td>1</td>\n",
              "      <td>2</td>\n",
              "      <td>2023-03-21 12:01:17</td>\n",
              "      <td>1</td>\n",
              "    </tr>\n",
              "  </tbody>\n",
              "</table>\n",
              "<p>171 rows × 4 columns</p>\n",
              "</div>\n",
              "      <button class=\"colab-df-convert\" onclick=\"convertToInteractive('df-73a18beb-d35c-4415-a50a-256e41d725ab')\"\n",
              "              title=\"Convert this dataframe to an interactive table.\"\n",
              "              style=\"display:none;\">\n",
              "        \n",
              "  <svg xmlns=\"http://www.w3.org/2000/svg\" height=\"24px\"viewBox=\"0 0 24 24\"\n",
              "       width=\"24px\">\n",
              "    <path d=\"M0 0h24v24H0V0z\" fill=\"none\"/>\n",
              "    <path d=\"M18.56 5.44l.94 2.06.94-2.06 2.06-.94-2.06-.94-.94-2.06-.94 2.06-2.06.94zm-11 1L8.5 8.5l.94-2.06 2.06-.94-2.06-.94L8.5 2.5l-.94 2.06-2.06.94zm10 10l.94 2.06.94-2.06 2.06-.94-2.06-.94-.94-2.06-.94 2.06-2.06.94z\"/><path d=\"M17.41 7.96l-1.37-1.37c-.4-.4-.92-.59-1.43-.59-.52 0-1.04.2-1.43.59L10.3 9.45l-7.72 7.72c-.78.78-.78 2.05 0 2.83L4 21.41c.39.39.9.59 1.41.59.51 0 1.02-.2 1.41-.59l7.78-7.78 2.81-2.81c.8-.78.8-2.07 0-2.86zM5.41 20L4 18.59l7.72-7.72 1.47 1.35L5.41 20z\"/>\n",
              "  </svg>\n",
              "      </button>\n",
              "      \n",
              "  <style>\n",
              "    .colab-df-container {\n",
              "      display:flex;\n",
              "      flex-wrap:wrap;\n",
              "      gap: 12px;\n",
              "    }\n",
              "\n",
              "    .colab-df-convert {\n",
              "      background-color: #E8F0FE;\n",
              "      border: none;\n",
              "      border-radius: 50%;\n",
              "      cursor: pointer;\n",
              "      display: none;\n",
              "      fill: #1967D2;\n",
              "      height: 32px;\n",
              "      padding: 0 0 0 0;\n",
              "      width: 32px;\n",
              "    }\n",
              "\n",
              "    .colab-df-convert:hover {\n",
              "      background-color: #E2EBFA;\n",
              "      box-shadow: 0px 1px 2px rgba(60, 64, 67, 0.3), 0px 1px 3px 1px rgba(60, 64, 67, 0.15);\n",
              "      fill: #174EA6;\n",
              "    }\n",
              "\n",
              "    [theme=dark] .colab-df-convert {\n",
              "      background-color: #3B4455;\n",
              "      fill: #D2E3FC;\n",
              "    }\n",
              "\n",
              "    [theme=dark] .colab-df-convert:hover {\n",
              "      background-color: #434B5C;\n",
              "      box-shadow: 0px 1px 3px 1px rgba(0, 0, 0, 0.15);\n",
              "      filter: drop-shadow(0px 1px 2px rgba(0, 0, 0, 0.3));\n",
              "      fill: #FFFFFF;\n",
              "    }\n",
              "  </style>\n",
              "\n",
              "      <script>\n",
              "        const buttonEl =\n",
              "          document.querySelector('#df-73a18beb-d35c-4415-a50a-256e41d725ab button.colab-df-convert');\n",
              "        buttonEl.style.display =\n",
              "          google.colab.kernel.accessAllowed ? 'block' : 'none';\n",
              "\n",
              "        async function convertToInteractive(key) {\n",
              "          const element = document.querySelector('#df-73a18beb-d35c-4415-a50a-256e41d725ab');\n",
              "          const dataTable =\n",
              "            await google.colab.kernel.invokeFunction('convertToInteractive',\n",
              "                                                     [key], {});\n",
              "          if (!dataTable) return;\n",
              "\n",
              "          const docLinkHtml = 'Like what you see? Visit the ' +\n",
              "            '<a target=\"_blank\" href=https://colab.research.google.com/notebooks/data_table.ipynb>data table notebook</a>'\n",
              "            + ' to learn more about interactive tables.';\n",
              "          element.innerHTML = '';\n",
              "          dataTable['output_type'] = 'display_data';\n",
              "          await google.colab.output.renderOutput(dataTable, element);\n",
              "          const docLink = document.createElement('div');\n",
              "          docLink.innerHTML = docLinkHtml;\n",
              "          element.appendChild(docLink);\n",
              "        }\n",
              "      </script>\n",
              "    </div>\n",
              "  </div>\n",
              "  "
            ]
          },
          "metadata": {},
          "execution_count": 48
        }
      ]
    },
    {
      "cell_type": "code",
      "source": [
        "cal = comment.groupby([\"Item\",\"sentiment\"])[\"Content_re\"].count().unstack('sentiment', fill_value=0).reset_index()"
      ],
      "metadata": {
        "id": "RwJb0yjOBxLB"
      },
      "execution_count": null,
      "outputs": []
    },
    {
      "cell_type": "code",
      "source": [
        "cal.columns = [\"Item\",\"Negative\",\"Neutral\",\"Positive\"]"
      ],
      "metadata": {
        "id": "zK7bxMH6CAyA"
      },
      "execution_count": null,
      "outputs": []
    },
    {
      "cell_type": "code",
      "source": [
        "cal[\"Total\"] = cal[\"Negative\"] + cal[\"Neutral\"] + cal[\"Positive\"]\n",
        "cal[\"Negative\"] = cal[\"Negative\"]/cal[\"Total\"]\n",
        "cal[\"Neutral\"] = cal[\"Neutral\"]/cal[\"Total\"]\n",
        "cal[\"Positive\"] = cal[\"Positive\"]/cal[\"Total\"]"
      ],
      "metadata": {
        "id": "3uJJRksnCD-d"
      },
      "execution_count": null,
      "outputs": []
    },
    {
      "cell_type": "code",
      "source": [
        "cal.to_csv(\"300items.csv\",index= False)"
      ],
      "metadata": {
        "id": "Ft9z_ppSCL8m"
      },
      "execution_count": null,
      "outputs": []
    },
    {
      "cell_type": "code",
      "execution_count": null,
      "metadata": {
        "colab": {
          "base_uri": "https://localhost:8080/",
          "height": 423
        },
        "id": "rMJrP9GgqTHl",
        "outputId": "13ca6286-3a21-4bc9-a6e6-0a30805c535d"
      },
      "outputs": [
        {
          "output_type": "execute_result",
          "data": {
            "text/plain": [
              "        Item            Datetime  Rating  \\\n",
              "97         1 2022-09-29 12:11:03     5.0   \n",
              "174        1 2022-10-04 04:42:52     5.0   \n",
              "183        1 2022-10-05 05:10:46     5.0   \n",
              "197        1 2022-10-05 14:28:56     5.0   \n",
              "172        1 2022-10-07 08:59:24     5.0   \n",
              "...      ...                 ...     ...   \n",
              "190081   300 2023-03-28 16:55:26     5.0   \n",
              "190083   300 2023-03-28 17:05:37     5.0   \n",
              "189849   300 2023-03-28 17:17:54     5.0   \n",
              "189851   300 2023-03-30 13:49:46     5.0   \n",
              "189850   300 2023-03-31 06:51:02     5.0   \n",
              "\n",
              "                                                  Content  \\\n",
              "97      Chất liệu:ko biết\\nMàu sắc:đen trắng\\nĐúng với...   \n",
              "174     Chất liệu:vải\\nMàu sắc:đen trănsg\\nĐúng với mô...   \n",
              "183     Đẹp không có gì để tả nổi ạ mọi người nên mua ...   \n",
              "197     Vải khá được so với giá tiền, shipper nhiệt tì...   \n",
              "172     áo xinh ạ. form dày đẹp. mặc được bạn khen, áo...   \n",
              "...                                                   ...   \n",
              "190081  Quần dày dặn đẹp vải ấm áp, áo rất ok ủng hộ s...   \n",
              "190083  Mua lần 2 trên shop này rồi còn được tặng kèm ...   \n",
              "189849  Hàng ok lắm nè . Chú shipper thân thiện lắm lu...   \n",
              "189851  Cảm ơn shop nhiều nhiều ạ. mai em được nghỉ có...   \n",
              "189850  Quần mặc khá mát còn chất lượng thì phải dùng ...   \n",
              "\n",
              "                                               Content_re  sentiment  \n",
              "97      Chất liệu: ko biết, Màu sắc: đen trắng, Đúng v...          2  \n",
              "174     Chất liệu: vải, Màu sắc: đen trănsg, Đúng với ...          2  \n",
              "183     Đẹp không có gì để tả nổi ạ mọi người nên mua ...          2  \n",
              "197     Vải khá được so với giá tiền, shipper nhiệt tì...          2  \n",
              "172     áo xinh ạ. form dày đẹp. mặc được bạn khen, áo...          2  \n",
              "...                                                   ...        ...  \n",
              "190081  Quần dày dặn đẹp vải ấm áp, áo rất ok ủng hộ s...          2  \n",
              "190083  Mua lần 2 trên shop này rồi còn được tặng kèm ...          2  \n",
              "189849  Hàng ok lắm nè . Chú shipper thân thiện lắm lu...          2  \n",
              "189851  Cảm ơn shop nhiều nhiều ạ. mai em được nghỉ có...          2  \n",
              "189850  Quần mặc khá mát còn chất lượng thì phải dùng ...          2  \n",
              "\n",
              "[117527 rows x 6 columns]"
            ],
            "text/html": [
              "\n",
              "  <div id=\"df-70b31b22-5aa5-42a2-9840-f7317cb254ba\">\n",
              "    <div class=\"colab-df-container\">\n",
              "      <div>\n",
              "<style scoped>\n",
              "    .dataframe tbody tr th:only-of-type {\n",
              "        vertical-align: middle;\n",
              "    }\n",
              "\n",
              "    .dataframe tbody tr th {\n",
              "        vertical-align: top;\n",
              "    }\n",
              "\n",
              "    .dataframe thead th {\n",
              "        text-align: right;\n",
              "    }\n",
              "</style>\n",
              "<table border=\"1\" class=\"dataframe\">\n",
              "  <thead>\n",
              "    <tr style=\"text-align: right;\">\n",
              "      <th></th>\n",
              "      <th>Item</th>\n",
              "      <th>Datetime</th>\n",
              "      <th>Rating</th>\n",
              "      <th>Content</th>\n",
              "      <th>Content_re</th>\n",
              "      <th>sentiment</th>\n",
              "    </tr>\n",
              "  </thead>\n",
              "  <tbody>\n",
              "    <tr>\n",
              "      <th>97</th>\n",
              "      <td>1</td>\n",
              "      <td>2022-09-29 12:11:03</td>\n",
              "      <td>5.0</td>\n",
              "      <td>Chất liệu:ko biết\\nMàu sắc:đen trắng\\nĐúng với...</td>\n",
              "      <td>Chất liệu: ko biết, Màu sắc: đen trắng, Đúng v...</td>\n",
              "      <td>2</td>\n",
              "    </tr>\n",
              "    <tr>\n",
              "      <th>174</th>\n",
              "      <td>1</td>\n",
              "      <td>2022-10-04 04:42:52</td>\n",
              "      <td>5.0</td>\n",
              "      <td>Chất liệu:vải\\nMàu sắc:đen trănsg\\nĐúng với mô...</td>\n",
              "      <td>Chất liệu: vải, Màu sắc: đen trănsg, Đúng với ...</td>\n",
              "      <td>2</td>\n",
              "    </tr>\n",
              "    <tr>\n",
              "      <th>183</th>\n",
              "      <td>1</td>\n",
              "      <td>2022-10-05 05:10:46</td>\n",
              "      <td>5.0</td>\n",
              "      <td>Đẹp không có gì để tả nổi ạ mọi người nên mua ...</td>\n",
              "      <td>Đẹp không có gì để tả nổi ạ mọi người nên mua ...</td>\n",
              "      <td>2</td>\n",
              "    </tr>\n",
              "    <tr>\n",
              "      <th>197</th>\n",
              "      <td>1</td>\n",
              "      <td>2022-10-05 14:28:56</td>\n",
              "      <td>5.0</td>\n",
              "      <td>Vải khá được so với giá tiền, shipper nhiệt tì...</td>\n",
              "      <td>Vải khá được so với giá tiền, shipper nhiệt tì...</td>\n",
              "      <td>2</td>\n",
              "    </tr>\n",
              "    <tr>\n",
              "      <th>172</th>\n",
              "      <td>1</td>\n",
              "      <td>2022-10-07 08:59:24</td>\n",
              "      <td>5.0</td>\n",
              "      <td>áo xinh ạ. form dày đẹp. mặc được bạn khen, áo...</td>\n",
              "      <td>áo xinh ạ. form dày đẹp. mặc được bạn khen, áo...</td>\n",
              "      <td>2</td>\n",
              "    </tr>\n",
              "    <tr>\n",
              "      <th>...</th>\n",
              "      <td>...</td>\n",
              "      <td>...</td>\n",
              "      <td>...</td>\n",
              "      <td>...</td>\n",
              "      <td>...</td>\n",
              "      <td>...</td>\n",
              "    </tr>\n",
              "    <tr>\n",
              "      <th>190081</th>\n",
              "      <td>300</td>\n",
              "      <td>2023-03-28 16:55:26</td>\n",
              "      <td>5.0</td>\n",
              "      <td>Quần dày dặn đẹp vải ấm áp, áo rất ok ủng hộ s...</td>\n",
              "      <td>Quần dày dặn đẹp vải ấm áp, áo rất ok ủng hộ s...</td>\n",
              "      <td>2</td>\n",
              "    </tr>\n",
              "    <tr>\n",
              "      <th>190083</th>\n",
              "      <td>300</td>\n",
              "      <td>2023-03-28 17:05:37</td>\n",
              "      <td>5.0</td>\n",
              "      <td>Mua lần 2 trên shop này rồi còn được tặng kèm ...</td>\n",
              "      <td>Mua lần 2 trên shop này rồi còn được tặng kèm ...</td>\n",
              "      <td>2</td>\n",
              "    </tr>\n",
              "    <tr>\n",
              "      <th>189849</th>\n",
              "      <td>300</td>\n",
              "      <td>2023-03-28 17:17:54</td>\n",
              "      <td>5.0</td>\n",
              "      <td>Hàng ok lắm nè . Chú shipper thân thiện lắm lu...</td>\n",
              "      <td>Hàng ok lắm nè . Chú shipper thân thiện lắm lu...</td>\n",
              "      <td>2</td>\n",
              "    </tr>\n",
              "    <tr>\n",
              "      <th>189851</th>\n",
              "      <td>300</td>\n",
              "      <td>2023-03-30 13:49:46</td>\n",
              "      <td>5.0</td>\n",
              "      <td>Cảm ơn shop nhiều nhiều ạ. mai em được nghỉ có...</td>\n",
              "      <td>Cảm ơn shop nhiều nhiều ạ. mai em được nghỉ có...</td>\n",
              "      <td>2</td>\n",
              "    </tr>\n",
              "    <tr>\n",
              "      <th>189850</th>\n",
              "      <td>300</td>\n",
              "      <td>2023-03-31 06:51:02</td>\n",
              "      <td>5.0</td>\n",
              "      <td>Quần mặc khá mát còn chất lượng thì phải dùng ...</td>\n",
              "      <td>Quần mặc khá mát còn chất lượng thì phải dùng ...</td>\n",
              "      <td>2</td>\n",
              "    </tr>\n",
              "  </tbody>\n",
              "</table>\n",
              "<p>117527 rows × 6 columns</p>\n",
              "</div>\n",
              "      <button class=\"colab-df-convert\" onclick=\"convertToInteractive('df-70b31b22-5aa5-42a2-9840-f7317cb254ba')\"\n",
              "              title=\"Convert this dataframe to an interactive table.\"\n",
              "              style=\"display:none;\">\n",
              "        \n",
              "  <svg xmlns=\"http://www.w3.org/2000/svg\" height=\"24px\"viewBox=\"0 0 24 24\"\n",
              "       width=\"24px\">\n",
              "    <path d=\"M0 0h24v24H0V0z\" fill=\"none\"/>\n",
              "    <path d=\"M18.56 5.44l.94 2.06.94-2.06 2.06-.94-2.06-.94-.94-2.06-.94 2.06-2.06.94zm-11 1L8.5 8.5l.94-2.06 2.06-.94-2.06-.94L8.5 2.5l-.94 2.06-2.06.94zm10 10l.94 2.06.94-2.06 2.06-.94-2.06-.94-.94-2.06-.94 2.06-2.06.94z\"/><path d=\"M17.41 7.96l-1.37-1.37c-.4-.4-.92-.59-1.43-.59-.52 0-1.04.2-1.43.59L10.3 9.45l-7.72 7.72c-.78.78-.78 2.05 0 2.83L4 21.41c.39.39.9.59 1.41.59.51 0 1.02-.2 1.41-.59l7.78-7.78 2.81-2.81c.8-.78.8-2.07 0-2.86zM5.41 20L4 18.59l7.72-7.72 1.47 1.35L5.41 20z\"/>\n",
              "  </svg>\n",
              "      </button>\n",
              "      \n",
              "  <style>\n",
              "    .colab-df-container {\n",
              "      display:flex;\n",
              "      flex-wrap:wrap;\n",
              "      gap: 12px;\n",
              "    }\n",
              "\n",
              "    .colab-df-convert {\n",
              "      background-color: #E8F0FE;\n",
              "      border: none;\n",
              "      border-radius: 50%;\n",
              "      cursor: pointer;\n",
              "      display: none;\n",
              "      fill: #1967D2;\n",
              "      height: 32px;\n",
              "      padding: 0 0 0 0;\n",
              "      width: 32px;\n",
              "    }\n",
              "\n",
              "    .colab-df-convert:hover {\n",
              "      background-color: #E2EBFA;\n",
              "      box-shadow: 0px 1px 2px rgba(60, 64, 67, 0.3), 0px 1px 3px 1px rgba(60, 64, 67, 0.15);\n",
              "      fill: #174EA6;\n",
              "    }\n",
              "\n",
              "    [theme=dark] .colab-df-convert {\n",
              "      background-color: #3B4455;\n",
              "      fill: #D2E3FC;\n",
              "    }\n",
              "\n",
              "    [theme=dark] .colab-df-convert:hover {\n",
              "      background-color: #434B5C;\n",
              "      box-shadow: 0px 1px 3px 1px rgba(0, 0, 0, 0.15);\n",
              "      filter: drop-shadow(0px 1px 2px rgba(0, 0, 0, 0.3));\n",
              "      fill: #FFFFFF;\n",
              "    }\n",
              "  </style>\n",
              "\n",
              "      <script>\n",
              "        const buttonEl =\n",
              "          document.querySelector('#df-70b31b22-5aa5-42a2-9840-f7317cb254ba button.colab-df-convert');\n",
              "        buttonEl.style.display =\n",
              "          google.colab.kernel.accessAllowed ? 'block' : 'none';\n",
              "\n",
              "        async function convertToInteractive(key) {\n",
              "          const element = document.querySelector('#df-70b31b22-5aa5-42a2-9840-f7317cb254ba');\n",
              "          const dataTable =\n",
              "            await google.colab.kernel.invokeFunction('convertToInteractive',\n",
              "                                                     [key], {});\n",
              "          if (!dataTable) return;\n",
              "\n",
              "          const docLinkHtml = 'Like what you see? Visit the ' +\n",
              "            '<a target=\"_blank\" href=https://colab.research.google.com/notebooks/data_table.ipynb>data table notebook</a>'\n",
              "            + ' to learn more about interactive tables.';\n",
              "          element.innerHTML = '';\n",
              "          dataTable['output_type'] = 'display_data';\n",
              "          await google.colab.output.renderOutput(dataTable, element);\n",
              "          const docLink = document.createElement('div');\n",
              "          docLink.innerHTML = docLinkHtml;\n",
              "          element.appendChild(docLink);\n",
              "        }\n",
              "      </script>\n",
              "    </div>\n",
              "  </div>\n",
              "  "
            ]
          },
          "metadata": {},
          "execution_count": 53
        }
      ],
      "source": [
        "comment"
      ]
    },
    {
      "cell_type": "code",
      "execution_count": null,
      "metadata": {
        "colab": {
          "base_uri": "https://localhost:8080/",
          "height": 423
        },
        "id": "1LXRKOpeqTHm",
        "outputId": "8706f438-de8d-46c3-e607-bf7cc53ae52f"
      },
      "outputs": [
        {
          "output_type": "execute_result",
          "data": {
            "text/plain": [
              "     item   datetime  q_sold\n",
              "0       1 2023-03-03       0\n",
              "1       1 2023-03-04      19\n",
              "2       1 2023-03-05      23\n",
              "3       1 2023-03-06      13\n",
              "4       1 2023-03-07      15\n",
              "...   ...        ...     ...\n",
              "6413  300 2023-04-01      11\n",
              "6414  300 2023-04-02       3\n",
              "6415  300 2023-04-11      70\n",
              "6416  300 2023-04-12      13\n",
              "6417  300 2023-04-13       6\n",
              "\n",
              "[12896 rows x 3 columns]"
            ],
            "text/html": [
              "\n",
              "  <div id=\"df-e5f20bc8-6993-4624-9fb0-836ea832710a\">\n",
              "    <div class=\"colab-df-container\">\n",
              "      <div>\n",
              "<style scoped>\n",
              "    .dataframe tbody tr th:only-of-type {\n",
              "        vertical-align: middle;\n",
              "    }\n",
              "\n",
              "    .dataframe tbody tr th {\n",
              "        vertical-align: top;\n",
              "    }\n",
              "\n",
              "    .dataframe thead th {\n",
              "        text-align: right;\n",
              "    }\n",
              "</style>\n",
              "<table border=\"1\" class=\"dataframe\">\n",
              "  <thead>\n",
              "    <tr style=\"text-align: right;\">\n",
              "      <th></th>\n",
              "      <th>item</th>\n",
              "      <th>datetime</th>\n",
              "      <th>q_sold</th>\n",
              "    </tr>\n",
              "  </thead>\n",
              "  <tbody>\n",
              "    <tr>\n",
              "      <th>0</th>\n",
              "      <td>1</td>\n",
              "      <td>2023-03-03</td>\n",
              "      <td>0</td>\n",
              "    </tr>\n",
              "    <tr>\n",
              "      <th>1</th>\n",
              "      <td>1</td>\n",
              "      <td>2023-03-04</td>\n",
              "      <td>19</td>\n",
              "    </tr>\n",
              "    <tr>\n",
              "      <th>2</th>\n",
              "      <td>1</td>\n",
              "      <td>2023-03-05</td>\n",
              "      <td>23</td>\n",
              "    </tr>\n",
              "    <tr>\n",
              "      <th>3</th>\n",
              "      <td>1</td>\n",
              "      <td>2023-03-06</td>\n",
              "      <td>13</td>\n",
              "    </tr>\n",
              "    <tr>\n",
              "      <th>4</th>\n",
              "      <td>1</td>\n",
              "      <td>2023-03-07</td>\n",
              "      <td>15</td>\n",
              "    </tr>\n",
              "    <tr>\n",
              "      <th>...</th>\n",
              "      <td>...</td>\n",
              "      <td>...</td>\n",
              "      <td>...</td>\n",
              "    </tr>\n",
              "    <tr>\n",
              "      <th>6413</th>\n",
              "      <td>300</td>\n",
              "      <td>2023-04-01</td>\n",
              "      <td>11</td>\n",
              "    </tr>\n",
              "    <tr>\n",
              "      <th>6414</th>\n",
              "      <td>300</td>\n",
              "      <td>2023-04-02</td>\n",
              "      <td>3</td>\n",
              "    </tr>\n",
              "    <tr>\n",
              "      <th>6415</th>\n",
              "      <td>300</td>\n",
              "      <td>2023-04-11</td>\n",
              "      <td>70</td>\n",
              "    </tr>\n",
              "    <tr>\n",
              "      <th>6416</th>\n",
              "      <td>300</td>\n",
              "      <td>2023-04-12</td>\n",
              "      <td>13</td>\n",
              "    </tr>\n",
              "    <tr>\n",
              "      <th>6417</th>\n",
              "      <td>300</td>\n",
              "      <td>2023-04-13</td>\n",
              "      <td>6</td>\n",
              "    </tr>\n",
              "  </tbody>\n",
              "</table>\n",
              "<p>12896 rows × 3 columns</p>\n",
              "</div>\n",
              "      <button class=\"colab-df-convert\" onclick=\"convertToInteractive('df-e5f20bc8-6993-4624-9fb0-836ea832710a')\"\n",
              "              title=\"Convert this dataframe to an interactive table.\"\n",
              "              style=\"display:none;\">\n",
              "        \n",
              "  <svg xmlns=\"http://www.w3.org/2000/svg\" height=\"24px\"viewBox=\"0 0 24 24\"\n",
              "       width=\"24px\">\n",
              "    <path d=\"M0 0h24v24H0V0z\" fill=\"none\"/>\n",
              "    <path d=\"M18.56 5.44l.94 2.06.94-2.06 2.06-.94-2.06-.94-.94-2.06-.94 2.06-2.06.94zm-11 1L8.5 8.5l.94-2.06 2.06-.94-2.06-.94L8.5 2.5l-.94 2.06-2.06.94zm10 10l.94 2.06.94-2.06 2.06-.94-2.06-.94-.94-2.06-.94 2.06-2.06.94z\"/><path d=\"M17.41 7.96l-1.37-1.37c-.4-.4-.92-.59-1.43-.59-.52 0-1.04.2-1.43.59L10.3 9.45l-7.72 7.72c-.78.78-.78 2.05 0 2.83L4 21.41c.39.39.9.59 1.41.59.51 0 1.02-.2 1.41-.59l7.78-7.78 2.81-2.81c.8-.78.8-2.07 0-2.86zM5.41 20L4 18.59l7.72-7.72 1.47 1.35L5.41 20z\"/>\n",
              "  </svg>\n",
              "      </button>\n",
              "      \n",
              "  <style>\n",
              "    .colab-df-container {\n",
              "      display:flex;\n",
              "      flex-wrap:wrap;\n",
              "      gap: 12px;\n",
              "    }\n",
              "\n",
              "    .colab-df-convert {\n",
              "      background-color: #E8F0FE;\n",
              "      border: none;\n",
              "      border-radius: 50%;\n",
              "      cursor: pointer;\n",
              "      display: none;\n",
              "      fill: #1967D2;\n",
              "      height: 32px;\n",
              "      padding: 0 0 0 0;\n",
              "      width: 32px;\n",
              "    }\n",
              "\n",
              "    .colab-df-convert:hover {\n",
              "      background-color: #E2EBFA;\n",
              "      box-shadow: 0px 1px 2px rgba(60, 64, 67, 0.3), 0px 1px 3px 1px rgba(60, 64, 67, 0.15);\n",
              "      fill: #174EA6;\n",
              "    }\n",
              "\n",
              "    [theme=dark] .colab-df-convert {\n",
              "      background-color: #3B4455;\n",
              "      fill: #D2E3FC;\n",
              "    }\n",
              "\n",
              "    [theme=dark] .colab-df-convert:hover {\n",
              "      background-color: #434B5C;\n",
              "      box-shadow: 0px 1px 3px 1px rgba(0, 0, 0, 0.15);\n",
              "      filter: drop-shadow(0px 1px 2px rgba(0, 0, 0, 0.3));\n",
              "      fill: #FFFFFF;\n",
              "    }\n",
              "  </style>\n",
              "\n",
              "      <script>\n",
              "        const buttonEl =\n",
              "          document.querySelector('#df-e5f20bc8-6993-4624-9fb0-836ea832710a button.colab-df-convert');\n",
              "        buttonEl.style.display =\n",
              "          google.colab.kernel.accessAllowed ? 'block' : 'none';\n",
              "\n",
              "        async function convertToInteractive(key) {\n",
              "          const element = document.querySelector('#df-e5f20bc8-6993-4624-9fb0-836ea832710a');\n",
              "          const dataTable =\n",
              "            await google.colab.kernel.invokeFunction('convertToInteractive',\n",
              "                                                     [key], {});\n",
              "          if (!dataTable) return;\n",
              "\n",
              "          const docLinkHtml = 'Like what you see? Visit the ' +\n",
              "            '<a target=\"_blank\" href=https://colab.research.google.com/notebooks/data_table.ipynb>data table notebook</a>'\n",
              "            + ' to learn more about interactive tables.';\n",
              "          element.innerHTML = '';\n",
              "          dataTable['output_type'] = 'display_data';\n",
              "          await google.colab.output.renderOutput(dataTable, element);\n",
              "          const docLink = document.createElement('div');\n",
              "          docLink.innerHTML = docLinkHtml;\n",
              "          element.appendChild(docLink);\n",
              "        }\n",
              "      </script>\n",
              "    </div>\n",
              "  </div>\n",
              "  "
            ]
          },
          "metadata": {},
          "execution_count": 54
        }
      ],
      "source": [
        "new_sold"
      ]
    },
    {
      "cell_type": "code",
      "source": [
        "df = pd.merge(new_sold,cal, how =\"inner\",left_on = \"item\", right_on = \"Item\" )"
      ],
      "metadata": {
        "id": "FfCMVAdzG95N"
      },
      "execution_count": null,
      "outputs": []
    },
    {
      "cell_type": "code",
      "source": [
        "df"
      ],
      "metadata": {
        "colab": {
          "base_uri": "https://localhost:8080/",
          "height": 423
        },
        "id": "Z6PMME18HWE2",
        "outputId": "3bfd6223-3f84-4c95-b64b-ffdd48a7b599"
      },
      "execution_count": null,
      "outputs": [
        {
          "output_type": "execute_result",
          "data": {
            "text/plain": [
              "      item   datetime  q_sold  Item  Negative   Neutral  Positive  Total\n",
              "0        1 2023-03-03       0     1  0.081871  0.175439  0.742690    171\n",
              "1        1 2023-03-04      19     1  0.081871  0.175439  0.742690    171\n",
              "2        1 2023-03-05      23     1  0.081871  0.175439  0.742690    171\n",
              "3        1 2023-03-06      13     1  0.081871  0.175439  0.742690    171\n",
              "4        1 2023-03-07      15     1  0.081871  0.175439  0.742690    171\n",
              "...    ...        ...     ...   ...       ...       ...       ...    ...\n",
              "12803  300 2023-04-01      11   300  0.122093  0.081395  0.796512    344\n",
              "12804  300 2023-04-02       3   300  0.122093  0.081395  0.796512    344\n",
              "12805  300 2023-04-11      70   300  0.122093  0.081395  0.796512    344\n",
              "12806  300 2023-04-12      13   300  0.122093  0.081395  0.796512    344\n",
              "12807  300 2023-04-13       6   300  0.122093  0.081395  0.796512    344\n",
              "\n",
              "[12808 rows x 8 columns]"
            ],
            "text/html": [
              "\n",
              "  <div id=\"df-5a2f46f3-7089-4541-ae7e-bd4cb0f22228\">\n",
              "    <div class=\"colab-df-container\">\n",
              "      <div>\n",
              "<style scoped>\n",
              "    .dataframe tbody tr th:only-of-type {\n",
              "        vertical-align: middle;\n",
              "    }\n",
              "\n",
              "    .dataframe tbody tr th {\n",
              "        vertical-align: top;\n",
              "    }\n",
              "\n",
              "    .dataframe thead th {\n",
              "        text-align: right;\n",
              "    }\n",
              "</style>\n",
              "<table border=\"1\" class=\"dataframe\">\n",
              "  <thead>\n",
              "    <tr style=\"text-align: right;\">\n",
              "      <th></th>\n",
              "      <th>item</th>\n",
              "      <th>datetime</th>\n",
              "      <th>q_sold</th>\n",
              "      <th>Item</th>\n",
              "      <th>Negative</th>\n",
              "      <th>Neutral</th>\n",
              "      <th>Positive</th>\n",
              "      <th>Total</th>\n",
              "    </tr>\n",
              "  </thead>\n",
              "  <tbody>\n",
              "    <tr>\n",
              "      <th>0</th>\n",
              "      <td>1</td>\n",
              "      <td>2023-03-03</td>\n",
              "      <td>0</td>\n",
              "      <td>1</td>\n",
              "      <td>0.081871</td>\n",
              "      <td>0.175439</td>\n",
              "      <td>0.742690</td>\n",
              "      <td>171</td>\n",
              "    </tr>\n",
              "    <tr>\n",
              "      <th>1</th>\n",
              "      <td>1</td>\n",
              "      <td>2023-03-04</td>\n",
              "      <td>19</td>\n",
              "      <td>1</td>\n",
              "      <td>0.081871</td>\n",
              "      <td>0.175439</td>\n",
              "      <td>0.742690</td>\n",
              "      <td>171</td>\n",
              "    </tr>\n",
              "    <tr>\n",
              "      <th>2</th>\n",
              "      <td>1</td>\n",
              "      <td>2023-03-05</td>\n",
              "      <td>23</td>\n",
              "      <td>1</td>\n",
              "      <td>0.081871</td>\n",
              "      <td>0.175439</td>\n",
              "      <td>0.742690</td>\n",
              "      <td>171</td>\n",
              "    </tr>\n",
              "    <tr>\n",
              "      <th>3</th>\n",
              "      <td>1</td>\n",
              "      <td>2023-03-06</td>\n",
              "      <td>13</td>\n",
              "      <td>1</td>\n",
              "      <td>0.081871</td>\n",
              "      <td>0.175439</td>\n",
              "      <td>0.742690</td>\n",
              "      <td>171</td>\n",
              "    </tr>\n",
              "    <tr>\n",
              "      <th>4</th>\n",
              "      <td>1</td>\n",
              "      <td>2023-03-07</td>\n",
              "      <td>15</td>\n",
              "      <td>1</td>\n",
              "      <td>0.081871</td>\n",
              "      <td>0.175439</td>\n",
              "      <td>0.742690</td>\n",
              "      <td>171</td>\n",
              "    </tr>\n",
              "    <tr>\n",
              "      <th>...</th>\n",
              "      <td>...</td>\n",
              "      <td>...</td>\n",
              "      <td>...</td>\n",
              "      <td>...</td>\n",
              "      <td>...</td>\n",
              "      <td>...</td>\n",
              "      <td>...</td>\n",
              "      <td>...</td>\n",
              "    </tr>\n",
              "    <tr>\n",
              "      <th>12803</th>\n",
              "      <td>300</td>\n",
              "      <td>2023-04-01</td>\n",
              "      <td>11</td>\n",
              "      <td>300</td>\n",
              "      <td>0.122093</td>\n",
              "      <td>0.081395</td>\n",
              "      <td>0.796512</td>\n",
              "      <td>344</td>\n",
              "    </tr>\n",
              "    <tr>\n",
              "      <th>12804</th>\n",
              "      <td>300</td>\n",
              "      <td>2023-04-02</td>\n",
              "      <td>3</td>\n",
              "      <td>300</td>\n",
              "      <td>0.122093</td>\n",
              "      <td>0.081395</td>\n",
              "      <td>0.796512</td>\n",
              "      <td>344</td>\n",
              "    </tr>\n",
              "    <tr>\n",
              "      <th>12805</th>\n",
              "      <td>300</td>\n",
              "      <td>2023-04-11</td>\n",
              "      <td>70</td>\n",
              "      <td>300</td>\n",
              "      <td>0.122093</td>\n",
              "      <td>0.081395</td>\n",
              "      <td>0.796512</td>\n",
              "      <td>344</td>\n",
              "    </tr>\n",
              "    <tr>\n",
              "      <th>12806</th>\n",
              "      <td>300</td>\n",
              "      <td>2023-04-12</td>\n",
              "      <td>13</td>\n",
              "      <td>300</td>\n",
              "      <td>0.122093</td>\n",
              "      <td>0.081395</td>\n",
              "      <td>0.796512</td>\n",
              "      <td>344</td>\n",
              "    </tr>\n",
              "    <tr>\n",
              "      <th>12807</th>\n",
              "      <td>300</td>\n",
              "      <td>2023-04-13</td>\n",
              "      <td>6</td>\n",
              "      <td>300</td>\n",
              "      <td>0.122093</td>\n",
              "      <td>0.081395</td>\n",
              "      <td>0.796512</td>\n",
              "      <td>344</td>\n",
              "    </tr>\n",
              "  </tbody>\n",
              "</table>\n",
              "<p>12808 rows × 8 columns</p>\n",
              "</div>\n",
              "      <button class=\"colab-df-convert\" onclick=\"convertToInteractive('df-5a2f46f3-7089-4541-ae7e-bd4cb0f22228')\"\n",
              "              title=\"Convert this dataframe to an interactive table.\"\n",
              "              style=\"display:none;\">\n",
              "        \n",
              "  <svg xmlns=\"http://www.w3.org/2000/svg\" height=\"24px\"viewBox=\"0 0 24 24\"\n",
              "       width=\"24px\">\n",
              "    <path d=\"M0 0h24v24H0V0z\" fill=\"none\"/>\n",
              "    <path d=\"M18.56 5.44l.94 2.06.94-2.06 2.06-.94-2.06-.94-.94-2.06-.94 2.06-2.06.94zm-11 1L8.5 8.5l.94-2.06 2.06-.94-2.06-.94L8.5 2.5l-.94 2.06-2.06.94zm10 10l.94 2.06.94-2.06 2.06-.94-2.06-.94-.94-2.06-.94 2.06-2.06.94z\"/><path d=\"M17.41 7.96l-1.37-1.37c-.4-.4-.92-.59-1.43-.59-.52 0-1.04.2-1.43.59L10.3 9.45l-7.72 7.72c-.78.78-.78 2.05 0 2.83L4 21.41c.39.39.9.59 1.41.59.51 0 1.02-.2 1.41-.59l7.78-7.78 2.81-2.81c.8-.78.8-2.07 0-2.86zM5.41 20L4 18.59l7.72-7.72 1.47 1.35L5.41 20z\"/>\n",
              "  </svg>\n",
              "      </button>\n",
              "      \n",
              "  <style>\n",
              "    .colab-df-container {\n",
              "      display:flex;\n",
              "      flex-wrap:wrap;\n",
              "      gap: 12px;\n",
              "    }\n",
              "\n",
              "    .colab-df-convert {\n",
              "      background-color: #E8F0FE;\n",
              "      border: none;\n",
              "      border-radius: 50%;\n",
              "      cursor: pointer;\n",
              "      display: none;\n",
              "      fill: #1967D2;\n",
              "      height: 32px;\n",
              "      padding: 0 0 0 0;\n",
              "      width: 32px;\n",
              "    }\n",
              "\n",
              "    .colab-df-convert:hover {\n",
              "      background-color: #E2EBFA;\n",
              "      box-shadow: 0px 1px 2px rgba(60, 64, 67, 0.3), 0px 1px 3px 1px rgba(60, 64, 67, 0.15);\n",
              "      fill: #174EA6;\n",
              "    }\n",
              "\n",
              "    [theme=dark] .colab-df-convert {\n",
              "      background-color: #3B4455;\n",
              "      fill: #D2E3FC;\n",
              "    }\n",
              "\n",
              "    [theme=dark] .colab-df-convert:hover {\n",
              "      background-color: #434B5C;\n",
              "      box-shadow: 0px 1px 3px 1px rgba(0, 0, 0, 0.15);\n",
              "      filter: drop-shadow(0px 1px 2px rgba(0, 0, 0, 0.3));\n",
              "      fill: #FFFFFF;\n",
              "    }\n",
              "  </style>\n",
              "\n",
              "      <script>\n",
              "        const buttonEl =\n",
              "          document.querySelector('#df-5a2f46f3-7089-4541-ae7e-bd4cb0f22228 button.colab-df-convert');\n",
              "        buttonEl.style.display =\n",
              "          google.colab.kernel.accessAllowed ? 'block' : 'none';\n",
              "\n",
              "        async function convertToInteractive(key) {\n",
              "          const element = document.querySelector('#df-5a2f46f3-7089-4541-ae7e-bd4cb0f22228');\n",
              "          const dataTable =\n",
              "            await google.colab.kernel.invokeFunction('convertToInteractive',\n",
              "                                                     [key], {});\n",
              "          if (!dataTable) return;\n",
              "\n",
              "          const docLinkHtml = 'Like what you see? Visit the ' +\n",
              "            '<a target=\"_blank\" href=https://colab.research.google.com/notebooks/data_table.ipynb>data table notebook</a>'\n",
              "            + ' to learn more about interactive tables.';\n",
              "          element.innerHTML = '';\n",
              "          dataTable['output_type'] = 'display_data';\n",
              "          await google.colab.output.renderOutput(dataTable, element);\n",
              "          const docLink = document.createElement('div');\n",
              "          docLink.innerHTML = docLinkHtml;\n",
              "          element.appendChild(docLink);\n",
              "        }\n",
              "      </script>\n",
              "    </div>\n",
              "  </div>\n",
              "  "
            ]
          },
          "metadata": {},
          "execution_count": 56
        }
      ]
    },
    {
      "cell_type": "code",
      "source": [
        "df = pd.merge(raw_sold,cal, how =\"inner\",left_on = \"item\", right_on = \"No_Item\" )"
      ],
      "metadata": {
        "id": "zi7XvcI6jszv"
      },
      "execution_count": null,
      "outputs": []
    },
    {
      "cell_type": "code",
      "source": [
        "df"
      ],
      "metadata": {
        "colab": {
          "base_uri": "https://localhost:8080/",
          "height": 423
        },
        "id": "TOviJ9UXj244",
        "outputId": "f9204e98-35ca-4918-c4cb-a3bab61bbb33"
      },
      "execution_count": null,
      "outputs": [
        {
          "output_type": "execute_result",
          "data": {
            "text/plain": [
              "      item   datetime  q_sold  No_Item  Negative   Neutral  Positive  Total\n",
              "0        2 2023-03-03       0        2  0.085034  0.183673  0.731293    294\n",
              "1        2 2023-03-04      27        2  0.085034  0.183673  0.731293    294\n",
              "2        2 2023-03-05      23        2  0.085034  0.183673  0.731293    294\n",
              "3        2 2023-03-06      48        2  0.085034  0.183673  0.731293    294\n",
              "4        2 2023-03-07      20        2  0.085034  0.183673  0.731293    294\n",
              "...    ...        ...     ...      ...       ...       ...       ...    ...\n",
              "1212   295 2023-03-15       7      295  0.068493  0.136986  0.794521    146\n",
              "1213   295 2023-03-16       8      295  0.068493  0.136986  0.794521    146\n",
              "1214   295 2023-03-17       6      295  0.068493  0.136986  0.794521    146\n",
              "1215   295 2023-03-18       6      295  0.068493  0.136986  0.794521    146\n",
              "1216   295 2023-03-19       1      295  0.068493  0.136986  0.794521    146\n",
              "\n",
              "[1217 rows x 8 columns]"
            ],
            "text/html": [
              "\n",
              "  <div id=\"df-a43aef75-4f31-41da-a1c7-4314791d1311\">\n",
              "    <div class=\"colab-df-container\">\n",
              "      <div>\n",
              "<style scoped>\n",
              "    .dataframe tbody tr th:only-of-type {\n",
              "        vertical-align: middle;\n",
              "    }\n",
              "\n",
              "    .dataframe tbody tr th {\n",
              "        vertical-align: top;\n",
              "    }\n",
              "\n",
              "    .dataframe thead th {\n",
              "        text-align: right;\n",
              "    }\n",
              "</style>\n",
              "<table border=\"1\" class=\"dataframe\">\n",
              "  <thead>\n",
              "    <tr style=\"text-align: right;\">\n",
              "      <th></th>\n",
              "      <th>item</th>\n",
              "      <th>datetime</th>\n",
              "      <th>q_sold</th>\n",
              "      <th>No_Item</th>\n",
              "      <th>Negative</th>\n",
              "      <th>Neutral</th>\n",
              "      <th>Positive</th>\n",
              "      <th>Total</th>\n",
              "    </tr>\n",
              "  </thead>\n",
              "  <tbody>\n",
              "    <tr>\n",
              "      <th>0</th>\n",
              "      <td>2</td>\n",
              "      <td>2023-03-03</td>\n",
              "      <td>0</td>\n",
              "      <td>2</td>\n",
              "      <td>0.085034</td>\n",
              "      <td>0.183673</td>\n",
              "      <td>0.731293</td>\n",
              "      <td>294</td>\n",
              "    </tr>\n",
              "    <tr>\n",
              "      <th>1</th>\n",
              "      <td>2</td>\n",
              "      <td>2023-03-04</td>\n",
              "      <td>27</td>\n",
              "      <td>2</td>\n",
              "      <td>0.085034</td>\n",
              "      <td>0.183673</td>\n",
              "      <td>0.731293</td>\n",
              "      <td>294</td>\n",
              "    </tr>\n",
              "    <tr>\n",
              "      <th>2</th>\n",
              "      <td>2</td>\n",
              "      <td>2023-03-05</td>\n",
              "      <td>23</td>\n",
              "      <td>2</td>\n",
              "      <td>0.085034</td>\n",
              "      <td>0.183673</td>\n",
              "      <td>0.731293</td>\n",
              "      <td>294</td>\n",
              "    </tr>\n",
              "    <tr>\n",
              "      <th>3</th>\n",
              "      <td>2</td>\n",
              "      <td>2023-03-06</td>\n",
              "      <td>48</td>\n",
              "      <td>2</td>\n",
              "      <td>0.085034</td>\n",
              "      <td>0.183673</td>\n",
              "      <td>0.731293</td>\n",
              "      <td>294</td>\n",
              "    </tr>\n",
              "    <tr>\n",
              "      <th>4</th>\n",
              "      <td>2</td>\n",
              "      <td>2023-03-07</td>\n",
              "      <td>20</td>\n",
              "      <td>2</td>\n",
              "      <td>0.085034</td>\n",
              "      <td>0.183673</td>\n",
              "      <td>0.731293</td>\n",
              "      <td>294</td>\n",
              "    </tr>\n",
              "    <tr>\n",
              "      <th>...</th>\n",
              "      <td>...</td>\n",
              "      <td>...</td>\n",
              "      <td>...</td>\n",
              "      <td>...</td>\n",
              "      <td>...</td>\n",
              "      <td>...</td>\n",
              "      <td>...</td>\n",
              "      <td>...</td>\n",
              "    </tr>\n",
              "    <tr>\n",
              "      <th>1212</th>\n",
              "      <td>295</td>\n",
              "      <td>2023-03-15</td>\n",
              "      <td>7</td>\n",
              "      <td>295</td>\n",
              "      <td>0.068493</td>\n",
              "      <td>0.136986</td>\n",
              "      <td>0.794521</td>\n",
              "      <td>146</td>\n",
              "    </tr>\n",
              "    <tr>\n",
              "      <th>1213</th>\n",
              "      <td>295</td>\n",
              "      <td>2023-03-16</td>\n",
              "      <td>8</td>\n",
              "      <td>295</td>\n",
              "      <td>0.068493</td>\n",
              "      <td>0.136986</td>\n",
              "      <td>0.794521</td>\n",
              "      <td>146</td>\n",
              "    </tr>\n",
              "    <tr>\n",
              "      <th>1214</th>\n",
              "      <td>295</td>\n",
              "      <td>2023-03-17</td>\n",
              "      <td>6</td>\n",
              "      <td>295</td>\n",
              "      <td>0.068493</td>\n",
              "      <td>0.136986</td>\n",
              "      <td>0.794521</td>\n",
              "      <td>146</td>\n",
              "    </tr>\n",
              "    <tr>\n",
              "      <th>1215</th>\n",
              "      <td>295</td>\n",
              "      <td>2023-03-18</td>\n",
              "      <td>6</td>\n",
              "      <td>295</td>\n",
              "      <td>0.068493</td>\n",
              "      <td>0.136986</td>\n",
              "      <td>0.794521</td>\n",
              "      <td>146</td>\n",
              "    </tr>\n",
              "    <tr>\n",
              "      <th>1216</th>\n",
              "      <td>295</td>\n",
              "      <td>2023-03-19</td>\n",
              "      <td>1</td>\n",
              "      <td>295</td>\n",
              "      <td>0.068493</td>\n",
              "      <td>0.136986</td>\n",
              "      <td>0.794521</td>\n",
              "      <td>146</td>\n",
              "    </tr>\n",
              "  </tbody>\n",
              "</table>\n",
              "<p>1217 rows × 8 columns</p>\n",
              "</div>\n",
              "      <button class=\"colab-df-convert\" onclick=\"convertToInteractive('df-a43aef75-4f31-41da-a1c7-4314791d1311')\"\n",
              "              title=\"Convert this dataframe to an interactive table.\"\n",
              "              style=\"display:none;\">\n",
              "        \n",
              "  <svg xmlns=\"http://www.w3.org/2000/svg\" height=\"24px\"viewBox=\"0 0 24 24\"\n",
              "       width=\"24px\">\n",
              "    <path d=\"M0 0h24v24H0V0z\" fill=\"none\"/>\n",
              "    <path d=\"M18.56 5.44l.94 2.06.94-2.06 2.06-.94-2.06-.94-.94-2.06-.94 2.06-2.06.94zm-11 1L8.5 8.5l.94-2.06 2.06-.94-2.06-.94L8.5 2.5l-.94 2.06-2.06.94zm10 10l.94 2.06.94-2.06 2.06-.94-2.06-.94-.94-2.06-.94 2.06-2.06.94z\"/><path d=\"M17.41 7.96l-1.37-1.37c-.4-.4-.92-.59-1.43-.59-.52 0-1.04.2-1.43.59L10.3 9.45l-7.72 7.72c-.78.78-.78 2.05 0 2.83L4 21.41c.39.39.9.59 1.41.59.51 0 1.02-.2 1.41-.59l7.78-7.78 2.81-2.81c.8-.78.8-2.07 0-2.86zM5.41 20L4 18.59l7.72-7.72 1.47 1.35L5.41 20z\"/>\n",
              "  </svg>\n",
              "      </button>\n",
              "      \n",
              "  <style>\n",
              "    .colab-df-container {\n",
              "      display:flex;\n",
              "      flex-wrap:wrap;\n",
              "      gap: 12px;\n",
              "    }\n",
              "\n",
              "    .colab-df-convert {\n",
              "      background-color: #E8F0FE;\n",
              "      border: none;\n",
              "      border-radius: 50%;\n",
              "      cursor: pointer;\n",
              "      display: none;\n",
              "      fill: #1967D2;\n",
              "      height: 32px;\n",
              "      padding: 0 0 0 0;\n",
              "      width: 32px;\n",
              "    }\n",
              "\n",
              "    .colab-df-convert:hover {\n",
              "      background-color: #E2EBFA;\n",
              "      box-shadow: 0px 1px 2px rgba(60, 64, 67, 0.3), 0px 1px 3px 1px rgba(60, 64, 67, 0.15);\n",
              "      fill: #174EA6;\n",
              "    }\n",
              "\n",
              "    [theme=dark] .colab-df-convert {\n",
              "      background-color: #3B4455;\n",
              "      fill: #D2E3FC;\n",
              "    }\n",
              "\n",
              "    [theme=dark] .colab-df-convert:hover {\n",
              "      background-color: #434B5C;\n",
              "      box-shadow: 0px 1px 3px 1px rgba(0, 0, 0, 0.15);\n",
              "      filter: drop-shadow(0px 1px 2px rgba(0, 0, 0, 0.3));\n",
              "      fill: #FFFFFF;\n",
              "    }\n",
              "  </style>\n",
              "\n",
              "      <script>\n",
              "        const buttonEl =\n",
              "          document.querySelector('#df-a43aef75-4f31-41da-a1c7-4314791d1311 button.colab-df-convert');\n",
              "        buttonEl.style.display =\n",
              "          google.colab.kernel.accessAllowed ? 'block' : 'none';\n",
              "\n",
              "        async function convertToInteractive(key) {\n",
              "          const element = document.querySelector('#df-a43aef75-4f31-41da-a1c7-4314791d1311');\n",
              "          const dataTable =\n",
              "            await google.colab.kernel.invokeFunction('convertToInteractive',\n",
              "                                                     [key], {});\n",
              "          if (!dataTable) return;\n",
              "\n",
              "          const docLinkHtml = 'Like what you see? Visit the ' +\n",
              "            '<a target=\"_blank\" href=https://colab.research.google.com/notebooks/data_table.ipynb>data table notebook</a>'\n",
              "            + ' to learn more about interactive tables.';\n",
              "          element.innerHTML = '';\n",
              "          dataTable['output_type'] = 'display_data';\n",
              "          await google.colab.output.renderOutput(dataTable, element);\n",
              "          const docLink = document.createElement('div');\n",
              "          docLink.innerHTML = docLinkHtml;\n",
              "          element.appendChild(docLink);\n",
              "        }\n",
              "      </script>\n",
              "    </div>\n",
              "  </div>\n",
              "  "
            ]
          },
          "metadata": {},
          "execution_count": 39
        }
      ]
    },
    {
      "cell_type": "code",
      "execution_count": null,
      "metadata": {
        "colab": {
          "base_uri": "https://localhost:8080/"
        },
        "id": "8wZ-m6ZCqTHm",
        "outputId": "9a3ef145-8469-42c1-a4c9-e3bb5372fa83"
      },
      "outputs": [
        {
          "output_type": "stream",
          "name": "stderr",
          "text": [
            "100%|██████████| 300/300 [00:10<00:00, 29.40it/s]\n"
          ]
        }
      ],
      "source": [
        "avg_neu, avg_neg, avg_pos, rating = [], [], [], []\n",
        "for i in tqdm(range(1, 301)):\n",
        "    current_day = pd.Timestamp('2023-03-03')\n",
        "    all_comment = comment[comment['Item']==i]\n",
        "    all_sold = new_sold[new_sold['item']==i]\n",
        "    sold_record = len(all_sold[all_sold['datetime']>=current_day])\n",
        "\n",
        "    for j in range(sold_record):\n",
        "        current_day += pd.Timedelta(days=1)\n",
        "        comment_record = all_comment[all_comment['Datetime']<current_day]\n",
        "        if len(comment_record) == 0:\n",
        "            # avg_neg.append(1/3)\n",
        "            # avg_neu.append(1/3)\n",
        "            # avg_pos.append(1/3)\n",
        "            rating.append(0)\n",
        "        else:\n",
        "              avg_neg = cal[\"Negative\"]\n",
        "              avg_neu = cal[\"Neutral\"]\n",
        "              avg_pos = cal[\"Positive\"]\n",
        "            # avg_neu.append(comment_record['neutral'].mean())\n",
        "            # avg_neg.append(comment_record['negative'].mean())\n",
        "            # avg_pos.append(comment_record['positive'].mean())\n",
        "              rating.append(comment_record['Rating'].mean())\n",
        ""
      ]
    },
    {
      "cell_type": "code",
      "execution_count": null,
      "metadata": {
        "id": "zb5b1V2qqTHm"
      },
      "outputs": [],
      "source": [
        "new_sold['avg_neg'] = avg_neg\n",
        "new_sold['avg_neu'] = avg_neu\n",
        "new_sold['avg_pos'] = avg_pos\n",
        "new_sold['avg_rate'] = rating"
      ]
    },
    {
      "cell_type": "code",
      "execution_count": null,
      "metadata": {
        "id": "gG_5S6seqTHn"
      },
      "outputs": [],
      "source": [
        "df = raw_sold"
      ]
    },
    {
      "cell_type": "code",
      "execution_count": null,
      "metadata": {
        "colab": {
          "base_uri": "https://localhost:8080/",
          "height": 423
        },
        "id": "GihUaak8qTHn",
        "outputId": "812b29a3-0afc-4911-eeaf-012bda5c5b63"
      },
      "outputs": [
        {
          "output_type": "execute_result",
          "data": {
            "text/plain": [
              "      item   datetime  q_sold\n",
              "0        1 2023-03-03       0\n",
              "1        1 2023-03-04      19\n",
              "2        1 2023-03-05      23\n",
              "3        1 2023-03-06      13\n",
              "4        1 2023-03-07      15\n",
              "...    ...        ...     ...\n",
              "4847   300 2023-03-09       7\n",
              "4848   300 2023-03-10       2\n",
              "4849   300 2023-03-11       5\n",
              "4850   300 2023-03-12       1\n",
              "4851   300 2023-03-13       0\n",
              "\n",
              "[4852 rows x 3 columns]"
            ],
            "text/html": [
              "\n",
              "  <div id=\"df-8c467359-51b6-437e-956e-dac6924b2f4f\">\n",
              "    <div class=\"colab-df-container\">\n",
              "      <div>\n",
              "<style scoped>\n",
              "    .dataframe tbody tr th:only-of-type {\n",
              "        vertical-align: middle;\n",
              "    }\n",
              "\n",
              "    .dataframe tbody tr th {\n",
              "        vertical-align: top;\n",
              "    }\n",
              "\n",
              "    .dataframe thead th {\n",
              "        text-align: right;\n",
              "    }\n",
              "</style>\n",
              "<table border=\"1\" class=\"dataframe\">\n",
              "  <thead>\n",
              "    <tr style=\"text-align: right;\">\n",
              "      <th></th>\n",
              "      <th>item</th>\n",
              "      <th>datetime</th>\n",
              "      <th>q_sold</th>\n",
              "    </tr>\n",
              "  </thead>\n",
              "  <tbody>\n",
              "    <tr>\n",
              "      <th>0</th>\n",
              "      <td>1</td>\n",
              "      <td>2023-03-03</td>\n",
              "      <td>0</td>\n",
              "    </tr>\n",
              "    <tr>\n",
              "      <th>1</th>\n",
              "      <td>1</td>\n",
              "      <td>2023-03-04</td>\n",
              "      <td>19</td>\n",
              "    </tr>\n",
              "    <tr>\n",
              "      <th>2</th>\n",
              "      <td>1</td>\n",
              "      <td>2023-03-05</td>\n",
              "      <td>23</td>\n",
              "    </tr>\n",
              "    <tr>\n",
              "      <th>3</th>\n",
              "      <td>1</td>\n",
              "      <td>2023-03-06</td>\n",
              "      <td>13</td>\n",
              "    </tr>\n",
              "    <tr>\n",
              "      <th>4</th>\n",
              "      <td>1</td>\n",
              "      <td>2023-03-07</td>\n",
              "      <td>15</td>\n",
              "    </tr>\n",
              "    <tr>\n",
              "      <th>...</th>\n",
              "      <td>...</td>\n",
              "      <td>...</td>\n",
              "      <td>...</td>\n",
              "    </tr>\n",
              "    <tr>\n",
              "      <th>4847</th>\n",
              "      <td>300</td>\n",
              "      <td>2023-03-09</td>\n",
              "      <td>7</td>\n",
              "    </tr>\n",
              "    <tr>\n",
              "      <th>4848</th>\n",
              "      <td>300</td>\n",
              "      <td>2023-03-10</td>\n",
              "      <td>2</td>\n",
              "    </tr>\n",
              "    <tr>\n",
              "      <th>4849</th>\n",
              "      <td>300</td>\n",
              "      <td>2023-03-11</td>\n",
              "      <td>5</td>\n",
              "    </tr>\n",
              "    <tr>\n",
              "      <th>4850</th>\n",
              "      <td>300</td>\n",
              "      <td>2023-03-12</td>\n",
              "      <td>1</td>\n",
              "    </tr>\n",
              "    <tr>\n",
              "      <th>4851</th>\n",
              "      <td>300</td>\n",
              "      <td>2023-03-13</td>\n",
              "      <td>0</td>\n",
              "    </tr>\n",
              "  </tbody>\n",
              "</table>\n",
              "<p>4852 rows × 3 columns</p>\n",
              "</div>\n",
              "      <button class=\"colab-df-convert\" onclick=\"convertToInteractive('df-8c467359-51b6-437e-956e-dac6924b2f4f')\"\n",
              "              title=\"Convert this dataframe to an interactive table.\"\n",
              "              style=\"display:none;\">\n",
              "        \n",
              "  <svg xmlns=\"http://www.w3.org/2000/svg\" height=\"24px\"viewBox=\"0 0 24 24\"\n",
              "       width=\"24px\">\n",
              "    <path d=\"M0 0h24v24H0V0z\" fill=\"none\"/>\n",
              "    <path d=\"M18.56 5.44l.94 2.06.94-2.06 2.06-.94-2.06-.94-.94-2.06-.94 2.06-2.06.94zm-11 1L8.5 8.5l.94-2.06 2.06-.94-2.06-.94L8.5 2.5l-.94 2.06-2.06.94zm10 10l.94 2.06.94-2.06 2.06-.94-2.06-.94-.94-2.06-.94 2.06-2.06.94z\"/><path d=\"M17.41 7.96l-1.37-1.37c-.4-.4-.92-.59-1.43-.59-.52 0-1.04.2-1.43.59L10.3 9.45l-7.72 7.72c-.78.78-.78 2.05 0 2.83L4 21.41c.39.39.9.59 1.41.59.51 0 1.02-.2 1.41-.59l7.78-7.78 2.81-2.81c.8-.78.8-2.07 0-2.86zM5.41 20L4 18.59l7.72-7.72 1.47 1.35L5.41 20z\"/>\n",
              "  </svg>\n",
              "      </button>\n",
              "      \n",
              "  <style>\n",
              "    .colab-df-container {\n",
              "      display:flex;\n",
              "      flex-wrap:wrap;\n",
              "      gap: 12px;\n",
              "    }\n",
              "\n",
              "    .colab-df-convert {\n",
              "      background-color: #E8F0FE;\n",
              "      border: none;\n",
              "      border-radius: 50%;\n",
              "      cursor: pointer;\n",
              "      display: none;\n",
              "      fill: #1967D2;\n",
              "      height: 32px;\n",
              "      padding: 0 0 0 0;\n",
              "      width: 32px;\n",
              "    }\n",
              "\n",
              "    .colab-df-convert:hover {\n",
              "      background-color: #E2EBFA;\n",
              "      box-shadow: 0px 1px 2px rgba(60, 64, 67, 0.3), 0px 1px 3px 1px rgba(60, 64, 67, 0.15);\n",
              "      fill: #174EA6;\n",
              "    }\n",
              "\n",
              "    [theme=dark] .colab-df-convert {\n",
              "      background-color: #3B4455;\n",
              "      fill: #D2E3FC;\n",
              "    }\n",
              "\n",
              "    [theme=dark] .colab-df-convert:hover {\n",
              "      background-color: #434B5C;\n",
              "      box-shadow: 0px 1px 3px 1px rgba(0, 0, 0, 0.15);\n",
              "      filter: drop-shadow(0px 1px 2px rgba(0, 0, 0, 0.3));\n",
              "      fill: #FFFFFF;\n",
              "    }\n",
              "  </style>\n",
              "\n",
              "      <script>\n",
              "        const buttonEl =\n",
              "          document.querySelector('#df-8c467359-51b6-437e-956e-dac6924b2f4f button.colab-df-convert');\n",
              "        buttonEl.style.display =\n",
              "          google.colab.kernel.accessAllowed ? 'block' : 'none';\n",
              "\n",
              "        async function convertToInteractive(key) {\n",
              "          const element = document.querySelector('#df-8c467359-51b6-437e-956e-dac6924b2f4f');\n",
              "          const dataTable =\n",
              "            await google.colab.kernel.invokeFunction('convertToInteractive',\n",
              "                                                     [key], {});\n",
              "          if (!dataTable) return;\n",
              "\n",
              "          const docLinkHtml = 'Like what you see? Visit the ' +\n",
              "            '<a target=\"_blank\" href=https://colab.research.google.com/notebooks/data_table.ipynb>data table notebook</a>'\n",
              "            + ' to learn more about interactive tables.';\n",
              "          element.innerHTML = '';\n",
              "          dataTable['output_type'] = 'display_data';\n",
              "          await google.colab.output.renderOutput(dataTable, element);\n",
              "          const docLink = document.createElement('div');\n",
              "          docLink.innerHTML = docLinkHtml;\n",
              "          element.appendChild(docLink);\n",
              "        }\n",
              "      </script>\n",
              "    </div>\n",
              "  </div>\n",
              "  "
            ]
          },
          "metadata": {},
          "execution_count": 10
        }
      ],
      "source": [
        "df"
      ]
    },
    {
      "cell_type": "code",
      "source": [
        "df = df.fillna(value=0)"
      ],
      "metadata": {
        "id": "RnslWokVJO3W"
      },
      "execution_count": null,
      "outputs": []
    },
    {
      "cell_type": "code",
      "source": [
        "df"
      ],
      "metadata": {
        "colab": {
          "base_uri": "https://localhost:8080/",
          "height": 423
        },
        "id": "lT38xmo1JvWY",
        "outputId": "08742174-9d32-4356-9967-d59f79a83ecf"
      },
      "execution_count": null,
      "outputs": [
        {
          "output_type": "execute_result",
          "data": {
            "text/plain": [
              "      item   datetime  q_sold\n",
              "0        1 2023-03-03       0\n",
              "1        1 2023-03-04      19\n",
              "2        1 2023-03-05      23\n",
              "3        1 2023-03-06      13\n",
              "4        1 2023-03-07      15\n",
              "...    ...        ...     ...\n",
              "4847   300 2023-03-09       7\n",
              "4848   300 2023-03-10       2\n",
              "4849   300 2023-03-11       5\n",
              "4850   300 2023-03-12       1\n",
              "4851   300 2023-03-13       0\n",
              "\n",
              "[4852 rows x 3 columns]"
            ],
            "text/html": [
              "\n",
              "  <div id=\"df-70a8b007-977e-46f4-85dd-edfc49a13dd9\">\n",
              "    <div class=\"colab-df-container\">\n",
              "      <div>\n",
              "<style scoped>\n",
              "    .dataframe tbody tr th:only-of-type {\n",
              "        vertical-align: middle;\n",
              "    }\n",
              "\n",
              "    .dataframe tbody tr th {\n",
              "        vertical-align: top;\n",
              "    }\n",
              "\n",
              "    .dataframe thead th {\n",
              "        text-align: right;\n",
              "    }\n",
              "</style>\n",
              "<table border=\"1\" class=\"dataframe\">\n",
              "  <thead>\n",
              "    <tr style=\"text-align: right;\">\n",
              "      <th></th>\n",
              "      <th>item</th>\n",
              "      <th>datetime</th>\n",
              "      <th>q_sold</th>\n",
              "    </tr>\n",
              "  </thead>\n",
              "  <tbody>\n",
              "    <tr>\n",
              "      <th>0</th>\n",
              "      <td>1</td>\n",
              "      <td>2023-03-03</td>\n",
              "      <td>0</td>\n",
              "    </tr>\n",
              "    <tr>\n",
              "      <th>1</th>\n",
              "      <td>1</td>\n",
              "      <td>2023-03-04</td>\n",
              "      <td>19</td>\n",
              "    </tr>\n",
              "    <tr>\n",
              "      <th>2</th>\n",
              "      <td>1</td>\n",
              "      <td>2023-03-05</td>\n",
              "      <td>23</td>\n",
              "    </tr>\n",
              "    <tr>\n",
              "      <th>3</th>\n",
              "      <td>1</td>\n",
              "      <td>2023-03-06</td>\n",
              "      <td>13</td>\n",
              "    </tr>\n",
              "    <tr>\n",
              "      <th>4</th>\n",
              "      <td>1</td>\n",
              "      <td>2023-03-07</td>\n",
              "      <td>15</td>\n",
              "    </tr>\n",
              "    <tr>\n",
              "      <th>...</th>\n",
              "      <td>...</td>\n",
              "      <td>...</td>\n",
              "      <td>...</td>\n",
              "    </tr>\n",
              "    <tr>\n",
              "      <th>4847</th>\n",
              "      <td>300</td>\n",
              "      <td>2023-03-09</td>\n",
              "      <td>7</td>\n",
              "    </tr>\n",
              "    <tr>\n",
              "      <th>4848</th>\n",
              "      <td>300</td>\n",
              "      <td>2023-03-10</td>\n",
              "      <td>2</td>\n",
              "    </tr>\n",
              "    <tr>\n",
              "      <th>4849</th>\n",
              "      <td>300</td>\n",
              "      <td>2023-03-11</td>\n",
              "      <td>5</td>\n",
              "    </tr>\n",
              "    <tr>\n",
              "      <th>4850</th>\n",
              "      <td>300</td>\n",
              "      <td>2023-03-12</td>\n",
              "      <td>1</td>\n",
              "    </tr>\n",
              "    <tr>\n",
              "      <th>4851</th>\n",
              "      <td>300</td>\n",
              "      <td>2023-03-13</td>\n",
              "      <td>0</td>\n",
              "    </tr>\n",
              "  </tbody>\n",
              "</table>\n",
              "<p>4852 rows × 3 columns</p>\n",
              "</div>\n",
              "      <button class=\"colab-df-convert\" onclick=\"convertToInteractive('df-70a8b007-977e-46f4-85dd-edfc49a13dd9')\"\n",
              "              title=\"Convert this dataframe to an interactive table.\"\n",
              "              style=\"display:none;\">\n",
              "        \n",
              "  <svg xmlns=\"http://www.w3.org/2000/svg\" height=\"24px\"viewBox=\"0 0 24 24\"\n",
              "       width=\"24px\">\n",
              "    <path d=\"M0 0h24v24H0V0z\" fill=\"none\"/>\n",
              "    <path d=\"M18.56 5.44l.94 2.06.94-2.06 2.06-.94-2.06-.94-.94-2.06-.94 2.06-2.06.94zm-11 1L8.5 8.5l.94-2.06 2.06-.94-2.06-.94L8.5 2.5l-.94 2.06-2.06.94zm10 10l.94 2.06.94-2.06 2.06-.94-2.06-.94-.94-2.06-.94 2.06-2.06.94z\"/><path d=\"M17.41 7.96l-1.37-1.37c-.4-.4-.92-.59-1.43-.59-.52 0-1.04.2-1.43.59L10.3 9.45l-7.72 7.72c-.78.78-.78 2.05 0 2.83L4 21.41c.39.39.9.59 1.41.59.51 0 1.02-.2 1.41-.59l7.78-7.78 2.81-2.81c.8-.78.8-2.07 0-2.86zM5.41 20L4 18.59l7.72-7.72 1.47 1.35L5.41 20z\"/>\n",
              "  </svg>\n",
              "      </button>\n",
              "      \n",
              "  <style>\n",
              "    .colab-df-container {\n",
              "      display:flex;\n",
              "      flex-wrap:wrap;\n",
              "      gap: 12px;\n",
              "    }\n",
              "\n",
              "    .colab-df-convert {\n",
              "      background-color: #E8F0FE;\n",
              "      border: none;\n",
              "      border-radius: 50%;\n",
              "      cursor: pointer;\n",
              "      display: none;\n",
              "      fill: #1967D2;\n",
              "      height: 32px;\n",
              "      padding: 0 0 0 0;\n",
              "      width: 32px;\n",
              "    }\n",
              "\n",
              "    .colab-df-convert:hover {\n",
              "      background-color: #E2EBFA;\n",
              "      box-shadow: 0px 1px 2px rgba(60, 64, 67, 0.3), 0px 1px 3px 1px rgba(60, 64, 67, 0.15);\n",
              "      fill: #174EA6;\n",
              "    }\n",
              "\n",
              "    [theme=dark] .colab-df-convert {\n",
              "      background-color: #3B4455;\n",
              "      fill: #D2E3FC;\n",
              "    }\n",
              "\n",
              "    [theme=dark] .colab-df-convert:hover {\n",
              "      background-color: #434B5C;\n",
              "      box-shadow: 0px 1px 3px 1px rgba(0, 0, 0, 0.15);\n",
              "      filter: drop-shadow(0px 1px 2px rgba(0, 0, 0, 0.3));\n",
              "      fill: #FFFFFF;\n",
              "    }\n",
              "  </style>\n",
              "\n",
              "      <script>\n",
              "        const buttonEl =\n",
              "          document.querySelector('#df-70a8b007-977e-46f4-85dd-edfc49a13dd9 button.colab-df-convert');\n",
              "        buttonEl.style.display =\n",
              "          google.colab.kernel.accessAllowed ? 'block' : 'none';\n",
              "\n",
              "        async function convertToInteractive(key) {\n",
              "          const element = document.querySelector('#df-70a8b007-977e-46f4-85dd-edfc49a13dd9');\n",
              "          const dataTable =\n",
              "            await google.colab.kernel.invokeFunction('convertToInteractive',\n",
              "                                                     [key], {});\n",
              "          if (!dataTable) return;\n",
              "\n",
              "          const docLinkHtml = 'Like what you see? Visit the ' +\n",
              "            '<a target=\"_blank\" href=https://colab.research.google.com/notebooks/data_table.ipynb>data table notebook</a>'\n",
              "            + ' to learn more about interactive tables.';\n",
              "          element.innerHTML = '';\n",
              "          dataTable['output_type'] = 'display_data';\n",
              "          await google.colab.output.renderOutput(dataTable, element);\n",
              "          const docLink = document.createElement('div');\n",
              "          docLink.innerHTML = docLinkHtml;\n",
              "          element.appendChild(docLink);\n",
              "        }\n",
              "      </script>\n",
              "    </div>\n",
              "  </div>\n",
              "  "
            ]
          },
          "metadata": {},
          "execution_count": 12
        }
      ]
    },
    {
      "cell_type": "code",
      "execution_count": null,
      "metadata": {
        "id": "d0IZ_P7DqTHn"
      },
      "outputs": [],
      "source": [
        "df = df[df['datetime']!='2023-03-03']"
      ]
    },
    {
      "cell_type": "code",
      "execution_count": null,
      "metadata": {
        "id": "r9nEULs1qTHn",
        "colab": {
          "base_uri": "https://localhost:8080/"
        },
        "outputId": "2cb2acdb-325e-4109-cbaf-3b147f091b8f"
      },
      "outputs": [
        {
          "output_type": "stream",
          "name": "stderr",
          "text": [
            "<ipython-input-14-bd2c725009ab>:1: SettingWithCopyWarning: \n",
            "A value is trying to be set on a copy of a slice from a DataFrame.\n",
            "Try using .loc[row_indexer,col_indexer] = value instead\n",
            "\n",
            "See the caveats in the documentation: https://pandas.pydata.org/pandas-docs/stable/user_guide/indexing.html#returning-a-view-versus-a-copy\n",
            "  df['label'] = df['q_sold'].shift(periods=-1)\n"
          ]
        }
      ],
      "source": [
        "df['label'] = df['q_sold'].shift(periods=-1)\n",
        "df = df[df['label'] > 0]"
      ]
    },
    {
      "cell_type": "code",
      "execution_count": null,
      "metadata": {
        "colab": {
          "base_uri": "https://localhost:8080/",
          "height": 423
        },
        "id": "dcdQ1WWLqTHo",
        "outputId": "d01d6d07-b6e5-44c0-ef5d-3811ee4ecae6"
      },
      "outputs": [
        {
          "output_type": "execute_result",
          "data": {
            "text/plain": [
              "      item   datetime  q_sold  label\n",
              "1        1 2023-03-04      19   23.0\n",
              "2        1 2023-03-05      23   13.0\n",
              "3        1 2023-03-06      13   15.0\n",
              "4        1 2023-03-07      15   21.0\n",
              "5        1 2023-03-08      21   17.0\n",
              "...    ...        ...     ...    ...\n",
              "4845   300 2023-03-07       3    5.0\n",
              "4846   300 2023-03-08       5    7.0\n",
              "4847   300 2023-03-09       7    2.0\n",
              "4848   300 2023-03-10       2    5.0\n",
              "4849   300 2023-03-11       5    1.0\n",
              "\n",
              "[4295 rows x 4 columns]"
            ],
            "text/html": [
              "\n",
              "  <div id=\"df-3b710638-4ef4-4d69-9daa-fe9cce71bf2b\">\n",
              "    <div class=\"colab-df-container\">\n",
              "      <div>\n",
              "<style scoped>\n",
              "    .dataframe tbody tr th:only-of-type {\n",
              "        vertical-align: middle;\n",
              "    }\n",
              "\n",
              "    .dataframe tbody tr th {\n",
              "        vertical-align: top;\n",
              "    }\n",
              "\n",
              "    .dataframe thead th {\n",
              "        text-align: right;\n",
              "    }\n",
              "</style>\n",
              "<table border=\"1\" class=\"dataframe\">\n",
              "  <thead>\n",
              "    <tr style=\"text-align: right;\">\n",
              "      <th></th>\n",
              "      <th>item</th>\n",
              "      <th>datetime</th>\n",
              "      <th>q_sold</th>\n",
              "      <th>label</th>\n",
              "    </tr>\n",
              "  </thead>\n",
              "  <tbody>\n",
              "    <tr>\n",
              "      <th>1</th>\n",
              "      <td>1</td>\n",
              "      <td>2023-03-04</td>\n",
              "      <td>19</td>\n",
              "      <td>23.0</td>\n",
              "    </tr>\n",
              "    <tr>\n",
              "      <th>2</th>\n",
              "      <td>1</td>\n",
              "      <td>2023-03-05</td>\n",
              "      <td>23</td>\n",
              "      <td>13.0</td>\n",
              "    </tr>\n",
              "    <tr>\n",
              "      <th>3</th>\n",
              "      <td>1</td>\n",
              "      <td>2023-03-06</td>\n",
              "      <td>13</td>\n",
              "      <td>15.0</td>\n",
              "    </tr>\n",
              "    <tr>\n",
              "      <th>4</th>\n",
              "      <td>1</td>\n",
              "      <td>2023-03-07</td>\n",
              "      <td>15</td>\n",
              "      <td>21.0</td>\n",
              "    </tr>\n",
              "    <tr>\n",
              "      <th>5</th>\n",
              "      <td>1</td>\n",
              "      <td>2023-03-08</td>\n",
              "      <td>21</td>\n",
              "      <td>17.0</td>\n",
              "    </tr>\n",
              "    <tr>\n",
              "      <th>...</th>\n",
              "      <td>...</td>\n",
              "      <td>...</td>\n",
              "      <td>...</td>\n",
              "      <td>...</td>\n",
              "    </tr>\n",
              "    <tr>\n",
              "      <th>4845</th>\n",
              "      <td>300</td>\n",
              "      <td>2023-03-07</td>\n",
              "      <td>3</td>\n",
              "      <td>5.0</td>\n",
              "    </tr>\n",
              "    <tr>\n",
              "      <th>4846</th>\n",
              "      <td>300</td>\n",
              "      <td>2023-03-08</td>\n",
              "      <td>5</td>\n",
              "      <td>7.0</td>\n",
              "    </tr>\n",
              "    <tr>\n",
              "      <th>4847</th>\n",
              "      <td>300</td>\n",
              "      <td>2023-03-09</td>\n",
              "      <td>7</td>\n",
              "      <td>2.0</td>\n",
              "    </tr>\n",
              "    <tr>\n",
              "      <th>4848</th>\n",
              "      <td>300</td>\n",
              "      <td>2023-03-10</td>\n",
              "      <td>2</td>\n",
              "      <td>5.0</td>\n",
              "    </tr>\n",
              "    <tr>\n",
              "      <th>4849</th>\n",
              "      <td>300</td>\n",
              "      <td>2023-03-11</td>\n",
              "      <td>5</td>\n",
              "      <td>1.0</td>\n",
              "    </tr>\n",
              "  </tbody>\n",
              "</table>\n",
              "<p>4295 rows × 4 columns</p>\n",
              "</div>\n",
              "      <button class=\"colab-df-convert\" onclick=\"convertToInteractive('df-3b710638-4ef4-4d69-9daa-fe9cce71bf2b')\"\n",
              "              title=\"Convert this dataframe to an interactive table.\"\n",
              "              style=\"display:none;\">\n",
              "        \n",
              "  <svg xmlns=\"http://www.w3.org/2000/svg\" height=\"24px\"viewBox=\"0 0 24 24\"\n",
              "       width=\"24px\">\n",
              "    <path d=\"M0 0h24v24H0V0z\" fill=\"none\"/>\n",
              "    <path d=\"M18.56 5.44l.94 2.06.94-2.06 2.06-.94-2.06-.94-.94-2.06-.94 2.06-2.06.94zm-11 1L8.5 8.5l.94-2.06 2.06-.94-2.06-.94L8.5 2.5l-.94 2.06-2.06.94zm10 10l.94 2.06.94-2.06 2.06-.94-2.06-.94-.94-2.06-.94 2.06-2.06.94z\"/><path d=\"M17.41 7.96l-1.37-1.37c-.4-.4-.92-.59-1.43-.59-.52 0-1.04.2-1.43.59L10.3 9.45l-7.72 7.72c-.78.78-.78 2.05 0 2.83L4 21.41c.39.39.9.59 1.41.59.51 0 1.02-.2 1.41-.59l7.78-7.78 2.81-2.81c.8-.78.8-2.07 0-2.86zM5.41 20L4 18.59l7.72-7.72 1.47 1.35L5.41 20z\"/>\n",
              "  </svg>\n",
              "      </button>\n",
              "      \n",
              "  <style>\n",
              "    .colab-df-container {\n",
              "      display:flex;\n",
              "      flex-wrap:wrap;\n",
              "      gap: 12px;\n",
              "    }\n",
              "\n",
              "    .colab-df-convert {\n",
              "      background-color: #E8F0FE;\n",
              "      border: none;\n",
              "      border-radius: 50%;\n",
              "      cursor: pointer;\n",
              "      display: none;\n",
              "      fill: #1967D2;\n",
              "      height: 32px;\n",
              "      padding: 0 0 0 0;\n",
              "      width: 32px;\n",
              "    }\n",
              "\n",
              "    .colab-df-convert:hover {\n",
              "      background-color: #E2EBFA;\n",
              "      box-shadow: 0px 1px 2px rgba(60, 64, 67, 0.3), 0px 1px 3px 1px rgba(60, 64, 67, 0.15);\n",
              "      fill: #174EA6;\n",
              "    }\n",
              "\n",
              "    [theme=dark] .colab-df-convert {\n",
              "      background-color: #3B4455;\n",
              "      fill: #D2E3FC;\n",
              "    }\n",
              "\n",
              "    [theme=dark] .colab-df-convert:hover {\n",
              "      background-color: #434B5C;\n",
              "      box-shadow: 0px 1px 3px 1px rgba(0, 0, 0, 0.15);\n",
              "      filter: drop-shadow(0px 1px 2px rgba(0, 0, 0, 0.3));\n",
              "      fill: #FFFFFF;\n",
              "    }\n",
              "  </style>\n",
              "\n",
              "      <script>\n",
              "        const buttonEl =\n",
              "          document.querySelector('#df-3b710638-4ef4-4d69-9daa-fe9cce71bf2b button.colab-df-convert');\n",
              "        buttonEl.style.display =\n",
              "          google.colab.kernel.accessAllowed ? 'block' : 'none';\n",
              "\n",
              "        async function convertToInteractive(key) {\n",
              "          const element = document.querySelector('#df-3b710638-4ef4-4d69-9daa-fe9cce71bf2b');\n",
              "          const dataTable =\n",
              "            await google.colab.kernel.invokeFunction('convertToInteractive',\n",
              "                                                     [key], {});\n",
              "          if (!dataTable) return;\n",
              "\n",
              "          const docLinkHtml = 'Like what you see? Visit the ' +\n",
              "            '<a target=\"_blank\" href=https://colab.research.google.com/notebooks/data_table.ipynb>data table notebook</a>'\n",
              "            + ' to learn more about interactive tables.';\n",
              "          element.innerHTML = '';\n",
              "          dataTable['output_type'] = 'display_data';\n",
              "          await google.colab.output.renderOutput(dataTable, element);\n",
              "          const docLink = document.createElement('div');\n",
              "          docLink.innerHTML = docLinkHtml;\n",
              "          element.appendChild(docLink);\n",
              "        }\n",
              "      </script>\n",
              "    </div>\n",
              "  </div>\n",
              "  "
            ]
          },
          "metadata": {},
          "execution_count": 15
        }
      ],
      "source": [
        "df = df[df['q_sold']>0]\n",
        "df"
      ]
    },
    {
      "cell_type": "code",
      "execution_count": null,
      "metadata": {
        "id": "C6UZ1yZRoLbt"
      },
      "outputs": [],
      "source": [
        "df.reset_index(inplace=True)"
      ]
    },
    {
      "cell_type": "code",
      "execution_count": null,
      "metadata": {
        "id": "xtr099QntfWb"
      },
      "outputs": [],
      "source": [
        "df = df.drop(columns=['index'])"
      ]
    },
    {
      "cell_type": "code",
      "execution_count": null,
      "metadata": {
        "id": "zt7MTOLj1Tmz"
      },
      "outputs": [],
      "source": [
        "df = df.drop(21)"
      ]
    },
    {
      "cell_type": "code",
      "execution_count": null,
      "metadata": {
        "colab": {
          "base_uri": "https://localhost:8080/",
          "height": 519
        },
        "id": "_XoQZxdztWXg",
        "outputId": "52369063-a91a-4163-e86b-e7332220699a"
      },
      "outputs": [
        {
          "output_type": "execute_result",
          "data": {
            "text/plain": [
              "    index  item   datetime  q_sold  No_Item  Negative   Neutral  Positive  \\\n",
              "0       1     2 2023-03-04      27        2  0.085034  0.183673  0.731293   \n",
              "1       2     2 2023-03-05      23        2  0.085034  0.183673  0.731293   \n",
              "2       3     2 2023-03-06      48        2  0.085034  0.183673  0.731293   \n",
              "3       4     2 2023-03-07      20        2  0.085034  0.183673  0.731293   \n",
              "4       5     2 2023-03-08      26        2  0.085034  0.183673  0.731293   \n",
              "5       6     2 2023-03-09      38        2  0.085034  0.183673  0.731293   \n",
              "6       7     2 2023-03-10      22        2  0.085034  0.183673  0.731293   \n",
              "7       8     2 2023-03-11      39        2  0.085034  0.183673  0.731293   \n",
              "8       9     2 2023-03-12      29        2  0.085034  0.183673  0.731293   \n",
              "9      10     2 2023-03-13      20        2  0.085034  0.183673  0.731293   \n",
              "10     11     2 2023-03-14      22        2  0.085034  0.183673  0.731293   \n",
              "11     12     2 2023-03-15      23        2  0.085034  0.183673  0.731293   \n",
              "12     13     2 2023-03-16      17        2  0.085034  0.183673  0.731293   \n",
              "13     14     2 2023-03-17      20        2  0.085034  0.183673  0.731293   \n",
              "14     15     2 2023-03-18      27        2  0.085034  0.183673  0.731293   \n",
              "\n",
              "    Total  label  \n",
              "0     294   23.0  \n",
              "1     294   48.0  \n",
              "2     294   20.0  \n",
              "3     294   26.0  \n",
              "4     294   38.0  \n",
              "5     294   22.0  \n",
              "6     294   39.0  \n",
              "7     294   29.0  \n",
              "8     294   20.0  \n",
              "9     294   22.0  \n",
              "10    294   23.0  \n",
              "11    294   17.0  \n",
              "12    294   20.0  \n",
              "13    294   27.0  \n",
              "14    294   17.0  "
            ],
            "text/html": [
              "\n",
              "  <div id=\"df-e0a2e476-1775-41f1-9acf-51ec79e4a4e7\">\n",
              "    <div class=\"colab-df-container\">\n",
              "      <div>\n",
              "<style scoped>\n",
              "    .dataframe tbody tr th:only-of-type {\n",
              "        vertical-align: middle;\n",
              "    }\n",
              "\n",
              "    .dataframe tbody tr th {\n",
              "        vertical-align: top;\n",
              "    }\n",
              "\n",
              "    .dataframe thead th {\n",
              "        text-align: right;\n",
              "    }\n",
              "</style>\n",
              "<table border=\"1\" class=\"dataframe\">\n",
              "  <thead>\n",
              "    <tr style=\"text-align: right;\">\n",
              "      <th></th>\n",
              "      <th>index</th>\n",
              "      <th>item</th>\n",
              "      <th>datetime</th>\n",
              "      <th>q_sold</th>\n",
              "      <th>No_Item</th>\n",
              "      <th>Negative</th>\n",
              "      <th>Neutral</th>\n",
              "      <th>Positive</th>\n",
              "      <th>Total</th>\n",
              "      <th>label</th>\n",
              "    </tr>\n",
              "  </thead>\n",
              "  <tbody>\n",
              "    <tr>\n",
              "      <th>0</th>\n",
              "      <td>1</td>\n",
              "      <td>2</td>\n",
              "      <td>2023-03-04</td>\n",
              "      <td>27</td>\n",
              "      <td>2</td>\n",
              "      <td>0.085034</td>\n",
              "      <td>0.183673</td>\n",
              "      <td>0.731293</td>\n",
              "      <td>294</td>\n",
              "      <td>23.0</td>\n",
              "    </tr>\n",
              "    <tr>\n",
              "      <th>1</th>\n",
              "      <td>2</td>\n",
              "      <td>2</td>\n",
              "      <td>2023-03-05</td>\n",
              "      <td>23</td>\n",
              "      <td>2</td>\n",
              "      <td>0.085034</td>\n",
              "      <td>0.183673</td>\n",
              "      <td>0.731293</td>\n",
              "      <td>294</td>\n",
              "      <td>48.0</td>\n",
              "    </tr>\n",
              "    <tr>\n",
              "      <th>2</th>\n",
              "      <td>3</td>\n",
              "      <td>2</td>\n",
              "      <td>2023-03-06</td>\n",
              "      <td>48</td>\n",
              "      <td>2</td>\n",
              "      <td>0.085034</td>\n",
              "      <td>0.183673</td>\n",
              "      <td>0.731293</td>\n",
              "      <td>294</td>\n",
              "      <td>20.0</td>\n",
              "    </tr>\n",
              "    <tr>\n",
              "      <th>3</th>\n",
              "      <td>4</td>\n",
              "      <td>2</td>\n",
              "      <td>2023-03-07</td>\n",
              "      <td>20</td>\n",
              "      <td>2</td>\n",
              "      <td>0.085034</td>\n",
              "      <td>0.183673</td>\n",
              "      <td>0.731293</td>\n",
              "      <td>294</td>\n",
              "      <td>26.0</td>\n",
              "    </tr>\n",
              "    <tr>\n",
              "      <th>4</th>\n",
              "      <td>5</td>\n",
              "      <td>2</td>\n",
              "      <td>2023-03-08</td>\n",
              "      <td>26</td>\n",
              "      <td>2</td>\n",
              "      <td>0.085034</td>\n",
              "      <td>0.183673</td>\n",
              "      <td>0.731293</td>\n",
              "      <td>294</td>\n",
              "      <td>38.0</td>\n",
              "    </tr>\n",
              "    <tr>\n",
              "      <th>5</th>\n",
              "      <td>6</td>\n",
              "      <td>2</td>\n",
              "      <td>2023-03-09</td>\n",
              "      <td>38</td>\n",
              "      <td>2</td>\n",
              "      <td>0.085034</td>\n",
              "      <td>0.183673</td>\n",
              "      <td>0.731293</td>\n",
              "      <td>294</td>\n",
              "      <td>22.0</td>\n",
              "    </tr>\n",
              "    <tr>\n",
              "      <th>6</th>\n",
              "      <td>7</td>\n",
              "      <td>2</td>\n",
              "      <td>2023-03-10</td>\n",
              "      <td>22</td>\n",
              "      <td>2</td>\n",
              "      <td>0.085034</td>\n",
              "      <td>0.183673</td>\n",
              "      <td>0.731293</td>\n",
              "      <td>294</td>\n",
              "      <td>39.0</td>\n",
              "    </tr>\n",
              "    <tr>\n",
              "      <th>7</th>\n",
              "      <td>8</td>\n",
              "      <td>2</td>\n",
              "      <td>2023-03-11</td>\n",
              "      <td>39</td>\n",
              "      <td>2</td>\n",
              "      <td>0.085034</td>\n",
              "      <td>0.183673</td>\n",
              "      <td>0.731293</td>\n",
              "      <td>294</td>\n",
              "      <td>29.0</td>\n",
              "    </tr>\n",
              "    <tr>\n",
              "      <th>8</th>\n",
              "      <td>9</td>\n",
              "      <td>2</td>\n",
              "      <td>2023-03-12</td>\n",
              "      <td>29</td>\n",
              "      <td>2</td>\n",
              "      <td>0.085034</td>\n",
              "      <td>0.183673</td>\n",
              "      <td>0.731293</td>\n",
              "      <td>294</td>\n",
              "      <td>20.0</td>\n",
              "    </tr>\n",
              "    <tr>\n",
              "      <th>9</th>\n",
              "      <td>10</td>\n",
              "      <td>2</td>\n",
              "      <td>2023-03-13</td>\n",
              "      <td>20</td>\n",
              "      <td>2</td>\n",
              "      <td>0.085034</td>\n",
              "      <td>0.183673</td>\n",
              "      <td>0.731293</td>\n",
              "      <td>294</td>\n",
              "      <td>22.0</td>\n",
              "    </tr>\n",
              "    <tr>\n",
              "      <th>10</th>\n",
              "      <td>11</td>\n",
              "      <td>2</td>\n",
              "      <td>2023-03-14</td>\n",
              "      <td>22</td>\n",
              "      <td>2</td>\n",
              "      <td>0.085034</td>\n",
              "      <td>0.183673</td>\n",
              "      <td>0.731293</td>\n",
              "      <td>294</td>\n",
              "      <td>23.0</td>\n",
              "    </tr>\n",
              "    <tr>\n",
              "      <th>11</th>\n",
              "      <td>12</td>\n",
              "      <td>2</td>\n",
              "      <td>2023-03-15</td>\n",
              "      <td>23</td>\n",
              "      <td>2</td>\n",
              "      <td>0.085034</td>\n",
              "      <td>0.183673</td>\n",
              "      <td>0.731293</td>\n",
              "      <td>294</td>\n",
              "      <td>17.0</td>\n",
              "    </tr>\n",
              "    <tr>\n",
              "      <th>12</th>\n",
              "      <td>13</td>\n",
              "      <td>2</td>\n",
              "      <td>2023-03-16</td>\n",
              "      <td>17</td>\n",
              "      <td>2</td>\n",
              "      <td>0.085034</td>\n",
              "      <td>0.183673</td>\n",
              "      <td>0.731293</td>\n",
              "      <td>294</td>\n",
              "      <td>20.0</td>\n",
              "    </tr>\n",
              "    <tr>\n",
              "      <th>13</th>\n",
              "      <td>14</td>\n",
              "      <td>2</td>\n",
              "      <td>2023-03-17</td>\n",
              "      <td>20</td>\n",
              "      <td>2</td>\n",
              "      <td>0.085034</td>\n",
              "      <td>0.183673</td>\n",
              "      <td>0.731293</td>\n",
              "      <td>294</td>\n",
              "      <td>27.0</td>\n",
              "    </tr>\n",
              "    <tr>\n",
              "      <th>14</th>\n",
              "      <td>15</td>\n",
              "      <td>2</td>\n",
              "      <td>2023-03-18</td>\n",
              "      <td>27</td>\n",
              "      <td>2</td>\n",
              "      <td>0.085034</td>\n",
              "      <td>0.183673</td>\n",
              "      <td>0.731293</td>\n",
              "      <td>294</td>\n",
              "      <td>17.0</td>\n",
              "    </tr>\n",
              "  </tbody>\n",
              "</table>\n",
              "</div>\n",
              "      <button class=\"colab-df-convert\" onclick=\"convertToInteractive('df-e0a2e476-1775-41f1-9acf-51ec79e4a4e7')\"\n",
              "              title=\"Convert this dataframe to an interactive table.\"\n",
              "              style=\"display:none;\">\n",
              "        \n",
              "  <svg xmlns=\"http://www.w3.org/2000/svg\" height=\"24px\"viewBox=\"0 0 24 24\"\n",
              "       width=\"24px\">\n",
              "    <path d=\"M0 0h24v24H0V0z\" fill=\"none\"/>\n",
              "    <path d=\"M18.56 5.44l.94 2.06.94-2.06 2.06-.94-2.06-.94-.94-2.06-.94 2.06-2.06.94zm-11 1L8.5 8.5l.94-2.06 2.06-.94-2.06-.94L8.5 2.5l-.94 2.06-2.06.94zm10 10l.94 2.06.94-2.06 2.06-.94-2.06-.94-.94-2.06-.94 2.06-2.06.94z\"/><path d=\"M17.41 7.96l-1.37-1.37c-.4-.4-.92-.59-1.43-.59-.52 0-1.04.2-1.43.59L10.3 9.45l-7.72 7.72c-.78.78-.78 2.05 0 2.83L4 21.41c.39.39.9.59 1.41.59.51 0 1.02-.2 1.41-.59l7.78-7.78 2.81-2.81c.8-.78.8-2.07 0-2.86zM5.41 20L4 18.59l7.72-7.72 1.47 1.35L5.41 20z\"/>\n",
              "  </svg>\n",
              "      </button>\n",
              "      \n",
              "  <style>\n",
              "    .colab-df-container {\n",
              "      display:flex;\n",
              "      flex-wrap:wrap;\n",
              "      gap: 12px;\n",
              "    }\n",
              "\n",
              "    .colab-df-convert {\n",
              "      background-color: #E8F0FE;\n",
              "      border: none;\n",
              "      border-radius: 50%;\n",
              "      cursor: pointer;\n",
              "      display: none;\n",
              "      fill: #1967D2;\n",
              "      height: 32px;\n",
              "      padding: 0 0 0 0;\n",
              "      width: 32px;\n",
              "    }\n",
              "\n",
              "    .colab-df-convert:hover {\n",
              "      background-color: #E2EBFA;\n",
              "      box-shadow: 0px 1px 2px rgba(60, 64, 67, 0.3), 0px 1px 3px 1px rgba(60, 64, 67, 0.15);\n",
              "      fill: #174EA6;\n",
              "    }\n",
              "\n",
              "    [theme=dark] .colab-df-convert {\n",
              "      background-color: #3B4455;\n",
              "      fill: #D2E3FC;\n",
              "    }\n",
              "\n",
              "    [theme=dark] .colab-df-convert:hover {\n",
              "      background-color: #434B5C;\n",
              "      box-shadow: 0px 1px 3px 1px rgba(0, 0, 0, 0.15);\n",
              "      filter: drop-shadow(0px 1px 2px rgba(0, 0, 0, 0.3));\n",
              "      fill: #FFFFFF;\n",
              "    }\n",
              "  </style>\n",
              "\n",
              "      <script>\n",
              "        const buttonEl =\n",
              "          document.querySelector('#df-e0a2e476-1775-41f1-9acf-51ec79e4a4e7 button.colab-df-convert');\n",
              "        buttonEl.style.display =\n",
              "          google.colab.kernel.accessAllowed ? 'block' : 'none';\n",
              "\n",
              "        async function convertToInteractive(key) {\n",
              "          const element = document.querySelector('#df-e0a2e476-1775-41f1-9acf-51ec79e4a4e7');\n",
              "          const dataTable =\n",
              "            await google.colab.kernel.invokeFunction('convertToInteractive',\n",
              "                                                     [key], {});\n",
              "          if (!dataTable) return;\n",
              "\n",
              "          const docLinkHtml = 'Like what you see? Visit the ' +\n",
              "            '<a target=\"_blank\" href=https://colab.research.google.com/notebooks/data_table.ipynb>data table notebook</a>'\n",
              "            + ' to learn more about interactive tables.';\n",
              "          element.innerHTML = '';\n",
              "          dataTable['output_type'] = 'display_data';\n",
              "          await google.colab.output.renderOutput(dataTable, element);\n",
              "          const docLink = document.createElement('div');\n",
              "          docLink.innerHTML = docLinkHtml;\n",
              "          element.appendChild(docLink);\n",
              "        }\n",
              "      </script>\n",
              "    </div>\n",
              "  </div>\n",
              "  "
            ]
          },
          "metadata": {},
          "execution_count": 43
        }
      ],
      "source": [
        "df[df['item']==2]"
      ]
    },
    {
      "cell_type": "code",
      "execution_count": null,
      "metadata": {
        "colab": {
          "base_uri": "https://localhost:8080/",
          "height": 423
        },
        "id": "dNLyKb8P1-XM",
        "outputId": "ef8c9d5d-cf1b-4dc8-fcb3-52ed62989b8e"
      },
      "outputs": [
        {
          "output_type": "execute_result",
          "data": {
            "text/plain": [
              "       item   datetime  q_sold   avg_neg   avg_neu   avg_pos  avg_rate  label\n",
              "0         1 2023-03-04      19  0.030303  0.136364  0.833333  4.438710   23.0\n",
              "1         1 2023-03-05      23  0.018781  0.093139  0.888080  4.449367   13.0\n",
              "2         1 2023-03-06      13  0.040123  0.119342  0.840535  4.452830   15.0\n",
              "3         1 2023-03-07      15  0.023454  0.117271  0.859275  4.452830   21.0\n",
              "4         1 2023-03-08      21  0.000000  0.133333  0.866667  4.456250   17.0\n",
              "...     ...        ...     ...       ...       ...       ...       ...    ...\n",
              "11111   300 2023-03-31      12  0.000000  0.000000  0.000000  4.372093   11.0\n",
              "11112   300 2023-04-01      11  0.000000  0.000000  0.000000  4.372093    3.0\n",
              "11113   300 2023-04-02       3  0.000000  0.000000  0.000000  4.372093   70.0\n",
              "11114   300 2023-04-11      70  0.000000  0.000000  0.000000  4.372093   13.0\n",
              "11115   300 2023-04-12      13  0.000000  0.000000  0.000000  4.372093    6.0\n",
              "\n",
              "[11115 rows x 8 columns]"
            ],
            "text/html": [
              "\n",
              "  <div id=\"df-f383df7f-131a-40ae-96b7-cabde73852b1\">\n",
              "    <div class=\"colab-df-container\">\n",
              "      <div>\n",
              "<style scoped>\n",
              "    .dataframe tbody tr th:only-of-type {\n",
              "        vertical-align: middle;\n",
              "    }\n",
              "\n",
              "    .dataframe tbody tr th {\n",
              "        vertical-align: top;\n",
              "    }\n",
              "\n",
              "    .dataframe thead th {\n",
              "        text-align: right;\n",
              "    }\n",
              "</style>\n",
              "<table border=\"1\" class=\"dataframe\">\n",
              "  <thead>\n",
              "    <tr style=\"text-align: right;\">\n",
              "      <th></th>\n",
              "      <th>item</th>\n",
              "      <th>datetime</th>\n",
              "      <th>q_sold</th>\n",
              "      <th>avg_neg</th>\n",
              "      <th>avg_neu</th>\n",
              "      <th>avg_pos</th>\n",
              "      <th>avg_rate</th>\n",
              "      <th>label</th>\n",
              "    </tr>\n",
              "  </thead>\n",
              "  <tbody>\n",
              "    <tr>\n",
              "      <th>0</th>\n",
              "      <td>1</td>\n",
              "      <td>2023-03-04</td>\n",
              "      <td>19</td>\n",
              "      <td>0.030303</td>\n",
              "      <td>0.136364</td>\n",
              "      <td>0.833333</td>\n",
              "      <td>4.438710</td>\n",
              "      <td>23.0</td>\n",
              "    </tr>\n",
              "    <tr>\n",
              "      <th>1</th>\n",
              "      <td>1</td>\n",
              "      <td>2023-03-05</td>\n",
              "      <td>23</td>\n",
              "      <td>0.018781</td>\n",
              "      <td>0.093139</td>\n",
              "      <td>0.888080</td>\n",
              "      <td>4.449367</td>\n",
              "      <td>13.0</td>\n",
              "    </tr>\n",
              "    <tr>\n",
              "      <th>2</th>\n",
              "      <td>1</td>\n",
              "      <td>2023-03-06</td>\n",
              "      <td>13</td>\n",
              "      <td>0.040123</td>\n",
              "      <td>0.119342</td>\n",
              "      <td>0.840535</td>\n",
              "      <td>4.452830</td>\n",
              "      <td>15.0</td>\n",
              "    </tr>\n",
              "    <tr>\n",
              "      <th>3</th>\n",
              "      <td>1</td>\n",
              "      <td>2023-03-07</td>\n",
              "      <td>15</td>\n",
              "      <td>0.023454</td>\n",
              "      <td>0.117271</td>\n",
              "      <td>0.859275</td>\n",
              "      <td>4.452830</td>\n",
              "      <td>21.0</td>\n",
              "    </tr>\n",
              "    <tr>\n",
              "      <th>4</th>\n",
              "      <td>1</td>\n",
              "      <td>2023-03-08</td>\n",
              "      <td>21</td>\n",
              "      <td>0.000000</td>\n",
              "      <td>0.133333</td>\n",
              "      <td>0.866667</td>\n",
              "      <td>4.456250</td>\n",
              "      <td>17.0</td>\n",
              "    </tr>\n",
              "    <tr>\n",
              "      <th>...</th>\n",
              "      <td>...</td>\n",
              "      <td>...</td>\n",
              "      <td>...</td>\n",
              "      <td>...</td>\n",
              "      <td>...</td>\n",
              "      <td>...</td>\n",
              "      <td>...</td>\n",
              "      <td>...</td>\n",
              "    </tr>\n",
              "    <tr>\n",
              "      <th>11111</th>\n",
              "      <td>300</td>\n",
              "      <td>2023-03-31</td>\n",
              "      <td>12</td>\n",
              "      <td>0.000000</td>\n",
              "      <td>0.000000</td>\n",
              "      <td>0.000000</td>\n",
              "      <td>4.372093</td>\n",
              "      <td>11.0</td>\n",
              "    </tr>\n",
              "    <tr>\n",
              "      <th>11112</th>\n",
              "      <td>300</td>\n",
              "      <td>2023-04-01</td>\n",
              "      <td>11</td>\n",
              "      <td>0.000000</td>\n",
              "      <td>0.000000</td>\n",
              "      <td>0.000000</td>\n",
              "      <td>4.372093</td>\n",
              "      <td>3.0</td>\n",
              "    </tr>\n",
              "    <tr>\n",
              "      <th>11113</th>\n",
              "      <td>300</td>\n",
              "      <td>2023-04-02</td>\n",
              "      <td>3</td>\n",
              "      <td>0.000000</td>\n",
              "      <td>0.000000</td>\n",
              "      <td>0.000000</td>\n",
              "      <td>4.372093</td>\n",
              "      <td>70.0</td>\n",
              "    </tr>\n",
              "    <tr>\n",
              "      <th>11114</th>\n",
              "      <td>300</td>\n",
              "      <td>2023-04-11</td>\n",
              "      <td>70</td>\n",
              "      <td>0.000000</td>\n",
              "      <td>0.000000</td>\n",
              "      <td>0.000000</td>\n",
              "      <td>4.372093</td>\n",
              "      <td>13.0</td>\n",
              "    </tr>\n",
              "    <tr>\n",
              "      <th>11115</th>\n",
              "      <td>300</td>\n",
              "      <td>2023-04-12</td>\n",
              "      <td>13</td>\n",
              "      <td>0.000000</td>\n",
              "      <td>0.000000</td>\n",
              "      <td>0.000000</td>\n",
              "      <td>4.372093</td>\n",
              "      <td>6.0</td>\n",
              "    </tr>\n",
              "  </tbody>\n",
              "</table>\n",
              "<p>11115 rows × 8 columns</p>\n",
              "</div>\n",
              "      <button class=\"colab-df-convert\" onclick=\"convertToInteractive('df-f383df7f-131a-40ae-96b7-cabde73852b1')\"\n",
              "              title=\"Convert this dataframe to an interactive table.\"\n",
              "              style=\"display:none;\">\n",
              "        \n",
              "  <svg xmlns=\"http://www.w3.org/2000/svg\" height=\"24px\"viewBox=\"0 0 24 24\"\n",
              "       width=\"24px\">\n",
              "    <path d=\"M0 0h24v24H0V0z\" fill=\"none\"/>\n",
              "    <path d=\"M18.56 5.44l.94 2.06.94-2.06 2.06-.94-2.06-.94-.94-2.06-.94 2.06-2.06.94zm-11 1L8.5 8.5l.94-2.06 2.06-.94-2.06-.94L8.5 2.5l-.94 2.06-2.06.94zm10 10l.94 2.06.94-2.06 2.06-.94-2.06-.94-.94-2.06-.94 2.06-2.06.94z\"/><path d=\"M17.41 7.96l-1.37-1.37c-.4-.4-.92-.59-1.43-.59-.52 0-1.04.2-1.43.59L10.3 9.45l-7.72 7.72c-.78.78-.78 2.05 0 2.83L4 21.41c.39.39.9.59 1.41.59.51 0 1.02-.2 1.41-.59l7.78-7.78 2.81-2.81c.8-.78.8-2.07 0-2.86zM5.41 20L4 18.59l7.72-7.72 1.47 1.35L5.41 20z\"/>\n",
              "  </svg>\n",
              "      </button>\n",
              "      \n",
              "  <style>\n",
              "    .colab-df-container {\n",
              "      display:flex;\n",
              "      flex-wrap:wrap;\n",
              "      gap: 12px;\n",
              "    }\n",
              "\n",
              "    .colab-df-convert {\n",
              "      background-color: #E8F0FE;\n",
              "      border: none;\n",
              "      border-radius: 50%;\n",
              "      cursor: pointer;\n",
              "      display: none;\n",
              "      fill: #1967D2;\n",
              "      height: 32px;\n",
              "      padding: 0 0 0 0;\n",
              "      width: 32px;\n",
              "    }\n",
              "\n",
              "    .colab-df-convert:hover {\n",
              "      background-color: #E2EBFA;\n",
              "      box-shadow: 0px 1px 2px rgba(60, 64, 67, 0.3), 0px 1px 3px 1px rgba(60, 64, 67, 0.15);\n",
              "      fill: #174EA6;\n",
              "    }\n",
              "\n",
              "    [theme=dark] .colab-df-convert {\n",
              "      background-color: #3B4455;\n",
              "      fill: #D2E3FC;\n",
              "    }\n",
              "\n",
              "    [theme=dark] .colab-df-convert:hover {\n",
              "      background-color: #434B5C;\n",
              "      box-shadow: 0px 1px 3px 1px rgba(0, 0, 0, 0.15);\n",
              "      filter: drop-shadow(0px 1px 2px rgba(0, 0, 0, 0.3));\n",
              "      fill: #FFFFFF;\n",
              "    }\n",
              "  </style>\n",
              "\n",
              "      <script>\n",
              "        const buttonEl =\n",
              "          document.querySelector('#df-f383df7f-131a-40ae-96b7-cabde73852b1 button.colab-df-convert');\n",
              "        buttonEl.style.display =\n",
              "          google.colab.kernel.accessAllowed ? 'block' : 'none';\n",
              "\n",
              "        async function convertToInteractive(key) {\n",
              "          const element = document.querySelector('#df-f383df7f-131a-40ae-96b7-cabde73852b1');\n",
              "          const dataTable =\n",
              "            await google.colab.kernel.invokeFunction('convertToInteractive',\n",
              "                                                     [key], {});\n",
              "          if (!dataTable) return;\n",
              "\n",
              "          const docLinkHtml = 'Like what you see? Visit the ' +\n",
              "            '<a target=\"_blank\" href=https://colab.research.google.com/notebooks/data_table.ipynb>data table notebook</a>'\n",
              "            + ' to learn more about interactive tables.';\n",
              "          element.innerHTML = '';\n",
              "          dataTable['output_type'] = 'display_data';\n",
              "          await google.colab.output.renderOutput(dataTable, element);\n",
              "          const docLink = document.createElement('div');\n",
              "          docLink.innerHTML = docLinkHtml;\n",
              "          element.appendChild(docLink);\n",
              "        }\n",
              "      </script>\n",
              "    </div>\n",
              "  </div>\n",
              "  "
            ]
          },
          "metadata": {},
          "execution_count": 70
        }
      ],
      "source": [
        "df"
      ]
    },
    {
      "cell_type": "code",
      "execution_count": null,
      "metadata": {
        "id": "s50we_LcT9zX"
      },
      "outputs": [],
      "source": [
        "df.to_csv('/content/drive/MyDrive/Projects/Outsource/ARIMA_LSTM/data_modified_19-04.csv')\n",
        "# data 41 days (4/3/2023-> 13/4/2023) => dùng 3 label sentiment comment tính mean cf score tích lũy của các ngày trước đó, bỏ comment null"
      ]
    },
    {
      "cell_type": "code",
      "source": [
        "df.to_csv('/content/drive/MyDrive/ARIMA_LSTM/data_modified_26-04.csv')\n",
        "# data 41 days (4/3/2023-> 13/4/2023) => dùng 3 label sentiment comment lấy 3 nhãn làm tròn 0,1,2 sau hàm softmax từ kqua phoBERT"
      ],
      "metadata": {
        "id": "96uVBIajKNdV"
      },
      "execution_count": null,
      "outputs": []
    },
    {
      "cell_type": "code",
      "source": [
        "df.to_csv('/content/drive/MyDrive/ARIMA_LSTM/data_modified_30-04.csv')\n",
        "# data 15 days (4/3/2023-_ 18/3/2023) => dùng file predicted sentiment ra 0,1,2 từ file \"Product comments.csv\", có chạy lại process comment thêm và merge vs df qsold đã process theo Item"
      ],
      "metadata": {
        "id": "N4KvHsRIlJdN"
      },
      "execution_count": null,
      "outputs": []
    },
    {
      "cell_type": "code",
      "source": [
        "df.to_csv('/content/drive/MyDrive/ARIMA_LSTM/data_modified_1-5.csv')\n",
        "# data 15 days (4/3/2023-_ 18/3/2023) => dùng file predicted sentiment ra 0,1,2 từ file \"Product comments.csv\" merge vs df qsold đã process theo Item"
      ],
      "metadata": {
        "id": "yVv1GZm72_x8"
      },
      "execution_count": null,
      "outputs": []
    },
    {
      "cell_type": "markdown",
      "metadata": {
        "id": "rnfxvKaFoLbt"
      },
      "source": [
        "# Load data"
      ]
    },
    {
      "cell_type": "code",
      "execution_count": null,
      "metadata": {
        "colab": {
          "base_uri": "https://localhost:8080/"
        },
        "id": "7YEr4mT3pTRp",
        "outputId": "c85aa2dc-9620-4b0b-9202-cfd9265cdd24"
      },
      "outputs": [
        {
          "output_type": "stream",
          "name": "stdout",
          "text": [
            "/content/drive/.shortcut-targets-by-id/1sM7W-DhxB_yswKXliUhMIHFGpGzCSTex/ARIMA_LSTM\n"
          ]
        }
      ],
      "source": [
        "%cd /content/drive/MyDrive/Projects/Outsource/ARIMA_LSTM"
      ]
    },
    {
      "cell_type": "code",
      "source": [
        "%cd /content/drive/MyDrive/ARIMA_LSTM"
      ],
      "metadata": {
        "colab": {
          "base_uri": "https://localhost:8080/"
        },
        "id": "expsr7Soc5zP",
        "outputId": "3f3beb78-8a4f-4e0f-db98-538ecf2a3880"
      },
      "execution_count": null,
      "outputs": [
        {
          "output_type": "stream",
          "name": "stdout",
          "text": [
            "/content/drive/MyDrive/ARIMA_LSTM\n"
          ]
        }
      ]
    },
    {
      "cell_type": "code",
      "execution_count": null,
      "metadata": {
        "id": "8m0gFBKLqTHo"
      },
      "outputs": [],
      "source": [
        "df = pd.read_csv('/content/drive/MyDrive/check.csv')"
      ]
    },
    {
      "cell_type": "code",
      "source": [
        "df = pd.read_csv('/content/drive/MyDrive/ARIMA_LSTM/data/processed_data_14-4.csv')"
      ],
      "metadata": {
        "id": "2N2udWeragXd"
      },
      "execution_count": null,
      "outputs": []
    },
    {
      "cell_type": "code",
      "source": [
        "df = pd.read_csv('/content/drive/MyDrive/ARIMA_LSTM/data_modified_19-04.csv')"
      ],
      "metadata": {
        "id": "H47u2BpNdPc7"
      },
      "execution_count": null,
      "outputs": []
    },
    {
      "cell_type": "code",
      "source": [
        "df = pd.read_csv('/content/drive/MyDrive/ARIMA_LSTM/data_modified_26-04.csv')"
      ],
      "metadata": {
        "id": "GCsXaQpDKdUl"
      },
      "execution_count": null,
      "outputs": []
    },
    {
      "cell_type": "code",
      "source": [
        "df = pd.read_csv('/content/drive/MyDrive/ARIMA_LSTM/data_modified_30-04.csv')"
      ],
      "metadata": {
        "id": "_WSGEcYdlT_F"
      },
      "execution_count": null,
      "outputs": []
    },
    {
      "cell_type": "code",
      "source": [
        "df = pd.read_csv('/content/drive/MyDrive/ARIMA_LSTM/data_modified_1-5.csv')"
      ],
      "metadata": {
        "id": "4VhmynNa3G3z"
      },
      "execution_count": null,
      "outputs": []
    },
    {
      "cell_type": "code",
      "execution_count": null,
      "metadata": {
        "id": "sJzwReQ1oLbt"
      },
      "outputs": [],
      "source": [
        "def make_sample(df, n, sentiment=False, regressor=False, multi_model=False):\n",
        "    X, y = [], []\n",
        "    for i in tqdm(range(1,301)):\n",
        "        if multi_model:\n",
        "            x_item = []\n",
        "            y_item = []\n",
        "        all_sample = df[df['item']==i]\n",
        "        list_x = all_sample['q_sold'].tolist()\n",
        "        list_y = all_sample['label'].tolist()\n",
        "        # x_sen = [all_sample['avg_neg'].tolist(), all_sample['avg_pos'].tolist(), all_sample['avg_neu'].tolist()]\n",
        "        x_sen = [all_sample['Negative'].tolist(), all_sample['Positive'].tolist(), all_sample['Neutral'].tolist()]\n",
        "        # x_rate = all_sample['avg_rate'].tolist()\n",
        "        index = [i] if regressor else []\n",
        "        for j in range(0, len(all_sample)-n+1):\n",
        "            X_sen, X_rate = [], []\n",
        "            if sentiment:\n",
        "                for label in x_sen:\n",
        "                    if X_sen == []:\n",
        "                        X_sen = [sum(label[j:j+n])]\n",
        "                    else:\n",
        "                        X_sen += [sum(label[j:j+n])]\n",
        "                sum_ = sum(X_sen)\n",
        "                X_sen = [i/sum_ for i in X_sen]\n",
        "            # if rating:\n",
        "            #     # X_rate =  [sum(x_rate[j:j+n])/n]\n",
        "            # # X_ = index + list_x[j:j+n] + X_sen + X_rate\n",
        "\n",
        "            if multi_model:\n",
        "                x_item.append(X_sen)\n",
        "                # y_item.append(list_x[j+n])\n",
        "                y_item.append([list_y[j+n-1]])\n",
        "            else:\n",
        "                X.append(X_sen)\n",
        "                # y.append(list_x[j+n])\n",
        "                y.append([list_y[j+n-1]])\n",
        "        if multi_model:\n",
        "            X.append(np.array(x_item))\n",
        "            y.append(np.array(y_item))\n",
        "    if multi_model:\n",
        "        return X, y\n",
        "    return np.array(X), np.array(y)\n",
        "\n",
        "def split(df, fraction=0.9, n=1, method=None, sentiment=False, rating=False, regressor=False, multi_model=False):\n",
        "\n",
        "    if method=='by_item':\n",
        "        # X, y = make_sample(df, n, sentiment=sentiment, rating=rating, regressor=regressor)\n",
        "        X, y = make_sample(df, n, sentiment=sentiment, regressor=regressor)\n",
        "        num_train_sample = round(len(X)*fraction)\n",
        "        return X[:num_train_sample], X[num_train_sample:], y[:num_train_sample], y[num_train_sample:]\n",
        "\n",
        "    elif method=='by_date':\n",
        "        train, test = df[df[\"datetime\"] <= \"2023-03-14\"], df[df[\"datetime\"] > \"2023-03-14\"]\n",
        "        X_train, y_train = make_sample(train, n, sentiment=sentiment, regressor=regressor, multi_model=multi_model)\n",
        "        X_test, y_test = make_sample(test, n, sentiment=sentiment, regressor=regressor, multi_model=multi_model)\n",
        "        return X_train, y_train, X_test, y_test"
      ]
    },
    {
      "cell_type": "markdown",
      "metadata": {
        "id": "96zC8KUCoLbt"
      },
      "source": [
        "# ML function"
      ]
    },
    {
      "cell_type": "code",
      "execution_count": null,
      "metadata": {
        "id": "nISl45oHoLbt"
      },
      "outputs": [],
      "source": [
        "from math import sqrt\n",
        "from sklearn.linear_model import LinearRegression\n",
        "from sklearn.ensemble import RandomForestRegressor\n",
        "from sklearn.tree import DecisionTreeRegressor\n",
        "from sklearn.metrics import r2_score, mean_squared_error, mean_absolute_percentage_error, mean_absolute_error, mean_squared_log_error\n",
        "\n",
        "import matplotlib.pyplot as plt"
      ]
    },
    {
      "cell_type": "markdown",
      "metadata": {
        "id": "ux4NbOEXoLbt"
      },
      "source": [
        "## Model load and configure"
      ]
    },
    {
      "cell_type": "code",
      "execution_count": null,
      "metadata": {
        "id": "e3CjupufoLbt"
      },
      "outputs": [],
      "source": [
        "clf = LinearRegression(n_jobs=-1)\n",
        "DTRmodel = DecisionTreeRegressor(max_depth=3, random_state=0)\n",
        "RFRmodel = RandomForestRegressor(max_depth=3, random_state=0)"
      ]
    },
    {
      "cell_type": "code",
      "execution_count": null,
      "metadata": {
        "id": "5HplQdahoLbt",
        "colab": {
          "base_uri": "https://localhost:8080/"
        },
        "outputId": "b8369427-c9c3-43a4-d6ca-ab7270491701"
      },
      "outputs": [
        {
          "output_type": "stream",
          "name": "stderr",
          "text": [
            "100%|██████████| 300/300 [00:00<00:00, 1831.24it/s]\n",
            "100%|██████████| 300/300 [00:00<00:00, 1794.68it/s]\n"
          ]
        }
      ],
      "source": [
        "X_train, y_train, X_test, y_test = split(df, method='by_date', regressor=True, sentiment=True, rating=False, n=1)"
      ]
    },
    {
      "cell_type": "code",
      "execution_count": null,
      "metadata": {
        "colab": {
          "base_uri": "https://localhost:8080/"
        },
        "id": "TFVeUAmzoLbu",
        "outputId": "8237e31d-0b14-4890-8475-f10c130346cc"
      },
      "outputs": [
        {
          "output_type": "execute_result",
          "data": {
            "text/plain": [
              "(10105, 2)"
            ]
          },
          "metadata": {},
          "execution_count": 103
        }
      ],
      "source": [
        "X_train.shape"
      ]
    },
    {
      "cell_type": "markdown",
      "metadata": {
        "id": "ymm1yYyeoLbu"
      },
      "source": [
        "### Multi - model"
      ]
    },
    {
      "cell_type": "code",
      "execution_count": null,
      "metadata": {
        "id": "-Pu8WVe4oLbu",
        "colab": {
          "base_uri": "https://localhost:8080/"
        },
        "outputId": "abfcb303-6889-4940-a34d-3be7f4605249"
      },
      "outputs": [
        {
          "output_type": "stream",
          "name": "stderr",
          "text": [
            "100%|██████████| 300/300 [00:00<00:00, 564.51it/s]\n",
            "100%|██████████| 300/300 [00:00<00:00, 713.69it/s]\n",
            "100%|██████████| 300/300 [00:00<00:00, 3053.82it/s]\n",
            "<ipython-input-73-5778022e04f6>:42: RuntimeWarning: Mean of empty slice\n",
            "  loss[method][metric] = np.nanmean(loss[method][metric])\n"
          ]
        },
        {
          "output_type": "execute_result",
          "data": {
            "text/plain": [
              "{'clf': {'r2': nan, 'mse': nan, 'mae': nan, 'rmse': nan},\n",
              " 'dt': {'r2': nan, 'mse': nan, 'mae': nan, 'rmse': nan},\n",
              " 'rf': {'r2': nan, 'mse': nan, 'mae': nan, 'rmse': nan}}"
            ]
          },
          "metadata": {},
          "execution_count": 73
        }
      ],
      "source": [
        "method = ['clf', 'dt', 'rf']\n",
        "metrics = ['r2', 'mse', 'mae', 'rmse']\n",
        "count = 0\n",
        "loss = {}\n",
        "for i in method:\n",
        "    if i not in loss.keys():\n",
        "        loss[i] = {}\n",
        "    for j in metrics:\n",
        "        if j not in loss[i].keys():\n",
        "            loss[i][j] = []\n",
        "\n",
        "# try:\n",
        "#     X_train, y_train, X_test, y_test = split(df, method='by_date', regressor=True, n=1,sentiment=False, multi_model=True)\n",
        "# except ZeroDivisionError:\n",
        "#                          X_train, y_train, X_test, y_test = None\n",
        "X_train, y_train, X_test, y_test = split(df, method='by_date', regressor=True, n=1,sentiment=False, multi_model=True)\n",
        "\n",
        "valid_n = [1,2,3]\n",
        "\n",
        "for item in tqdm(range(len(X_train))):\n",
        "    try:\n",
        "        clf.fit(X_train[item], y_train[item])\n",
        "        DTRmodel.fit(X_train[item], y_train[item])\n",
        "        RFRmodel.fit(X_train[item], y_train[item])\n",
        "        result = [clf.predict(X_test[item]), DTRmodel.predict(X_test[item]), RFRmodel.predict(X_test[item])]\n",
        "        metrics_score = [r2_score, mean_squared_error, mean_absolute_error]\n",
        "\n",
        "        for num_method, i in enumerate(method):\n",
        "            for num_metric, j in enumerate(metrics):\n",
        "                if num_metric != 3:\n",
        "                    y_test[item]\n",
        "                    result[num_method]\n",
        "                    metrics_score[num_metric]\n",
        "                    loss[i][j].append(metrics_score[num_metric](y_test[item], result[num_method]))\n",
        "                else:\n",
        "                    loss[i][j].append(sqrt(mean_squared_error(y_test[item], result[num_method])))\n",
        "    except:\n",
        "        count+=1\n",
        "\n",
        "for method in loss.keys():\n",
        "    for metric in loss[method].keys():\n",
        "        loss[method][metric] = np.nanmean(loss[method][metric])\n",
        "\n",
        "loss"
      ]
    },
    {
      "cell_type": "code",
      "source": [
        "### split dataset by date\n",
        "train, test = df[df[\"datetime\"] <= \"2023-03-14\"],df[df[\"datetime\"] > \"2023-03-14\"]\n",
        "X_train ,y_train = train[[\"q_sold\",\"item\"]], train[\"label\"]\n",
        "X_test ,y_test = test[[\"q_sold\",\"item\"]], test[\"label\"]"
      ],
      "metadata": {
        "id": "b9uv9dgLQEoR"
      },
      "execution_count": null,
      "outputs": []
    },
    {
      "cell_type": "code",
      "source": [
        "train[\"q_sold\"]"
      ],
      "metadata": {
        "colab": {
          "base_uri": "https://localhost:8080/"
        },
        "id": "fPkuCkqOQHno",
        "outputId": "bcf70eed-61cc-468c-eec0-e665eb55ee17"
      },
      "execution_count": null,
      "outputs": [
        {
          "output_type": "execute_result",
          "data": {
            "text/plain": [
              "0       19\n",
              "1       23\n",
              "2       13\n",
              "3       15\n",
              "4       21\n",
              "        ..\n",
              "4290     3\n",
              "4291     5\n",
              "4292     7\n",
              "4293     2\n",
              "4294     5\n",
              "Name: q_sold, Length: 3012, dtype: int64"
            ]
          },
          "metadata": {},
          "execution_count": 19
        }
      ]
    },
    {
      "cell_type": "code",
      "source": [
        "X_train ,y_train = train[[\"q_sold\"]], train[\"label\"]\n",
        "X_test ,y_test = test[[\"q_sold\"]], test[\"label\"]"
      ],
      "metadata": {
        "id": "9Vafj6rWQJP-"
      },
      "execution_count": null,
      "outputs": []
    },
    {
      "cell_type": "code",
      "source": [
        "train.to_csv(\"train_0905.csv\")\n",
        "test.to_csv(\"test_0905.csv\")"
      ],
      "metadata": {
        "id": "PhVO6RFKClY0"
      },
      "execution_count": null,
      "outputs": []
    },
    {
      "cell_type": "code",
      "source": [
        "X_train ,y_train = train[[\"q_sold\",\"item\"]], train[\"label\"]\n",
        "X_test ,y_test = test[[\"q_sold\",\"item\"]], test[\"label\"]"
      ],
      "metadata": {
        "id": "fiA8zBx5QKo_"
      },
      "execution_count": null,
      "outputs": []
    },
    {
      "cell_type": "code",
      "source": [
        "clf = LinearRegression(n_jobs=-1)\n",
        "DTRmodel = DecisionTreeRegressor(max_depth=3, random_state=0)\n",
        "RFRmodel = RandomForestRegressor(max_depth=3, random_state=0)"
      ],
      "metadata": {
        "id": "Mh2ru3SvQNwt"
      },
      "execution_count": null,
      "outputs": []
    },
    {
      "cell_type": "code",
      "source": [
        "clf.fit(X_train, y_train)\n",
        "DTRmodel.fit(X_train, y_train)\n",
        "RFRmodel.fit(X_train, y_train)"
      ],
      "metadata": {
        "colab": {
          "base_uri": "https://localhost:8080/",
          "height": 74
        },
        "id": "JP23w5QtQQZV",
        "outputId": "cd7a4c1d-86b0-4cbd-bf52-f1edfa1a82e3"
      },
      "execution_count": null,
      "outputs": [
        {
          "output_type": "execute_result",
          "data": {
            "text/plain": [
              "RandomForestRegressor(max_depth=3, random_state=0)"
            ],
            "text/html": [
              "<style>#sk-container-id-2 {color: black;background-color: white;}#sk-container-id-2 pre{padding: 0;}#sk-container-id-2 div.sk-toggleable {background-color: white;}#sk-container-id-2 label.sk-toggleable__label {cursor: pointer;display: block;width: 100%;margin-bottom: 0;padding: 0.3em;box-sizing: border-box;text-align: center;}#sk-container-id-2 label.sk-toggleable__label-arrow:before {content: \"▸\";float: left;margin-right: 0.25em;color: #696969;}#sk-container-id-2 label.sk-toggleable__label-arrow:hover:before {color: black;}#sk-container-id-2 div.sk-estimator:hover label.sk-toggleable__label-arrow:before {color: black;}#sk-container-id-2 div.sk-toggleable__content {max-height: 0;max-width: 0;overflow: hidden;text-align: left;background-color: #f0f8ff;}#sk-container-id-2 div.sk-toggleable__content pre {margin: 0.2em;color: black;border-radius: 0.25em;background-color: #f0f8ff;}#sk-container-id-2 input.sk-toggleable__control:checked~div.sk-toggleable__content {max-height: 200px;max-width: 100%;overflow: auto;}#sk-container-id-2 input.sk-toggleable__control:checked~label.sk-toggleable__label-arrow:before {content: \"▾\";}#sk-container-id-2 div.sk-estimator input.sk-toggleable__control:checked~label.sk-toggleable__label {background-color: #d4ebff;}#sk-container-id-2 div.sk-label input.sk-toggleable__control:checked~label.sk-toggleable__label {background-color: #d4ebff;}#sk-container-id-2 input.sk-hidden--visually {border: 0;clip: rect(1px 1px 1px 1px);clip: rect(1px, 1px, 1px, 1px);height: 1px;margin: -1px;overflow: hidden;padding: 0;position: absolute;width: 1px;}#sk-container-id-2 div.sk-estimator {font-family: monospace;background-color: #f0f8ff;border: 1px dotted black;border-radius: 0.25em;box-sizing: border-box;margin-bottom: 0.5em;}#sk-container-id-2 div.sk-estimator:hover {background-color: #d4ebff;}#sk-container-id-2 div.sk-parallel-item::after {content: \"\";width: 100%;border-bottom: 1px solid gray;flex-grow: 1;}#sk-container-id-2 div.sk-label:hover label.sk-toggleable__label {background-color: #d4ebff;}#sk-container-id-2 div.sk-serial::before {content: \"\";position: absolute;border-left: 1px solid gray;box-sizing: border-box;top: 0;bottom: 0;left: 50%;z-index: 0;}#sk-container-id-2 div.sk-serial {display: flex;flex-direction: column;align-items: center;background-color: white;padding-right: 0.2em;padding-left: 0.2em;position: relative;}#sk-container-id-2 div.sk-item {position: relative;z-index: 1;}#sk-container-id-2 div.sk-parallel {display: flex;align-items: stretch;justify-content: center;background-color: white;position: relative;}#sk-container-id-2 div.sk-item::before, #sk-container-id-2 div.sk-parallel-item::before {content: \"\";position: absolute;border-left: 1px solid gray;box-sizing: border-box;top: 0;bottom: 0;left: 50%;z-index: -1;}#sk-container-id-2 div.sk-parallel-item {display: flex;flex-direction: column;z-index: 1;position: relative;background-color: white;}#sk-container-id-2 div.sk-parallel-item:first-child::after {align-self: flex-end;width: 50%;}#sk-container-id-2 div.sk-parallel-item:last-child::after {align-self: flex-start;width: 50%;}#sk-container-id-2 div.sk-parallel-item:only-child::after {width: 0;}#sk-container-id-2 div.sk-dashed-wrapped {border: 1px dashed gray;margin: 0 0.4em 0.5em 0.4em;box-sizing: border-box;padding-bottom: 0.4em;background-color: white;}#sk-container-id-2 div.sk-label label {font-family: monospace;font-weight: bold;display: inline-block;line-height: 1.2em;}#sk-container-id-2 div.sk-label-container {text-align: center;}#sk-container-id-2 div.sk-container {/* jupyter's `normalize.less` sets `[hidden] { display: none; }` but bootstrap.min.css set `[hidden] { display: none !important; }` so we also need the `!important` here to be able to override the default hidden behavior on the sphinx rendered scikit-learn.org. See: https://github.com/scikit-learn/scikit-learn/issues/21755 */display: inline-block !important;position: relative;}#sk-container-id-2 div.sk-text-repr-fallback {display: none;}</style><div id=\"sk-container-id-2\" class=\"sk-top-container\"><div class=\"sk-text-repr-fallback\"><pre>RandomForestRegressor(max_depth=3, random_state=0)</pre><b>In a Jupyter environment, please rerun this cell to show the HTML representation or trust the notebook. <br />On GitHub, the HTML representation is unable to render, please try loading this page with nbviewer.org.</b></div><div class=\"sk-container\" hidden><div class=\"sk-item\"><div class=\"sk-estimator sk-toggleable\"><input class=\"sk-toggleable__control sk-hidden--visually\" id=\"sk-estimator-id-2\" type=\"checkbox\" checked><label for=\"sk-estimator-id-2\" class=\"sk-toggleable__label sk-toggleable__label-arrow\">RandomForestRegressor</label><div class=\"sk-toggleable__content\"><pre>RandomForestRegressor(max_depth=3, random_state=0)</pre></div></div></div></div></div>"
            ]
          },
          "metadata": {},
          "execution_count": 27
        }
      ]
    },
    {
      "cell_type": "code",
      "source": [
        "import math\n",
        "from math import sqrt"
      ],
      "metadata": {
        "id": "9p-lXXUTm4Xx"
      },
      "execution_count": null,
      "outputs": []
    },
    {
      "cell_type": "code",
      "source": [
        "confidence0 = clf.score(X_test, y_test)\n",
        "y_pred0 = clf.predict(X_test)\n",
        "print(\"R2 score  :\", r2_score(y_test, y_pred0))\n",
        "print(\"MSE score  :\", mean_squared_error(y_test, y_pred0))\n",
        "print(\"MAPE  :\", mean_absolute_percentage_error(y_test, y_pred0))\n",
        "print(\"MAE score :\", mean_absolute_error(y_test, y_pred0))\n",
        "print(\"MSLE score :\", mean_squared_log_error(y_test, y_pred0))\n",
        "print(\"RMSE: \", sqrt(mean_squared_error(y_test, y_pred0)))"
      ],
      "metadata": {
        "colab": {
          "base_uri": "https://localhost:8080/"
        },
        "id": "wvy_cUzhQR54",
        "outputId": "48710af1-f191-41d5-aca1-f68de944c4b6"
      },
      "execution_count": null,
      "outputs": [
        {
          "output_type": "stream",
          "name": "stdout",
          "text": [
            "R2 score  : 0.5386701999487209\n",
            "MSE score  : 35.136024072000225\n",
            "MAPE  : 0.7187631913402219\n",
            "MAE score : 4.03317112561482\n",
            "MSLE score : 0.2715224188501461\n",
            "RMSE:  5.927564767423484\n"
          ]
        }
      ]
    },
    {
      "cell_type": "code",
      "source": [
        "confidence1 = DTRmodel.score(X_test, y_test)\n",
        "y_pred1 = DTRmodel.predict(X_test)\n",
        "print(\"R2 score  :\", r2_score(y_test, y_pred1))\n",
        "print(\"MSE score  :\", mean_squared_error(y_test, y_pred1))\n",
        "print(\"MAPE  :\", mean_absolute_percentage_error(y_test, y_pred0))\n",
        "print(\"MAE score :\", mean_absolute_error(y_test, y_pred0))\n",
        "print(\"MSLE score :\", mean_squared_log_error(y_test, y_pred0))\n",
        "print(\"RMSE: \", sqrt(mean_squared_error(y_test, y_pred1)))"
      ],
      "metadata": {
        "colab": {
          "base_uri": "https://localhost:8080/"
        },
        "id": "fjLsPZZoQWjk",
        "outputId": "0345b6e5-aee4-4d7c-926d-e91fc386d1c0"
      },
      "execution_count": null,
      "outputs": [
        {
          "output_type": "stream",
          "name": "stdout",
          "text": [
            "R2 score  : 0.5223834822750641\n",
            "MSE score  : 36.37646096589232\n",
            "MAPE  : 0.7187631913402219\n",
            "MAE score : 4.03317112561482\n",
            "MSLE score : 0.2715224188501461\n",
            "RMSE:  6.031290157660492\n"
          ]
        }
      ]
    },
    {
      "cell_type": "code",
      "source": [
        "y_pred2 = RFRmodel.predict(X_test)\n",
        "confidence2 = RFRmodel.score(X_test, y_test)\n",
        "print(\"R2 score  :\", r2_score(y_test, y_pred2))\n",
        "print(\"MSE score  :\", mean_squared_error(y_test, y_pred2))\n",
        "print(\"MAPE  :\", mean_absolute_percentage_error(y_test, y_pred0))\n",
        "print(\"MAE score :\", mean_absolute_error(y_test, y_pred0))\n",
        "print(\"MSLE score :\", mean_squared_log_error(y_test, y_pred0))\n",
        "print(\"RMSE: \", sqrt(mean_squared_error(y_test, y_pred2)))"
      ],
      "metadata": {
        "colab": {
          "base_uri": "https://localhost:8080/"
        },
        "id": "y8U_a0TRQYGP",
        "outputId": "2c833cfe-dd78-41ae-872c-5f51910b7708"
      },
      "execution_count": null,
      "outputs": [
        {
          "output_type": "stream",
          "name": "stdout",
          "text": [
            "R2 score  : 0.5418475707929635\n",
            "MSE score  : 34.89402761207812\n",
            "MAPE  : 0.7187631913402219\n",
            "MAE score : 4.03317112561482\n",
            "MSLE score : 0.2715224188501461\n",
            "RMSE:  5.907116691930008\n"
          ]
        }
      ]
    },
    {
      "cell_type": "code",
      "source": [
        "X_train.shape"
      ],
      "metadata": {
        "colab": {
          "base_uri": "https://localhost:8080/"
        },
        "id": "8nECI60BQaEf",
        "outputId": "e73c8e8e-9760-4de9-fc82-b04e6bbfdf14"
      },
      "execution_count": null,
      "outputs": [
        {
          "output_type": "execute_result",
          "data": {
            "text/plain": [
              "(762, 1)"
            ]
          },
          "metadata": {},
          "execution_count": 32
        }
      ]
    },
    {
      "cell_type": "code",
      "source": [
        "train, test = df[df[\"datetime\"] <= \"2023-03-14\"],df[df[\"datetime\"] > \"2023-03-14\"]\n",
        "X_train ,y_train = train[[\"q_sold\",\"item\",\"Negative\",\"Neutral\",\"Positive\"]], train[\"label\"]\n",
        "X_test ,y_test = test[[\"q_sold\",\"item\",\"Negative\",\"Neutral\",\"Positive\"]], test[\"label\"]"
      ],
      "metadata": {
        "id": "WyTcnuduN8bn"
      },
      "execution_count": null,
      "outputs": []
    },
    {
      "cell_type": "code",
      "source": [
        "X_train ,y_train = train[[\"q_sold\",\"Negative\",\"Neutral\",\"Positive\"]], train[\"label\"]\n",
        "X_test ,y_test = test[[\"q_sold\",\"Negative\",\"Neutral\",\"Positive\"]], test[\"label\"]"
      ],
      "metadata": {
        "id": "s5Ag_mUe-o-J"
      },
      "execution_count": null,
      "outputs": []
    },
    {
      "cell_type": "code",
      "source": [
        "X_train.head()"
      ],
      "metadata": {
        "colab": {
          "base_uri": "https://localhost:8080/",
          "height": 206
        },
        "id": "PrP34iHAOAv8",
        "outputId": "4b4c8382-78ba-4dcd-e5a6-ea62777ea6a7"
      },
      "execution_count": null,
      "outputs": [
        {
          "output_type": "execute_result",
          "data": {
            "text/plain": [
              "   q_sold  Negative   Neutral  Positive\n",
              "0      27  0.085034  0.183673  0.731293\n",
              "1      23  0.085034  0.183673  0.731293\n",
              "2      48  0.085034  0.183673  0.731293\n",
              "3      20  0.085034  0.183673  0.731293\n",
              "4      26  0.085034  0.183673  0.731293"
            ],
            "text/html": [
              "\n",
              "  <div id=\"df-08e410f4-05d7-4784-9a7f-24ee61be2c60\">\n",
              "    <div class=\"colab-df-container\">\n",
              "      <div>\n",
              "<style scoped>\n",
              "    .dataframe tbody tr th:only-of-type {\n",
              "        vertical-align: middle;\n",
              "    }\n",
              "\n",
              "    .dataframe tbody tr th {\n",
              "        vertical-align: top;\n",
              "    }\n",
              "\n",
              "    .dataframe thead th {\n",
              "        text-align: right;\n",
              "    }\n",
              "</style>\n",
              "<table border=\"1\" class=\"dataframe\">\n",
              "  <thead>\n",
              "    <tr style=\"text-align: right;\">\n",
              "      <th></th>\n",
              "      <th>q_sold</th>\n",
              "      <th>Negative</th>\n",
              "      <th>Neutral</th>\n",
              "      <th>Positive</th>\n",
              "    </tr>\n",
              "  </thead>\n",
              "  <tbody>\n",
              "    <tr>\n",
              "      <th>0</th>\n",
              "      <td>27</td>\n",
              "      <td>0.085034</td>\n",
              "      <td>0.183673</td>\n",
              "      <td>0.731293</td>\n",
              "    </tr>\n",
              "    <tr>\n",
              "      <th>1</th>\n",
              "      <td>23</td>\n",
              "      <td>0.085034</td>\n",
              "      <td>0.183673</td>\n",
              "      <td>0.731293</td>\n",
              "    </tr>\n",
              "    <tr>\n",
              "      <th>2</th>\n",
              "      <td>48</td>\n",
              "      <td>0.085034</td>\n",
              "      <td>0.183673</td>\n",
              "      <td>0.731293</td>\n",
              "    </tr>\n",
              "    <tr>\n",
              "      <th>3</th>\n",
              "      <td>20</td>\n",
              "      <td>0.085034</td>\n",
              "      <td>0.183673</td>\n",
              "      <td>0.731293</td>\n",
              "    </tr>\n",
              "    <tr>\n",
              "      <th>4</th>\n",
              "      <td>26</td>\n",
              "      <td>0.085034</td>\n",
              "      <td>0.183673</td>\n",
              "      <td>0.731293</td>\n",
              "    </tr>\n",
              "  </tbody>\n",
              "</table>\n",
              "</div>\n",
              "      <button class=\"colab-df-convert\" onclick=\"convertToInteractive('df-08e410f4-05d7-4784-9a7f-24ee61be2c60')\"\n",
              "              title=\"Convert this dataframe to an interactive table.\"\n",
              "              style=\"display:none;\">\n",
              "        \n",
              "  <svg xmlns=\"http://www.w3.org/2000/svg\" height=\"24px\"viewBox=\"0 0 24 24\"\n",
              "       width=\"24px\">\n",
              "    <path d=\"M0 0h24v24H0V0z\" fill=\"none\"/>\n",
              "    <path d=\"M18.56 5.44l.94 2.06.94-2.06 2.06-.94-2.06-.94-.94-2.06-.94 2.06-2.06.94zm-11 1L8.5 8.5l.94-2.06 2.06-.94-2.06-.94L8.5 2.5l-.94 2.06-2.06.94zm10 10l.94 2.06.94-2.06 2.06-.94-2.06-.94-.94-2.06-.94 2.06-2.06.94z\"/><path d=\"M17.41 7.96l-1.37-1.37c-.4-.4-.92-.59-1.43-.59-.52 0-1.04.2-1.43.59L10.3 9.45l-7.72 7.72c-.78.78-.78 2.05 0 2.83L4 21.41c.39.39.9.59 1.41.59.51 0 1.02-.2 1.41-.59l7.78-7.78 2.81-2.81c.8-.78.8-2.07 0-2.86zM5.41 20L4 18.59l7.72-7.72 1.47 1.35L5.41 20z\"/>\n",
              "  </svg>\n",
              "      </button>\n",
              "      \n",
              "  <style>\n",
              "    .colab-df-container {\n",
              "      display:flex;\n",
              "      flex-wrap:wrap;\n",
              "      gap: 12px;\n",
              "    }\n",
              "\n",
              "    .colab-df-convert {\n",
              "      background-color: #E8F0FE;\n",
              "      border: none;\n",
              "      border-radius: 50%;\n",
              "      cursor: pointer;\n",
              "      display: none;\n",
              "      fill: #1967D2;\n",
              "      height: 32px;\n",
              "      padding: 0 0 0 0;\n",
              "      width: 32px;\n",
              "    }\n",
              "\n",
              "    .colab-df-convert:hover {\n",
              "      background-color: #E2EBFA;\n",
              "      box-shadow: 0px 1px 2px rgba(60, 64, 67, 0.3), 0px 1px 3px 1px rgba(60, 64, 67, 0.15);\n",
              "      fill: #174EA6;\n",
              "    }\n",
              "\n",
              "    [theme=dark] .colab-df-convert {\n",
              "      background-color: #3B4455;\n",
              "      fill: #D2E3FC;\n",
              "    }\n",
              "\n",
              "    [theme=dark] .colab-df-convert:hover {\n",
              "      background-color: #434B5C;\n",
              "      box-shadow: 0px 1px 3px 1px rgba(0, 0, 0, 0.15);\n",
              "      filter: drop-shadow(0px 1px 2px rgba(0, 0, 0, 0.3));\n",
              "      fill: #FFFFFF;\n",
              "    }\n",
              "  </style>\n",
              "\n",
              "      <script>\n",
              "        const buttonEl =\n",
              "          document.querySelector('#df-08e410f4-05d7-4784-9a7f-24ee61be2c60 button.colab-df-convert');\n",
              "        buttonEl.style.display =\n",
              "          google.colab.kernel.accessAllowed ? 'block' : 'none';\n",
              "\n",
              "        async function convertToInteractive(key) {\n",
              "          const element = document.querySelector('#df-08e410f4-05d7-4784-9a7f-24ee61be2c60');\n",
              "          const dataTable =\n",
              "            await google.colab.kernel.invokeFunction('convertToInteractive',\n",
              "                                                     [key], {});\n",
              "          if (!dataTable) return;\n",
              "\n",
              "          const docLinkHtml = 'Like what you see? Visit the ' +\n",
              "            '<a target=\"_blank\" href=https://colab.research.google.com/notebooks/data_table.ipynb>data table notebook</a>'\n",
              "            + ' to learn more about interactive tables.';\n",
              "          element.innerHTML = '';\n",
              "          dataTable['output_type'] = 'display_data';\n",
              "          await google.colab.output.renderOutput(dataTable, element);\n",
              "          const docLink = document.createElement('div');\n",
              "          docLink.innerHTML = docLinkHtml;\n",
              "          element.appendChild(docLink);\n",
              "        }\n",
              "      </script>\n",
              "    </div>\n",
              "  </div>\n",
              "  "
            ]
          },
          "metadata": {},
          "execution_count": 34
        }
      ]
    },
    {
      "cell_type": "code",
      "source": [
        "clf = LinearRegression(n_jobs=-1)\n",
        "DTRmodel = DecisionTreeRegressor(max_depth=3, random_state=0)\n",
        "RFRmodel = RandomForestRegressor(max_depth=3, random_state=0)"
      ],
      "metadata": {
        "id": "U6Ol16mIOBWO"
      },
      "execution_count": null,
      "outputs": []
    },
    {
      "cell_type": "code",
      "source": [
        "clf.fit(X_train, y_train)\n",
        "DTRmodel.fit(X_train, y_train)\n",
        "RFRmodel.fit(X_train, y_train)\n",
        "clf.score(X_train, y_train) , DTRmodel.score(X_train, y_train), RFRmodel.score(X_train, y_train)"
      ],
      "metadata": {
        "colab": {
          "base_uri": "https://localhost:8080/"
        },
        "id": "_hAgaW_yODI-",
        "outputId": "e140793e-ffc9-47c7-a0aa-7848832360a8"
      },
      "execution_count": null,
      "outputs": [
        {
          "output_type": "execute_result",
          "data": {
            "text/plain": [
              "(0.4657686688866427, 0.5643414800145247, 0.5805488093822757)"
            ]
          },
          "metadata": {},
          "execution_count": 36
        }
      ]
    },
    {
      "cell_type": "code",
      "source": [
        "confidence0 = clf.score(X_test, y_test)\n",
        "y_pred0 = clf.predict(X_test)\n",
        "print(\"R2 score  :\", r2_score(y_test, y_pred0))\n",
        "print(\"MSE score  :\", mean_squared_error(y_test, y_pred0))\n",
        "print(\"MAPE  :\", mean_absolute_percentage_error(y_test, y_pred0))\n",
        "print(\"MAE score :\", mean_absolute_error(y_test, y_pred0))\n",
        "print(\"MSLE score :\", mean_squared_log_error(y_test, y_pred0))\n",
        "print(\"RMSE: \", sqrt(mean_squared_error(y_test, y_pred0)))"
      ],
      "metadata": {
        "colab": {
          "base_uri": "https://localhost:8080/"
        },
        "id": "WsF9xS1kOMyc",
        "outputId": "58892080-7701-4b84-a76f-52502887c0c5"
      },
      "execution_count": null,
      "outputs": [
        {
          "output_type": "stream",
          "name": "stdout",
          "text": [
            "R2 score  : 0.5374959568187759\n",
            "MSE score  : 35.22545734701419\n",
            "MAPE  : 0.7184365620549635\n",
            "MAE score : 4.035793430719735\n",
            "MSLE score : 0.27195108918329375\n",
            "RMSE:  5.9351038193964385\n"
          ]
        }
      ]
    },
    {
      "cell_type": "code",
      "source": [
        "confidence1 = DTRmodel.score(X_test, y_test)\n",
        "y_pred0 = DTRmodel.predict(X_test)\n",
        "print(\"R2 score  :\", r2_score(y_test, y_pred0))\n",
        "print(\"MSE score  :\", mean_squared_error(y_test, y_pred0))\n",
        "print(\"MAPE  :\", mean_absolute_percentage_error(y_test, y_pred0))\n",
        "print(\"MAE score :\", mean_absolute_error(y_test, y_pred0))\n",
        "print(\"MSLE score :\", mean_squared_log_error(y_test, y_pred0))\n",
        "print(\"RMSE: \", sqrt(mean_squared_error(y_test, y_pred0)))"
      ],
      "metadata": {
        "colab": {
          "base_uri": "https://localhost:8080/"
        },
        "id": "oZSQRiY_PqYO",
        "outputId": "ea55112e-41d5-4388-f476-5d981d34dbbd"
      },
      "execution_count": null,
      "outputs": [
        {
          "output_type": "stream",
          "name": "stdout",
          "text": [
            "R2 score  : 0.4813682313516504\n",
            "MSE score  : 39.50028440761234\n",
            "MAPE  : 0.7604179464788484\n",
            "MAE score : 4.224336641178615\n",
            "MSLE score : 0.29928698962106015\n",
            "RMSE:  6.284925171202307\n"
          ]
        }
      ]
    },
    {
      "cell_type": "code",
      "source": [
        "confidence0 = RFRmodel.score(X_test, y_test)\n",
        "y_pred0 = RFRmodel.predict(X_test)\n",
        "print(\"R2 score  :\", r2_score(y_test, y_pred0))\n",
        "print(\"MSE score  :\", mean_squared_error(y_test, y_pred0))\n",
        "print(\"MAPE  :\", mean_absolute_percentage_error(y_test, y_pred0))\n",
        "print(\"MAE score :\", mean_absolute_error(y_test, y_pred0))\n",
        "print(\"MSLE score :\", mean_squared_log_error(y_test, y_pred0))\n",
        "print(\"RMSE: \", sqrt(mean_squared_error(y_test, y_pred0)))"
      ],
      "metadata": {
        "colab": {
          "base_uri": "https://localhost:8080/"
        },
        "id": "0snNHGQFQjit",
        "outputId": "32bd81ef-2af2-4109-c0bd-b4eca3ae60ac"
      },
      "execution_count": null,
      "outputs": [
        {
          "output_type": "stream",
          "name": "stdout",
          "text": [
            "R2 score  : 0.5330110686720485\n",
            "MSE score  : 35.56703757414482\n",
            "MAPE  : 0.7381600983864045\n",
            "MAE score : 3.9904228254995098\n",
            "MSLE score : 0.28276861473317827\n",
            "RMSE:  5.963810658810759\n"
          ]
        }
      ]
    },
    {
      "cell_type": "code",
      "source": [
        "clf.predict(X_test.head(1))"
      ],
      "metadata": {
        "colab": {
          "base_uri": "https://localhost:8080/"
        },
        "id": "G5Gi3R_pOOwK",
        "outputId": "e0453377-d329-47b6-941a-4dc9717b8c6e"
      },
      "execution_count": null,
      "outputs": [
        {
          "output_type": "execute_result",
          "data": {
            "text/plain": [
              "array([6.97854768])"
            ]
          },
          "metadata": {},
          "execution_count": 93
        }
      ]
    },
    {
      "cell_type": "code",
      "source": [
        "X_test.head(11)"
      ],
      "metadata": {
        "colab": {
          "base_uri": "https://localhost:8080/",
          "height": 394
        },
        "id": "L93LbOPgOQn_",
        "outputId": "94ea81f7-d28b-4493-a5df-b5dd7e5568e1"
      },
      "execution_count": null,
      "outputs": [
        {
          "output_type": "execute_result",
          "data": {
            "text/plain": [
              "     q_sold  item   avg_neg   avg_neu   avg_pos  avg_rate\n",
              "35        6     1  0.038462  0.102564  0.858974  4.426901\n",
              "36        9     1  0.052326  0.171512  0.776163  4.426901\n",
              "37        3     1  0.091153  0.067024  0.841823  4.426901\n",
              "38        5     1  0.115942  0.188406  0.695652  4.426901\n",
              "76       18     2  0.011364  0.147727  0.840909  4.772727\n",
              "77       13     2  0.034739  0.099256  0.866005  4.772727\n",
              "78        9     2  0.030388  0.113168  0.856444  4.772727\n",
              "79       11     2  0.095745  0.095745  0.808511  4.772727\n",
              "113      13     3  0.081081  0.189189  0.729730  4.940590\n",
              "114      11     3  0.039735  0.175497  0.784768  4.940590\n",
              "115       9     3  0.060606  0.075758  0.863636  4.940590"
            ],
            "text/html": [
              "\n",
              "  <div id=\"df-59d3baee-a7f7-4e97-a8c7-b2dc5659f004\">\n",
              "    <div class=\"colab-df-container\">\n",
              "      <div>\n",
              "<style scoped>\n",
              "    .dataframe tbody tr th:only-of-type {\n",
              "        vertical-align: middle;\n",
              "    }\n",
              "\n",
              "    .dataframe tbody tr th {\n",
              "        vertical-align: top;\n",
              "    }\n",
              "\n",
              "    .dataframe thead th {\n",
              "        text-align: right;\n",
              "    }\n",
              "</style>\n",
              "<table border=\"1\" class=\"dataframe\">\n",
              "  <thead>\n",
              "    <tr style=\"text-align: right;\">\n",
              "      <th></th>\n",
              "      <th>q_sold</th>\n",
              "      <th>item</th>\n",
              "      <th>avg_neg</th>\n",
              "      <th>avg_neu</th>\n",
              "      <th>avg_pos</th>\n",
              "      <th>avg_rate</th>\n",
              "    </tr>\n",
              "  </thead>\n",
              "  <tbody>\n",
              "    <tr>\n",
              "      <th>35</th>\n",
              "      <td>6</td>\n",
              "      <td>1</td>\n",
              "      <td>0.038462</td>\n",
              "      <td>0.102564</td>\n",
              "      <td>0.858974</td>\n",
              "      <td>4.426901</td>\n",
              "    </tr>\n",
              "    <tr>\n",
              "      <th>36</th>\n",
              "      <td>9</td>\n",
              "      <td>1</td>\n",
              "      <td>0.052326</td>\n",
              "      <td>0.171512</td>\n",
              "      <td>0.776163</td>\n",
              "      <td>4.426901</td>\n",
              "    </tr>\n",
              "    <tr>\n",
              "      <th>37</th>\n",
              "      <td>3</td>\n",
              "      <td>1</td>\n",
              "      <td>0.091153</td>\n",
              "      <td>0.067024</td>\n",
              "      <td>0.841823</td>\n",
              "      <td>4.426901</td>\n",
              "    </tr>\n",
              "    <tr>\n",
              "      <th>38</th>\n",
              "      <td>5</td>\n",
              "      <td>1</td>\n",
              "      <td>0.115942</td>\n",
              "      <td>0.188406</td>\n",
              "      <td>0.695652</td>\n",
              "      <td>4.426901</td>\n",
              "    </tr>\n",
              "    <tr>\n",
              "      <th>76</th>\n",
              "      <td>18</td>\n",
              "      <td>2</td>\n",
              "      <td>0.011364</td>\n",
              "      <td>0.147727</td>\n",
              "      <td>0.840909</td>\n",
              "      <td>4.772727</td>\n",
              "    </tr>\n",
              "    <tr>\n",
              "      <th>77</th>\n",
              "      <td>13</td>\n",
              "      <td>2</td>\n",
              "      <td>0.034739</td>\n",
              "      <td>0.099256</td>\n",
              "      <td>0.866005</td>\n",
              "      <td>4.772727</td>\n",
              "    </tr>\n",
              "    <tr>\n",
              "      <th>78</th>\n",
              "      <td>9</td>\n",
              "      <td>2</td>\n",
              "      <td>0.030388</td>\n",
              "      <td>0.113168</td>\n",
              "      <td>0.856444</td>\n",
              "      <td>4.772727</td>\n",
              "    </tr>\n",
              "    <tr>\n",
              "      <th>79</th>\n",
              "      <td>11</td>\n",
              "      <td>2</td>\n",
              "      <td>0.095745</td>\n",
              "      <td>0.095745</td>\n",
              "      <td>0.808511</td>\n",
              "      <td>4.772727</td>\n",
              "    </tr>\n",
              "    <tr>\n",
              "      <th>113</th>\n",
              "      <td>13</td>\n",
              "      <td>3</td>\n",
              "      <td>0.081081</td>\n",
              "      <td>0.189189</td>\n",
              "      <td>0.729730</td>\n",
              "      <td>4.940590</td>\n",
              "    </tr>\n",
              "    <tr>\n",
              "      <th>114</th>\n",
              "      <td>11</td>\n",
              "      <td>3</td>\n",
              "      <td>0.039735</td>\n",
              "      <td>0.175497</td>\n",
              "      <td>0.784768</td>\n",
              "      <td>4.940590</td>\n",
              "    </tr>\n",
              "    <tr>\n",
              "      <th>115</th>\n",
              "      <td>9</td>\n",
              "      <td>3</td>\n",
              "      <td>0.060606</td>\n",
              "      <td>0.075758</td>\n",
              "      <td>0.863636</td>\n",
              "      <td>4.940590</td>\n",
              "    </tr>\n",
              "  </tbody>\n",
              "</table>\n",
              "</div>\n",
              "      <button class=\"colab-df-convert\" onclick=\"convertToInteractive('df-59d3baee-a7f7-4e97-a8c7-b2dc5659f004')\"\n",
              "              title=\"Convert this dataframe to an interactive table.\"\n",
              "              style=\"display:none;\">\n",
              "        \n",
              "  <svg xmlns=\"http://www.w3.org/2000/svg\" height=\"24px\"viewBox=\"0 0 24 24\"\n",
              "       width=\"24px\">\n",
              "    <path d=\"M0 0h24v24H0V0z\" fill=\"none\"/>\n",
              "    <path d=\"M18.56 5.44l.94 2.06.94-2.06 2.06-.94-2.06-.94-.94-2.06-.94 2.06-2.06.94zm-11 1L8.5 8.5l.94-2.06 2.06-.94-2.06-.94L8.5 2.5l-.94 2.06-2.06.94zm10 10l.94 2.06.94-2.06 2.06-.94-2.06-.94-.94-2.06-.94 2.06-2.06.94z\"/><path d=\"M17.41 7.96l-1.37-1.37c-.4-.4-.92-.59-1.43-.59-.52 0-1.04.2-1.43.59L10.3 9.45l-7.72 7.72c-.78.78-.78 2.05 0 2.83L4 21.41c.39.39.9.59 1.41.59.51 0 1.02-.2 1.41-.59l7.78-7.78 2.81-2.81c.8-.78.8-2.07 0-2.86zM5.41 20L4 18.59l7.72-7.72 1.47 1.35L5.41 20z\"/>\n",
              "  </svg>\n",
              "      </button>\n",
              "      \n",
              "  <style>\n",
              "    .colab-df-container {\n",
              "      display:flex;\n",
              "      flex-wrap:wrap;\n",
              "      gap: 12px;\n",
              "    }\n",
              "\n",
              "    .colab-df-convert {\n",
              "      background-color: #E8F0FE;\n",
              "      border: none;\n",
              "      border-radius: 50%;\n",
              "      cursor: pointer;\n",
              "      display: none;\n",
              "      fill: #1967D2;\n",
              "      height: 32px;\n",
              "      padding: 0 0 0 0;\n",
              "      width: 32px;\n",
              "    }\n",
              "\n",
              "    .colab-df-convert:hover {\n",
              "      background-color: #E2EBFA;\n",
              "      box-shadow: 0px 1px 2px rgba(60, 64, 67, 0.3), 0px 1px 3px 1px rgba(60, 64, 67, 0.15);\n",
              "      fill: #174EA6;\n",
              "    }\n",
              "\n",
              "    [theme=dark] .colab-df-convert {\n",
              "      background-color: #3B4455;\n",
              "      fill: #D2E3FC;\n",
              "    }\n",
              "\n",
              "    [theme=dark] .colab-df-convert:hover {\n",
              "      background-color: #434B5C;\n",
              "      box-shadow: 0px 1px 3px 1px rgba(0, 0, 0, 0.15);\n",
              "      filter: drop-shadow(0px 1px 2px rgba(0, 0, 0, 0.3));\n",
              "      fill: #FFFFFF;\n",
              "    }\n",
              "  </style>\n",
              "\n",
              "      <script>\n",
              "        const buttonEl =\n",
              "          document.querySelector('#df-59d3baee-a7f7-4e97-a8c7-b2dc5659f004 button.colab-df-convert');\n",
              "        buttonEl.style.display =\n",
              "          google.colab.kernel.accessAllowed ? 'block' : 'none';\n",
              "\n",
              "        async function convertToInteractive(key) {\n",
              "          const element = document.querySelector('#df-59d3baee-a7f7-4e97-a8c7-b2dc5659f004');\n",
              "          const dataTable =\n",
              "            await google.colab.kernel.invokeFunction('convertToInteractive',\n",
              "                                                     [key], {});\n",
              "          if (!dataTable) return;\n",
              "\n",
              "          const docLinkHtml = 'Like what you see? Visit the ' +\n",
              "            '<a target=\"_blank\" href=https://colab.research.google.com/notebooks/data_table.ipynb>data table notebook</a>'\n",
              "            + ' to learn more about interactive tables.';\n",
              "          element.innerHTML = '';\n",
              "          dataTable['output_type'] = 'display_data';\n",
              "          await google.colab.output.renderOutput(dataTable, element);\n",
              "          const docLink = document.createElement('div');\n",
              "          docLink.innerHTML = docLinkHtml;\n",
              "          element.appendChild(docLink);\n",
              "        }\n",
              "      </script>\n",
              "    </div>\n",
              "  </div>\n",
              "  "
            ]
          },
          "metadata": {},
          "execution_count": 94
        }
      ]
    },
    {
      "cell_type": "markdown",
      "metadata": {
        "id": "8OuiTZz3oLbu"
      },
      "source": [
        "### Single Model"
      ]
    },
    {
      "cell_type": "code",
      "execution_count": null,
      "metadata": {
        "colab": {
          "base_uri": "https://localhost:8080/",
          "height": 423
        },
        "id": "TtFlMmsJoLbu",
        "outputId": "2838e4d5-486a-4f1a-c902-8aa9e32ab7bc"
      },
      "outputs": [
        {
          "output_type": "execute_result",
          "data": {
            "text/plain": [
              "      Unnamed: 0  index  item    datetime  q_sold  No_Item  Negative  \\\n",
              "0              0      1     2  2023-03-04      27        2  0.085034   \n",
              "1              1      2     2  2023-03-05      23        2  0.085034   \n",
              "2              2      3     2  2023-03-06      48        2  0.085034   \n",
              "3              3      4     2  2023-03-07      20        2  0.085034   \n",
              "4              4      5     2  2023-03-08      26        2  0.085034   \n",
              "...          ...    ...   ...         ...     ...      ...       ...   \n",
              "1017        1017   1211   295  2023-03-14      18      295  0.068493   \n",
              "1018        1018   1212   295  2023-03-15       7      295  0.068493   \n",
              "1019        1019   1213   295  2023-03-16       8      295  0.068493   \n",
              "1020        1020   1214   295  2023-03-17       6      295  0.068493   \n",
              "1021        1021   1215   295  2023-03-18       6      295  0.068493   \n",
              "\n",
              "       Neutral  Positive  Total  label  \n",
              "0     0.183673  0.731293    294   23.0  \n",
              "1     0.183673  0.731293    294   48.0  \n",
              "2     0.183673  0.731293    294   20.0  \n",
              "3     0.183673  0.731293    294   26.0  \n",
              "4     0.183673  0.731293    294   38.0  \n",
              "...        ...       ...    ...    ...  \n",
              "1017  0.136986  0.794521    146    7.0  \n",
              "1018  0.136986  0.794521    146    8.0  \n",
              "1019  0.136986  0.794521    146    6.0  \n",
              "1020  0.136986  0.794521    146    6.0  \n",
              "1021  0.136986  0.794521    146    1.0  \n",
              "\n",
              "[1022 rows x 11 columns]"
            ],
            "text/html": [
              "\n",
              "  <div id=\"df-caf6bd21-a9e2-4388-bfdc-7d7d39dd82ec\">\n",
              "    <div class=\"colab-df-container\">\n",
              "      <div>\n",
              "<style scoped>\n",
              "    .dataframe tbody tr th:only-of-type {\n",
              "        vertical-align: middle;\n",
              "    }\n",
              "\n",
              "    .dataframe tbody tr th {\n",
              "        vertical-align: top;\n",
              "    }\n",
              "\n",
              "    .dataframe thead th {\n",
              "        text-align: right;\n",
              "    }\n",
              "</style>\n",
              "<table border=\"1\" class=\"dataframe\">\n",
              "  <thead>\n",
              "    <tr style=\"text-align: right;\">\n",
              "      <th></th>\n",
              "      <th>Unnamed: 0</th>\n",
              "      <th>index</th>\n",
              "      <th>item</th>\n",
              "      <th>datetime</th>\n",
              "      <th>q_sold</th>\n",
              "      <th>No_Item</th>\n",
              "      <th>Negative</th>\n",
              "      <th>Neutral</th>\n",
              "      <th>Positive</th>\n",
              "      <th>Total</th>\n",
              "      <th>label</th>\n",
              "    </tr>\n",
              "  </thead>\n",
              "  <tbody>\n",
              "    <tr>\n",
              "      <th>0</th>\n",
              "      <td>0</td>\n",
              "      <td>1</td>\n",
              "      <td>2</td>\n",
              "      <td>2023-03-04</td>\n",
              "      <td>27</td>\n",
              "      <td>2</td>\n",
              "      <td>0.085034</td>\n",
              "      <td>0.183673</td>\n",
              "      <td>0.731293</td>\n",
              "      <td>294</td>\n",
              "      <td>23.0</td>\n",
              "    </tr>\n",
              "    <tr>\n",
              "      <th>1</th>\n",
              "      <td>1</td>\n",
              "      <td>2</td>\n",
              "      <td>2</td>\n",
              "      <td>2023-03-05</td>\n",
              "      <td>23</td>\n",
              "      <td>2</td>\n",
              "      <td>0.085034</td>\n",
              "      <td>0.183673</td>\n",
              "      <td>0.731293</td>\n",
              "      <td>294</td>\n",
              "      <td>48.0</td>\n",
              "    </tr>\n",
              "    <tr>\n",
              "      <th>2</th>\n",
              "      <td>2</td>\n",
              "      <td>3</td>\n",
              "      <td>2</td>\n",
              "      <td>2023-03-06</td>\n",
              "      <td>48</td>\n",
              "      <td>2</td>\n",
              "      <td>0.085034</td>\n",
              "      <td>0.183673</td>\n",
              "      <td>0.731293</td>\n",
              "      <td>294</td>\n",
              "      <td>20.0</td>\n",
              "    </tr>\n",
              "    <tr>\n",
              "      <th>3</th>\n",
              "      <td>3</td>\n",
              "      <td>4</td>\n",
              "      <td>2</td>\n",
              "      <td>2023-03-07</td>\n",
              "      <td>20</td>\n",
              "      <td>2</td>\n",
              "      <td>0.085034</td>\n",
              "      <td>0.183673</td>\n",
              "      <td>0.731293</td>\n",
              "      <td>294</td>\n",
              "      <td>26.0</td>\n",
              "    </tr>\n",
              "    <tr>\n",
              "      <th>4</th>\n",
              "      <td>4</td>\n",
              "      <td>5</td>\n",
              "      <td>2</td>\n",
              "      <td>2023-03-08</td>\n",
              "      <td>26</td>\n",
              "      <td>2</td>\n",
              "      <td>0.085034</td>\n",
              "      <td>0.183673</td>\n",
              "      <td>0.731293</td>\n",
              "      <td>294</td>\n",
              "      <td>38.0</td>\n",
              "    </tr>\n",
              "    <tr>\n",
              "      <th>...</th>\n",
              "      <td>...</td>\n",
              "      <td>...</td>\n",
              "      <td>...</td>\n",
              "      <td>...</td>\n",
              "      <td>...</td>\n",
              "      <td>...</td>\n",
              "      <td>...</td>\n",
              "      <td>...</td>\n",
              "      <td>...</td>\n",
              "      <td>...</td>\n",
              "      <td>...</td>\n",
              "    </tr>\n",
              "    <tr>\n",
              "      <th>1017</th>\n",
              "      <td>1017</td>\n",
              "      <td>1211</td>\n",
              "      <td>295</td>\n",
              "      <td>2023-03-14</td>\n",
              "      <td>18</td>\n",
              "      <td>295</td>\n",
              "      <td>0.068493</td>\n",
              "      <td>0.136986</td>\n",
              "      <td>0.794521</td>\n",
              "      <td>146</td>\n",
              "      <td>7.0</td>\n",
              "    </tr>\n",
              "    <tr>\n",
              "      <th>1018</th>\n",
              "      <td>1018</td>\n",
              "      <td>1212</td>\n",
              "      <td>295</td>\n",
              "      <td>2023-03-15</td>\n",
              "      <td>7</td>\n",
              "      <td>295</td>\n",
              "      <td>0.068493</td>\n",
              "      <td>0.136986</td>\n",
              "      <td>0.794521</td>\n",
              "      <td>146</td>\n",
              "      <td>8.0</td>\n",
              "    </tr>\n",
              "    <tr>\n",
              "      <th>1019</th>\n",
              "      <td>1019</td>\n",
              "      <td>1213</td>\n",
              "      <td>295</td>\n",
              "      <td>2023-03-16</td>\n",
              "      <td>8</td>\n",
              "      <td>295</td>\n",
              "      <td>0.068493</td>\n",
              "      <td>0.136986</td>\n",
              "      <td>0.794521</td>\n",
              "      <td>146</td>\n",
              "      <td>6.0</td>\n",
              "    </tr>\n",
              "    <tr>\n",
              "      <th>1020</th>\n",
              "      <td>1020</td>\n",
              "      <td>1214</td>\n",
              "      <td>295</td>\n",
              "      <td>2023-03-17</td>\n",
              "      <td>6</td>\n",
              "      <td>295</td>\n",
              "      <td>0.068493</td>\n",
              "      <td>0.136986</td>\n",
              "      <td>0.794521</td>\n",
              "      <td>146</td>\n",
              "      <td>6.0</td>\n",
              "    </tr>\n",
              "    <tr>\n",
              "      <th>1021</th>\n",
              "      <td>1021</td>\n",
              "      <td>1215</td>\n",
              "      <td>295</td>\n",
              "      <td>2023-03-18</td>\n",
              "      <td>6</td>\n",
              "      <td>295</td>\n",
              "      <td>0.068493</td>\n",
              "      <td>0.136986</td>\n",
              "      <td>0.794521</td>\n",
              "      <td>146</td>\n",
              "      <td>1.0</td>\n",
              "    </tr>\n",
              "  </tbody>\n",
              "</table>\n",
              "<p>1022 rows × 11 columns</p>\n",
              "</div>\n",
              "      <button class=\"colab-df-convert\" onclick=\"convertToInteractive('df-caf6bd21-a9e2-4388-bfdc-7d7d39dd82ec')\"\n",
              "              title=\"Convert this dataframe to an interactive table.\"\n",
              "              style=\"display:none;\">\n",
              "        \n",
              "  <svg xmlns=\"http://www.w3.org/2000/svg\" height=\"24px\"viewBox=\"0 0 24 24\"\n",
              "       width=\"24px\">\n",
              "    <path d=\"M0 0h24v24H0V0z\" fill=\"none\"/>\n",
              "    <path d=\"M18.56 5.44l.94 2.06.94-2.06 2.06-.94-2.06-.94-.94-2.06-.94 2.06-2.06.94zm-11 1L8.5 8.5l.94-2.06 2.06-.94-2.06-.94L8.5 2.5l-.94 2.06-2.06.94zm10 10l.94 2.06.94-2.06 2.06-.94-2.06-.94-.94-2.06-.94 2.06-2.06.94z\"/><path d=\"M17.41 7.96l-1.37-1.37c-.4-.4-.92-.59-1.43-.59-.52 0-1.04.2-1.43.59L10.3 9.45l-7.72 7.72c-.78.78-.78 2.05 0 2.83L4 21.41c.39.39.9.59 1.41.59.51 0 1.02-.2 1.41-.59l7.78-7.78 2.81-2.81c.8-.78.8-2.07 0-2.86zM5.41 20L4 18.59l7.72-7.72 1.47 1.35L5.41 20z\"/>\n",
              "  </svg>\n",
              "      </button>\n",
              "      \n",
              "  <style>\n",
              "    .colab-df-container {\n",
              "      display:flex;\n",
              "      flex-wrap:wrap;\n",
              "      gap: 12px;\n",
              "    }\n",
              "\n",
              "    .colab-df-convert {\n",
              "      background-color: #E8F0FE;\n",
              "      border: none;\n",
              "      border-radius: 50%;\n",
              "      cursor: pointer;\n",
              "      display: none;\n",
              "      fill: #1967D2;\n",
              "      height: 32px;\n",
              "      padding: 0 0 0 0;\n",
              "      width: 32px;\n",
              "    }\n",
              "\n",
              "    .colab-df-convert:hover {\n",
              "      background-color: #E2EBFA;\n",
              "      box-shadow: 0px 1px 2px rgba(60, 64, 67, 0.3), 0px 1px 3px 1px rgba(60, 64, 67, 0.15);\n",
              "      fill: #174EA6;\n",
              "    }\n",
              "\n",
              "    [theme=dark] .colab-df-convert {\n",
              "      background-color: #3B4455;\n",
              "      fill: #D2E3FC;\n",
              "    }\n",
              "\n",
              "    [theme=dark] .colab-df-convert:hover {\n",
              "      background-color: #434B5C;\n",
              "      box-shadow: 0px 1px 3px 1px rgba(0, 0, 0, 0.15);\n",
              "      filter: drop-shadow(0px 1px 2px rgba(0, 0, 0, 0.3));\n",
              "      fill: #FFFFFF;\n",
              "    }\n",
              "  </style>\n",
              "\n",
              "      <script>\n",
              "        const buttonEl =\n",
              "          document.querySelector('#df-caf6bd21-a9e2-4388-bfdc-7d7d39dd82ec button.colab-df-convert');\n",
              "        buttonEl.style.display =\n",
              "          google.colab.kernel.accessAllowed ? 'block' : 'none';\n",
              "\n",
              "        async function convertToInteractive(key) {\n",
              "          const element = document.querySelector('#df-caf6bd21-a9e2-4388-bfdc-7d7d39dd82ec');\n",
              "          const dataTable =\n",
              "            await google.colab.kernel.invokeFunction('convertToInteractive',\n",
              "                                                     [key], {});\n",
              "          if (!dataTable) return;\n",
              "\n",
              "          const docLinkHtml = 'Like what you see? Visit the ' +\n",
              "            '<a target=\"_blank\" href=https://colab.research.google.com/notebooks/data_table.ipynb>data table notebook</a>'\n",
              "            + ' to learn more about interactive tables.';\n",
              "          element.innerHTML = '';\n",
              "          dataTable['output_type'] = 'display_data';\n",
              "          await google.colab.output.renderOutput(dataTable, element);\n",
              "          const docLink = document.createElement('div');\n",
              "          docLink.innerHTML = docLinkHtml;\n",
              "          element.appendChild(docLink);\n",
              "        }\n",
              "      </script>\n",
              "    </div>\n",
              "  </div>\n",
              "  "
            ]
          },
          "metadata": {},
          "execution_count": 79
        }
      ],
      "source": [
        "df"
      ]
    },
    {
      "cell_type": "code",
      "execution_count": null,
      "metadata": {
        "colab": {
          "base_uri": "https://localhost:8080/"
        },
        "id": "e8F9lpUioLbu",
        "outputId": "653a4e9e-914f-467f-fdc6-13d864cdef3c"
      },
      "outputs": [
        {
          "output_type": "stream",
          "name": "stderr",
          "text": [
            "100%|██████████| 300/300 [00:00<00:00, 2109.34it/s]\n"
          ]
        }
      ],
      "source": [
        "metrics = ['r2', 'mse', 'mae', 'rmse']\n",
        "\n",
        "loss = {}\n",
        "for i in method:\n",
        "    if i not in loss.keys():\n",
        "        loss[i] = {}\n",
        "    for j in metrics:\n",
        "        if j not in loss[i].keys():\n",
        "            loss[i][j] = []\n",
        "\n",
        "X_train, y_train, X_test, y_test = split(df, method='by_item', regressor=True, sentiment=False, multi_model=False, n=1)\n",
        "# , sentiment=True, rating=True\n"
      ]
    },
    {
      "cell_type": "code",
      "execution_count": null,
      "metadata": {
        "id": "9F0xm15coLbu"
      },
      "outputs": [],
      "source": [
        "clf.fit(X_train, y_train)\n",
        "y_hat = clf.predict(X_test)\n",
        "\n",
        "\n",
        "print(\"R2 score  :\", r2_score(y_test, y_hat))\n",
        "print(\"MSE score  :\", mean_squared_error(y_test, y_hat))\n",
        "print(\"MAE score :\", mean_absolute_error(y_test, y_hat))\n",
        "print(\"RMSE: \", sqrt(mean_squared_error(y_test, y_hat)))"
      ]
    },
    {
      "cell_type": "code",
      "execution_count": null,
      "metadata": {
        "colab": {
          "base_uri": "https://localhost:8080/"
        },
        "id": "zh_ql40yoLbu",
        "outputId": "b2ea6884-9ecc-4e6f-fbae-9c5b4435800c"
      },
      "outputs": [
        {
          "name": "stdout",
          "output_type": "stream",
          "text": [
            "R2 score  : 0.5005379415416727\n",
            "MSE score  : 99.61000233400982\n",
            "MAE score : 4.795361843516832\n",
            "RMSE:  9.980481067263733\n"
          ]
        }
      ],
      "source": [
        "DTRmodel.fit(X_train, y_train)\n",
        "y_hat = DTRmodel.predict(X_test)\n",
        "\n",
        "\n",
        "print(\"R2 score  :\", r2_score(y_test, y_hat))\n",
        "print(\"MSE score  :\", mean_squared_error(y_test, y_hat))\n",
        "print(\"MAE score :\", mean_absolute_error(y_test, y_hat))\n",
        "print(\"RMSE: \", sqrt(mean_squared_error(y_test, y_hat)))"
      ]
    },
    {
      "cell_type": "code",
      "execution_count": null,
      "metadata": {
        "colab": {
          "base_uri": "https://localhost:8080/"
        },
        "id": "iZE4lgu9oLbu",
        "outputId": "1e64bfc9-ee22-4ff6-be06-fc5f62a91699"
      },
      "outputs": [
        {
          "name": "stderr",
          "output_type": "stream",
          "text": [
            "<ipython-input-84-7f5c06b6b784>:1: DataConversionWarning: A column-vector y was passed when a 1d array was expected. Please change the shape of y to (n_samples,), for example using ravel().\n",
            "  RFRmodel.fit(X_train, y_train)\n"
          ]
        },
        {
          "name": "stdout",
          "output_type": "stream",
          "text": [
            "R2 score  : 0.5635926106827668\n",
            "MSE score  : 87.03472132127071\n",
            "MAE score : 4.55470229424392\n",
            "RMSE:  9.329240125608875\n"
          ]
        }
      ],
      "source": [
        "RFRmodel.fit(X_train, y_train)\n",
        "y_hat = RFRmodel.predict(X_test)\n",
        "\n",
        "\n",
        "print(\"R2 score  :\", r2_score(y_test, y_hat))\n",
        "print(\"MSE score  :\", mean_squared_error(y_test, y_hat))\n",
        "print(\"MAE score :\", mean_absolute_error(y_test, y_hat))\n",
        "print(\"RMSE: \", sqrt(mean_squared_error(y_test, y_hat)))"
      ]
    },
    {
      "cell_type": "markdown",
      "metadata": {
        "id": "KaIlzAagoLbu"
      },
      "source": [
        "# ARIMA - LSTM"
      ]
    },
    {
      "cell_type": "code",
      "execution_count": null,
      "metadata": {
        "id": "TlMLJONSqTHp"
      },
      "outputs": [],
      "source": [
        "train, test = df[df[\"datetime\"] <= \"2023-04-09\"],df[df[\"datetime\"] > \"2023-04-09\"]\n",
        "\n",
        "X_train, y_train = train[[\"q_sold\",\"item\"]], train[\"label\"]\n",
        "X_test, y_test = test[[\"q_sold\",\"item\"]], test[\"label\"]"
      ]
    },
    {
      "cell_type": "code",
      "execution_count": null,
      "metadata": {
        "colab": {
          "base_uri": "https://localhost:8080/"
        },
        "id": "MSdFzlQiqTHq",
        "outputId": "12c269d9-de7e-4aeb-9f65-df55c2db830c"
      },
      "outputs": [
        {
          "output_type": "stream",
          "name": "stderr",
          "text": [
            "/usr/local/lib/python3.9/dist-packages/statsmodels/tsa/base/tsa_model.py:471: ValueWarning: An unsupported index was provided and will be ignored when e.g. forecasting.\n",
            "  self._init_dates(dates, freq)\n",
            "/usr/local/lib/python3.9/dist-packages/statsmodels/tsa/base/tsa_model.py:471: ValueWarning: An unsupported index was provided and will be ignored when e.g. forecasting.\n",
            "  self._init_dates(dates, freq)\n",
            "/usr/local/lib/python3.9/dist-packages/statsmodels/tsa/base/tsa_model.py:471: ValueWarning: An unsupported index was provided and will be ignored when e.g. forecasting.\n",
            "  self._init_dates(dates, freq)\n"
          ]
        },
        {
          "output_type": "stream",
          "name": "stdout",
          "text": [
            "                               SARIMAX Results                                \n",
            "==============================================================================\n",
            "Dep. Variable:                 q_sold   No. Observations:                10105\n",
            "Model:                 ARIMA(1, 1, 1)   Log Likelihood              -35288.538\n",
            "Date:                Thu, 27 Apr 2023   AIC                          70583.077\n",
            "Time:                        10:48:11   BIC                          70604.739\n",
            "Sample:                             0   HQIC                         70590.405\n",
            "                              - 10105                                         \n",
            "Covariance Type:                  opg                                         \n",
            "==============================================================================\n",
            "                 coef    std err          z      P>|z|      [0.025      0.975]\n",
            "------------------------------------------------------------------------------\n",
            "ar.L1          0.0600      0.007      8.895      0.000       0.047       0.073\n",
            "ma.L1         -0.4499      0.007    -68.781      0.000      -0.463      -0.437\n",
            "sigma2        63.2615      0.174    363.050      0.000      62.920      63.603\n",
            "===================================================================================\n",
            "Ljung-Box (L1) (Q):                   0.00   Jarque-Bera (JB):           1072406.28\n",
            "Prob(Q):                              0.98   Prob(JB):                         0.00\n",
            "Heteroskedasticity (H):               1.62   Skew:                             2.14\n",
            "Prob(H) (two-sided):                  0.00   Kurtosis:                        53.29\n",
            "===================================================================================\n",
            "\n",
            "Warnings:\n",
            "[1] Covariance matrix calculated using the outer product of gradients (complex-step).\n"
          ]
        }
      ],
      "source": [
        "from statsmodels.tsa.arima.model import ARIMA\n",
        "\n",
        "model_arima = ARIMA(train['q_sold'], order = (1, 1, 1)) # p,m,q: dieu chinh predict value vs data qk p: 1 value qk-> 1 value tuong lai\n",
        "model = model_arima.fit()\n",
        "print(model.summary())"
      ]
    },
    {
      "cell_type": "code",
      "execution_count": null,
      "metadata": {
        "id": "-xpUSp2CqTHq"
      },
      "outputs": [],
      "source": [
        "import matplotlib.pyplot as plt\n",
        "import math\n",
        "history = train[\"q_sold\"].values.tolist()\n",
        "test_ = test[\"q_sold\"].values.tolist()\n",
        "predictions = list()\n",
        "for index in tqdm(range(len(test))):\n",
        "    model = ARIMA(history, order=(1,1,1))\n",
        "    model_fit = model.fit()\n",
        "    output = model_fit.forecast()\n",
        "    y_pred = output[0]\n",
        "    predictions.append(y_pred)\n",
        "    obs = test_[index]\n",
        "    history.append(obs)"
      ]
    },
    {
      "cell_type": "code",
      "execution_count": null,
      "metadata": {
        "id": "p_Y-Y7_-oLbu",
        "colab": {
          "base_uri": "https://localhost:8080/",
          "height": 745
        },
        "outputId": "773ded20-5ecb-4677-bb4d-65bd31ad96a7"
      },
      "outputs": [
        {
          "output_type": "stream",
          "name": "stdout",
          "text": [
            "Test RMSE: 16.938\n",
            "R2 score  : 0.11668387467020047\n",
            "MSE score  : 286.88078400970375\n",
            "MAE score : 7.080095939828274\n"
          ]
        },
        {
          "output_type": "display_data",
          "data": {
            "text/plain": [
              "<Figure size 1600x800 with 1 Axes>"
            ],
            "image/png": "[encoded data removed]"
          },
          "metadata": {}
        }
      ],
      "source": [
        "rmse = math.sqrt(mean_squared_error(test_, predictions))\n",
        "print('Test RMSE: %.3f' % rmse)\n",
        "print(\"R2 score  :\", r2_score(test_, predictions))\n",
        "print(\"MSE score  :\", mean_squared_error(test_, predictions))\n",
        "print(\"MAE score :\", mean_absolute_error(test_, predictions))\n",
        "\n",
        "plt.figure(figsize=(16,8))\n",
        "plt.plot(test[\"q_sold\"].reset_index(drop = True))\n",
        "plt.plot(predictions, color='red')\n",
        "plt.show()"
      ]
    },
    {
      "cell_type": "code",
      "execution_count": null,
      "metadata": {
        "id": "U5SqIknGoLbv",
        "colab": {
          "base_uri": "https://localhost:8080/",
          "height": 887
        },
        "outputId": "b447bc2c-7ad4-4832-c747-44d15e38258d"
      },
      "outputs": [
        {
          "output_type": "stream",
          "name": "stderr",
          "text": [
            "  8%|▊         | 23/299 [00:03<00:52,  5.25it/s]/usr/local/lib/python3.9/dist-packages/statsmodels/base/model.py:604: ConvergenceWarning: Maximum Likelihood optimization failed to converge. Check mle_retvals\n",
            "  warnings.warn(\"Maximum Likelihood optimization failed to \"\n",
            " 10%|█         | 31/299 [00:04<00:34,  7.79it/s]/usr/local/lib/python3.9/dist-packages/statsmodels/tsa/statespace/sarimax.py:966: UserWarning: Non-stationary starting autoregressive parameters found. Using zeros as starting parameters.\n",
            "  warn('Non-stationary starting autoregressive parameters'\n",
            "/usr/local/lib/python3.9/dist-packages/statsmodels/tsa/statespace/sarimax.py:978: UserWarning: Non-invertible starting MA parameters found. Using zeros as starting parameters.\n",
            "  warn('Non-invertible starting MA parameters found.'\n",
            "100%|██████████| 299/299 [00:49<00:00,  6.01it/s]\n"
          ]
        },
        {
          "output_type": "stream",
          "name": "stdout",
          "text": [
            "R2 score  : 0.5315093915725797\n",
            "MSE score  : 150.86907686781782\n",
            "MAE score : 4.745918395791772\n",
            "Test RMSE: 12.283\n"
          ]
        },
        {
          "output_type": "display_data",
          "data": {
            "text/plain": [
              "<Figure size 1600x800 with 1 Axes>"
            ],
            "image/png": "[encoded data removed]"
          },
          "metadata": {}
        }
      ],
      "source": [
        "predictions = list()\n",
        "test_item = []\n",
        "for item in tqdm(range(1,train.item.nunique())):\n",
        "     history = X_train[X_train[\"item\"] == item][\"q_sold\"].values.tolist()\n",
        "     test_ = X_test[X_test[\"item\"] == item][\"q_sold\"].values.tolist()\n",
        "     if len(history) > 2:\n",
        "          for index in range(len(test_)):\n",
        "               model = ARIMA(history, order=(1,1,1))\n",
        "               model_fit = model.fit()\n",
        "               output = model_fit.forecast()\n",
        "               y_pred = output[0]\n",
        "               predictions.append(y_pred)\n",
        "               obs = test_[index]\n",
        "               history.append(obs)\n",
        "          test_item.extend(test_)\n",
        "         # print('predicted=%f, expected=%f' % (y_pred, obs))\n",
        "\n",
        "\n",
        "rmse = sqrt(mean_squared_error(test_item, predictions))\n",
        "print(\"R2 score  :\", r2_score(test_item, predictions))\n",
        "print(\"MSE score  :\", mean_squared_error(test_item, predictions))\n",
        "print(\"MAE score :\", mean_absolute_error(test_item, predictions))\n",
        "# print(\"MSLE score :\", mean_squared_log_error(test_item, predictions))\n",
        "print('Test RMSE: %.3f' % rmse)\n",
        "\n",
        "plt.figure(figsize=(16,8))\n",
        "plt.plot(test[\"q_sold\"].reset_index(drop = True))\n",
        "plt.plot(predictions, color='red')\n",
        "plt.show()"
      ]
    },
    {
      "cell_type": "markdown",
      "metadata": {
        "id": "PH0awNOGoLbv"
      },
      "source": [
        "## LSTM"
      ]
    },
    {
      "cell_type": "code",
      "execution_count": null,
      "metadata": {
        "id": "8NiN74aMqTHt"
      },
      "outputs": [],
      "source": [
        "from sklearn.metrics import mean_squared_error\n",
        "from sklearn.preprocessing import MinMaxScaler\n",
        "from tensorflow.keras.layers import Reshape, Dropout, Dense,Multiply, Dot, Concatenate, Embedding, Flatten\n",
        "from tensorflow.keras.models import load_model\n",
        "\n",
        "from tensorflow.python import keras\n",
        "from tensorflow.keras.models import Sequential\n",
        "from keras.layers import Dense\n",
        "from keras.layers import LSTM"
      ]
    },
    {
      "cell_type": "code",
      "execution_count": null,
      "metadata": {
        "colab": {
          "base_uri": "https://localhost:8080/"
        },
        "id": "PhBQIerlqTHt",
        "outputId": "520e9fd8-0060-48a3-8628-3cff0b3c2e8d"
      },
      "outputs": [
        {
          "output_type": "stream",
          "name": "stderr",
          "text": [
            "100%|██████████| 300/300 [00:00<00:00, 989.89it/s]\n",
            "100%|██████████| 300/300 [00:00<00:00, 1447.59it/s]\n"
          ]
        },
        {
          "output_type": "stream",
          "name": "stdout",
          "text": [
            "Model: \"sequential_1\"\n",
            "_________________________________________________________________\n",
            " Layer (type)                Output Shape              Param #   \n",
            "=================================================================\n",
            " lstm_2 (LSTM)               (None, 6, 16)             1152      \n",
            "                                                                 \n",
            " lstm_3 (LSTM)               (None, 6, 32)             6272      \n",
            "                                                                 \n",
            " flatten_1 (Flatten)         (None, 192)               0         \n",
            "                                                                 \n",
            " dropout_3 (Dropout)         (None, 192)               0         \n",
            "                                                                 \n",
            " dense_3 (Dense)             (None, 16)                3088      \n",
            "                                                                 \n",
            " dropout_4 (Dropout)         (None, 16)                0         \n",
            "                                                                 \n",
            " dense_4 (Dense)             (None, 8)                 136       \n",
            "                                                                 \n",
            " dropout_5 (Dropout)         (None, 8)                 0         \n",
            "                                                                 \n",
            " dense_5 (Dense)             (None, 1)                 9         \n",
            "                                                                 \n",
            "=================================================================\n",
            "Total params: 10,657\n",
            "Trainable params: 10,657\n",
            "Non-trainable params: 0\n",
            "_________________________________________________________________\n",
            "Epoch 1/100\n",
            "95/95 [==============================] - ETA: 0s - loss: 176.0191 - mean_squared_error: 176.0191 - mean_absolute_error: 8.4701 - r2_score: -0.3571"
          ]
        },
        {
          "output_type": "stream",
          "name": "stderr",
          "text": [
            "/usr/local/lib/python3.9/dist-packages/tensorflow/python/autograph/impl/api.py:371: UndefinedMetricWarning: R^2 score is not well-defined with less than two samples.\n",
            "  return py_builtins.overload_of(f)(*args)\n",
            "WARNING:absl:Found untraced functions such as _update_step_xla, lstm_cell_4_layer_call_fn, lstm_cell_4_layer_call_and_return_conditional_losses, lstm_cell_5_layer_call_fn, lstm_cell_5_layer_call_and_return_conditional_losses while saving (showing 5 of 5). These functions will not be directly callable after loading.\n"
          ]
        },
        {
          "output_type": "stream",
          "name": "stdout",
          "text": [
            "\b\b\b\b\b\b\b\b\b\b\b\b\b\b\b\b\b\b\b\b\b\b\b\b\b\b\b\b\b\b\b\b\b\b\b\b\b\b\b\b\b\b\b\b\b\b\b\b\b\b\b\b\b\b\b\b\b\b\b\b\b\b\b\b\b\b\b\b\b\b\b\b\b\b\b\b\b\b\b\b\b\b\b\b\b\b\b\b\b\b\b\b\b\b\b\b\b\b\b\b\b\b\b\b\b\b\b\b\b\b\b\b\b\b\b\b\b\b\b\b\b\b\b\b\b\b\b\b\b\b\b\b\b\b\b\b\b\b\b\b\b\b\b\b\b\b\r95/95 [==============================] - 59s 625ms/step - loss: 176.0191 - mean_squared_error: 176.0191 - mean_absolute_error: 8.4701 - r2_score: -0.3571 - val_loss: 190.6667 - val_mean_squared_error: 190.6667 - val_mean_absolute_error: 8.1366 - val_r2_score: nan\n",
            "Epoch 2/100\n",
            "95/95 [==============================] - ETA: 0s - loss: 115.5550 - mean_squared_error: 115.5550 - mean_absolute_error: 6.9708 - r2_score: 0.1023"
          ]
        },
        {
          "output_type": "stream",
          "name": "stderr",
          "text": [
            "/usr/local/lib/python3.9/dist-packages/tensorflow/python/autograph/impl/api.py:371: UndefinedMetricWarning: R^2 score is not well-defined with less than two samples.\n",
            "  return py_builtins.overload_of(f)(*args)\n",
            "WARNING:absl:Found untraced functions such as _update_step_xla, lstm_cell_4_layer_call_fn, lstm_cell_4_layer_call_and_return_conditional_losses, lstm_cell_5_layer_call_fn, lstm_cell_5_layer_call_and_return_conditional_losses while saving (showing 5 of 5). These functions will not be directly callable after loading.\n"
          ]
        },
        {
          "output_type": "stream",
          "name": "stdout",
          "text": [
            "\b\b\b\b\b\b\b\b\b\b\b\b\b\b\b\b\b\b\b\b\b\b\b\b\b\b\b\b\b\b\b\b\b\b\b\b\b\b\b\b\b\b\b\b\b\b\b\b\b\b\b\b\b\b\b\b\b\b\b\b\b\b\b\b\b\b\b\b\b\b\b\b\b\b\b\b\b\b\b\b\b\b\b\b\b\b\b\b\b\b\b\b\b\b\b\b\b\b\b\b\b\b\b\b\b\b\b\b\b\b\b\b\b\b\b\b\b\b\b\b\b\b\b\b\b\b\b\b\b\b\b\b\b\b\b\b\b\b\b\b\b\b\b\b\b\r95/95 [==============================] - 69s 727ms/step - loss: 115.5550 - mean_squared_error: 115.5550 - mean_absolute_error: 6.9708 - r2_score: 0.1023 - val_loss: 120.3290 - val_mean_squared_error: 120.3290 - val_mean_absolute_error: 5.0404 - val_r2_score: nan\n",
            "Epoch 3/100\n",
            "95/95 [==============================] - ETA: 0s - loss: 77.5049 - mean_squared_error: 77.5049 - mean_absolute_error: 5.6964 - r2_score: 0.3219"
          ]
        },
        {
          "output_type": "stream",
          "name": "stderr",
          "text": [
            "/usr/local/lib/python3.9/dist-packages/tensorflow/python/autograph/impl/api.py:371: UndefinedMetricWarning: R^2 score is not well-defined with less than two samples.\n",
            "  return py_builtins.overload_of(f)(*args)\n",
            "WARNING:absl:Found untraced functions such as _update_step_xla, lstm_cell_4_layer_call_fn, lstm_cell_4_layer_call_and_return_conditional_losses, lstm_cell_5_layer_call_fn, lstm_cell_5_layer_call_and_return_conditional_losses while saving (showing 5 of 5). These functions will not be directly callable after loading.\n"
          ]
        },
        {
          "output_type": "stream",
          "name": "stdout",
          "text": [
            "\b\b\b\b\b\b\b\b\b\b\b\b\b\b\b\b\b\b\b\b\b\b\b\b\b\b\b\b\b\b\b\b\b\b\b\b\b\b\b\b\b\b\b\b\b\b\b\b\b\b\b\b\b\b\b\b\b\b\b\b\b\b\b\b\b\b\b\b\b\b\b\b\b\b\b\b\b\b\b\b\b\b\b\b\b\b\b\b\b\b\b\b\b\b\b\b\b\b\b\b\b\b\b\b\b\b\b\b\b\b\b\b\b\b\b\b\b\b\b\b\b\b\b\b\b\b\b\b\b\b\b\b\b\b\b\b\b\b\b\b\b\b\b\r95/95 [==============================] - 59s 629ms/step - loss: 77.5049 - mean_squared_error: 77.5049 - mean_absolute_error: 5.6964 - r2_score: 0.3219 - val_loss: 102.5959 - val_mean_squared_error: 102.5959 - val_mean_absolute_error: 4.7559 - val_r2_score: nan\n",
            "Epoch 4/100\n",
            "95/95 [==============================] - ETA: 0s - loss: 71.0038 - mean_squared_error: 71.0038 - mean_absolute_error: 5.4646 - r2_score: 0.3924"
          ]
        },
        {
          "output_type": "stream",
          "name": "stderr",
          "text": [
            "/usr/local/lib/python3.9/dist-packages/tensorflow/python/autograph/impl/api.py:371: UndefinedMetricWarning: R^2 score is not well-defined with less than two samples.\n",
            "  return py_builtins.overload_of(f)(*args)\n",
            "WARNING:absl:Found untraced functions such as _update_step_xla, lstm_cell_4_layer_call_fn, lstm_cell_4_layer_call_and_return_conditional_losses, lstm_cell_5_layer_call_fn, lstm_cell_5_layer_call_and_return_conditional_losses while saving (showing 5 of 5). These functions will not be directly callable after loading.\n"
          ]
        },
        {
          "output_type": "stream",
          "name": "stdout",
          "text": [
            "\b\b\b\b\b\b\b\b\b\b\b\b\b\b\b\b\b\b\b\b\b\b\b\b\b\b\b\b\b\b\b\b\b\b\b\b\b\b\b\b\b\b\b\b\b\b\b\b\b\b\b\b\b\b\b\b\b\b\b\b\b\b\b\b\b\b\b\b\b\b\b\b\b\b\b\b\b\b\b\b\b\b\b\b\b\b\b\b\b\b\b\b\b\b\b\b\b\b\b\b\b\b\b\b\b\b\b\b\b\b\b\b\b\b\b\b\b\b\b\b\b\b\b\b\b\b\b\b\b\b\b\b\b\b\b\b\b\b\b\b\b\b\b\r95/95 [==============================] - 69s 737ms/step - loss: 71.0038 - mean_squared_error: 71.0038 - mean_absolute_error: 5.4646 - r2_score: 0.3924 - val_loss: 94.9502 - val_mean_squared_error: 94.9502 - val_mean_absolute_error: 4.7824 - val_r2_score: nan\n",
            "Epoch 5/100\n",
            "95/95 [==============================] - ETA: 0s - loss: 73.5959 - mean_squared_error: 73.5959 - mean_absolute_error: 5.5322 - r2_score: 0.3237"
          ]
        },
        {
          "output_type": "stream",
          "name": "stderr",
          "text": [
            "/usr/local/lib/python3.9/dist-packages/tensorflow/python/autograph/impl/api.py:371: UndefinedMetricWarning: R^2 score is not well-defined with less than two samples.\n",
            "  return py_builtins.overload_of(f)(*args)\n",
            "WARNING:absl:Found untraced functions such as _update_step_xla, lstm_cell_4_layer_call_fn, lstm_cell_4_layer_call_and_return_conditional_losses, lstm_cell_5_layer_call_fn, lstm_cell_5_layer_call_and_return_conditional_losses while saving (showing 5 of 5). These functions will not be directly callable after loading.\n"
          ]
        },
        {
          "output_type": "stream",
          "name": "stdout",
          "text": [
            "\b\b\b\b\b\b\b\b\b\b\b\b\b\b\b\b\b\b\b\b\b\b\b\b\b\b\b\b\b\b\b\b\b\b\b\b\b\b\b\b\b\b\b\b\b\b\b\b\b\b\b\b\b\b\b\b\b\b\b\b\b\b\b\b\b\b\b\b\b\b\b\b\b\b\b\b\b\b\b\b\b\b\b\b\b\b\b\b\b\b\b\b\b\b\b\b\b\b\b\b\b\b\b\b\b\b\b\b\b\b\b\b\b\b\b\b\b\b\b\b\b\b\b\b\b\b\b\b\b\b\b\b\b\b\b\b\b\b\b\b\b\b\b\r95/95 [==============================] - 69s 729ms/step - loss: 73.5959 - mean_squared_error: 73.5959 - mean_absolute_error: 5.5322 - r2_score: 0.3237 - val_loss: 94.0283 - val_mean_squared_error: 94.0283 - val_mean_absolute_error: 5.1383 - val_r2_score: nan\n",
            "Epoch 6/100\n",
            "95/95 [==============================] - ETA: 0s - loss: 64.7701 - mean_squared_error: 64.7701 - mean_absolute_error: 5.2557 - r2_score: 0.4680"
          ]
        },
        {
          "output_type": "stream",
          "name": "stderr",
          "text": [
            "/usr/local/lib/python3.9/dist-packages/tensorflow/python/autograph/impl/api.py:371: UndefinedMetricWarning: R^2 score is not well-defined with less than two samples.\n",
            "  return py_builtins.overload_of(f)(*args)\n"
          ]
        },
        {
          "output_type": "stream",
          "name": "stdout",
          "text": [
            "\b\b\b\b\b\b\b\b\b\b\b\b\b\b\b\b\b\b\b\b\b\b\b\b\b\b\b\b\b\b\b\b\b\b\b\b\b\b\b\b\b\b\b\b\b\b\b\b\b\b\b\b\b\b\b\b\b\b\b\b\b\b\b\b\b\b\b\b\b\b\b\b\b\b\b\b\b\b\b\b\b\b\b\b\b\b\b\b\b\b\b\b\b\b\b\b\b\b\b\b\b\b\b\b\b\b\b\b\b\b\b\b\b\b\b\b\b\b\b\b\b\b\b\b\b\b\b\b\b\b\b\b\b\b\b\b\b\b\b\b\b\b\b\r95/95 [==============================] - 58s 615ms/step - loss: 64.7701 - mean_squared_error: 64.7701 - mean_absolute_error: 5.2557 - r2_score: 0.4680 - val_loss: 94.2080 - val_mean_squared_error: 94.2080 - val_mean_absolute_error: 4.5659 - val_r2_score: nan\n",
            "Epoch 7/100\n",
            "95/95 [==============================] - ETA: 0s - loss: 65.4291 - mean_squared_error: 65.4291 - mean_absolute_error: 5.3100 - r2_score: 0.3909"
          ]
        },
        {
          "output_type": "stream",
          "name": "stderr",
          "text": [
            "/usr/local/lib/python3.9/dist-packages/tensorflow/python/autograph/impl/api.py:371: UndefinedMetricWarning: R^2 score is not well-defined with less than two samples.\n",
            "  return py_builtins.overload_of(f)(*args)\n",
            "WARNING:absl:Found untraced functions such as _update_step_xla, lstm_cell_4_layer_call_fn, lstm_cell_4_layer_call_and_return_conditional_losses, lstm_cell_5_layer_call_fn, lstm_cell_5_layer_call_and_return_conditional_losses while saving (showing 5 of 5). These functions will not be directly callable after loading.\n"
          ]
        },
        {
          "output_type": "stream",
          "name": "stdout",
          "text": [
            "\b\b\b\b\b\b\b\b\b\b\b\b\b\b\b\b\b\b\b\b\b\b\b\b\b\b\b\b\b\b\b\b\b\b\b\b\b\b\b\b\b\b\b\b\b\b\b\b\b\b\b\b\b\b\b\b\b\b\b\b\b\b\b\b\b\b\b\b\b\b\b\b\b\b\b\b\b\b\b\b\b\b\b\b\b\b\b\b\b\b\b\b\b\b\b\b\b\b\b\b\b\b\b\b\b\b\b\b\b\b\b\b\b\b\b\b\b\b\b\b\b\b\b\b\b\b\b\b\b\b\b\b\b\b\b\b\b\b\b\b\b\b\b\r95/95 [==============================] - 54s 573ms/step - loss: 65.4291 - mean_squared_error: 65.4291 - mean_absolute_error: 5.3100 - r2_score: 0.3909 - val_loss: 92.8233 - val_mean_squared_error: 92.8233 - val_mean_absolute_error: 4.7617 - val_r2_score: nan\n",
            "Epoch 8/100\n",
            "95/95 [==============================] - ETA: 0s - loss: 64.1819 - mean_squared_error: 64.1819 - mean_absolute_error: 5.2137 - r2_score: 0.4203"
          ]
        },
        {
          "output_type": "stream",
          "name": "stderr",
          "text": [
            "/usr/local/lib/python3.9/dist-packages/tensorflow/python/autograph/impl/api.py:371: UndefinedMetricWarning: R^2 score is not well-defined with less than two samples.\n",
            "  return py_builtins.overload_of(f)(*args)\n",
            "WARNING:absl:Found untraced functions such as _update_step_xla, lstm_cell_4_layer_call_fn, lstm_cell_4_layer_call_and_return_conditional_losses, lstm_cell_5_layer_call_fn, lstm_cell_5_layer_call_and_return_conditional_losses while saving (showing 5 of 5). These functions will not be directly callable after loading.\n"
          ]
        },
        {
          "output_type": "stream",
          "name": "stdout",
          "text": [
            "\b\b\b\b\b\b\b\b\b\b\b\b\b\b\b\b\b\b\b\b\b\b\b\b\b\b\b\b\b\b\b\b\b\b\b\b\b\b\b\b\b\b\b\b\b\b\b\b\b\b\b\b\b\b\b\b\b\b\b\b\b\b\b\b\b\b\b\b\b\b\b\b\b\b\b\b\b\b\b\b\b\b\b\b\b\b\b\b\b\b\b\b\b\b\b\b\b\b\b\b\b\b\b\b\b\b\b\b\b\b\b\b\b\b\b\b\b\b\b\b\b\b\b\b\b\b\b\b\b\b\b\b\b\b\b\b\b\b\b\b\b\b\b\r95/95 [==============================] - 70s 741ms/step - loss: 64.1819 - mean_squared_error: 64.1819 - mean_absolute_error: 5.2137 - r2_score: 0.4203 - val_loss: 88.9296 - val_mean_squared_error: 88.9296 - val_mean_absolute_error: 4.6421 - val_r2_score: nan\n",
            "Epoch 9/100\n",
            "95/95 [==============================] - ETA: 0s - loss: 64.7430 - mean_squared_error: 64.7430 - mean_absolute_error: 5.2313 - r2_score: 0.4085"
          ]
        },
        {
          "output_type": "stream",
          "name": "stderr",
          "text": [
            "/usr/local/lib/python3.9/dist-packages/tensorflow/python/autograph/impl/api.py:371: UndefinedMetricWarning: R^2 score is not well-defined with less than two samples.\n",
            "  return py_builtins.overload_of(f)(*args)\n",
            "WARNING:absl:Found untraced functions such as _update_step_xla, lstm_cell_4_layer_call_fn, lstm_cell_4_layer_call_and_return_conditional_losses, lstm_cell_5_layer_call_fn, lstm_cell_5_layer_call_and_return_conditional_losses while saving (showing 5 of 5). These functions will not be directly callable after loading.\n"
          ]
        },
        {
          "output_type": "stream",
          "name": "stdout",
          "text": [
            "\b\b\b\b\b\b\b\b\b\b\b\b\b\b\b\b\b\b\b\b\b\b\b\b\b\b\b\b\b\b\b\b\b\b\b\b\b\b\b\b\b\b\b\b\b\b\b\b\b\b\b\b\b\b\b\b\b\b\b\b\b\b\b\b\b\b\b\b\b\b\b\b\b\b\b\b\b\b\b\b\b\b\b\b\b\b\b\b\b\b\b\b\b\b\b\b\b\b\b\b\b\b\b\b\b\b\b\b\b\b\b\b\b\b\b\b\b\b\b\b\b\b\b\b\b\b\b\b\b\b\b\b\b\b\b\b\b\b\b\b\b\b\b\r95/95 [==============================] - 53s 564ms/step - loss: 64.7430 - mean_squared_error: 64.7430 - mean_absolute_error: 5.2313 - r2_score: 0.4085 - val_loss: 87.8751 - val_mean_squared_error: 87.8751 - val_mean_absolute_error: 4.5887 - val_r2_score: nan\n",
            "Epoch 10/100\n",
            "95/95 [==============================] - 41s 438ms/step - loss: 63.5563 - mean_squared_error: 63.5563 - mean_absolute_error: 5.1678 - r2_score: 0.4444 - val_loss: 90.9038 - val_mean_squared_error: 90.9038 - val_mean_absolute_error: 4.6682 - val_r2_score: nan\n",
            "Epoch 11/100\n"
          ]
        },
        {
          "output_type": "stream",
          "name": "stderr",
          "text": [
            "/usr/local/lib/python3.9/dist-packages/tensorflow/python/autograph/impl/api.py:371: UndefinedMetricWarning: R^2 score is not well-defined with less than two samples.\n",
            "  return py_builtins.overload_of(f)(*args)\n"
          ]
        },
        {
          "output_type": "stream",
          "name": "stdout",
          "text": [
            "95/95 [==============================] - ETA: 0s - loss: 65.1757 - mean_squared_error: 65.1757 - mean_absolute_error: 5.1964 - r2_score: 0.3805"
          ]
        },
        {
          "output_type": "stream",
          "name": "stderr",
          "text": [
            "/usr/local/lib/python3.9/dist-packages/tensorflow/python/autograph/impl/api.py:371: UndefinedMetricWarning: R^2 score is not well-defined with less than two samples.\n",
            "  return py_builtins.overload_of(f)(*args)\n",
            "WARNING:absl:Found untraced functions such as _update_step_xla, lstm_cell_4_layer_call_fn, lstm_cell_4_layer_call_and_return_conditional_losses, lstm_cell_5_layer_call_fn, lstm_cell_5_layer_call_and_return_conditional_losses while saving (showing 5 of 5). These functions will not be directly callable after loading.\n"
          ]
        },
        {
          "output_type": "stream",
          "name": "stdout",
          "text": [
            "\b\b\b\b\b\b\b\b\b\b\b\b\b\b\b\b\b\b\b\b\b\b\b\b\b\b\b\b\b\b\b\b\b\b\b\b\b\b\b\b\b\b\b\b\b\b\b\b\b\b\b\b\b\b\b\b\b\b\b\b\b\b\b\b\b\b\b\b\b\b\b\b\b\b\b\b\b\b\b\b\b\b\b\b\b\b\b\b\b\b\b\b\b\b\b\b\b\b\b\b\b\b\b\b\b\b\b\b\b\b\b\b\b\b\b\b\b\b\b\b\b\b\b\b\b\b\b\b\b\b\b\b\b\b\b\b\b\b\b\b\b\b\b\r95/95 [==============================] - 52s 546ms/step - loss: 65.1757 - mean_squared_error: 65.1757 - mean_absolute_error: 5.1964 - r2_score: 0.3805 - val_loss: 87.0693 - val_mean_squared_error: 87.0693 - val_mean_absolute_error: 4.6653 - val_r2_score: nan\n",
            "Epoch 12/100\n",
            "95/95 [==============================] - ETA: 0s - loss: 66.6454 - mean_squared_error: 66.6454 - mean_absolute_error: 5.2615 - r2_score: 0.3902"
          ]
        },
        {
          "output_type": "stream",
          "name": "stderr",
          "text": [
            "/usr/local/lib/python3.9/dist-packages/tensorflow/python/autograph/impl/api.py:371: UndefinedMetricWarning: R^2 score is not well-defined with less than two samples.\n",
            "  return py_builtins.overload_of(f)(*args)\n"
          ]
        },
        {
          "output_type": "stream",
          "name": "stdout",
          "text": [
            "\b\b\b\b\b\b\b\b\b\b\b\b\b\b\b\b\b\b\b\b\b\b\b\b\b\b\b\b\b\b\b\b\b\b\b\b\b\b\b\b\b\b\b\b\b\b\b\b\b\b\b\b\b\b\b\b\b\b\b\b\b\b\b\b\b\b\b\b\b\b\b\b\b\b\b\b\b\b\b\b\b\b\b\b\b\b\b\b\b\b\b\b\b\b\b\b\b\b\b\b\b\b\b\b\b\b\b\b\b\b\b\b\b\b\b\b\b\b\b\b\b\b\b\b\b\b\b\b\b\b\b\b\b\b\b\b\b\b\b\b\b\b\b\r95/95 [==============================] - 60s 641ms/step - loss: 66.6454 - mean_squared_error: 66.6454 - mean_absolute_error: 5.2615 - r2_score: 0.3902 - val_loss: 88.2658 - val_mean_squared_error: 88.2658 - val_mean_absolute_error: 4.7561 - val_r2_score: nan\n",
            "Epoch 13/100\n",
            "95/95 [==============================] - 47s 500ms/step - loss: 64.6739 - mean_squared_error: 64.6739 - mean_absolute_error: 5.2429 - r2_score: 0.3691 - val_loss: 87.7691 - val_mean_squared_error: 87.7691 - val_mean_absolute_error: 4.4465 - val_r2_score: nan\n",
            "Epoch 14/100\n",
            " 1/95 [..............................] - ETA: 15s - loss: 40.0082 - mean_squared_error: 40.0082 - mean_absolute_error: 4.6635 - r2_score: 0.6093"
          ]
        },
        {
          "output_type": "stream",
          "name": "stderr",
          "text": [
            "/usr/local/lib/python3.9/dist-packages/tensorflow/python/autograph/impl/api.py:371: UndefinedMetricWarning: R^2 score is not well-defined with less than two samples.\n",
            "  return py_builtins.overload_of(f)(*args)\n"
          ]
        },
        {
          "output_type": "stream",
          "name": "stdout",
          "text": [
            "95/95 [==============================] - ETA: 0s - loss: 60.1611 - mean_squared_error: 60.1611 - mean_absolute_error: 5.0326 - r2_score: 0.4452"
          ]
        },
        {
          "output_type": "stream",
          "name": "stderr",
          "text": [
            "/usr/local/lib/python3.9/dist-packages/tensorflow/python/autograph/impl/api.py:371: UndefinedMetricWarning: R^2 score is not well-defined with less than two samples.\n",
            "  return py_builtins.overload_of(f)(*args)\n"
          ]
        },
        {
          "output_type": "stream",
          "name": "stdout",
          "text": [
            "\b\b\b\b\b\b\b\b\b\b\b\b\b\b\b\b\b\b\b\b\b\b\b\b\b\b\b\b\b\b\b\b\b\b\b\b\b\b\b\b\b\b\b\b\b\b\b\b\b\b\b\b\b\b\b\b\b\b\b\b\b\b\b\b\b\b\b\b\b\b\b\b\b\b\b\b\b\b\b\b\b\b\b\b\b\b\b\b\b\b\b\b\b\b\b\b\b\b\b\b\b\b\b\b\b\b\b\b\b\b\b\b\b\b\b\b\b\b\b\b\b\b\b\b\b\b\b\b\b\b\b\b\b\b\b\b\b\b\b\b\b\b\b\r95/95 [==============================] - 59s 621ms/step - loss: 60.1611 - mean_squared_error: 60.1611 - mean_absolute_error: 5.0326 - r2_score: 0.4452 - val_loss: 87.4287 - val_mean_squared_error: 87.4287 - val_mean_absolute_error: 4.4259 - val_r2_score: nan\n",
            "Epoch 15/100\n",
            "95/95 [==============================] - ETA: 0s - loss: 63.1980 - mean_squared_error: 63.1980 - mean_absolute_error: 5.1400 - r2_score: 0.4575"
          ]
        },
        {
          "output_type": "stream",
          "name": "stderr",
          "text": [
            "/usr/local/lib/python3.9/dist-packages/tensorflow/python/autograph/impl/api.py:371: UndefinedMetricWarning: R^2 score is not well-defined with less than two samples.\n",
            "  return py_builtins.overload_of(f)(*args)\n",
            "WARNING:absl:Found untraced functions such as _update_step_xla, lstm_cell_4_layer_call_fn, lstm_cell_4_layer_call_and_return_conditional_losses, lstm_cell_5_layer_call_fn, lstm_cell_5_layer_call_and_return_conditional_losses while saving (showing 5 of 5). These functions will not be directly callable after loading.\n"
          ]
        },
        {
          "output_type": "stream",
          "name": "stdout",
          "text": [
            "\b\b\b\b\b\b\b\b\b\b\b\b\b\b\b\b\b\b\b\b\b\b\b\b\b\b\b\b\b\b\b\b\b\b\b\b\b\b\b\b\b\b\b\b\b\b\b\b\b\b\b\b\b\b\b\b\b\b\b\b\b\b\b\b\b\b\b\b\b\b\b\b\b\b\b\b\b\b\b\b\b\b\b\b\b\b\b\b\b\b\b\b\b\b\b\b\b\b\b\b\b\b\b\b\b\b\b\b\b\b\b\b\b\b\b\b\b\b\b\b\b\b\b\b\b\b\b\b\b\b\b\b\b\b\b\b\b\b\b\b\b\b\b\r95/95 [==============================] - 70s 741ms/step - loss: 63.1980 - mean_squared_error: 63.1980 - mean_absolute_error: 5.1400 - r2_score: 0.4575 - val_loss: 82.3467 - val_mean_squared_error: 82.3467 - val_mean_absolute_error: 4.3954 - val_r2_score: nan\n",
            "Epoch 16/100\n",
            "95/95 [==============================] - 44s 463ms/step - loss: 62.3994 - mean_squared_error: 62.3994 - mean_absolute_error: 5.1071 - r2_score: 0.4426 - val_loss: 84.5241 - val_mean_squared_error: 84.5241 - val_mean_absolute_error: 4.4883 - val_r2_score: nan\n",
            "Epoch 17/100\n"
          ]
        },
        {
          "output_type": "stream",
          "name": "stderr",
          "text": [
            "/usr/local/lib/python3.9/dist-packages/tensorflow/python/autograph/impl/api.py:371: UndefinedMetricWarning: R^2 score is not well-defined with less than two samples.\n",
            "  return py_builtins.overload_of(f)(*args)\n"
          ]
        },
        {
          "output_type": "stream",
          "name": "stdout",
          "text": [
            "95/95 [==============================] - ETA: 0s - loss: 58.4987 - mean_squared_error: 58.4987 - mean_absolute_error: 5.0273 - r2_score: 0.4733"
          ]
        },
        {
          "output_type": "stream",
          "name": "stderr",
          "text": [
            "/usr/local/lib/python3.9/dist-packages/tensorflow/python/autograph/impl/api.py:371: UndefinedMetricWarning: R^2 score is not well-defined with less than two samples.\n",
            "  return py_builtins.overload_of(f)(*args)\n"
          ]
        },
        {
          "output_type": "stream",
          "name": "stdout",
          "text": [
            "\b\b\b\b\b\b\b\b\b\b\b\b\b\b\b\b\b\b\b\b\b\b\b\b\b\b\b\b\b\b\b\b\b\b\b\b\b\b\b\b\b\b\b\b\b\b\b\b\b\b\b\b\b\b\b\b\b\b\b\b\b\b\b\b\b\b\b\b\b\b\b\b\b\b\b\b\b\b\b\b\b\b\b\b\b\b\b\b\b\b\b\b\b\b\b\b\b\b\b\b\b\b\b\b\b\b\b\b\b\b\b\b\b\b\b\b\b\b\b\b\b\b\b\b\b\b\b\b\b\b\b\b\b\b\b\b\b\b\b\b\b\b\b\r95/95 [==============================] - 58s 611ms/step - loss: 58.4987 - mean_squared_error: 58.4987 - mean_absolute_error: 5.0273 - r2_score: 0.4733 - val_loss: 86.7694 - val_mean_squared_error: 86.7694 - val_mean_absolute_error: 4.4252 - val_r2_score: nan\n",
            "Epoch 18/100\n",
            "95/95 [==============================] - 43s 461ms/step - loss: 59.4340 - mean_squared_error: 59.4340 - mean_absolute_error: 5.0623 - r2_score: 0.4586 - val_loss: 85.5776 - val_mean_squared_error: 85.5776 - val_mean_absolute_error: 4.3935 - val_r2_score: nan\n",
            "Epoch 19/100\n",
            " 1/95 [..............................] - ETA: 14s - loss: 19.9105 - mean_squared_error: 19.9105 - mean_absolute_error: 3.2859 - r2_score: 0.6269"
          ]
        },
        {
          "output_type": "stream",
          "name": "stderr",
          "text": [
            "/usr/local/lib/python3.9/dist-packages/tensorflow/python/autograph/impl/api.py:371: UndefinedMetricWarning: R^2 score is not well-defined with less than two samples.\n",
            "  return py_builtins.overload_of(f)(*args)\n"
          ]
        },
        {
          "output_type": "stream",
          "name": "stdout",
          "text": [
            "95/95 [==============================] - ETA: 0s - loss: 61.1298 - mean_squared_error: 61.1298 - mean_absolute_error: 5.0856 - r2_score: 0.4427"
          ]
        },
        {
          "output_type": "stream",
          "name": "stderr",
          "text": [
            "/usr/local/lib/python3.9/dist-packages/tensorflow/python/autograph/impl/api.py:371: UndefinedMetricWarning: R^2 score is not well-defined with less than two samples.\n",
            "  return py_builtins.overload_of(f)(*args)\n"
          ]
        },
        {
          "output_type": "stream",
          "name": "stdout",
          "text": [
            "\b\b\b\b\b\b\b\b\b\b\b\b\b\b\b\b\b\b\b\b\b\b\b\b\b\b\b\b\b\b\b\b\b\b\b\b\b\b\b\b\b\b\b\b\b\b\b\b\b\b\b\b\b\b\b\b\b\b\b\b\b\b\b\b\b\b\b\b\b\b\b\b\b\b\b\b\b\b\b\b\b\b\b\b\b\b\b\b\b\b\b\b\b\b\b\b\b\b\b\b\b\b\b\b\b\b\b\b\b\b\b\b\b\b\b\b\b\b\b\b\b\b\b\b\b\b\b\b\b\b\b\b\b\b\b\b\b\b\b\b\b\b\b\r95/95 [==============================] - 57s 610ms/step - loss: 61.1298 - mean_squared_error: 61.1298 - mean_absolute_error: 5.0856 - r2_score: 0.4427 - val_loss: 92.8801 - val_mean_squared_error: 92.8801 - val_mean_absolute_error: 4.4497 - val_r2_score: nan\n",
            "Epoch 20/100\n",
            "95/95 [==============================] - 44s 466ms/step - loss: 60.8260 - mean_squared_error: 60.8260 - mean_absolute_error: 5.0546 - r2_score: 0.4662 - val_loss: 89.5792 - val_mean_squared_error: 89.5792 - val_mean_absolute_error: 4.4397 - val_r2_score: nan\n",
            "Epoch 21/100\n"
          ]
        },
        {
          "output_type": "stream",
          "name": "stderr",
          "text": [
            "/usr/local/lib/python3.9/dist-packages/tensorflow/python/autograph/impl/api.py:371: UndefinedMetricWarning: R^2 score is not well-defined with less than two samples.\n",
            "  return py_builtins.overload_of(f)(*args)\n"
          ]
        },
        {
          "output_type": "stream",
          "name": "stdout",
          "text": [
            "95/95 [==============================] - ETA: 0s - loss: 61.4970 - mean_squared_error: 61.4970 - mean_absolute_error: 5.0718 - r2_score: 0.4563"
          ]
        },
        {
          "output_type": "stream",
          "name": "stderr",
          "text": [
            "/usr/local/lib/python3.9/dist-packages/tensorflow/python/autograph/impl/api.py:371: UndefinedMetricWarning: R^2 score is not well-defined with less than two samples.\n",
            "  return py_builtins.overload_of(f)(*args)\n"
          ]
        },
        {
          "output_type": "stream",
          "name": "stdout",
          "text": [
            "\b\b\b\b\b\b\b\b\b\b\b\b\b\b\b\b\b\b\b\b\b\b\b\b\b\b\b\b\b\b\b\b\b\b\b\b\b\b\b\b\b\b\b\b\b\b\b\b\b\b\b\b\b\b\b\b\b\b\b\b\b\b\b\b\b\b\b\b\b\b\b\b\b\b\b\b\b\b\b\b\b\b\b\b\b\b\b\b\b\b\b\b\b\b\b\b\b\b\b\b\b\b\b\b\b\b\b\b\b\b\b\b\b\b\b\b\b\b\b\b\b\b\b\b\b\b\b\b\b\b\b\b\b\b\b\b\b\b\b\b\b\b\b\r95/95 [==============================] - 59s 622ms/step - loss: 61.4970 - mean_squared_error: 61.4970 - mean_absolute_error: 5.0718 - r2_score: 0.4563 - val_loss: 87.8776 - val_mean_squared_error: 87.8776 - val_mean_absolute_error: 4.3904 - val_r2_score: nan\n",
            "Epoch 22/100\n",
            "95/95 [==============================] - ETA: 0s - loss: 60.5860 - mean_squared_error: 60.5860 - mean_absolute_error: 5.0077 - r2_score: 0.4768"
          ]
        },
        {
          "output_type": "stream",
          "name": "stderr",
          "text": [
            "/usr/local/lib/python3.9/dist-packages/tensorflow/python/autograph/impl/api.py:371: UndefinedMetricWarning: R^2 score is not well-defined with less than two samples.\n",
            "  return py_builtins.overload_of(f)(*args)\n",
            "WARNING:absl:Found untraced functions such as _update_step_xla, lstm_cell_4_layer_call_fn, lstm_cell_4_layer_call_and_return_conditional_losses, lstm_cell_5_layer_call_fn, lstm_cell_5_layer_call_and_return_conditional_losses while saving (showing 5 of 5). These functions will not be directly callable after loading.\n"
          ]
        },
        {
          "output_type": "stream",
          "name": "stdout",
          "text": [
            "\b\b\b\b\b\b\b\b\b\b\b\b\b\b\b\b\b\b\b\b\b\b\b\b\b\b\b\b\b\b\b\b\b\b\b\b\b\b\b\b\b\b\b\b\b\b\b\b\b\b\b\b\b\b\b\b\b\b\b\b\b\b\b\b\b\b\b\b\b\b\b\b\b\b\b\b\b\b\b\b\b\b\b\b\b\b\b\b\b\b\b\b\b\b\b\b\b\b\b\b\b\b\b\b\b\b\b\b\b\b\b\b\b\b\b\b\b\b\b\b\b\b\b\b\b\b\b\b\b\b\b\b\b\b\b\b\b\b\b\b\b\b\b\r95/95 [==============================] - 54s 570ms/step - loss: 60.5860 - mean_squared_error: 60.5860 - mean_absolute_error: 5.0077 - r2_score: 0.4768 - val_loss: 82.1200 - val_mean_squared_error: 82.1200 - val_mean_absolute_error: 4.5354 - val_r2_score: nan\n",
            "Epoch 23/100\n",
            "95/95 [==============================] - ETA: 0s - loss: 58.9595 - mean_squared_error: 58.9595 - mean_absolute_error: 5.0308 - r2_score: 0.4491"
          ]
        },
        {
          "output_type": "stream",
          "name": "stderr",
          "text": [
            "/usr/local/lib/python3.9/dist-packages/tensorflow/python/autograph/impl/api.py:371: UndefinedMetricWarning: R^2 score is not well-defined with less than two samples.\n",
            "  return py_builtins.overload_of(f)(*args)\n"
          ]
        },
        {
          "output_type": "stream",
          "name": "stdout",
          "text": [
            "\b\b\b\b\b\b\b\b\b\b\b\b\b\b\b\b\b\b\b\b\b\b\b\b\b\b\b\b\b\b\b\b\b\b\b\b\b\b\b\b\b\b\b\b\b\b\b\b\b\b\b\b\b\b\b\b\b\b\b\b\b\b\b\b\b\b\b\b\b\b\b\b\b\b\b\b\b\b\b\b\b\b\b\b\b\b\b\b\b\b\b\b\b\b\b\b\b\b\b\b\b\b\b\b\b\b\b\b\b\b\b\b\b\b\b\b\b\b\b\b\b\b\b\b\b\b\b\b\b\b\b\b\b\b\b\b\b\b\b\b\b\b\b\r95/95 [==============================] - 59s 624ms/step - loss: 58.9595 - mean_squared_error: 58.9595 - mean_absolute_error: 5.0308 - r2_score: 0.4491 - val_loss: 83.8089 - val_mean_squared_error: 83.8089 - val_mean_absolute_error: 4.5411 - val_r2_score: nan\n",
            "Epoch 24/100\n",
            "95/95 [==============================] - ETA: 0s - loss: 60.8040 - mean_squared_error: 60.8040 - mean_absolute_error: 5.0435 - r2_score: 0.4360"
          ]
        },
        {
          "output_type": "stream",
          "name": "stderr",
          "text": [
            "/usr/local/lib/python3.9/dist-packages/tensorflow/python/autograph/impl/api.py:371: UndefinedMetricWarning: R^2 score is not well-defined with less than two samples.\n",
            "  return py_builtins.overload_of(f)(*args)\n"
          ]
        },
        {
          "output_type": "stream",
          "name": "stdout",
          "text": [
            "\b\b\b\b\b\b\b\b\b\b\b\b\b\b\b\b\b\b\b\b\b\b\b\b\b\b\b\b\b\b\b\b\b\b\b\b\b\b\b\b\b\b\b\b\b\b\b\b\b\b\b\b\b\b\b\b\b\b\b\b\b\b\b\b\b\b\b\b\b\b\b\b\b\b\b\b\b\b\b\b\b\b\b\b\b\b\b\b\b\b\b\b\b\b\b\b\b\b\b\b\b\b\b\b\b\b\b\b\b\b\b\b\b\b\b\b\b\b\b\b\b\b\b\b\b\b\b\b\b\b\b\b\b\b\b\b\b\b\b\b\b\b\b\r95/95 [==============================] - 59s 622ms/step - loss: 60.8040 - mean_squared_error: 60.8040 - mean_absolute_error: 5.0435 - r2_score: 0.4360 - val_loss: 82.9079 - val_mean_squared_error: 82.9079 - val_mean_absolute_error: 4.4068 - val_r2_score: nan\n",
            "Epoch 25/100\n",
            "95/95 [==============================] - 49s 515ms/step - loss: 61.7100 - mean_squared_error: 61.7100 - mean_absolute_error: 5.1259 - r2_score: 0.4438 - val_loss: 83.9072 - val_mean_squared_error: 83.9072 - val_mean_absolute_error: 4.4208 - val_r2_score: nan\n",
            "Epoch 26/100\n",
            " 1/95 [..............................] - ETA: 15s - loss: 64.1910 - mean_squared_error: 64.1910 - mean_absolute_error: 5.4426 - r2_score: 0.5501"
          ]
        },
        {
          "output_type": "stream",
          "name": "stderr",
          "text": [
            "/usr/local/lib/python3.9/dist-packages/tensorflow/python/autograph/impl/api.py:371: UndefinedMetricWarning: R^2 score is not well-defined with less than two samples.\n",
            "  return py_builtins.overload_of(f)(*args)\n"
          ]
        },
        {
          "output_type": "stream",
          "name": "stdout",
          "text": [
            "95/95 [==============================] - ETA: 0s - loss: 61.1263 - mean_squared_error: 61.1263 - mean_absolute_error: 5.0429 - r2_score: 0.4316"
          ]
        },
        {
          "output_type": "stream",
          "name": "stderr",
          "text": [
            "/usr/local/lib/python3.9/dist-packages/tensorflow/python/autograph/impl/api.py:371: UndefinedMetricWarning: R^2 score is not well-defined with less than two samples.\n",
            "  return py_builtins.overload_of(f)(*args)\n"
          ]
        },
        {
          "output_type": "stream",
          "name": "stdout",
          "text": [
            "\b\b\b\b\b\b\b\b\b\b\b\b\b\b\b\b\b\b\b\b\b\b\b\b\b\b\b\b\b\b\b\b\b\b\b\b\b\b\b\b\b\b\b\b\b\b\b\b\b\b\b\b\b\b\b\b\b\b\b\b\b\b\b\b\b\b\b\b\b\b\b\b\b\b\b\b\b\b\b\b\b\b\b\b\b\b\b\b\b\b\b\b\b\b\b\b\b\b\b\b\b\b\b\b\b\b\b\b\b\b\b\b\b\b\b\b\b\b\b\b\b\b\b\b\b\b\b\b\b\b\b\b\b\b\b\b\b\b\b\b\b\b\b\r95/95 [==============================] - 59s 622ms/step - loss: 61.1263 - mean_squared_error: 61.1263 - mean_absolute_error: 5.0429 - r2_score: 0.4316 - val_loss: 86.7341 - val_mean_squared_error: 86.7341 - val_mean_absolute_error: 4.5748 - val_r2_score: nan\n",
            "Epoch 27/100\n",
            "95/95 [==============================] - ETA: 0s - loss: 62.6083 - mean_squared_error: 62.6083 - mean_absolute_error: 5.1243 - r2_score: 0.4285"
          ]
        },
        {
          "output_type": "stream",
          "name": "stderr",
          "text": [
            "/usr/local/lib/python3.9/dist-packages/tensorflow/python/autograph/impl/api.py:371: UndefinedMetricWarning: R^2 score is not well-defined with less than two samples.\n",
            "  return py_builtins.overload_of(f)(*args)\n",
            "WARNING:absl:Found untraced functions such as _update_step_xla, lstm_cell_4_layer_call_fn, lstm_cell_4_layer_call_and_return_conditional_losses, lstm_cell_5_layer_call_fn, lstm_cell_5_layer_call_and_return_conditional_losses while saving (showing 5 of 5). These functions will not be directly callable after loading.\n"
          ]
        },
        {
          "output_type": "stream",
          "name": "stdout",
          "text": [
            "\b\b\b\b\b\b\b\b\b\b\b\b\b\b\b\b\b\b\b\b\b\b\b\b\b\b\b\b\b\b\b\b\b\b\b\b\b\b\b\b\b\b\b\b\b\b\b\b\b\b\b\b\b\b\b\b\b\b\b\b\b\b\b\b\b\b\b\b\b\b\b\b\b\b\b\b\b\b\b\b\b\b\b\b\b\b\b\b\b\b\b\b\b\b\b\b\b\b\b\b\b\b\b\b\b\b\b\b\b\b\b\b\b\b\b\b\b\b\b\b\b\b\b\b\b\b\b\b\b\b\b\b\b\b\b\b\b\b\b\b\b\b\b\r95/95 [==============================] - 57s 607ms/step - loss: 62.6083 - mean_squared_error: 62.6083 - mean_absolute_error: 5.1243 - r2_score: 0.4285 - val_loss: 81.8599 - val_mean_squared_error: 81.8599 - val_mean_absolute_error: 4.4296 - val_r2_score: nan\n",
            "Epoch 28/100\n",
            "95/95 [==============================] - ETA: 0s - loss: 58.6863 - mean_squared_error: 58.6863 - mean_absolute_error: 4.9930 - r2_score: 0.4696"
          ]
        },
        {
          "output_type": "stream",
          "name": "stderr",
          "text": [
            "/usr/local/lib/python3.9/dist-packages/tensorflow/python/autograph/impl/api.py:371: UndefinedMetricWarning: R^2 score is not well-defined with less than two samples.\n",
            "  return py_builtins.overload_of(f)(*args)\n"
          ]
        },
        {
          "output_type": "stream",
          "name": "stdout",
          "text": [
            "\b\b\b\b\b\b\b\b\b\b\b\b\b\b\b\b\b\b\b\b\b\b\b\b\b\b\b\b\b\b\b\b\b\b\b\b\b\b\b\b\b\b\b\b\b\b\b\b\b\b\b\b\b\b\b\b\b\b\b\b\b\b\b\b\b\b\b\b\b\b\b\b\b\b\b\b\b\b\b\b\b\b\b\b\b\b\b\b\b\b\b\b\b\b\b\b\b\b\b\b\b\b\b\b\b\b\b\b\b\b\b\b\b\b\b\b\b\b\b\b\b\b\b\b\b\b\b\b\b\b\b\b\b\b\b\b\b\b\b\b\b\b\b\r95/95 [==============================] - 58s 611ms/step - loss: 58.6863 - mean_squared_error: 58.6863 - mean_absolute_error: 4.9930 - r2_score: 0.4696 - val_loss: 84.9356 - val_mean_squared_error: 84.9356 - val_mean_absolute_error: 4.3908 - val_r2_score: nan\n",
            "Epoch 29/100\n",
            "95/95 [==============================] - ETA: 0s - loss: 60.6704 - mean_squared_error: 60.6704 - mean_absolute_error: 5.0348 - r2_score: 0.4522"
          ]
        },
        {
          "output_type": "stream",
          "name": "stderr",
          "text": [
            "/usr/local/lib/python3.9/dist-packages/tensorflow/python/autograph/impl/api.py:371: UndefinedMetricWarning: R^2 score is not well-defined with less than two samples.\n",
            "  return py_builtins.overload_of(f)(*args)\n"
          ]
        },
        {
          "output_type": "stream",
          "name": "stdout",
          "text": [
            "\b\b\b\b\b\b\b\b\b\b\b\b\b\b\b\b\b\b\b\b\b\b\b\b\b\b\b\b\b\b\b\b\b\b\b\b\b\b\b\b\b\b\b\b\b\b\b\b\b\b\b\b\b\b\b\b\b\b\b\b\b\b\b\b\b\b\b\b\b\b\b\b\b\b\b\b\b\b\b\b\b\b\b\b\b\b\b\b\b\b\b\b\b\b\b\b\b\b\b\b\b\b\b\b\b\b\b\b\b\b\b\b\b\b\b\b\b\b\b\b\b\b\b\b\b\b\b\b\b\b\b\b\b\b\b\b\b\b\b\b\b\b\b\r95/95 [==============================] - 58s 617ms/step - loss: 60.6704 - mean_squared_error: 60.6704 - mean_absolute_error: 5.0348 - r2_score: 0.4522 - val_loss: 84.3640 - val_mean_squared_error: 84.3640 - val_mean_absolute_error: 4.5335 - val_r2_score: nan\n",
            "Epoch 30/100\n",
            "95/95 [==============================] - ETA: 0s - loss: 60.3005 - mean_squared_error: 60.3005 - mean_absolute_error: 5.0429 - r2_score: 0.4663"
          ]
        },
        {
          "output_type": "stream",
          "name": "stderr",
          "text": [
            "/usr/local/lib/python3.9/dist-packages/tensorflow/python/autograph/impl/api.py:371: UndefinedMetricWarning: R^2 score is not well-defined with less than two samples.\n",
            "  return py_builtins.overload_of(f)(*args)\n",
            "WARNING:absl:Found untraced functions such as _update_step_xla, lstm_cell_4_layer_call_fn, lstm_cell_4_layer_call_and_return_conditional_losses, lstm_cell_5_layer_call_fn, lstm_cell_5_layer_call_and_return_conditional_losses while saving (showing 5 of 5). These functions will not be directly callable after loading.\n"
          ]
        },
        {
          "output_type": "stream",
          "name": "stdout",
          "text": [
            "\b\b\b\b\b\b\b\b\b\b\b\b\b\b\b\b\b\b\b\b\b\b\b\b\b\b\b\b\b\b\b\b\b\b\b\b\b\b\b\b\b\b\b\b\b\b\b\b\b\b\b\b\b\b\b\b\b\b\b\b\b\b\b\b\b\b\b\b\b\b\b\b\b\b\b\b\b\b\b\b\b\b\b\b\b\b\b\b\b\b\b\b\b\b\b\b\b\b\b\b\b\b\b\b\b\b\b\b\b\b\b\b\b\b\b\b\b\b\b\b\b\b\b\b\b\b\b\b\b\b\b\b\b\b\b\b\b\b\b\b\b\b\b\r95/95 [==============================] - 55s 580ms/step - loss: 60.3005 - mean_squared_error: 60.3005 - mean_absolute_error: 5.0429 - r2_score: 0.4663 - val_loss: 81.4506 - val_mean_squared_error: 81.4506 - val_mean_absolute_error: 4.4933 - val_r2_score: nan\n",
            "Epoch 31/100\n",
            "95/95 [==============================] - 43s 461ms/step - loss: 59.5043 - mean_squared_error: 59.5043 - mean_absolute_error: 5.0338 - r2_score: 0.4590 - val_loss: 87.7405 - val_mean_squared_error: 87.7405 - val_mean_absolute_error: 4.4060 - val_r2_score: nan\n",
            "Epoch 32/100\n",
            " 1/95 [..............................] - ETA: 14s - loss: 42.5396 - mean_squared_error: 42.5396 - mean_absolute_error: 4.3533 - r2_score: 0.7633"
          ]
        },
        {
          "output_type": "stream",
          "name": "stderr",
          "text": [
            "/usr/local/lib/python3.9/dist-packages/tensorflow/python/autograph/impl/api.py:371: UndefinedMetricWarning: R^2 score is not well-defined with less than two samples.\n",
            "  return py_builtins.overload_of(f)(*args)\n"
          ]
        },
        {
          "output_type": "stream",
          "name": "stdout",
          "text": [
            "95/95 [==============================] - ETA: 0s - loss: 60.6977 - mean_squared_error: 60.6977 - mean_absolute_error: 5.0368 - r2_score: 0.4313"
          ]
        },
        {
          "output_type": "stream",
          "name": "stderr",
          "text": [
            "/usr/local/lib/python3.9/dist-packages/tensorflow/python/autograph/impl/api.py:371: UndefinedMetricWarning: R^2 score is not well-defined with less than two samples.\n",
            "  return py_builtins.overload_of(f)(*args)\n"
          ]
        },
        {
          "output_type": "stream",
          "name": "stdout",
          "text": [
            "\b\b\b\b\b\b\b\b\b\b\b\b\b\b\b\b\b\b\b\b\b\b\b\b\b\b\b\b\b\b\b\b\b\b\b\b\b\b\b\b\b\b\b\b\b\b\b\b\b\b\b\b\b\b\b\b\b\b\b\b\b\b\b\b\b\b\b\b\b\b\b\b\b\b\b\b\b\b\b\b\b\b\b\b\b\b\b\b\b\b\b\b\b\b\b\b\b\b\b\b\b\b\b\b\b\b\b\b\b\b\b\b\b\b\b\b\b\b\b\b\b\b\b\b\b\b\b\b\b\b\b\b\b\b\b\b\b\b\b\b\b\b\b\r95/95 [==============================] - 58s 611ms/step - loss: 60.6977 - mean_squared_error: 60.6977 - mean_absolute_error: 5.0368 - r2_score: 0.4313 - val_loss: 82.2789 - val_mean_squared_error: 82.2789 - val_mean_absolute_error: 4.7206 - val_r2_score: nan\n",
            "Epoch 33/100\n",
            "95/95 [==============================] - 43s 459ms/step - loss: 59.8964 - mean_squared_error: 59.8964 - mean_absolute_error: 5.0090 - r2_score: 0.4859 - val_loss: 81.5125 - val_mean_squared_error: 81.5125 - val_mean_absolute_error: 4.5673 - val_r2_score: nan\n",
            "Epoch 34/100\n",
            " 1/95 [..............................] - ETA: 15s - loss: 82.3500 - mean_squared_error: 82.3500 - mean_absolute_error: 6.1394 - r2_score: 0.3610"
          ]
        },
        {
          "output_type": "stream",
          "name": "stderr",
          "text": [
            "/usr/local/lib/python3.9/dist-packages/tensorflow/python/autograph/impl/api.py:371: UndefinedMetricWarning: R^2 score is not well-defined with less than two samples.\n",
            "  return py_builtins.overload_of(f)(*args)\n"
          ]
        },
        {
          "output_type": "stream",
          "name": "stdout",
          "text": [
            "95/95 [==============================] - ETA: 0s - loss: 60.0267 - mean_squared_error: 60.0267 - mean_absolute_error: 5.0357 - r2_score: 0.4557"
          ]
        },
        {
          "output_type": "stream",
          "name": "stderr",
          "text": [
            "/usr/local/lib/python3.9/dist-packages/tensorflow/python/autograph/impl/api.py:371: UndefinedMetricWarning: R^2 score is not well-defined with less than two samples.\n",
            "  return py_builtins.overload_of(f)(*args)\n",
            "WARNING:absl:Found untraced functions such as _update_step_xla, lstm_cell_4_layer_call_fn, lstm_cell_4_layer_call_and_return_conditional_losses, lstm_cell_5_layer_call_fn, lstm_cell_5_layer_call_and_return_conditional_losses while saving (showing 5 of 5). These functions will not be directly callable after loading.\n"
          ]
        },
        {
          "output_type": "stream",
          "name": "stdout",
          "text": [
            "\b\b\b\b\b\b\b\b\b\b\b\b\b\b\b\b\b\b\b\b\b\b\b\b\b\b\b\b\b\b\b\b\b\b\b\b\b\b\b\b\b\b\b\b\b\b\b\b\b\b\b\b\b\b\b\b\b\b\b\b\b\b\b\b\b\b\b\b\b\b\b\b\b\b\b\b\b\b\b\b\b\b\b\b\b\b\b\b\b\b\b\b\b\b\b\b\b\b\b\b\b\b\b\b\b\b\b\b\b\b\b\b\b\b\b\b\b\b\b\b\b\b\b\b\b\b\b\b\b\b\b\b\b\b\b\b\b\b\b\b\b\b\b\r95/95 [==============================] - 68s 727ms/step - loss: 60.0267 - mean_squared_error: 60.0267 - mean_absolute_error: 5.0357 - r2_score: 0.4557 - val_loss: 80.3074 - val_mean_squared_error: 80.3074 - val_mean_absolute_error: 4.3984 - val_r2_score: nan\n",
            "Epoch 35/100\n",
            "95/95 [==============================] - 49s 517ms/step - loss: 64.9048 - mean_squared_error: 64.9048 - mean_absolute_error: 5.2100 - r2_score: 0.3988 - val_loss: 83.8142 - val_mean_squared_error: 83.8142 - val_mean_absolute_error: 4.4061 - val_r2_score: nan\n",
            "Epoch 36/100\n",
            " 1/95 [..............................] - ETA: 16s - loss: 132.7611 - mean_squared_error: 132.7611 - mean_absolute_error: 5.9923 - r2_score: 0.2723"
          ]
        },
        {
          "output_type": "stream",
          "name": "stderr",
          "text": [
            "/usr/local/lib/python3.9/dist-packages/tensorflow/python/autograph/impl/api.py:371: UndefinedMetricWarning: R^2 score is not well-defined with less than two samples.\n",
            "  return py_builtins.overload_of(f)(*args)\n"
          ]
        },
        {
          "output_type": "stream",
          "name": "stdout",
          "text": [
            "95/95 [==============================] - 47s 502ms/step - loss: 58.2525 - mean_squared_error: 58.2525 - mean_absolute_error: 4.9698 - r2_score: 0.4560 - val_loss: 84.6461 - val_mean_squared_error: 84.6461 - val_mean_absolute_error: 4.3367 - val_r2_score: nan\n",
            "Epoch 37/100\n",
            " 1/95 [..............................] - ETA: 16s - loss: 45.9238 - mean_squared_error: 45.9238 - mean_absolute_error: 4.4395 - r2_score: 0.6083"
          ]
        },
        {
          "output_type": "stream",
          "name": "stderr",
          "text": [
            "/usr/local/lib/python3.9/dist-packages/tensorflow/python/autograph/impl/api.py:371: UndefinedMetricWarning: R^2 score is not well-defined with less than two samples.\n",
            "  return py_builtins.overload_of(f)(*args)\n"
          ]
        },
        {
          "output_type": "stream",
          "name": "stdout",
          "text": [
            "95/95 [==============================] - ETA: 0s - loss: 60.2870 - mean_squared_error: 60.2870 - mean_absolute_error: 5.0288 - r2_score: 0.4409"
          ]
        },
        {
          "output_type": "stream",
          "name": "stderr",
          "text": [
            "/usr/local/lib/python3.9/dist-packages/tensorflow/python/autograph/impl/api.py:371: UndefinedMetricWarning: R^2 score is not well-defined with less than two samples.\n",
            "  return py_builtins.overload_of(f)(*args)\n"
          ]
        },
        {
          "output_type": "stream",
          "name": "stdout",
          "text": [
            "\b\b\b\b\b\b\b\b\b\b\b\b\b\b\b\b\b\b\b\b\b\b\b\b\b\b\b\b\b\b\b\b\b\b\b\b\b\b\b\b\b\b\b\b\b\b\b\b\b\b\b\b\b\b\b\b\b\b\b\b\b\b\b\b\b\b\b\b\b\b\b\b\b\b\b\b\b\b\b\b\b\b\b\b\b\b\b\b\b\b\b\b\b\b\b\b\b\b\b\b\b\b\b\b\b\b\b\b\b\b\b\b\b\b\b\b\b\b\b\b\b\b\b\b\b\b\b\b\b\b\b\b\b\b\b\b\b\b\b\b\b\b\b\r95/95 [==============================] - 59s 625ms/step - loss: 60.2870 - mean_squared_error: 60.2870 - mean_absolute_error: 5.0288 - r2_score: 0.4409 - val_loss: 83.0244 - val_mean_squared_error: 83.0244 - val_mean_absolute_error: 4.4144 - val_r2_score: nan\n",
            "Epoch 38/100\n",
            "95/95 [==============================] - ETA: 0s - loss: 62.4163 - mean_squared_error: 62.4163 - mean_absolute_error: 5.0751 - r2_score: 0.4642"
          ]
        },
        {
          "output_type": "stream",
          "name": "stderr",
          "text": [
            "/usr/local/lib/python3.9/dist-packages/tensorflow/python/autograph/impl/api.py:371: UndefinedMetricWarning: R^2 score is not well-defined with less than two samples.\n",
            "  return py_builtins.overload_of(f)(*args)\n"
          ]
        },
        {
          "output_type": "stream",
          "name": "stdout",
          "text": [
            "\b\b\b\b\b\b\b\b\b\b\b\b\b\b\b\b\b\b\b\b\b\b\b\b\b\b\b\b\b\b\b\b\b\b\b\b\b\b\b\b\b\b\b\b\b\b\b\b\b\b\b\b\b\b\b\b\b\b\b\b\b\b\b\b\b\b\b\b\b\b\b\b\b\b\b\b\b\b\b\b\b\b\b\b\b\b\b\b\b\b\b\b\b\b\b\b\b\b\b\b\b\b\b\b\b\b\b\b\b\b\b\b\b\b\b\b\b\b\b\b\b\b\b\b\b\b\b\b\b\b\b\b\b\b\b\b\b\b\b\b\b\b\b\r95/95 [==============================] - 60s 633ms/step - loss: 62.4163 - mean_squared_error: 62.4163 - mean_absolute_error: 5.0751 - r2_score: 0.4642 - val_loss: 84.1936 - val_mean_squared_error: 84.1936 - val_mean_absolute_error: 4.5168 - val_r2_score: nan\n",
            "Epoch 39/100\n",
            "95/95 [==============================] - 47s 498ms/step - loss: 58.4368 - mean_squared_error: 58.4368 - mean_absolute_error: 4.9844 - r2_score: 0.4857 - val_loss: 82.7839 - val_mean_squared_error: 82.7839 - val_mean_absolute_error: 4.3804 - val_r2_score: nan\n",
            "Epoch 40/100\n",
            " 1/95 [..............................] - ETA: 15s - loss: 104.7191 - mean_squared_error: 104.7191 - mean_absolute_error: 6.6194 - r2_score: 0.4662"
          ]
        },
        {
          "output_type": "stream",
          "name": "stderr",
          "text": [
            "/usr/local/lib/python3.9/dist-packages/tensorflow/python/autograph/impl/api.py:371: UndefinedMetricWarning: R^2 score is not well-defined with less than two samples.\n",
            "  return py_builtins.overload_of(f)(*args)\n"
          ]
        },
        {
          "output_type": "stream",
          "name": "stdout",
          "text": [
            "95/95 [==============================] - ETA: 0s - loss: 60.1769 - mean_squared_error: 60.1769 - mean_absolute_error: 4.9646 - r2_score: 0.4411"
          ]
        },
        {
          "output_type": "stream",
          "name": "stderr",
          "text": [
            "/usr/local/lib/python3.9/dist-packages/tensorflow/python/autograph/impl/api.py:371: UndefinedMetricWarning: R^2 score is not well-defined with less than two samples.\n",
            "  return py_builtins.overload_of(f)(*args)\n"
          ]
        },
        {
          "output_type": "stream",
          "name": "stdout",
          "text": [
            "\b\b\b\b\b\b\b\b\b\b\b\b\b\b\b\b\b\b\b\b\b\b\b\b\b\b\b\b\b\b\b\b\b\b\b\b\b\b\b\b\b\b\b\b\b\b\b\b\b\b\b\b\b\b\b\b\b\b\b\b\b\b\b\b\b\b\b\b\b\b\b\b\b\b\b\b\b\b\b\b\b\b\b\b\b\b\b\b\b\b\b\b\b\b\b\b\b\b\b\b\b\b\b\b\b\b\b\b\b\b\b\b\b\b\b\b\b\b\b\b\b\b\b\b\b\b\b\b\b\b\b\b\b\b\b\b\b\b\b\b\b\b\b\r95/95 [==============================] - 59s 623ms/step - loss: 60.1769 - mean_squared_error: 60.1769 - mean_absolute_error: 4.9646 - r2_score: 0.4411 - val_loss: 81.8891 - val_mean_squared_error: 81.8891 - val_mean_absolute_error: 4.5337 - val_r2_score: nan\n",
            "Epoch 41/100\n",
            "95/95 [==============================] - ETA: 0s - loss: 58.3656 - mean_squared_error: 58.3656 - mean_absolute_error: 4.9650 - r2_score: 0.4566"
          ]
        },
        {
          "output_type": "stream",
          "name": "stderr",
          "text": [
            "/usr/local/lib/python3.9/dist-packages/tensorflow/python/autograph/impl/api.py:371: UndefinedMetricWarning: R^2 score is not well-defined with less than two samples.\n",
            "  return py_builtins.overload_of(f)(*args)\n",
            "WARNING:absl:Found untraced functions such as _update_step_xla, lstm_cell_4_layer_call_fn, lstm_cell_4_layer_call_and_return_conditional_losses, lstm_cell_5_layer_call_fn, lstm_cell_5_layer_call_and_return_conditional_losses while saving (showing 5 of 5). These functions will not be directly callable after loading.\n"
          ]
        },
        {
          "output_type": "stream",
          "name": "stdout",
          "text": [
            "\b\b\b\b\b\b\b\b\b\b\b\b\b\b\b\b\b\b\b\b\b\b\b\b\b\b\b\b\b\b\b\b\b\b\b\b\b\b\b\b\b\b\b\b\b\b\b\b\b\b\b\b\b\b\b\b\b\b\b\b\b\b\b\b\b\b\b\b\b\b\b\b\b\b\b\b\b\b\b\b\b\b\b\b\b\b\b\b\b\b\b\b\b\b\b\b\b\b\b\b\b\b\b\b\b\b\b\b\b\b\b\b\b\b\b\b\b\b\b\b\b\b\b\b\b\b\b\b\b\b\b\b\b\b\b\b\b\b\b\b\b\b\b\r95/95 [==============================] - 70s 739ms/step - loss: 58.3656 - mean_squared_error: 58.3656 - mean_absolute_error: 4.9650 - r2_score: 0.4566 - val_loss: 79.5382 - val_mean_squared_error: 79.5382 - val_mean_absolute_error: 4.5014 - val_r2_score: nan\n",
            "Epoch 42/100\n",
            "95/95 [==============================] - 44s 470ms/step - loss: 58.2587 - mean_squared_error: 58.2587 - mean_absolute_error: 4.9722 - r2_score: 0.4573 - val_loss: 81.5124 - val_mean_squared_error: 81.5124 - val_mean_absolute_error: 4.5767 - val_r2_score: nan\n",
            "Epoch 43/100\n",
            " 1/95 [..............................] - ETA: 15s - loss: 39.8051 - mean_squared_error: 39.8051 - mean_absolute_error: 4.3409 - r2_score: 0.7828"
          ]
        },
        {
          "output_type": "stream",
          "name": "stderr",
          "text": [
            "/usr/local/lib/python3.9/dist-packages/tensorflow/python/autograph/impl/api.py:371: UndefinedMetricWarning: R^2 score is not well-defined with less than two samples.\n",
            "  return py_builtins.overload_of(f)(*args)\n"
          ]
        },
        {
          "output_type": "stream",
          "name": "stdout",
          "text": [
            "95/95 [==============================] - ETA: 0s - loss: 60.6400 - mean_squared_error: 60.6400 - mean_absolute_error: 5.0578 - r2_score: 0.4609"
          ]
        },
        {
          "output_type": "stream",
          "name": "stderr",
          "text": [
            "/usr/local/lib/python3.9/dist-packages/tensorflow/python/autograph/impl/api.py:371: UndefinedMetricWarning: R^2 score is not well-defined with less than two samples.\n",
            "  return py_builtins.overload_of(f)(*args)\n"
          ]
        },
        {
          "output_type": "stream",
          "name": "stdout",
          "text": [
            "\b\b\b\b\b\b\b\b\b\b\b\b\b\b\b\b\b\b\b\b\b\b\b\b\b\b\b\b\b\b\b\b\b\b\b\b\b\b\b\b\b\b\b\b\b\b\b\b\b\b\b\b\b\b\b\b\b\b\b\b\b\b\b\b\b\b\b\b\b\b\b\b\b\b\b\b\b\b\b\b\b\b\b\b\b\b\b\b\b\b\b\b\b\b\b\b\b\b\b\b\b\b\b\b\b\b\b\b\b\b\b\b\b\b\b\b\b\b\b\b\b\b\b\b\b\b\b\b\b\b\b\b\b\b\b\b\b\b\b\b\b\b\b\r95/95 [==============================] - 58s 613ms/step - loss: 60.6400 - mean_squared_error: 60.6400 - mean_absolute_error: 5.0578 - r2_score: 0.4609 - val_loss: 84.6621 - val_mean_squared_error: 84.6621 - val_mean_absolute_error: 4.5302 - val_r2_score: nan\n",
            "Epoch 44/100\n",
            "95/95 [==============================] - 45s 472ms/step - loss: 59.9395 - mean_squared_error: 59.9395 - mean_absolute_error: 5.0494 - r2_score: 0.4508 - val_loss: 93.8614 - val_mean_squared_error: 93.8614 - val_mean_absolute_error: 4.5785 - val_r2_score: nan\n",
            "Epoch 45/100\n",
            " 1/95 [..............................] - ETA: 16s - loss: 45.8670 - mean_squared_error: 45.8670 - mean_absolute_error: 4.4076 - r2_score: 0.4633"
          ]
        },
        {
          "output_type": "stream",
          "name": "stderr",
          "text": [
            "/usr/local/lib/python3.9/dist-packages/tensorflow/python/autograph/impl/api.py:371: UndefinedMetricWarning: R^2 score is not well-defined with less than two samples.\n",
            "  return py_builtins.overload_of(f)(*args)\n"
          ]
        },
        {
          "output_type": "stream",
          "name": "stdout",
          "text": [
            "95/95 [==============================] - 44s 465ms/step - loss: 62.3338 - mean_squared_error: 62.3338 - mean_absolute_error: 5.1045 - r2_score: 0.4426 - val_loss: 85.1313 - val_mean_squared_error: 85.1313 - val_mean_absolute_error: 4.7461 - val_r2_score: nan\n",
            "Epoch 46/100\n",
            " 1/95 [..............................] - ETA: 15s - loss: 78.2844 - mean_squared_error: 78.2844 - mean_absolute_error: 5.4815 - r2_score: 0.3812"
          ]
        },
        {
          "output_type": "stream",
          "name": "stderr",
          "text": [
            "/usr/local/lib/python3.9/dist-packages/tensorflow/python/autograph/impl/api.py:371: UndefinedMetricWarning: R^2 score is not well-defined with less than two samples.\n",
            "  return py_builtins.overload_of(f)(*args)\n"
          ]
        },
        {
          "output_type": "stream",
          "name": "stdout",
          "text": [
            "95/95 [==============================] - 45s 480ms/step - loss: 60.5339 - mean_squared_error: 60.5339 - mean_absolute_error: 5.0005 - r2_score: 0.4115 - val_loss: 88.6122 - val_mean_squared_error: 88.6122 - val_mean_absolute_error: 4.4822 - val_r2_score: nan\n",
            "Epoch 47/100\n"
          ]
        },
        {
          "output_type": "stream",
          "name": "stderr",
          "text": [
            "/usr/local/lib/python3.9/dist-packages/tensorflow/python/autograph/impl/api.py:371: UndefinedMetricWarning: R^2 score is not well-defined with less than two samples.\n",
            "  return py_builtins.overload_of(f)(*args)\n"
          ]
        },
        {
          "output_type": "stream",
          "name": "stdout",
          "text": [
            "95/95 [==============================] - 46s 484ms/step - loss: 56.4934 - mean_squared_error: 56.4934 - mean_absolute_error: 4.9330 - r2_score: 0.4141 - val_loss: 79.5803 - val_mean_squared_error: 79.5803 - val_mean_absolute_error: 4.3590 - val_r2_score: nan\n",
            "Epoch 48/100\n",
            " 1/95 [..............................] - ETA: 15s - loss: 50.2368 - mean_squared_error: 50.2368 - mean_absolute_error: 5.3097 - r2_score: 0.6621"
          ]
        },
        {
          "output_type": "stream",
          "name": "stderr",
          "text": [
            "/usr/local/lib/python3.9/dist-packages/tensorflow/python/autograph/impl/api.py:371: UndefinedMetricWarning: R^2 score is not well-defined with less than two samples.\n",
            "  return py_builtins.overload_of(f)(*args)\n"
          ]
        },
        {
          "output_type": "stream",
          "name": "stdout",
          "text": [
            "95/95 [==============================] - 43s 460ms/step - loss: 58.3361 - mean_squared_error: 58.3361 - mean_absolute_error: 4.9661 - r2_score: 0.4992 - val_loss: 88.3202 - val_mean_squared_error: 88.3202 - val_mean_absolute_error: 4.4214 - val_r2_score: nan\n",
            "Epoch 49/100\n",
            " 1/95 [..............................] - ETA: 14s - loss: 40.0470 - mean_squared_error: 40.0470 - mean_absolute_error: 3.7110 - r2_score: 0.6679"
          ]
        },
        {
          "output_type": "stream",
          "name": "stderr",
          "text": [
            "/usr/local/lib/python3.9/dist-packages/tensorflow/python/autograph/impl/api.py:371: UndefinedMetricWarning: R^2 score is not well-defined with less than two samples.\n",
            "  return py_builtins.overload_of(f)(*args)\n"
          ]
        },
        {
          "output_type": "stream",
          "name": "stdout",
          "text": [
            "95/95 [==============================] - 43s 461ms/step - loss: 59.0591 - mean_squared_error: 59.0591 - mean_absolute_error: 5.0246 - r2_score: 0.4661 - val_loss: 80.0263 - val_mean_squared_error: 80.0263 - val_mean_absolute_error: 4.5230 - val_r2_score: nan\n",
            "Epoch 50/100\n",
            " 1/95 [..............................] - ETA: 14s - loss: 44.7827 - mean_squared_error: 44.7827 - mean_absolute_error: 4.9961 - r2_score: 0.2834"
          ]
        },
        {
          "output_type": "stream",
          "name": "stderr",
          "text": [
            "/usr/local/lib/python3.9/dist-packages/tensorflow/python/autograph/impl/api.py:371: UndefinedMetricWarning: R^2 score is not well-defined with less than two samples.\n",
            "  return py_builtins.overload_of(f)(*args)\n"
          ]
        },
        {
          "output_type": "stream",
          "name": "stdout",
          "text": [
            "95/95 [==============================] - 43s 458ms/step - loss: 59.5254 - mean_squared_error: 59.5254 - mean_absolute_error: 4.9632 - r2_score: 0.4667 - val_loss: 80.4494 - val_mean_squared_error: 80.4494 - val_mean_absolute_error: 4.6702 - val_r2_score: nan\n",
            "Epoch 51/100\n",
            " 1/95 [..............................] - ETA: 14s - loss: 139.1001 - mean_squared_error: 139.1001 - mean_absolute_error: 6.9108 - r2_score: -1.6139"
          ]
        },
        {
          "output_type": "stream",
          "name": "stderr",
          "text": [
            "/usr/local/lib/python3.9/dist-packages/tensorflow/python/autograph/impl/api.py:371: UndefinedMetricWarning: R^2 score is not well-defined with less than two samples.\n",
            "  return py_builtins.overload_of(f)(*args)\n"
          ]
        },
        {
          "output_type": "stream",
          "name": "stdout",
          "text": [
            "95/95 [==============================] - ETA: 0s - loss: 60.6142 - mean_squared_error: 60.6142 - mean_absolute_error: 5.0108 - r2_score: 0.4324"
          ]
        },
        {
          "output_type": "stream",
          "name": "stderr",
          "text": [
            "/usr/local/lib/python3.9/dist-packages/tensorflow/python/autograph/impl/api.py:371: UndefinedMetricWarning: R^2 score is not well-defined with less than two samples.\n",
            "  return py_builtins.overload_of(f)(*args)\n"
          ]
        },
        {
          "output_type": "stream",
          "name": "stdout",
          "text": [
            "\b\b\b\b\b\b\b\b\b\b\b\b\b\b\b\b\b\b\b\b\b\b\b\b\b\b\b\b\b\b\b\b\b\b\b\b\b\b\b\b\b\b\b\b\b\b\b\b\b\b\b\b\b\b\b\b\b\b\b\b\b\b\b\b\b\b\b\b\b\b\b\b\b\b\b\b\b\b\b\b\b\b\b\b\b\b\b\b\b\b\b\b\b\b\b\b\b\b\b\b\b\b\b\b\b\b\b\b\b\b\b\b\b\b\b\b\b\b\b\b\b\b\b\b\b\b\b\b\b\b\b\b\b\b\b\b\b\b\b\b\b\b\b\r95/95 [==============================] - 58s 610ms/step - loss: 60.6142 - mean_squared_error: 60.6142 - mean_absolute_error: 5.0108 - r2_score: 0.4324 - val_loss: 84.6298 - val_mean_squared_error: 84.6298 - val_mean_absolute_error: 4.4559 - val_r2_score: nan\n"
          ]
        }
      ],
      "source": [
        "### Design API for custom LSTM model - 2023/03/14\n",
        "\n",
        "class LSTM_model:\n",
        "\n",
        "  def __init__(self,x_train=[], y_train=[], x_test=[], y_test=[], num_LSTM=[128,64], dropout_value = 0, mlp_num=[20,10,1], epochs=10,\n",
        "               batch_size=16, input_shape=(9,1), loss='mse', optimizer='adam',\n",
        "               metrics = 'mean_squared_error', patience_num=3, show_progress=True):\n",
        "    self.num_LSTM = num_LSTM\n",
        "    self.dropout_value = dropout_value\n",
        "    self.mlp_num = mlp_num\n",
        "    self.epochs = epochs\n",
        "    self.batch_size = batch_size\n",
        "    self.input_shape = input_shape\n",
        "    self.loss = loss\n",
        "    self.optimizer = optimizer\n",
        "    self.metrics = metrics\n",
        "    self.patience_num = patience_num\n",
        "    self.show_progress = show_progress\n",
        "    self.x_train = x_train\n",
        "    self.y_train = y_train\n",
        "    self.x_test = x_test\n",
        "    self.y_test = y_test\n",
        "\n",
        "    if (len(self.x_train)==0):\n",
        "      raise Exception(\"Please input the train data\")\n",
        "    if (len(self.y_train)==0):\n",
        "      raise Exception (\"Please input the label train data\")\n",
        "\n",
        "    self.lstm_model = Sequential()\n",
        "    if len(self.num_LSTM) > 1:\n",
        "      for i in self.num_LSTM:\n",
        "        self.lstm_model.add(LSTM(i, input_shape=self.input_shape, return_sequences=True))\n",
        "    else:\n",
        "      self.lstm_model.add(LSTM(self.num_LSTM[0], input_shape=self.input_shape))\n",
        "    self.lstm_model.add(Flatten())\n",
        "    for i in self.mlp_num:\n",
        "      self.lstm_model.add(Dropout(self.dropout_value))\n",
        "      self.lstm_model.add(Dense(i, activation='relu'))\n",
        "\n",
        "  def print_model_architecture(self):\n",
        "    self.lstm_model.summary()\n",
        "\n",
        "  def train_model(self):\n",
        "    callback = keras.callbacks.EarlyStopping(monitor='val_loss', patience=self.patience_num)\n",
        "\n",
        "    model_checkpoint_callback = keras.callbacks.ModelCheckpoint(\n",
        "    filepath='./ckpt/sentiment',\n",
        "    save_weights_only=False,\n",
        "    monitor='val_loss',\n",
        "    mode='min',\n",
        "    save_best_only=True)\n",
        "\n",
        "    self.lstm_model.compile(loss=self.loss, optimizer=self.optimizer, metrics=self.metrics, run_eagerly=True)\n",
        "    history = self.lstm_model.fit(self.x_train, self.y_train, validation_data=(self.x_test, self.y_test), batch_size= self.batch_size, epochs=self.epochs, callbacks=[callback, model_checkpoint_callback], verbose=self.show_progress)\n",
        "\n",
        "    return self.lstm_model, history\n",
        "\n",
        "  def predict(self,X_test):\n",
        "    return self.lstm_model.predict(X_test)\n",
        "\n",
        "X_train, y_train, X_test, y_test = split(df, method='by_date', regressor=True, sentiment=True, rating=True, n = 1)\n",
        "\n",
        "lstm_model = LSTM_model(x_train=X_train, y_train=y_train, x_test=X_test, y_test=y_test, num_LSTM=[16, 32], dropout_value = 0.1, mlp_num=[16,8,1], epochs=100,\n",
        "               batch_size=32, input_shape=(X_train.shape[1], 1), loss='mse', optimizer='adam',\n",
        "               metrics = ['mean_squared_error', 'mean_absolute_error', r2_score], patience_num=10, show_progress=True)\n",
        "\n",
        "lstm_model.print_model_architecture()\n",
        "model, hist = lstm_model.train_model()"
      ]
    },
    {
      "cell_type": "code",
      "execution_count": null,
      "metadata": {
        "colab": {
          "base_uri": "https://localhost:8080/"
        },
        "id": "ZeqhLzsloLbv",
        "outputId": "bcd6df11-ff18-432c-c815-2a3f46adf667"
      },
      "outputs": [
        {
          "name": "stdout",
          "output_type": "stream",
          "text": [
            "78.80146789550781\n",
            "4.326005935668945\n",
            "nan\n"
          ]
        }
      ],
      "source": [
        "print(min(hist.history['val_loss']))\n",
        "print(min(hist.history['val_mean_absolute_error']))\n",
        "print(max(hist.history['val_r2_score']))"
      ]
    },
    {
      "cell_type": "code",
      "execution_count": null,
      "metadata": {
        "id": "sUfpNEp6oLbv"
      },
      "outputs": [],
      "source": [
        "def gen_arima(df):\n",
        "    train, test = df[df[\"datetime\"] <= \"2023-03-14\"],df[df[\"datetime\"] > \"2023-03-14\"]\n",
        "    X_train, y_train = train[[\"q_sold\",\"item\"]], train[[\"label\", \"item\"]]\n",
        "    X_test, y_test = test[[\"q_sold\",\"item\"]], test[[\"label\", \"item\"]]\n",
        "    valid_item = []\n",
        "    X_train_ensemble, X_test_ensemble = [], []\n",
        "    y_train_ensemble, y_test_ensemble = [], []\n",
        "    for item in tqdm(range(1,301)):\n",
        "        history = X_train[X_train[\"item\"] == item][\"q_sold\"].values.tolist()\n",
        "        test_ = X_test[X_test[\"item\"] == item][\"q_sold\"].values.tolist()\n",
        "        if len(history) > 2 and len(test_) > 1:\n",
        "            valid_item.append(item)\n",
        "            y_train_ensemble.append(y_train[y_train[\"item\"] == item][\"label\"].values.tolist())\n",
        "            y_test_ensemble.append(y_test[y_test[\"item\"] == item][\"label\"].values.tolist())\n",
        "            X_train_ensemble.append(ARIMA(history, order=(1,1,1)).fit().predict(start=1, end=len(history)))\n",
        "            X_test_item = []\n",
        "            for sample in range(len(test_)):\n",
        "                X_test_item.append(ARIMA(history, order=(1,1,1)).fit().forecast()[0])\n",
        "                history.append(test_[sample])\n",
        "            X_test_ensemble.append(X_test_item)\n",
        "    return X_train_ensemble, y_train_ensemble, X_test_ensemble, y_test_ensemble, valid_item\n",
        "\n",
        "def gen_lstm(df, path, sentiment=True, rating=True, valid_item=None):\n",
        "    train, test = [], []\n",
        "    y_tr, y_te = [], []\n",
        "    model = load_model(path, custom_objects={\"r2_score\": r2_score})\n",
        "    for i in valid_item:\n",
        "        X_train, y_train, X_test, y_test = split(df[df['item']==i], method='by_date', regressor=True, n = 1, sentiment=sentiment, rating=rating)\n",
        "        train.append(model.predict(X_train))\n",
        "        test.append(model.predict(X_test))\n",
        "        y_tr.append(y_train)\n",
        "        y_te.append(y_test)\n",
        "    return train, y_tr, test, y_te\n",
        "\n",
        "def ensemble(X_arima, X_lstm, y_train, X_test_arima, X_test_lstm, y_test):\n",
        "    assert len(X_arima) == len(X_lstm) == len(y_train)\n",
        "    cat_data, X_test = [], []\n",
        "    X_arima = np.squeeze(np.array([i.tolist() for i in X_arima])).tolist()\n",
        "    X_lstm = np.squeeze(np.array([np.squeeze(i).tolist() for i in X_lstm])).tolist()\n",
        "    cat_data = [[X_arima[i][j], X_lstm[i][j]] for i in range(len(X_arima)) for j in range(len(X_arima[i]))]\n",
        "    X_train = np.array(cat_data)\n",
        "    y_train = np.array([[j] for i in y_train for j in i])\n",
        "    X_test_lstm = np.squeeze(np.array([np.squeeze(i).tolist() for i in X_test_lstm])).tolist()\n",
        "    for i in range(len(X_test_lstm)):\n",
        "        for j in range(len(X_test_lstm[i])):\n",
        "            X_test+=[[X_test_arima[i][j],X_test_lstm[i][j]]]\n",
        "    X_test = [[X_test_arima[i][j], X_test_lstm[i][j]] for i in range(len(X_test_arima)) for j in range(len(X_test_arima[i]))]\n",
        "    y_test = [[j] for i in y_test for j in i]\n",
        "    clf = LinearRegression()\n",
        "    clf.fit(X_train, y_train)\n",
        "\n",
        "    y_hat = clf.predict(X_test)\n",
        "\n",
        "    print(\"R2 score  :\", r2_score(y_test, y_hat))\n",
        "    print(\"MSE score  :\", mean_squared_error(y_test, y_hat))\n",
        "    print(\"MAE score :\", mean_absolute_error(y_test, y_hat))\n",
        "    print(\"RMSE: \", sqrt(mean_squared_error(y_test, y_hat)))\n",
        "\n",
        "    return clf\n"
      ]
    },
    {
      "cell_type": "code",
      "execution_count": null,
      "metadata": {
        "colab": {
          "base_uri": "https://localhost:8080/"
        },
        "id": "cdGcsKH408XE",
        "outputId": "adc3bec3-93ed-42be-fee5-7c165fb56ba0"
      },
      "outputs": [
        {
          "output_type": "stream",
          "name": "stderr",
          "text": [
            "  1%|▏         | 4/300 [00:07<09:55,  2.01s/it]/usr/local/lib/python3.9/dist-packages/statsmodels/tsa/statespace/sarimax.py:978: UserWarning: Non-invertible starting MA parameters found. Using zeros as starting parameters.\n",
            "  warn('Non-invertible starting MA parameters found.'\n",
            "  2%|▏         | 5/300 [00:09<09:52,  2.01s/it]/usr/local/lib/python3.9/dist-packages/statsmodels/tsa/statespace/sarimax.py:966: UserWarning: Non-stationary starting autoregressive parameters found. Using zeros as starting parameters.\n",
            "  warn('Non-stationary starting autoregressive parameters'\n",
            "  5%|▌         | 16/300 [00:28<08:39,  1.83s/it]/usr/local/lib/python3.9/dist-packages/statsmodels/tsa/statespace/sarimax.py:866: UserWarning: Too few observations to estimate starting parameters for ARMA and trend. All parameters except for variances will be set to zeros.\n",
            "  warn('Too few observations to estimate starting parameters%s.'\n",
            " 12%|█▏        | 37/300 [01:08<08:37,  1.97s/it]/usr/local/lib/python3.9/dist-packages/statsmodels/base/model.py:604: ConvergenceWarning: Maximum Likelihood optimization failed to converge. Check mle_retvals\n",
            "  warnings.warn(\"Maximum Likelihood optimization failed to \"\n",
            " 14%|█▍        | 43/300 [01:19<09:06,  2.13s/it]/usr/local/lib/python3.9/dist-packages/statsmodels/base/model.py:604: ConvergenceWarning: Maximum Likelihood optimization failed to converge. Check mle_retvals\n",
            "  warnings.warn(\"Maximum Likelihood optimization failed to \"\n",
            " 31%|███       | 93/300 [03:04<08:37,  2.50s/it]/usr/local/lib/python3.9/dist-packages/statsmodels/base/model.py:604: ConvergenceWarning: Maximum Likelihood optimization failed to converge. Check mle_retvals\n",
            "  warnings.warn(\"Maximum Likelihood optimization failed to \"\n",
            "/usr/local/lib/python3.9/dist-packages/statsmodels/base/model.py:604: ConvergenceWarning: Maximum Likelihood optimization failed to converge. Check mle_retvals\n",
            "  warnings.warn(\"Maximum Likelihood optimization failed to \"\n",
            " 43%|████▎     | 129/300 [04:17<06:37,  2.32s/it]/usr/local/lib/python3.9/dist-packages/statsmodels/base/model.py:604: ConvergenceWarning: Maximum Likelihood optimization failed to converge. Check mle_retvals\n",
            "  warnings.warn(\"Maximum Likelihood optimization failed to \"\n",
            " 62%|██████▏   | 187/300 [06:02<03:59,  2.12s/it]/usr/local/lib/python3.9/dist-packages/statsmodels/base/model.py:604: ConvergenceWarning: Maximum Likelihood optimization failed to converge. Check mle_retvals\n",
            "  warnings.warn(\"Maximum Likelihood optimization failed to \"\n",
            "/usr/local/lib/python3.9/dist-packages/statsmodels/base/model.py:604: ConvergenceWarning: Maximum Likelihood optimization failed to converge. Check mle_retvals\n",
            "  warnings.warn(\"Maximum Likelihood optimization failed to \"\n",
            "/usr/local/lib/python3.9/dist-packages/statsmodels/base/model.py:604: ConvergenceWarning: Maximum Likelihood optimization failed to converge. Check mle_retvals\n",
            "  warnings.warn(\"Maximum Likelihood optimization failed to \"\n",
            "/usr/local/lib/python3.9/dist-packages/statsmodels/base/model.py:604: ConvergenceWarning: Maximum Likelihood optimization failed to converge. Check mle_retvals\n",
            "  warnings.warn(\"Maximum Likelihood optimization failed to \"\n",
            " 64%|██████▎   | 191/300 [06:09<03:00,  1.66s/it]/usr/local/lib/python3.9/dist-packages/statsmodels/base/model.py:604: ConvergenceWarning: Maximum Likelihood optimization failed to converge. Check mle_retvals\n",
            "  warnings.warn(\"Maximum Likelihood optimization failed to \"\n",
            "/usr/local/lib/python3.9/dist-packages/statsmodels/base/model.py:604: ConvergenceWarning: Maximum Likelihood optimization failed to converge. Check mle_retvals\n",
            "  warnings.warn(\"Maximum Likelihood optimization failed to \"\n",
            " 69%|██████▉   | 208/300 [06:44<03:45,  2.45s/it]/usr/local/lib/python3.9/dist-packages/statsmodels/base/model.py:604: ConvergenceWarning: Maximum Likelihood optimization failed to converge. Check mle_retvals\n",
            "  warnings.warn(\"Maximum Likelihood optimization failed to \"\n",
            " 70%|██████▉   | 209/300 [06:47<03:49,  2.52s/it]/usr/local/lib/python3.9/dist-packages/statsmodels/base/model.py:604: ConvergenceWarning: Maximum Likelihood optimization failed to converge. Check mle_retvals\n",
            "  warnings.warn(\"Maximum Likelihood optimization failed to \"\n",
            "/usr/local/lib/python3.9/dist-packages/statsmodels/base/model.py:604: ConvergenceWarning: Maximum Likelihood optimization failed to converge. Check mle_retvals\n",
            "  warnings.warn(\"Maximum Likelihood optimization failed to \"\n",
            "/usr/local/lib/python3.9/dist-packages/statsmodels/base/model.py:604: ConvergenceWarning: Maximum Likelihood optimization failed to converge. Check mle_retvals\n",
            "  warnings.warn(\"Maximum Likelihood optimization failed to \"\n",
            " 72%|███████▏  | 217/300 [07:02<02:23,  1.73s/it]/usr/local/lib/python3.9/dist-packages/statsmodels/base/model.py:604: ConvergenceWarning: Maximum Likelihood optimization failed to converge. Check mle_retvals\n",
            "  warnings.warn(\"Maximum Likelihood optimization failed to \"\n",
            "/usr/local/lib/python3.9/dist-packages/statsmodels/base/model.py:604: ConvergenceWarning: Maximum Likelihood optimization failed to converge. Check mle_retvals\n",
            "  warnings.warn(\"Maximum Likelihood optimization failed to \"\n",
            " 80%|████████  | 241/300 [07:48<01:46,  1.80s/it]/usr/local/lib/python3.9/dist-packages/statsmodels/base/model.py:604: ConvergenceWarning: Maximum Likelihood optimization failed to converge. Check mle_retvals\n",
            "  warnings.warn(\"Maximum Likelihood optimization failed to \"\n",
            "/usr/local/lib/python3.9/dist-packages/statsmodels/base/model.py:604: ConvergenceWarning: Maximum Likelihood optimization failed to converge. Check mle_retvals\n",
            "  warnings.warn(\"Maximum Likelihood optimization failed to \"\n",
            " 87%|████████▋ | 261/300 [08:24<01:05,  1.67s/it]/usr/local/lib/python3.9/dist-packages/statsmodels/base/model.py:604: ConvergenceWarning: Maximum Likelihood optimization failed to converge. Check mle_retvals\n",
            "  warnings.warn(\"Maximum Likelihood optimization failed to \"\n",
            "/usr/local/lib/python3.9/dist-packages/statsmodels/base/model.py:604: ConvergenceWarning: Maximum Likelihood optimization failed to converge. Check mle_retvals\n",
            "  warnings.warn(\"Maximum Likelihood optimization failed to \"\n",
            " 90%|████████▉ | 269/300 [08:39<00:48,  1.57s/it]/usr/local/lib/python3.9/dist-packages/statsmodels/base/model.py:604: ConvergenceWarning: Maximum Likelihood optimization failed to converge. Check mle_retvals\n",
            "  warnings.warn(\"Maximum Likelihood optimization failed to \"\n",
            " 96%|█████████▌| 288/300 [09:15<00:24,  2.00s/it]/usr/local/lib/python3.9/dist-packages/statsmodels/base/model.py:604: ConvergenceWarning: Maximum Likelihood optimization failed to converge. Check mle_retvals\n",
            "  warnings.warn(\"Maximum Likelihood optimization failed to \"\n",
            "/usr/local/lib/python3.9/dist-packages/statsmodels/base/model.py:604: ConvergenceWarning: Maximum Likelihood optimization failed to converge. Check mle_retvals\n",
            "  warnings.warn(\"Maximum Likelihood optimization failed to \"\n",
            " 97%|█████████▋| 292/300 [09:20<00:13,  1.66s/it]/usr/local/lib/python3.9/dist-packages/statsmodels/base/model.py:604: ConvergenceWarning: Maximum Likelihood optimization failed to converge. Check mle_retvals\n",
            "  warnings.warn(\"Maximum Likelihood optimization failed to \"\n",
            "/usr/local/lib/python3.9/dist-packages/statsmodels/base/model.py:604: ConvergenceWarning: Maximum Likelihood optimization failed to converge. Check mle_retvals\n",
            "  warnings.warn(\"Maximum Likelihood optimization failed to \"\n",
            "100%|██████████| 300/300 [09:35<00:00,  1.92s/it]\n"
          ]
        }
      ],
      "source": [
        "X_train_ensemble, y_train_ensemble, X_test_ensemble, y_test_ensemble, valid_item = gen_arima(df)"
      ]
    },
    {
      "cell_type": "code",
      "execution_count": null,
      "metadata": {
        "colab": {
          "base_uri": "https://localhost:8080/"
        },
        "id": "NKlJuwPKoLbv",
        "outputId": "47cb6273-66af-4d0c-f483-1ec696882a71"
      },
      "outputs": [
        {
          "output_type": "stream",
          "name": "stderr",
          "text": [
            "100%|██████████| 300/300 [00:00<00:00, 1763.83it/s]\n",
            "100%|██████████| 300/300 [00:00<00:00, 1802.47it/s]\n"
          ]
        },
        {
          "output_type": "stream",
          "name": "stdout",
          "text": [
            "1/1 [==============================] - 2s 2s/step\n",
            "1/1 [==============================] - 0s 32ms/step\n"
          ]
        },
        {
          "output_type": "stream",
          "name": "stderr",
          "text": [
            "100%|██████████| 300/300 [00:00<00:00, 1682.49it/s]\n",
            "100%|██████████| 300/300 [00:00<00:00, 1607.60it/s]\n"
          ]
        },
        {
          "output_type": "stream",
          "name": "stdout",
          "text": [
            "1/1 [==============================] - 0s 33ms/step\n",
            "1/1 [==============================] - 0s 31ms/step\n"
          ]
        },
        {
          "output_type": "stream",
          "name": "stderr",
          "text": [
            "100%|██████████| 300/300 [00:00<00:00, 1900.21it/s]\n",
            "100%|██████████| 300/300 [00:00<00:00, 1726.28it/s]\n"
          ]
        },
        {
          "output_type": "stream",
          "name": "stdout",
          "text": [
            "1/1 [==============================] - 0s 31ms/step\n",
            "1/1 [==============================] - 0s 30ms/step\n"
          ]
        },
        {
          "output_type": "stream",
          "name": "stderr",
          "text": [
            "100%|██████████| 300/300 [00:00<00:00, 1634.95it/s]\n",
            "100%|██████████| 300/300 [00:00<00:00, 1660.58it/s]\n"
          ]
        },
        {
          "output_type": "stream",
          "name": "stdout",
          "text": [
            "1/1 [==============================] - 0s 34ms/step\n",
            "1/1 [==============================] - 0s 30ms/step\n"
          ]
        },
        {
          "output_type": "stream",
          "name": "stderr",
          "text": [
            "100%|██████████| 300/300 [00:00<00:00, 1789.33it/s]\n",
            "100%|██████████| 300/300 [00:00<00:00, 1875.05it/s]\n"
          ]
        },
        {
          "output_type": "stream",
          "name": "stdout",
          "text": [
            "1/1 [==============================] - 0s 38ms/step\n",
            "1/1 [==============================] - 0s 38ms/step\n"
          ]
        },
        {
          "output_type": "stream",
          "name": "stderr",
          "text": [
            "100%|██████████| 300/300 [00:00<00:00, 1512.70it/s]\n",
            "100%|██████████| 300/300 [00:00<00:00, 1948.58it/s]\n"
          ]
        },
        {
          "output_type": "stream",
          "name": "stdout",
          "text": [
            "1/1 [==============================] - 0s 32ms/step\n",
            "1/1 [==============================] - 0s 30ms/step\n"
          ]
        },
        {
          "output_type": "stream",
          "name": "stderr",
          "text": [
            "100%|██████████| 300/300 [00:00<00:00, 1697.60it/s]\n",
            "100%|██████████| 300/300 [00:00<00:00, 1676.67it/s]\n"
          ]
        },
        {
          "output_type": "stream",
          "name": "stdout",
          "text": [
            "1/1 [==============================] - 0s 29ms/step\n",
            "1/1 [==============================] - 0s 28ms/step\n"
          ]
        },
        {
          "output_type": "stream",
          "name": "stderr",
          "text": [
            "100%|██████████| 300/300 [00:00<00:00, 1716.66it/s]\n",
            "100%|██████████| 300/300 [00:00<00:00, 1951.70it/s]\n"
          ]
        },
        {
          "output_type": "stream",
          "name": "stdout",
          "text": [
            "1/1 [==============================] - 0s 31ms/step\n",
            "1/1 [==============================] - 0s 28ms/step\n"
          ]
        },
        {
          "output_type": "stream",
          "name": "stderr",
          "text": [
            "100%|██████████| 300/300 [00:00<00:00, 1774.73it/s]\n",
            "100%|██████████| 300/300 [00:00<00:00, 1786.13it/s]\n"
          ]
        },
        {
          "output_type": "stream",
          "name": "stdout",
          "text": [
            "1/1 [==============================] - 0s 32ms/step\n",
            "1/1 [==============================] - 0s 31ms/step\n"
          ]
        },
        {
          "output_type": "stream",
          "name": "stderr",
          "text": [
            "100%|██████████| 300/300 [00:00<00:00, 1724.54it/s]\n",
            "100%|██████████| 300/300 [00:00<00:00, 1817.19it/s]\n"
          ]
        },
        {
          "output_type": "stream",
          "name": "stdout",
          "text": [
            "1/1 [==============================] - 0s 28ms/step\n",
            "1/1 [==============================] - 0s 28ms/step\n"
          ]
        },
        {
          "output_type": "stream",
          "name": "stderr",
          "text": [
            "100%|██████████| 300/300 [00:00<00:00, 1861.71it/s]\n",
            "100%|██████████| 300/300 [00:00<00:00, 1680.98it/s]\n"
          ]
        },
        {
          "output_type": "stream",
          "name": "stdout",
          "text": [
            "1/1 [==============================] - 0s 32ms/step\n",
            "1/1 [==============================] - 0s 29ms/step\n"
          ]
        },
        {
          "output_type": "stream",
          "name": "stderr",
          "text": [
            "100%|██████████| 300/300 [00:00<00:00, 1676.22it/s]\n",
            "100%|██████████| 300/300 [00:00<00:00, 1748.61it/s]\n"
          ]
        },
        {
          "output_type": "stream",
          "name": "stdout",
          "text": [
            "1/1 [==============================] - 0s 27ms/step\n",
            "1/1 [==============================] - 0s 30ms/step\n"
          ]
        },
        {
          "output_type": "stream",
          "name": "stderr",
          "text": [
            "100%|██████████| 300/300 [00:00<00:00, 1707.65it/s]\n",
            "100%|██████████| 300/300 [00:00<00:00, 1754.02it/s]\n"
          ]
        },
        {
          "output_type": "stream",
          "name": "stdout",
          "text": [
            "1/1 [==============================] - 0s 40ms/step\n",
            "1/1 [==============================] - 0s 35ms/step\n"
          ]
        },
        {
          "output_type": "stream",
          "name": "stderr",
          "text": [
            "100%|██████████| 300/300 [00:00<00:00, 1731.66it/s]\n",
            "100%|██████████| 300/300 [00:00<00:00, 1771.01it/s]\n"
          ]
        },
        {
          "output_type": "stream",
          "name": "stdout",
          "text": [
            "1/1 [==============================] - 0s 29ms/step\n",
            "1/1 [==============================] - 0s 28ms/step\n"
          ]
        },
        {
          "output_type": "stream",
          "name": "stderr",
          "text": [
            "100%|██████████| 300/300 [00:00<00:00, 1635.33it/s]\n",
            "100%|██████████| 300/300 [00:00<00:00, 1830.59it/s]\n"
          ]
        },
        {
          "output_type": "stream",
          "name": "stdout",
          "text": [
            "1/1 [==============================] - 0s 57ms/step\n",
            "1/1 [==============================] - 0s 42ms/step\n"
          ]
        },
        {
          "output_type": "stream",
          "name": "stderr",
          "text": [
            "100%|██████████| 300/300 [00:00<00:00, 1215.25it/s]\n",
            "100%|██████████| 300/300 [00:00<00:00, 1176.19it/s]\n"
          ]
        },
        {
          "output_type": "stream",
          "name": "stdout",
          "text": [
            "1/1 [==============================] - 0s 38ms/step\n",
            "1/1 [==============================] - 0s 39ms/step\n"
          ]
        },
        {
          "output_type": "stream",
          "name": "stderr",
          "text": [
            "100%|██████████| 300/300 [00:00<00:00, 1325.46it/s]\n",
            "100%|██████████| 300/300 [00:00<00:00, 1346.63it/s]\n"
          ]
        },
        {
          "output_type": "stream",
          "name": "stdout",
          "text": [
            "1/1 [==============================] - 0s 42ms/step\n",
            "1/1 [==============================] - 0s 41ms/step\n"
          ]
        },
        {
          "output_type": "stream",
          "name": "stderr",
          "text": [
            "100%|██████████| 300/300 [00:00<00:00, 1299.05it/s]\n",
            "100%|██████████| 300/300 [00:00<00:00, 1334.36it/s]\n"
          ]
        },
        {
          "output_type": "stream",
          "name": "stdout",
          "text": [
            "1/1 [==============================] - 0s 57ms/step\n",
            "1/1 [==============================] - 0s 38ms/step\n"
          ]
        },
        {
          "output_type": "stream",
          "name": "stderr",
          "text": [
            "100%|██████████| 300/300 [00:00<00:00, 1293.19it/s]\n",
            "100%|██████████| 300/300 [00:00<00:00, 1242.40it/s]\n"
          ]
        },
        {
          "output_type": "stream",
          "name": "stdout",
          "text": [
            "1/1 [==============================] - 0s 42ms/step\n",
            "1/1 [==============================] - 0s 39ms/step\n"
          ]
        },
        {
          "output_type": "stream",
          "name": "stderr",
          "text": [
            "100%|██████████| 300/300 [00:00<00:00, 1256.98it/s]\n",
            "100%|██████████| 300/300 [00:00<00:00, 1245.89it/s]\n"
          ]
        },
        {
          "output_type": "stream",
          "name": "stdout",
          "text": [
            "1/1 [==============================] - 0s 51ms/step\n",
            "1/1 [==============================] - 0s 37ms/step\n"
          ]
        },
        {
          "output_type": "stream",
          "name": "stderr",
          "text": [
            "100%|██████████| 300/300 [00:00<00:00, 1261.85it/s]\n",
            "100%|██████████| 300/300 [00:00<00:00, 1389.53it/s]\n"
          ]
        },
        {
          "output_type": "stream",
          "name": "stdout",
          "text": [
            "1/1 [==============================] - 0s 34ms/step\n",
            "1/1 [==============================] - 0s 26ms/step\n"
          ]
        },
        {
          "output_type": "stream",
          "name": "stderr",
          "text": [
            "100%|██████████| 300/300 [00:00<00:00, 1678.87it/s]\n",
            "100%|██████████| 300/300 [00:00<00:00, 1750.81it/s]\n"
          ]
        },
        {
          "output_type": "stream",
          "name": "stdout",
          "text": [
            "1/1 [==============================] - 0s 34ms/step\n",
            "1/1 [==============================] - 0s 29ms/step\n"
          ]
        },
        {
          "output_type": "stream",
          "name": "stderr",
          "text": [
            "100%|██████████| 300/300 [00:00<00:00, 1738.47it/s]\n",
            "100%|██████████| 300/300 [00:00<00:00, 1686.77it/s]\n"
          ]
        },
        {
          "output_type": "stream",
          "name": "stdout",
          "text": [
            "1/1 [==============================] - 0s 24ms/step\n",
            "1/1 [==============================] - 0s 25ms/step\n"
          ]
        },
        {
          "output_type": "stream",
          "name": "stderr",
          "text": [
            "100%|██████████| 300/300 [00:00<00:00, 1762.70it/s]\n",
            "100%|██████████| 300/300 [00:00<00:00, 1538.30it/s]\n"
          ]
        },
        {
          "output_type": "stream",
          "name": "stdout",
          "text": [
            "1/1 [==============================] - 0s 26ms/step\n",
            "1/1 [==============================] - 0s 25ms/step\n"
          ]
        },
        {
          "output_type": "stream",
          "name": "stderr",
          "text": [
            "100%|██████████| 300/300 [00:00<00:00, 1686.28it/s]\n",
            "100%|██████████| 300/300 [00:00<00:00, 1821.12it/s]\n"
          ]
        },
        {
          "output_type": "stream",
          "name": "stdout",
          "text": [
            "1/1 [==============================] - 0s 28ms/step\n",
            "1/1 [==============================] - 0s 27ms/step\n"
          ]
        },
        {
          "output_type": "stream",
          "name": "stderr",
          "text": [
            "100%|██████████| 300/300 [00:00<00:00, 1682.34it/s]\n",
            "100%|██████████| 300/300 [00:00<00:00, 1812.95it/s]\n"
          ]
        },
        {
          "output_type": "stream",
          "name": "stdout",
          "text": [
            "1/1 [==============================] - 0s 25ms/step\n",
            "1/1 [==============================] - 0s 25ms/step\n"
          ]
        },
        {
          "output_type": "stream",
          "name": "stderr",
          "text": [
            "100%|██████████| 300/300 [00:00<00:00, 1994.39it/s]\n",
            "100%|██████████| 300/300 [00:00<00:00, 1740.10it/s]\n"
          ]
        },
        {
          "output_type": "stream",
          "name": "stdout",
          "text": [
            "1/1 [==============================] - 0s 25ms/step\n",
            "1/1 [==============================] - 0s 26ms/step\n"
          ]
        },
        {
          "output_type": "stream",
          "name": "stderr",
          "text": [
            "100%|██████████| 300/300 [00:00<00:00, 1789.40it/s]\n",
            "100%|██████████| 300/300 [00:00<00:00, 1827.59it/s]\n"
          ]
        },
        {
          "output_type": "stream",
          "name": "stdout",
          "text": [
            "1/1 [==============================] - 0s 28ms/step\n",
            "1/1 [==============================] - 0s 31ms/step\n"
          ]
        },
        {
          "output_type": "stream",
          "name": "stderr",
          "text": [
            "100%|██████████| 300/300 [00:00<00:00, 1668.99it/s]\n",
            "100%|██████████| 300/300 [00:00<00:00, 1599.54it/s]\n"
          ]
        },
        {
          "output_type": "stream",
          "name": "stdout",
          "text": [
            "1/1 [==============================] - 0s 28ms/step\n",
            "1/1 [==============================] - 0s 30ms/step\n"
          ]
        },
        {
          "output_type": "stream",
          "name": "stderr",
          "text": [
            "100%|██████████| 300/300 [00:00<00:00, 1800.41it/s]\n",
            "100%|██████████| 300/300 [00:00<00:00, 1831.75it/s]\n"
          ]
        },
        {
          "output_type": "stream",
          "name": "stdout",
          "text": [
            "1/1 [==============================] - 0s 27ms/step\n",
            "1/1 [==============================] - 0s 25ms/step\n"
          ]
        },
        {
          "output_type": "stream",
          "name": "stderr",
          "text": [
            "100%|██████████| 300/300 [00:00<00:00, 1793.06it/s]\n",
            "100%|██████████| 300/300 [00:00<00:00, 1672.44it/s]\n"
          ]
        },
        {
          "output_type": "stream",
          "name": "stdout",
          "text": [
            "1/1 [==============================] - 0s 25ms/step\n",
            "1/1 [==============================] - 0s 28ms/step\n"
          ]
        },
        {
          "output_type": "stream",
          "name": "stderr",
          "text": [
            "100%|██████████| 300/300 [00:00<00:00, 1661.95it/s]\n",
            "100%|██████████| 300/300 [00:00<00:00, 1685.06it/s]\n"
          ]
        },
        {
          "output_type": "stream",
          "name": "stdout",
          "text": [
            "1/1 [==============================] - 0s 24ms/step\n",
            "1/1 [==============================] - 0s 26ms/step\n"
          ]
        },
        {
          "output_type": "stream",
          "name": "stderr",
          "text": [
            "100%|██████████| 300/300 [00:00<00:00, 1878.06it/s]\n",
            "100%|██████████| 300/300 [00:00<00:00, 1564.75it/s]\n"
          ]
        },
        {
          "output_type": "stream",
          "name": "stdout",
          "text": [
            "1/1 [==============================] - 0s 26ms/step\n",
            "1/1 [==============================] - 0s 27ms/step\n"
          ]
        },
        {
          "output_type": "stream",
          "name": "stderr",
          "text": [
            "100%|██████████| 300/300 [00:00<00:00, 1694.21it/s]\n",
            "100%|██████████| 300/300 [00:00<00:00, 1702.16it/s]\n"
          ]
        },
        {
          "output_type": "stream",
          "name": "stdout",
          "text": [
            "1/1 [==============================] - 0s 27ms/step\n",
            "1/1 [==============================] - 0s 25ms/step\n"
          ]
        },
        {
          "output_type": "stream",
          "name": "stderr",
          "text": [
            "100%|██████████| 300/300 [00:00<00:00, 1851.96it/s]\n",
            "100%|██████████| 300/300 [00:00<00:00, 1608.60it/s]\n"
          ]
        },
        {
          "output_type": "stream",
          "name": "stdout",
          "text": [
            "1/1 [==============================] - 0s 28ms/step\n",
            "1/1 [==============================] - 0s 27ms/step\n"
          ]
        },
        {
          "output_type": "stream",
          "name": "stderr",
          "text": [
            "100%|██████████| 300/300 [00:00<00:00, 1728.96it/s]\n",
            "100%|██████████| 300/300 [00:00<00:00, 1989.75it/s]\n"
          ]
        },
        {
          "output_type": "stream",
          "name": "stdout",
          "text": [
            "1/1 [==============================] - 0s 31ms/step\n",
            "1/1 [==============================] - 0s 25ms/step\n"
          ]
        },
        {
          "output_type": "stream",
          "name": "stderr",
          "text": [
            "100%|██████████| 300/300 [00:00<00:00, 1759.43it/s]\n",
            "100%|██████████| 300/300 [00:00<00:00, 1653.19it/s]\n"
          ]
        },
        {
          "output_type": "stream",
          "name": "stdout",
          "text": [
            "1/1 [==============================] - 0s 28ms/step\n",
            "1/1 [==============================] - 0s 26ms/step\n"
          ]
        },
        {
          "output_type": "stream",
          "name": "stderr",
          "text": [
            "100%|██████████| 300/300 [00:00<00:00, 1657.14it/s]\n",
            "100%|██████████| 300/300 [00:00<00:00, 2023.47it/s]\n"
          ]
        },
        {
          "output_type": "stream",
          "name": "stdout",
          "text": [
            "1/1 [==============================] - 0s 26ms/step\n",
            "1/1 [==============================] - 0s 25ms/step\n"
          ]
        },
        {
          "output_type": "stream",
          "name": "stderr",
          "text": [
            "100%|██████████| 300/300 [00:00<00:00, 1939.46it/s]\n",
            "100%|██████████| 300/300 [00:00<00:00, 1572.21it/s]\n"
          ]
        },
        {
          "output_type": "stream",
          "name": "stdout",
          "text": [
            "1/1 [==============================] - 0s 27ms/step\n",
            "1/1 [==============================] - 0s 25ms/step\n"
          ]
        },
        {
          "output_type": "stream",
          "name": "stderr",
          "text": [
            "100%|██████████| 300/300 [00:00<00:00, 1743.76it/s]\n",
            "100%|██████████| 300/300 [00:00<00:00, 1931.65it/s]\n"
          ]
        },
        {
          "output_type": "stream",
          "name": "stdout",
          "text": [
            "1/1 [==============================] - 0s 42ms/step\n",
            "1/1 [==============================] - 0s 43ms/step\n"
          ]
        },
        {
          "output_type": "stream",
          "name": "stderr",
          "text": [
            "100%|██████████| 300/300 [00:00<00:00, 1272.18it/s]\n",
            "100%|██████████| 300/300 [00:00<00:00, 1300.84it/s]\n"
          ]
        },
        {
          "output_type": "stream",
          "name": "stdout",
          "text": [
            "1/1 [==============================] - 0s 41ms/step\n",
            "1/1 [==============================] - 0s 39ms/step\n"
          ]
        },
        {
          "output_type": "stream",
          "name": "stderr",
          "text": [
            "100%|██████████| 300/300 [00:00<00:00, 1304.66it/s]\n",
            "100%|██████████| 300/300 [00:00<00:00, 1180.41it/s]\n"
          ]
        },
        {
          "output_type": "stream",
          "name": "stdout",
          "text": [
            "1/1 [==============================] - 0s 38ms/step\n",
            "1/1 [==============================] - 0s 38ms/step\n"
          ]
        },
        {
          "output_type": "stream",
          "name": "stderr",
          "text": [
            "100%|██████████| 300/300 [00:00<00:00, 1266.76it/s]\n",
            "100%|██████████| 300/300 [00:00<00:00, 1358.91it/s]\n"
          ]
        },
        {
          "output_type": "stream",
          "name": "stdout",
          "text": [
            "1/1 [==============================] - 0s 45ms/step\n",
            "1/1 [==============================] - 0s 38ms/step\n"
          ]
        },
        {
          "output_type": "stream",
          "name": "stderr",
          "text": [
            "100%|██████████| 300/300 [00:00<00:00, 1118.34it/s]\n",
            "100%|██████████| 300/300 [00:00<00:00, 1256.15it/s]\n"
          ]
        },
        {
          "output_type": "stream",
          "name": "stdout",
          "text": [
            "1/1 [==============================] - 0s 38ms/step\n",
            "1/1 [==============================] - 0s 35ms/step\n"
          ]
        },
        {
          "output_type": "stream",
          "name": "stderr",
          "text": [
            "100%|██████████| 300/300 [00:00<00:00, 1375.02it/s]\n",
            "100%|██████████| 300/300 [00:00<00:00, 1217.20it/s]\n"
          ]
        },
        {
          "output_type": "stream",
          "name": "stdout",
          "text": [
            "1/1 [==============================] - 0s 37ms/step\n",
            "1/1 [==============================] - 0s 40ms/step\n"
          ]
        },
        {
          "output_type": "stream",
          "name": "stderr",
          "text": [
            "100%|██████████| 300/300 [00:00<00:00, 1268.93it/s]\n",
            "100%|██████████| 300/300 [00:00<00:00, 1388.02it/s]"
          ]
        },
        {
          "output_type": "stream",
          "name": "stdout",
          "text": [
            "\r1/1 [==============================] - ETA: 0s"
          ]
        },
        {
          "output_type": "stream",
          "name": "stderr",
          "text": [
            "\n"
          ]
        },
        {
          "output_type": "stream",
          "name": "stdout",
          "text": [
            "1/1 [==============================] - 0s 29ms/step\n",
            "1/1 [==============================] - 0s 26ms/step\n"
          ]
        },
        {
          "output_type": "stream",
          "name": "stderr",
          "text": [
            "100%|██████████| 300/300 [00:00<00:00, 1846.43it/s]\n",
            "100%|██████████| 300/300 [00:00<00:00, 1867.67it/s]\n"
          ]
        },
        {
          "output_type": "stream",
          "name": "stdout",
          "text": [
            "1/1 [==============================] - 0s 29ms/step\n",
            "1/1 [==============================] - 0s 25ms/step\n"
          ]
        },
        {
          "output_type": "stream",
          "name": "stderr",
          "text": [
            "100%|██████████| 300/300 [00:00<00:00, 1864.58it/s]\n",
            "100%|██████████| 300/300 [00:00<00:00, 1867.08it/s]\n"
          ]
        },
        {
          "output_type": "stream",
          "name": "stdout",
          "text": [
            "1/1 [==============================] - 0s 29ms/step\n",
            "1/1 [==============================] - 0s 26ms/step\n"
          ]
        },
        {
          "output_type": "stream",
          "name": "stderr",
          "text": [
            "100%|██████████| 300/300 [00:00<00:00, 1686.17it/s]\n",
            "100%|██████████| 300/300 [00:00<00:00, 1903.73it/s]\n"
          ]
        },
        {
          "output_type": "stream",
          "name": "stdout",
          "text": [
            "1/1 [==============================] - 0s 25ms/step\n",
            "1/1 [==============================] - 0s 26ms/step\n"
          ]
        },
        {
          "output_type": "stream",
          "name": "stderr",
          "text": [
            "100%|██████████| 300/300 [00:00<00:00, 1747.26it/s]\n",
            "100%|██████████| 300/300 [00:00<00:00, 1721.17it/s]\n"
          ]
        },
        {
          "output_type": "stream",
          "name": "stdout",
          "text": [
            "1/1 [==============================] - 0s 25ms/step\n",
            "1/1 [==============================] - 0s 27ms/step\n"
          ]
        },
        {
          "output_type": "stream",
          "name": "stderr",
          "text": [
            "100%|██████████| 300/300 [00:00<00:00, 1678.05it/s]\n",
            "100%|██████████| 300/300 [00:00<00:00, 1781.40it/s]\n"
          ]
        },
        {
          "output_type": "stream",
          "name": "stdout",
          "text": [
            "1/1 [==============================] - 0s 30ms/step\n",
            "1/1 [==============================] - 0s 27ms/step\n"
          ]
        },
        {
          "output_type": "stream",
          "name": "stderr",
          "text": [
            "100%|██████████| 300/300 [00:00<00:00, 1948.29it/s]\n",
            "100%|██████████| 300/300 [00:00<00:00, 1754.89it/s]\n"
          ]
        },
        {
          "output_type": "stream",
          "name": "stdout",
          "text": [
            "1/1 [==============================] - 0s 32ms/step\n",
            "1/1 [==============================] - 0s 25ms/step\n"
          ]
        },
        {
          "output_type": "stream",
          "name": "stderr",
          "text": [
            "100%|██████████| 300/300 [00:00<00:00, 1822.99it/s]\n",
            "100%|██████████| 300/300 [00:00<00:00, 1698.94it/s]\n"
          ]
        },
        {
          "output_type": "stream",
          "name": "stdout",
          "text": [
            "1/1 [==============================] - 0s 25ms/step\n",
            "1/1 [==============================] - 0s 24ms/step\n"
          ]
        },
        {
          "output_type": "stream",
          "name": "stderr",
          "text": [
            "100%|██████████| 300/300 [00:00<00:00, 1698.97it/s]\n",
            "100%|██████████| 300/300 [00:00<00:00, 1730.62it/s]\n"
          ]
        },
        {
          "output_type": "stream",
          "name": "stdout",
          "text": [
            "1/1 [==============================] - 0s 25ms/step\n",
            "1/1 [==============================] - 0s 25ms/step\n"
          ]
        },
        {
          "output_type": "stream",
          "name": "stderr",
          "text": [
            "100%|██████████| 300/300 [00:00<00:00, 1562.55it/s]\n",
            "100%|██████████| 300/300 [00:00<00:00, 1807.61it/s]\n"
          ]
        },
        {
          "output_type": "stream",
          "name": "stdout",
          "text": [
            "1/1 [==============================] - 0s 29ms/step\n",
            "1/1 [==============================] - 0s 26ms/step\n"
          ]
        },
        {
          "output_type": "stream",
          "name": "stderr",
          "text": [
            "100%|██████████| 300/300 [00:00<00:00, 1789.90it/s]\n",
            "100%|██████████| 300/300 [00:00<00:00, 1728.87it/s]\n"
          ]
        },
        {
          "output_type": "stream",
          "name": "stdout",
          "text": [
            "1/1 [==============================] - 0s 26ms/step\n",
            "1/1 [==============================] - 0s 24ms/step\n"
          ]
        },
        {
          "output_type": "stream",
          "name": "stderr",
          "text": [
            "100%|██████████| 300/300 [00:00<00:00, 1586.95it/s]\n",
            "100%|██████████| 300/300 [00:00<00:00, 1907.77it/s]\n"
          ]
        },
        {
          "output_type": "stream",
          "name": "stdout",
          "text": [
            "1/1 [==============================] - 0s 25ms/step\n",
            "1/1 [==============================] - 0s 24ms/step\n"
          ]
        },
        {
          "output_type": "stream",
          "name": "stderr",
          "text": [
            "100%|██████████| 300/300 [00:00<00:00, 1759.07it/s]\n",
            "100%|██████████| 300/300 [00:00<00:00, 1633.29it/s]\n"
          ]
        },
        {
          "output_type": "stream",
          "name": "stdout",
          "text": [
            "1/1 [==============================] - 0s 29ms/step\n",
            "1/1 [==============================] - 0s 34ms/step\n"
          ]
        },
        {
          "output_type": "stream",
          "name": "stderr",
          "text": [
            "100%|██████████| 300/300 [00:00<00:00, 1783.52it/s]\n",
            "100%|██████████| 300/300 [00:00<00:00, 1698.44it/s]\n"
          ]
        },
        {
          "output_type": "stream",
          "name": "stdout",
          "text": [
            "1/1 [==============================] - 0s 40ms/step\n",
            "1/1 [==============================] - 0s 29ms/step\n"
          ]
        },
        {
          "output_type": "stream",
          "name": "stderr",
          "text": [
            "100%|██████████| 300/300 [00:00<00:00, 2001.69it/s]\n",
            "100%|██████████| 300/300 [00:00<00:00, 1612.21it/s]\n"
          ]
        },
        {
          "output_type": "stream",
          "name": "stdout",
          "text": [
            "1/1 [==============================] - 0s 25ms/step\n",
            "1/1 [==============================] - 0s 27ms/step\n"
          ]
        },
        {
          "output_type": "stream",
          "name": "stderr",
          "text": [
            "100%|██████████| 300/300 [00:00<00:00, 1775.51it/s]\n",
            "100%|██████████| 300/300 [00:00<00:00, 1689.55it/s]\n"
          ]
        },
        {
          "output_type": "stream",
          "name": "stdout",
          "text": [
            "1/1 [==============================] - 0s 25ms/step\n",
            "1/1 [==============================] - 0s 25ms/step\n"
          ]
        },
        {
          "output_type": "stream",
          "name": "stderr",
          "text": [
            "100%|██████████| 300/300 [00:00<00:00, 1775.91it/s]\n",
            "100%|██████████| 300/300 [00:00<00:00, 1673.07it/s]\n"
          ]
        },
        {
          "output_type": "stream",
          "name": "stdout",
          "text": [
            "1/1 [==============================] - 0s 37ms/step\n",
            "1/1 [==============================] - 0s 25ms/step\n"
          ]
        },
        {
          "output_type": "stream",
          "name": "stderr",
          "text": [
            "100%|██████████| 300/300 [00:00<00:00, 1919.57it/s]\n",
            "100%|██████████| 300/300 [00:00<00:00, 1848.25it/s]\n"
          ]
        },
        {
          "output_type": "stream",
          "name": "stdout",
          "text": [
            "1/1 [==============================] - 0s 30ms/step\n",
            "1/1 [==============================] - 0s 26ms/step\n"
          ]
        },
        {
          "output_type": "stream",
          "name": "stderr",
          "text": [
            "100%|██████████| 300/300 [00:00<00:00, 1600.45it/s]\n",
            "100%|██████████| 300/300 [00:00<00:00, 1956.53it/s]\n"
          ]
        },
        {
          "output_type": "stream",
          "name": "stdout",
          "text": [
            "1/1 [==============================] - 0s 32ms/step\n",
            "1/1 [==============================] - 0s 25ms/step\n"
          ]
        },
        {
          "output_type": "stream",
          "name": "stderr",
          "text": [
            "100%|██████████| 300/300 [00:00<00:00, 1759.37it/s]\n",
            "100%|██████████| 300/300 [00:00<00:00, 1686.45it/s]\n"
          ]
        },
        {
          "output_type": "stream",
          "name": "stdout",
          "text": [
            "1/1 [==============================] - 0s 43ms/step\n",
            "1/1 [==============================] - 0s 44ms/step\n"
          ]
        },
        {
          "output_type": "stream",
          "name": "stderr",
          "text": [
            "100%|██████████| 300/300 [00:00<00:00, 1255.78it/s]\n",
            "100%|██████████| 300/300 [00:00<00:00, 1177.70it/s]\n"
          ]
        },
        {
          "output_type": "stream",
          "name": "stdout",
          "text": [
            "1/1 [==============================] - 0s 38ms/step\n",
            "1/1 [==============================] - 0s 37ms/step\n"
          ]
        },
        {
          "output_type": "stream",
          "name": "stderr",
          "text": [
            "100%|██████████| 300/300 [00:00<00:00, 1227.42it/s]\n",
            "100%|██████████| 300/300 [00:00<00:00, 1246.66it/s]\n"
          ]
        },
        {
          "output_type": "stream",
          "name": "stdout",
          "text": [
            "1/1 [==============================] - 0s 38ms/step\n",
            "1/1 [==============================] - 0s 37ms/step\n"
          ]
        },
        {
          "output_type": "stream",
          "name": "stderr",
          "text": [
            "100%|██████████| 300/300 [00:00<00:00, 1330.90it/s]\n",
            "100%|██████████| 300/300 [00:00<00:00, 1185.35it/s]\n"
          ]
        },
        {
          "output_type": "stream",
          "name": "stdout",
          "text": [
            "1/1 [==============================] - 0s 37ms/step\n",
            "1/1 [==============================] - 0s 38ms/step\n"
          ]
        },
        {
          "output_type": "stream",
          "name": "stderr",
          "text": [
            "100%|██████████| 300/300 [00:00<00:00, 1198.64it/s]\n",
            "100%|██████████| 300/300 [00:00<00:00, 1265.87it/s]\n"
          ]
        },
        {
          "output_type": "stream",
          "name": "stdout",
          "text": [
            "1/1 [==============================] - 0s 42ms/step\n",
            "1/1 [==============================] - 0s 36ms/step\n"
          ]
        },
        {
          "output_type": "stream",
          "name": "stderr",
          "text": [
            "100%|██████████| 300/300 [00:00<00:00, 1289.37it/s]\n",
            "100%|██████████| 300/300 [00:00<00:00, 1359.57it/s]\n"
          ]
        },
        {
          "output_type": "stream",
          "name": "stdout",
          "text": [
            "1/1 [==============================] - 0s 40ms/step\n",
            "1/1 [==============================] - 0s 36ms/step\n"
          ]
        },
        {
          "output_type": "stream",
          "name": "stderr",
          "text": [
            "100%|██████████| 300/300 [00:00<00:00, 1356.13it/s]\n",
            "100%|██████████| 300/300 [00:00<00:00, 1255.99it/s]\n"
          ]
        },
        {
          "output_type": "stream",
          "name": "stdout",
          "text": [
            "1/1 [==============================] - 0s 31ms/step\n",
            "1/1 [==============================] - 0s 28ms/step\n"
          ]
        },
        {
          "output_type": "stream",
          "name": "stderr",
          "text": [
            "100%|██████████| 300/300 [00:00<00:00, 1977.16it/s]\n",
            "100%|██████████| 300/300 [00:00<00:00, 1686.78it/s]\n"
          ]
        },
        {
          "output_type": "stream",
          "name": "stdout",
          "text": [
            "1/1 [==============================] - 0s 25ms/step\n",
            "1/1 [==============================] - 0s 28ms/step\n"
          ]
        },
        {
          "output_type": "stream",
          "name": "stderr",
          "text": [
            "100%|██████████| 300/300 [00:00<00:00, 1914.62it/s]\n",
            "100%|██████████| 300/300 [00:00<00:00, 1867.77it/s]\n"
          ]
        },
        {
          "output_type": "stream",
          "name": "stdout",
          "text": [
            "1/1 [==============================] - 0s 26ms/step\n",
            "1/1 [==============================] - 0s 25ms/step\n"
          ]
        },
        {
          "output_type": "stream",
          "name": "stderr",
          "text": [
            "100%|██████████| 300/300 [00:00<00:00, 1605.19it/s]\n",
            "100%|██████████| 300/300 [00:00<00:00, 1979.88it/s]\n"
          ]
        },
        {
          "output_type": "stream",
          "name": "stdout",
          "text": [
            "1/1 [==============================] - 0s 28ms/step\n",
            "1/1 [==============================] - 0s 28ms/step\n"
          ]
        },
        {
          "output_type": "stream",
          "name": "stderr",
          "text": [
            "100%|██████████| 300/300 [00:00<00:00, 1577.45it/s]\n",
            "100%|██████████| 300/300 [00:00<00:00, 1784.89it/s]\n"
          ]
        },
        {
          "output_type": "stream",
          "name": "stdout",
          "text": [
            "1/1 [==============================] - 0s 26ms/step\n",
            "1/1 [==============================] - 0s 29ms/step\n"
          ]
        },
        {
          "output_type": "stream",
          "name": "stderr",
          "text": [
            "100%|██████████| 300/300 [00:00<00:00, 1885.47it/s]\n",
            "100%|██████████| 300/300 [00:00<00:00, 1708.69it/s]\n"
          ]
        },
        {
          "output_type": "stream",
          "name": "stdout",
          "text": [
            "1/1 [==============================] - 0s 26ms/step\n",
            "1/1 [==============================] - 0s 32ms/step\n"
          ]
        },
        {
          "output_type": "stream",
          "name": "stderr",
          "text": [
            "100%|██████████| 300/300 [00:00<00:00, 1588.63it/s]\n",
            "100%|██████████| 300/300 [00:00<00:00, 1837.15it/s]\n"
          ]
        },
        {
          "output_type": "stream",
          "name": "stdout",
          "text": [
            "1/1 [==============================] - 0s 25ms/step\n",
            "1/1 [==============================] - 0s 25ms/step\n"
          ]
        },
        {
          "output_type": "stream",
          "name": "stderr",
          "text": [
            "100%|██████████| 300/300 [00:00<00:00, 1596.12it/s]\n",
            "100%|██████████| 300/300 [00:00<00:00, 1784.90it/s]\n"
          ]
        },
        {
          "output_type": "stream",
          "name": "stdout",
          "text": [
            "1/1 [==============================] - 0s 25ms/step\n",
            "1/1 [==============================] - 0s 26ms/step\n"
          ]
        },
        {
          "output_type": "stream",
          "name": "stderr",
          "text": [
            "100%|██████████| 300/300 [00:00<00:00, 1910.62it/s]\n",
            "100%|██████████| 300/300 [00:00<00:00, 1799.37it/s]\n"
          ]
        },
        {
          "output_type": "stream",
          "name": "stdout",
          "text": [
            "1/1 [==============================] - 0s 24ms/step\n",
            "1/1 [==============================] - 0s 27ms/step\n"
          ]
        },
        {
          "output_type": "stream",
          "name": "stderr",
          "text": [
            "100%|██████████| 300/300 [00:00<00:00, 1790.84it/s]\n",
            "100%|██████████| 300/300 [00:00<00:00, 1809.49it/s]\n"
          ]
        },
        {
          "output_type": "stream",
          "name": "stdout",
          "text": [
            "1/1 [==============================] - 0s 29ms/step\n",
            "1/1 [==============================] - 0s 25ms/step\n"
          ]
        },
        {
          "output_type": "stream",
          "name": "stderr",
          "text": [
            "100%|██████████| 300/300 [00:00<00:00, 1802.91it/s]\n",
            "100%|██████████| 300/300 [00:00<00:00, 1679.00it/s]\n"
          ]
        },
        {
          "output_type": "stream",
          "name": "stdout",
          "text": [
            "1/1 [==============================] - 0s 25ms/step\n",
            "1/1 [==============================] - 0s 25ms/step\n"
          ]
        },
        {
          "output_type": "stream",
          "name": "stderr",
          "text": [
            "100%|██████████| 300/300 [00:00<00:00, 1825.56it/s]\n",
            "100%|██████████| 300/300 [00:00<00:00, 1734.84it/s]\n"
          ]
        },
        {
          "output_type": "stream",
          "name": "stdout",
          "text": [
            "1/1 [==============================] - 0s 25ms/step\n",
            "1/1 [==============================] - 0s 25ms/step\n"
          ]
        },
        {
          "output_type": "stream",
          "name": "stderr",
          "text": [
            "100%|██████████| 300/300 [00:00<00:00, 1689.40it/s]\n",
            "100%|██████████| 300/300 [00:00<00:00, 1814.16it/s]\n"
          ]
        },
        {
          "output_type": "stream",
          "name": "stdout",
          "text": [
            "1/1 [==============================] - 0s 26ms/step\n",
            "1/1 [==============================] - 0s 25ms/step\n"
          ]
        },
        {
          "output_type": "stream",
          "name": "stderr",
          "text": [
            "100%|██████████| 300/300 [00:00<00:00, 1709.19it/s]\n",
            "100%|██████████| 300/300 [00:00<00:00, 1805.22it/s]\n"
          ]
        },
        {
          "output_type": "stream",
          "name": "stdout",
          "text": [
            "1/1 [==============================] - 0s 27ms/step\n",
            "1/1 [==============================] - 0s 26ms/step\n"
          ]
        },
        {
          "output_type": "stream",
          "name": "stderr",
          "text": [
            "100%|██████████| 300/300 [00:00<00:00, 1889.33it/s]\n",
            "100%|██████████| 300/300 [00:00<00:00, 1704.36it/s]\n"
          ]
        },
        {
          "output_type": "stream",
          "name": "stdout",
          "text": [
            "1/1 [==============================] - 0s 27ms/step\n",
            "1/1 [==============================] - 0s 27ms/step\n"
          ]
        },
        {
          "output_type": "stream",
          "name": "stderr",
          "text": [
            "100%|██████████| 300/300 [00:00<00:00, 1773.33it/s]\n",
            "100%|██████████| 300/300 [00:00<00:00, 1862.79it/s]\n"
          ]
        },
        {
          "output_type": "stream",
          "name": "stdout",
          "text": [
            "1/1 [==============================] - 0s 26ms/step\n",
            "1/1 [==============================] - 0s 28ms/step\n"
          ]
        },
        {
          "output_type": "stream",
          "name": "stderr",
          "text": [
            "100%|██████████| 300/300 [00:00<00:00, 1859.08it/s]\n",
            "100%|██████████| 300/300 [00:00<00:00, 1797.99it/s]\n"
          ]
        },
        {
          "output_type": "stream",
          "name": "stdout",
          "text": [
            "1/1 [==============================] - 0s 24ms/step\n",
            "1/1 [==============================] - 0s 25ms/step\n"
          ]
        },
        {
          "output_type": "stream",
          "name": "stderr",
          "text": [
            "100%|██████████| 300/300 [00:00<00:00, 1963.15it/s]\n",
            "100%|██████████| 300/300 [00:00<00:00, 1687.24it/s]\n"
          ]
        },
        {
          "output_type": "stream",
          "name": "stdout",
          "text": [
            "1/1 [==============================] - 0s 26ms/step\n",
            "1/1 [==============================] - 0s 27ms/step\n"
          ]
        },
        {
          "output_type": "stream",
          "name": "stderr",
          "text": [
            "100%|██████████| 300/300 [00:00<00:00, 1665.30it/s]\n",
            "100%|██████████| 300/300 [00:00<00:00, 1708.89it/s]\n"
          ]
        },
        {
          "output_type": "stream",
          "name": "stdout",
          "text": [
            "1/1 [==============================] - 0s 25ms/step\n",
            "1/1 [==============================] - 0s 27ms/step\n"
          ]
        },
        {
          "output_type": "stream",
          "name": "stderr",
          "text": [
            "100%|██████████| 300/300 [00:00<00:00, 1680.52it/s]\n",
            "100%|██████████| 300/300 [00:00<00:00, 1820.58it/s]\n"
          ]
        },
        {
          "output_type": "stream",
          "name": "stdout",
          "text": [
            "1/1 [==============================] - 0s 25ms/step\n",
            "1/1 [==============================] - 0s 29ms/step\n"
          ]
        },
        {
          "output_type": "stream",
          "name": "stderr",
          "text": [
            "100%|██████████| 300/300 [00:00<00:00, 1260.81it/s]\n",
            "100%|██████████| 300/300 [00:00<00:00, 1314.19it/s]\n"
          ]
        },
        {
          "output_type": "stream",
          "name": "stdout",
          "text": [
            "1/1 [==============================] - 0s 43ms/step\n",
            "1/1 [==============================] - 0s 39ms/step\n"
          ]
        },
        {
          "output_type": "stream",
          "name": "stderr",
          "text": [
            "100%|██████████| 300/300 [00:00<00:00, 1335.21it/s]\n",
            "100%|██████████| 300/300 [00:00<00:00, 1319.44it/s]\n"
          ]
        },
        {
          "output_type": "stream",
          "name": "stdout",
          "text": [
            "1/1 [==============================] - 0s 42ms/step\n",
            "1/1 [==============================] - 0s 37ms/step\n"
          ]
        },
        {
          "output_type": "stream",
          "name": "stderr",
          "text": [
            "100%|██████████| 300/300 [00:00<00:00, 1218.33it/s]\n",
            "100%|██████████| 300/300 [00:00<00:00, 1279.97it/s]\n"
          ]
        },
        {
          "output_type": "stream",
          "name": "stdout",
          "text": [
            "1/1 [==============================] - 0s 40ms/step\n",
            "1/1 [==============================] - 0s 41ms/step\n"
          ]
        },
        {
          "output_type": "stream",
          "name": "stderr",
          "text": [
            "100%|██████████| 300/300 [00:00<00:00, 1302.39it/s]\n",
            "100%|██████████| 300/300 [00:00<00:00, 1361.76it/s]\n"
          ]
        },
        {
          "output_type": "stream",
          "name": "stdout",
          "text": [
            "1/1 [==============================] - 0s 53ms/step\n",
            "1/1 [==============================] - 0s 40ms/step\n"
          ]
        },
        {
          "output_type": "stream",
          "name": "stderr",
          "text": [
            "100%|██████████| 300/300 [00:00<00:00, 1289.31it/s]\n",
            "100%|██████████| 300/300 [00:00<00:00, 1302.99it/s]\n"
          ]
        },
        {
          "output_type": "stream",
          "name": "stdout",
          "text": [
            "1/1 [==============================] - 0s 45ms/step\n",
            "1/1 [==============================] - 0s 36ms/step\n"
          ]
        },
        {
          "output_type": "stream",
          "name": "stderr",
          "text": [
            "100%|██████████| 300/300 [00:00<00:00, 1248.13it/s]\n",
            "100%|██████████| 300/300 [00:00<00:00, 1227.58it/s]\n"
          ]
        },
        {
          "output_type": "stream",
          "name": "stdout",
          "text": [
            "1/1 [==============================] - 0s 42ms/step\n",
            "1/1 [==============================] - 0s 38ms/step\n"
          ]
        },
        {
          "output_type": "stream",
          "name": "stderr",
          "text": [
            "100%|██████████| 300/300 [00:00<00:00, 1359.07it/s]\n",
            "100%|██████████| 300/300 [00:00<00:00, 2063.36it/s]\n"
          ]
        },
        {
          "output_type": "stream",
          "name": "stdout",
          "text": [
            "1/1 [==============================] - 0s 26ms/step\n",
            "1/1 [==============================] - 0s 26ms/step\n"
          ]
        },
        {
          "output_type": "stream",
          "name": "stderr",
          "text": [
            "100%|██████████| 300/300 [00:00<00:00, 1677.17it/s]\n",
            "100%|██████████| 300/300 [00:00<00:00, 1793.03it/s]\n"
          ]
        },
        {
          "output_type": "stream",
          "name": "stdout",
          "text": [
            "1/1 [==============================] - 0s 26ms/step\n",
            "1/1 [==============================] - 0s 25ms/step\n"
          ]
        },
        {
          "output_type": "stream",
          "name": "stderr",
          "text": [
            "100%|██████████| 300/300 [00:00<00:00, 1964.90it/s]\n",
            "100%|██████████| 300/300 [00:00<00:00, 1732.57it/s]\n"
          ]
        },
        {
          "output_type": "stream",
          "name": "stdout",
          "text": [
            "1/1 [==============================] - 0s 26ms/step\n",
            "1/1 [==============================] - 0s 26ms/step\n"
          ]
        },
        {
          "output_type": "stream",
          "name": "stderr",
          "text": [
            "100%|██████████| 300/300 [00:00<00:00, 1794.83it/s]\n",
            "100%|██████████| 300/300 [00:00<00:00, 1768.04it/s]\n"
          ]
        },
        {
          "output_type": "stream",
          "name": "stdout",
          "text": [
            "1/1 [==============================] - 0s 24ms/step\n",
            "1/1 [==============================] - 0s 25ms/step\n"
          ]
        },
        {
          "output_type": "stream",
          "name": "stderr",
          "text": [
            "100%|██████████| 300/300 [00:00<00:00, 1848.52it/s]\n",
            "100%|██████████| 300/300 [00:00<00:00, 1876.53it/s]\n"
          ]
        },
        {
          "output_type": "stream",
          "name": "stdout",
          "text": [
            "1/1 [==============================] - 0s 26ms/step\n",
            "1/1 [==============================] - 0s 27ms/step\n"
          ]
        },
        {
          "output_type": "stream",
          "name": "stderr",
          "text": [
            "100%|██████████| 300/300 [00:00<00:00, 1721.86it/s]\n",
            "100%|██████████| 300/300 [00:00<00:00, 1722.04it/s]\n"
          ]
        },
        {
          "output_type": "stream",
          "name": "stdout",
          "text": [
            "1/1 [==============================] - 0s 25ms/step\n",
            "1/1 [==============================] - 0s 26ms/step\n"
          ]
        },
        {
          "output_type": "stream",
          "name": "stderr",
          "text": [
            "100%|██████████| 300/300 [00:00<00:00, 1822.31it/s]\n",
            "100%|██████████| 300/300 [00:00<00:00, 1844.85it/s]\n"
          ]
        },
        {
          "output_type": "stream",
          "name": "stdout",
          "text": [
            "1/1 [==============================] - 0s 32ms/step\n",
            "1/1 [==============================] - 0s 27ms/step\n"
          ]
        },
        {
          "output_type": "stream",
          "name": "stderr",
          "text": [
            "100%|██████████| 300/300 [00:00<00:00, 1847.27it/s]\n",
            "100%|██████████| 300/300 [00:00<00:00, 1776.57it/s]\n"
          ]
        },
        {
          "output_type": "stream",
          "name": "stdout",
          "text": [
            "1/1 [==============================] - 0s 25ms/step\n",
            "1/1 [==============================] - 0s 26ms/step\n"
          ]
        },
        {
          "output_type": "stream",
          "name": "stderr",
          "text": [
            "100%|██████████| 300/300 [00:00<00:00, 1902.79it/s]\n",
            "100%|██████████| 300/300 [00:00<00:00, 1831.28it/s]\n"
          ]
        },
        {
          "output_type": "stream",
          "name": "stdout",
          "text": [
            "1/1 [==============================] - 0s 40ms/step\n",
            "1/1 [==============================] - 0s 28ms/step\n"
          ]
        },
        {
          "output_type": "stream",
          "name": "stderr",
          "text": [
            "100%|██████████| 300/300 [00:00<00:00, 1758.65it/s]\n",
            "100%|██████████| 300/300 [00:00<00:00, 1950.34it/s]\n"
          ]
        },
        {
          "output_type": "stream",
          "name": "stdout",
          "text": [
            "1/1 [==============================] - 0s 31ms/step\n",
            "1/1 [==============================] - 0s 26ms/step\n"
          ]
        },
        {
          "output_type": "stream",
          "name": "stderr",
          "text": [
            "100%|██████████| 300/300 [00:00<00:00, 1919.44it/s]\n",
            "100%|██████████| 300/300 [00:00<00:00, 1629.81it/s]\n"
          ]
        },
        {
          "output_type": "stream",
          "name": "stdout",
          "text": [
            "1/1 [==============================] - 0s 30ms/step\n",
            "1/1 [==============================] - 0s 24ms/step\n"
          ]
        },
        {
          "output_type": "stream",
          "name": "stderr",
          "text": [
            "100%|██████████| 300/300 [00:00<00:00, 1777.53it/s]\n",
            "100%|██████████| 300/300 [00:00<00:00, 1764.30it/s]\n"
          ]
        },
        {
          "output_type": "stream",
          "name": "stdout",
          "text": [
            "1/1 [==============================] - 0s 27ms/step\n",
            "1/1 [==============================] - 0s 27ms/step\n"
          ]
        },
        {
          "output_type": "stream",
          "name": "stderr",
          "text": [
            "100%|██████████| 300/300 [00:00<00:00, 1828.15it/s]\n",
            "100%|██████████| 300/300 [00:00<00:00, 1756.28it/s]\n"
          ]
        },
        {
          "output_type": "stream",
          "name": "stdout",
          "text": [
            "1/1 [==============================] - 0s 26ms/step\n",
            "1/1 [==============================] - 0s 25ms/step\n"
          ]
        },
        {
          "output_type": "stream",
          "name": "stderr",
          "text": [
            "100%|██████████| 300/300 [00:00<00:00, 1677.20it/s]\n",
            "100%|██████████| 300/300 [00:00<00:00, 1842.46it/s]\n"
          ]
        },
        {
          "output_type": "stream",
          "name": "stdout",
          "text": [
            "1/1 [==============================] - 0s 29ms/step\n",
            "1/1 [==============================] - 0s 26ms/step\n"
          ]
        },
        {
          "output_type": "stream",
          "name": "stderr",
          "text": [
            "100%|██████████| 300/300 [00:00<00:00, 1720.82it/s]\n",
            "100%|██████████| 300/300 [00:00<00:00, 1671.69it/s]\n"
          ]
        },
        {
          "output_type": "stream",
          "name": "stdout",
          "text": [
            "1/1 [==============================] - 0s 27ms/step\n",
            "1/1 [==============================] - 0s 25ms/step\n"
          ]
        },
        {
          "output_type": "stream",
          "name": "stderr",
          "text": [
            "100%|██████████| 300/300 [00:00<00:00, 1738.99it/s]\n",
            "100%|██████████| 300/300 [00:00<00:00, 1805.90it/s]\n"
          ]
        },
        {
          "output_type": "stream",
          "name": "stdout",
          "text": [
            "1/1 [==============================] - 0s 26ms/step\n",
            "1/1 [==============================] - 0s 26ms/step\n"
          ]
        },
        {
          "output_type": "stream",
          "name": "stderr",
          "text": [
            "100%|██████████| 300/300 [00:00<00:00, 1771.02it/s]\n",
            "100%|██████████| 300/300 [00:00<00:00, 1732.33it/s]\n"
          ]
        },
        {
          "output_type": "stream",
          "name": "stdout",
          "text": [
            "1/1 [==============================] - 0s 32ms/step\n",
            "1/1 [==============================] - 0s 27ms/step\n"
          ]
        },
        {
          "output_type": "stream",
          "name": "stderr",
          "text": [
            "100%|██████████| 300/300 [00:00<00:00, 1703.48it/s]\n",
            "100%|██████████| 300/300 [00:00<00:00, 1940.72it/s]\n"
          ]
        },
        {
          "output_type": "stream",
          "name": "stdout",
          "text": [
            "1/1 [==============================] - 0s 25ms/step\n",
            "1/1 [==============================] - 0s 25ms/step\n"
          ]
        },
        {
          "output_type": "stream",
          "name": "stderr",
          "text": [
            "100%|██████████| 300/300 [00:00<00:00, 1569.06it/s]\n",
            "100%|██████████| 300/300 [00:00<00:00, 1801.67it/s]\n"
          ]
        },
        {
          "output_type": "stream",
          "name": "stdout",
          "text": [
            "1/1 [==============================] - 0s 26ms/step\n",
            "1/1 [==============================] - 0s 25ms/step\n"
          ]
        },
        {
          "output_type": "stream",
          "name": "stderr",
          "text": [
            "100%|██████████| 300/300 [00:00<00:00, 1644.49it/s]\n",
            "100%|██████████| 300/300 [00:00<00:00, 1186.48it/s]\n"
          ]
        },
        {
          "output_type": "stream",
          "name": "stdout",
          "text": [
            "1/1 [==============================] - 0s 37ms/step\n",
            "1/1 [==============================] - 0s 47ms/step\n"
          ]
        },
        {
          "output_type": "stream",
          "name": "stderr",
          "text": [
            "100%|██████████| 300/300 [00:00<00:00, 1223.72it/s]\n",
            "100%|██████████| 300/300 [00:00<00:00, 1235.94it/s]\n"
          ]
        },
        {
          "output_type": "stream",
          "name": "stdout",
          "text": [
            "1/1 [==============================] - 0s 38ms/step\n",
            "1/1 [==============================] - 0s 45ms/step\n"
          ]
        },
        {
          "output_type": "stream",
          "name": "stderr",
          "text": [
            "100%|██████████| 300/300 [00:00<00:00, 1275.87it/s]\n",
            "100%|██████████| 300/300 [00:00<00:00, 1250.79it/s]\n"
          ]
        },
        {
          "output_type": "stream",
          "name": "stdout",
          "text": [
            "1/1 [==============================] - 0s 43ms/step\n",
            "1/1 [==============================] - 0s 41ms/step\n"
          ]
        },
        {
          "output_type": "stream",
          "name": "stderr",
          "text": [
            "100%|██████████| 300/300 [00:00<00:00, 1309.22it/s]\n",
            "100%|██████████| 300/300 [00:00<00:00, 1325.11it/s]\n"
          ]
        },
        {
          "output_type": "stream",
          "name": "stdout",
          "text": [
            "1/1 [==============================] - 0s 36ms/step\n",
            "1/1 [==============================] - 0s 50ms/step\n"
          ]
        },
        {
          "output_type": "stream",
          "name": "stderr",
          "text": [
            "100%|██████████| 300/300 [00:00<00:00, 1281.34it/s]\n",
            "100%|██████████| 300/300 [00:00<00:00, 1371.89it/s]\n"
          ]
        },
        {
          "output_type": "stream",
          "name": "stdout",
          "text": [
            "1/1 [==============================] - 0s 42ms/step\n",
            "1/1 [==============================] - 0s 36ms/step\n"
          ]
        },
        {
          "output_type": "stream",
          "name": "stderr",
          "text": [
            "100%|██████████| 300/300 [00:00<00:00, 1319.37it/s]\n",
            "100%|██████████| 300/300 [00:00<00:00, 1130.83it/s]\n"
          ]
        },
        {
          "output_type": "stream",
          "name": "stdout",
          "text": [
            "1/1 [==============================] - 0s 38ms/step\n",
            "1/1 [==============================] - 0s 41ms/step\n"
          ]
        },
        {
          "output_type": "stream",
          "name": "stderr",
          "text": [
            "100%|██████████| 300/300 [00:00<00:00, 1191.55it/s]\n",
            "100%|██████████| 300/300 [00:00<00:00, 1762.41it/s]\n"
          ]
        },
        {
          "output_type": "stream",
          "name": "stdout",
          "text": [
            "1/1 [==============================] - 0s 27ms/step\n",
            "1/1 [==============================] - 0s 33ms/step\n"
          ]
        },
        {
          "output_type": "stream",
          "name": "stderr",
          "text": [
            "100%|██████████| 300/300 [00:00<00:00, 1878.95it/s]\n",
            "100%|██████████| 300/300 [00:00<00:00, 1657.55it/s]\n"
          ]
        },
        {
          "output_type": "stream",
          "name": "stdout",
          "text": [
            "1/1 [==============================] - 0s 24ms/step\n",
            "1/1 [==============================] - 0s 25ms/step\n"
          ]
        },
        {
          "output_type": "stream",
          "name": "stderr",
          "text": [
            "100%|██████████| 300/300 [00:00<00:00, 1851.04it/s]\n",
            "100%|██████████| 300/300 [00:00<00:00, 1715.68it/s]\n"
          ]
        },
        {
          "output_type": "stream",
          "name": "stdout",
          "text": [
            "1/1 [==============================] - 0s 24ms/step\n",
            "1/1 [==============================] - 0s 25ms/step\n"
          ]
        },
        {
          "output_type": "stream",
          "name": "stderr",
          "text": [
            "100%|██████████| 300/300 [00:00<00:00, 1895.78it/s]\n",
            "100%|██████████| 300/300 [00:00<00:00, 1773.61it/s]\n"
          ]
        },
        {
          "output_type": "stream",
          "name": "stdout",
          "text": [
            "1/1 [==============================] - 0s 24ms/step\n",
            "1/1 [==============================] - 0s 32ms/step\n"
          ]
        },
        {
          "output_type": "stream",
          "name": "stderr",
          "text": [
            "100%|██████████| 300/300 [00:00<00:00, 1642.50it/s]\n",
            "100%|██████████| 300/300 [00:00<00:00, 1828.82it/s]\n"
          ]
        },
        {
          "output_type": "stream",
          "name": "stdout",
          "text": [
            "1/1 [==============================] - 0s 26ms/step\n",
            "1/1 [==============================] - 0s 25ms/step\n"
          ]
        },
        {
          "output_type": "stream",
          "name": "stderr",
          "text": [
            "100%|██████████| 300/300 [00:00<00:00, 1817.03it/s]\n",
            "100%|██████████| 300/300 [00:00<00:00, 1932.08it/s]\n"
          ]
        },
        {
          "output_type": "stream",
          "name": "stdout",
          "text": [
            "1/1 [==============================] - 0s 28ms/step\n",
            "1/1 [==============================] - 0s 30ms/step\n"
          ]
        },
        {
          "output_type": "stream",
          "name": "stderr",
          "text": [
            "100%|██████████| 300/300 [00:00<00:00, 1775.16it/s]\n",
            "100%|██████████| 300/300 [00:00<00:00, 1766.25it/s]\n"
          ]
        },
        {
          "output_type": "stream",
          "name": "stdout",
          "text": [
            "1/1 [==============================] - 0s 27ms/step\n",
            "1/1 [==============================] - 0s 27ms/step\n"
          ]
        },
        {
          "output_type": "stream",
          "name": "stderr",
          "text": [
            "100%|██████████| 300/300 [00:00<00:00, 1718.32it/s]\n",
            "100%|██████████| 300/300 [00:00<00:00, 1696.22it/s]\n"
          ]
        },
        {
          "output_type": "stream",
          "name": "stdout",
          "text": [
            "1/1 [==============================] - 0s 27ms/step\n",
            "1/1 [==============================] - 0s 26ms/step\n"
          ]
        },
        {
          "output_type": "stream",
          "name": "stderr",
          "text": [
            "100%|██████████| 300/300 [00:00<00:00, 1707.84it/s]\n",
            "100%|██████████| 300/300 [00:00<00:00, 1742.76it/s]\n"
          ]
        },
        {
          "output_type": "stream",
          "name": "stdout",
          "text": [
            "1/1 [==============================] - 0s 26ms/step\n",
            "1/1 [==============================] - 0s 24ms/step\n"
          ]
        },
        {
          "output_type": "stream",
          "name": "stderr",
          "text": [
            "100%|██████████| 300/300 [00:00<00:00, 1955.30it/s]\n",
            "100%|██████████| 300/300 [00:00<00:00, 1838.41it/s]\n"
          ]
        },
        {
          "output_type": "stream",
          "name": "stdout",
          "text": [
            "1/1 [==============================] - 0s 25ms/step\n",
            "1/1 [==============================] - 0s 25ms/step\n"
          ]
        },
        {
          "output_type": "stream",
          "name": "stderr",
          "text": [
            "100%|██████████| 300/300 [00:00<00:00, 1708.78it/s]\n",
            "100%|██████████| 300/300 [00:00<00:00, 1854.92it/s]\n"
          ]
        },
        {
          "output_type": "stream",
          "name": "stdout",
          "text": [
            "1/1 [==============================] - 0s 26ms/step\n",
            "1/1 [==============================] - 0s 24ms/step\n"
          ]
        },
        {
          "output_type": "stream",
          "name": "stderr",
          "text": [
            "100%|██████████| 300/300 [00:00<00:00, 1819.83it/s]\n",
            "100%|██████████| 300/300 [00:00<00:00, 1811.60it/s]\n"
          ]
        },
        {
          "output_type": "stream",
          "name": "stdout",
          "text": [
            "1/1 [==============================] - 0s 25ms/step\n",
            "1/1 [==============================] - 0s 29ms/step\n"
          ]
        },
        {
          "output_type": "stream",
          "name": "stderr",
          "text": [
            "100%|██████████| 300/300 [00:00<00:00, 1905.92it/s]\n",
            "100%|██████████| 300/300 [00:00<00:00, 1868.56it/s]\n"
          ]
        },
        {
          "output_type": "stream",
          "name": "stdout",
          "text": [
            "1/1 [==============================] - 0s 36ms/step\n",
            "1/1 [==============================] - 0s 25ms/step\n"
          ]
        },
        {
          "output_type": "stream",
          "name": "stderr",
          "text": [
            "100%|██████████| 300/300 [00:00<00:00, 1888.04it/s]\n",
            "100%|██████████| 300/300 [00:00<00:00, 1658.62it/s]\n"
          ]
        },
        {
          "output_type": "stream",
          "name": "stdout",
          "text": [
            "1/1 [==============================] - 0s 28ms/step\n",
            "1/1 [==============================] - 0s 24ms/step\n"
          ]
        },
        {
          "output_type": "stream",
          "name": "stderr",
          "text": [
            "100%|██████████| 300/300 [00:00<00:00, 1706.89it/s]\n",
            "100%|██████████| 300/300 [00:00<00:00, 1960.12it/s]\n"
          ]
        },
        {
          "output_type": "stream",
          "name": "stdout",
          "text": [
            "1/1 [==============================] - 0s 35ms/step\n",
            "1/1 [==============================] - 0s 27ms/step\n"
          ]
        },
        {
          "output_type": "stream",
          "name": "stderr",
          "text": [
            "100%|██████████| 300/300 [00:00<00:00, 1997.74it/s]\n",
            "100%|██████████| 300/300 [00:00<00:00, 1730.82it/s]\n"
          ]
        },
        {
          "output_type": "stream",
          "name": "stdout",
          "text": [
            "1/1 [==============================] - 0s 24ms/step\n",
            "1/1 [==============================] - 0s 25ms/step\n"
          ]
        },
        {
          "output_type": "stream",
          "name": "stderr",
          "text": [
            "100%|██████████| 300/300 [00:00<00:00, 1756.02it/s]\n",
            "100%|██████████| 300/300 [00:00<00:00, 1840.85it/s]\n"
          ]
        },
        {
          "output_type": "stream",
          "name": "stdout",
          "text": [
            "1/1 [==============================] - 0s 31ms/step\n",
            "1/1 [==============================] - 0s 26ms/step\n"
          ]
        },
        {
          "output_type": "stream",
          "name": "stderr",
          "text": [
            "100%|██████████| 300/300 [00:00<00:00, 1963.76it/s]\n",
            "100%|██████████| 300/300 [00:00<00:00, 1721.89it/s]\n"
          ]
        },
        {
          "output_type": "stream",
          "name": "stdout",
          "text": [
            "1/1 [==============================] - 0s 26ms/step\n",
            "1/1 [==============================] - 0s 25ms/step\n"
          ]
        },
        {
          "output_type": "stream",
          "name": "stderr",
          "text": [
            "100%|██████████| 300/300 [00:00<00:00, 1809.88it/s]\n",
            "100%|██████████| 300/300 [00:00<00:00, 1859.87it/s]\n"
          ]
        },
        {
          "output_type": "stream",
          "name": "stdout",
          "text": [
            "1/1 [==============================] - 0s 29ms/step\n",
            "1/1 [==============================] - 0s 24ms/step\n"
          ]
        },
        {
          "output_type": "stream",
          "name": "stderr",
          "text": [
            "100%|██████████| 300/300 [00:00<00:00, 1814.47it/s]\n",
            "100%|██████████| 300/300 [00:00<00:00, 1969.31it/s]\n"
          ]
        },
        {
          "output_type": "stream",
          "name": "stdout",
          "text": [
            "1/1 [==============================] - 0s 39ms/step\n",
            "1/1 [==============================] - 0s 41ms/step\n"
          ]
        },
        {
          "output_type": "stream",
          "name": "stderr",
          "text": [
            "100%|██████████| 300/300 [00:00<00:00, 1326.69it/s]\n",
            "100%|██████████| 300/300 [00:00<00:00, 1250.53it/s]\n"
          ]
        },
        {
          "output_type": "stream",
          "name": "stdout",
          "text": [
            "1/1 [==============================] - 0s 37ms/step\n",
            "1/1 [==============================] - 0s 38ms/step\n"
          ]
        },
        {
          "output_type": "stream",
          "name": "stderr",
          "text": [
            "100%|██████████| 300/300 [00:00<00:00, 1304.25it/s]\n",
            "100%|██████████| 300/300 [00:00<00:00, 1135.46it/s]\n"
          ]
        },
        {
          "output_type": "stream",
          "name": "stdout",
          "text": [
            "1/1 [==============================] - 0s 35ms/step\n",
            "1/1 [==============================] - 0s 46ms/step\n"
          ]
        },
        {
          "output_type": "stream",
          "name": "stderr",
          "text": [
            "100%|██████████| 300/300 [00:00<00:00, 1271.83it/s]\n",
            "100%|██████████| 300/300 [00:00<00:00, 1280.55it/s]\n"
          ]
        },
        {
          "output_type": "stream",
          "name": "stdout",
          "text": [
            "1/1 [==============================] - 0s 47ms/step\n",
            "1/1 [==============================] - 0s 35ms/step\n"
          ]
        },
        {
          "output_type": "stream",
          "name": "stderr",
          "text": [
            "100%|██████████| 300/300 [00:00<00:00, 1270.73it/s]\n",
            "100%|██████████| 300/300 [00:00<00:00, 1168.70it/s]\n"
          ]
        },
        {
          "output_type": "stream",
          "name": "stdout",
          "text": [
            "1/1 [==============================] - 0s 37ms/step\n",
            "1/1 [==============================] - 0s 36ms/step\n"
          ]
        },
        {
          "output_type": "stream",
          "name": "stderr",
          "text": [
            "100%|██████████| 300/300 [00:00<00:00, 1382.11it/s]\n",
            "100%|██████████| 300/300 [00:00<00:00, 1294.73it/s]\n"
          ]
        },
        {
          "output_type": "stream",
          "name": "stdout",
          "text": [
            "1/1 [==============================] - 0s 44ms/step\n",
            "1/1 [==============================] - 0s 40ms/step\n"
          ]
        },
        {
          "output_type": "stream",
          "name": "stderr",
          "text": [
            "100%|██████████| 300/300 [00:00<00:00, 1235.82it/s]\n",
            "100%|██████████| 300/300 [00:00<00:00, 1327.27it/s]\n"
          ]
        },
        {
          "output_type": "stream",
          "name": "stdout",
          "text": [
            "1/1 [==============================] - 0s 49ms/step\n",
            "1/1 [==============================] - 0s 28ms/step\n"
          ]
        },
        {
          "output_type": "stream",
          "name": "stderr",
          "text": [
            "100%|██████████| 300/300 [00:00<00:00, 1855.68it/s]\n",
            "100%|██████████| 300/300 [00:00<00:00, 1663.16it/s]\n"
          ]
        },
        {
          "output_type": "stream",
          "name": "stdout",
          "text": [
            "1/1 [==============================] - 0s 25ms/step\n",
            "1/1 [==============================] - 0s 28ms/step\n"
          ]
        },
        {
          "output_type": "stream",
          "name": "stderr",
          "text": [
            "100%|██████████| 300/300 [00:00<00:00, 1879.13it/s]\n",
            "100%|██████████| 300/300 [00:00<00:00, 1749.22it/s]\n"
          ]
        },
        {
          "output_type": "stream",
          "name": "stdout",
          "text": [
            "1/1 [==============================] - 0s 23ms/step\n",
            "1/1 [==============================] - 0s 29ms/step\n"
          ]
        },
        {
          "output_type": "stream",
          "name": "stderr",
          "text": [
            "100%|██████████| 300/300 [00:00<00:00, 1769.51it/s]\n",
            "100%|██████████| 300/300 [00:00<00:00, 1634.82it/s]\n"
          ]
        },
        {
          "output_type": "stream",
          "name": "stdout",
          "text": [
            "1/1 [==============================] - 0s 28ms/step\n",
            "1/1 [==============================] - 0s 27ms/step\n"
          ]
        },
        {
          "output_type": "stream",
          "name": "stderr",
          "text": [
            "100%|██████████| 300/300 [00:00<00:00, 1707.72it/s]\n",
            "100%|██████████| 300/300 [00:00<00:00, 1909.77it/s]\n"
          ]
        },
        {
          "output_type": "stream",
          "name": "stdout",
          "text": [
            "1/1 [==============================] - 0s 25ms/step\n",
            "1/1 [==============================] - 0s 27ms/step\n"
          ]
        },
        {
          "output_type": "stream",
          "name": "stderr",
          "text": [
            "100%|██████████| 300/300 [00:00<00:00, 1601.17it/s]\n",
            "100%|██████████| 300/300 [00:00<00:00, 1735.53it/s]\n"
          ]
        },
        {
          "output_type": "stream",
          "name": "stdout",
          "text": [
            "1/1 [==============================] - 0s 24ms/step\n",
            "1/1 [==============================] - 0s 25ms/step\n"
          ]
        },
        {
          "output_type": "stream",
          "name": "stderr",
          "text": [
            "100%|██████████| 300/300 [00:00<00:00, 1712.23it/s]\n",
            "100%|██████████| 300/300 [00:00<00:00, 1891.68it/s]\n"
          ]
        },
        {
          "output_type": "stream",
          "name": "stdout",
          "text": [
            "1/1 [==============================] - 0s 28ms/step\n",
            "1/1 [==============================] - 0s 25ms/step\n"
          ]
        },
        {
          "output_type": "stream",
          "name": "stderr",
          "text": [
            "100%|██████████| 300/300 [00:00<00:00, 1870.69it/s]\n",
            "100%|██████████| 300/300 [00:00<00:00, 1608.56it/s]\n"
          ]
        },
        {
          "output_type": "stream",
          "name": "stdout",
          "text": [
            "1/1 [==============================] - 0s 24ms/step\n",
            "1/1 [==============================] - 0s 25ms/step\n"
          ]
        },
        {
          "output_type": "stream",
          "name": "stderr",
          "text": [
            "100%|██████████| 300/300 [00:00<00:00, 1722.28it/s]\n",
            "100%|██████████| 300/300 [00:00<00:00, 1808.73it/s]\n"
          ]
        },
        {
          "output_type": "stream",
          "name": "stdout",
          "text": [
            "1/1 [==============================] - 0s 27ms/step\n",
            "1/1 [==============================] - 0s 25ms/step\n"
          ]
        },
        {
          "output_type": "stream",
          "name": "stderr",
          "text": [
            "100%|██████████| 300/300 [00:00<00:00, 1707.61it/s]\n",
            "100%|██████████| 300/300 [00:00<00:00, 1603.11it/s]\n"
          ]
        },
        {
          "output_type": "stream",
          "name": "stdout",
          "text": [
            "1/1 [==============================] - 0s 25ms/step\n",
            "1/1 [==============================] - 0s 32ms/step\n"
          ]
        },
        {
          "output_type": "stream",
          "name": "stderr",
          "text": [
            "100%|██████████| 300/300 [00:00<00:00, 1902.65it/s]\n",
            "100%|██████████| 300/300 [00:00<00:00, 1841.84it/s]\n"
          ]
        },
        {
          "output_type": "stream",
          "name": "stdout",
          "text": [
            "1/1 [==============================] - 0s 23ms/step\n",
            "1/1 [==============================] - 0s 25ms/step\n"
          ]
        },
        {
          "output_type": "stream",
          "name": "stderr",
          "text": [
            "100%|██████████| 300/300 [00:00<00:00, 1587.49it/s]\n",
            "100%|██████████| 300/300 [00:00<00:00, 1882.43it/s]\n"
          ]
        },
        {
          "output_type": "stream",
          "name": "stdout",
          "text": [
            "1/1 [==============================] - 0s 24ms/step\n",
            "1/1 [==============================] - 0s 26ms/step\n"
          ]
        },
        {
          "output_type": "stream",
          "name": "stderr",
          "text": [
            "100%|██████████| 300/300 [00:00<00:00, 1661.86it/s]\n",
            "100%|██████████| 300/300 [00:00<00:00, 1701.80it/s]\n"
          ]
        },
        {
          "output_type": "stream",
          "name": "stdout",
          "text": [
            "1/1 [==============================] - 0s 24ms/step\n",
            "1/1 [==============================] - 0s 26ms/step\n"
          ]
        },
        {
          "output_type": "stream",
          "name": "stderr",
          "text": [
            "100%|██████████| 300/300 [00:00<00:00, 1736.80it/s]\n",
            "100%|██████████| 300/300 [00:00<00:00, 1860.85it/s]\n"
          ]
        },
        {
          "output_type": "stream",
          "name": "stdout",
          "text": [
            "1/1 [==============================] - 0s 25ms/step\n",
            "1/1 [==============================] - 0s 25ms/step\n"
          ]
        },
        {
          "output_type": "stream",
          "name": "stderr",
          "text": [
            "100%|██████████| 300/300 [00:00<00:00, 1852.88it/s]\n",
            "100%|██████████| 300/300 [00:00<00:00, 1849.17it/s]\n"
          ]
        },
        {
          "output_type": "stream",
          "name": "stdout",
          "text": [
            "1/1 [==============================] - 0s 25ms/step\n",
            "1/1 [==============================] - 0s 28ms/step\n"
          ]
        },
        {
          "output_type": "stream",
          "name": "stderr",
          "text": [
            "100%|██████████| 300/300 [00:00<00:00, 1724.59it/s]\n",
            "100%|██████████| 300/300 [00:00<00:00, 1794.38it/s]\n"
          ]
        },
        {
          "output_type": "stream",
          "name": "stdout",
          "text": [
            "1/1 [==============================] - 0s 28ms/step\n",
            "1/1 [==============================] - 0s 25ms/step\n"
          ]
        },
        {
          "output_type": "stream",
          "name": "stderr",
          "text": [
            "100%|██████████| 300/300 [00:00<00:00, 1713.86it/s]\n",
            "100%|██████████| 300/300 [00:00<00:00, 1800.63it/s]\n"
          ]
        },
        {
          "output_type": "stream",
          "name": "stdout",
          "text": [
            "1/1 [==============================] - 0s 25ms/step\n",
            "1/1 [==============================] - 0s 31ms/step\n"
          ]
        },
        {
          "output_type": "stream",
          "name": "stderr",
          "text": [
            "100%|██████████| 300/300 [00:00<00:00, 1637.05it/s]\n",
            "100%|██████████| 300/300 [00:00<00:00, 1821.07it/s]\n"
          ]
        },
        {
          "output_type": "stream",
          "name": "stdout",
          "text": [
            "1/1 [==============================] - 0s 26ms/step\n",
            "1/1 [==============================] - 0s 30ms/step\n"
          ]
        },
        {
          "output_type": "stream",
          "name": "stderr",
          "text": [
            "100%|██████████| 300/300 [00:00<00:00, 1668.83it/s]\n",
            "100%|██████████| 300/300 [00:00<00:00, 1720.32it/s]\n"
          ]
        },
        {
          "output_type": "stream",
          "name": "stdout",
          "text": [
            "1/1 [==============================] - 0s 25ms/step\n",
            "1/1 [==============================] - 0s 41ms/step\n"
          ]
        },
        {
          "output_type": "stream",
          "name": "stderr",
          "text": [
            "100%|██████████| 300/300 [00:00<00:00, 1613.17it/s]\n",
            "100%|██████████| 300/300 [00:00<00:00, 1659.83it/s]\n"
          ]
        },
        {
          "output_type": "stream",
          "name": "stdout",
          "text": [
            "1/1 [==============================] - 0s 36ms/step\n",
            "1/1 [==============================] - 0s 38ms/step\n"
          ]
        },
        {
          "output_type": "stream",
          "name": "stderr",
          "text": [
            "100%|██████████| 300/300 [00:00<00:00, 1240.82it/s]\n",
            "100%|██████████| 300/300 [00:00<00:00, 1253.93it/s]\n"
          ]
        },
        {
          "output_type": "stream",
          "name": "stdout",
          "text": [
            "1/1 [==============================] - 0s 37ms/step\n",
            "1/1 [==============================] - 0s 36ms/step\n"
          ]
        },
        {
          "output_type": "stream",
          "name": "stderr",
          "text": [
            "100%|██████████| 300/300 [00:00<00:00, 1340.97it/s]\n",
            "100%|██████████| 300/300 [00:00<00:00, 1377.67it/s]\n"
          ]
        },
        {
          "output_type": "stream",
          "name": "stdout",
          "text": [
            "1/1 [==============================] - 0s 43ms/step\n",
            "1/1 [==============================] - 0s 35ms/step\n"
          ]
        },
        {
          "output_type": "stream",
          "name": "stderr",
          "text": [
            "100%|██████████| 300/300 [00:00<00:00, 1234.36it/s]\n",
            "100%|██████████| 300/300 [00:00<00:00, 1291.51it/s]\n"
          ]
        },
        {
          "output_type": "stream",
          "name": "stdout",
          "text": [
            "1/1 [==============================] - 0s 38ms/step\n",
            "1/1 [==============================] - 0s 36ms/step\n"
          ]
        },
        {
          "output_type": "stream",
          "name": "stderr",
          "text": [
            "100%|██████████| 300/300 [00:00<00:00, 1233.91it/s]\n",
            "100%|██████████| 300/300 [00:00<00:00, 1258.99it/s]\n"
          ]
        },
        {
          "output_type": "stream",
          "name": "stdout",
          "text": [
            "1/1 [==============================] - 0s 40ms/step\n",
            "1/1 [==============================] - 0s 43ms/step\n"
          ]
        },
        {
          "output_type": "stream",
          "name": "stderr",
          "text": [
            "100%|██████████| 300/300 [00:00<00:00, 1286.43it/s]\n",
            "100%|██████████| 300/300 [00:00<00:00, 1259.29it/s]\n"
          ]
        },
        {
          "output_type": "stream",
          "name": "stdout",
          "text": [
            "1/1 [==============================] - 0s 46ms/step\n",
            "1/1 [==============================] - 0s 45ms/step\n"
          ]
        },
        {
          "output_type": "stream",
          "name": "stderr",
          "text": [
            "100%|██████████| 300/300 [00:00<00:00, 1237.49it/s]\n",
            "100%|██████████| 300/300 [00:00<00:00, 1278.93it/s]\n"
          ]
        },
        {
          "output_type": "stream",
          "name": "stdout",
          "text": [
            "1/1 [==============================] - 0s 49ms/step\n",
            "1/1 [==============================] - 0s 45ms/step\n"
          ]
        },
        {
          "output_type": "stream",
          "name": "stderr",
          "text": [
            "100%|██████████| 300/300 [00:00<00:00, 1505.12it/s]\n",
            "100%|██████████| 300/300 [00:00<00:00, 1759.83it/s]\n"
          ]
        },
        {
          "output_type": "stream",
          "name": "stdout",
          "text": [
            "1/1 [==============================] - 0s 25ms/step\n",
            "1/1 [==============================] - 0s 27ms/step\n"
          ]
        },
        {
          "output_type": "stream",
          "name": "stderr",
          "text": [
            "100%|██████████| 300/300 [00:00<00:00, 1762.42it/s]\n",
            "100%|██████████| 300/300 [00:00<00:00, 1873.89it/s]\n"
          ]
        },
        {
          "output_type": "stream",
          "name": "stdout",
          "text": [
            "1/1 [==============================] - 0s 25ms/step\n",
            "1/1 [==============================] - 0s 26ms/step\n"
          ]
        },
        {
          "output_type": "stream",
          "name": "stderr",
          "text": [
            "100%|██████████| 300/300 [00:00<00:00, 1776.07it/s]\n",
            "100%|██████████| 300/300 [00:00<00:00, 1669.21it/s]\n"
          ]
        },
        {
          "output_type": "stream",
          "name": "stdout",
          "text": [
            "1/1 [==============================] - 0s 23ms/step\n",
            "1/1 [==============================] - 0s 25ms/step\n"
          ]
        },
        {
          "output_type": "stream",
          "name": "stderr",
          "text": [
            "100%|██████████| 300/300 [00:00<00:00, 1695.31it/s]\n",
            "100%|██████████| 300/300 [00:00<00:00, 1625.63it/s]\n"
          ]
        },
        {
          "output_type": "stream",
          "name": "stdout",
          "text": [
            "1/1 [==============================] - 0s 27ms/step\n",
            "1/1 [==============================] - 0s 24ms/step\n"
          ]
        },
        {
          "output_type": "stream",
          "name": "stderr",
          "text": [
            "100%|██████████| 300/300 [00:00<00:00, 1823.19it/s]\n",
            "100%|██████████| 300/300 [00:00<00:00, 1622.28it/s]\n"
          ]
        },
        {
          "output_type": "stream",
          "name": "stdout",
          "text": [
            "1/1 [==============================] - 0s 27ms/step\n",
            "1/1 [==============================] - 0s 24ms/step\n"
          ]
        },
        {
          "output_type": "stream",
          "name": "stderr",
          "text": [
            "100%|██████████| 300/300 [00:00<00:00, 1709.40it/s]\n",
            "100%|██████████| 300/300 [00:00<00:00, 1559.06it/s]\n"
          ]
        },
        {
          "output_type": "stream",
          "name": "stdout",
          "text": [
            "1/1 [==============================] - 0s 23ms/step\n",
            "1/1 [==============================] - 0s 24ms/step\n"
          ]
        },
        {
          "output_type": "stream",
          "name": "stderr",
          "text": [
            "100%|██████████| 300/300 [00:00<00:00, 1604.79it/s]\n",
            "100%|██████████| 300/300 [00:00<00:00, 1792.40it/s]\n"
          ]
        },
        {
          "output_type": "stream",
          "name": "stdout",
          "text": [
            "1/1 [==============================] - 0s 25ms/step\n",
            "1/1 [==============================] - 0s 25ms/step\n"
          ]
        },
        {
          "output_type": "stream",
          "name": "stderr",
          "text": [
            "100%|██████████| 300/300 [00:00<00:00, 1666.18it/s]\n",
            "100%|██████████| 300/300 [00:00<00:00, 1827.53it/s]\n"
          ]
        },
        {
          "output_type": "stream",
          "name": "stdout",
          "text": [
            "1/1 [==============================] - 0s 27ms/step\n",
            "1/1 [==============================] - 0s 26ms/step\n"
          ]
        },
        {
          "output_type": "stream",
          "name": "stderr",
          "text": [
            "100%|██████████| 300/300 [00:00<00:00, 1602.57it/s]\n",
            "100%|██████████| 300/300 [00:00<00:00, 1927.95it/s]\n"
          ]
        },
        {
          "output_type": "stream",
          "name": "stdout",
          "text": [
            "1/1 [==============================] - 0s 31ms/step\n",
            "1/1 [==============================] - 0s 25ms/step\n"
          ]
        },
        {
          "output_type": "stream",
          "name": "stderr",
          "text": [
            "100%|██████████| 300/300 [00:00<00:00, 1624.81it/s]\n",
            "100%|██████████| 300/300 [00:00<00:00, 1826.68it/s]\n"
          ]
        },
        {
          "output_type": "stream",
          "name": "stdout",
          "text": [
            "1/1 [==============================] - 0s 25ms/step\n",
            "1/1 [==============================] - 0s 25ms/step\n"
          ]
        },
        {
          "output_type": "stream",
          "name": "stderr",
          "text": [
            "100%|██████████| 300/300 [00:00<00:00, 1823.11it/s]\n",
            "100%|██████████| 300/300 [00:00<00:00, 1656.58it/s]\n"
          ]
        },
        {
          "output_type": "stream",
          "name": "stdout",
          "text": [
            "1/1 [==============================] - 0s 27ms/step\n",
            "1/1 [==============================] - 0s 28ms/step\n"
          ]
        },
        {
          "output_type": "stream",
          "name": "stderr",
          "text": [
            "100%|██████████| 300/300 [00:00<00:00, 1783.03it/s]\n",
            "100%|██████████| 300/300 [00:00<00:00, 1737.23it/s]\n"
          ]
        },
        {
          "output_type": "stream",
          "name": "stdout",
          "text": [
            "1/1 [==============================] - 0s 29ms/step\n",
            "1/1 [==============================] - 0s 26ms/step\n"
          ]
        },
        {
          "output_type": "stream",
          "name": "stderr",
          "text": [
            "100%|██████████| 300/300 [00:00<00:00, 1666.05it/s]\n",
            "100%|██████████| 300/300 [00:00<00:00, 1777.14it/s]\n"
          ]
        },
        {
          "output_type": "stream",
          "name": "stdout",
          "text": [
            "1/1 [==============================] - 0s 26ms/step\n",
            "1/1 [==============================] - 0s 27ms/step\n"
          ]
        },
        {
          "output_type": "stream",
          "name": "stderr",
          "text": [
            "100%|██████████| 300/300 [00:00<00:00, 1746.62it/s]\n",
            "100%|██████████| 300/300 [00:00<00:00, 1866.90it/s]\n"
          ]
        },
        {
          "output_type": "stream",
          "name": "stdout",
          "text": [
            "1/1 [==============================] - 0s 25ms/step\n",
            "1/1 [==============================] - 0s 33ms/step\n"
          ]
        },
        {
          "output_type": "stream",
          "name": "stderr",
          "text": [
            "100%|██████████| 300/300 [00:00<00:00, 1805.32it/s]\n",
            "100%|██████████| 300/300 [00:00<00:00, 1773.31it/s]\n"
          ]
        },
        {
          "output_type": "stream",
          "name": "stdout",
          "text": [
            "1/1 [==============================] - 0s 27ms/step\n",
            "1/1 [==============================] - 0s 25ms/step\n"
          ]
        },
        {
          "output_type": "stream",
          "name": "stderr",
          "text": [
            "100%|██████████| 300/300 [00:00<00:00, 1579.30it/s]\n",
            "100%|██████████| 300/300 [00:00<00:00, 1807.40it/s]\n"
          ]
        },
        {
          "output_type": "stream",
          "name": "stdout",
          "text": [
            "1/1 [==============================] - 0s 25ms/step\n",
            "1/1 [==============================] - 0s 34ms/step\n"
          ]
        },
        {
          "output_type": "stream",
          "name": "stderr",
          "text": [
            "100%|██████████| 300/300 [00:00<00:00, 1686.58it/s]\n",
            "100%|██████████| 300/300 [00:00<00:00, 1689.10it/s]\n"
          ]
        },
        {
          "output_type": "stream",
          "name": "stdout",
          "text": [
            "1/1 [==============================] - 0s 29ms/step\n",
            "1/1 [==============================] - 0s 25ms/step\n"
          ]
        },
        {
          "output_type": "stream",
          "name": "stderr",
          "text": [
            "100%|██████████| 300/300 [00:00<00:00, 1698.82it/s]\n",
            "100%|██████████| 300/300 [00:00<00:00, 1708.42it/s]\n"
          ]
        },
        {
          "output_type": "stream",
          "name": "stdout",
          "text": [
            "1/1 [==============================] - 0s 36ms/step\n",
            "1/1 [==============================] - 0s 28ms/step\n"
          ]
        },
        {
          "output_type": "stream",
          "name": "stderr",
          "text": [
            "100%|██████████| 300/300 [00:00<00:00, 1874.43it/s]\n",
            "100%|██████████| 300/300 [00:00<00:00, 1756.73it/s]\n"
          ]
        },
        {
          "output_type": "stream",
          "name": "stdout",
          "text": [
            "1/1 [==============================] - 0s 27ms/step\n",
            "1/1 [==============================] - 0s 46ms/step\n"
          ]
        },
        {
          "output_type": "stream",
          "name": "stderr",
          "text": [
            "100%|██████████| 300/300 [00:00<00:00, 1211.96it/s]\n",
            "100%|██████████| 300/300 [00:00<00:00, 1041.97it/s]\n"
          ]
        },
        {
          "output_type": "stream",
          "name": "stdout",
          "text": [
            "1/1 [==============================] - 0s 35ms/step\n",
            "1/1 [==============================] - 0s 35ms/step\n"
          ]
        },
        {
          "output_type": "stream",
          "name": "stderr",
          "text": [
            "100%|██████████| 300/300 [00:00<00:00, 1267.71it/s]\n",
            "100%|██████████| 300/300 [00:00<00:00, 1290.94it/s]\n"
          ]
        },
        {
          "output_type": "stream",
          "name": "stdout",
          "text": [
            "1/1 [==============================] - 0s 38ms/step\n",
            "1/1 [==============================] - 0s 40ms/step\n"
          ]
        },
        {
          "output_type": "stream",
          "name": "stderr",
          "text": [
            "100%|██████████| 300/300 [00:00<00:00, 1300.40it/s]\n",
            "100%|██████████| 300/300 [00:00<00:00, 1302.23it/s]\n"
          ]
        },
        {
          "output_type": "stream",
          "name": "stdout",
          "text": [
            "1/1 [==============================] - 0s 43ms/step\n",
            "1/1 [==============================] - 0s 37ms/step\n"
          ]
        },
        {
          "output_type": "stream",
          "name": "stderr",
          "text": [
            "100%|██████████| 300/300 [00:00<00:00, 1222.37it/s]\n",
            "100%|██████████| 300/300 [00:00<00:00, 1178.55it/s]\n"
          ]
        },
        {
          "output_type": "stream",
          "name": "stdout",
          "text": [
            "1/1 [==============================] - 0s 38ms/step\n",
            "1/1 [==============================] - 0s 38ms/step\n"
          ]
        },
        {
          "output_type": "stream",
          "name": "stderr",
          "text": [
            "100%|██████████| 300/300 [00:00<00:00, 1323.73it/s]\n",
            "100%|██████████| 300/300 [00:00<00:00, 1272.50it/s]\n"
          ]
        },
        {
          "output_type": "stream",
          "name": "stdout",
          "text": [
            "1/1 [==============================] - 0s 42ms/step\n",
            "1/1 [==============================] - 0s 53ms/step\n"
          ]
        },
        {
          "output_type": "stream",
          "name": "stderr",
          "text": [
            "100%|██████████| 300/300 [00:00<00:00, 1236.95it/s]\n",
            "100%|██████████| 300/300 [00:00<00:00, 1286.86it/s]\n"
          ]
        },
        {
          "output_type": "stream",
          "name": "stdout",
          "text": [
            "1/1 [==============================] - 0s 49ms/step\n",
            "1/1 [==============================] - 0s 34ms/step\n"
          ]
        },
        {
          "output_type": "stream",
          "name": "stderr",
          "text": [
            "100%|██████████| 300/300 [00:00<00:00, 1921.32it/s]\n",
            "100%|██████████| 300/300 [00:00<00:00, 1741.37it/s]\n"
          ]
        },
        {
          "output_type": "stream",
          "name": "stdout",
          "text": [
            "1/1 [==============================] - 0s 26ms/step\n",
            "1/1 [==============================] - 0s 26ms/step\n"
          ]
        },
        {
          "output_type": "stream",
          "name": "stderr",
          "text": [
            "100%|██████████| 300/300 [00:00<00:00, 1824.16it/s]\n",
            "100%|██████████| 300/300 [00:00<00:00, 1814.29it/s]\n"
          ]
        },
        {
          "output_type": "stream",
          "name": "stdout",
          "text": [
            "1/1 [==============================] - 0s 24ms/step\n",
            "1/1 [==============================] - 0s 28ms/step\n"
          ]
        },
        {
          "output_type": "stream",
          "name": "stderr",
          "text": [
            "100%|██████████| 300/300 [00:00<00:00, 1714.29it/s]\n",
            "100%|██████████| 300/300 [00:00<00:00, 1569.02it/s]\n"
          ]
        },
        {
          "output_type": "stream",
          "name": "stdout",
          "text": [
            "1/1 [==============================] - 0s 27ms/step\n",
            "1/1 [==============================] - 0s 28ms/step\n"
          ]
        },
        {
          "output_type": "stream",
          "name": "stderr",
          "text": [
            "100%|██████████| 300/300 [00:00<00:00, 1709.80it/s]\n",
            "100%|██████████| 300/300 [00:00<00:00, 1746.59it/s]\n"
          ]
        },
        {
          "output_type": "stream",
          "name": "stdout",
          "text": [
            "1/1 [==============================] - 0s 24ms/step\n",
            "1/1 [==============================] - 0s 29ms/step\n"
          ]
        },
        {
          "output_type": "stream",
          "name": "stderr",
          "text": [
            "100%|██████████| 300/300 [00:00<00:00, 1660.92it/s]\n",
            "100%|██████████| 300/300 [00:00<00:00, 1741.85it/s]\n"
          ]
        },
        {
          "output_type": "stream",
          "name": "stdout",
          "text": [
            "1/1 [==============================] - 0s 25ms/step\n",
            "1/1 [==============================] - 0s 27ms/step\n"
          ]
        },
        {
          "output_type": "stream",
          "name": "stderr",
          "text": [
            "100%|██████████| 300/300 [00:00<00:00, 1685.08it/s]\n",
            "100%|██████████| 300/300 [00:00<00:00, 1750.94it/s]\n"
          ]
        },
        {
          "output_type": "stream",
          "name": "stdout",
          "text": [
            "1/1 [==============================] - 0s 25ms/step\n",
            "1/1 [==============================] - 0s 31ms/step\n"
          ]
        },
        {
          "output_type": "stream",
          "name": "stderr",
          "text": [
            "100%|██████████| 300/300 [00:00<00:00, 1544.36it/s]\n",
            "100%|██████████| 300/300 [00:00<00:00, 1781.46it/s]\n"
          ]
        },
        {
          "output_type": "stream",
          "name": "stdout",
          "text": [
            "1/1 [==============================] - 0s 30ms/step\n",
            "1/1 [==============================] - 0s 30ms/step\n"
          ]
        },
        {
          "output_type": "stream",
          "name": "stderr",
          "text": [
            "100%|██████████| 300/300 [00:00<00:00, 1928.41it/s]\n",
            "100%|██████████| 300/300 [00:00<00:00, 1738.32it/s]\n"
          ]
        },
        {
          "output_type": "stream",
          "name": "stdout",
          "text": [
            "1/1 [==============================] - 0s 28ms/step\n",
            "1/1 [==============================] - 0s 33ms/step\n"
          ]
        },
        {
          "output_type": "stream",
          "name": "stderr",
          "text": [
            "100%|██████████| 300/300 [00:00<00:00, 1706.08it/s]\n",
            "100%|██████████| 300/300 [00:00<00:00, 1883.03it/s]\n"
          ]
        },
        {
          "output_type": "stream",
          "name": "stdout",
          "text": [
            "1/1 [==============================] - 0s 27ms/step\n",
            "1/1 [==============================] - 0s 25ms/step\n"
          ]
        },
        {
          "output_type": "stream",
          "name": "stderr",
          "text": [
            "100%|██████████| 300/300 [00:00<00:00, 1812.09it/s]\n",
            "100%|██████████| 300/300 [00:00<00:00, 1895.48it/s]\n"
          ]
        },
        {
          "output_type": "stream",
          "name": "stdout",
          "text": [
            "1/1 [==============================] - 0s 28ms/step\n",
            "1/1 [==============================] - 0s 25ms/step\n"
          ]
        },
        {
          "output_type": "stream",
          "name": "stderr",
          "text": [
            "100%|██████████| 300/300 [00:00<00:00, 1921.24it/s]\n",
            "100%|██████████| 300/300 [00:00<00:00, 1821.01it/s]\n"
          ]
        },
        {
          "output_type": "stream",
          "name": "stdout",
          "text": [
            "1/1 [==============================] - 0s 24ms/step\n",
            "1/1 [==============================] - 0s 25ms/step\n"
          ]
        },
        {
          "output_type": "stream",
          "name": "stderr",
          "text": [
            "100%|██████████| 300/300 [00:00<00:00, 1744.26it/s]\n",
            "100%|██████████| 300/300 [00:00<00:00, 1662.73it/s]\n"
          ]
        },
        {
          "output_type": "stream",
          "name": "stdout",
          "text": [
            "1/1 [==============================] - 0s 26ms/step\n",
            "1/1 [==============================] - 0s 26ms/step\n"
          ]
        },
        {
          "output_type": "stream",
          "name": "stderr",
          "text": [
            "100%|██████████| 300/300 [00:00<00:00, 1817.91it/s]\n",
            "100%|██████████| 300/300 [00:00<00:00, 1894.81it/s]\n"
          ]
        },
        {
          "output_type": "stream",
          "name": "stdout",
          "text": [
            "1/1 [==============================] - 0s 27ms/step\n",
            "1/1 [==============================] - 0s 25ms/step\n"
          ]
        },
        {
          "output_type": "stream",
          "name": "stderr",
          "text": [
            "100%|██████████| 300/300 [00:00<00:00, 1756.08it/s]\n",
            "100%|██████████| 300/300 [00:00<00:00, 1877.56it/s]\n"
          ]
        },
        {
          "output_type": "stream",
          "name": "stdout",
          "text": [
            "1/1 [==============================] - 0s 33ms/step\n",
            "1/1 [==============================] - 0s 31ms/step\n"
          ]
        },
        {
          "output_type": "stream",
          "name": "stderr",
          "text": [
            "100%|██████████| 300/300 [00:00<00:00, 1725.95it/s]\n",
            "100%|██████████| 300/300 [00:00<00:00, 1641.02it/s]\n"
          ]
        },
        {
          "output_type": "stream",
          "name": "stdout",
          "text": [
            "1/1 [==============================] - 0s 31ms/step\n",
            "1/1 [==============================] - 0s 25ms/step\n"
          ]
        },
        {
          "output_type": "stream",
          "name": "stderr",
          "text": [
            "100%|██████████| 300/300 [00:00<00:00, 1782.34it/s]\n",
            "100%|██████████| 300/300 [00:00<00:00, 1548.18it/s]\n"
          ]
        },
        {
          "output_type": "stream",
          "name": "stdout",
          "text": [
            "1/1 [==============================] - 0s 24ms/step\n",
            "1/1 [==============================] - 0s 28ms/step\n"
          ]
        },
        {
          "output_type": "stream",
          "name": "stderr",
          "text": [
            "100%|██████████| 300/300 [00:00<00:00, 1707.59it/s]\n",
            "100%|██████████| 300/300 [00:00<00:00, 1776.33it/s]\n"
          ]
        },
        {
          "output_type": "stream",
          "name": "stdout",
          "text": [
            "1/1 [==============================] - 0s 24ms/step\n",
            "1/1 [==============================] - 0s 33ms/step\n"
          ]
        },
        {
          "output_type": "stream",
          "name": "stderr",
          "text": [
            "100%|██████████| 300/300 [00:00<00:00, 1761.41it/s]\n",
            "100%|██████████| 300/300 [00:00<00:00, 1761.11it/s]\n"
          ]
        },
        {
          "output_type": "stream",
          "name": "stdout",
          "text": [
            "1/1 [==============================] - 0s 31ms/step\n",
            "1/1 [==============================] - 0s 28ms/step\n"
          ]
        },
        {
          "output_type": "stream",
          "name": "stderr",
          "text": [
            "100%|██████████| 300/300 [00:00<00:00, 1778.96it/s]\n",
            "100%|██████████| 300/300 [00:00<00:00, 1708.93it/s]\n"
          ]
        },
        {
          "output_type": "stream",
          "name": "stdout",
          "text": [
            "1/1 [==============================] - 0s 38ms/step\n",
            "1/1 [==============================] - 0s 37ms/step\n"
          ]
        },
        {
          "output_type": "stream",
          "name": "stderr",
          "text": [
            "100%|██████████| 300/300 [00:00<00:00, 1149.49it/s]\n",
            "100%|██████████| 300/300 [00:00<00:00, 1239.30it/s]\n"
          ]
        },
        {
          "output_type": "stream",
          "name": "stdout",
          "text": [
            "1/1 [==============================] - 0s 37ms/step\n",
            "1/1 [==============================] - 0s 34ms/step\n"
          ]
        },
        {
          "output_type": "stream",
          "name": "stderr",
          "text": [
            "100%|██████████| 300/300 [00:00<00:00, 1362.57it/s]\n",
            "100%|██████████| 300/300 [00:00<00:00, 1309.24it/s]\n"
          ]
        },
        {
          "output_type": "stream",
          "name": "stdout",
          "text": [
            "1/1 [==============================] - 0s 45ms/step\n",
            "1/1 [==============================] - 0s 36ms/step\n"
          ]
        },
        {
          "output_type": "stream",
          "name": "stderr",
          "text": [
            "100%|██████████| 300/300 [00:00<00:00, 1288.57it/s]\n",
            "100%|██████████| 300/300 [00:00<00:00, 1353.68it/s]\n"
          ]
        },
        {
          "output_type": "stream",
          "name": "stdout",
          "text": [
            "1/1 [==============================] - 0s 51ms/step\n",
            "1/1 [==============================] - 0s 38ms/step\n"
          ]
        },
        {
          "output_type": "stream",
          "name": "stderr",
          "text": [
            "100%|██████████| 300/300 [00:00<00:00, 1271.27it/s]\n",
            "100%|██████████| 300/300 [00:00<00:00, 1288.61it/s]\n"
          ]
        },
        {
          "output_type": "stream",
          "name": "stdout",
          "text": [
            "1/1 [==============================] - 0s 39ms/step\n",
            "1/1 [==============================] - 0s 34ms/step\n"
          ]
        },
        {
          "output_type": "stream",
          "name": "stderr",
          "text": [
            "100%|██████████| 300/300 [00:00<00:00, 1143.97it/s]\n",
            "100%|██████████| 300/300 [00:00<00:00, 1247.68it/s]\n"
          ]
        },
        {
          "output_type": "stream",
          "name": "stdout",
          "text": [
            "1/1 [==============================] - 0s 39ms/step\n",
            "1/1 [==============================] - 0s 34ms/step\n"
          ]
        },
        {
          "output_type": "stream",
          "name": "stderr",
          "text": [
            "100%|██████████| 300/300 [00:00<00:00, 1275.28it/s]\n",
            "100%|██████████| 300/300 [00:00<00:00, 1228.19it/s]\n"
          ]
        },
        {
          "output_type": "stream",
          "name": "stdout",
          "text": [
            "1/1 [==============================] - 0s 34ms/step\n",
            "1/1 [==============================] - 0s 36ms/step\n"
          ]
        },
        {
          "output_type": "stream",
          "name": "stderr",
          "text": [
            "100%|██████████| 300/300 [00:00<00:00, 1274.95it/s]\n",
            "100%|██████████| 300/300 [00:00<00:00, 1835.79it/s]\n"
          ]
        },
        {
          "output_type": "stream",
          "name": "stdout",
          "text": [
            "1/1 [==============================] - 0s 27ms/step\n",
            "1/1 [==============================] - 0s 25ms/step\n"
          ]
        },
        {
          "output_type": "stream",
          "name": "stderr",
          "text": [
            "100%|██████████| 300/300 [00:00<00:00, 1599.24it/s]\n",
            "100%|██████████| 300/300 [00:00<00:00, 1818.37it/s]\n"
          ]
        },
        {
          "output_type": "stream",
          "name": "stdout",
          "text": [
            "1/1 [==============================] - 0s 24ms/step\n",
            "1/1 [==============================] - 0s 24ms/step\n"
          ]
        },
        {
          "output_type": "stream",
          "name": "stderr",
          "text": [
            "100%|██████████| 300/300 [00:00<00:00, 1695.25it/s]\n",
            "100%|██████████| 300/300 [00:00<00:00, 1741.03it/s]\n"
          ]
        },
        {
          "output_type": "stream",
          "name": "stdout",
          "text": [
            "1/1 [==============================] - 0s 24ms/step\n",
            "1/1 [==============================] - 0s 28ms/step\n"
          ]
        },
        {
          "output_type": "stream",
          "name": "stderr",
          "text": [
            "100%|██████████| 300/300 [00:00<00:00, 1760.06it/s]\n",
            "100%|██████████| 300/300 [00:00<00:00, 1754.80it/s]\n"
          ]
        },
        {
          "output_type": "stream",
          "name": "stdout",
          "text": [
            "1/1 [==============================] - 0s 26ms/step\n",
            "1/1 [==============================] - 0s 30ms/step\n"
          ]
        },
        {
          "output_type": "stream",
          "name": "stderr",
          "text": [
            "100%|██████████| 300/300 [00:00<00:00, 1849.26it/s]\n",
            "100%|██████████| 300/300 [00:00<00:00, 1686.92it/s]\n"
          ]
        },
        {
          "output_type": "stream",
          "name": "stdout",
          "text": [
            "1/1 [==============================] - 0s 25ms/step\n",
            "1/1 [==============================] - 0s 34ms/step\n"
          ]
        },
        {
          "output_type": "stream",
          "name": "stderr",
          "text": [
            "100%|██████████| 300/300 [00:00<00:00, 1940.19it/s]\n",
            "100%|██████████| 300/300 [00:00<00:00, 1743.71it/s]\n"
          ]
        },
        {
          "output_type": "stream",
          "name": "stdout",
          "text": [
            "1/1 [==============================] - 0s 24ms/step\n",
            "1/1 [==============================] - 0s 32ms/step\n"
          ]
        },
        {
          "output_type": "stream",
          "name": "stderr",
          "text": [
            "100%|██████████| 300/300 [00:00<00:00, 1808.36it/s]\n",
            "100%|██████████| 300/300 [00:00<00:00, 1815.18it/s]\n"
          ]
        },
        {
          "output_type": "stream",
          "name": "stdout",
          "text": [
            "1/1 [==============================] - 0s 26ms/step\n",
            "1/1 [==============================] - 0s 24ms/step\n"
          ]
        },
        {
          "output_type": "stream",
          "name": "stderr",
          "text": [
            "100%|██████████| 300/300 [00:00<00:00, 1783.44it/s]\n",
            "100%|██████████| 300/300 [00:00<00:00, 1698.81it/s]\n"
          ]
        },
        {
          "output_type": "stream",
          "name": "stdout",
          "text": [
            "1/1 [==============================] - 0s 27ms/step\n",
            "1/1 [==============================] - 0s 33ms/step\n"
          ]
        },
        {
          "output_type": "stream",
          "name": "stderr",
          "text": [
            "100%|██████████| 300/300 [00:00<00:00, 1779.40it/s]\n",
            "100%|██████████| 300/300 [00:00<00:00, 1765.09it/s]\n"
          ]
        },
        {
          "output_type": "stream",
          "name": "stdout",
          "text": [
            "1/1 [==============================] - 0s 24ms/step\n",
            "1/1 [==============================] - 0s 29ms/step\n"
          ]
        },
        {
          "output_type": "stream",
          "name": "stderr",
          "text": [
            "100%|██████████| 300/300 [00:00<00:00, 1809.15it/s]\n",
            "100%|██████████| 300/300 [00:00<00:00, 1987.73it/s]\n"
          ]
        },
        {
          "output_type": "stream",
          "name": "stdout",
          "text": [
            "1/1 [==============================] - 0s 27ms/step\n",
            "1/1 [==============================] - 0s 25ms/step\n"
          ]
        },
        {
          "output_type": "stream",
          "name": "stderr",
          "text": [
            "100%|██████████| 300/300 [00:00<00:00, 1841.82it/s]\n",
            "100%|██████████| 300/300 [00:00<00:00, 1700.01it/s]\n"
          ]
        },
        {
          "output_type": "stream",
          "name": "stdout",
          "text": [
            "1/1 [==============================] - 0s 23ms/step\n",
            "1/1 [==============================] - 0s 25ms/step\n"
          ]
        },
        {
          "output_type": "stream",
          "name": "stderr",
          "text": [
            "100%|██████████| 300/300 [00:00<00:00, 1687.19it/s]\n",
            "100%|██████████| 300/300 [00:00<00:00, 1830.09it/s]\n"
          ]
        },
        {
          "output_type": "stream",
          "name": "stdout",
          "text": [
            "1/1 [==============================] - 0s 26ms/step\n",
            "1/1 [==============================] - 0s 23ms/step\n"
          ]
        },
        {
          "output_type": "stream",
          "name": "stderr",
          "text": [
            "100%|██████████| 300/300 [00:00<00:00, 1747.72it/s]\n",
            "100%|██████████| 300/300 [00:00<00:00, 1771.35it/s]\n"
          ]
        },
        {
          "output_type": "stream",
          "name": "stdout",
          "text": [
            "1/1 [==============================] - 0s 28ms/step\n",
            "1/1 [==============================] - 0s 24ms/step\n"
          ]
        },
        {
          "output_type": "stream",
          "name": "stderr",
          "text": [
            "100%|██████████| 300/300 [00:00<00:00, 1631.22it/s]\n",
            "100%|██████████| 300/300 [00:00<00:00, 1858.32it/s]\n"
          ]
        },
        {
          "output_type": "stream",
          "name": "stdout",
          "text": [
            "1/1 [==============================] - 0s 33ms/step\n",
            "1/1 [==============================] - 0s 26ms/step\n"
          ]
        },
        {
          "output_type": "stream",
          "name": "stderr",
          "text": [
            "100%|██████████| 300/300 [00:00<00:00, 1884.36it/s]\n",
            "100%|██████████| 300/300 [00:00<00:00, 1723.21it/s]\n"
          ]
        },
        {
          "output_type": "stream",
          "name": "stdout",
          "text": [
            "1/1 [==============================] - 0s 32ms/step\n",
            "1/1 [==============================] - 0s 25ms/step\n"
          ]
        },
        {
          "output_type": "stream",
          "name": "stderr",
          "text": [
            "100%|██████████| 300/300 [00:00<00:00, 1735.10it/s]\n",
            "100%|██████████| 300/300 [00:00<00:00, 1736.21it/s]\n"
          ]
        },
        {
          "output_type": "stream",
          "name": "stdout",
          "text": [
            "1/1 [==============================] - 0s 25ms/step\n",
            "1/1 [==============================] - 0s 26ms/step\n"
          ]
        },
        {
          "output_type": "stream",
          "name": "stderr",
          "text": [
            "100%|██████████| 300/300 [00:00<00:00, 1772.05it/s]\n",
            "100%|██████████| 300/300 [00:00<00:00, 1976.85it/s]\n"
          ]
        },
        {
          "output_type": "stream",
          "name": "stdout",
          "text": [
            "1/1 [==============================] - 0s 23ms/step\n",
            "1/1 [==============================] - 0s 24ms/step\n"
          ]
        },
        {
          "output_type": "stream",
          "name": "stderr",
          "text": [
            "100%|██████████| 300/300 [00:00<00:00, 1798.19it/s]\n",
            "100%|██████████| 300/300 [00:00<00:00, 1967.34it/s]\n"
          ]
        },
        {
          "output_type": "stream",
          "name": "stdout",
          "text": [
            "1/1 [==============================] - 0s 26ms/step\n",
            "1/1 [==============================] - 0s 26ms/step\n"
          ]
        },
        {
          "output_type": "stream",
          "name": "stderr",
          "text": [
            "100%|██████████| 300/300 [00:00<00:00, 1896.56it/s]\n",
            "100%|██████████| 300/300 [00:00<00:00, 1620.85it/s]\n"
          ]
        },
        {
          "output_type": "stream",
          "name": "stdout",
          "text": [
            "1/1 [==============================] - 0s 27ms/step\n",
            "1/1 [==============================] - 0s 25ms/step\n"
          ]
        },
        {
          "output_type": "stream",
          "name": "stderr",
          "text": [
            "100%|██████████| 300/300 [00:00<00:00, 1749.31it/s]\n",
            "100%|██████████| 300/300 [00:00<00:00, 1226.41it/s]\n"
          ]
        },
        {
          "output_type": "stream",
          "name": "stdout",
          "text": [
            "1/1 [==============================] - 0s 35ms/step\n",
            "1/1 [==============================] - 0s 43ms/step\n"
          ]
        },
        {
          "output_type": "stream",
          "name": "stderr",
          "text": [
            "100%|██████████| 300/300 [00:00<00:00, 1194.88it/s]\n",
            "100%|██████████| 300/300 [00:00<00:00, 1264.95it/s]\n"
          ]
        },
        {
          "output_type": "stream",
          "name": "stdout",
          "text": [
            "1/1 [==============================] - 0s 41ms/step\n",
            "1/1 [==============================] - 0s 37ms/step\n"
          ]
        },
        {
          "output_type": "stream",
          "name": "stderr",
          "text": [
            "100%|██████████| 300/300 [00:00<00:00, 1251.87it/s]\n",
            "100%|██████████| 300/300 [00:00<00:00, 1251.94it/s]\n"
          ]
        },
        {
          "output_type": "stream",
          "name": "stdout",
          "text": [
            "1/1 [==============================] - 0s 37ms/step\n",
            "1/1 [==============================] - 0s 36ms/step\n"
          ]
        },
        {
          "output_type": "stream",
          "name": "stderr",
          "text": [
            "100%|██████████| 300/300 [00:00<00:00, 1237.05it/s]\n",
            "100%|██████████| 300/300 [00:00<00:00, 1277.53it/s]\n"
          ]
        },
        {
          "output_type": "stream",
          "name": "stdout",
          "text": [
            "1/1 [==============================] - 0s 37ms/step\n",
            "1/1 [==============================] - 0s 36ms/step\n"
          ]
        },
        {
          "output_type": "stream",
          "name": "stderr",
          "text": [
            "100%|██████████| 300/300 [00:00<00:00, 1238.92it/s]\n",
            "100%|██████████| 300/300 [00:00<00:00, 1094.41it/s]\n"
          ]
        },
        {
          "output_type": "stream",
          "name": "stdout",
          "text": [
            "1/1 [==============================] - 0s 34ms/step\n",
            "1/1 [==============================] - 0s 57ms/step\n"
          ]
        },
        {
          "output_type": "stream",
          "name": "stderr",
          "text": [
            "100%|██████████| 300/300 [00:00<00:00, 1263.74it/s]\n",
            "100%|██████████| 300/300 [00:00<00:00, 1355.21it/s]\n"
          ]
        },
        {
          "output_type": "stream",
          "name": "stdout",
          "text": [
            "1/1 [==============================] - 0s 43ms/step\n",
            "1/1 [==============================] - 0s 36ms/step\n"
          ]
        },
        {
          "output_type": "stream",
          "name": "stderr",
          "text": [
            "100%|██████████| 300/300 [00:00<00:00, 1323.10it/s]\n",
            "100%|██████████| 300/300 [00:00<00:00, 1181.27it/s]\n"
          ]
        },
        {
          "output_type": "stream",
          "name": "stdout",
          "text": [
            "1/1 [==============================] - 0s 38ms/step\n",
            "1/1 [==============================] - 0s 26ms/step\n"
          ]
        },
        {
          "output_type": "stream",
          "name": "stderr",
          "text": [
            "100%|██████████| 300/300 [00:00<00:00, 1833.82it/s]\n",
            "100%|██████████| 300/300 [00:00<00:00, 1774.13it/s]\n"
          ]
        },
        {
          "output_type": "stream",
          "name": "stdout",
          "text": [
            "1/1 [==============================] - 0s 26ms/step\n",
            "1/1 [==============================] - 0s 28ms/step\n"
          ]
        },
        {
          "output_type": "stream",
          "name": "stderr",
          "text": [
            "100%|██████████| 300/300 [00:00<00:00, 1583.93it/s]\n",
            "100%|██████████| 300/300 [00:00<00:00, 1730.14it/s]\n"
          ]
        },
        {
          "output_type": "stream",
          "name": "stdout",
          "text": [
            "1/1 [==============================] - 0s 28ms/step\n",
            "1/1 [==============================] - 0s 24ms/step\n"
          ]
        },
        {
          "output_type": "stream",
          "name": "stderr",
          "text": [
            "100%|██████████| 300/300 [00:00<00:00, 1705.95it/s]\n",
            "100%|██████████| 300/300 [00:00<00:00, 1778.17it/s]\n"
          ]
        },
        {
          "output_type": "stream",
          "name": "stdout",
          "text": [
            "1/1 [==============================] - 0s 24ms/step\n",
            "1/1 [==============================] - 0s 27ms/step\n"
          ]
        },
        {
          "output_type": "stream",
          "name": "stderr",
          "text": [
            "100%|██████████| 300/300 [00:00<00:00, 1860.58it/s]\n",
            "100%|██████████| 300/300 [00:00<00:00, 1575.92it/s]\n"
          ]
        },
        {
          "output_type": "stream",
          "name": "stdout",
          "text": [
            "1/1 [==============================] - 0s 24ms/step\n",
            "1/1 [==============================] - 0s 24ms/step\n"
          ]
        },
        {
          "output_type": "stream",
          "name": "stderr",
          "text": [
            "100%|██████████| 300/300 [00:00<00:00, 1503.27it/s]\n",
            "100%|██████████| 300/300 [00:00<00:00, 1677.67it/s]\n"
          ]
        },
        {
          "output_type": "stream",
          "name": "stdout",
          "text": [
            "1/1 [==============================] - 0s 26ms/step\n",
            "1/1 [==============================] - 0s 26ms/step\n"
          ]
        },
        {
          "output_type": "stream",
          "name": "stderr",
          "text": [
            "100%|██████████| 300/300 [00:00<00:00, 1687.36it/s]\n",
            "100%|██████████| 300/300 [00:00<00:00, 1589.59it/s]\n"
          ]
        },
        {
          "output_type": "stream",
          "name": "stdout",
          "text": [
            "1/1 [==============================] - 0s 26ms/step\n",
            "1/1 [==============================] - 0s 24ms/step\n"
          ]
        },
        {
          "output_type": "stream",
          "name": "stderr",
          "text": [
            "100%|██████████| 300/300 [00:00<00:00, 1695.49it/s]\n",
            "100%|██████████| 300/300 [00:00<00:00, 1742.51it/s]\n"
          ]
        },
        {
          "output_type": "stream",
          "name": "stdout",
          "text": [
            "1/1 [==============================] - 0s 25ms/step\n",
            "1/1 [==============================] - 0s 33ms/step\n"
          ]
        },
        {
          "output_type": "stream",
          "name": "stderr",
          "text": [
            "100%|██████████| 300/300 [00:00<00:00, 1773.72it/s]\n",
            "100%|██████████| 300/300 [00:00<00:00, 1575.11it/s]\n"
          ]
        },
        {
          "output_type": "stream",
          "name": "stdout",
          "text": [
            "1/1 [==============================] - 0s 28ms/step\n",
            "1/1 [==============================] - 0s 25ms/step\n"
          ]
        },
        {
          "output_type": "stream",
          "name": "stderr",
          "text": [
            "100%|██████████| 300/300 [00:00<00:00, 1674.53it/s]\n",
            "100%|██████████| 300/300 [00:00<00:00, 1849.29it/s]\n"
          ]
        },
        {
          "output_type": "stream",
          "name": "stdout",
          "text": [
            "1/1 [==============================] - 0s 26ms/step\n",
            "1/1 [==============================] - 0s 29ms/step\n"
          ]
        },
        {
          "output_type": "stream",
          "name": "stderr",
          "text": [
            "100%|██████████| 300/300 [00:00<00:00, 1919.72it/s]\n",
            "100%|██████████| 300/300 [00:00<00:00, 1680.63it/s]\n"
          ]
        },
        {
          "output_type": "stream",
          "name": "stdout",
          "text": [
            "1/1 [==============================] - 0s 26ms/step\n",
            "1/1 [==============================] - 0s 27ms/step\n"
          ]
        },
        {
          "output_type": "stream",
          "name": "stderr",
          "text": [
            "100%|██████████| 300/300 [00:00<00:00, 1642.43it/s]\n",
            "100%|██████████| 300/300 [00:00<00:00, 1791.33it/s]\n"
          ]
        },
        {
          "output_type": "stream",
          "name": "stdout",
          "text": [
            "1/1 [==============================] - 0s 24ms/step\n",
            "1/1 [==============================] - 0s 24ms/step\n"
          ]
        },
        {
          "output_type": "stream",
          "name": "stderr",
          "text": [
            "100%|██████████| 300/300 [00:00<00:00, 1728.64it/s]\n",
            "100%|██████████| 300/300 [00:00<00:00, 1589.83it/s]\n"
          ]
        },
        {
          "output_type": "stream",
          "name": "stdout",
          "text": [
            "1/1 [==============================] - 0s 23ms/step\n",
            "1/1 [==============================] - 0s 25ms/step\n"
          ]
        },
        {
          "output_type": "stream",
          "name": "stderr",
          "text": [
            "100%|██████████| 300/300 [00:00<00:00, 1603.36it/s]\n",
            "100%|██████████| 300/300 [00:00<00:00, 1751.10it/s]\n"
          ]
        },
        {
          "output_type": "stream",
          "name": "stdout",
          "text": [
            "1/1 [==============================] - 0s 25ms/step\n",
            "1/1 [==============================] - 0s 28ms/step\n"
          ]
        },
        {
          "output_type": "stream",
          "name": "stderr",
          "text": [
            "100%|██████████| 300/300 [00:00<00:00, 1658.62it/s]\n",
            "100%|██████████| 300/300 [00:00<00:00, 1870.95it/s]\n"
          ]
        },
        {
          "output_type": "stream",
          "name": "stdout",
          "text": [
            "1/1 [==============================] - 0s 26ms/step\n",
            "1/1 [==============================] - 0s 25ms/step\n"
          ]
        },
        {
          "output_type": "stream",
          "name": "stderr",
          "text": [
            "100%|██████████| 300/300 [00:00<00:00, 1648.91it/s]\n",
            "100%|██████████| 300/300 [00:00<00:00, 1627.10it/s]\n"
          ]
        },
        {
          "output_type": "stream",
          "name": "stdout",
          "text": [
            "1/1 [==============================] - 0s 25ms/step\n",
            "1/1 [==============================] - 0s 26ms/step\n"
          ]
        },
        {
          "output_type": "stream",
          "name": "stderr",
          "text": [
            "100%|██████████| 300/300 [00:00<00:00, 1657.37it/s]\n",
            "100%|██████████| 300/300 [00:00<00:00, 1832.19it/s]\n"
          ]
        },
        {
          "output_type": "stream",
          "name": "stdout",
          "text": [
            "1/1 [==============================] - 0s 27ms/step\n",
            "1/1 [==============================] - 0s 25ms/step\n"
          ]
        },
        {
          "output_type": "stream",
          "name": "stderr",
          "text": [
            "100%|██████████| 300/300 [00:00<00:00, 1730.24it/s]\n",
            "100%|██████████| 300/300 [00:00<00:00, 1650.54it/s]\n"
          ]
        },
        {
          "output_type": "stream",
          "name": "stdout",
          "text": [
            "1/1 [==============================] - 0s 27ms/step\n",
            "1/1 [==============================] - 0s 29ms/step\n"
          ]
        },
        {
          "output_type": "stream",
          "name": "stderr",
          "text": [
            "100%|██████████| 300/300 [00:00<00:00, 1875.04it/s]\n",
            "100%|██████████| 300/300 [00:00<00:00, 1714.32it/s]\n"
          ]
        },
        {
          "output_type": "stream",
          "name": "stdout",
          "text": [
            "1/1 [==============================] - 0s 26ms/step\n",
            "1/1 [==============================] - 0s 31ms/step\n"
          ]
        },
        {
          "output_type": "stream",
          "name": "stderr",
          "text": [
            "100%|██████████| 300/300 [00:00<00:00, 1553.50it/s]\n",
            "100%|██████████| 300/300 [00:00<00:00, 1219.74it/s]\n"
          ]
        },
        {
          "output_type": "stream",
          "name": "stdout",
          "text": [
            "1/1 [==============================] - 0s 36ms/step\n",
            "1/1 [==============================] - 0s 41ms/step\n"
          ]
        },
        {
          "output_type": "stream",
          "name": "stderr",
          "text": [
            "100%|██████████| 300/300 [00:00<00:00, 1322.65it/s]\n",
            "100%|██████████| 300/300 [00:00<00:00, 1300.81it/s]\n"
          ]
        },
        {
          "output_type": "stream",
          "name": "stdout",
          "text": [
            "1/1 [==============================] - 0s 38ms/step\n",
            "1/1 [==============================] - 0s 34ms/step\n"
          ]
        },
        {
          "output_type": "stream",
          "name": "stderr",
          "text": [
            "100%|██████████| 300/300 [00:00<00:00, 1357.74it/s]\n",
            "100%|██████████| 300/300 [00:00<00:00, 1332.05it/s]\n"
          ]
        },
        {
          "output_type": "stream",
          "name": "stdout",
          "text": [
            "1/1 [==============================] - 0s 53ms/step\n",
            "1/1 [==============================] - 0s 34ms/step\n"
          ]
        },
        {
          "output_type": "stream",
          "name": "stderr",
          "text": [
            "100%|██████████| 300/300 [00:00<00:00, 1125.72it/s]\n",
            "100%|██████████| 300/300 [00:00<00:00, 1337.52it/s]\n"
          ]
        },
        {
          "output_type": "stream",
          "name": "stdout",
          "text": [
            "1/1 [==============================] - 0s 38ms/step\n",
            "1/1 [==============================] - 0s 39ms/step\n"
          ]
        },
        {
          "output_type": "stream",
          "name": "stderr",
          "text": [
            "100%|██████████| 300/300 [00:00<00:00, 1232.24it/s]\n",
            "100%|██████████| 300/300 [00:00<00:00, 1169.19it/s]\n"
          ]
        },
        {
          "output_type": "stream",
          "name": "stdout",
          "text": [
            "1/1 [==============================] - 0s 35ms/step\n",
            "1/1 [==============================] - 0s 35ms/step\n"
          ]
        },
        {
          "output_type": "stream",
          "name": "stderr",
          "text": [
            "100%|██████████| 300/300 [00:00<00:00, 1335.13it/s]\n",
            "100%|██████████| 300/300 [00:00<00:00, 1401.25it/s]\n"
          ]
        },
        {
          "output_type": "stream",
          "name": "stdout",
          "text": [
            "1/1 [==============================] - 0s 42ms/step\n",
            "1/1 [==============================] - 0s 38ms/step\n"
          ]
        },
        {
          "output_type": "stream",
          "name": "stderr",
          "text": [
            "100%|██████████| 300/300 [00:00<00:00, 1147.48it/s]\n",
            "100%|██████████| 300/300 [00:00<00:00, 1146.37it/s]\n"
          ]
        },
        {
          "output_type": "stream",
          "name": "stdout",
          "text": [
            "1/1 [==============================] - 0s 54ms/step\n",
            "1/1 [==============================] - 0s 41ms/step\n"
          ]
        },
        {
          "output_type": "stream",
          "name": "stderr",
          "text": [
            "100%|██████████| 300/300 [00:00<00:00, 1647.65it/s]\n",
            "100%|██████████| 300/300 [00:00<00:00, 1839.37it/s]\n"
          ]
        },
        {
          "output_type": "stream",
          "name": "stdout",
          "text": [
            "1/1 [==============================] - 0s 34ms/step\n",
            "1/1 [==============================] - 0s 34ms/step\n"
          ]
        },
        {
          "output_type": "stream",
          "name": "stderr",
          "text": [
            "100%|██████████| 300/300 [00:00<00:00, 1850.53it/s]\n",
            "100%|██████████| 300/300 [00:00<00:00, 1601.23it/s]\n"
          ]
        },
        {
          "output_type": "stream",
          "name": "stdout",
          "text": [
            "1/1 [==============================] - 0s 25ms/step\n",
            "1/1 [==============================] - 0s 24ms/step\n"
          ]
        },
        {
          "output_type": "stream",
          "name": "stderr",
          "text": [
            "100%|██████████| 300/300 [00:00<00:00, 1745.14it/s]\n",
            "100%|██████████| 300/300 [00:00<00:00, 1786.26it/s]\n"
          ]
        },
        {
          "output_type": "stream",
          "name": "stdout",
          "text": [
            "1/1 [==============================] - 0s 24ms/step\n",
            "1/1 [==============================] - 0s 26ms/step\n"
          ]
        },
        {
          "output_type": "stream",
          "name": "stderr",
          "text": [
            "100%|██████████| 300/300 [00:00<00:00, 1896.24it/s]\n",
            "100%|██████████| 300/300 [00:00<00:00, 1836.93it/s]\n"
          ]
        },
        {
          "output_type": "stream",
          "name": "stdout",
          "text": [
            "1/1 [==============================] - 0s 32ms/step\n",
            "1/1 [==============================] - 0s 23ms/step\n"
          ]
        },
        {
          "output_type": "stream",
          "name": "stderr",
          "text": [
            "100%|██████████| 300/300 [00:00<00:00, 1956.20it/s]\n",
            "100%|██████████| 300/300 [00:00<00:00, 1785.14it/s]\n"
          ]
        },
        {
          "output_type": "stream",
          "name": "stdout",
          "text": [
            "1/1 [==============================] - 0s 28ms/step\n",
            "1/1 [==============================] - 0s 24ms/step\n"
          ]
        },
        {
          "output_type": "stream",
          "name": "stderr",
          "text": [
            "100%|██████████| 300/300 [00:00<00:00, 1916.59it/s]\n",
            "100%|██████████| 300/300 [00:00<00:00, 1873.25it/s]\n"
          ]
        },
        {
          "output_type": "stream",
          "name": "stdout",
          "text": [
            "1/1 [==============================] - 0s 28ms/step\n",
            "1/1 [==============================] - 0s 24ms/step\n"
          ]
        },
        {
          "output_type": "stream",
          "name": "stderr",
          "text": [
            "100%|██████████| 300/300 [00:00<00:00, 1808.91it/s]\n",
            "100%|██████████| 300/300 [00:00<00:00, 1658.94it/s]\n"
          ]
        },
        {
          "output_type": "stream",
          "name": "stdout",
          "text": [
            "1/1 [==============================] - 0s 23ms/step\n",
            "1/1 [==============================] - 0s 27ms/step\n"
          ]
        },
        {
          "output_type": "stream",
          "name": "stderr",
          "text": [
            "100%|██████████| 300/300 [00:00<00:00, 1803.82it/s]\n",
            "100%|██████████| 300/300 [00:00<00:00, 1547.07it/s]\n"
          ]
        },
        {
          "output_type": "stream",
          "name": "stdout",
          "text": [
            "1/1 [==============================] - 0s 25ms/step\n",
            "1/1 [==============================] - 0s 23ms/step\n"
          ]
        },
        {
          "output_type": "stream",
          "name": "stderr",
          "text": [
            "100%|██████████| 300/300 [00:00<00:00, 1894.67it/s]\n",
            "100%|██████████| 300/300 [00:00<00:00, 1606.80it/s]\n"
          ]
        },
        {
          "output_type": "stream",
          "name": "stdout",
          "text": [
            "1/1 [==============================] - 0s 25ms/step\n",
            "1/1 [==============================] - 0s 24ms/step\n"
          ]
        },
        {
          "output_type": "stream",
          "name": "stderr",
          "text": [
            "100%|██████████| 300/300 [00:00<00:00, 1888.81it/s]\n",
            "100%|██████████| 300/300 [00:00<00:00, 1602.70it/s]\n"
          ]
        },
        {
          "output_type": "stream",
          "name": "stdout",
          "text": [
            "1/1 [==============================] - 0s 25ms/step\n",
            "1/1 [==============================] - 0s 25ms/step\n"
          ]
        },
        {
          "output_type": "stream",
          "name": "stderr",
          "text": [
            "100%|██████████| 300/300 [00:00<00:00, 1798.64it/s]\n",
            "100%|██████████| 300/300 [00:00<00:00, 1572.08it/s]\n"
          ]
        },
        {
          "output_type": "stream",
          "name": "stdout",
          "text": [
            "1/1 [==============================] - 0s 25ms/step\n",
            "1/1 [==============================] - 0s 24ms/step\n"
          ]
        },
        {
          "output_type": "stream",
          "name": "stderr",
          "text": [
            "100%|██████████| 300/300 [00:00<00:00, 1870.44it/s]\n",
            "100%|██████████| 300/300 [00:00<00:00, 1855.15it/s]\n"
          ]
        },
        {
          "output_type": "stream",
          "name": "stdout",
          "text": [
            "1/1 [==============================] - 0s 26ms/step\n",
            "1/1 [==============================] - 0s 23ms/step\n"
          ]
        },
        {
          "output_type": "stream",
          "name": "stderr",
          "text": [
            "100%|██████████| 300/300 [00:00<00:00, 1823.48it/s]\n",
            "100%|██████████| 300/300 [00:00<00:00, 1791.03it/s]\n"
          ]
        },
        {
          "output_type": "stream",
          "name": "stdout",
          "text": [
            "1/1 [==============================] - 0s 23ms/step\n",
            "1/1 [==============================] - 0s 28ms/step\n"
          ]
        },
        {
          "output_type": "stream",
          "name": "stderr",
          "text": [
            "100%|██████████| 300/300 [00:00<00:00, 1870.00it/s]\n",
            "100%|██████████| 300/300 [00:00<00:00, 1647.67it/s]\n"
          ]
        },
        {
          "output_type": "stream",
          "name": "stdout",
          "text": [
            "1/1 [==============================] - 0s 25ms/step\n",
            "1/1 [==============================] - 0s 32ms/step\n"
          ]
        },
        {
          "output_type": "stream",
          "name": "stderr",
          "text": [
            "100%|██████████| 300/300 [00:00<00:00, 1629.62it/s]\n",
            "100%|██████████| 300/300 [00:00<00:00, 1739.88it/s]\n"
          ]
        },
        {
          "output_type": "stream",
          "name": "stdout",
          "text": [
            "1/1 [==============================] - 0s 28ms/step\n",
            "1/1 [==============================] - 0s 28ms/step\n"
          ]
        },
        {
          "output_type": "stream",
          "name": "stderr",
          "text": [
            "100%|██████████| 300/300 [00:00<00:00, 1697.87it/s]\n",
            "100%|██████████| 300/300 [00:00<00:00, 1698.85it/s]\n"
          ]
        },
        {
          "output_type": "stream",
          "name": "stdout",
          "text": [
            "1/1 [==============================] - 0s 23ms/step\n",
            "1/1 [==============================] - 0s 26ms/step\n"
          ]
        },
        {
          "output_type": "stream",
          "name": "stderr",
          "text": [
            "100%|██████████| 300/300 [00:00<00:00, 1648.51it/s]\n",
            "100%|██████████| 300/300 [00:00<00:00, 1845.35it/s]\n"
          ]
        },
        {
          "output_type": "stream",
          "name": "stdout",
          "text": [
            "1/1 [==============================] - 0s 24ms/step\n",
            "1/1 [==============================] - 0s 24ms/step\n"
          ]
        },
        {
          "output_type": "stream",
          "name": "stderr",
          "text": [
            "100%|██████████| 300/300 [00:00<00:00, 1645.42it/s]\n",
            "100%|██████████| 300/300 [00:00<00:00, 1826.47it/s]\n"
          ]
        },
        {
          "output_type": "stream",
          "name": "stdout",
          "text": [
            "1/1 [==============================] - 0s 25ms/step\n",
            "1/1 [==============================] - 0s 28ms/step\n"
          ]
        },
        {
          "output_type": "stream",
          "name": "stderr",
          "text": [
            "100%|██████████| 300/300 [00:00<00:00, 1731.03it/s]\n",
            "100%|██████████| 300/300 [00:00<00:00, 1765.12it/s]\n"
          ]
        },
        {
          "output_type": "stream",
          "name": "stdout",
          "text": [
            "1/1 [==============================] - 0s 24ms/step\n",
            "1/1 [==============================] - 0s 24ms/step\n"
          ]
        },
        {
          "output_type": "stream",
          "name": "stderr",
          "text": [
            "100%|██████████| 300/300 [00:00<00:00, 1173.19it/s]\n",
            "100%|██████████| 300/300 [00:00<00:00, 1216.47it/s]\n"
          ]
        },
        {
          "output_type": "stream",
          "name": "stdout",
          "text": [
            "1/1 [==============================] - 0s 42ms/step\n",
            "1/1 [==============================] - 0s 34ms/step\n"
          ]
        },
        {
          "output_type": "stream",
          "name": "stderr",
          "text": [
            "100%|██████████| 300/300 [00:00<00:00, 1300.61it/s]\n",
            "100%|██████████| 300/300 [00:00<00:00, 1313.18it/s]\n"
          ]
        },
        {
          "output_type": "stream",
          "name": "stdout",
          "text": [
            "1/1 [==============================] - 0s 40ms/step\n",
            "1/1 [==============================] - 0s 39ms/step\n"
          ]
        },
        {
          "output_type": "stream",
          "name": "stderr",
          "text": [
            "100%|██████████| 300/300 [00:00<00:00, 1250.61it/s]\n",
            "100%|██████████| 300/300 [00:00<00:00, 1249.44it/s]\n"
          ]
        },
        {
          "output_type": "stream",
          "name": "stdout",
          "text": [
            "1/1 [==============================] - 0s 35ms/step\n",
            "1/1 [==============================] - 0s 50ms/step\n"
          ]
        },
        {
          "output_type": "stream",
          "name": "stderr",
          "text": [
            "100%|██████████| 300/300 [00:00<00:00, 1319.63it/s]\n",
            "100%|██████████| 300/300 [00:00<00:00, 1303.51it/s]\n"
          ]
        },
        {
          "output_type": "stream",
          "name": "stdout",
          "text": [
            "1/1 [==============================] - 0s 49ms/step\n",
            "1/1 [==============================] - 0s 38ms/step\n"
          ]
        },
        {
          "output_type": "stream",
          "name": "stderr",
          "text": [
            "100%|██████████| 300/300 [00:00<00:00, 1169.63it/s]\n",
            "100%|██████████| 300/300 [00:00<00:00, 1300.13it/s]\n"
          ]
        },
        {
          "output_type": "stream",
          "name": "stdout",
          "text": [
            "1/1 [==============================] - 0s 52ms/step\n",
            "1/1 [==============================] - 0s 34ms/step\n"
          ]
        },
        {
          "output_type": "stream",
          "name": "stderr",
          "text": [
            "100%|██████████| 300/300 [00:00<00:00, 1300.60it/s]\n",
            "100%|██████████| 300/300 [00:00<00:00, 1314.80it/s]\n"
          ]
        },
        {
          "output_type": "stream",
          "name": "stdout",
          "text": [
            "1/1 [==============================] - 0s 52ms/step\n",
            "1/1 [==============================] - 0s 41ms/step\n"
          ]
        }
      ],
      "source": [
        "\n",
        "train, y_tr, test, y_te = gen_lstm(df, path='./ckpt/sentiment', sentiment=True, rating=True, valid_item=valid_item)\n"
      ]
    },
    {
      "cell_type": "code",
      "execution_count": null,
      "metadata": {
        "id": "0503RND4oLbv",
        "colab": {
          "base_uri": "https://localhost:8080/",
          "height": 268
        },
        "outputId": "6356267d-f24c-49c2-a24c-f28c3fd630bc"
      },
      "outputs": [
        {
          "output_type": "stream",
          "name": "stdout",
          "text": [
            "R2 score  : 0.583256658225638\n",
            "MSE score  : 83.51838416166112\n",
            "MAE score : 4.379706579668023\n",
            "RMSE:  9.13883932245562\n"
          ]
        },
        {
          "output_type": "stream",
          "name": "stderr",
          "text": [
            "<ipython-input-18-4d459b1fa381>:38: VisibleDeprecationWarning: Creating an ndarray from ragged nested sequences (which is a list-or-tuple of lists-or-tuples-or ndarrays with different lengths or shapes) is deprecated. If you meant to do this, you must specify 'dtype=object' when creating the ndarray.\n",
            "  X_arima = np.squeeze(np.array([i.tolist() for i in X_arima])).tolist()\n",
            "<ipython-input-18-4d459b1fa381>:39: VisibleDeprecationWarning: Creating an ndarray from ragged nested sequences (which is a list-or-tuple of lists-or-tuples-or ndarrays with different lengths or shapes) is deprecated. If you meant to do this, you must specify 'dtype=object' when creating the ndarray.\n",
            "  X_lstm = np.squeeze(np.array([np.squeeze(i).tolist() for i in X_lstm])).tolist()\n",
            "<ipython-input-18-4d459b1fa381>:43: VisibleDeprecationWarning: Creating an ndarray from ragged nested sequences (which is a list-or-tuple of lists-or-tuples-or ndarrays with different lengths or shapes) is deprecated. If you meant to do this, you must specify 'dtype=object' when creating the ndarray.\n",
            "  X_test_lstm = np.squeeze(np.array([np.squeeze(i).tolist() for i in X_test_lstm])).tolist()\n"
          ]
        },
        {
          "output_type": "execute_result",
          "data": {
            "text/plain": [
              "LinearRegression()"
            ],
            "text/html": [
              "<style>#sk-container-id-2 {color: black;background-color: white;}#sk-container-id-2 pre{padding: 0;}#sk-container-id-2 div.sk-toggleable {background-color: white;}#sk-container-id-2 label.sk-toggleable__label {cursor: pointer;display: block;width: 100%;margin-bottom: 0;padding: 0.3em;box-sizing: border-box;text-align: center;}#sk-container-id-2 label.sk-toggleable__label-arrow:before {content: \"▸\";float: left;margin-right: 0.25em;color: #696969;}#sk-container-id-2 label.sk-toggleable__label-arrow:hover:before {color: black;}#sk-container-id-2 div.sk-estimator:hover label.sk-toggleable__label-arrow:before {color: black;}#sk-container-id-2 div.sk-toggleable__content {max-height: 0;max-width: 0;overflow: hidden;text-align: left;background-color: #f0f8ff;}#sk-container-id-2 div.sk-toggleable__content pre {margin: 0.2em;color: black;border-radius: 0.25em;background-color: #f0f8ff;}#sk-container-id-2 input.sk-toggleable__control:checked~div.sk-toggleable__content {max-height: 200px;max-width: 100%;overflow: auto;}#sk-container-id-2 input.sk-toggleable__control:checked~label.sk-toggleable__label-arrow:before {content: \"▾\";}#sk-container-id-2 div.sk-estimator input.sk-toggleable__control:checked~label.sk-toggleable__label {background-color: #d4ebff;}#sk-container-id-2 div.sk-label input.sk-toggleable__control:checked~label.sk-toggleable__label {background-color: #d4ebff;}#sk-container-id-2 input.sk-hidden--visually {border: 0;clip: rect(1px 1px 1px 1px);clip: rect(1px, 1px, 1px, 1px);height: 1px;margin: -1px;overflow: hidden;padding: 0;position: absolute;width: 1px;}#sk-container-id-2 div.sk-estimator {font-family: monospace;background-color: #f0f8ff;border: 1px dotted black;border-radius: 0.25em;box-sizing: border-box;margin-bottom: 0.5em;}#sk-container-id-2 div.sk-estimator:hover {background-color: #d4ebff;}#sk-container-id-2 div.sk-parallel-item::after {content: \"\";width: 100%;border-bottom: 1px solid gray;flex-grow: 1;}#sk-container-id-2 div.sk-label:hover label.sk-toggleable__label {background-color: #d4ebff;}#sk-container-id-2 div.sk-serial::before {content: \"\";position: absolute;border-left: 1px solid gray;box-sizing: border-box;top: 0;bottom: 0;left: 50%;z-index: 0;}#sk-container-id-2 div.sk-serial {display: flex;flex-direction: column;align-items: center;background-color: white;padding-right: 0.2em;padding-left: 0.2em;position: relative;}#sk-container-id-2 div.sk-item {position: relative;z-index: 1;}#sk-container-id-2 div.sk-parallel {display: flex;align-items: stretch;justify-content: center;background-color: white;position: relative;}#sk-container-id-2 div.sk-item::before, #sk-container-id-2 div.sk-parallel-item::before {content: \"\";position: absolute;border-left: 1px solid gray;box-sizing: border-box;top: 0;bottom: 0;left: 50%;z-index: -1;}#sk-container-id-2 div.sk-parallel-item {display: flex;flex-direction: column;z-index: 1;position: relative;background-color: white;}#sk-container-id-2 div.sk-parallel-item:first-child::after {align-self: flex-end;width: 50%;}#sk-container-id-2 div.sk-parallel-item:last-child::after {align-self: flex-start;width: 50%;}#sk-container-id-2 div.sk-parallel-item:only-child::after {width: 0;}#sk-container-id-2 div.sk-dashed-wrapped {border: 1px dashed gray;margin: 0 0.4em 0.5em 0.4em;box-sizing: border-box;padding-bottom: 0.4em;background-color: white;}#sk-container-id-2 div.sk-label label {font-family: monospace;font-weight: bold;display: inline-block;line-height: 1.2em;}#sk-container-id-2 div.sk-label-container {text-align: center;}#sk-container-id-2 div.sk-container {/* jupyter's `normalize.less` sets `[hidden] { display: none; }` but bootstrap.min.css set `[hidden] { display: none !important; }` so we also need the `!important` here to be able to override the default hidden behavior on the sphinx rendered scikit-learn.org. See: https://github.com/scikit-learn/scikit-learn/issues/21755 */display: inline-block !important;position: relative;}#sk-container-id-2 div.sk-text-repr-fallback {display: none;}</style><div id=\"sk-container-id-2\" class=\"sk-top-container\"><div class=\"sk-text-repr-fallback\"><pre>LinearRegression()</pre><b>In a Jupyter environment, please rerun this cell to show the HTML representation or trust the notebook. <br />On GitHub, the HTML representation is unable to render, please try loading this page with nbviewer.org.</b></div><div class=\"sk-container\" hidden><div class=\"sk-item\"><div class=\"sk-estimator sk-toggleable\"><input class=\"sk-toggleable__control sk-hidden--visually\" id=\"sk-estimator-id-2\" type=\"checkbox\" checked><label for=\"sk-estimator-id-2\" class=\"sk-toggleable__label sk-toggleable__label-arrow\">LinearRegression</label><div class=\"sk-toggleable__content\"><pre>LinearRegression()</pre></div></div></div></div></div>"
            ]
          },
          "metadata": {},
          "execution_count": 20
        }
      ],
      "source": [
        "ensemble(X_train_ensemble, train, y_train_ensemble, X_test_ensemble, test, y_test_ensemble)"
      ]
    },
    {
      "cell_type": "markdown",
      "metadata": {
        "id": "tPEaty7hoLbw"
      },
      "source": [
        "# EDA"
      ]
    },
    {
      "cell_type": "code",
      "execution_count": null,
      "metadata": {
        "id": "JcYJHGXxoLbw",
        "outputId": "e47d11f3-fdf9-4c82-c880-afc7df65d1f1"
      },
      "outputs": [
        {
          "data": {
            "image/png": "[encoded data removed]",
            "text/plain": [
              "<Figure size 640x480 with 1 Axes>"
            ]
          },
          "metadata": {},
          "output_type": "display_data"
        }
      ],
      "source": [
        "freq = df.groupby(\"item\")[\"avg_neg\"].apply(lambda x: (x.diff() != 0).sum())\n",
        "\n",
        "freq.plot(kind=\"bar\")\n",
        "plt.title(\"Frequency of Sentiment Changes Across Items\")\n",
        "plt.xlabel(\"Item\")\n",
        "plt.ylabel(\"Frequency\")\n",
        "plt.show()"
      ]
    },
    {
      "cell_type": "code",
      "execution_count": null,
      "metadata": {
        "id": "xqigRn7SoLbw",
        "outputId": "be130612-dda4-47b9-9d3f-d2468135e621"
      },
      "outputs": [
        {
          "data": {
            "text/plain": [
              "item\n",
              "1       2\n",
              "2      14\n",
              "3       1\n",
              "4      15\n",
              "5       3\n",
              "       ..\n",
              "296     4\n",
              "297     4\n",
              "298     3\n",
              "299     2\n",
              "300     4\n",
              "Name: avg_neg, Length: 300, dtype: int64"
            ]
          },
          "execution_count": 105,
          "metadata": {},
          "output_type": "execute_result"
        }
      ],
      "source": [
        "freq"
      ]
    },
    {
      "cell_type": "code",
      "execution_count": null,
      "metadata": {
        "id": "O3ZGwr_koLbw"
      },
      "outputs": [],
      "source": []
    }
  ],
  "metadata": {
    "accelerator": "GPU",
    "colab": {
      "provenance": []
    },
    "gpuClass": "standard",
    "kernelspec": {
      "display_name": "Python 3",
      "name": "python3"
    },
    "language_info": {
      "name": "python"
    }
  },
  "nbformat": 4,
  "nbformat_minor": 0
}