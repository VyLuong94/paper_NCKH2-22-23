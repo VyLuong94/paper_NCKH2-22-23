{
  "cells": [
    {
      "cell_type": "markdown",
      "metadata": {
        "id": "uuB523YTFWJb"
      },
      "source": [
        "## Download Data"
      ]
    },
    {
      "cell_type": "code",
      "source": [
        "!gdown https://drive.google.com/uc?id=1QTbbrw3dZi4dTivsTJz5cheAUcu6_BLU\n",
        "!gdown https://drive.google.com/uc?id=181pYE7haXWvKEUpO9y3mKSRT1Kj4g6ES\n",
        "!gdown https://drive.google.com/uc?id=19wDbtbSs2zL0qWDhslk7Xlvd3xCDtndy\n",
        "!gdown https://drive.google.com/uc?id=1u3BDgbszjRmJLeZO9Dch07OCTmkatAq5\n",
        "!gdown https://drive.google.com/uc?id=1b__cja56Gq3O3sUPQDm54dWSlL2us7bg\n",
        "!gdown https://drive.google.com/uc?id=1xvqYlioOGfCUJFsESEMQPVrO2u20N036"
      ],
      "metadata": {
        "colab": {
          "base_uri": "https://localhost:8080/"
        },
        "id": "HEUfrq5W5AE4",
        "outputId": "64670c90-6ed7-404b-b0e0-0dfa2f2403ba"
      },
      "execution_count": null,
      "outputs": [
        {
          "output_type": "stream",
          "name": "stdout",
          "text": [
            "Downloading...\n",
            "From: https://drive.google.com/uc?id=1QTbbrw3dZi4dTivsTJz5cheAUcu6_BLU\n",
            "To: /content/Comment-shopee_exclude_time.xlsx\n",
            "100% 355k/355k [00:00<00:00, 94.9MB/s]\n",
            "Downloading...\n",
            "From: https://drive.google.com/uc?id=181pYE7haXWvKEUpO9y3mKSRT1Kj4g6ES\n",
            "To: /content/Comment-shopee.xlsx\n",
            "100% 405k/405k [00:00<00:00, 27.4MB/s]\n",
            "Downloading...\n",
            "From: https://drive.google.com/uc?id=19wDbtbSs2zL0qWDhslk7Xlvd3xCDtndy\n",
            "To: /content/df_quantityRatingComment.csv\n",
            "100% 4.79M/4.79M [00:00<00:00, 159MB/s]\n",
            "Downloading...\n",
            "From: https://drive.google.com/uc?id=1u3BDgbszjRmJLeZO9Dch07OCTmkatAq5\n",
            "To: /content/Product 2022-12-02 00.31.34.csv\n",
            "100% 147k/147k [00:00<00:00, 72.9MB/s]\n",
            "Downloading...\n",
            "From: https://drive.google.com/uc?id=1b__cja56Gq3O3sUPQDm54dWSlL2us7bg\n",
            "To: /content/SA2016-Test-Gold.zip\n",
            "100% 124k/124k [00:00<00:00, 29.4MB/s]\n",
            "Downloading...\n",
            "From: https://drive.google.com/uc?id=1xvqYlioOGfCUJFsESEMQPVrO2u20N036\n",
            "To: /content/SA2016-training_data.zip\n",
            "100% 636k/636k [00:00<00:00, 89.2MB/s]\n"
          ]
        }
      ]
    },
    {
      "cell_type": "code",
      "execution_count": null,
      "metadata": {
        "colab": {
          "base_uri": "https://localhost:8080/"
        },
        "id": "ThRKpEAiR3Hr",
        "outputId": "4dd6472b-d560-4cae-f3d2-9fecd36b360a"
      },
      "outputs": [
        {
          "output_type": "stream",
          "name": "stdout",
          "text": [
            "Archive:  /content/SA2016-Test-Gold.zip\n",
            "   creating: SA2016-Test-Gold/\n",
            "  inflating: SA2016-Test-Gold/test_raw_ANS.txt  \n",
            "  inflating: SA2016-Test-Gold/test_tokenized_ANS.txt  \n",
            "Archive:  /content/SA2016-training_data.zip\n",
            "   creating: SA2016-training_data/\n",
            "  inflating: SA2016-training_data/SA-training_negative.txt  \n",
            "  inflating: SA2016-training_data/SA-training_neutral.txt  \n",
            "  inflating: SA2016-training_data/SA-training_positive.txt  \n",
            "  inflating: SA2016-training_data/train_negative_tokenized.txt  \n",
            "  inflating: SA2016-training_data/train_neutral_tokenized.txt  \n",
            "  inflating: SA2016-training_data/train_positive_tokenized.txt  \n"
          ]
        }
      ],
      "source": [
        "!unzip /content/SA2016-Test-Gold.zip\n",
        "!unzip /content/SA2016-training_data.zip"
      ]
    },
    {
      "cell_type": "code",
      "source": [
        "!gdown https://drive.google.com/uc?id=1-rMx7zbIOuWyCQDquC1xfzVXWafmWkXE"
      ],
      "metadata": {
        "colab": {
          "base_uri": "https://localhost:8080/"
        },
        "id": "DMMmGeiEodU9",
        "outputId": "2ba2783c-e705-4ac1-f198-a3713dcbc7f9"
      },
      "execution_count": null,
      "outputs": [
        {
          "output_type": "stream",
          "name": "stdout",
          "text": [
            "Downloading...\n",
            "From: https://drive.google.com/uc?id=1-rMx7zbIOuWyCQDquC1xfzVXWafmWkXE\n",
            "To: /content/VnCoreNLP-1.1.1.jar\n",
            "100% 27.4M/27.4M [00:01<00:00, 21.8MB/s]\n"
          ]
        }
      ]
    },
    {
      "cell_type": "code",
      "source": [
        "!gdown https://drive.google.com/uc?id=1LxoEvYkaYrPIfaFRzQXcfNYDBmrCicg3\n",
        "!gdown https://drive.google.com/uc?id=1_qmqKEw6k8eD59APKJBiJnLm79PiMpNC\n",
        "!gdown https://drive.google.com/uc?id=1fSvo1SJnP5wZp3AGiiblnG8XunbqiunY"
      ],
      "metadata": {
        "colab": {
          "base_uri": "https://localhost:8080/"
        },
        "id": "RnDDYIKLSbAX",
        "outputId": "48f5d8bd-2a56-4a2a-e1a1-507ba16f75e9"
      },
      "execution_count": null,
      "outputs": [
        {
          "output_type": "stream",
          "name": "stdout",
          "text": [
            "Downloading...\n",
            "From: https://drive.google.com/uc?id=1LxoEvYkaYrPIfaFRzQXcfNYDBmrCicg3\n",
            "To: /content/train.rar\n",
            "100% 189k/189k [00:00<00:00, 110MB/s]\n",
            "Downloading...\n",
            "From: https://drive.google.com/uc?id=1_qmqKEw6k8eD59APKJBiJnLm79PiMpNC\n",
            "To: /content/test.rar\n",
            "100% 57.5k/57.5k [00:00<00:00, 74.6MB/s]\n",
            "Downloading...\n",
            "From: https://drive.google.com/uc?id=1fSvo1SJnP5wZp3AGiiblnG8XunbqiunY\n",
            "To: /content/dev.rar\n",
            "100% 29.2k/29.2k [00:00<00:00, 49.0MB/s]\n"
          ]
        }
      ]
    },
    {
      "cell_type": "code",
      "source": [
        "!unrar x train.rar\n",
        "!unrar x dev.rar\n",
        "!unrar x test.rar"
      ],
      "metadata": {
        "colab": {
          "base_uri": "https://localhost:8080/"
        },
        "id": "HIhvwS8ISfys",
        "outputId": "dbe77760-2a07-44ce-85d5-dd04834232da"
      },
      "execution_count": null,
      "outputs": [
        {
          "output_type": "stream",
          "name": "stdout",
          "text": [
            "\n",
            "UNRAR 5.50 freeware      Copyright (c) 1993-2017 Alexander Roshal\n",
            "\n",
            "\n",
            "Extracting from train.rar\n",
            "\n",
            "Creating    train                                                     OK\n",
            "Extracting  train/sentiments.txt                                         \b\b\b\b  1%\b\b\b\b\b  OK \n",
            "Extracting  train/sents.txt                                              \b\b\b\b 19%\b\b\b\b 36%\b\b\b\b 53%\b\b\b\b 71%\b\b\b\b 88%\b\b\b\b 98%\b\b\b\b\b  OK \n",
            "Extracting  train/topics.txt                                             \b\b\b\b 99%\b\b\b\b\b  OK \n",
            "All OK\n",
            "\n",
            "UNRAR 5.50 freeware      Copyright (c) 1993-2017 Alexander Roshal\n",
            "\n",
            "\n",
            "Extracting from dev.rar\n",
            "\n",
            "Creating    dev                                                       OK\n",
            "Extracting  dev/sentiments.txt                                           \b\b\b\b  1%\b\b\b\b\b  OK \n",
            "Extracting  dev/sents.txt                                                \b\b\b\b 97%\b\b\b\b\b  OK \n",
            "Extracting  dev/topics.txt                                               \b\b\b\b 99%\b\b\b\b\b  OK \n",
            "All OK\n",
            "\n",
            "UNRAR 5.50 freeware      Copyright (c) 1993-2017 Alexander Roshal\n",
            "\n",
            "\n",
            "Extracting from test.rar\n",
            "\n",
            "Creating    test                                                      OK\n",
            "Extracting  test/sentiments.txt                                          \b\b\b\b  1%\b\b\b\b\b  OK \n",
            "Extracting  test/sents.txt                                               \b\b\b\b 58%\b\b\b\b 98%\b\b\b\b\b  OK \n",
            "Extracting  test/topics.txt                                              \b\b\b\b 99%\b\b\b\b\b  OK \n",
            "All OK\n"
          ]
        }
      ]
    },
    {
      "cell_type": "code",
      "source": [
        "!gdown https://drive.google.com/uc?id=1ye-gOZIBqXdKOoi_YxvpT6FeRNmViPPv\n",
        "!mv sentiments.txt train/\n",
        "!gdown https://drive.google.com/uc?id=1vkQS5gI0is4ACU58-AbWusnemw7KZNfO\n",
        "!mv sentiments.txt test/\n",
        "!gdown https://drive.google.com/uc?id=1GiY1AOp41dLXIIkgES4422AuDwmbUseL\n",
        "!mv sentiments.txt dev/"
      ],
      "metadata": {
        "colab": {
          "base_uri": "https://localhost:8080/"
        },
        "id": "8nns_QSjUBL-",
        "outputId": "af07a1c2-d7b8-4dca-e766-9abcb7f1030d"
      },
      "execution_count": null,
      "outputs": [
        {
          "output_type": "stream",
          "name": "stdout",
          "text": [
            "Downloading...\n",
            "From: https://drive.google.com/uc?id=1ye-gOZIBqXdKOoi_YxvpT6FeRNmViPPv\n",
            "To: /content/sentiments.txt\n",
            "100% 22.9k/22.9k [00:00<00:00, 38.3MB/s]\n",
            "Downloading...\n",
            "From: https://drive.google.com/uc?id=1vkQS5gI0is4ACU58-AbWusnemw7KZNfO\n",
            "To: /content/sentiments.txt\n",
            "100% 6.33k/6.33k [00:00<00:00, 11.8MB/s]\n",
            "Downloading...\n",
            "From: https://drive.google.com/uc?id=1GiY1AOp41dLXIIkgES4422AuDwmbUseL\n",
            "To: /content/sentiments.txt\n",
            "100% 3.17k/3.17k [00:00<00:00, 6.38MB/s]\n"
          ]
        }
      ]
    },
    {
      "cell_type": "code",
      "source": [
        "!rm -r *.zip *.rar *.txt"
      ],
      "metadata": {
        "id": "5MrXaEUp_Zn5",
        "colab": {
          "base_uri": "https://localhost:8080/"
        },
        "outputId": "9cb17dbf-0c9c-4dec-d53a-437dbdbd72b4"
      },
      "execution_count": null,
      "outputs": [
        {
          "output_type": "stream",
          "name": "stdout",
          "text": [
            "rm: cannot remove '*.txt': No such file or directory\n"
          ]
        }
      ]
    },
    {
      "cell_type": "markdown",
      "metadata": {
        "id": "S3q3mhewHs7z"
      },
      "source": [
        "## Reprocessing"
      ]
    },
    {
      "cell_type": "code",
      "execution_count": null,
      "metadata": {
        "id": "e4wLBXs3IQ5_"
      },
      "outputs": [],
      "source": [
        "#@title Library\n",
        "import pandas as pd\n",
        "import numpy as np\n",
        "import seaborn as sns\n",
        "import warnings\n",
        "warnings.filterwarnings('ignore')\n",
        "import os \n",
        "import matplotlib.pyplot as plt\n",
        "import json\n",
        "import re\n",
        "from sklearn.model_selection import train_test_split"
      ]
    },
    {
      "cell_type": "code",
      "source": [
        "raw_data = pd.read_csv(\"df_quantityRatingComment.csv\",index_col= 0)"
      ],
      "metadata": {
        "id": "TQO15AHhUTIs"
      },
      "execution_count": null,
      "outputs": []
    },
    {
      "cell_type": "code",
      "source": [
        "raw_data[\"No_Item\"].nunique()"
      ],
      "metadata": {
        "id": "rImX2wfNUZqD",
        "outputId": "cd57bbaf-6690-44a3-b952-4a0173d793d4",
        "colab": {
          "base_uri": "https://localhost:8080/"
        }
      },
      "execution_count": null,
      "outputs": [
        {
          "output_type": "execute_result",
          "data": {
            "text/plain": [
              "59"
            ]
          },
          "metadata": {},
          "execution_count": 10
        }
      ]
    },
    {
      "cell_type": "code",
      "source": [
        "raw_data.head()"
      ],
      "metadata": {
        "colab": {
          "base_uri": "https://localhost:8080/",
          "height": 337
        },
        "id": "RnGVn_NDZbup",
        "outputId": "a61ed610-9e73-4ff8-9a3c-a3a58c1691d7"
      },
      "execution_count": null,
      "outputs": [
        {
          "output_type": "execute_result",
          "data": {
            "text/plain": [
              "   No_Item                                           Comments  \\\n",
              "0        1  q4fx40o_ew\\n2022-10-22 17:36 | Phân loại hàng:...   \n",
              "1        1  tuanluongminh730\\n2022-10-22 15:16 | Phân loại...   \n",
              "2        1  maionthngc\\n2022-10-20 22:56 | Phân loại hàng:...   \n",
              "3        1  mamaxu\\n2022-09-22 11:39 | Phân loại hàng: 2 d...   \n",
              "4        1  _*****c\\n2022-09-21 23:17 | Phân loại hàng: 2 ...   \n",
              "\n",
              "                                             Links_x  No_Page Quantity  \\\n",
              "0  https://shopee.vn/%C3%81o-Kho%C3%A1c-L%C3%B4ng...        1      565   \n",
              "1  https://shopee.vn/%C3%81o-Kho%C3%A1c-L%C3%B4ng...        1      565   \n",
              "2  https://shopee.vn/%C3%81o-Kho%C3%A1c-L%C3%B4ng...        1      565   \n",
              "3  https://shopee.vn/%C3%81o-Kho%C3%A1c-L%C3%B4ng...        1      565   \n",
              "4  https://shopee.vn/%C3%81o-Kho%C3%A1c-L%C3%B4ng...        1      565   \n",
              "\n",
              "   Rating                                            Links_y  \n",
              "0     4.4  https://shopee.vn/%C3%81o-Kho%C3%A1c-L%C3%B4ng...  \n",
              "1     4.4  https://shopee.vn/%C3%81o-Kho%C3%A1c-L%C3%B4ng...  \n",
              "2     4.4  https://shopee.vn/%C3%81o-Kho%C3%A1c-L%C3%B4ng...  \n",
              "3     4.4  https://shopee.vn/%C3%81o-Kho%C3%A1c-L%C3%B4ng...  \n",
              "4     4.4  https://shopee.vn/%C3%81o-Kho%C3%A1c-L%C3%B4ng...  "
            ],
            "text/html": [
              "\n",
              "  <div id=\"df-76ec1bce-344d-40a2-b9b2-88efef3a1dfd\">\n",
              "    <div class=\"colab-df-container\">\n",
              "      <div>\n",
              "<style scoped>\n",
              "    .dataframe tbody tr th:only-of-type {\n",
              "        vertical-align: middle;\n",
              "    }\n",
              "\n",
              "    .dataframe tbody tr th {\n",
              "        vertical-align: top;\n",
              "    }\n",
              "\n",
              "    .dataframe thead th {\n",
              "        text-align: right;\n",
              "    }\n",
              "</style>\n",
              "<table border=\"1\" class=\"dataframe\">\n",
              "  <thead>\n",
              "    <tr style=\"text-align: right;\">\n",
              "      <th></th>\n",
              "      <th>No_Item</th>\n",
              "      <th>Comments</th>\n",
              "      <th>Links_x</th>\n",
              "      <th>No_Page</th>\n",
              "      <th>Quantity</th>\n",
              "      <th>Rating</th>\n",
              "      <th>Links_y</th>\n",
              "    </tr>\n",
              "  </thead>\n",
              "  <tbody>\n",
              "    <tr>\n",
              "      <th>0</th>\n",
              "      <td>1</td>\n",
              "      <td>q4fx40o_ew\\n2022-10-22 17:36 | Phân loại hàng:...</td>\n",
              "      <td>https://shopee.vn/%C3%81o-Kho%C3%A1c-L%C3%B4ng...</td>\n",
              "      <td>1</td>\n",
              "      <td>565</td>\n",
              "      <td>4.4</td>\n",
              "      <td>https://shopee.vn/%C3%81o-Kho%C3%A1c-L%C3%B4ng...</td>\n",
              "    </tr>\n",
              "    <tr>\n",
              "      <th>1</th>\n",
              "      <td>1</td>\n",
              "      <td>tuanluongminh730\\n2022-10-22 15:16 | Phân loại...</td>\n",
              "      <td>https://shopee.vn/%C3%81o-Kho%C3%A1c-L%C3%B4ng...</td>\n",
              "      <td>1</td>\n",
              "      <td>565</td>\n",
              "      <td>4.4</td>\n",
              "      <td>https://shopee.vn/%C3%81o-Kho%C3%A1c-L%C3%B4ng...</td>\n",
              "    </tr>\n",
              "    <tr>\n",
              "      <th>2</th>\n",
              "      <td>1</td>\n",
              "      <td>maionthngc\\n2022-10-20 22:56 | Phân loại hàng:...</td>\n",
              "      <td>https://shopee.vn/%C3%81o-Kho%C3%A1c-L%C3%B4ng...</td>\n",
              "      <td>1</td>\n",
              "      <td>565</td>\n",
              "      <td>4.4</td>\n",
              "      <td>https://shopee.vn/%C3%81o-Kho%C3%A1c-L%C3%B4ng...</td>\n",
              "    </tr>\n",
              "    <tr>\n",
              "      <th>3</th>\n",
              "      <td>1</td>\n",
              "      <td>mamaxu\\n2022-09-22 11:39 | Phân loại hàng: 2 d...</td>\n",
              "      <td>https://shopee.vn/%C3%81o-Kho%C3%A1c-L%C3%B4ng...</td>\n",
              "      <td>1</td>\n",
              "      <td>565</td>\n",
              "      <td>4.4</td>\n",
              "      <td>https://shopee.vn/%C3%81o-Kho%C3%A1c-L%C3%B4ng...</td>\n",
              "    </tr>\n",
              "    <tr>\n",
              "      <th>4</th>\n",
              "      <td>1</td>\n",
              "      <td>_*****c\\n2022-09-21 23:17 | Phân loại hàng: 2 ...</td>\n",
              "      <td>https://shopee.vn/%C3%81o-Kho%C3%A1c-L%C3%B4ng...</td>\n",
              "      <td>1</td>\n",
              "      <td>565</td>\n",
              "      <td>4.4</td>\n",
              "      <td>https://shopee.vn/%C3%81o-Kho%C3%A1c-L%C3%B4ng...</td>\n",
              "    </tr>\n",
              "  </tbody>\n",
              "</table>\n",
              "</div>\n",
              "      <button class=\"colab-df-convert\" onclick=\"convertToInteractive('df-76ec1bce-344d-40a2-b9b2-88efef3a1dfd')\"\n",
              "              title=\"Convert this dataframe to an interactive table.\"\n",
              "              style=\"display:none;\">\n",
              "        \n",
              "  <svg xmlns=\"http://www.w3.org/2000/svg\" height=\"24px\"viewBox=\"0 0 24 24\"\n",
              "       width=\"24px\">\n",
              "    <path d=\"M0 0h24v24H0V0z\" fill=\"none\"/>\n",
              "    <path d=\"M18.56 5.44l.94 2.06.94-2.06 2.06-.94-2.06-.94-.94-2.06-.94 2.06-2.06.94zm-11 1L8.5 8.5l.94-2.06 2.06-.94-2.06-.94L8.5 2.5l-.94 2.06-2.06.94zm10 10l.94 2.06.94-2.06 2.06-.94-2.06-.94-.94-2.06-.94 2.06-2.06.94z\"/><path d=\"M17.41 7.96l-1.37-1.37c-.4-.4-.92-.59-1.43-.59-.52 0-1.04.2-1.43.59L10.3 9.45l-7.72 7.72c-.78.78-.78 2.05 0 2.83L4 21.41c.39.39.9.59 1.41.59.51 0 1.02-.2 1.41-.59l7.78-7.78 2.81-2.81c.8-.78.8-2.07 0-2.86zM5.41 20L4 18.59l7.72-7.72 1.47 1.35L5.41 20z\"/>\n",
              "  </svg>\n",
              "      </button>\n",
              "      \n",
              "  <style>\n",
              "    .colab-df-container {\n",
              "      display:flex;\n",
              "      flex-wrap:wrap;\n",
              "      gap: 12px;\n",
              "    }\n",
              "\n",
              "    .colab-df-convert {\n",
              "      background-color: #E8F0FE;\n",
              "      border: none;\n",
              "      border-radius: 50%;\n",
              "      cursor: pointer;\n",
              "      display: none;\n",
              "      fill: #1967D2;\n",
              "      height: 32px;\n",
              "      padding: 0 0 0 0;\n",
              "      width: 32px;\n",
              "    }\n",
              "\n",
              "    .colab-df-convert:hover {\n",
              "      background-color: #E2EBFA;\n",
              "      box-shadow: 0px 1px 2px rgba(60, 64, 67, 0.3), 0px 1px 3px 1px rgba(60, 64, 67, 0.15);\n",
              "      fill: #174EA6;\n",
              "    }\n",
              "\n",
              "    [theme=dark] .colab-df-convert {\n",
              "      background-color: #3B4455;\n",
              "      fill: #D2E3FC;\n",
              "    }\n",
              "\n",
              "    [theme=dark] .colab-df-convert:hover {\n",
              "      background-color: #434B5C;\n",
              "      box-shadow: 0px 1px 3px 1px rgba(0, 0, 0, 0.15);\n",
              "      filter: drop-shadow(0px 1px 2px rgba(0, 0, 0, 0.3));\n",
              "      fill: #FFFFFF;\n",
              "    }\n",
              "  </style>\n",
              "\n",
              "      <script>\n",
              "        const buttonEl =\n",
              "          document.querySelector('#df-76ec1bce-344d-40a2-b9b2-88efef3a1dfd button.colab-df-convert');\n",
              "        buttonEl.style.display =\n",
              "          google.colab.kernel.accessAllowed ? 'block' : 'none';\n",
              "\n",
              "        async function convertToInteractive(key) {\n",
              "          const element = document.querySelector('#df-76ec1bce-344d-40a2-b9b2-88efef3a1dfd');\n",
              "          const dataTable =\n",
              "            await google.colab.kernel.invokeFunction('convertToInteractive',\n",
              "                                                     [key], {});\n",
              "          if (!dataTable) return;\n",
              "\n",
              "          const docLinkHtml = 'Like what you see? Visit the ' +\n",
              "            '<a target=\"_blank\" href=https://colab.research.google.com/notebooks/data_table.ipynb>data table notebook</a>'\n",
              "            + ' to learn more about interactive tables.';\n",
              "          element.innerHTML = '';\n",
              "          dataTable['output_type'] = 'display_data';\n",
              "          await google.colab.output.renderOutput(dataTable, element);\n",
              "          const docLink = document.createElement('div');\n",
              "          docLink.innerHTML = docLinkHtml;\n",
              "          element.appendChild(docLink);\n",
              "        }\n",
              "      </script>\n",
              "    </div>\n",
              "  </div>\n",
              "  "
            ]
          },
          "metadata": {},
          "execution_count": 11
        }
      ]
    },
    {
      "cell_type": "code",
      "execution_count": null,
      "metadata": {
        "id": "k3R7FqePH0PQ"
      },
      "outputs": [],
      "source": [
        "TRAIN_PATH = \"SA2016-training_data\"\n",
        "TEST_PATH = \"SA2016-Test-Gold\""
      ]
    },
    {
      "cell_type": "code",
      "source": [
        "pos_data = np.genfromtxt(os.path.join(TRAIN_PATH , 'SA-training_positive.txt'), delimiter='\\n', dtype=str)\n",
        "neg_data = np.genfromtxt(os.path.join(TRAIN_PATH , 'SA-training_negative.txt'), delimiter='\\n', dtype=str)\n",
        "neu_data = np.genfromtxt(os.path.join(TRAIN_PATH , 'SA-training_neutral.txt'), delimiter='\\n', dtype=str)\n",
        "\n",
        "# 2 positive , 0 negative, 1 neutral\n",
        "pos = pd.DataFrame(pos_data, columns= [\"comment\"])\n",
        "pos[\"label\"] = 2\n",
        "neg = pd.DataFrame(neg_data, columns= [\"comment\"])\n",
        "neg[\"label\"] = 0\n",
        "neu = pd.DataFrame(neu_data, columns= [\"comment\"])\n",
        "neu[\"label\"] = 1\n",
        "train = pd.concat([pos,neu,neg])"
      ],
      "metadata": {
        "id": "2SY6LWPkUll_"
      },
      "execution_count": null,
      "outputs": []
    },
    {
      "cell_type": "code",
      "source": [
        "with open(\"/content/SA2016-Test-Gold/test_raw_ANS.txt\") as f:\n",
        "    test = []\n",
        "    label = []\n",
        "    for idx, row in enumerate(f):\n",
        "        if idx % 2 == 0:\n",
        "            test.append(row)\n",
        "        else:\n",
        "            label.append(row)\n",
        "test = pd.DataFrame(list(zip(test, label)), columns= [\"comment\",\"label\"]) # tao 2 columns comment label\n",
        "\n",
        "test.label = test.label.map({\"POS\\n\":2,\"NEG\\n\":0,\"NEU\\n\":1})"
      ],
      "metadata": {
        "id": "oAXeHcvqLHXu"
      },
      "execution_count": null,
      "outputs": []
    },
    {
      "cell_type": "code",
      "source": [
        "TRAIN_PATH = \"train\"\n",
        "DEV_PATH = \"dev\"\n",
        "TEST_PATH = \"test\"\n",
        "\n",
        "data = np.genfromtxt(os.path.join(DEV_PATH , 'sents.txt'), delimiter='\\n', dtype=str)\n",
        "label = np.genfromtxt(os.path.join(DEV_PATH , 'sentiments.txt'), delimiter='\\n', dtype=int)\n",
        "dev_added = pd.DataFrame({\"comment\":data,\"label\":label})\n",
        "data = np.genfromtxt(os.path.join(TRAIN_PATH , 'sents.txt'), delimiter='\\n', dtype=str)\n",
        "label = np.genfromtxt(os.path.join(TRAIN_PATH , 'sentiments.txt'), delimiter='\\n', dtype=int)\n",
        "train_added = pd.DataFrame({\"comment\":data,\"label\":label})\n",
        "train_added = pd.concat([train_added , dev_added], axis = 0 )\n",
        "data = np.genfromtxt(os.path.join(TEST_PATH , 'sents.txt'), delimiter='\\n', dtype=str)\n",
        "label = np.genfromtxt(os.path.join(TEST_PATH , 'sentiments.txt'), delimiter='\\n', dtype=int)\n",
        "test_added = pd.DataFrame({\"comment\":data,\"label\":label})"
      ],
      "metadata": {
        "id": "aPtnDk_vS87G"
      },
      "execution_count": null,
      "outputs": []
    },
    {
      "cell_type": "code",
      "source": [
        "comment_shopee = pd.read_excel(\"/content/Comment-shopee_exclude_time.xlsx\",header = None)\n",
        "comment_shopee.columns = ['comment','label']\n",
        "comment_shopee.comment = comment_shopee.comment.astype(str)\n",
        "comment_shopee = comment_shopee[comment_shopee.label.isin([1,2,0])]\n",
        "print(comment_shopee.label.value_counts())\n",
        "comment_shopee.label = comment_shopee.label.map({0:2,2:0,1:1}) # change label pos neg\n",
        "comment_shopee.to_csv(\"test2.csv\")\n",
        "comment_shopee.label.value_counts()"
      ],
      "metadata": {
        "colab": {
          "base_uri": "https://localhost:8080/"
        },
        "id": "bl5B89IePSwZ",
        "outputId": "9a44ae8d-fc79-48c6-88f3-f5edc9432866"
      },
      "execution_count": null,
      "outputs": [
        {
          "output_type": "stream",
          "name": "stdout",
          "text": [
            "0    4240\n",
            "1     986\n",
            "2     414\n",
            "Name: label, dtype: int64\n"
          ]
        },
        {
          "output_type": "execute_result",
          "data": {
            "text/plain": [
              "2    4240\n",
              "1     986\n",
              "0     414\n",
              "Name: label, dtype: int64"
            ]
          },
          "metadata": {},
          "execution_count": 16
        }
      ]
    },
    {
      "cell_type": "code",
      "execution_count": null,
      "metadata": {
        "id": "onDSk1fXJLa8",
        "colab": {
          "base_uri": "https://localhost:8080/"
        },
        "outputId": "82980e78-4be4-4b9e-9f68-040ea6d65af7"
      },
      "outputs": [
        {
          "output_type": "stream",
          "name": "stdout",
          "text": [
            "\u001b[K     |████████████████████████████████| 1.6 MB 37.8 MB/s \n",
            "\u001b[K     |████████████████████████████████| 2.1 MB 26.1 MB/s \n",
            "\u001b[K     |████████████████████████████████| 3.3 MB 64.1 MB/s \n",
            "\u001b[K     |████████████████████████████████| 880 kB 57.4 MB/s \n",
            "\u001b[?25h  Building wheel for sacremoses (setup.py) ... \u001b[?25l\u001b[?25hdone\n",
            "\u001b[K     |████████████████████████████████| 1.3 MB 24.1 MB/s \n",
            "\u001b[K     |████████████████████████████████| 2.6 MB 34.2 MB/s \n",
            "\u001b[?25h  Building wheel for vncorenlp (setup.py) ... \u001b[?25l\u001b[?25hdone\n",
            "  Building wheel for fastBPE (setup.py) ... \u001b[?25l\u001b[?25hdone\n",
            "\u001b[K     |████████████████████████████████| 11.0 MB 35.5 MB/s \n",
            "\u001b[K     |████████████████████████████████| 241 kB 70.9 MB/s \n",
            "\u001b[K     |████████████████████████████████| 118 kB 76.8 MB/s \n",
            "\u001b[K     |████████████████████████████████| 123 kB 81.0 MB/s \n",
            "\u001b[K     |████████████████████████████████| 112 kB 1.3 MB/s \n",
            "\u001b[?25h  Building wheel for antlr4-python3-runtime (setup.py) ... \u001b[?25l\u001b[?25hdone\n",
            "\u001b[K     |████████████████████████████████| 58.9 MB 32 kB/s \n",
            "\u001b[K     |████████████████████████████████| 8.8 MB 59.5 MB/s \n",
            "\u001b[K     |████████████████████████████████| 125 kB 70.7 MB/s \n",
            "\u001b[K     |████████████████████████████████| 468 kB 75.1 MB/s \n",
            "\u001b[K     |████████████████████████████████| 1.5 MB 22.9 MB/s \n",
            "\u001b[?25h  Building wheel for py-vncorenlp (setup.py) ... \u001b[?25l\u001b[?25hdone\n",
            "\u001b[K     |████████████████████████████████| 235 kB 22.1 MB/s \n",
            "\u001b[?25h"
          ]
        }
      ],
      "source": [
        "#@title Install library\n",
        "!pip install -q -U watermark\n",
        "!pip install -qq transformers==4.4.0\n",
        "!pip install -qq sentencepiece\n",
        "!pip install -qq vncorenlp\n",
        "!pip install -qq fastBPE\n",
        "!pip install -qq fairseq\n",
        "!pip install -qq ray[tune]\n",
        "!pip install -qq py_vncorenlp\n",
        "!pip install -qq Unidecode"
      ]
    },
    {
      "cell_type": "code",
      "source": [
        "import py_vncorenlp\n",
        "py_vncorenlp.download_model(save_dir=\".\") #load model sd trong phoBERT-> dependencies"
      ],
      "metadata": {
        "id": "po7_D7kJq1af"
      },
      "execution_count": null,
      "outputs": []
    },
    {
      "cell_type": "code",
      "source": [
        "def clean_text(text):\n",
        "    text = text.lower()\n",
        "    text = text.replace(\"\\xa0\",\" \")\n",
        "    text = text.replace(\"\\u200b\",\" \")\n",
        "    text = re.sub(r\"\\.+\", \".\", text)\n",
        "    text = re.sub(r\"\\?+\", \"?\", text)\n",
        "    text = re.sub(r\"!+\", \"!\", text)\n",
        "    text = re.sub(r\"http\\S+\", \" \", text)\n",
        "    text = re.sub(r\"\\(.*\\)\", \" \", text)\n",
        "    text = re.sub(r\"<.*>\", \" \", text)\n",
        "    text = re.sub(r\"\\[.*\\]\", \" \", text)\n",
        "    text = re.sub(r\"\\s+\", \" \", text) # bo khoang trang\n",
        "    text = text.strip()\n",
        "\n",
        "    return text\n",
        "# ko\n",
        "# k -> không\n",
        "# j -> gì"
      ],
      "metadata": {
        "id": "iwHFkYzMSlHy"
      },
      "execution_count": null,
      "outputs": []
    },
    {
      "cell_type": "markdown",
      "source": [
        "## EDA"
      ],
      "metadata": {
        "id": "WTz8nkmX_vyI"
      }
    },
    {
      "cell_type": "code",
      "source": [
        "from unidecode import unidecode #bo cmts co dau-> ko dau T: ko dau F: co dau\n",
        "def check_text(text):\n",
        "  return unidecode(text) == text\n",
        "train.comment.apply(check_text).value_counts()"
      ],
      "metadata": {
        "colab": {
          "base_uri": "https://localhost:8080/"
        },
        "id": "DYhbEZVQ2mUv",
        "outputId": "d551229d-e662-43b3-97cf-1e85d62ecaff"
      },
      "execution_count": null,
      "outputs": [
        {
          "output_type": "execute_result",
          "data": {
            "text/plain": [
              "False    4966\n",
              "True      134\n",
              "Name: comment, dtype: int64"
            ]
          },
          "metadata": {},
          "execution_count": 20
        }
      ]
    },
    {
      "cell_type": "code",
      "source": [
        "unccent = train[~train.comment.apply(check_text)]\n",
        "unccent.comment = unccent.comment.apply(lambda x: unidecode(x))"
      ],
      "metadata": {
        "id": "vhJRKkLrLWge"
      },
      "execution_count": null,
      "outputs": []
    },
    {
      "cell_type": "code",
      "source": [
        "data_SA2016= True\n",
        "data_added = True\n",
        "data_comment_shopee = True\n",
        "random_state = 39"
      ],
      "metadata": {
        "id": "l4GRZtS2QLT2"
      },
      "execution_count": null,
      "outputs": []
    },
    {
      "cell_type": "code",
      "source": [
        "train, dev = train_test_split(train, test_size = 0.2, random_state = random_state)\n",
        "if data_added:\n",
        "    train_add, dev_add = train_test_split(train_added, test_size = 0.2, random_state = random_state)\n",
        "    train = pd.concat([train,train_add])\n",
        "    dev = pd.concat([dev,dev_add])\n",
        "    test = pd.concat([test,test_added]) \n",
        "if data_comment_shopee:\n",
        "    train_cm_shopee, dev_cm_shopee = train_test_split(comment_shopee, test_size = 0.2, random_state = random_state)\n",
        "    train_cm_shopee, test_cm_shopee = train_test_split(train_cm_shopee, test_size = 0.2, random_state = random_state)\n",
        "    train = pd.concat([train,train_cm_shopee])\n",
        "    dev = pd.concat([dev,dev_cm_shopee])\n",
        "    test = pd.concat([test,test_cm_shopee]) \n",
        "print(\"Train size: \",train.shape)\n",
        "print(\"Dev size: \", dev.shape)\n",
        "print(\"Test size: \", test.shape)"
      ],
      "metadata": {
        "colab": {
          "base_uri": "https://localhost:8080/"
        },
        "id": "sm5FdpeiAh7_",
        "outputId": "9869692e-9fa5-4b29-d8d6-c6c0a6bd2a6d"
      },
      "execution_count": null,
      "outputs": [
        {
          "output_type": "stream",
          "name": "stdout",
          "text": [
            "Train size:  (18096, 2)\n",
            "Dev size:  (4750, 2)\n",
            "Test size:  (5119, 2)\n"
          ]
        }
      ]
    },
    {
      "cell_type": "code",
      "source": [
        "train.comment = train.comment.apply(clean_text)\n",
        "test.comment = test.comment.apply(clean_text)\n",
        "dev.comment = dev.comment.apply(clean_text)"
      ],
      "metadata": {
        "id": "9IXvztgWSCWd"
      },
      "execution_count": null,
      "outputs": []
    },
    {
      "cell_type": "code",
      "source": [
        "train.label.value_counts()"
      ],
      "metadata": {
        "colab": {
          "base_uri": "https://localhost:8080/"
        },
        "id": "rokvfv65SW6F",
        "outputId": "cfd001e1-8685-45a2-aadf-4c1d7eab6769"
      },
      "execution_count": null,
      "outputs": [
        {
          "output_type": "execute_result",
          "data": {
            "text/plain": [
              "2    9222\n",
              "0    6449\n",
              "1    2425\n",
              "Name: label, dtype: int64"
            ]
          },
          "metadata": {},
          "execution_count": 25
        }
      ]
    },
    {
      "cell_type": "code",
      "source": [
        "train.label.map({0:\"negative\",1: \"neutral\",2: \"positive\"}).value_counts().plot.bar(rot=45);"
      ],
      "metadata": {
        "colab": {
          "base_uri": "https://localhost:8080/",
          "height": 293
        },
        "id": "F37rTGPSrnHh",
        "outputId": "45037127-89bd-4c9e-d4d7-47f7b72c27d1"
      },
      "execution_count": null,
      "outputs": [
        {
          "output_type": "display_data",
          "data": {
            "text/plain": [
              "<Figure size 432x288 with 1 Axes>"
            ],
            "image/png": "[encoded data removed]"
          },
          "metadata": {
            "needs_background": "light"
          }
        }
      ]
    },
    {
      "cell_type": "code",
      "source": [
        "dev.label.map({0:\"negative\",1: \"neutral\",2: \"positive\"}).value_counts().plot.bar(rot=45);"
      ],
      "metadata": {
        "colab": {
          "base_uri": "https://localhost:8080/",
          "height": 293
        },
        "id": "5tAuZCEEBLgV",
        "outputId": "a15a6a5c-3cd0-4273-81a8-f2ce5733c794"
      },
      "execution_count": null,
      "outputs": [
        {
          "output_type": "display_data",
          "data": {
            "text/plain": [
              "<Figure size 432x288 with 1 Axes>"
            ],
            "image/png": "[encoded data removed]"
          },
          "metadata": {
            "needs_background": "light"
          }
        }
      ]
    },
    {
      "cell_type": "code",
      "source": [
        "train.comment.apply(lambda x: len(x.split())).describe()"
      ],
      "metadata": {
        "colab": {
          "base_uri": "https://localhost:8080/"
        },
        "id": "sXpAIZc8lqF3",
        "outputId": "1f41ca38-fefb-4110-e001-7e1aa11f830d"
      },
      "execution_count": null,
      "outputs": [
        {
          "output_type": "execute_result",
          "data": {
            "text/plain": [
              "count    18096.000000\n",
              "mean        18.878758\n",
              "std         18.844604\n",
              "min          0.000000\n",
              "25%          9.000000\n",
              "50%         14.000000\n",
              "75%         23.000000\n",
              "max        498.000000\n",
              "Name: comment, dtype: float64"
            ]
          },
          "metadata": {},
          "execution_count": 28
        }
      ]
    },
    {
      "cell_type": "code",
      "source": [
        "train.comment.apply(lambda x: len(x.split())).plot.hist(bins = 40);"
      ],
      "metadata": {
        "colab": {
          "base_uri": "https://localhost:8080/",
          "height": 265
        },
        "id": "sBCht_ga5Snv",
        "outputId": "e1801ec4-338f-4d78-d50c-612185b1303e"
      },
      "execution_count": null,
      "outputs": [
        {
          "output_type": "display_data",
          "data": {
            "text/plain": [
              "<Figure size 432x288 with 1 Axes>"
            ],
            "image/png": "[encoded data removed]"
          },
          "metadata": {
            "needs_background": "light"
          }
        }
      ]
    },
    {
      "cell_type": "code",
      "source": [
        "plt.figure(figsize = (20, 6), dpi = 80)\n",
        "train['comment'].str.split().explode().value_counts().nlargest(50).plot.bar(rot = 45)\n",
        "plt.title(\"Tần suất của các từ trong tập huyến luyện\");"
      ],
      "metadata": {
        "colab": {
          "base_uri": "https://localhost:8080/",
          "height": 453
        },
        "id": "42VncB0oDMHE",
        "outputId": "30e61dc0-978b-4381-d3ec-c410c72ebfca"
      },
      "execution_count": null,
      "outputs": [
        {
          "output_type": "display_data",
          "data": {
            "text/plain": [
              "<Figure size 1600x480 with 1 Axes>"
            ],
            "image/png": "[encoded data removed]"
          },
          "metadata": {
            "needs_background": "light"
          }
        }
      ]
    },
    {
      "cell_type": "code",
      "source": [
        "plt.figure(figsize = (20, 6), dpi = 80)\n",
        "dev['comment'].str.split().explode().value_counts().nlargest(50).plot.bar(rot = 45)\n",
        "plt.title(\"Tần suất của các từ trong tập dev\");"
      ],
      "metadata": {
        "colab": {
          "base_uri": "https://localhost:8080/",
          "height": 452
        },
        "id": "hm581X-rlgiI",
        "outputId": "fd00e90f-3157-4851-b23e-1c1c88fb11ad"
      },
      "execution_count": null,
      "outputs": [
        {
          "output_type": "display_data",
          "data": {
            "text/plain": [
              "<Figure size 1600x480 with 1 Axes>"
            ],
            "image/png": "[encoded data removed]"
          },
          "metadata": {
            "needs_background": "light"
          }
        }
      ]
    },
    {
      "cell_type": "code",
      "source": [
        "train.to_csv(\"train.csv\",index= False)\n",
        "test.to_csv(\"test.csv\",index= False)\n",
        "dev.to_csv(\"dev.csv\",index= False)"
      ],
      "metadata": {
        "id": "QTcWqW0emJ_H"
      },
      "execution_count": null,
      "outputs": []
    },
    {
      "cell_type": "markdown",
      "metadata": {
        "id": "Ml1M7WyWaWvS"
      },
      "source": [
        "## PhoBert"
      ]
    },
    {
      "cell_type": "code",
      "execution_count": null,
      "metadata": {
        "id": "yUtGWeLSK4VM"
      },
      "outputs": [],
      "source": [
        "import torch\n",
        "from torch.utils.data import Dataset\n",
        "from transformers import AutoTokenizer\n",
        "from sklearn.metrics import classification_report,confusion_matrix\n",
        "\n",
        "import argparse\n",
        "import os\n",
        "import logging\n",
        "from sklearn.metrics import f1_score , precision_score, recall_score, accuracy_score\n",
        "from sklearn.model_selection import train_test_split\n",
        "from vncorenlp import VnCoreNLP\n",
        "import torch\n",
        "from torch.utils.data import Dataset, DataLoader, RandomSampler\n",
        "from transformers import AutoModelForSequenceClassification, AutoTokenizer, Trainer, TrainingArguments\n",
        "from ray import tune\n",
        "import pandas as pd\n",
        "import numpy as np\n",
        "import json\n",
        "from tqdm import tqdm\n",
        "tqdm.pandas()\n",
        "\n",
        "def read_object(data_path, **kwargs):\n",
        "    df = pd.read_csv(data_path)\n",
        "    return df\n",
        "\n",
        "def write_object(df, save_path):\n",
        "    df.to_csv(save_path)\n",
        "\n",
        "class BertDataset(Dataset):\n",
        "\n",
        "    def __init__(self, data, model_name, max_sequence_length):\n",
        "        self.data = data\n",
        "        self.tokenizer = AutoTokenizer.from_pretrained(model_name)\n",
        "        self.max_sequence_length = max_sequence_length\n",
        "\n",
        "    def __getitem__(self, index):\n",
        "        text_input = self.data[\"comment\"].iloc[index]\n",
        "        input_dict = self.tokenizer.encode_plus(\n",
        "            text_input,\n",
        "            max_length=self.max_sequence_length,\n",
        "            padding=\"max_length\",\n",
        "            truncation=True,\n",
        "            return_tensors=\"pt\"\n",
        "        )\n",
        "        # tu nam o dau trong doan text\n",
        "        inputs = {\n",
        "            \"input_ids\": input_dict[\"input_ids\"][0],\n",
        "            \"attention_mask\": input_dict[\"attention_mask\"][0],\n",
        "        }\n",
        "        if 'label' in self.data.columns: # in case, the predicted data have no this column\n",
        "            inputs[\"labels\"] = torch.tensor(self.data[\"label\"].iloc[index], dtype=torch.long)\n",
        "        return inputs\n",
        "# do dai data\n",
        "    def __len__(self):\n",
        "        return len(self.data)"
      ]
    },
    {
      "cell_type": "code",
      "execution_count": null,
      "metadata": {
        "colab": {
          "base_uri": "https://localhost:8080/",
          "height": 730,
          "referenced_widgets": [
            "6fa370d9c9fa45af97da695d1b2b832c",
            "6ea573b12a3c43e692afdd005479eb0b",
            "f17c7c82636e4f39a96c8a346918e513",
            "9f21944337eb4c6e931ddc8bbbc1ad71",
            "e78418f12b7941428349613c1b9e5037",
            "6d13c93a3be54febb780c1860d6c5d81",
            "a30a48e2e6b7408eadf667d66d44359f",
            "16a82816b45145ce9e1b0157ad67fa29",
            "5391a2fe679641f4b9eda8f6dd36cd81",
            "b7eab8b3bb2046789c701647960f66d0",
            "a7a3271b32274c0e89b17d7824859cc1",
            "a9a7b2bbb39f43aa8d841385346bcdf7",
            "e62f7f8d2e814637a8d5c92c089d06b0",
            "4f85d2f88b9b44e8ad628759cbb9199d",
            "f62859f8ef984be98c9ff192ed75254f",
            "4c09aae0e1d34e13a40e0ed9a7c81467",
            "63251cce84c8404484c6a275e191b717",
            "78a5b9660ddc4153887fa2423db92027",
            "84ef0381576242058da38ea70bb813cf",
            "100d38e117844d27a30e2af0ec587854",
            "85d188f2ec8345d386a4d001c4dae62a",
            "0581d20a904441bcac9d1eb9f5552be7",
            "9adc0d0cebc043c2a3e58bfea403ecd9",
            "78e9e34f757a48d7bad998dc62749a45",
            "453062af2ce048d38e67184f04c4bcc2",
            "86a4f3f7b6674e7893b8c4663a20a2c2",
            "daf09442143a43a2ae3f1404a3f5b8dd",
            "fe2a028c002a435e91e8cd51d25e51d7",
            "c15f6b3ccacb4f878ac65cb3fc8cfb88",
            "9350f7303a4a4148bc18db8025f29bba",
            "51032e8e9c8448c2a46aa2efed267411",
            "c64f46e2aaad4d008d2ea713d5035623",
            "39debf6ab02744d9a404310552ab35e0",
            "16784253c5b349bb8e7e240b4f0634b2",
            "a7f0a0ede138407294672849e26cf632",
            "31a440f3d3a842b1919cb327d69ce9d4",
            "9a4666a431f84232b5013f97a623e5e7",
            "f32b80ca568a452ba01e503c4247ee27",
            "abcaaf4d0e204b118c294fab25036494",
            "26463b2afdec4955b397baf1918e8daa",
            "80dc47829c3a4ac69dcde904ada003bd",
            "98b625466fad43b8bb89c64538f891a9",
            "9d1e71bbe53c4869a46b529600531d51",
            "17602fd97ad3401e8ec87a8e64a43102",
            "c4e9756d6cc44487adaac9d13903d3d2",
            "78136045ce9940349f5d2bfc31fc8649",
            "47026b3ba3a2462c8fa697424a9bcb0f",
            "1c2c2db50c354154b872960989f07371",
            "7afd4fb6f69a4796b889518f82277883",
            "4a317df1865f47f0bb66dd77bd46dc0f",
            "2fd9ffc83b9f4dab8ffa0da5a6c7ae78",
            "9fbbaa287d1b41d38eb9dabe1d211436",
            "7b8adcd19fa2436d8391e5e8160aa582",
            "a946fe259ff44d73b6bfb9fb453883ea",
            "4282985da6624e2396b7d34cd3ec2d62"
          ]
        },
        "id": "NRBdXKNjJ6Wg",
        "outputId": "362a48de-d33a-42cc-9c5a-e71da9a670e2"
      },
      "outputs": [
        {
          "output_type": "stream",
          "name": "stdout",
          "text": [
            "Data contains 18096 rows\n"
          ]
        },
        {
          "output_type": "stream",
          "name": "stderr",
          "text": [
            "100%|██████████| 18096/18096 [01:13<00:00, 246.25it/s]\n"
          ]
        },
        {
          "output_type": "stream",
          "name": "stdout",
          "text": [
            "Data shape:  (18096, 2)\n"
          ]
        },
        {
          "output_type": "stream",
          "name": "stderr",
          "text": [
            "100%|██████████| 4750/4750 [00:15<00:00, 297.04it/s]\n"
          ]
        },
        {
          "output_type": "stream",
          "name": "stdout",
          "text": [
            "Data shape:  (4750, 2)\n"
          ]
        },
        {
          "output_type": "display_data",
          "data": {
            "text/plain": [
              "Downloading:   0%|          | 0.00/557 [00:00<?, ?B/s]"
            ],
            "application/vnd.jupyter.widget-view+json": {
              "version_major": 2,
              "version_minor": 0,
              "model_id": "6fa370d9c9fa45af97da695d1b2b832c"
            }
          },
          "metadata": {}
        },
        {
          "output_type": "display_data",
          "data": {
            "text/plain": [
              "Downloading:   0%|          | 0.00/895k [00:00<?, ?B/s]"
            ],
            "application/vnd.jupyter.widget-view+json": {
              "version_major": 2,
              "version_minor": 0,
              "model_id": "a9a7b2bbb39f43aa8d841385346bcdf7"
            }
          },
          "metadata": {}
        },
        {
          "output_type": "display_data",
          "data": {
            "text/plain": [
              "Downloading:   0%|          | 0.00/1.14M [00:00<?, ?B/s]"
            ],
            "application/vnd.jupyter.widget-view+json": {
              "version_major": 2,
              "version_minor": 0,
              "model_id": "9adc0d0cebc043c2a3e58bfea403ecd9"
            }
          },
          "metadata": {}
        },
        {
          "output_type": "display_data",
          "data": {
            "text/plain": [
              "Downloading:   0%|          | 0.00/3.13M [00:00<?, ?B/s]"
            ],
            "application/vnd.jupyter.widget-view+json": {
              "version_major": 2,
              "version_minor": 0,
              "model_id": "16784253c5b349bb8e7e240b4f0634b2"
            }
          },
          "metadata": {}
        },
        {
          "output_type": "stream",
          "name": "stderr",
          "text": [
            "Special tokens have been added in the vocabulary, make sure the associated word embedding are fine-tuned or trained.\n",
            "Special tokens have been added in the vocabulary, make sure the associated word embedding are fine-tuned or trained.\n"
          ]
        },
        {
          "output_type": "display_data",
          "data": {
            "text/plain": [
              "Downloading:   0%|          | 0.00/543M [00:00<?, ?B/s]"
            ],
            "application/vnd.jupyter.widget-view+json": {
              "version_major": 2,
              "version_minor": 0,
              "model_id": "c4e9756d6cc44487adaac9d13903d3d2"
            }
          },
          "metadata": {}
        },
        {
          "output_type": "stream",
          "name": "stderr",
          "text": [
            "Some weights of the model checkpoint at vinai/phobert-base were not used when initializing RobertaForSequenceClassification: ['lm_head.bias', 'lm_head.dense.weight', 'lm_head.dense.bias', 'lm_head.layer_norm.weight', 'lm_head.layer_norm.bias', 'lm_head.decoder.weight', 'lm_head.decoder.bias', 'roberta.pooler.dense.weight', 'roberta.pooler.dense.bias']\n",
            "- This IS expected if you are initializing RobertaForSequenceClassification from the checkpoint of a model trained on another task or with another architecture (e.g. initializing a BertForSequenceClassification model from a BertForPreTraining model).\n",
            "- This IS NOT expected if you are initializing RobertaForSequenceClassification from the checkpoint of a model that you expect to be exactly identical (initializing a BertForSequenceClassification model from a BertForSequenceClassification model).\n",
            "Some weights of RobertaForSequenceClassification were not initialized from the model checkpoint at vinai/phobert-base and are newly initialized: ['classifier.dense.weight', 'classifier.dense.bias', 'classifier.out_proj.weight', 'classifier.out_proj.bias']\n",
            "You should probably TRAIN this model on a down-stream task to be able to use it for predictions and inference.\n"
          ]
        },
        {
          "output_type": "display_data",
          "data": {
            "text/plain": [
              "<IPython.core.display.HTML object>"
            ],
            "text/html": [
              "\n",
              "    <div>\n",
              "        <style>\n",
              "            /* Turns off some styling */\n",
              "            progress {\n",
              "                /* gets rid of default border in Firefox and Opera. */\n",
              "                border: none;\n",
              "                /* Needs to be in here for Safari polyfill so background images work as expected. */\n",
              "                background-size: auto;\n",
              "            }\n",
              "        </style>\n",
              "      \n",
              "      <progress value='15834' max='15834' style='width:300px; height:20px; vertical-align: middle;'></progress>\n",
              "      [15834/15834 40:18, Epoch 7/7]\n",
              "    </div>\n",
              "    <table border=\"1\" class=\"dataframe\">\n",
              "  <thead>\n",
              "    <tr style=\"text-align: left;\">\n",
              "      <th>Epoch</th>\n",
              "      <th>Training Loss</th>\n",
              "      <th>Validation Loss</th>\n",
              "      <th>Acc</th>\n",
              "      <th>F1</th>\n",
              "      <th>Precision</th>\n",
              "      <th>Recall</th>\n",
              "      <th>Runtime</th>\n",
              "      <th>Samples Per Second</th>\n",
              "    </tr>\n",
              "  </thead>\n",
              "  <tbody>\n",
              "    <tr>\n",
              "      <td>1</td>\n",
              "      <td>0.439500</td>\n",
              "      <td>0.357889</td>\n",
              "      <td>0.861474</td>\n",
              "      <td>0.791125</td>\n",
              "      <td>0.795851</td>\n",
              "      <td>0.787250</td>\n",
              "      <td>16.601900</td>\n",
              "      <td>286.112000</td>\n",
              "    </tr>\n",
              "    <tr>\n",
              "      <td>2</td>\n",
              "      <td>0.326100</td>\n",
              "      <td>0.446717</td>\n",
              "      <td>0.865474</td>\n",
              "      <td>0.805748</td>\n",
              "      <td>0.803981</td>\n",
              "      <td>0.808386</td>\n",
              "      <td>16.600000</td>\n",
              "      <td>286.145000</td>\n",
              "    </tr>\n",
              "    <tr>\n",
              "      <td>3</td>\n",
              "      <td>0.255300</td>\n",
              "      <td>0.554485</td>\n",
              "      <td>0.862105</td>\n",
              "      <td>0.778966</td>\n",
              "      <td>0.800237</td>\n",
              "      <td>0.768837</td>\n",
              "      <td>16.814600</td>\n",
              "      <td>282.493000</td>\n",
              "    </tr>\n",
              "    <tr>\n",
              "      <td>4</td>\n",
              "      <td>0.195300</td>\n",
              "      <td>0.612511</td>\n",
              "      <td>0.865263</td>\n",
              "      <td>0.807097</td>\n",
              "      <td>0.802265</td>\n",
              "      <td>0.813844</td>\n",
              "      <td>16.575500</td>\n",
              "      <td>286.568000</td>\n",
              "    </tr>\n",
              "    <tr>\n",
              "      <td>5</td>\n",
              "      <td>0.135300</td>\n",
              "      <td>0.757561</td>\n",
              "      <td>0.859158</td>\n",
              "      <td>0.780987</td>\n",
              "      <td>0.792714</td>\n",
              "      <td>0.774313</td>\n",
              "      <td>21.946400</td>\n",
              "      <td>216.437000</td>\n",
              "    </tr>\n",
              "    <tr>\n",
              "      <td>6</td>\n",
              "      <td>0.100000</td>\n",
              "      <td>0.795277</td>\n",
              "      <td>0.865684</td>\n",
              "      <td>0.792515</td>\n",
              "      <td>0.804046</td>\n",
              "      <td>0.784285</td>\n",
              "      <td>16.600700</td>\n",
              "      <td>286.133000</td>\n",
              "    </tr>\n",
              "    <tr>\n",
              "      <td>7</td>\n",
              "      <td>0.069600</td>\n",
              "      <td>0.835908</td>\n",
              "      <td>0.865053</td>\n",
              "      <td>0.796671</td>\n",
              "      <td>0.799604</td>\n",
              "      <td>0.794232</td>\n",
              "      <td>16.607200</td>\n",
              "      <td>286.020000</td>\n",
              "    </tr>\n",
              "  </tbody>\n",
              "</table><p>"
            ]
          },
          "metadata": {}
        },
        {
          "output_type": "display_data",
          "data": {
            "text/plain": [
              "<IPython.core.display.HTML object>"
            ],
            "text/html": [
              "\n",
              "    <div>\n",
              "        <style>\n",
              "            /* Turns off some styling */\n",
              "            progress {\n",
              "                /* gets rid of default border in Firefox and Opera. */\n",
              "                border: none;\n",
              "                /* Needs to be in here for Safari polyfill so background images work as expected. */\n",
              "                background-size: auto;\n",
              "            }\n",
              "        </style>\n",
              "      \n",
              "      <progress value='594' max='594' style='width:300px; height:20px; vertical-align: middle;'></progress>\n",
              "      [594/594 00:16]\n",
              "    </div>\n",
              "    "
            ]
          },
          "metadata": {}
        },
        {
          "output_type": "stream",
          "name": "stdout",
          "text": [
            "Finished Training\n"
          ]
        }
      ],
      "source": [
        "import argparse\n",
        "import os\n",
        "import logging\n",
        "from sklearn.metrics import f1_score , precision_score, recall_score, accuracy_score\n",
        "from sklearn.model_selection import train_test_split\n",
        "from vncorenlp import VnCoreNLP\n",
        "import torch\n",
        "from torch.utils.data import Dataset, DataLoader, RandomSampler\n",
        "from transformers import AutoModelForSequenceClassification, AutoTokenizer, Trainer, TrainingArguments, AutoModel\n",
        "from ray import tune\n",
        "import pandas as pd\n",
        "import numpy as np\n",
        "import json\n",
        "from tqdm import tqdm\n",
        "tqdm.pandas()\n",
        "# chuyen tu text-> integer\n",
        "\n",
        "# logger = logging.getLogger(__name__)\n",
        "# logger.setLevel(logging.DEBUG)\n",
        "\n",
        "device = torch.device('cuda' if torch.cuda.is_available() else 'cpu')        \n",
        "\n",
        "def preprocess_data(df):\n",
        "    \"\"\"Pre-process data for training.\"\"\"\n",
        "    # VnCoreNLP tokenize\n",
        "    with VnCoreNLP(\"VnCoreNLP-1.1.1.jar\", annotators=\"wseg\", max_heap_size='-Xmx500m') as rdrsegmenter:\n",
        "        df[\"comment\"] = df[\"comment\"].apply(str).progress_apply(lambda x: ' '.join([' '.join(sent) for sent in rdrsegmenter.tokenize(x)]))\n",
        "\n",
        "    print(\"Data shape: \",df.shape)\n",
        "    return df\n",
        "\n",
        "\n",
        "def compute_metrics(eval_preds):\n",
        "    \"\"\"Compute custom metrics to track in logging.\"\"\"\n",
        "    y_true = eval_preds.label_ids\n",
        "    y_pred = eval_preds.predictions.argmax(-1)\n",
        "    f1 = f1_score(y_true, y_pred, average='macro')\n",
        "    precision = precision_score(y_true, y_pred,average= \"macro\")\n",
        "    recall = recall_score(y_true, y_pred,average= \"macro\")\n",
        "    accuracy = accuracy_score(y_true, y_pred)\n",
        "    return {\n",
        "        \"acc\": accuracy,\n",
        "        \"f1\": f1,\n",
        "        \"precision\": precision,\n",
        "        \"recall\": recall\n",
        "    }\n",
        "\n",
        "\n",
        "def find_best_hyperparameters(model_name, num_labels, train_dataset, valid_dataset, n_trials=20):\n",
        "    def model_init():\n",
        "        return AutoModelForSequenceClassification.from_pretrained(model_name, num_labels=num_labels, torchscript=True)\n",
        "    training_args = TrainingArguments(\n",
        "        output_dir=\"out\",\n",
        "        # num_train_epochs=5,\n",
        "        # learning_rate=1e-5,\n",
        "        # per_device_train_batch_size=8,\n",
        "        # per_device_eval_batch_size=8,\n",
        "        evaluation_strategy=\"epoch\", # steps\n",
        "        # logging_dir=\"logs\",\n",
        "        # logging_steps=10,\n",
        "        # logging_strategy=\"steps\",\n",
        "        save_strategy=\"no\", # don't need to save while searching hyperparameters\n",
        "        load_best_model_at_end=False)\n",
        "    trainer = Trainer(\n",
        "        model_init=model_init,\n",
        "        args=training_args,\n",
        "        train_dataset=train_dataset,\n",
        "        eval_dataset=valid_dataset,\n",
        "        compute_metrics=compute_metrics\n",
        "    )\n",
        "    # important metrics in Bert\n",
        "    # https://medium.com/distributed-computing-with-ray/hyperparameter-optimization-for-transformers-a-guide-c4e32c6c989b\n",
        "    tune_config = {\n",
        "        \"learning_rate\": tune.loguniform(1e-5, 5e-5),\n",
        "        \"weight_decay\": tune.uniform(0, 0.3),\n",
        "        \"per_device_train_batch_size\": tune.choice([8, 16]),\n",
        "        \"num_train_epochs\": tune.choice(list(range(3, 5))),\n",
        "        # \"seed\": tune.uniform(1, 40),\n",
        "    }\n",
        "    best_run = trainer.hyperparameter_search(\n",
        "        hp_space=lambda _: tune_config,\n",
        "        direction=\"maximize\", # maximize acc\n",
        "        backend=\"ray\", #parallel\n",
        "        n_trials=n_trials,\n",
        "    )\n",
        "    return best_run  \n",
        "\n",
        "\n",
        "def train_with_best_hyperparameters(model_name, num_labels, hyperparameters, train_dataset, valid_dataset):\n",
        "    model = AutoModelForSequenceClassification.from_pretrained(model_name, num_labels=num_labels, torchscript=True)\n",
        "    # model = AutoModel.from_pretrained(model_name, num_labels=num_labels, torchscript=True)\n",
        "    training_args = TrainingArguments(\n",
        "        output_dir=\"out\",\n",
        "        learning_rate=hyperparameters[\"learning_rate\"],\n",
        "        weight_decay=hyperparameters[\"weight_decay\"],\n",
        "        per_device_train_batch_size=hyperparameters[\"per_device_train_batch_size\"],\n",
        "        num_train_epochs=hyperparameters[\"num_train_epochs\"],\n",
        "        per_device_eval_batch_size=8, # so luong mau dua vao 1 luc de train\n",
        "        evaluation_strategy=\"epoch\",\n",
        "        # logging_dir=\"logs\",\n",
        "        # logging_steps=10,\n",
        "        logging_strategy=\"epoch\",\n",
        "        metric_for_best_model='f1',\n",
        "        save_strategy=\"epoch\",\n",
        "        save_total_limit=1,\n",
        "        load_best_model_at_end=True)\n",
        "    trainer = Trainer(\n",
        "        model=model,\n",
        "        args=training_args,\n",
        "        train_dataset=train_dataset,\n",
        "        eval_dataset=valid_dataset,\n",
        "        compute_metrics=compute_metrics\n",
        "    )\n",
        "    trainer.train()\n",
        "    metrics = trainer.evaluate()\n",
        "    return model, metrics\n",
        "\n",
        "\n",
        "def save_model(dummy_row, model, model_dir):\n",
        "    dummy_input = (\n",
        "        dummy_row[\"input_ids\"].unsqueeze(0).to(device),\n",
        "        dummy_row[\"attention_mask\"].unsqueeze(0).to(device)\n",
        "    )\n",
        "    traced_model = torch.jit.trace(model, dummy_input)\n",
        "    if not os.path.exists(model_dir):\n",
        "      os.mkdir(model_dir)\n",
        "    torch.jit.save(traced_model, os.path.join(model_dir, \"model.pt\"))\n",
        "\n",
        "\n",
        "def train(args):\n",
        "    # Load training dataset\n",
        "    df = read_object(args.input_path).sample(frac=1.)\n",
        "    dev = read_object(args.dev_path).sample(frac=1.)\n",
        "    if args.max_data_rows:\n",
        "        df = df.iloc[:args.max_data_rows].copy()\n",
        "    print(f\"Data contains {len(df)} rows\")\n",
        "    # Preprocess and featurize data\n",
        "    traindf = preprocess_data(df)\n",
        "    validdf = preprocess_data(dev)\n",
        "\n",
        "    # Create dataset for model input\n",
        "    train_dataset = BertDataset(traindf, args.model_name, args.max_sequence_length)\n",
        "    valid_dataset = BertDataset(validdf, args.model_name, args.max_sequence_length)\n",
        "    # print(train_dataset[0])\n",
        "    # Find the best hyperparameters\n",
        "    best_run = find_best_hyperparameters(args.model_name, args.num_labels, train_dataset, valid_dataset, args.n_trials)\n",
        "    print(best_run)\n",
        "    best_hyperparameters = best_run[2]\n",
        "    # Train again with the best hyperparameters, ex. BestRun(run_id='54dcf_00001', objective=0.68, hyperparameters={'learning_rate': 3.248192869770297e-05, 'weight_decay': 0.17959754525911098})\n",
        "    model, metrics = train_with_best_hyperparameters(args.model_name, args.num_labels, best_hyperparameters, train_dataset, valid_dataset)\n",
        "    # Save model\n",
        "    save_model(train_dataset[0], model, args.model_dir)\n",
        "    # Save metrics & hyperparameters\n",
        "    with open(os.path.join(args.output_data_dir, \"metrics.json\"), \"w\") as f:\n",
        "        json.dump({**metrics, **best_hyperparameters}, f)\n",
        "    print('Finished Training')\n",
        "\n",
        "def training(args):\n",
        "\n",
        "    # df = read_object(args).sample(frac=1.)\n",
        "    # if args.max_data_rows:\n",
        "    #     df = df.iloc[:args.max_data_rows].copy()\n",
        "    # print(f\"Data contains {len(df)} rows\")\n",
        "    # # Preprocess and featurize data\n",
        "    # traindf, validdf = preprocess_data(df, args.train_size)\n",
        "    df = read_object(args.input_path).sample(frac=1.)\n",
        "    dev = read_object(args.dev_path).sample(frac=1.)\n",
        "    if args.max_data_rows:\n",
        "        df = df.iloc[:args.max_data_rows].copy()\n",
        "    print(f\"Data contains {len(df)} rows\")\n",
        "    # Preprocess and featurize data\n",
        "    traindf = preprocess_data(df)\n",
        "    validdf = preprocess_data(dev)\n",
        "    # Create dataset for model input\n",
        "    train_dataset = BertDataset(traindf, args.model_name, args.max_sequence_length)\n",
        "    valid_dataset = BertDataset(validdf, args.model_name, args.max_sequence_length)\n",
        "\n",
        "    hyperparameters = {\n",
        "        \"learning_rate\": 1.8272261776066238e-05,\n",
        "        \"weight_decay\" : 0.01852142919229748,\n",
        "        \"per_device_train_batch_size\" : 8,\n",
        "        \"num_train_epochs\" : 7\n",
        "    }\n",
        "\n",
        "    # Train again with the best hyperparameters, ex. BestRun(run_id='54dcf_00001', objective=0.68, hyperparameters={'learning_rate': 3.248192869770297e-05, 'weight_decay': 0.17959754525911098})\n",
        "    model, metrics = train_with_best_hyperparameters(args.model_name, args.num_labels, hyperparameters, train_dataset, valid_dataset)\n",
        "    # Save model\n",
        "    save_model(train_dataset[0], model, args.model_dir)\n",
        "    # Save metrics & hyperparameters\n",
        "    with open(os.path.join(args.output_data_dir, \"metrics.json\"), \"w\") as f:\n",
        "        json.dump({**metrics, **hyperparameters}, f)\n",
        "    print('Finished Training')\n",
        "\n",
        "\n",
        "if __name__ == '__main__':\n",
        "    parser = argparse.ArgumentParser()\n",
        "    parser.add_argument('--input_path', type=str, default = \"train.csv\")\n",
        "    parser.add_argument('--dev_path', type=str, default = \"dev.csv\")\n",
        "    parser.add_argument('--num_labels', type=int, default=3)\n",
        "    parser.add_argument('--train_size', type=float, default=.8)\n",
        "    parser.add_argument('--adam_epsilon', type=float, default=1e-8)\n",
        "    parser.add_argument('--epochs', type=int, default=6)\n",
        "    parser.add_argument('--learning_rate', type=float, default=5e-5)\n",
        "    parser.add_argument('--weight_decay', type=float, default=0.0)\n",
        "    parser.add_argument('--max_data_rows', type=int, default=None)\n",
        "    parser.add_argument('--max_sequence_length', type=int, default=64)\n",
        "    parser.add_argument('--model_name', type=str, default='vinai/phobert-base') # vinai/phobert-base / bert-base-uncased\n",
        "    parser.add_argument('--train_batch_size', type=int, default=16)\n",
        "    parser.add_argument('--valid_batch_size', type=int, default=16)\n",
        "    parser.add_argument('--n_trials', type=int, default=3)\n",
        "    parser.add_argument('--model_dir', type=str, default=\"model\") # output_path arg from train_deploy.py.\n",
        "    parser.add_argument('--output_data_dir', type=str, default=\"\") \n",
        "    # train(parser.parse_args(\"\")) # turning #dung so luong trial-> hyperparameter\n",
        "    training(parser.parse_args(\"\")) # none-turning"
      ]
    },
    {
      "cell_type": "code",
      "source": [
        "view = pd.read_csv(\"train.csv\")\n",
        "with VnCoreNLP(\"VnCoreNLP-1.1.1.jar\", annotators=\"wseg\", max_heap_size='-Xmx500m') as rdrsegmenter:\n",
        "    view[\"comment\"] = view[\"comment\"].apply(str).progress_apply(lambda x: ' '.join([' '.join(sent) for sent in rdrsegmenter.tokenize(x)]))"
      ],
      "metadata": {
        "colab": {
          "base_uri": "https://localhost:8080/"
        },
        "id": "l5F6L9QlzXIV",
        "outputId": "1929082b-1f11-401e-bc94-e146771b5892"
      },
      "execution_count": null,
      "outputs": [
        {
          "output_type": "stream",
          "name": "stderr",
          "text": [
            "100%|██████████| 18096/18096 [00:59<00:00, 305.29it/s]\n"
          ]
        }
      ]
    },
    {
      "cell_type": "code",
      "source": [
        "view[\"comment\"].values.tolist()"
      ],
      "metadata": {
        "id": "F8Yw5B0OzpT-"
      },
      "execution_count": null,
      "outputs": []
    },
    {
      "cell_type": "code",
      "source": [
        "from google.colab import drive\n",
        "drive.mount('/content/drive')"
      ],
      "metadata": {
        "colab": {
          "base_uri": "https://localhost:8080/"
        },
        "id": "fpRPuc5g6e0Z",
        "outputId": "e61ec639-3abb-4951-ab48-27b28bf5555f"
      },
      "execution_count": null,
      "outputs": [
        {
          "output_type": "stream",
          "name": "stdout",
          "text": [
            "Mounted at /content/drive\n"
          ]
        }
      ]
    },
    {
      "cell_type": "code",
      "source": [
        "!cp -r model/ \"/content/drive/MyDrive/\""
      ],
      "metadata": {
        "id": "h13WxWH18N9h"
      },
      "execution_count": null,
      "outputs": []
    },
    {
      "cell_type": "markdown",
      "source": [
        "## Inferences"
      ],
      "metadata": {
        "id": "270CNBgMFP_I"
      }
    },
    {
      "cell_type": "code",
      "source": [
        "device = torch.device('cuda' if torch.cuda.is_available() else 'cpu')\n",
        "tokenizer = AutoTokenizer.from_pretrained(\"vinai/phobert-base\")\n",
        "\n",
        "def model_fn(model_dir, model_name = \"model.pt\"):\n",
        "    print(\"model_fn_sentiment\")\n",
        "    return torch.jit.load(os.path.join(model_dir, model_name), map_location=device)\n",
        "\n",
        "def infer(model, tokenizer,  input_text, model_name = \"vinai/phobert-base\"):\n",
        "  with VnCoreNLP(\"VnCoreNLP-1.1.1.jar\", annotators=\"wseg\", max_heap_size='-Xmx500m') as rdrsegmenter:\n",
        "    input_text = ' '.join([' '.join(sent) for sent in rdrsegmenter.tokenize(input_text)])\n",
        "  max_sequence_length = 256\n",
        "  input_dict = tokenizer.encode_plus(\n",
        "            input_text,\n",
        "            max_length=max_sequence_length,\n",
        "            padding=\"max_length\",\n",
        "            truncation=True,\n",
        "            return_tensors=\"pt\"\n",
        "        )\n",
        "  inputs = {\n",
        "      \"input_ids\": torch.tensor(input_dict[\"input_ids\"]).to(device),\n",
        "      \"attention_mask\": torch.tensor(input_dict[\"attention_mask\"]).to(device),\n",
        "  }\n",
        "  model.to(device)\n",
        "  model.eval()\n",
        "  with torch.no_grad():\n",
        "    predictions, *_ = model(**inputs)\n",
        "    predictions = torch.argmax(predictions, dim=1).flatten()\n",
        "    predictions = predictions.detach().cpu().numpy()\n",
        "  \n",
        "  label_map = [\"Negative\",\"Neutral\",\"Positive\"]\n",
        "  print(label_map[predictions[0]])\n",
        "  return predictions"
      ],
      "metadata": {
        "id": "ROUO87YaFTLP",
        "colab": {
          "base_uri": "https://localhost:8080/"
        },
        "outputId": "4206bde9-5dd9-44c7-a005-0355cf572d49"
      },
      "execution_count": null,
      "outputs": [
        {
          "output_type": "stream",
          "name": "stderr",
          "text": [
            "Special tokens have been added in the vocabulary, make sure the associated word embedding are fine-tuned or trained.\n"
          ]
        }
      ]
    },
    {
      "cell_type": "code",
      "source": [
        "model_dir = \"model\"\n",
        "model = model_fn(model_dir)"
      ],
      "metadata": {
        "id": "Mqjvn4Ns_Be8",
        "colab": {
          "base_uri": "https://localhost:8080/"
        },
        "outputId": "820d4991-a119-40b5-e454-ab9e9c8bf612"
      },
      "execution_count": null,
      "outputs": [
        {
          "output_type": "stream",
          "name": "stdout",
          "text": [
            "model_fn_sentiment\n"
          ]
        }
      ]
    },
    {
      "cell_type": "code",
      "source": [
        "input_text = \"máy gì nhanh hư quá!\"\n",
        "infer(model, tokenizer, input_text)"
      ],
      "metadata": {
        "id": "ghtvkngd68O0",
        "colab": {
          "base_uri": "https://localhost:8080/"
        },
        "outputId": "6e6d0b7c-e186-4a56-c9f8-0080208ae805"
      },
      "execution_count": null,
      "outputs": [
        {
          "output_type": "stream",
          "name": "stdout",
          "text": [
            "Negative\n"
          ]
        },
        {
          "output_type": "execute_result",
          "data": {
            "text/plain": [
              "array([0])"
            ]
          },
          "metadata": {},
          "execution_count": 43
        }
      ]
    },
    {
      "cell_type": "markdown",
      "source": [
        "## Evaluate"
      ],
      "metadata": {
        "id": "JMNsGewq9zRh"
      }
    },
    {
      "cell_type": "code",
      "source": [
        "test2 = pd.read_excel(\"/content/Comment-shopee_exclude_time.xlsx\",header = None)\n",
        "test2.columns = ['comment','label']\n",
        "test2.comment = test2.comment.astype(str)\n",
        "test2 = test2[test2.label.isin([1,2,0])]\n",
        "print(test2.label.value_counts())\n",
        "test2.label = test2.label.map({0:2,2:0,1:1})\n",
        "test2.comment = test2.comment.apply(clean_text)\n",
        "test2.to_csv(\"test2.csv\")\n",
        "test2.label.value_counts()"
      ],
      "metadata": {
        "colab": {
          "base_uri": "https://localhost:8080/"
        },
        "id": "V0309FBScHTk",
        "outputId": "439b09dc-fb40-46a8-b4c9-86ecd61c0fd6"
      },
      "execution_count": null,
      "outputs": [
        {
          "output_type": "stream",
          "name": "stdout",
          "text": [
            "0    4240\n",
            "1     986\n",
            "2     414\n",
            "Name: label, dtype: int64\n"
          ]
        },
        {
          "output_type": "execute_result",
          "data": {
            "text/plain": [
              "2    4240\n",
              "1     986\n",
              "0     414\n",
              "Name: label, dtype: int64"
            ]
          },
          "metadata": {},
          "execution_count": 44
        }
      ]
    },
    {
      "cell_type": "code",
      "source": [
        "import argparse\n",
        "import os\n",
        "import logging\n",
        "from sklearn.metrics import f1_score , precision_score, recall_score, accuracy_score\n",
        "from sklearn.model_selection import train_test_split\n",
        "from vncorenlp import VnCoreNLP\n",
        "import torch\n",
        "from torch.utils.data import Dataset, DataLoader, RandomSampler\n",
        "from transformers import AutoModelForSequenceClassification, AutoTokenizer, Trainer, TrainingArguments, AutoModel\n",
        "from ray import tune\n",
        "import pandas as pd\n",
        "import numpy as np\n",
        "import json\n",
        "from tqdm import tqdm\n",
        "tqdm.pandas()\n",
        "def model_fn(model_dir, model_name = \"model.pt\"):\n",
        "    print(\"model_fn_sentiment\")\n",
        "    return torch.jit.load(os.path.join(model_dir, model_name), map_location=device)\n",
        "\n",
        "device = torch.device('cuda' if torch.cuda.is_available() else 'cpu')\n",
        "model_dir = \"model\"\n",
        "model = model_fn(model_dir)\n",
        "trainer = Trainer(\n",
        "    model=model\n",
        ")"
      ],
      "metadata": {
        "id": "XAJ7kdrODnYp",
        "colab": {
          "base_uri": "https://localhost:8080/"
        },
        "outputId": "8880b5fc-06f8-4340-d05e-108245fed5a7"
      },
      "execution_count": null,
      "outputs": [
        {
          "output_type": "stream",
          "name": "stdout",
          "text": [
            "model_fn_sentiment\n"
          ]
        }
      ]
    },
    {
      "cell_type": "code",
      "source": [
        "def show_confusion_matrix(confusion_matrix):\n",
        "\n",
        "  hmap = sns.heatmap(confusion_matrix, annot=True, fmt=\"d\", cmap=\"Blues\")\n",
        "  hmap.yaxis.set_ticklabels(hmap.yaxis.get_ticklabels(), rotation=0, ha='right')\n",
        "  hmap.xaxis.set_ticklabels(hmap.xaxis.get_ticklabels(), rotation=30, ha='right')\n",
        "  plt.ylabel('True label')\n",
        "  plt.xlabel('Predicted label')\n",
        "  plt.show()\n",
        "\n",
        "def evaluate_test(model_name = \"vinai/phobert-base\", path_test = \"test.csv\"):\n",
        "    data = pd.read_csv(path_test)\n",
        "    df = data[[\"comment\"]]\n",
        "    print(f\"Data contains {len(df)} rows\")\n",
        "    \n",
        "    with VnCoreNLP(\"VnCoreNLP-1.1.1.jar\", annotators=\"wseg\", max_heap_size='-Xmx500m') as rdrsegmenter:\n",
        "        df[\"comment\"] = df[\"comment\"].apply(str).progress_apply(lambda x: ' '.join([' '.join(sent) for sent in rdrsegmenter.tokenize(x)]))\n",
        "\n",
        "    test_dataset = BertDataset(df, model_name, 64) # do dai limit dua vao model\n",
        "    model_dir = \"model\"\n",
        "    model = model_fn(model_dir)\n",
        "    trainer = Trainer(\n",
        "        model=model\n",
        "    )\n",
        "    \n",
        "    class_names = [\"negative\",\"neutral\",\"positive\"]\n",
        "    predictions, *_ = trainer.predict(test_dataset)\n",
        "    predictions = predictions.argmax(-1)\n",
        "\n",
        "    print(classification_report(data[\"label\"].values, predictions, target_names=class_names))\n",
        "    # input_data[\"accuracy\"] = softmax(predictions, axis=1).max(-1)*100\n",
        "    cm = confusion_matrix(data[\"label\"].values, predictions)\n",
        "    \n",
        "    ax = sns.heatmap(cm/np.sum(cm), annot=True, fmt='.2%', cmap='Blues')\n",
        "    ax.set_xlabel('\\nPredicted Values')\n",
        "    ax.set_ylabel('Actual Values ');\n",
        "    ax.xaxis.set_ticklabels(class_names)\n",
        "    ax.yaxis.set_ticklabels(class_names)\n",
        "\n",
        "\n",
        "evaluate_test()"
      ],
      "metadata": {
        "id": "xPufrljRZZRY",
        "colab": {
          "base_uri": "https://localhost:8080/",
          "height": 564
        },
        "outputId": "280b7030-9276-4952-ddd7-fdfb20838d1f"
      },
      "execution_count": null,
      "outputs": [
        {
          "output_type": "stream",
          "name": "stdout",
          "text": [
            "Data contains 5119 rows\n"
          ]
        },
        {
          "output_type": "stream",
          "name": "stderr",
          "text": [
            "100%|██████████| 5119/5119 [00:16<00:00, 302.56it/s]\n",
            "Special tokens have been added in the vocabulary, make sure the associated word embedding are fine-tuned or trained.\n"
          ]
        },
        {
          "output_type": "stream",
          "name": "stdout",
          "text": [
            "model_fn_sentiment\n"
          ]
        },
        {
          "output_type": "display_data",
          "data": {
            "text/plain": [
              "<IPython.core.display.HTML object>"
            ],
            "text/html": [
              "\n",
              "    <div>\n",
              "        <style>\n",
              "            /* Turns off some styling */\n",
              "            progress {\n",
              "                /* gets rid of default border in Firefox and Opera. */\n",
              "                border: none;\n",
              "                /* Needs to be in here for Safari polyfill so background images work as expected. */\n",
              "                background-size: auto;\n",
              "            }\n",
              "        </style>\n",
              "      \n",
              "      <progress value='640' max='640' style='width:300px; height:20px; vertical-align: middle;'></progress>\n",
              "      [640/640 00:21]\n",
              "    </div>\n",
              "    "
            ]
          },
          "metadata": {}
        },
        {
          "output_type": "stream",
          "name": "stdout",
          "text": [
            "              precision    recall  f1-score   support\n",
            "\n",
            "    negative       0.90      0.93      0.91      1823\n",
            "     neutral       0.65      0.60      0.63       664\n",
            "    positive       0.93      0.92      0.93      2632\n",
            "\n",
            "    accuracy                           0.88      5119\n",
            "   macro avg       0.83      0.82      0.82      5119\n",
            "weighted avg       0.88      0.88      0.88      5119\n",
            "\n"
          ]
        },
        {
          "output_type": "display_data",
          "data": {
            "text/plain": [
              "<Figure size 432x288 with 2 Axes>"
            ],
            "image/png": "[encoded data removed]"
          },
          "metadata": {
            "needs_background": "light"
          }
        }
      ]
    },
    {
      "cell_type": "markdown",
      "source": [
        "## Clean Raw data"
      ],
      "metadata": {
        "id": "2yIcUT5n7dZ2"
      }
    },
    {
      "cell_type": "code",
      "source": [
        "df= pd.read_csv('Product 2022-12-02 00.31.34.csv')"
      ],
      "metadata": {
        "id": "eXG2EGpbCGY6"
      },
      "execution_count": null,
      "outputs": []
    },
    {
      "cell_type": "code",
      "source": [
        "raw = pd.read_csv(\"/content/df_quantityRatingComment.csv\",index_col = 0)\n",
        "raw[\"Date\"] = raw[\"Comments\"].str.extract(\"(\\d{4}-\\d{2}-\\d{2})\")\n",
        "raw = raw.drop([\"Links_y\",\"No_Page\"], axis = 1).rename(columns = {\"Links_x\":\"link\"})"
      ],
      "metadata": {
        "id": "VlnvmJKL7qJl"
      },
      "execution_count": null,
      "outputs": []
    },
    {
      "cell_type": "code",
      "source": [
        "def extract_comment(text):\n",
        "  cmts = text.split(\"\\n\")[2:-1] \n",
        "  processed = []\n",
        "  for cmt in cmts:\n",
        "    cmt = cmt.replace(\"Đúng với mô tả:\",\"mô tả\")\n",
        "    cmt = re.sub(r\":\\s\", \" \", cmt)\n",
        "    cmt = re.sub(r\"\\d:\\d{2}\", \"\", cmt)\n",
        "    cmt = cmt.lower()\n",
        "\n",
        "    if cmt != \"\":\n",
        "      prword = []\n",
        "      for word in cmt.split():\n",
        "        if not re.match(\"\\w{10}\",word):\n",
        "          prword.append(word)\n",
        "      cmt = \" \".join(prword)\n",
        "\n",
        "      processed.append(cmt)\n",
        "  text = \" , \".join(processed)\n",
        "  text = re.sub(r\"\\s+\", \" \", text)\n",
        "\n",
        "  return text\n",
        "raw[\"comment\"] = raw[\"Comments\"].apply(extract_comment)"
      ],
      "metadata": {
        "id": "PDcPkIxC736w"
      },
      "execution_count": null,
      "outputs": []
    },
    {
      "cell_type": "code",
      "source": [
        "raw[\"Date\"] = pd.to_datetime(raw[\"Date\"])"
      ],
      "metadata": {
        "id": "_cqW9O0Y7631"
      },
      "execution_count": null,
      "outputs": []
    },
    {
      "cell_type": "code",
      "source": [
        "raw[\"Date\"].max(), raw[\"Date\"].min()"
      ],
      "metadata": {
        "id": "Q5KpCNlf79R2",
        "colab": {
          "base_uri": "https://localhost:8080/"
        },
        "outputId": "bfdadaa8-0d10-4f8e-f493-d30ee0b85539"
      },
      "execution_count": null,
      "outputs": [
        {
          "output_type": "execute_result",
          "data": {
            "text/plain": [
              "(Timestamp('2022-10-23 00:00:00'), Timestamp('2020-12-21 00:00:00'))"
            ]
          },
          "metadata": {},
          "execution_count": 51
        }
      ]
    },
    {
      "cell_type": "code",
      "source": [
        "raw[\"Rating\"].value_counts()"
      ],
      "metadata": {
        "id": "sIQNeXHt8EdO",
        "colab": {
          "base_uri": "https://localhost:8080/"
        },
        "outputId": "c0721b9a-c81b-4b8c-97b1-86bce2d9d8ad"
      },
      "execution_count": null,
      "outputs": [
        {
          "output_type": "execute_result",
          "data": {
            "text/plain": [
              "4.9    1188\n",
              "4.7    1156\n",
              "4.6     979\n",
              "4.8     850\n",
              "4.3     432\n",
              "4.5     394\n",
              "5.0     226\n",
              "4.4     148\n",
              "0.0     137\n",
              "4.2     137\n",
              "4.1      26\n",
              "Name: Rating, dtype: int64"
            ]
          },
          "metadata": {},
          "execution_count": 52
        }
      ]
    },
    {
      "cell_type": "code",
      "source": [
        "raw.groupby([\"No_Item\",\"Quantity\"]).count()"
      ],
      "metadata": {
        "id": "h3cQBAnF8Hl-",
        "colab": {
          "base_uri": "https://localhost:8080/",
          "height": 1000
        },
        "outputId": "5b8aa0a5-a835-428a-82d3-189290e21cfc"
      },
      "execution_count": null,
      "outputs": [
        {
          "output_type": "execute_result",
          "data": {
            "text/plain": [
              "                  Comments  link  Rating  Date  comment\n",
              "No_Item Quantity                                       \n",
              "1       565             53    53      53    53       53\n",
              "2       5,6k           150   150     150   150      150\n",
              "3       394             46    46      46    46       46\n",
              "4       165             26    26      26    26       26\n",
              "5       3,2k           150   150     150   150      150\n",
              "6       320              3     3       3     3        3\n",
              "7       5,7k           150   150     150   150      150\n",
              "8       8,2k           150   150     150   150      150\n",
              "9       89               6     6       6     6        6\n",
              "10      1,1k           150   150     150   150      150\n",
              "11      3,9k           162   162     162   162      162\n",
              "12      1k             124   124     124   124      124\n",
              "13      233             44    44      44    44       44\n",
              "14      3,1k           156   156     156   156      156\n",
              "15      651             41    41      41    41       41\n",
              "16      509              4     4       4     4        4\n",
              "17      143             33    33      33    33       33\n",
              "18      357             17    17      17    17       17\n",
              "19      282             88    88      88    88       88\n",
              "20      3,3k             7     7       7     7        7\n",
              "21      179             36    36      36    36       36\n",
              "22      1,7k           150   150     150   150      150\n",
              "23      117             17    17      17    17       17\n",
              "24      182             34    34      34    34       34\n",
              "25      8,2k           150   150     150   150      150\n",
              "26      1,6k            22    22      22    22       22\n",
              "27      5,3k           132   132     132   132      132\n",
              "28      306             10    10      10    10       10\n",
              "29      514             48    48      48    48       48\n",
              "30      1,2k           150   150     150   150      150\n",
              "31      326             16    16      16    16       16\n",
              "32      402             89    89      89    89       89\n",
              "33      1,3k           156   156     156   156      156\n",
              "34      7,5k           147   147     147   147      147\n",
              "35      605             93    93      93    93       93\n",
              "36      145             17    17      17    17       17\n",
              "37      403             79    79      79    79       79\n",
              "38      229             52    52      52    52       52\n",
              "39      216             13    13      13    13       13\n",
              "40      682            130   130     130   130      130\n",
              "41      540            140   140     140   140      140\n",
              "42      1,6k           144   144     144   144      144\n",
              "43      901            138   138     138   138      138\n",
              "44      228             40    40      40    40       40\n",
              "45      2,6k           156   156     156   156      156\n",
              "46      735            151   151     151   151      151\n",
              "47      8k             162   162     162   162      162\n",
              "48      1,1k           156   156     156   156      156\n",
              "50      746            156   156     156   156      156\n",
              "51      711            132   132     132   132      132\n",
              "52      265             50    50      50    50       50\n",
              "53      572             73    73      73    73       73\n",
              "54      0              137   137     137   137      137\n",
              "        649            137   137     137   137      137\n",
              "55      1,4k           150   150     150   150      150\n",
              "56      500            130   130     130   130      130\n",
              "57      784             95    95      95    95       95\n",
              "58      552            113   113     113   113      113\n",
              "59      8,9k           156   156     156   156      156\n",
              "60      8,9k           156   156     156   156      156"
            ],
            "text/html": [
              "\n",
              "  <div id=\"df-de0c2c81-7d1b-4e0c-b438-f25332768d9c\">\n",
              "    <div class=\"colab-df-container\">\n",
              "      <div>\n",
              "<style scoped>\n",
              "    .dataframe tbody tr th:only-of-type {\n",
              "        vertical-align: middle;\n",
              "    }\n",
              "\n",
              "    .dataframe tbody tr th {\n",
              "        vertical-align: top;\n",
              "    }\n",
              "\n",
              "    .dataframe thead th {\n",
              "        text-align: right;\n",
              "    }\n",
              "</style>\n",
              "<table border=\"1\" class=\"dataframe\">\n",
              "  <thead>\n",
              "    <tr style=\"text-align: right;\">\n",
              "      <th></th>\n",
              "      <th></th>\n",
              "      <th>Comments</th>\n",
              "      <th>link</th>\n",
              "      <th>Rating</th>\n",
              "      <th>Date</th>\n",
              "      <th>comment</th>\n",
              "    </tr>\n",
              "    <tr>\n",
              "      <th>No_Item</th>\n",
              "      <th>Quantity</th>\n",
              "      <th></th>\n",
              "      <th></th>\n",
              "      <th></th>\n",
              "      <th></th>\n",
              "      <th></th>\n",
              "    </tr>\n",
              "  </thead>\n",
              "  <tbody>\n",
              "    <tr>\n",
              "      <th>1</th>\n",
              "      <th>565</th>\n",
              "      <td>53</td>\n",
              "      <td>53</td>\n",
              "      <td>53</td>\n",
              "      <td>53</td>\n",
              "      <td>53</td>\n",
              "    </tr>\n",
              "    <tr>\n",
              "      <th>2</th>\n",
              "      <th>5,6k</th>\n",
              "      <td>150</td>\n",
              "      <td>150</td>\n",
              "      <td>150</td>\n",
              "      <td>150</td>\n",
              "      <td>150</td>\n",
              "    </tr>\n",
              "    <tr>\n",
              "      <th>3</th>\n",
              "      <th>394</th>\n",
              "      <td>46</td>\n",
              "      <td>46</td>\n",
              "      <td>46</td>\n",
              "      <td>46</td>\n",
              "      <td>46</td>\n",
              "    </tr>\n",
              "    <tr>\n",
              "      <th>4</th>\n",
              "      <th>165</th>\n",
              "      <td>26</td>\n",
              "      <td>26</td>\n",
              "      <td>26</td>\n",
              "      <td>26</td>\n",
              "      <td>26</td>\n",
              "    </tr>\n",
              "    <tr>\n",
              "      <th>5</th>\n",
              "      <th>3,2k</th>\n",
              "      <td>150</td>\n",
              "      <td>150</td>\n",
              "      <td>150</td>\n",
              "      <td>150</td>\n",
              "      <td>150</td>\n",
              "    </tr>\n",
              "    <tr>\n",
              "      <th>6</th>\n",
              "      <th>320</th>\n",
              "      <td>3</td>\n",
              "      <td>3</td>\n",
              "      <td>3</td>\n",
              "      <td>3</td>\n",
              "      <td>3</td>\n",
              "    </tr>\n",
              "    <tr>\n",
              "      <th>7</th>\n",
              "      <th>5,7k</th>\n",
              "      <td>150</td>\n",
              "      <td>150</td>\n",
              "      <td>150</td>\n",
              "      <td>150</td>\n",
              "      <td>150</td>\n",
              "    </tr>\n",
              "    <tr>\n",
              "      <th>8</th>\n",
              "      <th>8,2k</th>\n",
              "      <td>150</td>\n",
              "      <td>150</td>\n",
              "      <td>150</td>\n",
              "      <td>150</td>\n",
              "      <td>150</td>\n",
              "    </tr>\n",
              "    <tr>\n",
              "      <th>9</th>\n",
              "      <th>89</th>\n",
              "      <td>6</td>\n",
              "      <td>6</td>\n",
              "      <td>6</td>\n",
              "      <td>6</td>\n",
              "      <td>6</td>\n",
              "    </tr>\n",
              "    <tr>\n",
              "      <th>10</th>\n",
              "      <th>1,1k</th>\n",
              "      <td>150</td>\n",
              "      <td>150</td>\n",
              "      <td>150</td>\n",
              "      <td>150</td>\n",
              "      <td>150</td>\n",
              "    </tr>\n",
              "    <tr>\n",
              "      <th>11</th>\n",
              "      <th>3,9k</th>\n",
              "      <td>162</td>\n",
              "      <td>162</td>\n",
              "      <td>162</td>\n",
              "      <td>162</td>\n",
              "      <td>162</td>\n",
              "    </tr>\n",
              "    <tr>\n",
              "      <th>12</th>\n",
              "      <th>1k</th>\n",
              "      <td>124</td>\n",
              "      <td>124</td>\n",
              "      <td>124</td>\n",
              "      <td>124</td>\n",
              "      <td>124</td>\n",
              "    </tr>\n",
              "    <tr>\n",
              "      <th>13</th>\n",
              "      <th>233</th>\n",
              "      <td>44</td>\n",
              "      <td>44</td>\n",
              "      <td>44</td>\n",
              "      <td>44</td>\n",
              "      <td>44</td>\n",
              "    </tr>\n",
              "    <tr>\n",
              "      <th>14</th>\n",
              "      <th>3,1k</th>\n",
              "      <td>156</td>\n",
              "      <td>156</td>\n",
              "      <td>156</td>\n",
              "      <td>156</td>\n",
              "      <td>156</td>\n",
              "    </tr>\n",
              "    <tr>\n",
              "      <th>15</th>\n",
              "      <th>651</th>\n",
              "      <td>41</td>\n",
              "      <td>41</td>\n",
              "      <td>41</td>\n",
              "      <td>41</td>\n",
              "      <td>41</td>\n",
              "    </tr>\n",
              "    <tr>\n",
              "      <th>16</th>\n",
              "      <th>509</th>\n",
              "      <td>4</td>\n",
              "      <td>4</td>\n",
              "      <td>4</td>\n",
              "      <td>4</td>\n",
              "      <td>4</td>\n",
              "    </tr>\n",
              "    <tr>\n",
              "      <th>17</th>\n",
              "      <th>143</th>\n",
              "      <td>33</td>\n",
              "      <td>33</td>\n",
              "      <td>33</td>\n",
              "      <td>33</td>\n",
              "      <td>33</td>\n",
              "    </tr>\n",
              "    <tr>\n",
              "      <th>18</th>\n",
              "      <th>357</th>\n",
              "      <td>17</td>\n",
              "      <td>17</td>\n",
              "      <td>17</td>\n",
              "      <td>17</td>\n",
              "      <td>17</td>\n",
              "    </tr>\n",
              "    <tr>\n",
              "      <th>19</th>\n",
              "      <th>282</th>\n",
              "      <td>88</td>\n",
              "      <td>88</td>\n",
              "      <td>88</td>\n",
              "      <td>88</td>\n",
              "      <td>88</td>\n",
              "    </tr>\n",
              "    <tr>\n",
              "      <th>20</th>\n",
              "      <th>3,3k</th>\n",
              "      <td>7</td>\n",
              "      <td>7</td>\n",
              "      <td>7</td>\n",
              "      <td>7</td>\n",
              "      <td>7</td>\n",
              "    </tr>\n",
              "    <tr>\n",
              "      <th>21</th>\n",
              "      <th>179</th>\n",
              "      <td>36</td>\n",
              "      <td>36</td>\n",
              "      <td>36</td>\n",
              "      <td>36</td>\n",
              "      <td>36</td>\n",
              "    </tr>\n",
              "    <tr>\n",
              "      <th>22</th>\n",
              "      <th>1,7k</th>\n",
              "      <td>150</td>\n",
              "      <td>150</td>\n",
              "      <td>150</td>\n",
              "      <td>150</td>\n",
              "      <td>150</td>\n",
              "    </tr>\n",
              "    <tr>\n",
              "      <th>23</th>\n",
              "      <th>117</th>\n",
              "      <td>17</td>\n",
              "      <td>17</td>\n",
              "      <td>17</td>\n",
              "      <td>17</td>\n",
              "      <td>17</td>\n",
              "    </tr>\n",
              "    <tr>\n",
              "      <th>24</th>\n",
              "      <th>182</th>\n",
              "      <td>34</td>\n",
              "      <td>34</td>\n",
              "      <td>34</td>\n",
              "      <td>34</td>\n",
              "      <td>34</td>\n",
              "    </tr>\n",
              "    <tr>\n",
              "      <th>25</th>\n",
              "      <th>8,2k</th>\n",
              "      <td>150</td>\n",
              "      <td>150</td>\n",
              "      <td>150</td>\n",
              "      <td>150</td>\n",
              "      <td>150</td>\n",
              "    </tr>\n",
              "    <tr>\n",
              "      <th>26</th>\n",
              "      <th>1,6k</th>\n",
              "      <td>22</td>\n",
              "      <td>22</td>\n",
              "      <td>22</td>\n",
              "      <td>22</td>\n",
              "      <td>22</td>\n",
              "    </tr>\n",
              "    <tr>\n",
              "      <th>27</th>\n",
              "      <th>5,3k</th>\n",
              "      <td>132</td>\n",
              "      <td>132</td>\n",
              "      <td>132</td>\n",
              "      <td>132</td>\n",
              "      <td>132</td>\n",
              "    </tr>\n",
              "    <tr>\n",
              "      <th>28</th>\n",
              "      <th>306</th>\n",
              "      <td>10</td>\n",
              "      <td>10</td>\n",
              "      <td>10</td>\n",
              "      <td>10</td>\n",
              "      <td>10</td>\n",
              "    </tr>\n",
              "    <tr>\n",
              "      <th>29</th>\n",
              "      <th>514</th>\n",
              "      <td>48</td>\n",
              "      <td>48</td>\n",
              "      <td>48</td>\n",
              "      <td>48</td>\n",
              "      <td>48</td>\n",
              "    </tr>\n",
              "    <tr>\n",
              "      <th>30</th>\n",
              "      <th>1,2k</th>\n",
              "      <td>150</td>\n",
              "      <td>150</td>\n",
              "      <td>150</td>\n",
              "      <td>150</td>\n",
              "      <td>150</td>\n",
              "    </tr>\n",
              "    <tr>\n",
              "      <th>31</th>\n",
              "      <th>326</th>\n",
              "      <td>16</td>\n",
              "      <td>16</td>\n",
              "      <td>16</td>\n",
              "      <td>16</td>\n",
              "      <td>16</td>\n",
              "    </tr>\n",
              "    <tr>\n",
              "      <th>32</th>\n",
              "      <th>402</th>\n",
              "      <td>89</td>\n",
              "      <td>89</td>\n",
              "      <td>89</td>\n",
              "      <td>89</td>\n",
              "      <td>89</td>\n",
              "    </tr>\n",
              "    <tr>\n",
              "      <th>33</th>\n",
              "      <th>1,3k</th>\n",
              "      <td>156</td>\n",
              "      <td>156</td>\n",
              "      <td>156</td>\n",
              "      <td>156</td>\n",
              "      <td>156</td>\n",
              "    </tr>\n",
              "    <tr>\n",
              "      <th>34</th>\n",
              "      <th>7,5k</th>\n",
              "      <td>147</td>\n",
              "      <td>147</td>\n",
              "      <td>147</td>\n",
              "      <td>147</td>\n",
              "      <td>147</td>\n",
              "    </tr>\n",
              "    <tr>\n",
              "      <th>35</th>\n",
              "      <th>605</th>\n",
              "      <td>93</td>\n",
              "      <td>93</td>\n",
              "      <td>93</td>\n",
              "      <td>93</td>\n",
              "      <td>93</td>\n",
              "    </tr>\n",
              "    <tr>\n",
              "      <th>36</th>\n",
              "      <th>145</th>\n",
              "      <td>17</td>\n",
              "      <td>17</td>\n",
              "      <td>17</td>\n",
              "      <td>17</td>\n",
              "      <td>17</td>\n",
              "    </tr>\n",
              "    <tr>\n",
              "      <th>37</th>\n",
              "      <th>403</th>\n",
              "      <td>79</td>\n",
              "      <td>79</td>\n",
              "      <td>79</td>\n",
              "      <td>79</td>\n",
              "      <td>79</td>\n",
              "    </tr>\n",
              "    <tr>\n",
              "      <th>38</th>\n",
              "      <th>229</th>\n",
              "      <td>52</td>\n",
              "      <td>52</td>\n",
              "      <td>52</td>\n",
              "      <td>52</td>\n",
              "      <td>52</td>\n",
              "    </tr>\n",
              "    <tr>\n",
              "      <th>39</th>\n",
              "      <th>216</th>\n",
              "      <td>13</td>\n",
              "      <td>13</td>\n",
              "      <td>13</td>\n",
              "      <td>13</td>\n",
              "      <td>13</td>\n",
              "    </tr>\n",
              "    <tr>\n",
              "      <th>40</th>\n",
              "      <th>682</th>\n",
              "      <td>130</td>\n",
              "      <td>130</td>\n",
              "      <td>130</td>\n",
              "      <td>130</td>\n",
              "      <td>130</td>\n",
              "    </tr>\n",
              "    <tr>\n",
              "      <th>41</th>\n",
              "      <th>540</th>\n",
              "      <td>140</td>\n",
              "      <td>140</td>\n",
              "      <td>140</td>\n",
              "      <td>140</td>\n",
              "      <td>140</td>\n",
              "    </tr>\n",
              "    <tr>\n",
              "      <th>42</th>\n",
              "      <th>1,6k</th>\n",
              "      <td>144</td>\n",
              "      <td>144</td>\n",
              "      <td>144</td>\n",
              "      <td>144</td>\n",
              "      <td>144</td>\n",
              "    </tr>\n",
              "    <tr>\n",
              "      <th>43</th>\n",
              "      <th>901</th>\n",
              "      <td>138</td>\n",
              "      <td>138</td>\n",
              "      <td>138</td>\n",
              "      <td>138</td>\n",
              "      <td>138</td>\n",
              "    </tr>\n",
              "    <tr>\n",
              "      <th>44</th>\n",
              "      <th>228</th>\n",
              "      <td>40</td>\n",
              "      <td>40</td>\n",
              "      <td>40</td>\n",
              "      <td>40</td>\n",
              "      <td>40</td>\n",
              "    </tr>\n",
              "    <tr>\n",
              "      <th>45</th>\n",
              "      <th>2,6k</th>\n",
              "      <td>156</td>\n",
              "      <td>156</td>\n",
              "      <td>156</td>\n",
              "      <td>156</td>\n",
              "      <td>156</td>\n",
              "    </tr>\n",
              "    <tr>\n",
              "      <th>46</th>\n",
              "      <th>735</th>\n",
              "      <td>151</td>\n",
              "      <td>151</td>\n",
              "      <td>151</td>\n",
              "      <td>151</td>\n",
              "      <td>151</td>\n",
              "    </tr>\n",
              "    <tr>\n",
              "      <th>47</th>\n",
              "      <th>8k</th>\n",
              "      <td>162</td>\n",
              "      <td>162</td>\n",
              "      <td>162</td>\n",
              "      <td>162</td>\n",
              "      <td>162</td>\n",
              "    </tr>\n",
              "    <tr>\n",
              "      <th>48</th>\n",
              "      <th>1,1k</th>\n",
              "      <td>156</td>\n",
              "      <td>156</td>\n",
              "      <td>156</td>\n",
              "      <td>156</td>\n",
              "      <td>156</td>\n",
              "    </tr>\n",
              "    <tr>\n",
              "      <th>50</th>\n",
              "      <th>746</th>\n",
              "      <td>156</td>\n",
              "      <td>156</td>\n",
              "      <td>156</td>\n",
              "      <td>156</td>\n",
              "      <td>156</td>\n",
              "    </tr>\n",
              "    <tr>\n",
              "      <th>51</th>\n",
              "      <th>711</th>\n",
              "      <td>132</td>\n",
              "      <td>132</td>\n",
              "      <td>132</td>\n",
              "      <td>132</td>\n",
              "      <td>132</td>\n",
              "    </tr>\n",
              "    <tr>\n",
              "      <th>52</th>\n",
              "      <th>265</th>\n",
              "      <td>50</td>\n",
              "      <td>50</td>\n",
              "      <td>50</td>\n",
              "      <td>50</td>\n",
              "      <td>50</td>\n",
              "    </tr>\n",
              "    <tr>\n",
              "      <th>53</th>\n",
              "      <th>572</th>\n",
              "      <td>73</td>\n",
              "      <td>73</td>\n",
              "      <td>73</td>\n",
              "      <td>73</td>\n",
              "      <td>73</td>\n",
              "    </tr>\n",
              "    <tr>\n",
              "      <th rowspan=\"2\" valign=\"top\">54</th>\n",
              "      <th>0</th>\n",
              "      <td>137</td>\n",
              "      <td>137</td>\n",
              "      <td>137</td>\n",
              "      <td>137</td>\n",
              "      <td>137</td>\n",
              "    </tr>\n",
              "    <tr>\n",
              "      <th>649</th>\n",
              "      <td>137</td>\n",
              "      <td>137</td>\n",
              "      <td>137</td>\n",
              "      <td>137</td>\n",
              "      <td>137</td>\n",
              "    </tr>\n",
              "    <tr>\n",
              "      <th>55</th>\n",
              "      <th>1,4k</th>\n",
              "      <td>150</td>\n",
              "      <td>150</td>\n",
              "      <td>150</td>\n",
              "      <td>150</td>\n",
              "      <td>150</td>\n",
              "    </tr>\n",
              "    <tr>\n",
              "      <th>56</th>\n",
              "      <th>500</th>\n",
              "      <td>130</td>\n",
              "      <td>130</td>\n",
              "      <td>130</td>\n",
              "      <td>130</td>\n",
              "      <td>130</td>\n",
              "    </tr>\n",
              "    <tr>\n",
              "      <th>57</th>\n",
              "      <th>784</th>\n",
              "      <td>95</td>\n",
              "      <td>95</td>\n",
              "      <td>95</td>\n",
              "      <td>95</td>\n",
              "      <td>95</td>\n",
              "    </tr>\n",
              "    <tr>\n",
              "      <th>58</th>\n",
              "      <th>552</th>\n",
              "      <td>113</td>\n",
              "      <td>113</td>\n",
              "      <td>113</td>\n",
              "      <td>113</td>\n",
              "      <td>113</td>\n",
              "    </tr>\n",
              "    <tr>\n",
              "      <th>59</th>\n",
              "      <th>8,9k</th>\n",
              "      <td>156</td>\n",
              "      <td>156</td>\n",
              "      <td>156</td>\n",
              "      <td>156</td>\n",
              "      <td>156</td>\n",
              "    </tr>\n",
              "    <tr>\n",
              "      <th>60</th>\n",
              "      <th>8,9k</th>\n",
              "      <td>156</td>\n",
              "      <td>156</td>\n",
              "      <td>156</td>\n",
              "      <td>156</td>\n",
              "      <td>156</td>\n",
              "    </tr>\n",
              "  </tbody>\n",
              "</table>\n",
              "</div>\n",
              "      <button class=\"colab-df-convert\" onclick=\"convertToInteractive('df-de0c2c81-7d1b-4e0c-b438-f25332768d9c')\"\n",
              "              title=\"Convert this dataframe to an interactive table.\"\n",
              "              style=\"display:none;\">\n",
              "        \n",
              "  <svg xmlns=\"http://www.w3.org/2000/svg\" height=\"24px\"viewBox=\"0 0 24 24\"\n",
              "       width=\"24px\">\n",
              "    <path d=\"M0 0h24v24H0V0z\" fill=\"none\"/>\n",
              "    <path d=\"M18.56 5.44l.94 2.06.94-2.06 2.06-.94-2.06-.94-.94-2.06-.94 2.06-2.06.94zm-11 1L8.5 8.5l.94-2.06 2.06-.94-2.06-.94L8.5 2.5l-.94 2.06-2.06.94zm10 10l.94 2.06.94-2.06 2.06-.94-2.06-.94-.94-2.06-.94 2.06-2.06.94z\"/><path d=\"M17.41 7.96l-1.37-1.37c-.4-.4-.92-.59-1.43-.59-.52 0-1.04.2-1.43.59L10.3 9.45l-7.72 7.72c-.78.78-.78 2.05 0 2.83L4 21.41c.39.39.9.59 1.41.59.51 0 1.02-.2 1.41-.59l7.78-7.78 2.81-2.81c.8-.78.8-2.07 0-2.86zM5.41 20L4 18.59l7.72-7.72 1.47 1.35L5.41 20z\"/>\n",
              "  </svg>\n",
              "      </button>\n",
              "      \n",
              "  <style>\n",
              "    .colab-df-container {\n",
              "      display:flex;\n",
              "      flex-wrap:wrap;\n",
              "      gap: 12px;\n",
              "    }\n",
              "\n",
              "    .colab-df-convert {\n",
              "      background-color: #E8F0FE;\n",
              "      border: none;\n",
              "      border-radius: 50%;\n",
              "      cursor: pointer;\n",
              "      display: none;\n",
              "      fill: #1967D2;\n",
              "      height: 32px;\n",
              "      padding: 0 0 0 0;\n",
              "      width: 32px;\n",
              "    }\n",
              "\n",
              "    .colab-df-convert:hover {\n",
              "      background-color: #E2EBFA;\n",
              "      box-shadow: 0px 1px 2px rgba(60, 64, 67, 0.3), 0px 1px 3px 1px rgba(60, 64, 67, 0.15);\n",
              "      fill: #174EA6;\n",
              "    }\n",
              "\n",
              "    [theme=dark] .colab-df-convert {\n",
              "      background-color: #3B4455;\n",
              "      fill: #D2E3FC;\n",
              "    }\n",
              "\n",
              "    [theme=dark] .colab-df-convert:hover {\n",
              "      background-color: #434B5C;\n",
              "      box-shadow: 0px 1px 3px 1px rgba(0, 0, 0, 0.15);\n",
              "      filter: drop-shadow(0px 1px 2px rgba(0, 0, 0, 0.3));\n",
              "      fill: #FFFFFF;\n",
              "    }\n",
              "  </style>\n",
              "\n",
              "      <script>\n",
              "        const buttonEl =\n",
              "          document.querySelector('#df-de0c2c81-7d1b-4e0c-b438-f25332768d9c button.colab-df-convert');\n",
              "        buttonEl.style.display =\n",
              "          google.colab.kernel.accessAllowed ? 'block' : 'none';\n",
              "\n",
              "        async function convertToInteractive(key) {\n",
              "          const element = document.querySelector('#df-de0c2c81-7d1b-4e0c-b438-f25332768d9c');\n",
              "          const dataTable =\n",
              "            await google.colab.kernel.invokeFunction('convertToInteractive',\n",
              "                                                     [key], {});\n",
              "          if (!dataTable) return;\n",
              "\n",
              "          const docLinkHtml = 'Like what you see? Visit the ' +\n",
              "            '<a target=\"_blank\" href=https://colab.research.google.com/notebooks/data_table.ipynb>data table notebook</a>'\n",
              "            + ' to learn more about interactive tables.';\n",
              "          element.innerHTML = '';\n",
              "          dataTable['output_type'] = 'display_data';\n",
              "          await google.colab.output.renderOutput(dataTable, element);\n",
              "          const docLink = document.createElement('div');\n",
              "          docLink.innerHTML = docLinkHtml;\n",
              "          element.appendChild(docLink);\n",
              "        }\n",
              "      </script>\n",
              "    </div>\n",
              "  </div>\n",
              "  "
            ]
          },
          "metadata": {},
          "execution_count": 53
        }
      ]
    },
    {
      "cell_type": "code",
      "source": [
        "raw[raw[\"Date\"] >= \"2022-11-21\"]"
      ],
      "metadata": {
        "id": "IYP6k0CQ8Pn0",
        "colab": {
          "base_uri": "https://localhost:8080/",
          "height": 49
        },
        "outputId": "2c2df4d3-a4d9-4fc6-8318-26a825d18330"
      },
      "execution_count": null,
      "outputs": [
        {
          "output_type": "execute_result",
          "data": {
            "text/plain": [
              "Empty DataFrame\n",
              "Columns: [No_Item, Comments, link, Quantity, Rating, Date, comment]\n",
              "Index: []"
            ],
            "text/html": [
              "\n",
              "  <div id=\"df-84db7953-735b-46a0-a335-b1de041b40f4\">\n",
              "    <div class=\"colab-df-container\">\n",
              "      <div>\n",
              "<style scoped>\n",
              "    .dataframe tbody tr th:only-of-type {\n",
              "        vertical-align: middle;\n",
              "    }\n",
              "\n",
              "    .dataframe tbody tr th {\n",
              "        vertical-align: top;\n",
              "    }\n",
              "\n",
              "    .dataframe thead th {\n",
              "        text-align: right;\n",
              "    }\n",
              "</style>\n",
              "<table border=\"1\" class=\"dataframe\">\n",
              "  <thead>\n",
              "    <tr style=\"text-align: right;\">\n",
              "      <th></th>\n",
              "      <th>No_Item</th>\n",
              "      <th>Comments</th>\n",
              "      <th>link</th>\n",
              "      <th>Quantity</th>\n",
              "      <th>Rating</th>\n",
              "      <th>Date</th>\n",
              "      <th>comment</th>\n",
              "    </tr>\n",
              "  </thead>\n",
              "  <tbody>\n",
              "  </tbody>\n",
              "</table>\n",
              "</div>\n",
              "      <button class=\"colab-df-convert\" onclick=\"convertToInteractive('df-84db7953-735b-46a0-a335-b1de041b40f4')\"\n",
              "              title=\"Convert this dataframe to an interactive table.\"\n",
              "              style=\"display:none;\">\n",
              "        \n",
              "  <svg xmlns=\"http://www.w3.org/2000/svg\" height=\"24px\"viewBox=\"0 0 24 24\"\n",
              "       width=\"24px\">\n",
              "    <path d=\"M0 0h24v24H0V0z\" fill=\"none\"/>\n",
              "    <path d=\"M18.56 5.44l.94 2.06.94-2.06 2.06-.94-2.06-.94-.94-2.06-.94 2.06-2.06.94zm-11 1L8.5 8.5l.94-2.06 2.06-.94-2.06-.94L8.5 2.5l-.94 2.06-2.06.94zm10 10l.94 2.06.94-2.06 2.06-.94-2.06-.94-.94-2.06-.94 2.06-2.06.94z\"/><path d=\"M17.41 7.96l-1.37-1.37c-.4-.4-.92-.59-1.43-.59-.52 0-1.04.2-1.43.59L10.3 9.45l-7.72 7.72c-.78.78-.78 2.05 0 2.83L4 21.41c.39.39.9.59 1.41.59.51 0 1.02-.2 1.41-.59l7.78-7.78 2.81-2.81c.8-.78.8-2.07 0-2.86zM5.41 20L4 18.59l7.72-7.72 1.47 1.35L5.41 20z\"/>\n",
              "  </svg>\n",
              "      </button>\n",
              "      \n",
              "  <style>\n",
              "    .colab-df-container {\n",
              "      display:flex;\n",
              "      flex-wrap:wrap;\n",
              "      gap: 12px;\n",
              "    }\n",
              "\n",
              "    .colab-df-convert {\n",
              "      background-color: #E8F0FE;\n",
              "      border: none;\n",
              "      border-radius: 50%;\n",
              "      cursor: pointer;\n",
              "      display: none;\n",
              "      fill: #1967D2;\n",
              "      height: 32px;\n",
              "      padding: 0 0 0 0;\n",
              "      width: 32px;\n",
              "    }\n",
              "\n",
              "    .colab-df-convert:hover {\n",
              "      background-color: #E2EBFA;\n",
              "      box-shadow: 0px 1px 2px rgba(60, 64, 67, 0.3), 0px 1px 3px 1px rgba(60, 64, 67, 0.15);\n",
              "      fill: #174EA6;\n",
              "    }\n",
              "\n",
              "    [theme=dark] .colab-df-convert {\n",
              "      background-color: #3B4455;\n",
              "      fill: #D2E3FC;\n",
              "    }\n",
              "\n",
              "    [theme=dark] .colab-df-convert:hover {\n",
              "      background-color: #434B5C;\n",
              "      box-shadow: 0px 1px 3px 1px rgba(0, 0, 0, 0.15);\n",
              "      filter: drop-shadow(0px 1px 2px rgba(0, 0, 0, 0.3));\n",
              "      fill: #FFFFFF;\n",
              "    }\n",
              "  </style>\n",
              "\n",
              "      <script>\n",
              "        const buttonEl =\n",
              "          document.querySelector('#df-84db7953-735b-46a0-a335-b1de041b40f4 button.colab-df-convert');\n",
              "        buttonEl.style.display =\n",
              "          google.colab.kernel.accessAllowed ? 'block' : 'none';\n",
              "\n",
              "        async function convertToInteractive(key) {\n",
              "          const element = document.querySelector('#df-84db7953-735b-46a0-a335-b1de041b40f4');\n",
              "          const dataTable =\n",
              "            await google.colab.kernel.invokeFunction('convertToInteractive',\n",
              "                                                     [key], {});\n",
              "          if (!dataTable) return;\n",
              "\n",
              "          const docLinkHtml = 'Like what you see? Visit the ' +\n",
              "            '<a target=\"_blank\" href=https://colab.research.google.com/notebooks/data_table.ipynb>data table notebook</a>'\n",
              "            + ' to learn more about interactive tables.';\n",
              "          element.innerHTML = '';\n",
              "          dataTable['output_type'] = 'display_data';\n",
              "          await google.colab.output.renderOutput(dataTable, element);\n",
              "          const docLink = document.createElement('div');\n",
              "          docLink.innerHTML = docLinkHtml;\n",
              "          element.appendChild(docLink);\n",
              "        }\n",
              "      </script>\n",
              "    </div>\n",
              "  </div>\n",
              "  "
            ]
          },
          "metadata": {},
          "execution_count": 54
        }
      ]
    },
    {
      "cell_type": "code",
      "source": [
        "def predict_bat(data, model_name = \"vinai/phobert-base\"):\n",
        "    df = data[[\"comment\"]]\n",
        "    print(f\"Data contains {len(df)} rows\")\n",
        "    \n",
        "    with VnCoreNLP(\"VnCoreNLP-1.1.1.jar\", annotators=\"wseg\", max_heap_size='-Xmx500m') as rdrsegmenter:\n",
        "        df[\"comment\"] = df[\"comment\"].apply(str).progress_apply(lambda x: ' '.join([' '.join(sent) for sent in rdrsegmenter.tokenize(x)]))\n",
        "\n",
        "    test_dataset = BertDataset(df, model_name, 64)\n",
        "    model_dir = \"model\"\n",
        "    model = model_fn(model_dir)\n",
        "    trainer = Trainer(\n",
        "        model=model\n",
        "    )\n",
        "    \n",
        "    class_names = [\"negative\",\"neutral\",\"positive\"]\n",
        "    predictions, *_ = trainer.predict(test_dataset)\n",
        "    predictions = predictions.argmax(-1)\n",
        "    \n",
        "    data[\"sentiment\"] = predictions\n",
        "    return data"
      ],
      "metadata": {
        "id": "fL6mzufUXtEs"
      },
      "execution_count": null,
      "outputs": []
    },
    {
      "cell_type": "code",
      "source": [
        "raw= predict_bat(raw)"
      ],
      "metadata": {
        "colab": {
          "base_uri": "https://localhost:8080/",
          "height": 109
        },
        "id": "e11bfoVwYKjN",
        "outputId": "bb50f67c-fb53-42c2-fae7-1315dc994ca9"
      },
      "execution_count": null,
      "outputs": [
        {
          "output_type": "stream",
          "name": "stdout",
          "text": [
            "Data contains 5673 rows\n"
          ]
        },
        {
          "output_type": "stream",
          "name": "stderr",
          "text": [
            "100%|██████████| 5673/5673 [00:21<00:00, 262.89it/s]\n",
            "Special tokens have been added in the vocabulary, make sure the associated word embedding are fine-tuned or trained.\n"
          ]
        },
        {
          "output_type": "stream",
          "name": "stdout",
          "text": [
            "model_fn_sentiment\n"
          ]
        },
        {
          "output_type": "display_data",
          "data": {
            "text/plain": [
              "<IPython.core.display.HTML object>"
            ],
            "text/html": [
              "\n",
              "    <div>\n",
              "        <style>\n",
              "            /* Turns off some styling */\n",
              "            progress {\n",
              "                /* gets rid of default border in Firefox and Opera. */\n",
              "                border: none;\n",
              "                /* Needs to be in here for Safari polyfill so background images work as expected. */\n",
              "                background-size: auto;\n",
              "            }\n",
              "        </style>\n",
              "      \n",
              "      <progress value='710' max='710' style='width:300px; height:20px; vertical-align: middle;'></progress>\n",
              "      [710/710 00:21]\n",
              "    </div>\n",
              "    "
            ]
          },
          "metadata": {}
        }
      ]
    },
    {
      "cell_type": "code",
      "source": [
        "raw[\"sentiment\"].value_counts()"
      ],
      "metadata": {
        "colab": {
          "base_uri": "https://localhost:8080/"
        },
        "id": "m5hqxGnjCRsA",
        "outputId": "1cf30fc2-5967-4d8c-c833-7536d7a828a8"
      },
      "execution_count": null,
      "outputs": [
        {
          "output_type": "execute_result",
          "data": {
            "text/plain": [
              "2    4337\n",
              "1     940\n",
              "0     396\n",
              "Name: sentiment, dtype: int64"
            ]
          },
          "metadata": {},
          "execution_count": 57
        }
      ]
    },
    {
      "cell_type": "code",
      "source": [
        "raw"
      ],
      "metadata": {
        "colab": {
          "base_uri": "https://localhost:8080/",
          "height": 641
        },
        "id": "D-RCwGi5i9dA",
        "outputId": "c22f22aa-2ca4-4c02-a709-245232b9c980"
      },
      "execution_count": null,
      "outputs": [
        {
          "output_type": "execute_result",
          "data": {
            "text/plain": [
              "      No_Item                                           Comments  \\\n",
              "0           1  q4fx40o_ew\\n2022-10-22 17:36 | Phân loại hàng:...   \n",
              "1           1  tuanluongminh730\\n2022-10-22 15:16 | Phân loại...   \n",
              "2           1  maionthngc\\n2022-10-20 22:56 | Phân loại hàng:...   \n",
              "3           1  mamaxu\\n2022-09-22 11:39 | Phân loại hàng: 2 d...   \n",
              "4           1  _*****c\\n2022-09-21 23:17 | Phân loại hàng: 2 ...   \n",
              "...       ...                                                ...   \n",
              "5668       60  huevo1677\\n2022-08-06 20:37 | Phân loại hàng: ...   \n",
              "5669       60  1z4opfhohag0cltfsiqkxdl2e0yd\\n2022-10-01 10:46...   \n",
              "5670       60  thanhanh99tq\\n2022-08-12 18:25 | Phân loại hàn...   \n",
              "5671       60  tamanh1993\\n2022-10-06 10:01 | Phân loại hàng:...   \n",
              "5672       60  b*****1\\n2022-09-11 00:41 | Phân loại hàng: #4...   \n",
              "\n",
              "                                                   link Quantity  Rating  \\\n",
              "0     https://shopee.vn/%C3%81o-Kho%C3%A1c-L%C3%B4ng...      565     4.4   \n",
              "1     https://shopee.vn/%C3%81o-Kho%C3%A1c-L%C3%B4ng...      565     4.4   \n",
              "2     https://shopee.vn/%C3%81o-Kho%C3%A1c-L%C3%B4ng...      565     4.4   \n",
              "3     https://shopee.vn/%C3%81o-Kho%C3%A1c-L%C3%B4ng...      565     4.4   \n",
              "4     https://shopee.vn/%C3%81o-Kho%C3%A1c-L%C3%B4ng...      565     4.4   \n",
              "...                                                 ...      ...     ...   \n",
              "5668  https://shopee.vn/%C3%81O-ch%E1%BB%91ng-n%E1%B...     8,9k     4.9   \n",
              "5669  https://shopee.vn/%C3%81O-ch%E1%BB%91ng-n%E1%B...     8,9k     4.9   \n",
              "5670  https://shopee.vn/%C3%81O-ch%E1%BB%91ng-n%E1%B...     8,9k     4.9   \n",
              "5671  https://shopee.vn/%C3%81O-ch%E1%BB%91ng-n%E1%B...     8,9k     4.9   \n",
              "5672  https://shopee.vn/%C3%81O-ch%E1%BB%91ng-n%E1%B...     8,9k     4.9   \n",
              "\n",
              "           Date                                            comment  sentiment  \n",
              "0    2022-10-22  chất liệu tốt , màu sắc đẹp r , mô tả lượng , ...          2  \n",
              "1    2022-10-22  chất liệu lông , màu sắc đen , mô tả k đúng , ...          1  \n",
              "2    2022-10-20  chất liệu nịt , màu sắc vàng , mô tả snwjwn zh...          2  \n",
              "3    2022-09-22  mua set váy mà shop tự thêm sản phẩm này nên k...          2  \n",
              "4    2022-09-21  giao hàng nhanh, giao giao đúng hàng ok nên mu...          2  \n",
              "...         ...                                                ...        ...  \n",
              "5668 2022-08-06  giao hàng nhanh, áo đẹp sẽ ủng hộ tiếp tục sho...          2  \n",
              "5669 2022-10-01  chất liệu vải mát , màu sắc đẹp , mô tả đúng ,...          2  \n",
              "5670 2022-08-12  chất liệu xanh than , màu sắc ok , mô tả áo tạ...          2  \n",
              "5671 2022-10-06  chất liệu thông hơi , màu sắc hồng đậm , mô tả...          2  \n",
              "5672 2022-09-11  lắp dễ, hàng giao nhanh, chất lượng tốt, shipp...          2  \n",
              "\n",
              "[5673 rows x 8 columns]"
            ],
            "text/html": [
              "\n",
              "  <div id=\"df-5d664ffb-fa48-488f-a097-5d52cf0d21c1\">\n",
              "    <div class=\"colab-df-container\">\n",
              "      <div>\n",
              "<style scoped>\n",
              "    .dataframe tbody tr th:only-of-type {\n",
              "        vertical-align: middle;\n",
              "    }\n",
              "\n",
              "    .dataframe tbody tr th {\n",
              "        vertical-align: top;\n",
              "    }\n",
              "\n",
              "    .dataframe thead th {\n",
              "        text-align: right;\n",
              "    }\n",
              "</style>\n",
              "<table border=\"1\" class=\"dataframe\">\n",
              "  <thead>\n",
              "    <tr style=\"text-align: right;\">\n",
              "      <th></th>\n",
              "      <th>No_Item</th>\n",
              "      <th>Comments</th>\n",
              "      <th>link</th>\n",
              "      <th>Quantity</th>\n",
              "      <th>Rating</th>\n",
              "      <th>Date</th>\n",
              "      <th>comment</th>\n",
              "      <th>sentiment</th>\n",
              "    </tr>\n",
              "  </thead>\n",
              "  <tbody>\n",
              "    <tr>\n",
              "      <th>0</th>\n",
              "      <td>1</td>\n",
              "      <td>q4fx40o_ew\\n2022-10-22 17:36 | Phân loại hàng:...</td>\n",
              "      <td>https://shopee.vn/%C3%81o-Kho%C3%A1c-L%C3%B4ng...</td>\n",
              "      <td>565</td>\n",
              "      <td>4.4</td>\n",
              "      <td>2022-10-22</td>\n",
              "      <td>chất liệu tốt , màu sắc đẹp r , mô tả lượng , ...</td>\n",
              "      <td>2</td>\n",
              "    </tr>\n",
              "    <tr>\n",
              "      <th>1</th>\n",
              "      <td>1</td>\n",
              "      <td>tuanluongminh730\\n2022-10-22 15:16 | Phân loại...</td>\n",
              "      <td>https://shopee.vn/%C3%81o-Kho%C3%A1c-L%C3%B4ng...</td>\n",
              "      <td>565</td>\n",
              "      <td>4.4</td>\n",
              "      <td>2022-10-22</td>\n",
              "      <td>chất liệu lông , màu sắc đen , mô tả k đúng , ...</td>\n",
              "      <td>1</td>\n",
              "    </tr>\n",
              "    <tr>\n",
              "      <th>2</th>\n",
              "      <td>1</td>\n",
              "      <td>maionthngc\\n2022-10-20 22:56 | Phân loại hàng:...</td>\n",
              "      <td>https://shopee.vn/%C3%81o-Kho%C3%A1c-L%C3%B4ng...</td>\n",
              "      <td>565</td>\n",
              "      <td>4.4</td>\n",
              "      <td>2022-10-20</td>\n",
              "      <td>chất liệu nịt , màu sắc vàng , mô tả snwjwn zh...</td>\n",
              "      <td>2</td>\n",
              "    </tr>\n",
              "    <tr>\n",
              "      <th>3</th>\n",
              "      <td>1</td>\n",
              "      <td>mamaxu\\n2022-09-22 11:39 | Phân loại hàng: 2 d...</td>\n",
              "      <td>https://shopee.vn/%C3%81o-Kho%C3%A1c-L%C3%B4ng...</td>\n",
              "      <td>565</td>\n",
              "      <td>4.4</td>\n",
              "      <td>2022-09-22</td>\n",
              "      <td>mua set váy mà shop tự thêm sản phẩm này nên k...</td>\n",
              "      <td>2</td>\n",
              "    </tr>\n",
              "    <tr>\n",
              "      <th>4</th>\n",
              "      <td>1</td>\n",
              "      <td>_*****c\\n2022-09-21 23:17 | Phân loại hàng: 2 ...</td>\n",
              "      <td>https://shopee.vn/%C3%81o-Kho%C3%A1c-L%C3%B4ng...</td>\n",
              "      <td>565</td>\n",
              "      <td>4.4</td>\n",
              "      <td>2022-09-21</td>\n",
              "      <td>giao hàng nhanh, giao giao đúng hàng ok nên mu...</td>\n",
              "      <td>2</td>\n",
              "    </tr>\n",
              "    <tr>\n",
              "      <th>...</th>\n",
              "      <td>...</td>\n",
              "      <td>...</td>\n",
              "      <td>...</td>\n",
              "      <td>...</td>\n",
              "      <td>...</td>\n",
              "      <td>...</td>\n",
              "      <td>...</td>\n",
              "      <td>...</td>\n",
              "    </tr>\n",
              "    <tr>\n",
              "      <th>5668</th>\n",
              "      <td>60</td>\n",
              "      <td>huevo1677\\n2022-08-06 20:37 | Phân loại hàng: ...</td>\n",
              "      <td>https://shopee.vn/%C3%81O-ch%E1%BB%91ng-n%E1%B...</td>\n",
              "      <td>8,9k</td>\n",
              "      <td>4.9</td>\n",
              "      <td>2022-08-06</td>\n",
              "      <td>giao hàng nhanh, áo đẹp sẽ ủng hộ tiếp tục sho...</td>\n",
              "      <td>2</td>\n",
              "    </tr>\n",
              "    <tr>\n",
              "      <th>5669</th>\n",
              "      <td>60</td>\n",
              "      <td>1z4opfhohag0cltfsiqkxdl2e0yd\\n2022-10-01 10:46...</td>\n",
              "      <td>https://shopee.vn/%C3%81O-ch%E1%BB%91ng-n%E1%B...</td>\n",
              "      <td>8,9k</td>\n",
              "      <td>4.9</td>\n",
              "      <td>2022-10-01</td>\n",
              "      <td>chất liệu vải mát , màu sắc đẹp , mô tả đúng ,...</td>\n",
              "      <td>2</td>\n",
              "    </tr>\n",
              "    <tr>\n",
              "      <th>5670</th>\n",
              "      <td>60</td>\n",
              "      <td>thanhanh99tq\\n2022-08-12 18:25 | Phân loại hàn...</td>\n",
              "      <td>https://shopee.vn/%C3%81O-ch%E1%BB%91ng-n%E1%B...</td>\n",
              "      <td>8,9k</td>\n",
              "      <td>4.9</td>\n",
              "      <td>2022-08-12</td>\n",
              "      <td>chất liệu xanh than , màu sắc ok , mô tả áo tạ...</td>\n",
              "      <td>2</td>\n",
              "    </tr>\n",
              "    <tr>\n",
              "      <th>5671</th>\n",
              "      <td>60</td>\n",
              "      <td>tamanh1993\\n2022-10-06 10:01 | Phân loại hàng:...</td>\n",
              "      <td>https://shopee.vn/%C3%81O-ch%E1%BB%91ng-n%E1%B...</td>\n",
              "      <td>8,9k</td>\n",
              "      <td>4.9</td>\n",
              "      <td>2022-10-06</td>\n",
              "      <td>chất liệu thông hơi , màu sắc hồng đậm , mô tả...</td>\n",
              "      <td>2</td>\n",
              "    </tr>\n",
              "    <tr>\n",
              "      <th>5672</th>\n",
              "      <td>60</td>\n",
              "      <td>b*****1\\n2022-09-11 00:41 | Phân loại hàng: #4...</td>\n",
              "      <td>https://shopee.vn/%C3%81O-ch%E1%BB%91ng-n%E1%B...</td>\n",
              "      <td>8,9k</td>\n",
              "      <td>4.9</td>\n",
              "      <td>2022-09-11</td>\n",
              "      <td>lắp dễ, hàng giao nhanh, chất lượng tốt, shipp...</td>\n",
              "      <td>2</td>\n",
              "    </tr>\n",
              "  </tbody>\n",
              "</table>\n",
              "<p>5673 rows × 8 columns</p>\n",
              "</div>\n",
              "      <button class=\"colab-df-convert\" onclick=\"convertToInteractive('df-5d664ffb-fa48-488f-a097-5d52cf0d21c1')\"\n",
              "              title=\"Convert this dataframe to an interactive table.\"\n",
              "              style=\"display:none;\">\n",
              "        \n",
              "  <svg xmlns=\"http://www.w3.org/2000/svg\" height=\"24px\"viewBox=\"0 0 24 24\"\n",
              "       width=\"24px\">\n",
              "    <path d=\"M0 0h24v24H0V0z\" fill=\"none\"/>\n",
              "    <path d=\"M18.56 5.44l.94 2.06.94-2.06 2.06-.94-2.06-.94-.94-2.06-.94 2.06-2.06.94zm-11 1L8.5 8.5l.94-2.06 2.06-.94-2.06-.94L8.5 2.5l-.94 2.06-2.06.94zm10 10l.94 2.06.94-2.06 2.06-.94-2.06-.94-.94-2.06-.94 2.06-2.06.94z\"/><path d=\"M17.41 7.96l-1.37-1.37c-.4-.4-.92-.59-1.43-.59-.52 0-1.04.2-1.43.59L10.3 9.45l-7.72 7.72c-.78.78-.78 2.05 0 2.83L4 21.41c.39.39.9.59 1.41.59.51 0 1.02-.2 1.41-.59l7.78-7.78 2.81-2.81c.8-.78.8-2.07 0-2.86zM5.41 20L4 18.59l7.72-7.72 1.47 1.35L5.41 20z\"/>\n",
              "  </svg>\n",
              "      </button>\n",
              "      \n",
              "  <style>\n",
              "    .colab-df-container {\n",
              "      display:flex;\n",
              "      flex-wrap:wrap;\n",
              "      gap: 12px;\n",
              "    }\n",
              "\n",
              "    .colab-df-convert {\n",
              "      background-color: #E8F0FE;\n",
              "      border: none;\n",
              "      border-radius: 50%;\n",
              "      cursor: pointer;\n",
              "      display: none;\n",
              "      fill: #1967D2;\n",
              "      height: 32px;\n",
              "      padding: 0 0 0 0;\n",
              "      width: 32px;\n",
              "    }\n",
              "\n",
              "    .colab-df-convert:hover {\n",
              "      background-color: #E2EBFA;\n",
              "      box-shadow: 0px 1px 2px rgba(60, 64, 67, 0.3), 0px 1px 3px 1px rgba(60, 64, 67, 0.15);\n",
              "      fill: #174EA6;\n",
              "    }\n",
              "\n",
              "    [theme=dark] .colab-df-convert {\n",
              "      background-color: #3B4455;\n",
              "      fill: #D2E3FC;\n",
              "    }\n",
              "\n",
              "    [theme=dark] .colab-df-convert:hover {\n",
              "      background-color: #434B5C;\n",
              "      box-shadow: 0px 1px 3px 1px rgba(0, 0, 0, 0.15);\n",
              "      filter: drop-shadow(0px 1px 2px rgba(0, 0, 0, 0.3));\n",
              "      fill: #FFFFFF;\n",
              "    }\n",
              "  </style>\n",
              "\n",
              "      <script>\n",
              "        const buttonEl =\n",
              "          document.querySelector('#df-5d664ffb-fa48-488f-a097-5d52cf0d21c1 button.colab-df-convert');\n",
              "        buttonEl.style.display =\n",
              "          google.colab.kernel.accessAllowed ? 'block' : 'none';\n",
              "\n",
              "        async function convertToInteractive(key) {\n",
              "          const element = document.querySelector('#df-5d664ffb-fa48-488f-a097-5d52cf0d21c1');\n",
              "          const dataTable =\n",
              "            await google.colab.kernel.invokeFunction('convertToInteractive',\n",
              "                                                     [key], {});\n",
              "          if (!dataTable) return;\n",
              "\n",
              "          const docLinkHtml = 'Like what you see? Visit the ' +\n",
              "            '<a target=\"_blank\" href=https://colab.research.google.com/notebooks/data_table.ipynb>data table notebook</a>'\n",
              "            + ' to learn more about interactive tables.';\n",
              "          element.innerHTML = '';\n",
              "          dataTable['output_type'] = 'display_data';\n",
              "          await google.colab.output.renderOutput(dataTable, element);\n",
              "          const docLink = document.createElement('div');\n",
              "          docLink.innerHTML = docLinkHtml;\n",
              "          element.appendChild(docLink);\n",
              "        }\n",
              "      </script>\n",
              "    </div>\n",
              "  </div>\n",
              "  "
            ]
          },
          "metadata": {},
          "execution_count": 58
        }
      ]
    },
    {
      "cell_type": "code",
      "source": [
        "da = raw.groupby([\"No_Item\",\"sentiment\",\"Date\"])[\"comment\"].count().reset_index()\n",
        "da[da[\"No_Item\"] == 1]"
      ],
      "metadata": {
        "colab": {
          "base_uri": "https://localhost:8080/",
          "height": 1000
        },
        "id": "dnwy1-5FiEWO",
        "outputId": "5b809bf6-50ca-4e1e-dd21-d75c38cdbfb6"
      },
      "execution_count": null,
      "outputs": [
        {
          "output_type": "execute_result",
          "data": {
            "text/plain": [
              "    No_Item  sentiment       Date  comment\n",
              "0         1          0 2022-10-07        1\n",
              "1         1          0 2022-10-12        1\n",
              "2         1          0 2022-10-14        1\n",
              "3         1          0 2022-10-17        1\n",
              "4         1          0 2022-10-19        1\n",
              "5         1          0 2022-10-21        2\n",
              "6         1          1 2022-09-26        1\n",
              "7         1          1 2022-10-02        1\n",
              "8         1          1 2022-10-10        1\n",
              "9         1          1 2022-10-12        1\n",
              "10        1          1 2022-10-18        2\n",
              "11        1          1 2022-10-22        1\n",
              "12        1          2 2022-09-10        1\n",
              "13        1          2 2022-09-16        2\n",
              "14        1          2 2022-09-21        1\n",
              "15        1          2 2022-09-22        1\n",
              "16        1          2 2022-09-27        1\n",
              "17        1          2 2022-10-05        1\n",
              "18        1          2 2022-10-06        3\n",
              "19        1          2 2022-10-07        2\n",
              "20        1          2 2022-10-08        1\n",
              "21        1          2 2022-10-09        2\n",
              "22        1          2 2022-10-10        5\n",
              "23        1          2 2022-10-13        4\n",
              "24        1          2 2022-10-16        1\n",
              "25        1          2 2022-10-17        3\n",
              "26        1          2 2022-10-18        2\n",
              "27        1          2 2022-10-19        1\n",
              "28        1          2 2022-10-20        2\n",
              "29        1          2 2022-10-21        3\n",
              "30        1          2 2022-10-22        3"
            ],
            "text/html": [
              "\n",
              "  <div id=\"df-2aecdf0c-2fa7-4c9f-8449-060c7e0e7c15\">\n",
              "    <div class=\"colab-df-container\">\n",
              "      <div>\n",
              "<style scoped>\n",
              "    .dataframe tbody tr th:only-of-type {\n",
              "        vertical-align: middle;\n",
              "    }\n",
              "\n",
              "    .dataframe tbody tr th {\n",
              "        vertical-align: top;\n",
              "    }\n",
              "\n",
              "    .dataframe thead th {\n",
              "        text-align: right;\n",
              "    }\n",
              "</style>\n",
              "<table border=\"1\" class=\"dataframe\">\n",
              "  <thead>\n",
              "    <tr style=\"text-align: right;\">\n",
              "      <th></th>\n",
              "      <th>No_Item</th>\n",
              "      <th>sentiment</th>\n",
              "      <th>Date</th>\n",
              "      <th>comment</th>\n",
              "    </tr>\n",
              "  </thead>\n",
              "  <tbody>\n",
              "    <tr>\n",
              "      <th>0</th>\n",
              "      <td>1</td>\n",
              "      <td>0</td>\n",
              "      <td>2022-10-07</td>\n",
              "      <td>1</td>\n",
              "    </tr>\n",
              "    <tr>\n",
              "      <th>1</th>\n",
              "      <td>1</td>\n",
              "      <td>0</td>\n",
              "      <td>2022-10-12</td>\n",
              "      <td>1</td>\n",
              "    </tr>\n",
              "    <tr>\n",
              "      <th>2</th>\n",
              "      <td>1</td>\n",
              "      <td>0</td>\n",
              "      <td>2022-10-14</td>\n",
              "      <td>1</td>\n",
              "    </tr>\n",
              "    <tr>\n",
              "      <th>3</th>\n",
              "      <td>1</td>\n",
              "      <td>0</td>\n",
              "      <td>2022-10-17</td>\n",
              "      <td>1</td>\n",
              "    </tr>\n",
              "    <tr>\n",
              "      <th>4</th>\n",
              "      <td>1</td>\n",
              "      <td>0</td>\n",
              "      <td>2022-10-19</td>\n",
              "      <td>1</td>\n",
              "    </tr>\n",
              "    <tr>\n",
              "      <th>5</th>\n",
              "      <td>1</td>\n",
              "      <td>0</td>\n",
              "      <td>2022-10-21</td>\n",
              "      <td>2</td>\n",
              "    </tr>\n",
              "    <tr>\n",
              "      <th>6</th>\n",
              "      <td>1</td>\n",
              "      <td>1</td>\n",
              "      <td>2022-09-26</td>\n",
              "      <td>1</td>\n",
              "    </tr>\n",
              "    <tr>\n",
              "      <th>7</th>\n",
              "      <td>1</td>\n",
              "      <td>1</td>\n",
              "      <td>2022-10-02</td>\n",
              "      <td>1</td>\n",
              "    </tr>\n",
              "    <tr>\n",
              "      <th>8</th>\n",
              "      <td>1</td>\n",
              "      <td>1</td>\n",
              "      <td>2022-10-10</td>\n",
              "      <td>1</td>\n",
              "    </tr>\n",
              "    <tr>\n",
              "      <th>9</th>\n",
              "      <td>1</td>\n",
              "      <td>1</td>\n",
              "      <td>2022-10-12</td>\n",
              "      <td>1</td>\n",
              "    </tr>\n",
              "    <tr>\n",
              "      <th>10</th>\n",
              "      <td>1</td>\n",
              "      <td>1</td>\n",
              "      <td>2022-10-18</td>\n",
              "      <td>2</td>\n",
              "    </tr>\n",
              "    <tr>\n",
              "      <th>11</th>\n",
              "      <td>1</td>\n",
              "      <td>1</td>\n",
              "      <td>2022-10-22</td>\n",
              "      <td>1</td>\n",
              "    </tr>\n",
              "    <tr>\n",
              "      <th>12</th>\n",
              "      <td>1</td>\n",
              "      <td>2</td>\n",
              "      <td>2022-09-10</td>\n",
              "      <td>1</td>\n",
              "    </tr>\n",
              "    <tr>\n",
              "      <th>13</th>\n",
              "      <td>1</td>\n",
              "      <td>2</td>\n",
              "      <td>2022-09-16</td>\n",
              "      <td>2</td>\n",
              "    </tr>\n",
              "    <tr>\n",
              "      <th>14</th>\n",
              "      <td>1</td>\n",
              "      <td>2</td>\n",
              "      <td>2022-09-21</td>\n",
              "      <td>1</td>\n",
              "    </tr>\n",
              "    <tr>\n",
              "      <th>15</th>\n",
              "      <td>1</td>\n",
              "      <td>2</td>\n",
              "      <td>2022-09-22</td>\n",
              "      <td>1</td>\n",
              "    </tr>\n",
              "    <tr>\n",
              "      <th>16</th>\n",
              "      <td>1</td>\n",
              "      <td>2</td>\n",
              "      <td>2022-09-27</td>\n",
              "      <td>1</td>\n",
              "    </tr>\n",
              "    <tr>\n",
              "      <th>17</th>\n",
              "      <td>1</td>\n",
              "      <td>2</td>\n",
              "      <td>2022-10-05</td>\n",
              "      <td>1</td>\n",
              "    </tr>\n",
              "    <tr>\n",
              "      <th>18</th>\n",
              "      <td>1</td>\n",
              "      <td>2</td>\n",
              "      <td>2022-10-06</td>\n",
              "      <td>3</td>\n",
              "    </tr>\n",
              "    <tr>\n",
              "      <th>19</th>\n",
              "      <td>1</td>\n",
              "      <td>2</td>\n",
              "      <td>2022-10-07</td>\n",
              "      <td>2</td>\n",
              "    </tr>\n",
              "    <tr>\n",
              "      <th>20</th>\n",
              "      <td>1</td>\n",
              "      <td>2</td>\n",
              "      <td>2022-10-08</td>\n",
              "      <td>1</td>\n",
              "    </tr>\n",
              "    <tr>\n",
              "      <th>21</th>\n",
              "      <td>1</td>\n",
              "      <td>2</td>\n",
              "      <td>2022-10-09</td>\n",
              "      <td>2</td>\n",
              "    </tr>\n",
              "    <tr>\n",
              "      <th>22</th>\n",
              "      <td>1</td>\n",
              "      <td>2</td>\n",
              "      <td>2022-10-10</td>\n",
              "      <td>5</td>\n",
              "    </tr>\n",
              "    <tr>\n",
              "      <th>23</th>\n",
              "      <td>1</td>\n",
              "      <td>2</td>\n",
              "      <td>2022-10-13</td>\n",
              "      <td>4</td>\n",
              "    </tr>\n",
              "    <tr>\n",
              "      <th>24</th>\n",
              "      <td>1</td>\n",
              "      <td>2</td>\n",
              "      <td>2022-10-16</td>\n",
              "      <td>1</td>\n",
              "    </tr>\n",
              "    <tr>\n",
              "      <th>25</th>\n",
              "      <td>1</td>\n",
              "      <td>2</td>\n",
              "      <td>2022-10-17</td>\n",
              "      <td>3</td>\n",
              "    </tr>\n",
              "    <tr>\n",
              "      <th>26</th>\n",
              "      <td>1</td>\n",
              "      <td>2</td>\n",
              "      <td>2022-10-18</td>\n",
              "      <td>2</td>\n",
              "    </tr>\n",
              "    <tr>\n",
              "      <th>27</th>\n",
              "      <td>1</td>\n",
              "      <td>2</td>\n",
              "      <td>2022-10-19</td>\n",
              "      <td>1</td>\n",
              "    </tr>\n",
              "    <tr>\n",
              "      <th>28</th>\n",
              "      <td>1</td>\n",
              "      <td>2</td>\n",
              "      <td>2022-10-20</td>\n",
              "      <td>2</td>\n",
              "    </tr>\n",
              "    <tr>\n",
              "      <th>29</th>\n",
              "      <td>1</td>\n",
              "      <td>2</td>\n",
              "      <td>2022-10-21</td>\n",
              "      <td>3</td>\n",
              "    </tr>\n",
              "    <tr>\n",
              "      <th>30</th>\n",
              "      <td>1</td>\n",
              "      <td>2</td>\n",
              "      <td>2022-10-22</td>\n",
              "      <td>3</td>\n",
              "    </tr>\n",
              "  </tbody>\n",
              "</table>\n",
              "</div>\n",
              "      <button class=\"colab-df-convert\" onclick=\"convertToInteractive('df-2aecdf0c-2fa7-4c9f-8449-060c7e0e7c15')\"\n",
              "              title=\"Convert this dataframe to an interactive table.\"\n",
              "              style=\"display:none;\">\n",
              "        \n",
              "  <svg xmlns=\"http://www.w3.org/2000/svg\" height=\"24px\"viewBox=\"0 0 24 24\"\n",
              "       width=\"24px\">\n",
              "    <path d=\"M0 0h24v24H0V0z\" fill=\"none\"/>\n",
              "    <path d=\"M18.56 5.44l.94 2.06.94-2.06 2.06-.94-2.06-.94-.94-2.06-.94 2.06-2.06.94zm-11 1L8.5 8.5l.94-2.06 2.06-.94-2.06-.94L8.5 2.5l-.94 2.06-2.06.94zm10 10l.94 2.06.94-2.06 2.06-.94-2.06-.94-.94-2.06-.94 2.06-2.06.94z\"/><path d=\"M17.41 7.96l-1.37-1.37c-.4-.4-.92-.59-1.43-.59-.52 0-1.04.2-1.43.59L10.3 9.45l-7.72 7.72c-.78.78-.78 2.05 0 2.83L4 21.41c.39.39.9.59 1.41.59.51 0 1.02-.2 1.41-.59l7.78-7.78 2.81-2.81c.8-.78.8-2.07 0-2.86zM5.41 20L4 18.59l7.72-7.72 1.47 1.35L5.41 20z\"/>\n",
              "  </svg>\n",
              "      </button>\n",
              "      \n",
              "  <style>\n",
              "    .colab-df-container {\n",
              "      display:flex;\n",
              "      flex-wrap:wrap;\n",
              "      gap: 12px;\n",
              "    }\n",
              "\n",
              "    .colab-df-convert {\n",
              "      background-color: #E8F0FE;\n",
              "      border: none;\n",
              "      border-radius: 50%;\n",
              "      cursor: pointer;\n",
              "      display: none;\n",
              "      fill: #1967D2;\n",
              "      height: 32px;\n",
              "      padding: 0 0 0 0;\n",
              "      width: 32px;\n",
              "    }\n",
              "\n",
              "    .colab-df-convert:hover {\n",
              "      background-color: #E2EBFA;\n",
              "      box-shadow: 0px 1px 2px rgba(60, 64, 67, 0.3), 0px 1px 3px 1px rgba(60, 64, 67, 0.15);\n",
              "      fill: #174EA6;\n",
              "    }\n",
              "\n",
              "    [theme=dark] .colab-df-convert {\n",
              "      background-color: #3B4455;\n",
              "      fill: #D2E3FC;\n",
              "    }\n",
              "\n",
              "    [theme=dark] .colab-df-convert:hover {\n",
              "      background-color: #434B5C;\n",
              "      box-shadow: 0px 1px 3px 1px rgba(0, 0, 0, 0.15);\n",
              "      filter: drop-shadow(0px 1px 2px rgba(0, 0, 0, 0.3));\n",
              "      fill: #FFFFFF;\n",
              "    }\n",
              "  </style>\n",
              "\n",
              "      <script>\n",
              "        const buttonEl =\n",
              "          document.querySelector('#df-2aecdf0c-2fa7-4c9f-8449-060c7e0e7c15 button.colab-df-convert');\n",
              "        buttonEl.style.display =\n",
              "          google.colab.kernel.accessAllowed ? 'block' : 'none';\n",
              "\n",
              "        async function convertToInteractive(key) {\n",
              "          const element = document.querySelector('#df-2aecdf0c-2fa7-4c9f-8449-060c7e0e7c15');\n",
              "          const dataTable =\n",
              "            await google.colab.kernel.invokeFunction('convertToInteractive',\n",
              "                                                     [key], {});\n",
              "          if (!dataTable) return;\n",
              "\n",
              "          const docLinkHtml = 'Like what you see? Visit the ' +\n",
              "            '<a target=\"_blank\" href=https://colab.research.google.com/notebooks/data_table.ipynb>data table notebook</a>'\n",
              "            + ' to learn more about interactive tables.';\n",
              "          element.innerHTML = '';\n",
              "          dataTable['output_type'] = 'display_data';\n",
              "          await google.colab.output.renderOutput(dataTable, element);\n",
              "          const docLink = document.createElement('div');\n",
              "          docLink.innerHTML = docLinkHtml;\n",
              "          element.appendChild(docLink);\n",
              "        }\n",
              "      </script>\n",
              "    </div>\n",
              "  </div>\n",
              "  "
            ]
          },
          "metadata": {},
          "execution_count": 59
        }
      ]
    },
    {
      "cell_type": "code",
      "source": [
        "cal = raw.groupby([\"No_Item\",\"sentiment\"])[\"comment\"].count().unstack('sentiment', fill_value=0).reset_index() # chuyen tu row-> col"
      ],
      "metadata": {
        "id": "9eYWLHZUYqoD"
      },
      "execution_count": null,
      "outputs": []
    },
    {
      "cell_type": "code",
      "source": [
        "cal.columns = [\"No_Item\",\"Negative\",\"Neutral\",\"Positive\"]"
      ],
      "metadata": {
        "id": "80fjN43vhlQM"
      },
      "execution_count": null,
      "outputs": []
    },
    {
      "cell_type": "code",
      "source": [
        "cal.info()"
      ],
      "metadata": {
        "colab": {
          "base_uri": "https://localhost:8080/"
        },
        "id": "8Bu01tF0klDt",
        "outputId": "36f44f4a-bd20-4357-b67e-3c573f90f0b3"
      },
      "execution_count": null,
      "outputs": [
        {
          "output_type": "stream",
          "name": "stdout",
          "text": [
            "<class 'pandas.core.frame.DataFrame'>\n",
            "RangeIndex: 59 entries, 0 to 58\n",
            "Data columns (total 4 columns):\n",
            " #   Column    Non-Null Count  Dtype\n",
            "---  ------    --------------  -----\n",
            " 0   No_Item   59 non-null     int64\n",
            " 1   Negative  59 non-null     int64\n",
            " 2   Neutral   59 non-null     int64\n",
            " 3   Positive  59 non-null     int64\n",
            "dtypes: int64(4)\n",
            "memory usage: 2.0 KB\n"
          ]
        }
      ]
    },
    {
      "cell_type": "code",
      "source": [
        "cal[\"Total\"] = cal[\"Negative\"] + cal[\"Neutral\"] + cal[\"Positive\"]\n",
        "cal[\"Negative\"] = cal[\"Negative\"]/cal[\"Total\"]\n",
        "cal[\"Neutral\"] = cal[\"Neutral\"]/cal[\"Total\"]\n",
        "cal[\"Positive\"] = cal[\"Positive\"]/cal[\"Total\"]"
      ],
      "metadata": {
        "id": "DzBKry8JhmaE"
      },
      "execution_count": null,
      "outputs": []
    },
    {
      "cell_type": "code",
      "source": [
        "cal.to_csv(\"60item.csv\",index= False)"
      ],
      "metadata": {
        "id": "y3aWuNTGj8TD"
      },
      "execution_count": null,
      "outputs": []
    },
    {
      "cell_type": "markdown",
      "source": [
        "##Quantity Sold Predicting"
      ],
      "metadata": {
        "id": "bYhqCScG0x_p"
      }
    },
    {
      "cell_type": "code",
      "source": [
        "import pandas as pd\n",
        "import numpy as np\n",
        "import matplotlib.pyplot as plt\n",
        "import matplotlib.pyplot as mp\n",
        "import seaborn as sns\n",
        "import seaborn as sb\n",
        "import math\n",
        "from math import sqrt\n",
        "from sklearn import model_selection\n",
        "from sklearn.linear_model import LogisticRegression\n",
        "from sklearn.model_selection import train_test_split\n",
        "from sklearn.linear_model import LinearRegression\n",
        "from sklearn.ensemble import RandomForestRegressor\n",
        "from sklearn.tree import DecisionTreeRegressor\n",
        "from sklearn.metrics import r2_score, mean_squared_error\n",
        "\n",
        "import matplotlib.pyplot as plt\n",
        "from matplotlib import style\n",
        "import matplotlib.pyplot as matplt\n",
        "import warnings\n",
        "warnings.filterwarnings(\"ignore\")"
      ],
      "metadata": {
        "id": "koHVw9Ws0ioU"
      },
      "execution_count": null,
      "outputs": []
    },
    {
      "cell_type": "code",
      "source": [
        "df= pd.read_csv('Product 2022-12-02 00.31.34.csv')\n",
        "df.head()"
      ],
      "metadata": {
        "colab": {
          "base_uri": "https://localhost:8080/",
          "height": 206
        },
        "id": "_h2wyid807cG",
        "outputId": "0c119253-953f-4ad7-ca84-12203fbf4e3d"
      },
      "execution_count": null,
      "outputs": [
        {
          "output_type": "execute_result",
          "data": {
            "text/plain": [
              "   Item            ID                                               Name  \\\n",
              "0   1.0  1.777896e+10  Áo Khoác Cardigan M Tay Hoa Màu Be Ulzzang Hàn...   \n",
              "1   NaN           NaN                                                NaN   \n",
              "2   NaN           NaN                                                NaN   \n",
              "3   NaN           NaN                                                NaN   \n",
              "4   NaN           NaN                                                NaN   \n",
              "\n",
              "                                                Link        Date  \\\n",
              "0  https://shopee.vn/hadesker-i.47462746.17778959353  21/11/2022   \n",
              "1                                                NaN  22/11/2022   \n",
              "2                                                NaN  23/11/2022   \n",
              "3                                                NaN  24/11/2022   \n",
              "4                                                NaN  25/11/2022   \n",
              "\n",
              "   Quantity sold  \n",
              "0              0  \n",
              "1             51  \n",
              "2             46  \n",
              "3             46  \n",
              "4             49  "
            ],
            "text/html": [
              "\n",
              "  <div id=\"df-5eaff869-0be5-4550-a38e-6e67aa049686\">\n",
              "    <div class=\"colab-df-container\">\n",
              "      <div>\n",
              "<style scoped>\n",
              "    .dataframe tbody tr th:only-of-type {\n",
              "        vertical-align: middle;\n",
              "    }\n",
              "\n",
              "    .dataframe tbody tr th {\n",
              "        vertical-align: top;\n",
              "    }\n",
              "\n",
              "    .dataframe thead th {\n",
              "        text-align: right;\n",
              "    }\n",
              "</style>\n",
              "<table border=\"1\" class=\"dataframe\">\n",
              "  <thead>\n",
              "    <tr style=\"text-align: right;\">\n",
              "      <th></th>\n",
              "      <th>Item</th>\n",
              "      <th>ID</th>\n",
              "      <th>Name</th>\n",
              "      <th>Link</th>\n",
              "      <th>Date</th>\n",
              "      <th>Quantity sold</th>\n",
              "    </tr>\n",
              "  </thead>\n",
              "  <tbody>\n",
              "    <tr>\n",
              "      <th>0</th>\n",
              "      <td>1.0</td>\n",
              "      <td>1.777896e+10</td>\n",
              "      <td>Áo Khoác Cardigan M Tay Hoa Màu Be Ulzzang Hàn...</td>\n",
              "      <td>https://shopee.vn/hadesker-i.47462746.17778959353</td>\n",
              "      <td>21/11/2022</td>\n",
              "      <td>0</td>\n",
              "    </tr>\n",
              "    <tr>\n",
              "      <th>1</th>\n",
              "      <td>NaN</td>\n",
              "      <td>NaN</td>\n",
              "      <td>NaN</td>\n",
              "      <td>NaN</td>\n",
              "      <td>22/11/2022</td>\n",
              "      <td>51</td>\n",
              "    </tr>\n",
              "    <tr>\n",
              "      <th>2</th>\n",
              "      <td>NaN</td>\n",
              "      <td>NaN</td>\n",
              "      <td>NaN</td>\n",
              "      <td>NaN</td>\n",
              "      <td>23/11/2022</td>\n",
              "      <td>46</td>\n",
              "    </tr>\n",
              "    <tr>\n",
              "      <th>3</th>\n",
              "      <td>NaN</td>\n",
              "      <td>NaN</td>\n",
              "      <td>NaN</td>\n",
              "      <td>NaN</td>\n",
              "      <td>24/11/2022</td>\n",
              "      <td>46</td>\n",
              "    </tr>\n",
              "    <tr>\n",
              "      <th>4</th>\n",
              "      <td>NaN</td>\n",
              "      <td>NaN</td>\n",
              "      <td>NaN</td>\n",
              "      <td>NaN</td>\n",
              "      <td>25/11/2022</td>\n",
              "      <td>49</td>\n",
              "    </tr>\n",
              "  </tbody>\n",
              "</table>\n",
              "</div>\n",
              "      <button class=\"colab-df-convert\" onclick=\"convertToInteractive('df-5eaff869-0be5-4550-a38e-6e67aa049686')\"\n",
              "              title=\"Convert this dataframe to an interactive table.\"\n",
              "              style=\"display:none;\">\n",
              "        \n",
              "  <svg xmlns=\"http://www.w3.org/2000/svg\" height=\"24px\"viewBox=\"0 0 24 24\"\n",
              "       width=\"24px\">\n",
              "    <path d=\"M0 0h24v24H0V0z\" fill=\"none\"/>\n",
              "    <path d=\"M18.56 5.44l.94 2.06.94-2.06 2.06-.94-2.06-.94-.94-2.06-.94 2.06-2.06.94zm-11 1L8.5 8.5l.94-2.06 2.06-.94-2.06-.94L8.5 2.5l-.94 2.06-2.06.94zm10 10l.94 2.06.94-2.06 2.06-.94-2.06-.94-.94-2.06-.94 2.06-2.06.94z\"/><path d=\"M17.41 7.96l-1.37-1.37c-.4-.4-.92-.59-1.43-.59-.52 0-1.04.2-1.43.59L10.3 9.45l-7.72 7.72c-.78.78-.78 2.05 0 2.83L4 21.41c.39.39.9.59 1.41.59.51 0 1.02-.2 1.41-.59l7.78-7.78 2.81-2.81c.8-.78.8-2.07 0-2.86zM5.41 20L4 18.59l7.72-7.72 1.47 1.35L5.41 20z\"/>\n",
              "  </svg>\n",
              "      </button>\n",
              "      \n",
              "  <style>\n",
              "    .colab-df-container {\n",
              "      display:flex;\n",
              "      flex-wrap:wrap;\n",
              "      gap: 12px;\n",
              "    }\n",
              "\n",
              "    .colab-df-convert {\n",
              "      background-color: #E8F0FE;\n",
              "      border: none;\n",
              "      border-radius: 50%;\n",
              "      cursor: pointer;\n",
              "      display: none;\n",
              "      fill: #1967D2;\n",
              "      height: 32px;\n",
              "      padding: 0 0 0 0;\n",
              "      width: 32px;\n",
              "    }\n",
              "\n",
              "    .colab-df-convert:hover {\n",
              "      background-color: #E2EBFA;\n",
              "      box-shadow: 0px 1px 2px rgba(60, 64, 67, 0.3), 0px 1px 3px 1px rgba(60, 64, 67, 0.15);\n",
              "      fill: #174EA6;\n",
              "    }\n",
              "\n",
              "    [theme=dark] .colab-df-convert {\n",
              "      background-color: #3B4455;\n",
              "      fill: #D2E3FC;\n",
              "    }\n",
              "\n",
              "    [theme=dark] .colab-df-convert:hover {\n",
              "      background-color: #434B5C;\n",
              "      box-shadow: 0px 1px 3px 1px rgba(0, 0, 0, 0.15);\n",
              "      filter: drop-shadow(0px 1px 2px rgba(0, 0, 0, 0.3));\n",
              "      fill: #FFFFFF;\n",
              "    }\n",
              "  </style>\n",
              "\n",
              "      <script>\n",
              "        const buttonEl =\n",
              "          document.querySelector('#df-5eaff869-0be5-4550-a38e-6e67aa049686 button.colab-df-convert');\n",
              "        buttonEl.style.display =\n",
              "          google.colab.kernel.accessAllowed ? 'block' : 'none';\n",
              "\n",
              "        async function convertToInteractive(key) {\n",
              "          const element = document.querySelector('#df-5eaff869-0be5-4550-a38e-6e67aa049686');\n",
              "          const dataTable =\n",
              "            await google.colab.kernel.invokeFunction('convertToInteractive',\n",
              "                                                     [key], {});\n",
              "          if (!dataTable) return;\n",
              "\n",
              "          const docLinkHtml = 'Like what you see? Visit the ' +\n",
              "            '<a target=\"_blank\" href=https://colab.research.google.com/notebooks/data_table.ipynb>data table notebook</a>'\n",
              "            + ' to learn more about interactive tables.';\n",
              "          element.innerHTML = '';\n",
              "          dataTable['output_type'] = 'display_data';\n",
              "          await google.colab.output.renderOutput(dataTable, element);\n",
              "          const docLink = document.createElement('div');\n",
              "          docLink.innerHTML = docLinkHtml;\n",
              "          element.appendChild(docLink);\n",
              "        }\n",
              "      </script>\n",
              "    </div>\n",
              "  </div>\n",
              "  "
            ]
          },
          "metadata": {},
          "execution_count": 66
        }
      ]
    },
    {
      "cell_type": "code",
      "source": [
        "df.info()"
      ],
      "metadata": {
        "colab": {
          "base_uri": "https://localhost:8080/"
        },
        "id": "TjPQQJkc0_CU",
        "outputId": "8c9f3392-8d3f-4ddb-f758-62eece6ff386"
      },
      "execution_count": null,
      "outputs": [
        {
          "output_type": "stream",
          "name": "stdout",
          "text": [
            "<class 'pandas.core.frame.DataFrame'>\n",
            "RangeIndex: 3300 entries, 0 to 3299\n",
            "Data columns (total 6 columns):\n",
            " #   Column         Non-Null Count  Dtype  \n",
            "---  ------         --------------  -----  \n",
            " 0   Item           300 non-null    float64\n",
            " 1   ID             300 non-null    float64\n",
            " 2   Name           300 non-null    object \n",
            " 3   Link           300 non-null    object \n",
            " 4   Date           3300 non-null   object \n",
            " 5   Quantity sold  3300 non-null   int64  \n",
            "dtypes: float64(2), int64(1), object(3)\n",
            "memory usage: 154.8+ KB\n"
          ]
        }
      ]
    },
    {
      "cell_type": "code",
      "source": [
        "df.Date = pd.to_datetime(df.Date, format='%d/%m/%Y')\n",
        "df = df.fillna(method='ffill') #fill values forward\n",
        "df = df[df[\"Date\"] != \"2022-11-21\"]\n",
        "df[\"Item\"] = df[\"Item\"].astype(int)\n",
        "df[\"Year\"]=df.Date.dt.year\n",
        "df[\"Month\"]=df.Date.dt.month\n",
        "df[\"Weekday\"]=df.Date.dt.day_name()"
      ],
      "metadata": {
        "id": "lI6uG8h31BIb"
      },
      "execution_count": null,
      "outputs": []
    },
    {
      "cell_type": "code",
      "source": [
        "df['label'] = df['Quantity sold'].shift(periods=-1)\n",
        "df = df.dropna()"
      ],
      "metadata": {
        "id": "Izj-xaRJ1Mco"
      },
      "execution_count": null,
      "outputs": []
    },
    {
      "cell_type": "code",
      "source": [
        "df.head()"
      ],
      "metadata": {
        "colab": {
          "base_uri": "https://localhost:8080/",
          "height": 354
        },
        "id": "1dcpvSwMn8tU",
        "outputId": "81e7bf93-0006-448a-9d17-a3171c39d866"
      },
      "execution_count": null,
      "outputs": [
        {
          "output_type": "execute_result",
          "data": {
            "text/plain": [
              "   Item            ID                                               Name  \\\n",
              "1     1  1.777896e+10  Áo Khoác Cardigan M Tay Hoa Màu Be Ulzzang Hàn...   \n",
              "2     1  1.777896e+10  Áo Khoác Cardigan M Tay Hoa Màu Be Ulzzang Hàn...   \n",
              "3     1  1.777896e+10  Áo Khoác Cardigan M Tay Hoa Màu Be Ulzzang Hàn...   \n",
              "4     1  1.777896e+10  Áo Khoác Cardigan M Tay Hoa Màu Be Ulzzang Hàn...   \n",
              "5     1  1.777896e+10  Áo Khoác Cardigan M Tay Hoa Màu Be Ulzzang Hàn...   \n",
              "\n",
              "                                                Link       Date  \\\n",
              "1  https://shopee.vn/hadesker-i.47462746.17778959353 2022-11-22   \n",
              "2  https://shopee.vn/hadesker-i.47462746.17778959353 2022-11-23   \n",
              "3  https://shopee.vn/hadesker-i.47462746.17778959353 2022-11-24   \n",
              "4  https://shopee.vn/hadesker-i.47462746.17778959353 2022-11-25   \n",
              "5  https://shopee.vn/hadesker-i.47462746.17778959353 2022-11-26   \n",
              "\n",
              "   Quantity sold  Year  Month    Weekday  label  \n",
              "1             51  2022     11    Tuesday   46.0  \n",
              "2             46  2022     11  Wednesday   46.0  \n",
              "3             46  2022     11   Thursday   49.0  \n",
              "4             49  2022     11     Friday   28.0  \n",
              "5             28  2022     11   Saturday   40.0  "
            ],
            "text/html": [
              "\n",
              "  <div id=\"df-5435d75e-c749-4dc0-81b4-ab643dc8383b\">\n",
              "    <div class=\"colab-df-container\">\n",
              "      <div>\n",
              "<style scoped>\n",
              "    .dataframe tbody tr th:only-of-type {\n",
              "        vertical-align: middle;\n",
              "    }\n",
              "\n",
              "    .dataframe tbody tr th {\n",
              "        vertical-align: top;\n",
              "    }\n",
              "\n",
              "    .dataframe thead th {\n",
              "        text-align: right;\n",
              "    }\n",
              "</style>\n",
              "<table border=\"1\" class=\"dataframe\">\n",
              "  <thead>\n",
              "    <tr style=\"text-align: right;\">\n",
              "      <th></th>\n",
              "      <th>Item</th>\n",
              "      <th>ID</th>\n",
              "      <th>Name</th>\n",
              "      <th>Link</th>\n",
              "      <th>Date</th>\n",
              "      <th>Quantity sold</th>\n",
              "      <th>Year</th>\n",
              "      <th>Month</th>\n",
              "      <th>Weekday</th>\n",
              "      <th>label</th>\n",
              "    </tr>\n",
              "  </thead>\n",
              "  <tbody>\n",
              "    <tr>\n",
              "      <th>1</th>\n",
              "      <td>1</td>\n",
              "      <td>1.777896e+10</td>\n",
              "      <td>Áo Khoác Cardigan M Tay Hoa Màu Be Ulzzang Hàn...</td>\n",
              "      <td>https://shopee.vn/hadesker-i.47462746.17778959353</td>\n",
              "      <td>2022-11-22</td>\n",
              "      <td>51</td>\n",
              "      <td>2022</td>\n",
              "      <td>11</td>\n",
              "      <td>Tuesday</td>\n",
              "      <td>46.0</td>\n",
              "    </tr>\n",
              "    <tr>\n",
              "      <th>2</th>\n",
              "      <td>1</td>\n",
              "      <td>1.777896e+10</td>\n",
              "      <td>Áo Khoác Cardigan M Tay Hoa Màu Be Ulzzang Hàn...</td>\n",
              "      <td>https://shopee.vn/hadesker-i.47462746.17778959353</td>\n",
              "      <td>2022-11-23</td>\n",
              "      <td>46</td>\n",
              "      <td>2022</td>\n",
              "      <td>11</td>\n",
              "      <td>Wednesday</td>\n",
              "      <td>46.0</td>\n",
              "    </tr>\n",
              "    <tr>\n",
              "      <th>3</th>\n",
              "      <td>1</td>\n",
              "      <td>1.777896e+10</td>\n",
              "      <td>Áo Khoác Cardigan M Tay Hoa Màu Be Ulzzang Hàn...</td>\n",
              "      <td>https://shopee.vn/hadesker-i.47462746.17778959353</td>\n",
              "      <td>2022-11-24</td>\n",
              "      <td>46</td>\n",
              "      <td>2022</td>\n",
              "      <td>11</td>\n",
              "      <td>Thursday</td>\n",
              "      <td>49.0</td>\n",
              "    </tr>\n",
              "    <tr>\n",
              "      <th>4</th>\n",
              "      <td>1</td>\n",
              "      <td>1.777896e+10</td>\n",
              "      <td>Áo Khoác Cardigan M Tay Hoa Màu Be Ulzzang Hàn...</td>\n",
              "      <td>https://shopee.vn/hadesker-i.47462746.17778959353</td>\n",
              "      <td>2022-11-25</td>\n",
              "      <td>49</td>\n",
              "      <td>2022</td>\n",
              "      <td>11</td>\n",
              "      <td>Friday</td>\n",
              "      <td>28.0</td>\n",
              "    </tr>\n",
              "    <tr>\n",
              "      <th>5</th>\n",
              "      <td>1</td>\n",
              "      <td>1.777896e+10</td>\n",
              "      <td>Áo Khoác Cardigan M Tay Hoa Màu Be Ulzzang Hàn...</td>\n",
              "      <td>https://shopee.vn/hadesker-i.47462746.17778959353</td>\n",
              "      <td>2022-11-26</td>\n",
              "      <td>28</td>\n",
              "      <td>2022</td>\n",
              "      <td>11</td>\n",
              "      <td>Saturday</td>\n",
              "      <td>40.0</td>\n",
              "    </tr>\n",
              "  </tbody>\n",
              "</table>\n",
              "</div>\n",
              "      <button class=\"colab-df-convert\" onclick=\"convertToInteractive('df-5435d75e-c749-4dc0-81b4-ab643dc8383b')\"\n",
              "              title=\"Convert this dataframe to an interactive table.\"\n",
              "              style=\"display:none;\">\n",
              "        \n",
              "  <svg xmlns=\"http://www.w3.org/2000/svg\" height=\"24px\"viewBox=\"0 0 24 24\"\n",
              "       width=\"24px\">\n",
              "    <path d=\"M0 0h24v24H0V0z\" fill=\"none\"/>\n",
              "    <path d=\"M18.56 5.44l.94 2.06.94-2.06 2.06-.94-2.06-.94-.94-2.06-.94 2.06-2.06.94zm-11 1L8.5 8.5l.94-2.06 2.06-.94-2.06-.94L8.5 2.5l-.94 2.06-2.06.94zm10 10l.94 2.06.94-2.06 2.06-.94-2.06-.94-.94-2.06-.94 2.06-2.06.94z\"/><path d=\"M17.41 7.96l-1.37-1.37c-.4-.4-.92-.59-1.43-.59-.52 0-1.04.2-1.43.59L10.3 9.45l-7.72 7.72c-.78.78-.78 2.05 0 2.83L4 21.41c.39.39.9.59 1.41.59.51 0 1.02-.2 1.41-.59l7.78-7.78 2.81-2.81c.8-.78.8-2.07 0-2.86zM5.41 20L4 18.59l7.72-7.72 1.47 1.35L5.41 20z\"/>\n",
              "  </svg>\n",
              "      </button>\n",
              "      \n",
              "  <style>\n",
              "    .colab-df-container {\n",
              "      display:flex;\n",
              "      flex-wrap:wrap;\n",
              "      gap: 12px;\n",
              "    }\n",
              "\n",
              "    .colab-df-convert {\n",
              "      background-color: #E8F0FE;\n",
              "      border: none;\n",
              "      border-radius: 50%;\n",
              "      cursor: pointer;\n",
              "      display: none;\n",
              "      fill: #1967D2;\n",
              "      height: 32px;\n",
              "      padding: 0 0 0 0;\n",
              "      width: 32px;\n",
              "    }\n",
              "\n",
              "    .colab-df-convert:hover {\n",
              "      background-color: #E2EBFA;\n",
              "      box-shadow: 0px 1px 2px rgba(60, 64, 67, 0.3), 0px 1px 3px 1px rgba(60, 64, 67, 0.15);\n",
              "      fill: #174EA6;\n",
              "    }\n",
              "\n",
              "    [theme=dark] .colab-df-convert {\n",
              "      background-color: #3B4455;\n",
              "      fill: #D2E3FC;\n",
              "    }\n",
              "\n",
              "    [theme=dark] .colab-df-convert:hover {\n",
              "      background-color: #434B5C;\n",
              "      box-shadow: 0px 1px 3px 1px rgba(0, 0, 0, 0.15);\n",
              "      filter: drop-shadow(0px 1px 2px rgba(0, 0, 0, 0.3));\n",
              "      fill: #FFFFFF;\n",
              "    }\n",
              "  </style>\n",
              "\n",
              "      <script>\n",
              "        const buttonEl =\n",
              "          document.querySelector('#df-5435d75e-c749-4dc0-81b4-ab643dc8383b button.colab-df-convert');\n",
              "        buttonEl.style.display =\n",
              "          google.colab.kernel.accessAllowed ? 'block' : 'none';\n",
              "\n",
              "        async function convertToInteractive(key) {\n",
              "          const element = document.querySelector('#df-5435d75e-c749-4dc0-81b4-ab643dc8383b');\n",
              "          const dataTable =\n",
              "            await google.colab.kernel.invokeFunction('convertToInteractive',\n",
              "                                                     [key], {});\n",
              "          if (!dataTable) return;\n",
              "\n",
              "          const docLinkHtml = 'Like what you see? Visit the ' +\n",
              "            '<a target=\"_blank\" href=https://colab.research.google.com/notebooks/data_table.ipynb>data table notebook</a>'\n",
              "            + ' to learn more about interactive tables.';\n",
              "          element.innerHTML = '';\n",
              "          dataTable['output_type'] = 'display_data';\n",
              "          await google.colab.output.renderOutput(dataTable, element);\n",
              "          const docLink = document.createElement('div');\n",
              "          docLink.innerHTML = docLinkHtml;\n",
              "          element.appendChild(docLink);\n",
              "        }\n",
              "      </script>\n",
              "    </div>\n",
              "  </div>\n",
              "  "
            ]
          },
          "metadata": {},
          "execution_count": 70
        }
      ]
    },
    {
      "cell_type": "code",
      "source": [
        "df[df[\"Date\"] > \"2022-11-27\"].head()"
      ],
      "metadata": {
        "colab": {
          "base_uri": "https://localhost:8080/",
          "height": 354
        },
        "id": "bRNrbepk1RMZ",
        "outputId": "41beb285-1d9d-4049-d4b0-3baea7fad582"
      },
      "execution_count": null,
      "outputs": [
        {
          "output_type": "execute_result",
          "data": {
            "text/plain": [
              "    Item            ID                                               Name  \\\n",
              "7      1  1.777896e+10  Áo Khoác Cardigan M Tay Hoa Màu Be Ulzzang Hàn...   \n",
              "8      1  1.777896e+10  Áo Khoác Cardigan M Tay Hoa Màu Be Ulzzang Hàn...   \n",
              "9      1  1.777896e+10  Áo Khoác Cardigan M Tay Hoa Màu Be Ulzzang Hàn...   \n",
              "10     1  1.777896e+10  Áo Khoác Cardigan M Tay Hoa Màu Be Ulzzang Hàn...   \n",
              "18     2  1.845127e+10          Áo Khoác Cardigan W Xanh Mặt Cười Ulzzang   \n",
              "\n",
              "                                                 Link       Date  \\\n",
              "7   https://shopee.vn/hadesker-i.47462746.17778959353 2022-11-28   \n",
              "8   https://shopee.vn/hadesker-i.47462746.17778959353 2022-11-29   \n",
              "9   https://shopee.vn/hadesker-i.47462746.17778959353 2022-11-30   \n",
              "10  https://shopee.vn/hadesker-i.47462746.17778959353 2022-12-01   \n",
              "18  https://shopee.vn/hadesker-i.47462746.18451274874 2022-11-28   \n",
              "\n",
              "    Quantity sold  Year  Month    Weekday  label  \n",
              "7              63  2022     11     Monday   32.0  \n",
              "8              32  2022     11    Tuesday   31.0  \n",
              "9              31  2022     11  Wednesday   48.0  \n",
              "10             48  2022     12   Thursday   42.0  \n",
              "18             12  2022     11     Monday   20.0  "
            ],
            "text/html": [
              "\n",
              "  <div id=\"df-76190136-cde6-490f-9c6f-d006fd58ed31\">\n",
              "    <div class=\"colab-df-container\">\n",
              "      <div>\n",
              "<style scoped>\n",
              "    .dataframe tbody tr th:only-of-type {\n",
              "        vertical-align: middle;\n",
              "    }\n",
              "\n",
              "    .dataframe tbody tr th {\n",
              "        vertical-align: top;\n",
              "    }\n",
              "\n",
              "    .dataframe thead th {\n",
              "        text-align: right;\n",
              "    }\n",
              "</style>\n",
              "<table border=\"1\" class=\"dataframe\">\n",
              "  <thead>\n",
              "    <tr style=\"text-align: right;\">\n",
              "      <th></th>\n",
              "      <th>Item</th>\n",
              "      <th>ID</th>\n",
              "      <th>Name</th>\n",
              "      <th>Link</th>\n",
              "      <th>Date</th>\n",
              "      <th>Quantity sold</th>\n",
              "      <th>Year</th>\n",
              "      <th>Month</th>\n",
              "      <th>Weekday</th>\n",
              "      <th>label</th>\n",
              "    </tr>\n",
              "  </thead>\n",
              "  <tbody>\n",
              "    <tr>\n",
              "      <th>7</th>\n",
              "      <td>1</td>\n",
              "      <td>1.777896e+10</td>\n",
              "      <td>Áo Khoác Cardigan M Tay Hoa Màu Be Ulzzang Hàn...</td>\n",
              "      <td>https://shopee.vn/hadesker-i.47462746.17778959353</td>\n",
              "      <td>2022-11-28</td>\n",
              "      <td>63</td>\n",
              "      <td>2022</td>\n",
              "      <td>11</td>\n",
              "      <td>Monday</td>\n",
              "      <td>32.0</td>\n",
              "    </tr>\n",
              "    <tr>\n",
              "      <th>8</th>\n",
              "      <td>1</td>\n",
              "      <td>1.777896e+10</td>\n",
              "      <td>Áo Khoác Cardigan M Tay Hoa Màu Be Ulzzang Hàn...</td>\n",
              "      <td>https://shopee.vn/hadesker-i.47462746.17778959353</td>\n",
              "      <td>2022-11-29</td>\n",
              "      <td>32</td>\n",
              "      <td>2022</td>\n",
              "      <td>11</td>\n",
              "      <td>Tuesday</td>\n",
              "      <td>31.0</td>\n",
              "    </tr>\n",
              "    <tr>\n",
              "      <th>9</th>\n",
              "      <td>1</td>\n",
              "      <td>1.777896e+10</td>\n",
              "      <td>Áo Khoác Cardigan M Tay Hoa Màu Be Ulzzang Hàn...</td>\n",
              "      <td>https://shopee.vn/hadesker-i.47462746.17778959353</td>\n",
              "      <td>2022-11-30</td>\n",
              "      <td>31</td>\n",
              "      <td>2022</td>\n",
              "      <td>11</td>\n",
              "      <td>Wednesday</td>\n",
              "      <td>48.0</td>\n",
              "    </tr>\n",
              "    <tr>\n",
              "      <th>10</th>\n",
              "      <td>1</td>\n",
              "      <td>1.777896e+10</td>\n",
              "      <td>Áo Khoác Cardigan M Tay Hoa Màu Be Ulzzang Hàn...</td>\n",
              "      <td>https://shopee.vn/hadesker-i.47462746.17778959353</td>\n",
              "      <td>2022-12-01</td>\n",
              "      <td>48</td>\n",
              "      <td>2022</td>\n",
              "      <td>12</td>\n",
              "      <td>Thursday</td>\n",
              "      <td>42.0</td>\n",
              "    </tr>\n",
              "    <tr>\n",
              "      <th>18</th>\n",
              "      <td>2</td>\n",
              "      <td>1.845127e+10</td>\n",
              "      <td>Áo Khoác Cardigan W Xanh Mặt Cười Ulzzang</td>\n",
              "      <td>https://shopee.vn/hadesker-i.47462746.18451274874</td>\n",
              "      <td>2022-11-28</td>\n",
              "      <td>12</td>\n",
              "      <td>2022</td>\n",
              "      <td>11</td>\n",
              "      <td>Monday</td>\n",
              "      <td>20.0</td>\n",
              "    </tr>\n",
              "  </tbody>\n",
              "</table>\n",
              "</div>\n",
              "      <button class=\"colab-df-convert\" onclick=\"convertToInteractive('df-76190136-cde6-490f-9c6f-d006fd58ed31')\"\n",
              "              title=\"Convert this dataframe to an interactive table.\"\n",
              "              style=\"display:none;\">\n",
              "        \n",
              "  <svg xmlns=\"http://www.w3.org/2000/svg\" height=\"24px\"viewBox=\"0 0 24 24\"\n",
              "       width=\"24px\">\n",
              "    <path d=\"M0 0h24v24H0V0z\" fill=\"none\"/>\n",
              "    <path d=\"M18.56 5.44l.94 2.06.94-2.06 2.06-.94-2.06-.94-.94-2.06-.94 2.06-2.06.94zm-11 1L8.5 8.5l.94-2.06 2.06-.94-2.06-.94L8.5 2.5l-.94 2.06-2.06.94zm10 10l.94 2.06.94-2.06 2.06-.94-2.06-.94-.94-2.06-.94 2.06-2.06.94z\"/><path d=\"M17.41 7.96l-1.37-1.37c-.4-.4-.92-.59-1.43-.59-.52 0-1.04.2-1.43.59L10.3 9.45l-7.72 7.72c-.78.78-.78 2.05 0 2.83L4 21.41c.39.39.9.59 1.41.59.51 0 1.02-.2 1.41-.59l7.78-7.78 2.81-2.81c.8-.78.8-2.07 0-2.86zM5.41 20L4 18.59l7.72-7.72 1.47 1.35L5.41 20z\"/>\n",
              "  </svg>\n",
              "      </button>\n",
              "      \n",
              "  <style>\n",
              "    .colab-df-container {\n",
              "      display:flex;\n",
              "      flex-wrap:wrap;\n",
              "      gap: 12px;\n",
              "    }\n",
              "\n",
              "    .colab-df-convert {\n",
              "      background-color: #E8F0FE;\n",
              "      border: none;\n",
              "      border-radius: 50%;\n",
              "      cursor: pointer;\n",
              "      display: none;\n",
              "      fill: #1967D2;\n",
              "      height: 32px;\n",
              "      padding: 0 0 0 0;\n",
              "      width: 32px;\n",
              "    }\n",
              "\n",
              "    .colab-df-convert:hover {\n",
              "      background-color: #E2EBFA;\n",
              "      box-shadow: 0px 1px 2px rgba(60, 64, 67, 0.3), 0px 1px 3px 1px rgba(60, 64, 67, 0.15);\n",
              "      fill: #174EA6;\n",
              "    }\n",
              "\n",
              "    [theme=dark] .colab-df-convert {\n",
              "      background-color: #3B4455;\n",
              "      fill: #D2E3FC;\n",
              "    }\n",
              "\n",
              "    [theme=dark] .colab-df-convert:hover {\n",
              "      background-color: #434B5C;\n",
              "      box-shadow: 0px 1px 3px 1px rgba(0, 0, 0, 0.15);\n",
              "      filter: drop-shadow(0px 1px 2px rgba(0, 0, 0, 0.3));\n",
              "      fill: #FFFFFF;\n",
              "    }\n",
              "  </style>\n",
              "\n",
              "      <script>\n",
              "        const buttonEl =\n",
              "          document.querySelector('#df-76190136-cde6-490f-9c6f-d006fd58ed31 button.colab-df-convert');\n",
              "        buttonEl.style.display =\n",
              "          google.colab.kernel.accessAllowed ? 'block' : 'none';\n",
              "\n",
              "        async function convertToInteractive(key) {\n",
              "          const element = document.querySelector('#df-76190136-cde6-490f-9c6f-d006fd58ed31');\n",
              "          const dataTable =\n",
              "            await google.colab.kernel.invokeFunction('convertToInteractive',\n",
              "                                                     [key], {});\n",
              "          if (!dataTable) return;\n",
              "\n",
              "          const docLinkHtml = 'Like what you see? Visit the ' +\n",
              "            '<a target=\"_blank\" href=https://colab.research.google.com/notebooks/data_table.ipynb>data table notebook</a>'\n",
              "            + ' to learn more about interactive tables.';\n",
              "          element.innerHTML = '';\n",
              "          dataTable['output_type'] = 'display_data';\n",
              "          await google.colab.output.renderOutput(dataTable, element);\n",
              "          const docLink = document.createElement('div');\n",
              "          docLink.innerHTML = docLinkHtml;\n",
              "          element.appendChild(docLink);\n",
              "        }\n",
              "      </script>\n",
              "    </div>\n",
              "  </div>\n",
              "  "
            ]
          },
          "metadata": {},
          "execution_count": 71
        }
      ]
    },
    {
      "cell_type": "markdown",
      "source": [
        "### Split dataset"
      ],
      "metadata": {
        "id": "XatU-7P81a7_"
      }
    },
    {
      "cell_type": "code",
      "source": [
        "train_size = df[\"Item\"].nunique()*0.7\n",
        "test_size = df[\"Item\"].nunique()*0.2\n",
        "train , test = df[df[\"Item\"] <= train_size],df[df[\"Item\"] > train_size] "
      ],
      "metadata": {
        "id": "HnTQYZA51XlI"
      },
      "execution_count": null,
      "outputs": []
    },
    {
      "cell_type": "code",
      "source": [
        "df.shape,train.shape, test.shape"
      ],
      "metadata": {
        "colab": {
          "base_uri": "https://localhost:8080/"
        },
        "id": "InMR2uXInbVm",
        "outputId": "ee8c13c0-7e91-4e32-b48a-02b87da29372"
      },
      "execution_count": null,
      "outputs": [
        {
          "output_type": "execute_result",
          "data": {
            "text/plain": [
              "((2999, 10), (2100, 10), (899, 10))"
            ]
          },
          "metadata": {},
          "execution_count": 73
        }
      ]
    },
    {
      "cell_type": "code",
      "source": [
        "### split dataset by date\n",
        "train, test = df[df[\"Date\"] <= \"2022-11-27\"],df[df[\"Date\"] > \"2022-11-27\"]\n",
        "X_train ,y_train = train[[\"Quantity sold\",\"Item\"]], train[\"label\"]\n",
        "X_test ,y_test = test[[\"Quantity sold\",\"Item\"]], test[\"label\"]"
      ],
      "metadata": {
        "id": "ucZnSjMI1fTe"
      },
      "execution_count": null,
      "outputs": []
    },
    {
      "cell_type": "code",
      "source": [
        "train[\"Quantity sold\"]"
      ],
      "metadata": {
        "id": "nZQRQyx21mJZ",
        "colab": {
          "base_uri": "https://localhost:8080/"
        },
        "outputId": "36a7a609-5563-41ce-8147-8c6a88e1de29"
      },
      "execution_count": null,
      "outputs": [
        {
          "output_type": "execute_result",
          "data": {
            "text/plain": [
              "1       51\n",
              "2       46\n",
              "3       46\n",
              "4       49\n",
              "5       28\n",
              "        ..\n",
              "3291     3\n",
              "3292    10\n",
              "3293     6\n",
              "3294     7\n",
              "3295    12\n",
              "Name: Quantity sold, Length: 1800, dtype: int64"
            ]
          },
          "metadata": {},
          "execution_count": 75
        }
      ]
    },
    {
      "cell_type": "code",
      "source": [
        "X_train ,y_train = train[[\"Quantity sold\"]], train[\"label\"]\n",
        "X_test ,y_test = test[[\"Quantity sold\"]], test[\"label\"]"
      ],
      "metadata": {
        "id": "Pk42RmtV1oVW"
      },
      "execution_count": null,
      "outputs": []
    },
    {
      "cell_type": "code",
      "source": [
        "X_train ,y_train = train[[\"Quantity sold\",\"Item\"]], train[\"label\"]\n",
        "X_test ,y_test = test[[\"Quantity sold\",\"Item\"]], test[\"label\"]"
      ],
      "metadata": {
        "id": "V5vp6Qrd1qKC"
      },
      "execution_count": null,
      "outputs": []
    },
    {
      "cell_type": "markdown",
      "source": [
        "### Training models"
      ],
      "metadata": {
        "id": "Kh6f1zlS1tJ5"
      }
    },
    {
      "cell_type": "code",
      "source": [
        "clf = LinearRegression(n_jobs=-1)\n",
        "DTRmodel = DecisionTreeRegressor(max_depth=3, random_state=0)\n",
        "RFRmodel = RandomForestRegressor(max_depth=3, random_state=0)"
      ],
      "metadata": {
        "id": "UMEDtQ3V1ucU"
      },
      "execution_count": null,
      "outputs": []
    },
    {
      "cell_type": "code",
      "source": [
        "clf.fit(X_train, y_train)\n",
        "DTRmodel.fit(X_train, y_train)\n",
        "RFRmodel.fit(X_train, y_train)"
      ],
      "metadata": {
        "colab": {
          "base_uri": "https://localhost:8080/"
        },
        "id": "V8uYTRRK1xF5",
        "outputId": "a999d6b3-f553-45d6-d32b-94a49ea0523a"
      },
      "execution_count": null,
      "outputs": [
        {
          "output_type": "execute_result",
          "data": {
            "text/plain": [
              "RandomForestRegressor(max_depth=3, random_state=0)"
            ]
          },
          "metadata": {},
          "execution_count": 94
        }
      ]
    },
    {
      "cell_type": "code",
      "source": [
        "confidence0 = clf.score(X_train, y_train)\n",
        "y_pred0 = clf.predict(X_train)\n",
        "print(\"R2 score  :\", r2_score(y_train, y_pred0))\n",
        "print(\"MSE score  :\", mean_squared_error(y_train, y_pred0))\n",
        "print(\"RMSE: \", sqrt(mean_squared_error(y_train, y_pred0)))"
      ],
      "metadata": {
        "colab": {
          "base_uri": "https://localhost:8080/"
        },
        "id": "CNDuMQwRn_zd",
        "outputId": "8678db4c-7a6f-4ab4-edfd-1f6486072515"
      },
      "execution_count": null,
      "outputs": [
        {
          "output_type": "stream",
          "name": "stdout",
          "text": [
            "R2 score  : 0.5928463875276739\n",
            "MSE score  : 104.70414840542611\n",
            "RMSE:  10.232504503073825\n"
          ]
        }
      ]
    },
    {
      "cell_type": "code",
      "source": [
        "confidence0 = DTRmodel.score(X_train, y_train)\n",
        "y_pred0 = DTRmodel.predict(X_train)\n",
        "print(\"R2 score  :\", r2_score(y_train, y_pred0))\n",
        "print(\"MSE score  :\", mean_squared_error(y_train, y_pred0))\n",
        "print(\"RMSE: \", sqrt(mean_squared_error(y_train, y_pred0)))"
      ],
      "metadata": {
        "colab": {
          "base_uri": "https://localhost:8080/"
        },
        "id": "bsosyGc1oGbu",
        "outputId": "aee94e74-1f74-4920-bf0b-cad05fc40a65"
      },
      "execution_count": null,
      "outputs": [
        {
          "output_type": "stream",
          "name": "stdout",
          "text": [
            "R2 score  : 0.6120462153694113\n",
            "MSE score  : 99.76669590072426\n",
            "RMSE:  9.988327983237447\n"
          ]
        }
      ]
    },
    {
      "cell_type": "code",
      "source": [
        "confidence0 = RFRmodel.score(X_train, y_train)\n",
        "y_pred0 = RFRmodel.predict(X_train)\n",
        "print(\"R2 score  :\", r2_score(y_train, y_pred0))\n",
        "print(\"MSE score  :\", mean_squared_error(y_train, y_pred0))\n",
        "print(\"RMSE: \", sqrt(mean_squared_error(y_train, y_pred0)))"
      ],
      "metadata": {
        "colab": {
          "base_uri": "https://localhost:8080/"
        },
        "id": "n0jYnQNuoOCU",
        "outputId": "66431b5d-8633-4d0d-8059-a72f26db261c"
      },
      "execution_count": null,
      "outputs": [
        {
          "output_type": "stream",
          "name": "stdout",
          "text": [
            "R2 score  : 0.6184975150722933\n",
            "MSE score  : 98.10767134388243\n",
            "RMSE:  9.904931667804803\n"
          ]
        }
      ]
    },
    {
      "cell_type": "markdown",
      "source": [
        "### Test Models"
      ],
      "metadata": {
        "id": "3di76cXb2C2M"
      }
    },
    {
      "cell_type": "code",
      "source": [
        "confidence0 = clf.score(X_test, y_test)\n",
        "y_pred0 = clf.predict(X_test)\n",
        "print(\"R2 score  :\", r2_score(y_test, y_pred0))\n",
        "print(\"MSE score  :\", mean_squared_error(y_test, y_pred0))\n",
        "print(\"RMSE: \", sqrt(mean_squared_error(y_test, y_pred0)))"
      ],
      "metadata": {
        "colab": {
          "base_uri": "https://localhost:8080/"
        },
        "id": "X-T416122IFe",
        "outputId": "98e4663c-8e5f-488b-9f61-ef631b735dcc"
      },
      "execution_count": null,
      "outputs": [
        {
          "output_type": "stream",
          "name": "stdout",
          "text": [
            "R2 score  : 0.6325342738592785\n",
            "MSE score  : 147.81678288468532\n",
            "RMSE:  12.157992551596884\n"
          ]
        }
      ]
    },
    {
      "cell_type": "code",
      "source": [
        "confidence1 = DTRmodel.score(X_test, y_test)\n",
        "y_pred1 = DTRmodel.predict(X_test)\n",
        "print(\"R2 score  :\", r2_score(y_test, y_pred1))\n",
        "print(\"MSE score  :\", mean_squared_error(y_test, y_pred1))\n",
        "print(\"RMSE: \", sqrt(mean_squared_error(y_test, y_pred1)))"
      ],
      "metadata": {
        "colab": {
          "base_uri": "https://localhost:8080/"
        },
        "id": "unFG3R-A2MVn",
        "outputId": "c6aecadc-1aab-4fdd-cca4-f6bc96c36d6b"
      },
      "execution_count": null,
      "outputs": [
        {
          "output_type": "stream",
          "name": "stdout",
          "text": [
            "R2 score  : 0.45063487476982034\n",
            "MSE score  : 220.9876450068427\n",
            "RMSE:  14.865653198122265\n"
          ]
        }
      ]
    },
    {
      "cell_type": "code",
      "source": [
        "y_pred2 = RFRmodel.predict(X_test)\n",
        "confidence2 = RFRmodel.score(X_test, y_test)\n",
        "print(\"R2 score  :\", r2_score(y_test, y_pred2))\n",
        "print(\"MSE score  :\", mean_squared_error(y_test, y_pred2))\n",
        "print(\"RMSE: \", sqrt(mean_squared_error(y_test, y_pred2)))"
      ],
      "metadata": {
        "colab": {
          "base_uri": "https://localhost:8080/"
        },
        "id": "ua45xAhb2P6T",
        "outputId": "200ef6e4-9b59-4167-b8ef-931d6e59877a"
      },
      "execution_count": null,
      "outputs": [
        {
          "output_type": "stream",
          "name": "stdout",
          "text": [
            "R2 score  : 0.44657374989313947\n",
            "MSE score  : 222.62127331952524\n",
            "RMSE:  14.92049842731553\n"
          ]
        }
      ]
    },
    {
      "cell_type": "code",
      "source": [
        "X_train.shape"
      ],
      "metadata": {
        "colab": {
          "base_uri": "https://localhost:8080/"
        },
        "id": "oOQIVHhV2SQg",
        "outputId": "301253a3-4e37-4e15-f1c1-f8eddd1b2709"
      },
      "execution_count": null,
      "outputs": [
        {
          "output_type": "execute_result",
          "data": {
            "text/plain": [
              "(2100, 1)"
            ]
          },
          "metadata": {},
          "execution_count": 101
        }
      ]
    },
    {
      "cell_type": "code",
      "source": [
        "test = test.reset_index(drop = True)\n",
        "plt.figure(figsize=(16,8))\n",
        "test[\"LinearRegression\"] = clf.predict(test[[\"Quantity sold\"]])\n",
        "test[\"DecisionTreeRegressor\"] = DTRmodel.predict(test[[\"Quantity sold\"]])\n",
        "test[\"RandomForestRegressor\"] = RFRmodel.predict(test[[\"Quantity sold\"]])\n",
        "plt.plot(test[\"Quantity sold\"], label = \"Root\")\n",
        "plt.plot(test[\"LinearRegression\"], label = \"LinearRegression\")\n",
        "plt.plot(test[\"DecisionTreeRegressor\"], label = \"DecisionTreeRegressor\")\n",
        "plt.plot(test[\"RandomForestRegressor\"], label = \"RandomForestRegressor\")\n",
        "plt.legend()\n",
        "plt.show()"
      ],
      "metadata": {
        "colab": {
          "base_uri": "https://localhost:8080/",
          "height": 483
        },
        "id": "J6tq-OqT2iMR",
        "outputId": "2edcddbe-b013-41d3-bd24-03e9936caadd"
      },
      "execution_count": null,
      "outputs": [
        {
          "output_type": "display_data",
          "data": {
            "text/plain": [
              "<Figure size 1152x576 with 1 Axes>"
            ],
            "image/png": "[encoded data removed]"
          },
          "metadata": {
            "needs_background": "light"
          }
        }
      ]
    },
    {
      "cell_type": "code",
      "source": [
        "item_index= 211\n",
        "item_df = test[test[\"Item\"] == item_index]\n",
        "item_df[\"LinearRegression\"] = clf.predict(item_df[[\"Quantity sold\"]])\n",
        "item_df[\"DecisionTreeRegressor\"] = DTRmodel.predict(item_df[[\"Quantity sold\"]])\n",
        "item_df[\"RandomForestRegressor\"] = RFRmodel.predict(item_df[[\"Quantity sold\"]])"
      ],
      "metadata": {
        "id": "ToRilCP52cU6"
      },
      "execution_count": null,
      "outputs": []
    },
    {
      "cell_type": "code",
      "source": [
        "plt.figure(figsize=(16,8))\n",
        "plt.title('Model')\n",
        "plt.xlabel('Date',fontsize=18)\n",
        "plt.ylabel('Quantity sold',fontsize=18)\n",
        "plt.plot(item_df[\"Date\"], item_df[\"Quantity sold\"], label = \"Root\")\n",
        "plt.plot(item_df[\"Date\"], item_df[\"LinearRegression\"], label = \"LinearRegression\")\n",
        "plt.plot(item_df[\"Date\"], item_df[\"DecisionTreeRegressor\"], label = \"DecisionTreeRegressor\")\n",
        "plt.plot(item_df[\"Date\"], item_df[\"RandomForestRegressor\"], label = \"RandomForestRegressor\")\n",
        "plt.legend()\n",
        "plt.show()"
      ],
      "metadata": {
        "colab": {
          "base_uri": "https://localhost:8080/",
          "height": 521
        },
        "id": "zK60JqDS2f_u",
        "outputId": "02e0fad0-fd64-4793-a21c-3d7fb490e7a5"
      },
      "execution_count": null,
      "outputs": [
        {
          "output_type": "display_data",
          "data": {
            "text/plain": [
              "<Figure size 1152x576 with 1 Axes>"
            ],
            "image/png": "[encoded data removed]"
          },
          "metadata": {
            "needs_background": "light"
          }
        }
      ]
    },
    {
      "cell_type": "code",
      "source": [
        "item_index= 211\n",
        "item_df = test[test[\"Item\"] == item_index]\n",
        "item_df[\"LinearRegression\"] = clf.predict(item_df[[\"Quantity sold\",\"Item\"]])\n",
        "item_df[\"DecisionTreeRegressor\"] = DTRmodel.predict(item_df[[\"Quantity sold\",\"Item\"]])\n",
        "item_df[\"RandomForestRegressor\"] = RFRmodel.predict(item_df[[\"Quantity sold\",\"Item\"]])\n",
        "\n",
        "plt.figure(figsize=(16,8))\n",
        "plt.title('Model')\n",
        "plt.xlabel('Date',fontsize=18)\n",
        "plt.ylabel('Quantity sold',fontsize=18)\n",
        "plt.plot(item_df[\"Date\"], item_df[\"Quantity sold\"], label = \"Root\")\n",
        "plt.plot(item_df[\"Date\"], item_df[\"LinearRegression\"], label = \"LinearRegression\")\n",
        "plt.plot(item_df[\"Date\"], item_df[\"DecisionTreeRegressor\"], label = \"DecisionTreeRegressor\")\n",
        "plt.plot(item_df[\"Date\"], item_df[\"RandomForestRegressor\"], label = \"RandomForestRegressor\")\n",
        "plt.legend()\n",
        "plt.show()\n",
        "#predict trong tap test-> tu ngay 28"
      ],
      "metadata": {
        "colab": {
          "base_uri": "https://localhost:8080/",
          "height": 521
        },
        "id": "e673hWmC2ZJd",
        "outputId": "b464cd52-de11-4818-9bcc-54ed7c518b7f"
      },
      "execution_count": null,
      "outputs": [
        {
          "output_type": "display_data",
          "data": {
            "text/plain": [
              "<Figure size 1152x576 with 1 Axes>"
            ],
            "image/png": "[encoded data removed]"
          },
          "metadata": {
            "needs_background": "light"
          }
        }
      ]
    },
    {
      "cell_type": "code",
      "source": [
        "import math \n",
        "from datetime import datetime, date \n",
        "import matplotlib.pyplot as plt\n",
        "plt.rcParams.update({'font.size': 14})\n",
        "import seaborn as sn\n",
        "\n",
        "import statsmodels as sm\n",
        "from statsmodels.tsa.ar_model import AutoReg\n",
        "from statsmodels.tsa.arima_model import ARMA\n",
        "from statsmodels.graphics.tsaplots import plot_acf\n",
        "from statsmodels.graphics.tsaplots import plot_pacf\n",
        "\n",
        "SEED = 42\n",
        "np.random.seed(SEED)\n",
        "\n",
        "lag_acf = 15\n",
        "lag_pacf = 15\n",
        "height = 4\n",
        "width = 12"
      ],
      "metadata": {
        "id": "BJZmwnXi2lBK"
      },
      "execution_count": null,
      "outputs": []
    },
    {
      "cell_type": "code",
      "source": [
        "from statsmodels.tsa.stattools import adfuller\n",
        "\n",
        "def check_stationarity(series):\n",
        "    # Copied from https://machinelearningmastery.com/time-series-data-stationary-python/\n",
        "\n",
        "    result = adfuller(series.values)\n",
        "\n",
        "    print('ADF Statistic: %f' % result[0])\n",
        "    print('p-value: %f' % result[1])\n",
        "    print('Critical Values:')\n",
        "    for key, value in result[4].items():\n",
        "        print('\\t%s: %.3f' % (key, value))\n",
        "\n",
        "    if (result[1] <= 0.05) & (result[4]['5%'] > result[0]):\n",
        "        print(\"\\u001b[32mStationary\\u001b[0m\")\n",
        "    else:\n",
        "        print(\"\\x1b[31mNon-stationary\\x1b[0m\")"
      ],
      "metadata": {
        "id": "w0mBfaqT2nQp"
      },
      "execution_count": null,
      "outputs": []
    },
    {
      "cell_type": "code",
      "source": [
        "check_stationarity(train[train[\"Item\"] == 4]['Quantity sold'])"
      ],
      "metadata": {
        "colab": {
          "base_uri": "https://localhost:8080/"
        },
        "id": "YLfgFTLH2pse",
        "outputId": "cc32d55f-2683-4195-a2c5-0e7d256ab190"
      },
      "execution_count": null,
      "outputs": [
        {
          "output_type": "stream",
          "name": "stdout",
          "text": [
            "ADF Statistic: -3.548443\n",
            "p-value: 0.006827\n",
            "Critical Values:\n",
            "\t1%: -4.473\n",
            "\t5%: -3.290\n",
            "\t10%: -2.772\n",
            "\u001b[32mStationary\u001b[0m\n"
          ]
        }
      ]
    },
    {
      "cell_type": "code",
      "source": [
        "f, ax = plt.subplots(nrows=2, ncols=1, figsize=(width, 2*height))\n",
        "plot_acf(train['Quantity sold'],lags=lag_acf, ax=ax[0])\n",
        "plot_pacf(train['Quantity sold'],lags=lag_pacf, ax=ax[1], method='ols')\n",
        "\n",
        "ax[1].annotate('Strong correlation at lag = 1', xy=(1, 0.6),  xycoords='data',\n",
        "            xytext=(0.17, 0.75), textcoords='axes fraction',\n",
        "            arrowprops=dict(color='red', shrink=0.05, width=1))\n",
        "\n",
        "plt.tight_layout()\n",
        "plt.show()"
      ],
      "metadata": {
        "colab": {
          "base_uri": "https://localhost:8080/",
          "height": 577
        },
        "id": "nQDk1ZQp2t32",
        "outputId": "99fd8fa8-fdfb-4da0-8772-1ffdc080e2f8"
      },
      "execution_count": null,
      "outputs": [
        {
          "output_type": "display_data",
          "data": {
            "text/plain": [
              "<Figure size 864x576 with 2 Axes>"
            ],
            "image/png": "[encoded data removed]"
          },
          "metadata": {
            "needs_background": "light"
          }
        }
      ]
    },
    {
      "cell_type": "code",
      "source": [
        "from statsmodels.tsa.arima.model import ARIMA\n",
        "\n",
        "model_arima = ARIMA(train['Quantity sold'], order = (1, 1, 1)) # p,m,q: dieu chinh predict value vs data qk p: 1 value qk-> 1 value tuong lai\n",
        "model = model_arima.fit()\n",
        "print(model.summary())"
      ],
      "metadata": {
        "colab": {
          "base_uri": "https://localhost:8080/"
        },
        "id": "Zjrjq9dZ2wN2",
        "outputId": "3173a04a-effc-4787-ad40-189041b91e12"
      },
      "execution_count": null,
      "outputs": [
        {
          "output_type": "stream",
          "name": "stderr",
          "text": [
            "/usr/local/lib/python3.8/dist-packages/statsmodels/tsa/base/tsa_model.py:578: ValueWarning: An unsupported index was provided and will be ignored when e.g. forecasting.\n",
            "  warnings.warn('An unsupported index was provided and will be'\n",
            "/usr/local/lib/python3.8/dist-packages/statsmodels/tsa/base/tsa_model.py:578: ValueWarning: An unsupported index was provided and will be ignored when e.g. forecasting.\n",
            "  warnings.warn('An unsupported index was provided and will be'\n",
            "/usr/local/lib/python3.8/dist-packages/statsmodels/tsa/base/tsa_model.py:578: ValueWarning: An unsupported index was provided and will be ignored when e.g. forecasting.\n",
            "  warnings.warn('An unsupported index was provided and will be'\n"
          ]
        },
        {
          "output_type": "stream",
          "name": "stdout",
          "text": [
            "                               SARIMAX Results                                \n",
            "==============================================================================\n",
            "Dep. Variable:          Quantity sold   No. Observations:                 2100\n",
            "Model:                 ARIMA(1, 1, 1)   Log Likelihood               -7887.645\n",
            "Date:                Mon, 12 Dec 2022   AIC                          15781.291\n",
            "Time:                        16:47:04   BIC                          15798.238\n",
            "Sample:                             0   HQIC                         15787.498\n",
            "                               - 2100                                         \n",
            "Covariance Type:                  opg                                         \n",
            "==============================================================================\n",
            "                 coef    std err          z      P>|z|      [0.025      0.975]\n",
            "------------------------------------------------------------------------------\n",
            "ar.L1          0.0040      0.049      0.082      0.935      -0.092       0.100\n",
            "ma.L1         -0.3236      0.048     -6.681      0.000      -0.419      -0.229\n",
            "sigma2       107.5209      1.047    102.660      0.000     105.468     109.574\n",
            "===================================================================================\n",
            "Ljung-Box (L1) (Q):                   0.00   Jarque-Bera (JB):             29511.32\n",
            "Prob(Q):                              1.00   Prob(JB):                         0.00\n",
            "Heteroskedasticity (H):               1.54   Skew:                             0.88\n",
            "Prob(H) (two-sided):                  0.00   Kurtosis:                        21.28\n",
            "===================================================================================\n",
            "\n",
            "Warnings:\n",
            "[1] Covariance matrix calculated using the outer product of gradients (complex-step).\n"
          ]
        }
      ]
    },
    {
      "cell_type": "code",
      "source": [
        "residuals = pd.DataFrame(model.resid)\n",
        "residuals.plot()\n",
        "plt.show()\n",
        "\n",
        "residuals.plot(kind='kde')\n",
        "plt.show()\n",
        "\n",
        "print(residuals.describe())"
      ],
      "metadata": {
        "colab": {
          "base_uri": "https://localhost:8080/",
          "height": 685
        },
        "id": "gPZYbiHI2ysM",
        "outputId": "9be79b81-32b8-4dae-f8ec-379cbe3fd144"
      },
      "execution_count": null,
      "outputs": [
        {
          "output_type": "display_data",
          "data": {
            "text/plain": [
              "<Figure size 432x288 with 1 Axes>"
            ],
            "image/png": "[encoded data removed]"
          },
          "metadata": {
            "needs_background": "light"
          }
        },
        {
          "output_type": "display_data",
          "data": {
            "text/plain": [
              "<Figure size 432x288 with 1 Axes>"
            ],
            "image/png": "[encoded data removed]"
          },
          "metadata": {
            "needs_background": "light"
          }
        },
        {
          "output_type": "stream",
          "name": "stdout",
          "text": [
            "                 0\n",
            "count  2100.000000\n",
            "mean      0.003474\n",
            "std      10.428906\n",
            "min     -86.767707\n",
            "25%      -3.634962\n",
            "50%      -0.381816\n",
            "75%       3.289297\n",
            "max      95.444364\n"
          ]
        }
      ]
    },
    {
      "cell_type": "markdown",
      "source": [
        "### Evaluate Test"
      ],
      "metadata": {
        "id": "C4W-mTu_3FD6"
      }
    },
    {
      "cell_type": "code",
      "source": [
        "import warnings\n",
        "warnings.filterwarnings(\"ignore\")\n",
        "# evaluate on split case 1\n",
        "history = train[\"Quantity sold\"].values.tolist()\n",
        "test_ = test[\"Quantity sold\"].values.tolist()\n",
        "predictions = list()\n",
        "for index in range(len(test)):\n",
        "    model = ARIMA(history, order=(1,1,1))\n",
        "    model_fit = model.fit()\n",
        "    output = model_fit.forecast()\n",
        "    y_pred = output[0]\n",
        "    predictions.append(y_pred)\n",
        "    obs = test_[index]\n",
        "    history.append(obs)\n",
        " # print('predicted=%f, expected=%f' % (y_pred, obs))\n",
        "\n",
        "rmse = sqrt(mean_squared_error(test_, predictions))\n",
        "print('Test RMSE: %.3f' % rmse)\n",
        "\n",
        "plt.figure(figsize=(16,8))\n",
        "plt.plot(test[\"Quantity sold\"].reset_index(drop = True))\n",
        "plt.plot(predictions, color='red')\n",
        "plt.show()"
      ],
      "metadata": {
        "colab": {
          "base_uri": "https://localhost:8080/",
          "height": 505
        },
        "id": "ifUxYjeG2-vr",
        "outputId": "b3e27211-d616-4de9-f982-45ae977268ff"
      },
      "execution_count": null,
      "outputs": [
        {
          "output_type": "stream",
          "name": "stdout",
          "text": [
            "Test RMSE: 12.799\n"
          ]
        },
        {
          "output_type": "display_data",
          "data": {
            "text/plain": [
              "<Figure size 1152x576 with 1 Axes>"
            ],
            "image/png": "[encoded data removed]"
          },
          "metadata": {
            "needs_background": "light"
          }
        }
      ]
    },
    {
      "cell_type": "code",
      "source": [
        "predictions = list()\n",
        "test_item = []\n",
        "for item in range(1,train.Item.nunique()):\n",
        "    history = X_train[X_train[\"Item\"] == item][\"Quantity sold\"].values.tolist()\n",
        "    test_ = X_test[X_test[\"Item\"] == item][\"Quantity sold\"].values.tolist()\n",
        "    for index in range(len(test_)):\n",
        "         model = ARIMA(history, order=(1,1,1))\n",
        "         model_fit = model.fit()\n",
        "         output = model_fit.forecast()\n",
        "         y_pred = output[0]\n",
        "         predictions.append(y_pred)\n",
        "         obs = test_[index]\n",
        "         history.append(obs)\n",
        "    test_item.extend(test_)\n",
        "         # print('predicted=%f, expected=%f' % (y_pred, obs))\n",
        "\n",
        "rmse = sqrt(mean_squared_error(test_item, predictions))\n",
        "print('Test RMSE: %.3f' % rmse)\n",
        "\n",
        "plt.figure(figsize=(16,8))\n",
        "plt.plot(test[\"Quantity sold\"].reset_index(drop = True))\n",
        "plt.plot(predictions, color='red')\n",
        "plt.show()"
      ],
      "metadata": {
        "colab": {
          "base_uri": "https://localhost:8080/",
          "height": 505
        },
        "id": "e_J9UnwO3Cya",
        "outputId": "2a99665d-0e49-4dbd-9273-7fc471acd74f"
      },
      "execution_count": null,
      "outputs": [
        {
          "output_type": "stream",
          "name": "stdout",
          "text": [
            "Test RMSE: 9.773\n"
          ]
        },
        {
          "output_type": "display_data",
          "data": {
            "text/plain": [
              "<Figure size 1152x576 with 1 Axes>"
            ],
            "image/png": "[encoded data removed]"
          },
          "metadata": {
            "needs_background": "light"
          }
        }
      ]
    },
    {
      "cell_type": "markdown",
      "source": [
        "### Combine model"
      ],
      "metadata": {
        "id": "_yh1bPLUxSAK"
      }
    },
    {
      "cell_type": "code",
      "source": [
        "df = pd.merge(df,cal, how =\"inner\",left_on = \"Item\", right_on = \"No_Item\" )"
      ],
      "metadata": {
        "id": "m_KpfXroaqPE"
      },
      "execution_count": null,
      "outputs": []
    },
    {
      "cell_type": "code",
      "source": [
        "train, test = df[df[\"Date\"] <= \"2022-11-27\"],df[df[\"Date\"] > \"2022-11-27\"]\n",
        "X_train ,y_train = train[[\"Quantity sold\",\"Item\",\"Negative\",\"Neutral\",\"Positive\"]], train[\"label\"]\n",
        "X_test ,y_test = test[[\"Quantity sold\",\"Item\",\"Negative\",\"Neutral\",\"Positive\"]], test[\"label\"]"
      ],
      "metadata": {
        "id": "7Eu0FXiMeD2s"
      },
      "execution_count": null,
      "outputs": []
    },
    {
      "cell_type": "code",
      "source": [
        "X_train.head()"
      ],
      "metadata": {
        "colab": {
          "base_uri": "https://localhost:8080/",
          "height": 206
        },
        "id": "dP-7oLU9pGC0",
        "outputId": "0a43aa63-5976-4a1d-9034-6c5e400f3802"
      },
      "execution_count": null,
      "outputs": [
        {
          "output_type": "execute_result",
          "data": {
            "text/plain": [
              "   Quantity sold  Item  Negative   Neutral  Positive\n",
              "0             51     1  0.132075  0.132075  0.735849\n",
              "1             46     1  0.132075  0.132075  0.735849\n",
              "2             46     1  0.132075  0.132075  0.735849\n",
              "3             49     1  0.132075  0.132075  0.735849\n",
              "4             28     1  0.132075  0.132075  0.735849"
            ],
            "text/html": [
              "\n",
              "  <div id=\"df-88f5acaf-5e41-44ec-aefd-bdfc0d171aee\">\n",
              "    <div class=\"colab-df-container\">\n",
              "      <div>\n",
              "<style scoped>\n",
              "    .dataframe tbody tr th:only-of-type {\n",
              "        vertical-align: middle;\n",
              "    }\n",
              "\n",
              "    .dataframe tbody tr th {\n",
              "        vertical-align: top;\n",
              "    }\n",
              "\n",
              "    .dataframe thead th {\n",
              "        text-align: right;\n",
              "    }\n",
              "</style>\n",
              "<table border=\"1\" class=\"dataframe\">\n",
              "  <thead>\n",
              "    <tr style=\"text-align: right;\">\n",
              "      <th></th>\n",
              "      <th>Quantity sold</th>\n",
              "      <th>Item</th>\n",
              "      <th>Negative</th>\n",
              "      <th>Neutral</th>\n",
              "      <th>Positive</th>\n",
              "    </tr>\n",
              "  </thead>\n",
              "  <tbody>\n",
              "    <tr>\n",
              "      <th>0</th>\n",
              "      <td>51</td>\n",
              "      <td>1</td>\n",
              "      <td>0.132075</td>\n",
              "      <td>0.132075</td>\n",
              "      <td>0.735849</td>\n",
              "    </tr>\n",
              "    <tr>\n",
              "      <th>1</th>\n",
              "      <td>46</td>\n",
              "      <td>1</td>\n",
              "      <td>0.132075</td>\n",
              "      <td>0.132075</td>\n",
              "      <td>0.735849</td>\n",
              "    </tr>\n",
              "    <tr>\n",
              "      <th>2</th>\n",
              "      <td>46</td>\n",
              "      <td>1</td>\n",
              "      <td>0.132075</td>\n",
              "      <td>0.132075</td>\n",
              "      <td>0.735849</td>\n",
              "    </tr>\n",
              "    <tr>\n",
              "      <th>3</th>\n",
              "      <td>49</td>\n",
              "      <td>1</td>\n",
              "      <td>0.132075</td>\n",
              "      <td>0.132075</td>\n",
              "      <td>0.735849</td>\n",
              "    </tr>\n",
              "    <tr>\n",
              "      <th>4</th>\n",
              "      <td>28</td>\n",
              "      <td>1</td>\n",
              "      <td>0.132075</td>\n",
              "      <td>0.132075</td>\n",
              "      <td>0.735849</td>\n",
              "    </tr>\n",
              "  </tbody>\n",
              "</table>\n",
              "</div>\n",
              "      <button class=\"colab-df-convert\" onclick=\"convertToInteractive('df-88f5acaf-5e41-44ec-aefd-bdfc0d171aee')\"\n",
              "              title=\"Convert this dataframe to an interactive table.\"\n",
              "              style=\"display:none;\">\n",
              "        \n",
              "  <svg xmlns=\"http://www.w3.org/2000/svg\" height=\"24px\"viewBox=\"0 0 24 24\"\n",
              "       width=\"24px\">\n",
              "    <path d=\"M0 0h24v24H0V0z\" fill=\"none\"/>\n",
              "    <path d=\"M18.56 5.44l.94 2.06.94-2.06 2.06-.94-2.06-.94-.94-2.06-.94 2.06-2.06.94zm-11 1L8.5 8.5l.94-2.06 2.06-.94-2.06-.94L8.5 2.5l-.94 2.06-2.06.94zm10 10l.94 2.06.94-2.06 2.06-.94-2.06-.94-.94-2.06-.94 2.06-2.06.94z\"/><path d=\"M17.41 7.96l-1.37-1.37c-.4-.4-.92-.59-1.43-.59-.52 0-1.04.2-1.43.59L10.3 9.45l-7.72 7.72c-.78.78-.78 2.05 0 2.83L4 21.41c.39.39.9.59 1.41.59.51 0 1.02-.2 1.41-.59l7.78-7.78 2.81-2.81c.8-.78.8-2.07 0-2.86zM5.41 20L4 18.59l7.72-7.72 1.47 1.35L5.41 20z\"/>\n",
              "  </svg>\n",
              "      </button>\n",
              "      \n",
              "  <style>\n",
              "    .colab-df-container {\n",
              "      display:flex;\n",
              "      flex-wrap:wrap;\n",
              "      gap: 12px;\n",
              "    }\n",
              "\n",
              "    .colab-df-convert {\n",
              "      background-color: #E8F0FE;\n",
              "      border: none;\n",
              "      border-radius: 50%;\n",
              "      cursor: pointer;\n",
              "      display: none;\n",
              "      fill: #1967D2;\n",
              "      height: 32px;\n",
              "      padding: 0 0 0 0;\n",
              "      width: 32px;\n",
              "    }\n",
              "\n",
              "    .colab-df-convert:hover {\n",
              "      background-color: #E2EBFA;\n",
              "      box-shadow: 0px 1px 2px rgba(60, 64, 67, 0.3), 0px 1px 3px 1px rgba(60, 64, 67, 0.15);\n",
              "      fill: #174EA6;\n",
              "    }\n",
              "\n",
              "    [theme=dark] .colab-df-convert {\n",
              "      background-color: #3B4455;\n",
              "      fill: #D2E3FC;\n",
              "    }\n",
              "\n",
              "    [theme=dark] .colab-df-convert:hover {\n",
              "      background-color: #434B5C;\n",
              "      box-shadow: 0px 1px 3px 1px rgba(0, 0, 0, 0.15);\n",
              "      filter: drop-shadow(0px 1px 2px rgba(0, 0, 0, 0.3));\n",
              "      fill: #FFFFFF;\n",
              "    }\n",
              "  </style>\n",
              "\n",
              "      <script>\n",
              "        const buttonEl =\n",
              "          document.querySelector('#df-88f5acaf-5e41-44ec-aefd-bdfc0d171aee button.colab-df-convert');\n",
              "        buttonEl.style.display =\n",
              "          google.colab.kernel.accessAllowed ? 'block' : 'none';\n",
              "\n",
              "        async function convertToInteractive(key) {\n",
              "          const element = document.querySelector('#df-88f5acaf-5e41-44ec-aefd-bdfc0d171aee');\n",
              "          const dataTable =\n",
              "            await google.colab.kernel.invokeFunction('convertToInteractive',\n",
              "                                                     [key], {});\n",
              "          if (!dataTable) return;\n",
              "\n",
              "          const docLinkHtml = 'Like what you see? Visit the ' +\n",
              "            '<a target=\"_blank\" href=https://colab.research.google.com/notebooks/data_table.ipynb>data table notebook</a>'\n",
              "            + ' to learn more about interactive tables.';\n",
              "          element.innerHTML = '';\n",
              "          dataTable['output_type'] = 'display_data';\n",
              "          await google.colab.output.renderOutput(dataTable, element);\n",
              "          const docLink = document.createElement('div');\n",
              "          docLink.innerHTML = docLinkHtml;\n",
              "          element.appendChild(docLink);\n",
              "        }\n",
              "      </script>\n",
              "    </div>\n",
              "  </div>\n",
              "  "
            ]
          },
          "metadata": {},
          "execution_count": 118
        }
      ]
    },
    {
      "cell_type": "code",
      "source": [
        "clf = LinearRegression(n_jobs=-1)\n",
        "DTRmodel = DecisionTreeRegressor(max_depth=3, random_state=0)\n",
        "RFRmodel = RandomForestRegressor(max_depth=3, random_state=0)"
      ],
      "metadata": {
        "id": "6mI3NlfIgK1s"
      },
      "execution_count": null,
      "outputs": []
    },
    {
      "cell_type": "code",
      "source": [
        "clf.fit(X_train, y_train)\n",
        "DTRmodel.fit(X_train, y_train)\n",
        "RFRmodel.fit(X_train, y_train)\n",
        "clf.score(X_train, y_train) , DTRmodel.score(X_train, y_train), RFRmodel.score(X_train, y_train)"
      ],
      "metadata": {
        "colab": {
          "base_uri": "https://localhost:8080/"
        },
        "id": "HAYtkyLhgU2m",
        "outputId": "39d85e2c-5ff2-494d-8f71-eba2cc6973ea"
      },
      "execution_count": null,
      "outputs": [
        {
          "output_type": "execute_result",
          "data": {
            "text/plain": [
              "(0.6670293840622455, 0.7443232076344188, 0.7635189268441108)"
            ]
          },
          "metadata": {},
          "execution_count": 120
        }
      ]
    },
    {
      "cell_type": "code",
      "source": [
        "confidence0 = clf.score(X_train, y_train)\n",
        "y_pred0 = clf.predict(X_train)\n",
        "print(\"R2 score  :\", r2_score(y_train, y_pred0))\n",
        "print(\"MSE score  :\", mean_squared_error(y_train, y_pred0))\n",
        "print(\"RMSE: \", sqrt(mean_squared_error(y_train, y_pred0)))"
      ],
      "metadata": {
        "colab": {
          "base_uri": "https://localhost:8080/"
        },
        "id": "H6pimwV_yJnk",
        "outputId": "eed024d5-e2b4-46a3-c6c5-6111587edd40"
      },
      "execution_count": null,
      "outputs": [
        {
          "output_type": "stream",
          "name": "stdout",
          "text": [
            "R2 score  : 0.6670293840622455\n",
            "MSE score  : 72.08363996841156\n",
            "RMSE:  8.49020847614542\n"
          ]
        }
      ]
    },
    {
      "cell_type": "code",
      "source": [
        "confidence0 = clf.score(X_test, y_test)\n",
        "y_pred0 = clf.predict(X_test)\n",
        "print(\"R2 score  :\", r2_score(y_test, y_pred0))\n",
        "print(\"MSE score  :\", mean_squared_error(y_test, y_pred0))\n",
        "print(\"RMSE: \", sqrt(mean_squared_error(y_test, y_pred0)))"
      ],
      "metadata": {
        "colab": {
          "base_uri": "https://localhost:8080/"
        },
        "id": "z5fzSi2ngiKK",
        "outputId": "0f0d2d80-81a6-4d5b-b051-cf51fe18c100"
      },
      "execution_count": null,
      "outputs": [
        {
          "output_type": "stream",
          "name": "stdout",
          "text": [
            "R2 score  : 0.3337252716828738\n",
            "MSE score  : 124.96431370219099\n",
            "RMSE:  11.178743833820999\n"
          ]
        }
      ]
    },
    {
      "cell_type": "code",
      "source": [
        "clf.predict(X_test.head(1))"
      ],
      "metadata": {
        "colab": {
          "base_uri": "https://localhost:8080/"
        },
        "id": "Yp8MbJHyStps",
        "outputId": "f76cd0be-21bd-41de-8d6c-401a277b9a29"
      },
      "execution_count": null,
      "outputs": [
        {
          "output_type": "execute_result",
          "data": {
            "text/plain": [
              "array([54.07356786])"
            ]
          },
          "metadata": {},
          "execution_count": 123
        }
      ]
    },
    {
      "cell_type": "code",
      "source": [
        "X_test.head(11)"
      ],
      "metadata": {
        "colab": {
          "base_uri": "https://localhost:8080/",
          "height": 394
        },
        "id": "Bji9Y0xNS3aT",
        "outputId": "4f1dccd4-1260-4926-db2c-edb319033ad1"
      },
      "execution_count": null,
      "outputs": [
        {
          "output_type": "execute_result",
          "data": {
            "text/plain": [
              "    Quantity sold  Item  Negative   Neutral  Positive\n",
              "6              63     1  0.132075  0.132075  0.735849\n",
              "7              32     1  0.132075  0.132075  0.735849\n",
              "8              31     1  0.132075  0.132075  0.735849\n",
              "9              48     1  0.132075  0.132075  0.735849\n",
              "16             12     2  0.066667  0.220000  0.713333\n",
              "17             20     2  0.066667  0.220000  0.713333\n",
              "18             11     2  0.066667  0.220000  0.713333\n",
              "19             19     2  0.066667  0.220000  0.713333\n",
              "26              9     3  0.021739  0.086957  0.891304\n",
              "27              4     3  0.021739  0.086957  0.891304\n",
              "28              3     3  0.021739  0.086957  0.891304"
            ],
            "text/html": [
              "\n",
              "  <div id=\"df-ce5c5ece-4ae7-4f3f-b657-c30a846f2f84\">\n",
              "    <div class=\"colab-df-container\">\n",
              "      <div>\n",
              "<style scoped>\n",
              "    .dataframe tbody tr th:only-of-type {\n",
              "        vertical-align: middle;\n",
              "    }\n",
              "\n",
              "    .dataframe tbody tr th {\n",
              "        vertical-align: top;\n",
              "    }\n",
              "\n",
              "    .dataframe thead th {\n",
              "        text-align: right;\n",
              "    }\n",
              "</style>\n",
              "<table border=\"1\" class=\"dataframe\">\n",
              "  <thead>\n",
              "    <tr style=\"text-align: right;\">\n",
              "      <th></th>\n",
              "      <th>Quantity sold</th>\n",
              "      <th>Item</th>\n",
              "      <th>Negative</th>\n",
              "      <th>Neutral</th>\n",
              "      <th>Positive</th>\n",
              "    </tr>\n",
              "  </thead>\n",
              "  <tbody>\n",
              "    <tr>\n",
              "      <th>6</th>\n",
              "      <td>63</td>\n",
              "      <td>1</td>\n",
              "      <td>0.132075</td>\n",
              "      <td>0.132075</td>\n",
              "      <td>0.735849</td>\n",
              "    </tr>\n",
              "    <tr>\n",
              "      <th>7</th>\n",
              "      <td>32</td>\n",
              "      <td>1</td>\n",
              "      <td>0.132075</td>\n",
              "      <td>0.132075</td>\n",
              "      <td>0.735849</td>\n",
              "    </tr>\n",
              "    <tr>\n",
              "      <th>8</th>\n",
              "      <td>31</td>\n",
              "      <td>1</td>\n",
              "      <td>0.132075</td>\n",
              "      <td>0.132075</td>\n",
              "      <td>0.735849</td>\n",
              "    </tr>\n",
              "    <tr>\n",
              "      <th>9</th>\n",
              "      <td>48</td>\n",
              "      <td>1</td>\n",
              "      <td>0.132075</td>\n",
              "      <td>0.132075</td>\n",
              "      <td>0.735849</td>\n",
              "    </tr>\n",
              "    <tr>\n",
              "      <th>16</th>\n",
              "      <td>12</td>\n",
              "      <td>2</td>\n",
              "      <td>0.066667</td>\n",
              "      <td>0.220000</td>\n",
              "      <td>0.713333</td>\n",
              "    </tr>\n",
              "    <tr>\n",
              "      <th>17</th>\n",
              "      <td>20</td>\n",
              "      <td>2</td>\n",
              "      <td>0.066667</td>\n",
              "      <td>0.220000</td>\n",
              "      <td>0.713333</td>\n",
              "    </tr>\n",
              "    <tr>\n",
              "      <th>18</th>\n",
              "      <td>11</td>\n",
              "      <td>2</td>\n",
              "      <td>0.066667</td>\n",
              "      <td>0.220000</td>\n",
              "      <td>0.713333</td>\n",
              "    </tr>\n",
              "    <tr>\n",
              "      <th>19</th>\n",
              "      <td>19</td>\n",
              "      <td>2</td>\n",
              "      <td>0.066667</td>\n",
              "      <td>0.220000</td>\n",
              "      <td>0.713333</td>\n",
              "    </tr>\n",
              "    <tr>\n",
              "      <th>26</th>\n",
              "      <td>9</td>\n",
              "      <td>3</td>\n",
              "      <td>0.021739</td>\n",
              "      <td>0.086957</td>\n",
              "      <td>0.891304</td>\n",
              "    </tr>\n",
              "    <tr>\n",
              "      <th>27</th>\n",
              "      <td>4</td>\n",
              "      <td>3</td>\n",
              "      <td>0.021739</td>\n",
              "      <td>0.086957</td>\n",
              "      <td>0.891304</td>\n",
              "    </tr>\n",
              "    <tr>\n",
              "      <th>28</th>\n",
              "      <td>3</td>\n",
              "      <td>3</td>\n",
              "      <td>0.021739</td>\n",
              "      <td>0.086957</td>\n",
              "      <td>0.891304</td>\n",
              "    </tr>\n",
              "  </tbody>\n",
              "</table>\n",
              "</div>\n",
              "      <button class=\"colab-df-convert\" onclick=\"convertToInteractive('df-ce5c5ece-4ae7-4f3f-b657-c30a846f2f84')\"\n",
              "              title=\"Convert this dataframe to an interactive table.\"\n",
              "              style=\"display:none;\">\n",
              "        \n",
              "  <svg xmlns=\"http://www.w3.org/2000/svg\" height=\"24px\"viewBox=\"0 0 24 24\"\n",
              "       width=\"24px\">\n",
              "    <path d=\"M0 0h24v24H0V0z\" fill=\"none\"/>\n",
              "    <path d=\"M18.56 5.44l.94 2.06.94-2.06 2.06-.94-2.06-.94-.94-2.06-.94 2.06-2.06.94zm-11 1L8.5 8.5l.94-2.06 2.06-.94-2.06-.94L8.5 2.5l-.94 2.06-2.06.94zm10 10l.94 2.06.94-2.06 2.06-.94-2.06-.94-.94-2.06-.94 2.06-2.06.94z\"/><path d=\"M17.41 7.96l-1.37-1.37c-.4-.4-.92-.59-1.43-.59-.52 0-1.04.2-1.43.59L10.3 9.45l-7.72 7.72c-.78.78-.78 2.05 0 2.83L4 21.41c.39.39.9.59 1.41.59.51 0 1.02-.2 1.41-.59l7.78-7.78 2.81-2.81c.8-.78.8-2.07 0-2.86zM5.41 20L4 18.59l7.72-7.72 1.47 1.35L5.41 20z\"/>\n",
              "  </svg>\n",
              "      </button>\n",
              "      \n",
              "  <style>\n",
              "    .colab-df-container {\n",
              "      display:flex;\n",
              "      flex-wrap:wrap;\n",
              "      gap: 12px;\n",
              "    }\n",
              "\n",
              "    .colab-df-convert {\n",
              "      background-color: #E8F0FE;\n",
              "      border: none;\n",
              "      border-radius: 50%;\n",
              "      cursor: pointer;\n",
              "      display: none;\n",
              "      fill: #1967D2;\n",
              "      height: 32px;\n",
              "      padding: 0 0 0 0;\n",
              "      width: 32px;\n",
              "    }\n",
              "\n",
              "    .colab-df-convert:hover {\n",
              "      background-color: #E2EBFA;\n",
              "      box-shadow: 0px 1px 2px rgba(60, 64, 67, 0.3), 0px 1px 3px 1px rgba(60, 64, 67, 0.15);\n",
              "      fill: #174EA6;\n",
              "    }\n",
              "\n",
              "    [theme=dark] .colab-df-convert {\n",
              "      background-color: #3B4455;\n",
              "      fill: #D2E3FC;\n",
              "    }\n",
              "\n",
              "    [theme=dark] .colab-df-convert:hover {\n",
              "      background-color: #434B5C;\n",
              "      box-shadow: 0px 1px 3px 1px rgba(0, 0, 0, 0.15);\n",
              "      filter: drop-shadow(0px 1px 2px rgba(0, 0, 0, 0.3));\n",
              "      fill: #FFFFFF;\n",
              "    }\n",
              "  </style>\n",
              "\n",
              "      <script>\n",
              "        const buttonEl =\n",
              "          document.querySelector('#df-ce5c5ece-4ae7-4f3f-b657-c30a846f2f84 button.colab-df-convert');\n",
              "        buttonEl.style.display =\n",
              "          google.colab.kernel.accessAllowed ? 'block' : 'none';\n",
              "\n",
              "        async function convertToInteractive(key) {\n",
              "          const element = document.querySelector('#df-ce5c5ece-4ae7-4f3f-b657-c30a846f2f84');\n",
              "          const dataTable =\n",
              "            await google.colab.kernel.invokeFunction('convertToInteractive',\n",
              "                                                     [key], {});\n",
              "          if (!dataTable) return;\n",
              "\n",
              "          const docLinkHtml = 'Like what you see? Visit the ' +\n",
              "            '<a target=\"_blank\" href=https://colab.research.google.com/notebooks/data_table.ipynb>data table notebook</a>'\n",
              "            + ' to learn more about interactive tables.';\n",
              "          element.innerHTML = '';\n",
              "          dataTable['output_type'] = 'display_data';\n",
              "          await google.colab.output.renderOutput(dataTable, element);\n",
              "          const docLink = document.createElement('div');\n",
              "          docLink.innerHTML = docLinkHtml;\n",
              "          element.appendChild(docLink);\n",
              "        }\n",
              "      </script>\n",
              "    </div>\n",
              "  </div>\n",
              "  "
            ]
          },
          "metadata": {},
          "execution_count": 126
        }
      ]
    },
    {
      "cell_type": "markdown",
      "source": [
        "## Summary\n",
        " - Chia dữ liệu theo thời gian tốt hơn chia theo item\n",
        " - model LinearRegression cho kết quả tốt hơn 2 mô hình còn lại (DecisionTreeRegressor, RandomForestRegressor)\n",
        " - Model Arima cho kết quả tốt nhất cho bài toán time series\n",
        " - Kết hợp feature từ model Phobert giúp Quantity Sold Predicting tốt hơn (RMSE 12.7 -> RMSE 11.1)"
      ],
      "metadata": {
        "id": "LUQw4kEN1No9"
      }
    }
  ],
  "metadata": {
    "accelerator": "GPU",
    "colab": {
      "provenance": [],
      "machine_shape": "hm",
      "collapsed_sections": [
        "uuB523YTFWJb"
      ]
    },
    "kernelspec": {
      "display_name": "Python 3",
      "name": "python3"
    },
    "language_info": {
      "name": "python"
    },
    "widgets": {
      "application/vnd.jupyter.widget-state+json": {
        "6fa370d9c9fa45af97da695d1b2b832c": {
          "model_module": "@jupyter-widgets/controls",
          "model_name": "HBoxModel",
          "model_module_version": "1.5.0",
          "state": {
            "_dom_classes": [],
            "_model_module": "@jupyter-widgets/controls",
            "_model_module_version": "1.5.0",
            "_model_name": "HBoxModel",
            "_view_count": null,
            "_view_module": "@jupyter-widgets/controls",
            "_view_module_version": "1.5.0",
            "_view_name": "HBoxView",
            "box_style": "",
            "children": [
              "IPY_MODEL_6ea573b12a3c43e692afdd005479eb0b",
              "IPY_MODEL_f17c7c82636e4f39a96c8a346918e513",
              "IPY_MODEL_9f21944337eb4c6e931ddc8bbbc1ad71"
            ],
            "layout": "IPY_MODEL_e78418f12b7941428349613c1b9e5037"
          }
        },
        "6ea573b12a3c43e692afdd005479eb0b": {
          "model_module": "@jupyter-widgets/controls",
          "model_name": "HTMLModel",
          "model_module_version": "1.5.0",
          "state": {
            "_dom_classes": [],
            "_model_module": "@jupyter-widgets/controls",
            "_model_module_version": "1.5.0",
            "_model_name": "HTMLModel",
            "_view_count": null,
            "_view_module": "@jupyter-widgets/controls",
            "_view_module_version": "1.5.0",
            "_view_name": "HTMLView",
            "description": "",
            "description_tooltip": null,
            "layout": "IPY_MODEL_6d13c93a3be54febb780c1860d6c5d81",
            "placeholder": "​",
            "style": "IPY_MODEL_a30a48e2e6b7408eadf667d66d44359f",
            "value": "Downloading: 100%"
          }
        },
        "f17c7c82636e4f39a96c8a346918e513": {
          "model_module": "@jupyter-widgets/controls",
          "model_name": "FloatProgressModel",
          "model_module_version": "1.5.0",
          "state": {
            "_dom_classes": [],
            "_model_module": "@jupyter-widgets/controls",
            "_model_module_version": "1.5.0",
            "_model_name": "FloatProgressModel",
            "_view_count": null,
            "_view_module": "@jupyter-widgets/controls",
            "_view_module_version": "1.5.0",
            "_view_name": "ProgressView",
            "bar_style": "success",
            "description": "",
            "description_tooltip": null,
            "layout": "IPY_MODEL_16a82816b45145ce9e1b0157ad67fa29",
            "max": 557,
            "min": 0,
            "orientation": "horizontal",
            "style": "IPY_MODEL_5391a2fe679641f4b9eda8f6dd36cd81",
            "value": 557
          }
        },
        "9f21944337eb4c6e931ddc8bbbc1ad71": {
          "model_module": "@jupyter-widgets/controls",
          "model_name": "HTMLModel",
          "model_module_version": "1.5.0",
          "state": {
            "_dom_classes": [],
            "_model_module": "@jupyter-widgets/controls",
            "_model_module_version": "1.5.0",
            "_model_name": "HTMLModel",
            "_view_count": null,
            "_view_module": "@jupyter-widgets/controls",
            "_view_module_version": "1.5.0",
            "_view_name": "HTMLView",
            "description": "",
            "description_tooltip": null,
            "layout": "IPY_MODEL_b7eab8b3bb2046789c701647960f66d0",
            "placeholder": "​",
            "style": "IPY_MODEL_a7a3271b32274c0e89b17d7824859cc1",
            "value": " 557/557 [00:00&lt;00:00, 20.8kB/s]"
          }
        },
        "e78418f12b7941428349613c1b9e5037": {
          "model_module": "@jupyter-widgets/base",
          "model_name": "LayoutModel",
          "model_module_version": "1.2.0",
          "state": {
            "_model_module": "@jupyter-widgets/base",
            "_model_module_version": "1.2.0",
            "_model_name": "LayoutModel",
            "_view_count": null,
            "_view_module": "@jupyter-widgets/base",
            "_view_module_version": "1.2.0",
            "_view_name": "LayoutView",
            "align_content": null,
            "align_items": null,
            "align_self": null,
            "border": null,
            "bottom": null,
            "display": null,
            "flex": null,
            "flex_flow": null,
            "grid_area": null,
            "grid_auto_columns": null,
            "grid_auto_flow": null,
            "grid_auto_rows": null,
            "grid_column": null,
            "grid_gap": null,
            "grid_row": null,
            "grid_template_areas": null,
            "grid_template_columns": null,
            "grid_template_rows": null,
            "height": null,
            "justify_content": null,
            "justify_items": null,
            "left": null,
            "margin": null,
            "max_height": null,
            "max_width": null,
            "min_height": null,
            "min_width": null,
            "object_fit": null,
            "object_position": null,
            "order": null,
            "overflow": null,
            "overflow_x": null,
            "overflow_y": null,
            "padding": null,
            "right": null,
            "top": null,
            "visibility": null,
            "width": null
          }
        },
        "6d13c93a3be54febb780c1860d6c5d81": {
          "model_module": "@jupyter-widgets/base",
          "model_name": "LayoutModel",
          "model_module_version": "1.2.0",
          "state": {
            "_model_module": "@jupyter-widgets/base",
            "_model_module_version": "1.2.0",
            "_model_name": "LayoutModel",
            "_view_count": null,
            "_view_module": "@jupyter-widgets/base",
            "_view_module_version": "1.2.0",
            "_view_name": "LayoutView",
            "align_content": null,
            "align_items": null,
            "align_self": null,
            "border": null,
            "bottom": null,
            "display": null,
            "flex": null,
            "flex_flow": null,
            "grid_area": null,
            "grid_auto_columns": null,
            "grid_auto_flow": null,
            "grid_auto_rows": null,
            "grid_column": null,
            "grid_gap": null,
            "grid_row": null,
            "grid_template_areas": null,
            "grid_template_columns": null,
            "grid_template_rows": null,
            "height": null,
            "justify_content": null,
            "justify_items": null,
            "left": null,
            "margin": null,
            "max_height": null,
            "max_width": null,
            "min_height": null,
            "min_width": null,
            "object_fit": null,
            "object_position": null,
            "order": null,
            "overflow": null,
            "overflow_x": null,
            "overflow_y": null,
            "padding": null,
            "right": null,
            "top": null,
            "visibility": null,
            "width": null
          }
        },
        "a30a48e2e6b7408eadf667d66d44359f": {
          "model_module": "@jupyter-widgets/controls",
          "model_name": "DescriptionStyleModel",
          "model_module_version": "1.5.0",
          "state": {
            "_model_module": "@jupyter-widgets/controls",
            "_model_module_version": "1.5.0",
            "_model_name": "DescriptionStyleModel",
            "_view_count": null,
            "_view_module": "@jupyter-widgets/base",
            "_view_module_version": "1.2.0",
            "_view_name": "StyleView",
            "description_width": ""
          }
        },
        "16a82816b45145ce9e1b0157ad67fa29": {
          "model_module": "@jupyter-widgets/base",
          "model_name": "LayoutModel",
          "model_module_version": "1.2.0",
          "state": {
            "_model_module": "@jupyter-widgets/base",
            "_model_module_version": "1.2.0",
            "_model_name": "LayoutModel",
            "_view_count": null,
            "_view_module": "@jupyter-widgets/base",
            "_view_module_version": "1.2.0",
            "_view_name": "LayoutView",
            "align_content": null,
            "align_items": null,
            "align_self": null,
            "border": null,
            "bottom": null,
            "display": null,
            "flex": null,
            "flex_flow": null,
            "grid_area": null,
            "grid_auto_columns": null,
            "grid_auto_flow": null,
            "grid_auto_rows": null,
            "grid_column": null,
            "grid_gap": null,
            "grid_row": null,
            "grid_template_areas": null,
            "grid_template_columns": null,
            "grid_template_rows": null,
            "height": null,
            "justify_content": null,
            "justify_items": null,
            "left": null,
            "margin": null,
            "max_height": null,
            "max_width": null,
            "min_height": null,
            "min_width": null,
            "object_fit": null,
            "object_position": null,
            "order": null,
            "overflow": null,
            "overflow_x": null,
            "overflow_y": null,
            "padding": null,
            "right": null,
            "top": null,
            "visibility": null,
            "width": null
          }
        },
        "5391a2fe679641f4b9eda8f6dd36cd81": {
          "model_module": "@jupyter-widgets/controls",
          "model_name": "ProgressStyleModel",
          "model_module_version": "1.5.0",
          "state": {
            "_model_module": "@jupyter-widgets/controls",
            "_model_module_version": "1.5.0",
            "_model_name": "ProgressStyleModel",
            "_view_count": null,
            "_view_module": "@jupyter-widgets/base",
            "_view_module_version": "1.2.0",
            "_view_name": "StyleView",
            "bar_color": null,
            "description_width": ""
          }
        },
        "b7eab8b3bb2046789c701647960f66d0": {
          "model_module": "@jupyter-widgets/base",
          "model_name": "LayoutModel",
          "model_module_version": "1.2.0",
          "state": {
            "_model_module": "@jupyter-widgets/base",
            "_model_module_version": "1.2.0",
            "_model_name": "LayoutModel",
            "_view_count": null,
            "_view_module": "@jupyter-widgets/base",
            "_view_module_version": "1.2.0",
            "_view_name": "LayoutView",
            "align_content": null,
            "align_items": null,
            "align_self": null,
            "border": null,
            "bottom": null,
            "display": null,
            "flex": null,
            "flex_flow": null,
            "grid_area": null,
            "grid_auto_columns": null,
            "grid_auto_flow": null,
            "grid_auto_rows": null,
            "grid_column": null,
            "grid_gap": null,
            "grid_row": null,
            "grid_template_areas": null,
            "grid_template_columns": null,
            "grid_template_rows": null,
            "height": null,
            "justify_content": null,
            "justify_items": null,
            "left": null,
            "margin": null,
            "max_height": null,
            "max_width": null,
            "min_height": null,
            "min_width": null,
            "object_fit": null,
            "object_position": null,
            "order": null,
            "overflow": null,
            "overflow_x": null,
            "overflow_y": null,
            "padding": null,
            "right": null,
            "top": null,
            "visibility": null,
            "width": null
          }
        },
        "a7a3271b32274c0e89b17d7824859cc1": {
          "model_module": "@jupyter-widgets/controls",
          "model_name": "DescriptionStyleModel",
          "model_module_version": "1.5.0",
          "state": {
            "_model_module": "@jupyter-widgets/controls",
            "_model_module_version": "1.5.0",
            "_model_name": "DescriptionStyleModel",
            "_view_count": null,
            "_view_module": "@jupyter-widgets/base",
            "_view_module_version": "1.2.0",
            "_view_name": "StyleView",
            "description_width": ""
          }
        },
        "a9a7b2bbb39f43aa8d841385346bcdf7": {
          "model_module": "@jupyter-widgets/controls",
          "model_name": "HBoxModel",
          "model_module_version": "1.5.0",
          "state": {
            "_dom_classes": [],
            "_model_module": "@jupyter-widgets/controls",
            "_model_module_version": "1.5.0",
            "_model_name": "HBoxModel",
            "_view_count": null,
            "_view_module": "@jupyter-widgets/controls",
            "_view_module_version": "1.5.0",
            "_view_name": "HBoxView",
            "box_style": "",
            "children": [
              "IPY_MODEL_e62f7f8d2e814637a8d5c92c089d06b0",
              "IPY_MODEL_4f85d2f88b9b44e8ad628759cbb9199d",
              "IPY_MODEL_f62859f8ef984be98c9ff192ed75254f"
            ],
            "layout": "IPY_MODEL_4c09aae0e1d34e13a40e0ed9a7c81467"
          }
        },
        "e62f7f8d2e814637a8d5c92c089d06b0": {
          "model_module": "@jupyter-widgets/controls",
          "model_name": "HTMLModel",
          "model_module_version": "1.5.0",
          "state": {
            "_dom_classes": [],
            "_model_module": "@jupyter-widgets/controls",
            "_model_module_version": "1.5.0",
            "_model_name": "HTMLModel",
            "_view_count": null,
            "_view_module": "@jupyter-widgets/controls",
            "_view_module_version": "1.5.0",
            "_view_name": "HTMLView",
            "description": "",
            "description_tooltip": null,
            "layout": "IPY_MODEL_63251cce84c8404484c6a275e191b717",
            "placeholder": "​",
            "style": "IPY_MODEL_78a5b9660ddc4153887fa2423db92027",
            "value": "Downloading: 100%"
          }
        },
        "4f85d2f88b9b44e8ad628759cbb9199d": {
          "model_module": "@jupyter-widgets/controls",
          "model_name": "FloatProgressModel",
          "model_module_version": "1.5.0",
          "state": {
            "_dom_classes": [],
            "_model_module": "@jupyter-widgets/controls",
            "_model_module_version": "1.5.0",
            "_model_name": "FloatProgressModel",
            "_view_count": null,
            "_view_module": "@jupyter-widgets/controls",
            "_view_module_version": "1.5.0",
            "_view_name": "ProgressView",
            "bar_style": "success",
            "description": "",
            "description_tooltip": null,
            "layout": "IPY_MODEL_84ef0381576242058da38ea70bb813cf",
            "max": 895321,
            "min": 0,
            "orientation": "horizontal",
            "style": "IPY_MODEL_100d38e117844d27a30e2af0ec587854",
            "value": 895321
          }
        },
        "f62859f8ef984be98c9ff192ed75254f": {
          "model_module": "@jupyter-widgets/controls",
          "model_name": "HTMLModel",
          "model_module_version": "1.5.0",
          "state": {
            "_dom_classes": [],
            "_model_module": "@jupyter-widgets/controls",
            "_model_module_version": "1.5.0",
            "_model_name": "HTMLModel",
            "_view_count": null,
            "_view_module": "@jupyter-widgets/controls",
            "_view_module_version": "1.5.0",
            "_view_name": "HTMLView",
            "description": "",
            "description_tooltip": null,
            "layout": "IPY_MODEL_85d188f2ec8345d386a4d001c4dae62a",
            "placeholder": "​",
            "style": "IPY_MODEL_0581d20a904441bcac9d1eb9f5552be7",
            "value": " 895k/895k [00:01&lt;00:00, 915kB/s]"
          }
        },
        "4c09aae0e1d34e13a40e0ed9a7c81467": {
          "model_module": "@jupyter-widgets/base",
          "model_name": "LayoutModel",
          "model_module_version": "1.2.0",
          "state": {
            "_model_module": "@jupyter-widgets/base",
            "_model_module_version": "1.2.0",
            "_model_name": "LayoutModel",
            "_view_count": null,
            "_view_module": "@jupyter-widgets/base",
            "_view_module_version": "1.2.0",
            "_view_name": "LayoutView",
            "align_content": null,
            "align_items": null,
            "align_self": null,
            "border": null,
            "bottom": null,
            "display": null,
            "flex": null,
            "flex_flow": null,
            "grid_area": null,
            "grid_auto_columns": null,
            "grid_auto_flow": null,
            "grid_auto_rows": null,
            "grid_column": null,
            "grid_gap": null,
            "grid_row": null,
            "grid_template_areas": null,
            "grid_template_columns": null,
            "grid_template_rows": null,
            "height": null,
            "justify_content": null,
            "justify_items": null,
            "left": null,
            "margin": null,
            "max_height": null,
            "max_width": null,
            "min_height": null,
            "min_width": null,
            "object_fit": null,
            "object_position": null,
            "order": null,
            "overflow": null,
            "overflow_x": null,
            "overflow_y": null,
            "padding": null,
            "right": null,
            "top": null,
            "visibility": null,
            "width": null
          }
        },
        "63251cce84c8404484c6a275e191b717": {
          "model_module": "@jupyter-widgets/base",
          "model_name": "LayoutModel",
          "model_module_version": "1.2.0",
          "state": {
            "_model_module": "@jupyter-widgets/base",
            "_model_module_version": "1.2.0",
            "_model_name": "LayoutModel",
            "_view_count": null,
            "_view_module": "@jupyter-widgets/base",
            "_view_module_version": "1.2.0",
            "_view_name": "LayoutView",
            "align_content": null,
            "align_items": null,
            "align_self": null,
            "border": null,
            "bottom": null,
            "display": null,
            "flex": null,
            "flex_flow": null,
            "grid_area": null,
            "grid_auto_columns": null,
            "grid_auto_flow": null,
            "grid_auto_rows": null,
            "grid_column": null,
            "grid_gap": null,
            "grid_row": null,
            "grid_template_areas": null,
            "grid_template_columns": null,
            "grid_template_rows": null,
            "height": null,
            "justify_content": null,
            "justify_items": null,
            "left": null,
            "margin": null,
            "max_height": null,
            "max_width": null,
            "min_height": null,
            "min_width": null,
            "object_fit": null,
            "object_position": null,
            "order": null,
            "overflow": null,
            "overflow_x": null,
            "overflow_y": null,
            "padding": null,
            "right": null,
            "top": null,
            "visibility": null,
            "width": null
          }
        },
        "78a5b9660ddc4153887fa2423db92027": {
          "model_module": "@jupyter-widgets/controls",
          "model_name": "DescriptionStyleModel",
          "model_module_version": "1.5.0",
          "state": {
            "_model_module": "@jupyter-widgets/controls",
            "_model_module_version": "1.5.0",
            "_model_name": "DescriptionStyleModel",
            "_view_count": null,
            "_view_module": "@jupyter-widgets/base",
            "_view_module_version": "1.2.0",
            "_view_name": "StyleView",
            "description_width": ""
          }
        },
        "84ef0381576242058da38ea70bb813cf": {
          "model_module": "@jupyter-widgets/base",
          "model_name": "LayoutModel",
          "model_module_version": "1.2.0",
          "state": {
            "_model_module": "@jupyter-widgets/base",
            "_model_module_version": "1.2.0",
            "_model_name": "LayoutModel",
            "_view_count": null,
            "_view_module": "@jupyter-widgets/base",
            "_view_module_version": "1.2.0",
            "_view_name": "LayoutView",
            "align_content": null,
            "align_items": null,
            "align_self": null,
            "border": null,
            "bottom": null,
            "display": null,
            "flex": null,
            "flex_flow": null,
            "grid_area": null,
            "grid_auto_columns": null,
            "grid_auto_flow": null,
            "grid_auto_rows": null,
            "grid_column": null,
            "grid_gap": null,
            "grid_row": null,
            "grid_template_areas": null,
            "grid_template_columns": null,
            "grid_template_rows": null,
            "height": null,
            "justify_content": null,
            "justify_items": null,
            "left": null,
            "margin": null,
            "max_height": null,
            "max_width": null,
            "min_height": null,
            "min_width": null,
            "object_fit": null,
            "object_position": null,
            "order": null,
            "overflow": null,
            "overflow_x": null,
            "overflow_y": null,
            "padding": null,
            "right": null,
            "top": null,
            "visibility": null,
            "width": null
          }
        },
        "100d38e117844d27a30e2af0ec587854": {
          "model_module": "@jupyter-widgets/controls",
          "model_name": "ProgressStyleModel",
          "model_module_version": "1.5.0",
          "state": {
            "_model_module": "@jupyter-widgets/controls",
            "_model_module_version": "1.5.0",
            "_model_name": "ProgressStyleModel",
            "_view_count": null,
            "_view_module": "@jupyter-widgets/base",
            "_view_module_version": "1.2.0",
            "_view_name": "StyleView",
            "bar_color": null,
            "description_width": ""
          }
        },
        "85d188f2ec8345d386a4d001c4dae62a": {
          "model_module": "@jupyter-widgets/base",
          "model_name": "LayoutModel",
          "model_module_version": "1.2.0",
          "state": {
            "_model_module": "@jupyter-widgets/base",
            "_model_module_version": "1.2.0",
            "_model_name": "LayoutModel",
            "_view_count": null,
            "_view_module": "@jupyter-widgets/base",
            "_view_module_version": "1.2.0",
            "_view_name": "LayoutView",
            "align_content": null,
            "align_items": null,
            "align_self": null,
            "border": null,
            "bottom": null,
            "display": null,
            "flex": null,
            "flex_flow": null,
            "grid_area": null,
            "grid_auto_columns": null,
            "grid_auto_flow": null,
            "grid_auto_rows": null,
            "grid_column": null,
            "grid_gap": null,
            "grid_row": null,
            "grid_template_areas": null,
            "grid_template_columns": null,
            "grid_template_rows": null,
            "height": null,
            "justify_content": null,
            "justify_items": null,
            "left": null,
            "margin": null,
            "max_height": null,
            "max_width": null,
            "min_height": null,
            "min_width": null,
            "object_fit": null,
            "object_position": null,
            "order": null,
            "overflow": null,
            "overflow_x": null,
            "overflow_y": null,
            "padding": null,
            "right": null,
            "top": null,
            "visibility": null,
            "width": null
          }
        },
        "0581d20a904441bcac9d1eb9f5552be7": {
          "model_module": "@jupyter-widgets/controls",
          "model_name": "DescriptionStyleModel",
          "model_module_version": "1.5.0",
          "state": {
            "_model_module": "@jupyter-widgets/controls",
            "_model_module_version": "1.5.0",
            "_model_name": "DescriptionStyleModel",
            "_view_count": null,
            "_view_module": "@jupyter-widgets/base",
            "_view_module_version": "1.2.0",
            "_view_name": "StyleView",
            "description_width": ""
          }
        },
        "9adc0d0cebc043c2a3e58bfea403ecd9": {
          "model_module": "@jupyter-widgets/controls",
          "model_name": "HBoxModel",
          "model_module_version": "1.5.0",
          "state": {
            "_dom_classes": [],
            "_model_module": "@jupyter-widgets/controls",
            "_model_module_version": "1.5.0",
            "_model_name": "HBoxModel",
            "_view_count": null,
            "_view_module": "@jupyter-widgets/controls",
            "_view_module_version": "1.5.0",
            "_view_name": "HBoxView",
            "box_style": "",
            "children": [
              "IPY_MODEL_78e9e34f757a48d7bad998dc62749a45",
              "IPY_MODEL_453062af2ce048d38e67184f04c4bcc2",
              "IPY_MODEL_86a4f3f7b6674e7893b8c4663a20a2c2"
            ],
            "layout": "IPY_MODEL_daf09442143a43a2ae3f1404a3f5b8dd"
          }
        },
        "78e9e34f757a48d7bad998dc62749a45": {
          "model_module": "@jupyter-widgets/controls",
          "model_name": "HTMLModel",
          "model_module_version": "1.5.0",
          "state": {
            "_dom_classes": [],
            "_model_module": "@jupyter-widgets/controls",
            "_model_module_version": "1.5.0",
            "_model_name": "HTMLModel",
            "_view_count": null,
            "_view_module": "@jupyter-widgets/controls",
            "_view_module_version": "1.5.0",
            "_view_name": "HTMLView",
            "description": "",
            "description_tooltip": null,
            "layout": "IPY_MODEL_fe2a028c002a435e91e8cd51d25e51d7",
            "placeholder": "​",
            "style": "IPY_MODEL_c15f6b3ccacb4f878ac65cb3fc8cfb88",
            "value": "Downloading: 100%"
          }
        },
        "453062af2ce048d38e67184f04c4bcc2": {
          "model_module": "@jupyter-widgets/controls",
          "model_name": "FloatProgressModel",
          "model_module_version": "1.5.0",
          "state": {
            "_dom_classes": [],
            "_model_module": "@jupyter-widgets/controls",
            "_model_module_version": "1.5.0",
            "_model_name": "FloatProgressModel",
            "_view_count": null,
            "_view_module": "@jupyter-widgets/controls",
            "_view_module_version": "1.5.0",
            "_view_name": "ProgressView",
            "bar_style": "success",
            "description": "",
            "description_tooltip": null,
            "layout": "IPY_MODEL_9350f7303a4a4148bc18db8025f29bba",
            "max": 1135173,
            "min": 0,
            "orientation": "horizontal",
            "style": "IPY_MODEL_51032e8e9c8448c2a46aa2efed267411",
            "value": 1135173
          }
        },
        "86a4f3f7b6674e7893b8c4663a20a2c2": {
          "model_module": "@jupyter-widgets/controls",
          "model_name": "HTMLModel",
          "model_module_version": "1.5.0",
          "state": {
            "_dom_classes": [],
            "_model_module": "@jupyter-widgets/controls",
            "_model_module_version": "1.5.0",
            "_model_name": "HTMLModel",
            "_view_count": null,
            "_view_module": "@jupyter-widgets/controls",
            "_view_module_version": "1.5.0",
            "_view_name": "HTMLView",
            "description": "",
            "description_tooltip": null,
            "layout": "IPY_MODEL_c64f46e2aaad4d008d2ea713d5035623",
            "placeholder": "​",
            "style": "IPY_MODEL_39debf6ab02744d9a404310552ab35e0",
            "value": " 1.14M/1.14M [00:01&lt;00:00, 678kB/s]"
          }
        },
        "daf09442143a43a2ae3f1404a3f5b8dd": {
          "model_module": "@jupyter-widgets/base",
          "model_name": "LayoutModel",
          "model_module_version": "1.2.0",
          "state": {
            "_model_module": "@jupyter-widgets/base",
            "_model_module_version": "1.2.0",
            "_model_name": "LayoutModel",
            "_view_count": null,
            "_view_module": "@jupyter-widgets/base",
            "_view_module_version": "1.2.0",
            "_view_name": "LayoutView",
            "align_content": null,
            "align_items": null,
            "align_self": null,
            "border": null,
            "bottom": null,
            "display": null,
            "flex": null,
            "flex_flow": null,
            "grid_area": null,
            "grid_auto_columns": null,
            "grid_auto_flow": null,
            "grid_auto_rows": null,
            "grid_column": null,
            "grid_gap": null,
            "grid_row": null,
            "grid_template_areas": null,
            "grid_template_columns": null,
            "grid_template_rows": null,
            "height": null,
            "justify_content": null,
            "justify_items": null,
            "left": null,
            "margin": null,
            "max_height": null,
            "max_width": null,
            "min_height": null,
            "min_width": null,
            "object_fit": null,
            "object_position": null,
            "order": null,
            "overflow": null,
            "overflow_x": null,
            "overflow_y": null,
            "padding": null,
            "right": null,
            "top": null,
            "visibility": null,
            "width": null
          }
        },
        "fe2a028c002a435e91e8cd51d25e51d7": {
          "model_module": "@jupyter-widgets/base",
          "model_name": "LayoutModel",
          "model_module_version": "1.2.0",
          "state": {
            "_model_module": "@jupyter-widgets/base",
            "_model_module_version": "1.2.0",
            "_model_name": "LayoutModel",
            "_view_count": null,
            "_view_module": "@jupyter-widgets/base",
            "_view_module_version": "1.2.0",
            "_view_name": "LayoutView",
            "align_content": null,
            "align_items": null,
            "align_self": null,
            "border": null,
            "bottom": null,
            "display": null,
            "flex": null,
            "flex_flow": null,
            "grid_area": null,
            "grid_auto_columns": null,
            "grid_auto_flow": null,
            "grid_auto_rows": null,
            "grid_column": null,
            "grid_gap": null,
            "grid_row": null,
            "grid_template_areas": null,
            "grid_template_columns": null,
            "grid_template_rows": null,
            "height": null,
            "justify_content": null,
            "justify_items": null,
            "left": null,
            "margin": null,
            "max_height": null,
            "max_width": null,
            "min_height": null,
            "min_width": null,
            "object_fit": null,
            "object_position": null,
            "order": null,
            "overflow": null,
            "overflow_x": null,
            "overflow_y": null,
            "padding": null,
            "right": null,
            "top": null,
            "visibility": null,
            "width": null
          }
        },
        "c15f6b3ccacb4f878ac65cb3fc8cfb88": {
          "model_module": "@jupyter-widgets/controls",
          "model_name": "DescriptionStyleModel",
          "model_module_version": "1.5.0",
          "state": {
            "_model_module": "@jupyter-widgets/controls",
            "_model_module_version": "1.5.0",
            "_model_name": "DescriptionStyleModel",
            "_view_count": null,
            "_view_module": "@jupyter-widgets/base",
            "_view_module_version": "1.2.0",
            "_view_name": "StyleView",
            "description_width": ""
          }
        },
        "9350f7303a4a4148bc18db8025f29bba": {
          "model_module": "@jupyter-widgets/base",
          "model_name": "LayoutModel",
          "model_module_version": "1.2.0",
          "state": {
            "_model_module": "@jupyter-widgets/base",
            "_model_module_version": "1.2.0",
            "_model_name": "LayoutModel",
            "_view_count": null,
            "_view_module": "@jupyter-widgets/base",
            "_view_module_version": "1.2.0",
            "_view_name": "LayoutView",
            "align_content": null,
            "align_items": null,
            "align_self": null,
            "border": null,
            "bottom": null,
            "display": null,
            "flex": null,
            "flex_flow": null,
            "grid_area": null,
            "grid_auto_columns": null,
            "grid_auto_flow": null,
            "grid_auto_rows": null,
            "grid_column": null,
            "grid_gap": null,
            "grid_row": null,
            "grid_template_areas": null,
            "grid_template_columns": null,
            "grid_template_rows": null,
            "height": null,
            "justify_content": null,
            "justify_items": null,
            "left": null,
            "margin": null,
            "max_height": null,
            "max_width": null,
            "min_height": null,
            "min_width": null,
            "object_fit": null,
            "object_position": null,
            "order": null,
            "overflow": null,
            "overflow_x": null,
            "overflow_y": null,
            "padding": null,
            "right": null,
            "top": null,
            "visibility": null,
            "width": null
          }
        },
        "51032e8e9c8448c2a46aa2efed267411": {
          "model_module": "@jupyter-widgets/controls",
          "model_name": "ProgressStyleModel",
          "model_module_version": "1.5.0",
          "state": {
            "_model_module": "@jupyter-widgets/controls",
            "_model_module_version": "1.5.0",
            "_model_name": "ProgressStyleModel",
            "_view_count": null,
            "_view_module": "@jupyter-widgets/base",
            "_view_module_version": "1.2.0",
            "_view_name": "StyleView",
            "bar_color": null,
            "description_width": ""
          }
        },
        "c64f46e2aaad4d008d2ea713d5035623": {
          "model_module": "@jupyter-widgets/base",
          "model_name": "LayoutModel",
          "model_module_version": "1.2.0",
          "state": {
            "_model_module": "@jupyter-widgets/base",
            "_model_module_version": "1.2.0",
            "_model_name": "LayoutModel",
            "_view_count": null,
            "_view_module": "@jupyter-widgets/base",
            "_view_module_version": "1.2.0",
            "_view_name": "LayoutView",
            "align_content": null,
            "align_items": null,
            "align_self": null,
            "border": null,
            "bottom": null,
            "display": null,
            "flex": null,
            "flex_flow": null,
            "grid_area": null,
            "grid_auto_columns": null,
            "grid_auto_flow": null,
            "grid_auto_rows": null,
            "grid_column": null,
            "grid_gap": null,
            "grid_row": null,
            "grid_template_areas": null,
            "grid_template_columns": null,
            "grid_template_rows": null,
            "height": null,
            "justify_content": null,
            "justify_items": null,
            "left": null,
            "margin": null,
            "max_height": null,
            "max_width": null,
            "min_height": null,
            "min_width": null,
            "object_fit": null,
            "object_position": null,
            "order": null,
            "overflow": null,
            "overflow_x": null,
            "overflow_y": null,
            "padding": null,
            "right": null,
            "top": null,
            "visibility": null,
            "width": null
          }
        },
        "39debf6ab02744d9a404310552ab35e0": {
          "model_module": "@jupyter-widgets/controls",
          "model_name": "DescriptionStyleModel",
          "model_module_version": "1.5.0",
          "state": {
            "_model_module": "@jupyter-widgets/controls",
            "_model_module_version": "1.5.0",
            "_model_name": "DescriptionStyleModel",
            "_view_count": null,
            "_view_module": "@jupyter-widgets/base",
            "_view_module_version": "1.2.0",
            "_view_name": "StyleView",
            "description_width": ""
          }
        },
        "16784253c5b349bb8e7e240b4f0634b2": {
          "model_module": "@jupyter-widgets/controls",
          "model_name": "HBoxModel",
          "model_module_version": "1.5.0",
          "state": {
            "_dom_classes": [],
            "_model_module": "@jupyter-widgets/controls",
            "_model_module_version": "1.5.0",
            "_model_name": "HBoxModel",
            "_view_count": null,
            "_view_module": "@jupyter-widgets/controls",
            "_view_module_version": "1.5.0",
            "_view_name": "HBoxView",
            "box_style": "",
            "children": [
              "IPY_MODEL_a7f0a0ede138407294672849e26cf632",
              "IPY_MODEL_31a440f3d3a842b1919cb327d69ce9d4",
              "IPY_MODEL_9a4666a431f84232b5013f97a623e5e7"
            ],
            "layout": "IPY_MODEL_f32b80ca568a452ba01e503c4247ee27"
          }
        },
        "a7f0a0ede138407294672849e26cf632": {
          "model_module": "@jupyter-widgets/controls",
          "model_name": "HTMLModel",
          "model_module_version": "1.5.0",
          "state": {
            "_dom_classes": [],
            "_model_module": "@jupyter-widgets/controls",
            "_model_module_version": "1.5.0",
            "_model_name": "HTMLModel",
            "_view_count": null,
            "_view_module": "@jupyter-widgets/controls",
            "_view_module_version": "1.5.0",
            "_view_name": "HTMLView",
            "description": "",
            "description_tooltip": null,
            "layout": "IPY_MODEL_abcaaf4d0e204b118c294fab25036494",
            "placeholder": "​",
            "style": "IPY_MODEL_26463b2afdec4955b397baf1918e8daa",
            "value": "Downloading: 100%"
          }
        },
        "31a440f3d3a842b1919cb327d69ce9d4": {
          "model_module": "@jupyter-widgets/controls",
          "model_name": "FloatProgressModel",
          "model_module_version": "1.5.0",
          "state": {
            "_dom_classes": [],
            "_model_module": "@jupyter-widgets/controls",
            "_model_module_version": "1.5.0",
            "_model_name": "FloatProgressModel",
            "_view_count": null,
            "_view_module": "@jupyter-widgets/controls",
            "_view_module_version": "1.5.0",
            "_view_name": "ProgressView",
            "bar_style": "success",
            "description": "",
            "description_tooltip": null,
            "layout": "IPY_MODEL_80dc47829c3a4ac69dcde904ada003bd",
            "max": 3132320,
            "min": 0,
            "orientation": "horizontal",
            "style": "IPY_MODEL_98b625466fad43b8bb89c64538f891a9",
            "value": 3132320
          }
        },
        "9a4666a431f84232b5013f97a623e5e7": {
          "model_module": "@jupyter-widgets/controls",
          "model_name": "HTMLModel",
          "model_module_version": "1.5.0",
          "state": {
            "_dom_classes": [],
            "_model_module": "@jupyter-widgets/controls",
            "_model_module_version": "1.5.0",
            "_model_name": "HTMLModel",
            "_view_count": null,
            "_view_module": "@jupyter-widgets/controls",
            "_view_module_version": "1.5.0",
            "_view_name": "HTMLView",
            "description": "",
            "description_tooltip": null,
            "layout": "IPY_MODEL_9d1e71bbe53c4869a46b529600531d51",
            "placeholder": "​",
            "style": "IPY_MODEL_17602fd97ad3401e8ec87a8e64a43102",
            "value": " 3.13M/3.13M [00:01&lt;00:00, 2.74MB/s]"
          }
        },
        "f32b80ca568a452ba01e503c4247ee27": {
          "model_module": "@jupyter-widgets/base",
          "model_name": "LayoutModel",
          "model_module_version": "1.2.0",
          "state": {
            "_model_module": "@jupyter-widgets/base",
            "_model_module_version": "1.2.0",
            "_model_name": "LayoutModel",
            "_view_count": null,
            "_view_module": "@jupyter-widgets/base",
            "_view_module_version": "1.2.0",
            "_view_name": "LayoutView",
            "align_content": null,
            "align_items": null,
            "align_self": null,
            "border": null,
            "bottom": null,
            "display": null,
            "flex": null,
            "flex_flow": null,
            "grid_area": null,
            "grid_auto_columns": null,
            "grid_auto_flow": null,
            "grid_auto_rows": null,
            "grid_column": null,
            "grid_gap": null,
            "grid_row": null,
            "grid_template_areas": null,
            "grid_template_columns": null,
            "grid_template_rows": null,
            "height": null,
            "justify_content": null,
            "justify_items": null,
            "left": null,
            "margin": null,
            "max_height": null,
            "max_width": null,
            "min_height": null,
            "min_width": null,
            "object_fit": null,
            "object_position": null,
            "order": null,
            "overflow": null,
            "overflow_x": null,
            "overflow_y": null,
            "padding": null,
            "right": null,
            "top": null,
            "visibility": null,
            "width": null
          }
        },
        "abcaaf4d0e204b118c294fab25036494": {
          "model_module": "@jupyter-widgets/base",
          "model_name": "LayoutModel",
          "model_module_version": "1.2.0",
          "state": {
            "_model_module": "@jupyter-widgets/base",
            "_model_module_version": "1.2.0",
            "_model_name": "LayoutModel",
            "_view_count": null,
            "_view_module": "@jupyter-widgets/base",
            "_view_module_version": "1.2.0",
            "_view_name": "LayoutView",
            "align_content": null,
            "align_items": null,
            "align_self": null,
            "border": null,
            "bottom": null,
            "display": null,
            "flex": null,
            "flex_flow": null,
            "grid_area": null,
            "grid_auto_columns": null,
            "grid_auto_flow": null,
            "grid_auto_rows": null,
            "grid_column": null,
            "grid_gap": null,
            "grid_row": null,
            "grid_template_areas": null,
            "grid_template_columns": null,
            "grid_template_rows": null,
            "height": null,
            "justify_content": null,
            "justify_items": null,
            "left": null,
            "margin": null,
            "max_height": null,
            "max_width": null,
            "min_height": null,
            "min_width": null,
            "object_fit": null,
            "object_position": null,
            "order": null,
            "overflow": null,
            "overflow_x": null,
            "overflow_y": null,
            "padding": null,
            "right": null,
            "top": null,
            "visibility": null,
            "width": null
          }
        },
        "26463b2afdec4955b397baf1918e8daa": {
          "model_module": "@jupyter-widgets/controls",
          "model_name": "DescriptionStyleModel",
          "model_module_version": "1.5.0",
          "state": {
            "_model_module": "@jupyter-widgets/controls",
            "_model_module_version": "1.5.0",
            "_model_name": "DescriptionStyleModel",
            "_view_count": null,
            "_view_module": "@jupyter-widgets/base",
            "_view_module_version": "1.2.0",
            "_view_name": "StyleView",
            "description_width": ""
          }
        },
        "80dc47829c3a4ac69dcde904ada003bd": {
          "model_module": "@jupyter-widgets/base",
          "model_name": "LayoutModel",
          "model_module_version": "1.2.0",
          "state": {
            "_model_module": "@jupyter-widgets/base",
            "_model_module_version": "1.2.0",
            "_model_name": "LayoutModel",
            "_view_count": null,
            "_view_module": "@jupyter-widgets/base",
            "_view_module_version": "1.2.0",
            "_view_name": "LayoutView",
            "align_content": null,
            "align_items": null,
            "align_self": null,
            "border": null,
            "bottom": null,
            "display": null,
            "flex": null,
            "flex_flow": null,
            "grid_area": null,
            "grid_auto_columns": null,
            "grid_auto_flow": null,
            "grid_auto_rows": null,
            "grid_column": null,
            "grid_gap": null,
            "grid_row": null,
            "grid_template_areas": null,
            "grid_template_columns": null,
            "grid_template_rows": null,
            "height": null,
            "justify_content": null,
            "justify_items": null,
            "left": null,
            "margin": null,
            "max_height": null,
            "max_width": null,
            "min_height": null,
            "min_width": null,
            "object_fit": null,
            "object_position": null,
            "order": null,
            "overflow": null,
            "overflow_x": null,
            "overflow_y": null,
            "padding": null,
            "right": null,
            "top": null,
            "visibility": null,
            "width": null
          }
        },
        "98b625466fad43b8bb89c64538f891a9": {
          "model_module": "@jupyter-widgets/controls",
          "model_name": "ProgressStyleModel",
          "model_module_version": "1.5.0",
          "state": {
            "_model_module": "@jupyter-widgets/controls",
            "_model_module_version": "1.5.0",
            "_model_name": "ProgressStyleModel",
            "_view_count": null,
            "_view_module": "@jupyter-widgets/base",
            "_view_module_version": "1.2.0",
            "_view_name": "StyleView",
            "bar_color": null,
            "description_width": ""
          }
        },
        "9d1e71bbe53c4869a46b529600531d51": {
          "model_module": "@jupyter-widgets/base",
          "model_name": "LayoutModel",
          "model_module_version": "1.2.0",
          "state": {
            "_model_module": "@jupyter-widgets/base",
            "_model_module_version": "1.2.0",
            "_model_name": "LayoutModel",
            "_view_count": null,
            "_view_module": "@jupyter-widgets/base",
            "_view_module_version": "1.2.0",
            "_view_name": "LayoutView",
            "align_content": null,
            "align_items": null,
            "align_self": null,
            "border": null,
            "bottom": null,
            "display": null,
            "flex": null,
            "flex_flow": null,
            "grid_area": null,
            "grid_auto_columns": null,
            "grid_auto_flow": null,
            "grid_auto_rows": null,
            "grid_column": null,
            "grid_gap": null,
            "grid_row": null,
            "grid_template_areas": null,
            "grid_template_columns": null,
            "grid_template_rows": null,
            "height": null,
            "justify_content": null,
            "justify_items": null,
            "left": null,
            "margin": null,
            "max_height": null,
            "max_width": null,
            "min_height": null,
            "min_width": null,
            "object_fit": null,
            "object_position": null,
            "order": null,
            "overflow": null,
            "overflow_x": null,
            "overflow_y": null,
            "padding": null,
            "right": null,
            "top": null,
            "visibility": null,
            "width": null
          }
        },
        "17602fd97ad3401e8ec87a8e64a43102": {
          "model_module": "@jupyter-widgets/controls",
          "model_name": "DescriptionStyleModel",
          "model_module_version": "1.5.0",
          "state": {
            "_model_module": "@jupyter-widgets/controls",
            "_model_module_version": "1.5.0",
            "_model_name": "DescriptionStyleModel",
            "_view_count": null,
            "_view_module": "@jupyter-widgets/base",
            "_view_module_version": "1.2.0",
            "_view_name": "StyleView",
            "description_width": ""
          }
        },
        "c4e9756d6cc44487adaac9d13903d3d2": {
          "model_module": "@jupyter-widgets/controls",
          "model_name": "HBoxModel",
          "model_module_version": "1.5.0",
          "state": {
            "_dom_classes": [],
            "_model_module": "@jupyter-widgets/controls",
            "_model_module_version": "1.5.0",
            "_model_name": "HBoxModel",
            "_view_count": null,
            "_view_module": "@jupyter-widgets/controls",
            "_view_module_version": "1.5.0",
            "_view_name": "HBoxView",
            "box_style": "",
            "children": [
              "IPY_MODEL_78136045ce9940349f5d2bfc31fc8649",
              "IPY_MODEL_47026b3ba3a2462c8fa697424a9bcb0f",
              "IPY_MODEL_1c2c2db50c354154b872960989f07371"
            ],
            "layout": "IPY_MODEL_7afd4fb6f69a4796b889518f82277883"
          }
        },
        "78136045ce9940349f5d2bfc31fc8649": {
          "model_module": "@jupyter-widgets/controls",
          "model_name": "HTMLModel",
          "model_module_version": "1.5.0",
          "state": {
            "_dom_classes": [],
            "_model_module": "@jupyter-widgets/controls",
            "_model_module_version": "1.5.0",
            "_model_name": "HTMLModel",
            "_view_count": null,
            "_view_module": "@jupyter-widgets/controls",
            "_view_module_version": "1.5.0",
            "_view_name": "HTMLView",
            "description": "",
            "description_tooltip": null,
            "layout": "IPY_MODEL_4a317df1865f47f0bb66dd77bd46dc0f",
            "placeholder": "​",
            "style": "IPY_MODEL_2fd9ffc83b9f4dab8ffa0da5a6c7ae78",
            "value": "Downloading: 100%"
          }
        },
        "47026b3ba3a2462c8fa697424a9bcb0f": {
          "model_module": "@jupyter-widgets/controls",
          "model_name": "FloatProgressModel",
          "model_module_version": "1.5.0",
          "state": {
            "_dom_classes": [],
            "_model_module": "@jupyter-widgets/controls",
            "_model_module_version": "1.5.0",
            "_model_name": "FloatProgressModel",
            "_view_count": null,
            "_view_module": "@jupyter-widgets/controls",
            "_view_module_version": "1.5.0",
            "_view_name": "ProgressView",
            "bar_style": "success",
            "description": "",
            "description_tooltip": null,
            "layout": "IPY_MODEL_9fbbaa287d1b41d38eb9dabe1d211436",
            "max": 542923308,
            "min": 0,
            "orientation": "horizontal",
            "style": "IPY_MODEL_7b8adcd19fa2436d8391e5e8160aa582",
            "value": 542923308
          }
        },
        "1c2c2db50c354154b872960989f07371": {
          "model_module": "@jupyter-widgets/controls",
          "model_name": "HTMLModel",
          "model_module_version": "1.5.0",
          "state": {
            "_dom_classes": [],
            "_model_module": "@jupyter-widgets/controls",
            "_model_module_version": "1.5.0",
            "_model_name": "HTMLModel",
            "_view_count": null,
            "_view_module": "@jupyter-widgets/controls",
            "_view_module_version": "1.5.0",
            "_view_name": "HTMLView",
            "description": "",
            "description_tooltip": null,
            "layout": "IPY_MODEL_a946fe259ff44d73b6bfb9fb453883ea",
            "placeholder": "​",
            "style": "IPY_MODEL_4282985da6624e2396b7d34cd3ec2d62",
            "value": " 543M/543M [00:08&lt;00:00, 73.7MB/s]"
          }
        },
        "7afd4fb6f69a4796b889518f82277883": {
          "model_module": "@jupyter-widgets/base",
          "model_name": "LayoutModel",
          "model_module_version": "1.2.0",
          "state": {
            "_model_module": "@jupyter-widgets/base",
            "_model_module_version": "1.2.0",
            "_model_name": "LayoutModel",
            "_view_count": null,
            "_view_module": "@jupyter-widgets/base",
            "_view_module_version": "1.2.0",
            "_view_name": "LayoutView",
            "align_content": null,
            "align_items": null,
            "align_self": null,
            "border": null,
            "bottom": null,
            "display": null,
            "flex": null,
            "flex_flow": null,
            "grid_area": null,
            "grid_auto_columns": null,
            "grid_auto_flow": null,
            "grid_auto_rows": null,
            "grid_column": null,
            "grid_gap": null,
            "grid_row": null,
            "grid_template_areas": null,
            "grid_template_columns": null,
            "grid_template_rows": null,
            "height": null,
            "justify_content": null,
            "justify_items": null,
            "left": null,
            "margin": null,
            "max_height": null,
            "max_width": null,
            "min_height": null,
            "min_width": null,
            "object_fit": null,
            "object_position": null,
            "order": null,
            "overflow": null,
            "overflow_x": null,
            "overflow_y": null,
            "padding": null,
            "right": null,
            "top": null,
            "visibility": null,
            "width": null
          }
        },
        "4a317df1865f47f0bb66dd77bd46dc0f": {
          "model_module": "@jupyter-widgets/base",
          "model_name": "LayoutModel",
          "model_module_version": "1.2.0",
          "state": {
            "_model_module": "@jupyter-widgets/base",
            "_model_module_version": "1.2.0",
            "_model_name": "LayoutModel",
            "_view_count": null,
            "_view_module": "@jupyter-widgets/base",
            "_view_module_version": "1.2.0",
            "_view_name": "LayoutView",
            "align_content": null,
            "align_items": null,
            "align_self": null,
            "border": null,
            "bottom": null,
            "display": null,
            "flex": null,
            "flex_flow": null,
            "grid_area": null,
            "grid_auto_columns": null,
            "grid_auto_flow": null,
            "grid_auto_rows": null,
            "grid_column": null,
            "grid_gap": null,
            "grid_row": null,
            "grid_template_areas": null,
            "grid_template_columns": null,
            "grid_template_rows": null,
            "height": null,
            "justify_content": null,
            "justify_items": null,
            "left": null,
            "margin": null,
            "max_height": null,
            "max_width": null,
            "min_height": null,
            "min_width": null,
            "object_fit": null,
            "object_position": null,
            "order": null,
            "overflow": null,
            "overflow_x": null,
            "overflow_y": null,
            "padding": null,
            "right": null,
            "top": null,
            "visibility": null,
            "width": null
          }
        },
        "2fd9ffc83b9f4dab8ffa0da5a6c7ae78": {
          "model_module": "@jupyter-widgets/controls",
          "model_name": "DescriptionStyleModel",
          "model_module_version": "1.5.0",
          "state": {
            "_model_module": "@jupyter-widgets/controls",
            "_model_module_version": "1.5.0",
            "_model_name": "DescriptionStyleModel",
            "_view_count": null,
            "_view_module": "@jupyter-widgets/base",
            "_view_module_version": "1.2.0",
            "_view_name": "StyleView",
            "description_width": ""
          }
        },
        "9fbbaa287d1b41d38eb9dabe1d211436": {
          "model_module": "@jupyter-widgets/base",
          "model_name": "LayoutModel",
          "model_module_version": "1.2.0",
          "state": {
            "_model_module": "@jupyter-widgets/base",
            "_model_module_version": "1.2.0",
            "_model_name": "LayoutModel",
            "_view_count": null,
            "_view_module": "@jupyter-widgets/base",
            "_view_module_version": "1.2.0",
            "_view_name": "LayoutView",
            "align_content": null,
            "align_items": null,
            "align_self": null,
            "border": null,
            "bottom": null,
            "display": null,
            "flex": null,
            "flex_flow": null,
            "grid_area": null,
            "grid_auto_columns": null,
            "grid_auto_flow": null,
            "grid_auto_rows": null,
            "grid_column": null,
            "grid_gap": null,
            "grid_row": null,
            "grid_template_areas": null,
            "grid_template_columns": null,
            "grid_template_rows": null,
            "height": null,
            "justify_content": null,
            "justify_items": null,
            "left": null,
            "margin": null,
            "max_height": null,
            "max_width": null,
            "min_height": null,
            "min_width": null,
            "object_fit": null,
            "object_position": null,
            "order": null,
            "overflow": null,
            "overflow_x": null,
            "overflow_y": null,
            "padding": null,
            "right": null,
            "top": null,
            "visibility": null,
            "width": null
          }
        },
        "7b8adcd19fa2436d8391e5e8160aa582": {
          "model_module": "@jupyter-widgets/controls",
          "model_name": "ProgressStyleModel",
          "model_module_version": "1.5.0",
          "state": {
            "_model_module": "@jupyter-widgets/controls",
            "_model_module_version": "1.5.0",
            "_model_name": "ProgressStyleModel",
            "_view_count": null,
            "_view_module": "@jupyter-widgets/base",
            "_view_module_version": "1.2.0",
            "_view_name": "StyleView",
            "bar_color": null,
            "description_width": ""
          }
        },
        "a946fe259ff44d73b6bfb9fb453883ea": {
          "model_module": "@jupyter-widgets/base",
          "model_name": "LayoutModel",
          "model_module_version": "1.2.0",
          "state": {
            "_model_module": "@jupyter-widgets/base",
            "_model_module_version": "1.2.0",
            "_model_name": "LayoutModel",
            "_view_count": null,
            "_view_module": "@jupyter-widgets/base",
            "_view_module_version": "1.2.0",
            "_view_name": "LayoutView",
            "align_content": null,
            "align_items": null,
            "align_self": null,
            "border": null,
            "bottom": null,
            "display": null,
            "flex": null,
            "flex_flow": null,
            "grid_area": null,
            "grid_auto_columns": null,
            "grid_auto_flow": null,
            "grid_auto_rows": null,
            "grid_column": null,
            "grid_gap": null,
            "grid_row": null,
            "grid_template_areas": null,
            "grid_template_columns": null,
            "grid_template_rows": null,
            "height": null,
            "justify_content": null,
            "justify_items": null,
            "left": null,
            "margin": null,
            "max_height": null,
            "max_width": null,
            "min_height": null,
            "min_width": null,
            "object_fit": null,
            "object_position": null,
            "order": null,
            "overflow": null,
            "overflow_x": null,
            "overflow_y": null,
            "padding": null,
            "right": null,
            "top": null,
            "visibility": null,
            "width": null
          }
        },
        "4282985da6624e2396b7d34cd3ec2d62": {
          "model_module": "@jupyter-widgets/controls",
          "model_name": "DescriptionStyleModel",
          "model_module_version": "1.5.0",
          "state": {
            "_model_module": "@jupyter-widgets/controls",
            "_model_module_version": "1.5.0",
            "_model_name": "DescriptionStyleModel",
            "_view_count": null,
            "_view_module": "@jupyter-widgets/base",
            "_view_module_version": "1.2.0",
            "_view_name": "StyleView",
            "description_width": ""
          }
        }
      }
    }
  },
  "nbformat": 4,
  "nbformat_minor": 0
}